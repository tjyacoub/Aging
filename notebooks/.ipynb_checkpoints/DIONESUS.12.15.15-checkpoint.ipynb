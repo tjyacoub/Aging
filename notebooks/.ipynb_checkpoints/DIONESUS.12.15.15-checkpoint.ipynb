{
 "cells": [
  {
   "cell_type": "code",
   "execution_count": 1,
   "metadata": {
    "collapsed": true
   },
   "outputs": [],
   "source": [
    "%matplotlib inline"
   ]
  },
  {
   "cell_type": "code",
   "execution_count": 2,
   "metadata": {
    "collapsed": true
   },
   "outputs": [],
   "source": [
    "import pandas as pd\n",
    "from sklearn.cross_decomposition import PLSRegression"
   ]
  },
  {
   "cell_type": "code",
   "execution_count": 3,
   "metadata": {
    "collapsed": true
   },
   "outputs": [],
   "source": [
    "?PLSRegression"
   ]
  },
  {
   "cell_type": "code",
   "execution_count": 4,
   "metadata": {
    "collapsed": true
   },
   "outputs": [],
   "source": [
    "import csv\n",
    "import matplotlib.pyplot as plt"
   ]
  },
  {
   "cell_type": "code",
   "execution_count": 5,
   "metadata": {
    "collapsed": true
   },
   "outputs": [],
   "source": [
    "from scipy import stats\n",
    "from sklearn import linear_model\n",
    "import random\n",
    "from random import shuffle"
   ]
  },
  {
   "cell_type": "code",
   "execution_count": 6,
   "metadata": {
    "collapsed": true
   },
   "outputs": [],
   "source": [
    "import math\n",
    "import numpy as np"
   ]
  },
  {
   "cell_type": "code",
   "execution_count": 7,
   "metadata": {
    "collapsed": false
   },
   "outputs": [],
   "source": [
    "df_ON_OF = pd.read_csv(\"ON_OF.txt\", sep='\\t')"
   ]
  },
  {
   "cell_type": "code",
   "execution_count": 8,
   "metadata": {
    "collapsed": true
   },
   "outputs": [],
   "source": [
    "df_YN_ON = pd.read_csv(\"YN_ON.txt\", sep='\\t')"
   ]
  },
  {
   "cell_type": "code",
   "execution_count": 9,
   "metadata": {
    "collapsed": true
   },
   "outputs": [],
   "source": [
    "df_YF_OF = pd.read_csv(\"YF_OF.txt\", sep='\\t')"
   ]
  },
  {
   "cell_type": "code",
   "execution_count": 10,
   "metadata": {
    "collapsed": true
   },
   "outputs": [],
   "source": [
    "df_YN_YF = pd.read_csv(\"YN_YF.txt\", sep='\\t')"
   ]
  },
  {
   "cell_type": "code",
   "execution_count": 11,
   "metadata": {
    "collapsed": true
   },
   "outputs": [],
   "source": [
    "df_ON = df_ON_OF[[19,4,6,7,8,9]];"
   ]
  },
  {
   "cell_type": "code",
   "execution_count": 12,
   "metadata": {
    "collapsed": true
   },
   "outputs": [],
   "source": [
    "df_OF = df_ON_OF[[19,4,10,11,12,13]]"
   ]
  },
  {
   "cell_type": "code",
   "execution_count": 13,
   "metadata": {
    "collapsed": true
   },
   "outputs": [],
   "source": [
    "df_YN = df_YN_ON[[19,4,6,7,8,9]]"
   ]
  },
  {
   "cell_type": "code",
   "execution_count": 14,
   "metadata": {
    "collapsed": true
   },
   "outputs": [],
   "source": [
    "df_YF = df_YN_YF[[19,4,10,11,12,13]]"
   ]
  },
  {
   "cell_type": "code",
   "execution_count": 15,
   "metadata": {
    "collapsed": true
   },
   "outputs": [],
   "source": [
    "def drop_dup(d):\n",
    "    d = d.drop_duplicates(subset='gene', keep='first')\n",
    "    return d\n",
    "\n",
    "def merge(d1, d2):\n",
    "    return pd.merge(d1, d2, how='outer', on=['gene','width'])\n",
    "\n",
    "def merge2(d1, d2):\n",
    "    return pd.merge(d1, d2, how='outer', on='gene')"
   ]
  },
  {
   "cell_type": "code",
   "execution_count": 16,
   "metadata": {
    "collapsed": false
   },
   "outputs": [],
   "source": [
    "dft = merge(df_ON, df_OF)"
   ]
  },
  {
   "cell_type": "code",
   "execution_count": 17,
   "metadata": {
    "collapsed": false
   },
   "outputs": [],
   "source": [
    "dft = merge(dft, df_YN)"
   ]
  },
  {
   "cell_type": "code",
   "execution_count": 18,
   "metadata": {
    "collapsed": false
   },
   "outputs": [],
   "source": [
    "dft = merge(dft, df_YF)"
   ]
  },
  {
   "cell_type": "code",
   "execution_count": 19,
   "metadata": {
    "collapsed": false
   },
   "outputs": [],
   "source": [
    "dft = drop_dup(dft)"
   ]
  },
  {
   "cell_type": "code",
   "execution_count": 20,
   "metadata": {
    "collapsed": true
   },
   "outputs": [],
   "source": [
    "dft.dropna(thresh=(2), axis=0);"
   ]
  },
  {
   "cell_type": "code",
   "execution_count": 21,
   "metadata": {
    "collapsed": true
   },
   "outputs": [],
   "source": [
    "dft = dft[pd.notnull(dft).all(axis=1)]"
   ]
  },
  {
   "cell_type": "code",
   "execution_count": 22,
   "metadata": {
    "collapsed": true
   },
   "outputs": [],
   "source": [
    "df = dft"
   ]
  },
  {
   "cell_type": "code",
   "execution_count": 23,
   "metadata": {
    "collapsed": true
   },
   "outputs": [],
   "source": [
    "state_dict = {'AT2.young.flu.20150416': 'YF', 'AT2.old.naive.20150416': 'ON', \n",
    "                 'AT2.old.flu.20150416': 'OF', 'AT2.young.naive.20150416': 'YN'}"
   ]
  },
  {
   "cell_type": "code",
   "execution_count": 24,
   "metadata": {
    "collapsed": false
   },
   "outputs": [],
   "source": [
    "def rename_cols(df, state_dict):\n",
    "    cols = df.columns\n",
    "    temp_cols = list(cols)\n",
    "    #print temp_cols\n",
    "    for c in range(len(cols)):\n",
    "        state_name = cols[c][:-2]\n",
    "        #sample_num = cols[c][-2:]\n",
    "        total_name = cols[c]\n",
    "        #print state_name\n",
    "        if state_name in state_dict:\n",
    "            new_state_name = state_dict[state_name]\n",
    "            new_col = total_name.replace(state_name, new_state_name)\n",
    "            temp_cols[c] = new_col\n",
    "            #print abb_pair_dict[state_name]\n",
    "    df.columns = temp_cols\n",
    "    #print temp_cols\n",
    "    return df\n",
    "        \n",
    "    "
   ]
  },
  {
   "cell_type": "code",
   "execution_count": 25,
   "metadata": {
    "collapsed": false
   },
   "outputs": [],
   "source": [
    "df = rename_cols(df, state_dict)"
   ]
  },
  {
   "cell_type": "code",
   "execution_count": 26,
   "metadata": {
    "collapsed": false
   },
   "outputs": [
    {
     "data": {
      "text/plain": [
       "14285"
      ]
     },
     "execution_count": 26,
     "metadata": {},
     "output_type": "execute_result"
    }
   ],
   "source": [
    "len(df)"
   ]
  },
  {
   "cell_type": "code",
   "execution_count": 27,
   "metadata": {
    "collapsed": false
   },
   "outputs": [],
   "source": [
    "def df_to_names(df):\n",
    "    \n",
    "    name_dict = {}\n",
    "        \n",
    "    for i in range(2,len(df.columns)):\n",
    "        name = df.columns[i][:-2]\n",
    "        if name in name_dict:\n",
    "            name_dict[name].append(i)\n",
    "        else:\n",
    "            name_dict[name] = [i]\n",
    "            \n",
    "    return name_dict"
   ]
  },
  {
   "cell_type": "code",
   "execution_count": 28,
   "metadata": {
    "collapsed": false
   },
   "outputs": [],
   "source": [
    "name_dict = df_to_names(df)"
   ]
  },
  {
   "cell_type": "code",
   "execution_count": 29,
   "metadata": {
    "collapsed": true
   },
   "outputs": [],
   "source": [
    "def coshuffle(X):\n",
    "    \n",
    "    new_X = [[] for i in range(len(X))]\n",
    "    index_shuf = range(len(X[0]))\n",
    "    shuffle(index_shuf)\n",
    "    print index_shuf[:10]\n",
    "    for i in range(len(X)):\n",
    "        origX = X[i]\n",
    "        for s in index_shuf:\n",
    "            new_X[i].append(X[i][s])\n",
    "\n",
    "    return new_X"
   ]
  },
  {
   "cell_type": "code",
   "execution_count": 30,
   "metadata": {
    "collapsed": false
   },
   "outputs": [],
   "source": [
    "gene_list = np.array(df['gene'])\n",
    "gene_dict = {i: gene_list[i] for i in range(len(gene_list))}"
   ]
  },
  {
   "cell_type": "code",
   "execution_count": 31,
   "metadata": {
    "collapsed": true
   },
   "outputs": [],
   "source": [
    "xt = np.array(df.ix[:,range(2,18)])"
   ]
  },
  {
   "cell_type": "code",
   "execution_count": null,
   "metadata": {
    "collapsed": true
   },
   "outputs": [],
   "source": []
  },
  {
   "cell_type": "code",
   "execution_count": 32,
   "metadata": {
    "collapsed": false
   },
   "outputs": [],
   "source": [
    "def cycle_cols(X):\n",
    "    Qs = []\n",
    "    for i in range(500):#len(X)):\n",
    "        y = np.array(df.ix[:,range(10,14)])[i]\n",
    "        ir = [ii for ii in range(len(X)) if ii != i]\n",
    "        Xt = np.array(df.ix[:,range(10,14)])[ir]\n",
    "        X = Xt.transpose()\n",
    "        Qs.append(calc_Q2(X, y, n_pcs = 2))\n",
    "    return Qs"
   ]
  },
  {
   "cell_type": "code",
   "execution_count": 46,
   "metadata": {
    "collapsed": false
   },
   "outputs": [
    {
     "ename": "NameError",
     "evalue": "global name 'calc_Q2' is not defined",
     "output_type": "error",
     "traceback": [
      "\u001b[1;31m---------------------------------------------------------------------------\u001b[0m",
      "\u001b[1;31mNameError\u001b[0m                                 Traceback (most recent call last)",
      "\u001b[1;32m<ipython-input-46-ad50495baf9e>\u001b[0m in \u001b[0;36m<module>\u001b[1;34m()\u001b[0m\n\u001b[1;32m----> 1\u001b[1;33m \u001b[0mQs\u001b[0m \u001b[1;33m=\u001b[0m \u001b[0mcycle_cols\u001b[0m\u001b[1;33m(\u001b[0m\u001b[0mxt\u001b[0m\u001b[1;33m)\u001b[0m\u001b[1;33m\u001b[0m\u001b[0m\n\u001b[0m",
      "\u001b[1;32m<ipython-input-44-4402b680989f>\u001b[0m in \u001b[0;36mcycle_cols\u001b[1;34m(X)\u001b[0m\n\u001b[0;32m      6\u001b[0m         \u001b[0mXt\u001b[0m \u001b[1;33m=\u001b[0m \u001b[0mnp\u001b[0m\u001b[1;33m.\u001b[0m\u001b[0marray\u001b[0m\u001b[1;33m(\u001b[0m\u001b[0mdf\u001b[0m\u001b[1;33m.\u001b[0m\u001b[0mix\u001b[0m\u001b[1;33m[\u001b[0m\u001b[1;33m:\u001b[0m\u001b[1;33m,\u001b[0m\u001b[0mrange\u001b[0m\u001b[1;33m(\u001b[0m\u001b[1;36m10\u001b[0m\u001b[1;33m,\u001b[0m\u001b[1;36m14\u001b[0m\u001b[1;33m)\u001b[0m\u001b[1;33m]\u001b[0m\u001b[1;33m)\u001b[0m\u001b[1;33m[\u001b[0m\u001b[0mir\u001b[0m\u001b[1;33m]\u001b[0m\u001b[1;33m\u001b[0m\u001b[0m\n\u001b[0;32m      7\u001b[0m         \u001b[0mX\u001b[0m \u001b[1;33m=\u001b[0m \u001b[0mXt\u001b[0m\u001b[1;33m.\u001b[0m\u001b[0mtranspose\u001b[0m\u001b[1;33m(\u001b[0m\u001b[1;33m)\u001b[0m\u001b[1;33m\u001b[0m\u001b[0m\n\u001b[1;32m----> 8\u001b[1;33m         \u001b[0mQs\u001b[0m\u001b[1;33m.\u001b[0m\u001b[0mappend\u001b[0m\u001b[1;33m(\u001b[0m\u001b[0mcalc_Q2\u001b[0m\u001b[1;33m(\u001b[0m\u001b[0mX\u001b[0m\u001b[1;33m,\u001b[0m \u001b[0my\u001b[0m\u001b[1;33m,\u001b[0m \u001b[0mn_pcs\u001b[0m \u001b[1;33m=\u001b[0m \u001b[1;36m2\u001b[0m\u001b[1;33m)\u001b[0m\u001b[1;33m)\u001b[0m\u001b[1;33m\u001b[0m\u001b[0m\n\u001b[0m\u001b[0;32m      9\u001b[0m     \u001b[1;32mreturn\u001b[0m \u001b[0mQs\u001b[0m\u001b[1;33m\u001b[0m\u001b[0m\n",
      "\u001b[1;31mNameError\u001b[0m: global name 'calc_Q2' is not defined"
     ]
    }
   ],
   "source": [
    "Qs = cycle_cols(xt)"
   ]
  },
  {
   "cell_type": "code",
   "execution_count": 36,
   "metadata": {
    "collapsed": false
   },
   "outputs": [
    {
     "ename": "NameError",
     "evalue": "name 'Qs' is not defined",
     "output_type": "error",
     "traceback": [
      "\u001b[1;31m---------------------------------------------------------------------------\u001b[0m",
      "\u001b[1;31mNameError\u001b[0m                                 Traceback (most recent call last)",
      "\u001b[1;32m<ipython-input-36-781bcfeb3a7e>\u001b[0m in \u001b[0;36m<module>\u001b[1;34m()\u001b[0m\n\u001b[1;32m----> 1\u001b[1;33m \u001b[0mplt\u001b[0m\u001b[1;33m.\u001b[0m\u001b[0mplot\u001b[0m\u001b[1;33m(\u001b[0m\u001b[0mlist\u001b[0m\u001b[1;33m(\u001b[0m\u001b[0mQs\u001b[0m\u001b[1;33m)\u001b[0m\u001b[1;33m[\u001b[0m\u001b[1;36m5\u001b[0m\u001b[1;33m:\u001b[0m\u001b[1;36m100\u001b[0m\u001b[1;33m]\u001b[0m\u001b[1;33m)\u001b[0m\u001b[1;33m\u001b[0m\u001b[0m\n\u001b[0m",
      "\u001b[1;31mNameError\u001b[0m: name 'Qs' is not defined"
     ]
    }
   ],
   "source": [
    "plt.plot(list(Qs)[5:100])"
   ]
  },
  {
   "cell_type": "code",
   "execution_count": 37,
   "metadata": {
    "collapsed": false
   },
   "outputs": [
    {
     "ename": "NameError",
     "evalue": "name 'Qs' is not defined",
     "output_type": "error",
     "traceback": [
      "\u001b[1;31m---------------------------------------------------------------------------\u001b[0m",
      "\u001b[1;31mNameError\u001b[0m                                 Traceback (most recent call last)",
      "\u001b[1;32m<ipython-input-37-c25d217b68c9>\u001b[0m in \u001b[0;36m<module>\u001b[1;34m()\u001b[0m\n\u001b[1;32m----> 1\u001b[1;33m \u001b[1;32mprint\u001b[0m \u001b[0mlen\u001b[0m\u001b[1;33m(\u001b[0m\u001b[1;33m[\u001b[0m\u001b[0mQ\u001b[0m \u001b[1;32mfor\u001b[0m \u001b[0mQ\u001b[0m \u001b[1;32min\u001b[0m \u001b[0mQs\u001b[0m \u001b[1;32mif\u001b[0m \u001b[0mQ\u001b[0m \u001b[1;33m>\u001b[0m \u001b[1;36m0.7\u001b[0m\u001b[1;33m]\u001b[0m\u001b[1;33m)\u001b[0m\u001b[1;33m\u001b[0m\u001b[0m\n\u001b[0m",
      "\u001b[1;31mNameError\u001b[0m: name 'Qs' is not defined"
     ]
    }
   ],
   "source": [
    "print len([Q for Q in Qs if Q > 0.7])"
   ]
  },
  {
   "cell_type": "code",
   "execution_count": 38,
   "metadata": {
    "collapsed": false
   },
   "outputs": [],
   "source": [
    "#for i, Q in enumerate(Qs):\n",
    "    #if Q > 0.5:\n",
    "        #print i, Q;"
   ]
  },
  {
   "cell_type": "code",
   "execution_count": 39,
   "metadata": {
    "collapsed": false
   },
   "outputs": [
    {
     "data": {
      "text/plain": [
       "Index([u'gene', u'width', u'ON.1', u'ON.2', u'ON.3', u'ON.4', u'OF.1', u'OF.2',\n",
       "       u'OF.3', u'OF.4', u'YN.1', u'YN.2', u'YN.3', u'YN.4', u'YF.1', u'YF.2',\n",
       "       u'YF.3', u'YF.4'],\n",
       "      dtype='object')"
      ]
     },
     "execution_count": 39,
     "metadata": {},
     "output_type": "execute_result"
    }
   ],
   "source": [
    "df.columns"
   ]
  },
  {
   "cell_type": "code",
   "execution_count": 40,
   "metadata": {
    "collapsed": false
   },
   "outputs": [],
   "source": [
    "x_matrix = np.array(df.ix[:,range(11,18)]).transpose()"
   ]
  },
  {
   "cell_type": "code",
   "execution_count": 41,
   "metadata": {
    "collapsed": true
   },
   "outputs": [],
   "source": [
    "yflu = range(10,18)"
   ]
  },
  {
   "cell_type": "code",
   "execution_count": 42,
   "metadata": {
    "collapsed": true
   },
   "outputs": [],
   "source": [
    "oflu = range(2,10)"
   ]
  },
  {
   "cell_type": "code",
   "execution_count": null,
   "metadata": {
    "collapsed": true
   },
   "outputs": [],
   "source": [
    "aging = [2,3,4,5,10,11,12,13]"
   ]
  },
  {
   "cell_type": "code",
   "execution_count": 37,
   "metadata": {
    "collapsed": true
   },
   "outputs": [],
   "source": [
    "process = [yflu, oflu, aging]"
   ]
  },
  {
   "cell_type": "code",
   "execution_count": 33,
   "metadata": {
    "collapsed": true
   },
   "outputs": [],
   "source": [
    "def vipp(x, y, t, w):\n",
    "\n",
    "    \"\"\"\n",
    "    From original MATLAB code\n",
    "    See https://code.google.com/p/carspls/\n",
    "\n",
    "    #+++ vip=vipp(x,y,t,w);\n",
    "    #+++ t: scores, which can be obtained by pls_nipals.m\n",
    "    #+++ w: weight, which can be obtained by pls_nipals.m\n",
    "    #+++ to calculate the vip for each variable to the response;\n",
    "    #+++ vip=sqrt(p*q/s);\n",
    "    \"\"\"\n",
    "    #initializing\n",
    "    [p, h] = w.shape\n",
    "    co = np.matrix(np.zeros([1, h]))\n",
    "\n",
    "    # Calculate s\n",
    "    for ii in range(h):\n",
    "        corr = np.corrcoef(y, t[:, ii], rowvar=0)\n",
    "        co[0, ii] = corr[0, 1]**2\n",
    "    s = np.sum(co)\n",
    "\n",
    "    # Calculate q\n",
    "    # This has been linearized to replace the original nested for loop\n",
    "    w_power = np.power(w, 2)\n",
    "    d = np.multiply(w_power, co)\n",
    "    q = np.sum(d, 1)\n",
    "    vip = np.sqrt(p*q/s)\n",
    "    return vip"
   ]
  },
  {
   "cell_type": "code",
   "execution_count": 34,
   "metadata": {
    "collapsed": true
   },
   "outputs": [],
   "source": [
    "def calc_acc(x_matrix, target_y, n_pcs):\n",
    "    n_mice = len(x_matrix)\n",
    "    pred = []\n",
    "    \n",
    "    pls = PLSRegression(n_pcs, scale=False)\n",
    "    pls.fit(x_matrix, target_y)\n",
    "    \n",
    "    for mouse in range(n_mice):\n",
    "        \n",
    "        pred.append(pls.predict(x_matrix[mouse]))\n",
    "        vips = vipp(x_matrix, target_y, pls.x_scores_, pls.x_weights_)\n",
    "    \n",
    "    error1 = 0\n",
    "    error2 = 0\n",
    "    l2 = int(len(target_y)/2)\n",
    "    for p in range(len(pred)):\n",
    "        if p < l2+1:\n",
    "            error1 += abs(int(pred[p]) - target_y[p])\n",
    "        else:\n",
    "            error2 += abs(int(pred[p]) - target_y[p])\n",
    "    \n",
    "    return error1, error2"
   ]
  },
  {
   "cell_type": "code",
   "execution_count": 54,
   "metadata": {
    "collapsed": false
   },
   "outputs": [
    {
     "data": {
      "text/plain": [
       "array([  3.41610974,   0.09766976,   0.89417597, ...,  33.91488209,\n",
       "         0.5041184 ,   0.39428383])"
      ]
     },
     "execution_count": 54,
     "metadata": {},
     "output_type": "execute_result"
    }
   ],
   "source": [
    "x_matrix[0]"
   ]
  },
  {
   "cell_type": "code",
   "execution_count": 66,
   "metadata": {
    "collapsed": false
   },
   "outputs": [
    {
     "data": {
      "text/html": [
       "<div>\n",
       "<table border=\"1\" class=\"dataframe\">\n",
       "  <thead>\n",
       "    <tr style=\"text-align: right;\">\n",
       "      <th></th>\n",
       "      <th>0</th>\n",
       "      <th>1</th>\n",
       "      <th>3</th>\n",
       "      <th>4</th>\n",
       "      <th>5</th>\n",
       "      <th>6</th>\n",
       "      <th>7</th>\n",
       "      <th>8</th>\n",
       "      <th>9</th>\n",
       "      <th>10</th>\n",
       "      <th>...</th>\n",
       "      <th>14878</th>\n",
       "      <th>14879</th>\n",
       "      <th>14880</th>\n",
       "      <th>14881</th>\n",
       "      <th>14882</th>\n",
       "      <th>14883</th>\n",
       "      <th>14884</th>\n",
       "      <th>14886</th>\n",
       "      <th>14887</th>\n",
       "      <th>14888</th>\n",
       "    </tr>\n",
       "  </thead>\n",
       "  <tbody>\n",
       "    <tr>\n",
       "      <th>ON.1</th>\n",
       "      <td>3.416110</td>\n",
       "      <td>0.097670</td>\n",
       "      <td>0.894176</td>\n",
       "      <td>10.409801</td>\n",
       "      <td>47.013339</td>\n",
       "      <td>0.268831</td>\n",
       "      <td>4.265999</td>\n",
       "      <td>0.983380</td>\n",
       "      <td>0.114189</td>\n",
       "      <td>0.032568</td>\n",
       "      <td>...</td>\n",
       "      <td>0.279462</td>\n",
       "      <td>0.806440</td>\n",
       "      <td>235.428104</td>\n",
       "      <td>1.005325</td>\n",
       "      <td>0.277532</td>\n",
       "      <td>0.133765</td>\n",
       "      <td>1.038193</td>\n",
       "      <td>33.914882</td>\n",
       "      <td>0.504118</td>\n",
       "      <td>0.394284</td>\n",
       "    </tr>\n",
       "    <tr>\n",
       "      <th>ON.2</th>\n",
       "      <td>3.009893</td>\n",
       "      <td>0.040609</td>\n",
       "      <td>0.757337</td>\n",
       "      <td>10.497557</td>\n",
       "      <td>41.137221</td>\n",
       "      <td>0.266620</td>\n",
       "      <td>3.509320</td>\n",
       "      <td>1.362911</td>\n",
       "      <td>0.215808</td>\n",
       "      <td>0.090275</td>\n",
       "      <td>...</td>\n",
       "      <td>0.258213</td>\n",
       "      <td>0.838261</td>\n",
       "      <td>315.876900</td>\n",
       "      <td>0.398093</td>\n",
       "      <td>0.109898</td>\n",
       "      <td>0.111234</td>\n",
       "      <td>0.261614</td>\n",
       "      <td>31.336109</td>\n",
       "      <td>0.531605</td>\n",
       "      <td>0.575217</td>\n",
       "    </tr>\n",
       "    <tr>\n",
       "      <th>ON.3</th>\n",
       "      <td>2.985305</td>\n",
       "      <td>0.069904</td>\n",
       "      <td>0.607386</td>\n",
       "      <td>11.710880</td>\n",
       "      <td>44.567283</td>\n",
       "      <td>0.266987</td>\n",
       "      <td>3.594959</td>\n",
       "      <td>1.700905</td>\n",
       "      <td>0.204317</td>\n",
       "      <td>0.058274</td>\n",
       "      <td>...</td>\n",
       "      <td>0.250020</td>\n",
       "      <td>1.442960</td>\n",
       "      <td>203.903122</td>\n",
       "      <td>0.642437</td>\n",
       "      <td>0.283764</td>\n",
       "      <td>0.239345</td>\n",
       "      <td>0.675503</td>\n",
       "      <td>35.398848</td>\n",
       "      <td>0.509836</td>\n",
       "      <td>0.436290</td>\n",
       "    </tr>\n",
       "    <tr>\n",
       "      <th>ON.4</th>\n",
       "      <td>3.308861</td>\n",
       "      <td>0.074135</td>\n",
       "      <td>0.843899</td>\n",
       "      <td>10.361103</td>\n",
       "      <td>45.876615</td>\n",
       "      <td>0.288828</td>\n",
       "      <td>3.849834</td>\n",
       "      <td>1.244032</td>\n",
       "      <td>0.090050</td>\n",
       "      <td>0.070629</td>\n",
       "      <td>...</td>\n",
       "      <td>0.255892</td>\n",
       "      <td>0.874451</td>\n",
       "      <td>260.714360</td>\n",
       "      <td>0.622919</td>\n",
       "      <td>0.085982</td>\n",
       "      <td>0.058018</td>\n",
       "      <td>0.716385</td>\n",
       "      <td>33.710486</td>\n",
       "      <td>0.404033</td>\n",
       "      <td>0.438786</td>\n",
       "    </tr>\n",
       "    <tr>\n",
       "      <th>OF.1</th>\n",
       "      <td>3.006839</td>\n",
       "      <td>0.073475</td>\n",
       "      <td>0.480479</td>\n",
       "      <td>9.809717</td>\n",
       "      <td>42.642833</td>\n",
       "      <td>0.323365</td>\n",
       "      <td>4.200088</td>\n",
       "      <td>1.479553</td>\n",
       "      <td>0.211965</td>\n",
       "      <td>0.105001</td>\n",
       "      <td>...</td>\n",
       "      <td>0.260289</td>\n",
       "      <td>0.650002</td>\n",
       "      <td>220.711672</td>\n",
       "      <td>0.617375</td>\n",
       "      <td>0.255651</td>\n",
       "      <td>0.143755</td>\n",
       "      <td>0.710010</td>\n",
       "      <td>33.410482</td>\n",
       "      <td>0.518213</td>\n",
       "      <td>0.133810</td>\n",
       "    </tr>\n",
       "    <tr>\n",
       "      <th>OF.2</th>\n",
       "      <td>3.288298</td>\n",
       "      <td>0.023836</td>\n",
       "      <td>0.444518</td>\n",
       "      <td>9.479280</td>\n",
       "      <td>48.403478</td>\n",
       "      <td>0.325023</td>\n",
       "      <td>4.276307</td>\n",
       "      <td>0.879955</td>\n",
       "      <td>0.177336</td>\n",
       "      <td>0.066233</td>\n",
       "      <td>...</td>\n",
       "      <td>0.267752</td>\n",
       "      <td>0.738025</td>\n",
       "      <td>230.226535</td>\n",
       "      <td>0.233660</td>\n",
       "      <td>0.258019</td>\n",
       "      <td>0.000000</td>\n",
       "      <td>1.151657</td>\n",
       "      <td>59.776281</td>\n",
       "      <td>0.374430</td>\n",
       "      <td>0.227895</td>\n",
       "    </tr>\n",
       "    <tr>\n",
       "      <th>OF.3</th>\n",
       "      <td>3.362613</td>\n",
       "      <td>0.033416</td>\n",
       "      <td>0.439068</td>\n",
       "      <td>9.501984</td>\n",
       "      <td>62.760002</td>\n",
       "      <td>0.320654</td>\n",
       "      <td>4.449298</td>\n",
       "      <td>1.205617</td>\n",
       "      <td>0.106550</td>\n",
       "      <td>0.097499</td>\n",
       "      <td>...</td>\n",
       "      <td>0.377146</td>\n",
       "      <td>1.034675</td>\n",
       "      <td>242.074774</td>\n",
       "      <td>0.737055</td>\n",
       "      <td>0.067824</td>\n",
       "      <td>0.228830</td>\n",
       "      <td>0.403642</td>\n",
       "      <td>21.756660</td>\n",
       "      <td>0.628044</td>\n",
       "      <td>0.186374</td>\n",
       "    </tr>\n",
       "    <tr>\n",
       "      <th>OF.4</th>\n",
       "      <td>3.246345</td>\n",
       "      <td>0.060919</td>\n",
       "      <td>0.533623</td>\n",
       "      <td>7.389288</td>\n",
       "      <td>57.323654</td>\n",
       "      <td>0.328175</td>\n",
       "      <td>4.606370</td>\n",
       "      <td>0.885967</td>\n",
       "      <td>0.097122</td>\n",
       "      <td>0.186207</td>\n",
       "      <td>...</td>\n",
       "      <td>0.284058</td>\n",
       "      <td>1.676664</td>\n",
       "      <td>346.278878</td>\n",
       "      <td>0.746487</td>\n",
       "      <td>0.247292</td>\n",
       "      <td>0.139055</td>\n",
       "      <td>0.490568</td>\n",
       "      <td>17.628048</td>\n",
       "      <td>0.569624</td>\n",
       "      <td>0.248083</td>\n",
       "    </tr>\n",
       "  </tbody>\n",
       "</table>\n",
       "<p>8 rows × 14285 columns</p>\n",
       "</div>"
      ],
      "text/plain": [
       "         0         1         3          4          5         6         7      \\\n",
       "ON.1  3.416110  0.097670  0.894176  10.409801  47.013339  0.268831  4.265999   \n",
       "ON.2  3.009893  0.040609  0.757337  10.497557  41.137221  0.266620  3.509320   \n",
       "ON.3  2.985305  0.069904  0.607386  11.710880  44.567283  0.266987  3.594959   \n",
       "ON.4  3.308861  0.074135  0.843899  10.361103  45.876615  0.288828  3.849834   \n",
       "OF.1  3.006839  0.073475  0.480479   9.809717  42.642833  0.323365  4.200088   \n",
       "OF.2  3.288298  0.023836  0.444518   9.479280  48.403478  0.325023  4.276307   \n",
       "OF.3  3.362613  0.033416  0.439068   9.501984  62.760002  0.320654  4.449298   \n",
       "OF.4  3.246345  0.060919  0.533623   7.389288  57.323654  0.328175  4.606370   \n",
       "\n",
       "         8         9         10       ...        14878     14879       14880  \\\n",
       "ON.1  0.983380  0.114189  0.032568    ...     0.279462  0.806440  235.428104   \n",
       "ON.2  1.362911  0.215808  0.090275    ...     0.258213  0.838261  315.876900   \n",
       "ON.3  1.700905  0.204317  0.058274    ...     0.250020  1.442960  203.903122   \n",
       "ON.4  1.244032  0.090050  0.070629    ...     0.255892  0.874451  260.714360   \n",
       "OF.1  1.479553  0.211965  0.105001    ...     0.260289  0.650002  220.711672   \n",
       "OF.2  0.879955  0.177336  0.066233    ...     0.267752  0.738025  230.226535   \n",
       "OF.3  1.205617  0.106550  0.097499    ...     0.377146  1.034675  242.074774   \n",
       "OF.4  0.885967  0.097122  0.186207    ...     0.284058  1.676664  346.278878   \n",
       "\n",
       "         14881     14882     14883     14884      14886     14887     14888  \n",
       "ON.1  1.005325  0.277532  0.133765  1.038193  33.914882  0.504118  0.394284  \n",
       "ON.2  0.398093  0.109898  0.111234  0.261614  31.336109  0.531605  0.575217  \n",
       "ON.3  0.642437  0.283764  0.239345  0.675503  35.398848  0.509836  0.436290  \n",
       "ON.4  0.622919  0.085982  0.058018  0.716385  33.710486  0.404033  0.438786  \n",
       "OF.1  0.617375  0.255651  0.143755  0.710010  33.410482  0.518213  0.133810  \n",
       "OF.2  0.233660  0.258019  0.000000  1.151657  59.776281  0.374430  0.227895  \n",
       "OF.3  0.737055  0.067824  0.228830  0.403642  21.756660  0.628044  0.186374  \n",
       "OF.4  0.746487  0.247292  0.139055  0.490568  17.628048  0.569624  0.248083  \n",
       "\n",
       "[8 rows x 14285 columns]"
      ]
     },
     "execution_count": 66,
     "metadata": {},
     "output_type": "execute_result"
    }
   ],
   "source": [
    "df.ix[:,[2,3,4,5,6,7,8,9]].transpose()"
   ]
  },
  {
   "cell_type": "code",
   "execution_count": 35,
   "metadata": {
    "collapsed": false
   },
   "outputs": [],
   "source": [
    "target_y = np.array([0,0,0,0,1,1,1,1])\n",
    "x_matrix = np.array(df.ix[:,[2,3,4,5,6,7,8,9]]).transpose()\n",
    "pls = PLSRegression(3, scale=False)\n",
    "pls.fit(x_matrix, target_y)\n",
    "vips = vipp(x_matrix, target_y, pls.x_scores_, pls.x_weights_)"
   ]
  },
  {
   "cell_type": "code",
   "execution_count": 55,
   "metadata": {
    "collapsed": false
   },
   "outputs": [],
   "source": [
    "a = np.arange(0,27,3).reshape(3,3)"
   ]
  },
  {
   "cell_type": "code",
   "execution_count": 56,
   "metadata": {
    "collapsed": false
   },
   "outputs": [
    {
     "data": {
      "text/plain": [
       "array([[ 0,  3,  6],\n",
       "       [ 9, 12, 15],\n",
       "       [18, 21, 24]])"
      ]
     },
     "execution_count": 56,
     "metadata": {},
     "output_type": "execute_result"
    }
   ],
   "source": [
    "a"
   ]
  },
  {
   "cell_type": "code",
   "execution_count": 57,
   "metadata": {
    "collapsed": true
   },
   "outputs": [],
   "source": [
    "row_sums = a.sum(axis=1)"
   ]
  },
  {
   "cell_type": "code",
   "execution_count": 58,
   "metadata": {
    "collapsed": false
   },
   "outputs": [
    {
     "data": {
      "text/plain": [
       "array([ 9, 36, 63])"
      ]
     },
     "execution_count": 58,
     "metadata": {},
     "output_type": "execute_result"
    }
   ],
   "source": [
    "row_sums"
   ]
  },
  {
   "cell_type": "code",
   "execution_count": 62,
   "metadata": {
    "collapsed": false
   },
   "outputs": [],
   "source": [
    "new_mat = a / row_sums[:, np.newaxis]"
   ]
  },
  {
   "cell_type": "code",
   "execution_count": null,
   "metadata": {
    "collapsed": true
   },
   "outputs": [],
   "source": []
  },
  {
   "cell_type": "code",
   "execution_count": 64,
   "metadata": {
    "collapsed": false
   },
   "outputs": [
    {
     "data": {
      "text/plain": [
       "0"
      ]
     },
     "execution_count": 64,
     "metadata": {},
     "output_type": "execute_result"
    }
   ],
   "source": [
    "new_mat[0][0]"
   ]
  },
  {
   "cell_type": "code",
   "execution_count": 37,
   "metadata": {
    "collapsed": false
   },
   "outputs": [
    {
     "data": {
      "text/plain": [
       "matrix([[ 0.00335589],\n",
       "        [ 0.00060424],\n",
       "        [ 0.00531307],\n",
       "        ..., \n",
       "        [ 0.09216329],\n",
       "        [ 0.00059035],\n",
       "        [ 0.00585857]])"
      ]
     },
     "execution_count": 37,
     "metadata": {},
     "output_type": "execute_result"
    }
   ],
   "source": [
    "vips"
   ]
  },
  {
   "cell_type": "code",
   "execution_count": 40,
   "metadata": {
    "collapsed": true
   },
   "outputs": [],
   "source": [
    "vs"
   ]
  },
  {
   "cell_type": "code",
   "execution_count": 39,
   "metadata": {
    "collapsed": false
   },
   "outputs": [
    {
     "data": {
      "text/plain": [
       "[<matplotlib.lines.Line2D at 0x7f2812ebdd10>]"
      ]
     },
     "execution_count": 39,
     "metadata": {},
     "output_type": "execute_result"
    },
    {
     "data": {
      "image/png": "[encoded data removed]",
      "text/plain": [
       "<matplotlib.figure.Figure at 0x7f28137b1d10>"
      ]
     },
     "metadata": {},
     "output_type": "display_data"
    }
   ],
   "source": [
    "plt.plot(vs)"
   ]
  },
  {
   "cell_type": "code",
   "execution_count": 41,
   "metadata": {
    "collapsed": false
   },
   "outputs": [
    {
     "ename": "NameError",
     "evalue": "name 'isets' is not defined",
     "output_type": "error",
     "traceback": [
      "\u001b[1;31m---------------------------------------------------------------------------\u001b[0m",
      "\u001b[1;31mNameError\u001b[0m                                 Traceback (most recent call last)",
      "\u001b[1;32m<ipython-input-41-5d1b3298e9e2>\u001b[0m in \u001b[0;36m<module>\u001b[1;34m()\u001b[0m\n\u001b[0;32m      1\u001b[0m \u001b[0mc\u001b[0m \u001b[1;33m=\u001b[0m \u001b[1;36m0\u001b[0m\u001b[1;33m\u001b[0m\u001b[0m\n\u001b[1;32m----> 2\u001b[1;33m \u001b[1;32mfor\u001b[0m \u001b[0mi\u001b[0m \u001b[1;32min\u001b[0m \u001b[0misets\u001b[0m\u001b[1;33m:\u001b[0m\u001b[1;33m\u001b[0m\u001b[0m\n\u001b[0m\u001b[0;32m      3\u001b[0m     \u001b[0mtarget_y\u001b[0m \u001b[1;33m=\u001b[0m \u001b[0mnp\u001b[0m\u001b[1;33m.\u001b[0m\u001b[0marray\u001b[0m\u001b[1;33m(\u001b[0m\u001b[1;33m[\u001b[0m\u001b[1;36m0\u001b[0m\u001b[1;33m,\u001b[0m\u001b[1;36m0\u001b[0m\u001b[1;33m,\u001b[0m\u001b[1;36m0\u001b[0m\u001b[1;33m,\u001b[0m\u001b[1;36m0\u001b[0m\u001b[1;33m,\u001b[0m\u001b[1;36m1\u001b[0m\u001b[1;33m,\u001b[0m\u001b[1;36m1\u001b[0m\u001b[1;33m,\u001b[0m\u001b[1;36m1\u001b[0m\u001b[1;33m,\u001b[0m\u001b[1;36m1\u001b[0m\u001b[1;33m]\u001b[0m\u001b[1;33m)\u001b[0m\u001b[1;33m\u001b[0m\u001b[0m\n\u001b[0;32m      4\u001b[0m     \u001b[0mx_matrix\u001b[0m \u001b[1;33m=\u001b[0m \u001b[0mnp\u001b[0m\u001b[1;33m.\u001b[0m\u001b[0marray\u001b[0m\u001b[1;33m(\u001b[0m\u001b[0mdf\u001b[0m\u001b[1;33m.\u001b[0m\u001b[0mix\u001b[0m\u001b[1;33m[\u001b[0m\u001b[1;33m:\u001b[0m\u001b[1;33m,\u001b[0m\u001b[0mi\u001b[0m\u001b[1;33m]\u001b[0m\u001b[1;33m)\u001b[0m\u001b[1;33m.\u001b[0m\u001b[0mtranspose\u001b[0m\u001b[1;33m(\u001b[0m\u001b[1;33m)\u001b[0m\u001b[1;33m\u001b[0m\u001b[0m\n\u001b[0;32m      5\u001b[0m     \u001b[0merr1\u001b[0m\u001b[1;33m,\u001b[0m \u001b[0merr2\u001b[0m \u001b[1;33m=\u001b[0m \u001b[0mcalc_acc\u001b[0m\u001b[1;33m(\u001b[0m\u001b[0mx_matrix\u001b[0m\u001b[1;33m,\u001b[0m \u001b[0mtarget_y\u001b[0m\u001b[1;33m,\u001b[0m \u001b[0mn_pcs\u001b[0m\u001b[1;33m=\u001b[0m\u001b[1;36m4\u001b[0m\u001b[1;33m)\u001b[0m\u001b[1;33m\u001b[0m\u001b[0m\n",
      "\u001b[1;31mNameError\u001b[0m: name 'isets' is not defined"
     ]
    }
   ],
   "source": [
    "c = 0\n",
    "for i in isets:\n",
    "    target_y = np.array([0,0,0,0,1,1,1,1])\n",
    "    x_matrix = np.array(df.ix[:,i]).transpose()\n",
    "    err1, err2 = calc_acc(x_matrix, target_y, n_pcs=4)\n",
    "    if c==0: name = \"Young Illness\"\n",
    "    if c==1: name = \"Old Illness\"\n",
    "    if c==2: name = \"Aging\"\n",
    "    print 'Error for ', name, '=', err1, err2\n",
    "    c += 1"
   ]
  },
  {
   "cell_type": "code",
   "execution_count": 42,
   "metadata": {
    "collapsed": false
   },
   "outputs": [
    {
     "ename": "NameError",
     "evalue": "name 'isets' is not defined",
     "output_type": "error",
     "traceback": [
      "\u001b[1;31m---------------------------------------------------------------------------\u001b[0m",
      "\u001b[1;31mNameError\u001b[0m                                 Traceback (most recent call last)",
      "\u001b[1;32m<ipython-input-42-48b5fd8bd12e>\u001b[0m in \u001b[0;36m<module>\u001b[1;34m()\u001b[0m\n\u001b[0;32m      1\u001b[0m \u001b[0mc\u001b[0m \u001b[1;33m=\u001b[0m \u001b[1;36m0\u001b[0m\u001b[1;33m\u001b[0m\u001b[0m\n\u001b[1;32m----> 2\u001b[1;33m \u001b[1;32mfor\u001b[0m \u001b[0mi\u001b[0m \u001b[1;32min\u001b[0m \u001b[0misets\u001b[0m\u001b[1;33m:\u001b[0m\u001b[1;33m\u001b[0m\u001b[0m\n\u001b[0m\u001b[0;32m      3\u001b[0m     \u001b[0mtarget_y\u001b[0m \u001b[1;33m=\u001b[0m \u001b[0mnp\u001b[0m\u001b[1;33m.\u001b[0m\u001b[0marray\u001b[0m\u001b[1;33m(\u001b[0m\u001b[1;33m[\u001b[0m\u001b[1;36m0\u001b[0m\u001b[1;33m,\u001b[0m\u001b[1;36m0\u001b[0m\u001b[1;33m,\u001b[0m\u001b[1;36m0\u001b[0m\u001b[1;33m,\u001b[0m\u001b[1;36m0\u001b[0m\u001b[1;33m,\u001b[0m\u001b[1;36m1\u001b[0m\u001b[1;33m,\u001b[0m\u001b[1;36m1\u001b[0m\u001b[1;33m,\u001b[0m\u001b[1;36m1\u001b[0m\u001b[1;33m,\u001b[0m\u001b[1;36m1\u001b[0m\u001b[1;33m]\u001b[0m\u001b[1;33m)\u001b[0m\u001b[1;33m\u001b[0m\u001b[0m\n\u001b[0;32m      4\u001b[0m     \u001b[0mx_matrix\u001b[0m \u001b[1;33m=\u001b[0m \u001b[0mnp\u001b[0m\u001b[1;33m.\u001b[0m\u001b[0marray\u001b[0m\u001b[1;33m(\u001b[0m\u001b[0mdf\u001b[0m\u001b[1;33m.\u001b[0m\u001b[0mix\u001b[0m\u001b[1;33m[\u001b[0m\u001b[1;33m:\u001b[0m\u001b[1;33m,\u001b[0m\u001b[0mi\u001b[0m\u001b[1;33m]\u001b[0m\u001b[1;33m)\u001b[0m\u001b[1;33m.\u001b[0m\u001b[0mtranspose\u001b[0m\u001b[1;33m(\u001b[0m\u001b[1;33m)\u001b[0m\u001b[1;33m\u001b[0m\u001b[0m\n\u001b[0;32m      5\u001b[0m     \u001b[0mQ2\u001b[0m \u001b[1;33m=\u001b[0m \u001b[0mcalc_Q2\u001b[0m\u001b[1;33m(\u001b[0m\u001b[0mx_matrix\u001b[0m\u001b[1;33m,\u001b[0m \u001b[0mtarget_y\u001b[0m\u001b[1;33m,\u001b[0m \u001b[0mn_pcs\u001b[0m\u001b[1;33m=\u001b[0m\u001b[1;36m4\u001b[0m\u001b[1;33m)\u001b[0m\u001b[1;33m\u001b[0m\u001b[0m\n",
      "\u001b[1;31mNameError\u001b[0m: name 'isets' is not defined"
     ]
    }
   ],
   "source": [
    "c = 0\n",
    "for i in isets:\n",
    "    target_y = np.array([0,0,0,0,1,1,1,1])\n",
    "    x_matrix = np.array(df.ix[:,i]).transpose()\n",
    "    Q2 = calc_Q2(x_matrix, target_y, n_pcs=4)\n",
    "    Error = calc_err(x_matrix, target_y, n_pcs=4)\n",
    "    if c==0: name = \"Young Illness\"\n",
    "    if c==1: name = \"Old Illness\"\n",
    "    if c==2: name = \"Aging\"\n",
    "    print 'Q^2 for ', name, '=',Q2\n",
    "    c += 1"
   ]
  },
  {
   "cell_type": "code",
   "execution_count": 444,
   "metadata": {
    "collapsed": false
   },
   "outputs": [],
   "source": [
    "x_matrix = np.array(df.ix[:,aging]).transpose()"
   ]
  },
  {
   "cell_type": "code",
   "execution_count": 413,
   "metadata": {
    "collapsed": false
   },
   "outputs": [],
   "source": [
    "x_matrix = np.array(df.ix[:,range(2,10)]).transpose()"
   ]
  },
  {
   "cell_type": "code",
   "execution_count": 355,
   "metadata": {
    "collapsed": false
   },
   "outputs": [],
   "source": [
    "target_y = np.array([0,0,0,0,1,1,1,1])#,2,2,2,2])#,3,3,3,3])"
   ]
  },
  {
   "cell_type": "code",
   "execution_count": 262,
   "metadata": {
    "collapsed": false
   },
   "outputs": [],
   "source": [
    "n_pcs = 2\n",
    "pls = PLSRegression(n_pcs, scale=False)\n",
    "pls.fit(x_matrix, target_y)\n",
    "vips = vipp(x_matrix, target_y, pls.x_scores_, pls.x_weights_)"
   ]
  },
  {
   "cell_type": "code",
   "execution_count": 43,
   "metadata": {
    "collapsed": false
   },
   "outputs": [],
   "source": [
    "n_pcs = 2\n",
    "def get_vips(x_matrix, target_y, n_pcs):\n",
    "    pls = PLSRegression(n_pcs, scale=False)\n",
    "    pls.fit(x_matrix, target_y)\n",
    "    vips = vipp(x_matrix, target_y, pls.x_scores_, pls.x_weights_)\n",
    "    return vips"
   ]
  },
  {
   "cell_type": "code",
   "execution_count": 44,
   "metadata": {
    "collapsed": false
   },
   "outputs": [
    {
     "data": {
      "text/plain": [
       "8"
      ]
     },
     "execution_count": 44,
     "metadata": {},
     "output_type": "execute_result"
    }
   ],
   "source": [
    "len(x_matrix)"
   ]
  },
  {
   "cell_type": "code",
   "execution_count": 45,
   "metadata": {
    "collapsed": false
   },
   "outputs": [],
   "source": [
    "vips = get_vips(x_matrix, target_y, n_pcs)"
   ]
  },
  {
   "cell_type": "code",
   "execution_count": 46,
   "metadata": {
    "collapsed": false
   },
   "outputs": [],
   "source": [
    "def list_vip_genes(vips):\n",
    "    for i, v in enumerate(vips):\n",
    "        if v > 10:\n",
    "            print i, gene_dict[i], v[0]"
   ]
  },
  {
   "cell_type": "code",
   "execution_count": 47,
   "metadata": {
    "collapsed": false
   },
   "outputs": [
    {
     "name": "stdout",
     "output_type": "stream",
     "text": [
      "2692 Sftpc [[ 66.95941976]]\n",
      "3545 Scgb1a1 [[ 15.56251064]]\n",
      "3756 Cbr2 [[ 11.71310801]]\n",
      "4433 Lcn2 [[ 13.83918241]]\n",
      "11641 H2-K1 [[ 10.73469854]]\n",
      "11943 mt-Nd1 [[ 25.06349453]]\n",
      "11946 mt-Nd2 [[ 30.31934349]]\n",
      "11952 mt-Co1 [[ 49.6270573]]\n",
      "11958 mt-Nd4 [[ 20.40794689]]\n",
      "11959 mt-Nd5 [[ 22.57524502]]\n",
      "11960 mt-Nd6 [[ 20.51030461]]\n",
      "11961 mt-Te [[ 12.14029985]]\n",
      "11962 mt-Cytb [[ 51.66142831]]\n",
      "12692 Gm23935 [[ 14.10414617]]\n"
     ]
    }
   ],
   "source": [
    "list_vip_genes(vips)"
   ]
  },
  {
   "cell_type": "code",
   "execution_count": 48,
   "metadata": {
    "collapsed": false
   },
   "outputs": [],
   "source": [
    "vips = np.sort(vips, axis=0)[::-1]"
   ]
  },
  {
   "cell_type": "code",
   "execution_count": 49,
   "metadata": {
    "collapsed": false
   },
   "outputs": [
    {
     "data": {
      "text/plain": [
       "matrix([[  6.69594198e+01],\n",
       "        [  5.16614283e+01],\n",
       "        [  4.96270573e+01],\n",
       "        ..., \n",
       "        [  2.34345524e-06],\n",
       "        [  1.44697139e-06],\n",
       "        [  4.46525831e-07]])"
      ]
     },
     "execution_count": 49,
     "metadata": {},
     "output_type": "execute_result"
    }
   ],
   "source": [
    "vips"
   ]
  },
  {
   "cell_type": "code",
   "execution_count": 52,
   "metadata": {
    "collapsed": false
   },
   "outputs": [
    {
     "data": {
      "text/plain": [
       "[<matplotlib.lines.Line2D at 0x7f280d2794d0>]"
      ]
     },
     "execution_count": 52,
     "metadata": {},
     "output_type": "execute_result"
    },
    {
     "data": {
      "image/png": "[encoded data removed]",
      "text/plain": [
       "<matplotlib.figure.Figure at 0x7f2812d07e50>"
      ]
     },
     "metadata": {},
     "output_type": "display_data"
    }
   ],
   "source": [
    "plt.plot(vips[:100])"
   ]
  },
  {
   "cell_type": "code",
   "execution_count": 315,
   "metadata": {
    "collapsed": true
   },
   "outputs": [],
   "source": [
    "def calc_Q2(x_matrix, target_y, n_pcs):\n",
    "    n_mice = len(x_matrix)\n",
    "    pred = []\n",
    "    \n",
    "    for mouse in range(n_mice):\n",
    "        mice_ind = range(n_mice)\n",
    "        loo_mouse = x_matrix[mouse]\n",
    "        mice_ind.remove(mouse)\n",
    "        x_matrix_t = x_matrix[(mice_ind)]\n",
    "        target_y_t = target_y[(mice_ind)]\n",
    "        pls = PLSRegression(n_pcs, scale=False)\n",
    "        #print x_matrix\n",
    "        #print target_y\n",
    "        pls.fit(x_matrix_t, target_y_t)\n",
    "        \n",
    "        pred.append(pls.predict(loo_mouse))\n",
    "        vips = vipp(x_matrix_t, target_y_t, pls.x_scores_, pls.x_weights_)\n",
    "    \n",
    "    num = 0\n",
    "    den = 0\n",
    "    for p in range(len(pred)):\n",
    "        num += ((pred[p] - target_y[p])**2)\n",
    "        den += ((target_y[p] - np.mean(target_y))**2)\n",
    "    Q2 = float(1- num/den)\n",
    "    \n",
    "    return Q2"
   ]
  },
  {
   "cell_type": "code",
   "execution_count": 327,
   "metadata": {
    "collapsed": true
   },
   "outputs": [],
   "source": [
    "def calc_R2(x_matrix, target_y, n_pcs):\n",
    "    n_mice = len(x_matrix)\n",
    "    pred = []\n",
    "    \n",
    "    pls = PLSRegression(n_pcs, scale=False)\n",
    "    pls.fit(x_matrix, target_y)\n",
    "    \n",
    "    for mouse in range(n_mice):\n",
    "        \n",
    "        pred.append(pls.predict(x_matrix[mouse]))\n",
    "        vips = vipp(x_matrix, target_y, pls.x_scores_, pls.x_weights_)\n",
    "    \n",
    "    num = 0\n",
    "    den = 0\n",
    "    for p in range(len(pred)):\n",
    "        num += ((pred[p] - target_y[p])**2)\n",
    "        den += ((target_y[p] - np.mean(target_y))**2)\n",
    "    R2 = float(1- num/den)\n",
    "    \n",
    "    return R2"
   ]
  },
  {
   "cell_type": "code",
   "execution_count": 464,
   "metadata": {
    "collapsed": false
   },
   "outputs": [
    {
     "data": {
      "text/plain": [
       "1.0"
      ]
     },
     "execution_count": 464,
     "metadata": {},
     "output_type": "execute_result"
    }
   ],
   "source": [
    "round(0.6)"
   ]
  },
  {
   "cell_type": "code",
   "execution_count": 386,
   "metadata": {
    "collapsed": false
   },
   "outputs": [
    {
     "data": {
      "text/plain": [
       "8"
      ]
     },
     "execution_count": 386,
     "metadata": {},
     "output_type": "execute_result"
    }
   ],
   "source": [
    "len(x_matrix)"
   ]
  },
  {
   "cell_type": "code",
   "execution_count": 445,
   "metadata": {
    "collapsed": false
   },
   "outputs": [
    {
     "name": "stderr",
     "output_type": "stream",
     "text": [
      "/Users/tjyacoub/anaconda2/lib/python2.7/site-packages/sklearn/utils/validation.py:386: DeprecationWarning: Passing 1d arrays as data is deprecated in 0.17 and willraise ValueError in 0.19. Reshape your data either using X.reshape(-1, 1) if your data has a single feature or X.reshape(1, -1) if it contains a single sample.\n",
      "  DeprecationWarning)\n",
      "/Users/tjyacoub/anaconda2/lib/python2.7/site-packages/sklearn/utils/validation.py:386: DeprecationWarning: Passing 1d arrays as data is deprecated in 0.17 and willraise ValueError in 0.19. Reshape your data either using X.reshape(-1, 1) if your data has a single feature or X.reshape(1, -1) if it contains a single sample.\n",
      "  DeprecationWarning)\n",
      "/Users/tjyacoub/anaconda2/lib/python2.7/site-packages/sklearn/utils/validation.py:386: DeprecationWarning: Passing 1d arrays as data is deprecated in 0.17 and willraise ValueError in 0.19. Reshape your data either using X.reshape(-1, 1) if your data has a single feature or X.reshape(1, -1) if it contains a single sample.\n",
      "  DeprecationWarning)\n",
      "/Users/tjyacoub/anaconda2/lib/python2.7/site-packages/sklearn/utils/validation.py:386: DeprecationWarning: Passing 1d arrays as data is deprecated in 0.17 and willraise ValueError in 0.19. Reshape your data either using X.reshape(-1, 1) if your data has a single feature or X.reshape(1, -1) if it contains a single sample.\n",
      "  DeprecationWarning)\n",
      "/Users/tjyacoub/anaconda2/lib/python2.7/site-packages/sklearn/utils/validation.py:386: DeprecationWarning: Passing 1d arrays as data is deprecated in 0.17 and willraise ValueError in 0.19. Reshape your data either using X.reshape(-1, 1) if your data has a single feature or X.reshape(1, -1) if it contains a single sample.\n",
      "  DeprecationWarning)\n",
      "/Users/tjyacoub/anaconda2/lib/python2.7/site-packages/sklearn/utils/validation.py:386: DeprecationWarning: Passing 1d arrays as data is deprecated in 0.17 and willraise ValueError in 0.19. Reshape your data either using X.reshape(-1, 1) if your data has a single feature or X.reshape(1, -1) if it contains a single sample.\n",
      "  DeprecationWarning)\n",
      "/Users/tjyacoub/anaconda2/lib/python2.7/site-packages/sklearn/utils/validation.py:386: DeprecationWarning: Passing 1d arrays as data is deprecated in 0.17 and willraise ValueError in 0.19. Reshape your data either using X.reshape(-1, 1) if your data has a single feature or X.reshape(1, -1) if it contains a single sample.\n",
      "  DeprecationWarning)\n",
      "/Users/tjyacoub/anaconda2/lib/python2.7/site-packages/sklearn/utils/validation.py:386: DeprecationWarning: Passing 1d arrays as data is deprecated in 0.17 and willraise ValueError in 0.19. Reshape your data either using X.reshape(-1, 1) if your data has a single feature or X.reshape(1, -1) if it contains a single sample.\n",
      "  DeprecationWarning)\n"
     ]
    }
   ],
   "source": [
    "Q2 = calc_Q2(x_matrix, target_y, n_pcs=2)"
   ]
  },
  {
   "cell_type": "code",
   "execution_count": 446,
   "metadata": {
    "collapsed": false
   },
   "outputs": [
    {
     "data": {
      "text/plain": [
       "0.31957600882414383"
      ]
     },
     "execution_count": 446,
     "metadata": {},
     "output_type": "execute_result"
    }
   ],
   "source": [
    "Q2"
   ]
  },
  {
   "cell_type": "code",
   "execution_count": 389,
   "metadata": {
    "collapsed": false
   },
   "outputs": [
    {
     "name": "stderr",
     "output_type": "stream",
     "text": [
      "/Users/tjyacoub/anaconda2/lib/python2.7/site-packages/sklearn/utils/validation.py:386: DeprecationWarning: Passing 1d arrays as data is deprecated in 0.17 and willraise ValueError in 0.19. Reshape your data either using X.reshape(-1, 1) if your data has a single feature or X.reshape(1, -1) if it contains a single sample.\n",
      "  DeprecationWarning)\n",
      "/Users/tjyacoub/anaconda2/lib/python2.7/site-packages/sklearn/utils/validation.py:386: DeprecationWarning: Passing 1d arrays as data is deprecated in 0.17 and willraise ValueError in 0.19. Reshape your data either using X.reshape(-1, 1) if your data has a single feature or X.reshape(1, -1) if it contains a single sample.\n",
      "  DeprecationWarning)\n",
      "/Users/tjyacoub/anaconda2/lib/python2.7/site-packages/sklearn/utils/validation.py:386: DeprecationWarning: Passing 1d arrays as data is deprecated in 0.17 and willraise ValueError in 0.19. Reshape your data either using X.reshape(-1, 1) if your data has a single feature or X.reshape(1, -1) if it contains a single sample.\n",
      "  DeprecationWarning)\n",
      "/Users/tjyacoub/anaconda2/lib/python2.7/site-packages/sklearn/utils/validation.py:386: DeprecationWarning: Passing 1d arrays as data is deprecated in 0.17 and willraise ValueError in 0.19. Reshape your data either using X.reshape(-1, 1) if your data has a single feature or X.reshape(1, -1) if it contains a single sample.\n",
      "  DeprecationWarning)\n",
      "/Users/tjyacoub/anaconda2/lib/python2.7/site-packages/sklearn/utils/validation.py:386: DeprecationWarning: Passing 1d arrays as data is deprecated in 0.17 and willraise ValueError in 0.19. Reshape your data either using X.reshape(-1, 1) if your data has a single feature or X.reshape(1, -1) if it contains a single sample.\n",
      "  DeprecationWarning)\n",
      "/Users/tjyacoub/anaconda2/lib/python2.7/site-packages/sklearn/utils/validation.py:386: DeprecationWarning: Passing 1d arrays as data is deprecated in 0.17 and willraise ValueError in 0.19. Reshape your data either using X.reshape(-1, 1) if your data has a single feature or X.reshape(1, -1) if it contains a single sample.\n",
      "  DeprecationWarning)\n",
      "/Users/tjyacoub/anaconda2/lib/python2.7/site-packages/sklearn/utils/validation.py:386: DeprecationWarning: Passing 1d arrays as data is deprecated in 0.17 and willraise ValueError in 0.19. Reshape your data either using X.reshape(-1, 1) if your data has a single feature or X.reshape(1, -1) if it contains a single sample.\n",
      "  DeprecationWarning)\n",
      "/Users/tjyacoub/anaconda2/lib/python2.7/site-packages/sklearn/utils/validation.py:386: DeprecationWarning: Passing 1d arrays as data is deprecated in 0.17 and willraise ValueError in 0.19. Reshape your data either using X.reshape(-1, 1) if your data has a single feature or X.reshape(1, -1) if it contains a single sample.\n",
      "  DeprecationWarning)\n"
     ]
    }
   ],
   "source": [
    "R2 = calc_R2(x_matrix, target_y, n_pcs=2)"
   ]
  },
  {
   "cell_type": "code",
   "execution_count": 390,
   "metadata": {
    "collapsed": false
   },
   "outputs": [
    {
     "data": {
      "text/plain": [
       "0.9044349533854793"
      ]
     },
     "execution_count": 390,
     "metadata": {},
     "output_type": "execute_result"
    }
   ],
   "source": [
    "R2"
   ]
  },
  {
   "cell_type": "code",
   "execution_count": 391,
   "metadata": {
    "collapsed": false
   },
   "outputs": [
    {
     "data": {
      "text/plain": [
       "0.5"
      ]
     },
     "execution_count": 391,
     "metadata": {},
     "output_type": "execute_result"
    }
   ],
   "source": [
    "np.mean(target_y)"
   ]
  },
  {
   "cell_type": "code",
   "execution_count": 185,
   "metadata": {
    "collapsed": false
   },
   "outputs": [
    {
     "name": "stderr",
     "output_type": "stream",
     "text": [
      "/Users/tjyacoub/anaconda2/lib/python2.7/site-packages/sklearn/utils/validation.py:386: DeprecationWarning: Passing 1d arrays as data is deprecated in 0.17 and willraise ValueError in 0.19. Reshape your data either using X.reshape(-1, 1) if your data has a single feature or X.reshape(1, -1) if it contains a single sample.\n",
      "  DeprecationWarning)\n",
      "/Users/tjyacoub/anaconda2/lib/python2.7/site-packages/sklearn/utils/validation.py:386: DeprecationWarning: Passing 1d arrays as data is deprecated in 0.17 and willraise ValueError in 0.19. Reshape your data either using X.reshape(-1, 1) if your data has a single feature or X.reshape(1, -1) if it contains a single sample.\n",
      "  DeprecationWarning)\n",
      "/Users/tjyacoub/anaconda2/lib/python2.7/site-packages/sklearn/utils/validation.py:386: DeprecationWarning: Passing 1d arrays as data is deprecated in 0.17 and willraise ValueError in 0.19. Reshape your data either using X.reshape(-1, 1) if your data has a single feature or X.reshape(1, -1) if it contains a single sample.\n",
      "  DeprecationWarning)\n",
      "/Users/tjyacoub/anaconda2/lib/python2.7/site-packages/sklearn/utils/validation.py:386: DeprecationWarning: Passing 1d arrays as data is deprecated in 0.17 and willraise ValueError in 0.19. Reshape your data either using X.reshape(-1, 1) if your data has a single feature or X.reshape(1, -1) if it contains a single sample.\n",
      "  DeprecationWarning)\n"
     ]
    }
   ],
   "source": [
    "for mat in x_matrix:\n",
    "    pls.predict(mat)"
   ]
  },
  {
   "cell_type": "code",
   "execution_count": 172,
   "metadata": {
    "collapsed": false
   },
   "outputs": [],
   "source": [
    "vipsa = np.array(vips)"
   ]
  },
  {
   "cell_type": "code",
   "execution_count": null,
   "metadata": {
    "collapsed": true
   },
   "outputs": [],
   "source": [
    "pls.predict"
   ]
  },
  {
   "cell_type": "code",
   "execution_count": 173,
   "metadata": {
    "collapsed": false
   },
   "outputs": [
    {
     "data": {
      "text/plain": [
       "array([[ 0.0172812 ],\n",
       "       [ 0.00054983],\n",
       "       [ 0.0057373 ],\n",
       "       ..., \n",
       "       [ 0.50083962],\n",
       "       [ 0.00670487],\n",
       "       [ 0.0073769 ]])"
      ]
     },
     "execution_count": 173,
     "metadata": {},
     "output_type": "execute_result"
    }
   ],
   "source": [
    "vipsa"
   ]
  },
  {
   "cell_type": "code",
   "execution_count": 174,
   "metadata": {
    "collapsed": false
   },
   "outputs": [
    {
     "data": {
      "text/plain": [
       "array(['Rab3ip', '4430402I18Rik', 'Ano6', 'Ifi27', 'Chi3l1', 'Plcxd1',\n",
       "       'Ethe1', 'Gimap8', 'Zfp428', 'Hvcn1', 'Ccdc146', 'Cdpf1', 'Tank',\n",
       "       'Aox3', 'Clasp1', 'Lrrc51', 'Hhip', 'Siva1', 'mt-Rnr1', 'mt-Rnr2',\n",
       "       'mt-Nd1', 'mt-Ti', 'mt-Tq', 'mt-Nd2', 'mt-Tw', 'mt-Ta', 'mt-Tn',\n",
       "       'mt-Tc', 'mt-Ty', 'mt-Co1', 'mt-Co2', 'mt-Atp8', 'mt-Atp6',\n",
       "       'mt-Co3', 'mt-Nd3', 'mt-Nd4', 'mt-Nd5', 'mt-Nd6', 'mt-Te',\n",
       "       'mt-Cytb', 'mt-Tt', 'mt-Tp', 'Sepp1', 'Rn7sk', 'Tacc1', 'Cpped1',\n",
       "       'Aurkaip1', 'Dhrs3', 'Ubr4', 'Hnrnpr', 'Med18', 'Phactr4', 'Gm1976',\n",
       "       'Muc5b', 'Adamtsl1', 'Kndc1', 'Prpf4', 'Cdc26', 'Slc31a1'], dtype=object)"
      ]
     },
     "execution_count": 174,
     "metadata": {},
     "output_type": "execute_result"
    }
   ],
   "source": [
    "gene_list[11923:11982]"
   ]
  },
  {
   "cell_type": "code",
   "execution_count": 175,
   "metadata": {
    "collapsed": false
   },
   "outputs": [
    {
     "name": "stdout",
     "output_type": "stream",
     "text": [
      "2567 Sftpa1 [ 6.86361807]\n",
      "2692 Sftpc [ 31.50918461]\n",
      "2929 Ly6e [ 7.5887478]\n",
      "3545 Scgb1a1 [ 39.15060487]\n",
      "3550 Fth1 [ 6.02429228]\n",
      "3756 Cbr2 [ 11.60840071]\n",
      "3899 Ifitm3 [ 6.95634905]\n",
      "4433 Lcn2 [ 11.44027598]\n",
      "7988 Scd1 [ 15.76313038]\n",
      "7993 Lrg1 [ 5.78466107]\n",
      "11641 H2-K1 [ 9.18809931]\n",
      "11927 Chi3l1 [ 7.13842117]\n",
      "11943 mt-Nd1 [ 48.44249341]\n",
      "11946 mt-Nd2 [ 20.82840118]\n",
      "11952 mt-Co1 [ 31.95517667]\n",
      "11954 mt-Atp8 [ 7.07148034]\n",
      "11958 mt-Nd4 [ 21.46852349]\n",
      "11959 mt-Nd5 [ 20.94123694]\n",
      "11960 mt-Nd6 [ 17.9249754]\n",
      "11961 mt-Te [ 23.72988147]\n",
      "11962 mt-Cytb [ 59.85328262]\n",
      "12167 Lyz1 [ 5.9551361]\n",
      "12168 Lyz2 [ 14.96629672]\n",
      "12434 H2-D1 [ 5.59088668]\n",
      "12692 Gm23935 [ 21.93518974]\n",
      "12700 Igkc [ 14.74442488]\n",
      "12802 Ifi27l2a [ 5.61543903]\n",
      "13828 Igha [ 7.74019115]\n",
      "14255 Gm26924 [ 13.08865958]\n"
     ]
    },
    {
     "data": {
      "text/plain": [
       "[<matplotlib.lines.Line2D at 0x10a8dc0d0>]"
      ]
     },
     "execution_count": 175,
     "metadata": {},
     "output_type": "execute_result"
    },
    {
     "data": {
      "image/png": "[encoded data removed]",
      "text/plain": [
       "<matplotlib.figure.Figure at 0x10ed11410>"
      ]
     },
     "metadata": {},
     "output_type": "display_data"
    }
   ],
   "source": [
    "ti = []\n",
    "for i in range(len(vipsa)):\n",
    "    if vipsa[i] > 5:\n",
    "        #print i\n",
    "        print i, gene_dict[i], vipsa[i]\n",
    "        ti.append(i)\n",
    "plt.plot(ti)"
   ]
  },
  {
   "cell_type": "code",
   "execution_count": null,
   "metadata": {
    "collapsed": true
   },
   "outputs": [],
   "source": []
  },
  {
   "cell_type": "code",
   "execution_count": 67,
   "metadata": {
    "collapsed": false
   },
   "outputs": [],
   "source": [
    "vipdf = pd.DataFrame(np.sort(vips, axis=0))"
   ]
  },
  {
   "cell_type": "code",
   "execution_count": 69,
   "metadata": {
    "collapsed": false
   },
   "outputs": [],
   "source": [
    "vipsort = vipdf.columns[::-1]"
   ]
  },
  {
   "cell_type": "code",
   "execution_count": 70,
   "metadata": {
    "collapsed": false
   },
   "outputs": [
    {
     "data": {
      "text/plain": [
       "Int64Index([0], dtype='int64')"
      ]
     },
     "execution_count": 70,
     "metadata": {},
     "output_type": "execute_result"
    }
   ],
   "source": [
    "vipsort"
   ]
  },
  {
   "cell_type": "code",
   "execution_count": 28,
   "metadata": {
    "collapsed": false
   },
   "outputs": [],
   "source": [
    "def unique(a, b):\n",
    "    return list([a[i] for i in range(1,len(a)) if a[i] not in b])\n",
    "def intersect(a, b):\n",
    "    return list(set(a) & set(b))\n",
    "def union(a, b):\n",
    "    return list(set(a) | set(b))\n",
    "def intersect3(a, b, c):\n",
    "    return list(set(a) & set(b) & set(c))\n",
    "\n",
    "def unique3(a, b, c, index):\n",
    "    uniques = [0 for i in range(3)]\n",
    "    uniques[0] = list([a[i] for i in range(1,len(a)) if a[i] not in b and a[i] not in c])\n",
    "    uniques[1] = list([b[i] for i in range(1,len(b)) if b[i] not in a and b[i] not in c])\n",
    "    uniques[2] = list([c[i] for i in range(1,len(c)) if c[i] not in a and c[i] not in b])\n",
    "    return uniques[index]\n"
   ]
  }
 ],
 "metadata": {
  "kernelspec": {
   "display_name": "Python 2",
   "language": "python",
   "name": "python2"
  },
  "language_info": {
   "codemirror_mode": {
    "name": "ipython",
    "version": 2
   },
   "file_extension": ".py",
   "mimetype": "text/x-python",
   "name": "python",
   "nbconvert_exporter": "python",
   "pygments_lexer": "ipython2",
   "version": "2.7.10"
  }
 },
 "nbformat": 4,
 "nbformat_minor": 0
}
