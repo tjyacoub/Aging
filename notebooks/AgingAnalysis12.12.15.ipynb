{
 "cells": [
  {
   "cell_type": "code",
   "execution_count": 1,
   "metadata": {
    "collapsed": true
   },
   "outputs": [],
   "source": [
    "%matplotlib inline"
   ]
  },
  {
   "cell_type": "code",
   "execution_count": 2,
   "metadata": {
    "collapsed": true
   },
   "outputs": [],
   "source": [
    "import pandas as pd"
   ]
  },
  {
   "cell_type": "code",
   "execution_count": 3,
   "metadata": {
    "collapsed": true
   },
   "outputs": [],
   "source": [
    "import csv\n",
    "import matplotlib.pyplot as plt"
   ]
  },
  {
   "cell_type": "code",
   "execution_count": 4,
   "metadata": {
    "collapsed": true
   },
   "outputs": [],
   "source": [
    "from scipy import stats"
   ]
  },
  {
   "cell_type": "code",
   "execution_count": 5,
   "metadata": {
    "collapsed": true
   },
   "outputs": [],
   "source": [
    "import math\n",
    "import numpy as np"
   ]
  },
  {
   "cell_type": "code",
   "execution_count": 6,
   "metadata": {
    "collapsed": false
   },
   "outputs": [],
   "source": [
    "df_ON_OF = pd.read_csv(\"ON_OF.txt\", sep='\\t')"
   ]
  },
  {
   "cell_type": "code",
   "execution_count": 7,
   "metadata": {
    "collapsed": true
   },
   "outputs": [],
   "source": [
    "df_YN_ON = pd.read_csv(\"YN_ON.txt\", sep='\\t')"
   ]
  },
  {
   "cell_type": "code",
   "execution_count": 8,
   "metadata": {
    "collapsed": true
   },
   "outputs": [],
   "source": [
    "df_YF_OF = pd.read_csv(\"YF_OF.txt\", sep='\\t')"
   ]
  },
  {
   "cell_type": "code",
   "execution_count": 9,
   "metadata": {
    "collapsed": true
   },
   "outputs": [],
   "source": [
    "df_YN_YF = pd.read_csv(\"YN_YF.txt\", sep='\\t')"
   ]
  },
  {
   "cell_type": "code",
   "execution_count": 10,
   "metadata": {
    "collapsed": true
   },
   "outputs": [],
   "source": [
    "df_ON = df_ON_OF[[19,4,6,7,8,9]];"
   ]
  },
  {
   "cell_type": "code",
   "execution_count": 11,
   "metadata": {
    "collapsed": true
   },
   "outputs": [],
   "source": [
    "df_OF = df_ON_OF[[19,4,10,11,12,13]]"
   ]
  },
  {
   "cell_type": "code",
   "execution_count": 12,
   "metadata": {
    "collapsed": true
   },
   "outputs": [],
   "source": [
    "df_YN = df_YN_ON[[19,4,6,7,8,9]]"
   ]
  },
  {
   "cell_type": "code",
   "execution_count": 13,
   "metadata": {
    "collapsed": true
   },
   "outputs": [],
   "source": [
    "df_YF = df_YN_YF[[19,4,10,11,12,13]]"
   ]
  },
  {
   "cell_type": "code",
   "execution_count": 14,
   "metadata": {
    "collapsed": true
   },
   "outputs": [],
   "source": [
    "def drop_dup(d):\n",
    "    d = d.drop_duplicates(subset='gene', keep='first')\n",
    "    return d\n",
    "\n",
    "def merge(d1, d2):\n",
    "    return pd.merge(d1, d2, how='outer', on=['gene','width'])\n",
    "\n",
    "def merge2(d1, d2):\n",
    "    return pd.merge(d1, d2, how='outer', on='gene')"
   ]
  },
  {
   "cell_type": "code",
   "execution_count": 15,
   "metadata": {
    "collapsed": false
   },
   "outputs": [],
   "source": [
    "dft = merge(df_ON, df_OF)"
   ]
  },
  {
   "cell_type": "code",
   "execution_count": 16,
   "metadata": {
    "collapsed": false
   },
   "outputs": [],
   "source": [
    "dft = merge(dft, df_YN)"
   ]
  },
  {
   "cell_type": "code",
   "execution_count": 17,
   "metadata": {
    "collapsed": false
   },
   "outputs": [],
   "source": [
    "dft = merge(dft, df_YF)"
   ]
  },
  {
   "cell_type": "code",
   "execution_count": 18,
   "metadata": {
    "collapsed": false
   },
   "outputs": [],
   "source": [
    "dft = drop_dup(dft)"
   ]
  },
  {
   "cell_type": "code",
   "execution_count": 19,
   "metadata": {
    "collapsed": true
   },
   "outputs": [],
   "source": [
    "dft.dropna(thresh=(2), axis=0);"
   ]
  },
  {
   "cell_type": "code",
   "execution_count": 20,
   "metadata": {
    "collapsed": true
   },
   "outputs": [],
   "source": [
    "dft = dft[pd.notnull(dft).all(axis=1)]"
   ]
  },
  {
   "cell_type": "code",
   "execution_count": 21,
   "metadata": {
    "collapsed": true
   },
   "outputs": [],
   "source": [
    "df = dft"
   ]
  },
  {
   "cell_type": "code",
   "execution_count": 22,
   "metadata": {
    "collapsed": true
   },
   "outputs": [],
   "source": [
    "state_dict = {'AT2.young.flu.20150416': 'YF', 'AT2.old.naive.20150416': 'ON', \n",
    "                 'AT2.old.flu.20150416': 'OF', 'AT2.young.naive.20150416': 'YN'}"
   ]
  },
  {
   "cell_type": "code",
   "execution_count": 23,
   "metadata": {
    "collapsed": false
   },
   "outputs": [],
   "source": [
    "def rename_cols(df, state_dict):\n",
    "    cols = df.columns\n",
    "    temp_cols = list(cols)\n",
    "    #print temp_cols\n",
    "    for c in range(len(cols)):\n",
    "        state_name = cols[c][:-2]\n",
    "        #sample_num = cols[c][-2:]\n",
    "        total_name = cols[c]\n",
    "        #print state_name\n",
    "        if state_name in state_dict:\n",
    "            new_state_name = state_dict[state_name]\n",
    "            new_col = total_name.replace(state_name, new_state_name)\n",
    "            temp_cols[c] = new_col\n",
    "            #print abb_pair_dict[state_name]\n",
    "    df.columns = temp_cols\n",
    "    #print temp_cols\n",
    "    return df\n",
    "        \n",
    "    "
   ]
  },
  {
   "cell_type": "code",
   "execution_count": 24,
   "metadata": {
    "collapsed": false
   },
   "outputs": [],
   "source": [
    "df = rename_cols(df, state_dict)"
   ]
  },
  {
   "cell_type": "code",
   "execution_count": 25,
   "metadata": {
    "collapsed": false
   },
   "outputs": [
    {
     "data": {
      "text/plain": [
       "14285"
      ]
     },
     "execution_count": 25,
     "metadata": {},
     "output_type": "execute_result"
    }
   ],
   "source": [
    "len(df)"
   ]
  },
  {
   "cell_type": "code",
   "execution_count": 26,
   "metadata": {
    "collapsed": false
   },
   "outputs": [],
   "source": [
    "def df_to_names(df):\n",
    "    \n",
    "    name_dict = {}\n",
    "        \n",
    "    for i in range(2,len(df.columns)):\n",
    "        name = df.columns[i][:-2]\n",
    "        if name in name_dict:\n",
    "            name_dict[name].append(i)\n",
    "        else:\n",
    "            name_dict[name] = [i]\n",
    "            \n",
    "    return name_dict"
   ]
  },
  {
   "cell_type": "code",
   "execution_count": 27,
   "metadata": {
    "collapsed": false
   },
   "outputs": [],
   "source": [
    "name_dict = df_to_names(df)"
   ]
  },
  {
   "cell_type": "code",
   "execution_count": 28,
   "metadata": {
    "collapsed": false
   },
   "outputs": [],
   "source": [
    "def unique(a, b):\n",
    "    return list([a[i] for i in range(1,len(a)) if a[i] not in b])\n",
    "dww\n",
    "def union(a, b):\n",
    "    return list(set(a) | set(b))\n",
    "def intersect3(a, b, c):\n",
    "    return list(set(a) & set(b) & set(c))\n",
    "\n",
    "def unique3(a, b, c, index):\n",
    "    uniques = [0 for i in range(3)]\n",
    "    uniques[0] = list([a[i] for i in range(1,len(a)) if a[i] not in b and a[i] not in c])\n",
    "    uniques[1] = list([b[i] for i in range(1,len(b)) if b[i] not in a and b[i] not in c])\n",
    "    uniques[2] = list([c[i] for i in range(1,len(c)) if c[i] not in a and c[i] not in b])\n",
    "    return uniques[index]\n"
   ]
  },
  {
   "cell_type": "code",
   "execution_count": 29,
   "metadata": {
    "collapsed": true
   },
   "outputs": [],
   "source": [
    "def t_stat(df, names):\n",
    "    \n",
    "    ### Df has samples only, no gene\n",
    "    #print df\n",
    "    #names = df_to_names(df)\n",
    "    #print \"t-stat names\", names #names[0], name_dict[names[0]]\n",
    "    n_samples1 = len(name_dict[names[0]])\n",
    "    n_samples2 = len(name_dict[names[1]])\n",
    "    \n",
    "    index1 = 1\n",
    "    index2 = index1 + n_samples1\n",
    "    \n",
    "    width = df['width']\n",
    "    #print \"nsamps\", n_samples1, n_samples2\n",
    "    indices1 = [index1 + i for i in range(n_samples1)]\n",
    "    indices2 = [index2 + i for i in range(n_samples2)]\n",
    "    \n",
    "    values1 = [df[df.columns[i]] for i in indices1]\n",
    "    values2 = [df[df.columns[i]] for i in indices2]\n",
    "    \n",
    "    mean1 = sum(values1)/n_samples1\n",
    "    mean2 = sum(values2)/n_samples2\n",
    "    \n",
    "    var1_num = [(values1[i] - mean1)**2 for i in range(n_samples1)]\n",
    "    var2_num = [(values2[i] - mean2)**2 for i in range(n_samples2)]\n",
    "    \n",
    "    var1 = sum(var1_num)/(n_samples1 - 1)\n",
    "    var2 = sum(var2_num)/(n_samples2 - 1)\n",
    "    \n",
    "    t_stat = (mean1 - mean2) / (var1/n_samples1 + var2/n_samples2)**0.5\n",
    "    pval = stats.t.sf(np.abs(t_stat), n_samples1-1)*2 \n",
    "    \n",
    "    logfc = np.log2(mean2/mean1)\n",
    "    \n",
    "    diff = (mean2 - mean1) * width\n",
    "    diff2 = (mean2 - mean1)\n",
    "    \n",
    "    return [pval, logfc, diff, mean1, diff2]"
   ]
  },
  {
   "cell_type": "code",
   "execution_count": 30,
   "metadata": {
    "collapsed": false
   },
   "outputs": [],
   "source": [
    "### Create new temp dataframe with cols ['samp1a','samp1b','samp2a','samp2b','gene']\n",
    "### Add cols for logfc, pval\n",
    "def names_to_df(names):\n",
    "       \n",
    "    # For first name    \n",
    "    #print \"names to df\", names\n",
    "    indices = list(name_dict[names[0]])\n",
    "    l = len(indices)\n",
    "    indices.insert(0,1)\n",
    "    indices.insert(0,0)\n",
    "    #print indices\n",
    "    df_temp1 = df.ix[:,indices]\n",
    "    #print df_temp1\n",
    "    \n",
    "    # For second name\n",
    "    indices = list(name_dict[names[1]])\n",
    "    l = len(indices)\n",
    "    indices.insert(0,1)\n",
    "    indices.insert(0,0)\n",
    "    df_temp2 = df.ix[:,indices]\n",
    "    \n",
    "    dft = pd.merge(df_temp1, df_temp2, how='outer', on=['gene','width']);\n",
    "    \n",
    "    dft = dft.ix[1:];\n",
    "    dft_float = dft.ix[:,1:].astype('float');\n",
    "    dft_float = dft_float[dft_float > 0];\n",
    "\n",
    "    #print dft_float\n",
    "    dft['pval'], dft['logfc'], dft['diff'], dft['mean'], dft['diff_only'] = t_stat(dft_float, names)\n",
    "\n",
    "    return dft\n",
    "    #dft = merge(dft)"
   ]
  },
  {
   "cell_type": "code",
   "execution_count": 31,
   "metadata": {
    "collapsed": false
   },
   "outputs": [],
   "source": [
    "pairs_rel = [['YN','ON'],['YN','YF'],['ON','OF']]"
   ]
  },
  {
   "cell_type": "code",
   "execution_count": 36,
   "metadata": {
    "collapsed": false
   },
   "outputs": [],
   "source": [
    "def reset_pairs(df):\n",
    "    \n",
    "    name_dict = df_to_names(df)\n",
    "    names = name_dict.keys()\n",
    "    n_names = len(names)\n",
    "    pairs = [[[names[i], names[j]] for i in range(n_names) if i != j] for j in range(n_names)]\n",
    "    pairs = [pair for sublist in pairs for pair in sublist]\n",
    "    return pairs\n",
    "\n",
    "pairs = reset_pairs(df)"
   ]
  },
  {
   "cell_type": "code",
   "execution_count": 37,
   "metadata": {
    "collapsed": false
   },
   "outputs": [
    {
     "data": {
      "text/plain": [
       "{'OF': [6, 7, 8, 9],\n",
       " 'ON': [2, 3, 4, 5],\n",
       " 'YF': [14, 15, 16, 17],\n",
       " 'YN': [10, 11, 12, 13]}"
      ]
     },
     "execution_count": 37,
     "metadata": {},
     "output_type": "execute_result"
    }
   ],
   "source": [
    "name_dict"
   ]
  },
  {
   "cell_type": "code",
   "execution_count": 38,
   "metadata": {
    "collapsed": true
   },
   "outputs": [],
   "source": [
    "def filter_df(df, pcut = 0.05, fcut = 0.15, dcut = 25, mcut = 5):\n",
    "    \n",
    "    ### Filter all by pvalue\n",
    "    df = df[df['pval'] < pcut]\n",
    "    \n",
    "    ## Highly upregulated\n",
    "    df1 = df[df['diff'] > dcut]\n",
    "    \n",
    "    ## Highly downregulated\n",
    "    df2 = df[df['diff'] < -dcut]\n",
    "    \n",
    "    ## Weakly upregulated\n",
    "    df3 = df[df['diff'] < dcut]\n",
    "    df3 = df3[df3['diff'] > 0]\n",
    "    \n",
    "    ## Weakly downregulated\n",
    "    df4 = df[df['diff'] > -fcut]\n",
    "    df4 = df4[df4['diff'] < 0]\n",
    "    \n",
    "    return [df1, df2, df3, df4]\n",
    "        "
   ]
  },
  {
   "cell_type": "code",
   "execution_count": 39,
   "metadata": {
    "collapsed": true
   },
   "outputs": [],
   "source": [
    "def filter_grps(df, pcut = 0.05, fcut = 0, dcut = 0, mcut = 0):\n",
    "    \n",
    "    ### Filter all by pvalue\n",
    "    df = df[df['pval'] < pcut]\n",
    "    \n",
    "    ## Highly upregulated\n",
    "    df1 = df[df['diff'] > dcut]\n",
    "    df1 = df1[df1['mean'] > mcut]\n",
    "    df1 = df1[df1['logfc'] > fcut]\n",
    "    \n",
    "    ## Highly downregulated\n",
    "    df2 = df[df['diff'] < dcut]\n",
    "    df2 = df2[df2['mean'] > mcut]\n",
    "    df2 = df2[df2['logfc'] < -fcut]\n",
    "\n",
    "    return [df1, df2]\n",
    "        "
   ]
  },
  {
   "cell_type": "code",
   "execution_count": 40,
   "metadata": {
    "collapsed": true
   },
   "outputs": [],
   "source": [
    "def grp_stats(group):\n",
    "    \n",
    "    mean_diff = round(np.mean(group['diff']),0)\n",
    "    diff_low = round(np.mean(group['diff_only']),2)\n",
    "    mean_val = round(np.mean(group['mean']),2)\n",
    "    tot = mean_diff*len(group)\n",
    "    return [len(group), diff_low, tot/1000000, mean_val]\n"
   ]
  },
  {
   "cell_type": "code",
   "execution_count": 55,
   "metadata": {
    "collapsed": false,
    "scrolled": true
   },
   "outputs": [],
   "source": [
    "#n_groups = 2\n",
    "#for p1 in range(1,2):#len(pairs_rel)):\n",
    "\n",
    "def common_stats(pairs):\n",
    "    \n",
    "    pair1 = pairs[0]\n",
    "    print pair1\n",
    "    df1 = names_to_df(pair1)\n",
    "    df1_groups = filter_grps(df1)\n",
    "    df1_genes = [group['gene'] for group in df1_groups]\n",
    "    \n",
    "    pair2 = pairs[1]\n",
    "    print pair2\n",
    "    df2 = names_to_df(pair2)\n",
    "    df2_groups = filter_grps(df2)\n",
    "    df2_genes = [group['gene'] for group in df2_groups]\n",
    "        \n",
    "    common_genes = [pd.DataFrame(intersect(df1_genes[i], df2_genes[i])) for i in range(n_groups)]\n",
    "    #return df1_genes[0], df2_genes[0]\n",
    "    #break\n",
    "    unique_genes1 = [pd.DataFrame(unique(list(df1_genes[i]), list(df2_genes[i]))) for i in range(n_groups)]\n",
    "    unique_genes2 = [pd.DataFrame(unique(list(df2_genes[i]), list(df1_genes[i]))) for i in range(n_groups)]\n",
    "    \n",
    "    for i in range(n_groups):\n",
    "        common_genes[i].columns = ['gene']\n",
    "        unique_genes1[i].columns = ['gene']\n",
    "        unique_genes2[i].columns = ['gene']\n",
    "    \n",
    "    upgenes1 = unique(list(df1_genes[0]), list(df2_genes[0]))\n",
    "    upgenes2 = unique(list(df2_genes[0]), list(df1_genes[0]))\n",
    "    print \"# in common\", [len(common_genes[i]) for i in range(n_groups)]\n",
    "    print \"# unique in 1\", [len(unique_genes1[i]) for i in range(n_groups)]\n",
    "    print \"# in group1\", [len(genes) for genes in df1_genes]\n",
    "        #print common_genes[0]\n",
    "        ## Of the common genes, which are in first pair\n",
    "        #print df1_groups[0]\n",
    "    df1_common = [pd.merge(common_genes[i], df1_groups[i], how='left') for i in range(n_groups)]\n",
    "    df2_common = [pd.merge(common_genes[i], df2_groups[i], how='left') for i in range(n_groups)]\n",
    "    \n",
    "    #@df1[~ (df1_groups[0].gene.isin(df1_common.id1) & df1.id2.isin(df2.id2))]\n",
    "    \n",
    "    df1_unique = [pd.merge(unique_genes1[i], df1_groups[i], how='left') for i in range(n_groups)]\n",
    "    df2_unique = [pd.merge(unique_genes2[i], df2_groups[i], how='left') for i in range(n_groups)]\n",
    "    \n",
    "    dfs_uniq = [df1_unique, df2_unique]\n",
    "    dfs_comm = [df1_common, df2_common]\n",
    "    dfs_tots = [df1_groups, df2_groups]\n",
    "    #dfup_comm = df1_common[0]\n",
    "    #ne = (df1 != df2).any(1)\n",
    "        #print \"In common with pair 1\"\n",
    "        \n",
    "        ## In\n",
    "    d_graph = []\n",
    "    for i in range(len(df1_groups)):\n",
    "        \n",
    "        if i==0: print \"UPREG\"\n",
    "        else: print \"DOWN REG\"\n",
    "        \n",
    "        print \"FIRST GROUP\"\n",
    "        print \"Total\"\n",
    "        \n",
    "        print grp_stats(df1_groups[i])\n",
    "\n",
    "        print \"Common\"\n",
    "        print grp_stats(df1_common[i])\n",
    "        \n",
    "        comm_1 = grp_stats(df1_common[i])[2]\n",
    "        \n",
    "        print \"Unique\"\n",
    "        print grp_stats(df1_unique[i])\n",
    "        \n",
    "        uniq_1 = grp_stats(df1_unique[i])[2]\n",
    "\n",
    "        d1 = [comm_1, uniq_1]\n",
    "        d_graph.append(d1)\n",
    "        \n",
    "        print \"Second Group\"\n",
    "        print \"Total\"\n",
    "        print grp_stats(df2_groups[i])\n",
    "        \n",
    "        print \"Common\"\n",
    "        comm_2 = grp_stats(df2_common[i])[2]\n",
    "        print grp_stats(df2_common[i])\n",
    "        \n",
    "        print \"Unique\"\n",
    "        uniq_2 = grp_stats(df2_unique[i])[2]\n",
    "        print grp_stats(df2_unique[i])\n",
    "        \n",
    "        d2 = [comm_2, uniq_2]\n",
    "        d_graph.append(d2)\n",
    "        print '\\n'\n",
    "    \n",
    "    return dfs_uniq, dfs_comm, dfs_tots\n",
    "\n",
    "  "
   ]
  },
  {
   "cell_type": "code",
   "execution_count": 54,
   "metadata": {
    "collapsed": false,
    "scrolled": true
   },
   "outputs": [
    {
     "ename": "SyntaxError",
     "evalue": "invalid syntax (<ipython-input-54-3a8cc7b831cd>, line 23)",
     "output_type": "error",
     "traceback": [
      "\u001b[0;36m  File \u001b[0;32m\"<ipython-input-54-3a8cc7b831cd>\"\u001b[0;36m, line \u001b[0;32m23\u001b[0m\n\u001b[0;31m    if gtype = 'unique'\u001b[0m\n\u001b[0m             ^\u001b[0m\n\u001b[0;31mSyntaxError\u001b[0m\u001b[0;31m:\u001b[0m invalid syntax\n"
     ]
    }
   ],
   "source": [
    "#n_groups = 2\n",
    "#for p1 in range(1,2):#len(pairs_rel)):\n",
    "\n",
    "\n",
    "def get_genes(pairs, gtype = 'unique', updn = 'dn'):\n",
    "    \n",
    "    pair1 = pairs[0]\n",
    "    print pair1\n",
    "    df1 = names_to_df(pair1)\n",
    "    df1_groups = filter_grps(df1)\n",
    "    df1_genes = [group['gene'] for group in df1_groups]\n",
    "    \n",
    "    pair2 = pairs[1]\n",
    "    print pair2\n",
    "    df2 = names_to_df(pair2)\n",
    "    df2_groups = filter_grps(df2)\n",
    "    df2_genes = [group['gene'] for group in df2_groups]\n",
    "        \n",
    "    common_genes = [pd.DataFrame(intersect(df1_genes[i], df2_genes[i])) for i in range(n_groups)]\n",
    "    unique_genes1 = [pd.DataFrame(unique(list(df1_genes[i]), list(df2_genes[i]))) for i in range(n_groups)]\n",
    "    unique_genes2 = [pd.DataFrame(unique(list(df2_genes[i]), list(df1_genes[i]))) for i in range(n_groups)]\n",
    "    \n",
    "    if gtype = 'unique'\n",
    "    \n",
    "    for i in range(n_groups):\n",
    "        common_genes[i].columns = ['gene']\n",
    "        unique_genes1[i].columns = ['gene']\n",
    "        unique_genes2[i].columns = ['gene']\n",
    "    \n",
    "    upgenes1 = unique(list(df1_genes[0]), list(df2_genes[0]))\n",
    "    upgenes2 = unique(list(df2_genes[0]), list(df1_genes[0]))\n",
    "    print \"# in common\", [len(common_genes[i]) for i in range(n_groups)]\n",
    "    print \"# unique in 1\", [len(unique_genes1[i]) for i in range(n_groups)]\n",
    "    print \"# in group1\", [len(genes) for genes in df1_genes]\n",
    "        #print common_genes[0]\n",
    "        ## Of the common genes, which are in first pair\n",
    "        #print df1_groups[0]\n",
    "    df1_common = [pd.merge(common_genes[i], df1_groups[i], how='left') for i in range(n_groups)]\n",
    "    df2_common = [pd.merge(common_genes[i], df2_groups[i], how='left') for i in range(n_groups)]\n",
    "    \n",
    "    #@df1[~ (df1_groups[0].gene.isin(df1_common.id1) & df1.id2.isin(df2.id2))]\n",
    "    \n",
    "    df1_unique = [pd.merge(unique_genes1[i], df1_groups[i], how='left') for i in range(n_groups)]\n",
    "    df2_unique = [pd.merge(unique_genes2[i], df2_groups[i], how='left') for i in range(n_groups)]\n",
    "    \n",
    "    dfs_uniq = [df1_unique, df2_unique]\n",
    "    dfs_comm = [df1_common, df2_common]\n",
    "    dfs_tots = [df1_groups, df2_groups]\n",
    "    #dfup_comm = df1_common[0]\n",
    "    #ne = (df1 != df2).any(1)\n",
    "        #print \"In common with pair 1\"\n",
    "        \n",
    "        ## In\n",
    "    d_graph = []\n",
    "    for i in range(len(df1_groups)):\n",
    "        \n",
    "        if i==0: print \"UPREG\"\n",
    "        else: print \"DOWN REG\"\n",
    "        \n",
    "        print \"FIRST GROUP\"\n",
    "        print \"Total\"\n",
    "        \n",
    "        print grp_stats(df1_groups[i])\n",
    "\n",
    "        print \"Common\"\n",
    "        print grp_stats(df1_common[i])\n",
    "        \n",
    "        comm_1 = grp_stats(df1_common[i])[2]\n",
    "        \n",
    "        print \"Unique\"\n",
    "        print grp_stats(df1_unique[i])\n",
    "        \n",
    "        uniq_1 = grp_stats(df1_unique[i])[2]\n",
    "\n",
    "        d1 = [comm_1, uniq_1]\n",
    "        d_graph.append(d1)\n",
    "        \n",
    "        print \"Second Group\"\n",
    "        print \"Total\"\n",
    "        print grp_stats(df2_groups[i])\n",
    "        \n",
    "        print \"Common\"\n",
    "        comm_2 = grp_stats(df2_common[i])[2]\n",
    "        print grp_stats(df2_common[i])\n",
    "        \n",
    "        print \"Unique\"\n",
    "        uniq_2 = grp_stats(df2_unique[i])[2]\n",
    "        print grp_stats(df2_unique[i])\n",
    "        \n",
    "        d2 = [comm_2, uniq_2]\n",
    "        d_graph.append(d2)\n",
    "        print '\\n'\n",
    "    \n",
    "    return d_graph #dfs_uniq, dfs_comm, dfs_tots\n",
    "\n",
    "  "
   ]
  },
  {
   "cell_type": "code",
   "execution_count": 51,
   "metadata": {
    "collapsed": false
   },
   "outputs": [
    {
     "name": "stdout",
     "output_type": "stream",
     "text": [
      "['YN', 'YF']\n",
      "['ON', 'OF']\n",
      "# in common [681, 463]\n",
      "# unique in 1 [460, 459]\n",
      "# in group1 [1141, 923]\n",
      "UPREG\n",
      "FIRST GROUP\n",
      "Total\n",
      "[1141, 9.21, 75.761259, 7.73]\n",
      "Common\n",
      "[681, 14.35, 68.205555, 10.32]\n",
      "Unique\n",
      "[460, 1.58, 7.55596, 3.9]\n",
      "Second Group\n",
      "Total\n",
      "[1202, 10.73, 84.148414, 10.37]\n",
      "Common\n",
      "[681, 15.96, 73.165959, 11.37]\n",
      "Unique\n",
      "[521, 3.9, 10.982159, 9.06]\n",
      "\n",
      "\n",
      "DOWN REG\n",
      "FIRST GROUP\n",
      "Total\n",
      "[923, -9.7, -46.144462, 43.3]\n",
      "Common\n",
      "[463, -17.63, -37.402066, 79.33]\n",
      "Unique\n",
      "[459, -1.73, -8.718246, 7.03]\n",
      "Second Group\n",
      "Total\n",
      "[1373, -7.79, -56.887509, 32.06]\n",
      "Common\n",
      "[463, -16.5, -34.020314, 76.35]\n",
      "Unique\n",
      "[909, -3.37, -22.862259, 9.54]\n",
      "\n",
      "\n"
     ]
    },
    {
     "data": {
      "text/plain": [
       "[[68.205555, 7.55596],\n",
       " [73.165959, 10.982159],\n",
       " [-37.402066, -8.718246],\n",
       " [-34.020314, -22.862259]]"
      ]
     },
     "execution_count": 51,
     "metadata": {},
     "output_type": "execute_result"
    }
   ],
   "source": [
    "common_stats(pairs_rel[1:])"
   ]
  },
  {
   "cell_type": "code",
   "execution_count": 45,
   "metadata": {
    "collapsed": false,
    "scrolled": true
   },
   "outputs": [],
   "source": [
    "n_groups = 2\n",
    "#for p1 in range(1,2):#len(pairs_rel)):\n",
    "\n",
    "out1 = open('YN_YF_unique_up','w')\n",
    "\n",
    "def common_stats_graph(pairs):\n",
    "    \n",
    "    pair1 = pairs[0]\n",
    "    print pair1\n",
    "    df1 = names_to_df(pair1)\n",
    "    df1_groups = filter_grps(df1, fcut=0.1)\n",
    "    df1_genes = [group['gene'] for group in df1_groups]\n",
    "    \n",
    "    pair2 = pairs[1]\n",
    "    print pair2\n",
    "    df2 = names_to_df(pair2)\n",
    "    df2_groups = filter_grps(df2, fcut=0.1)\n",
    "    df2_genes = [group['gene'] for group in df2_groups]\n",
    "    \n",
    "    common_genes = [pd.DataFrame(intersect(df1_genes[i], df2_genes[i])) for i in range(n_groups)]\n",
    "    #return df1_genes[0], df2_genes[0]\n",
    "    #break\n",
    "    unique_genes1 = [pd.DataFrame(unique(list(df1_genes[i]), list(df2_genes[i]))) for i in range(n_groups)]\n",
    "    unique_genes2 = [pd.DataFrame(unique(list(df2_genes[i]), list(df1_genes[i]))) for i in range(n_groups)]\n",
    "    \n",
    "    for i in range(n_groups):\n",
    "        common_genes[i].columns = ['gene']\n",
    "        unique_genes1[i].columns = ['gene']\n",
    "        unique_genes2[i].columns = ['gene']\n",
    "    \n",
    "    upgenes1 = unique(list(df1_genes[0]), list(df2_genes[0]))\n",
    "    upgenes2 = unique(list(df2_genes[0]), list(df1_genes[0]))\n",
    "    print \"# in common\", [len(common_genes[i]) for i in range(n_groups)]\n",
    "    print \"# unique in 1\", [len(unique_genes1[i]) for i in range(n_groups)]\n",
    "    print \"# in group1\", [len(genes) for genes in df1_genes]\n",
    "        #print common_genes[0]\n",
    "        ## Of the common genes, which are in first pair\n",
    "        #print df1_groups[0]\n",
    "    df1_common = [pd.merge(common_genes[i], df1_groups[i], how='left') for i in range(n_groups)]\n",
    "    df2_common = [pd.merge(common_genes[i], df2_groups[i], how='left') for i in range(n_groups)]\n",
    "    \n",
    "    #@df1[~ (df1_groups[0].gene.isin(df1_common.id1) & df1.id2.isin(df2.id2))]\n",
    "    \n",
    "    df1_unique = [pd.merge(unique_genes1[i], df1_groups[i], how='left') for i in range(n_groups)]\n",
    "    df2_unique = [pd.merge(unique_genes2[i], df2_groups[i], how='left') for i in range(n_groups)]\n",
    "    \n",
    "    dfs_uniq = [df1_unique, df2_unique]\n",
    "    dfs_comm = [df1_common, df2_common]\n",
    "    dfs_tots = [df1_groups, df2_groups]\n",
    "    #dfup_comm = df1_common[0]\n",
    "    #ne = (df1 != df2).any(1)\n",
    "        #print \"In common with pair 1\"\n",
    "        \n",
    "        ## In\n",
    "    p1_graph = []\n",
    "    p2_graph = []\n",
    "    p_graph = []\n",
    "    for i in range(len(df1_groups)):\n",
    "            \n",
    "        if i==0: card = 1\n",
    "        else: card = -1\n",
    "                \n",
    "        comm_1 = grp_stats(df1_common[i])[2]\n",
    " \n",
    "        uniq_1 = grp_stats(df1_unique[i])[2]\n",
    "\n",
    "        d1 = [card*comm_1, card*uniq_1]\n",
    "        \n",
    "        p_graph.append(d1)\n",
    "        \n",
    "        comm_2 = grp_stats(df2_common[i])[2]\n",
    "  \n",
    "        uniq_2 = grp_stats(df2_unique[i])[2]\n",
    "\n",
    "        \n",
    "        d2 = [card*comm_2, card*uniq_2]\n",
    "        p_graph.append(d2)\n",
    "    \n",
    "    pd.DataFrame(p_graph, columns=['a', 'b']).plot(kind='bar',stacked=True, title = pairs)\n",
    "    #plt.axhline(0, color='k')\n",
    "    #return p_graph #dfs_uniq, dfs_comm, dfs_tots\n",
    "\n",
    "  "
   ]
  },
  {
   "cell_type": "code",
   "execution_count": 49,
   "metadata": {
    "collapsed": false,
    "scrolled": true
   },
   "outputs": [
    {
     "name": "stdout",
     "output_type": "stream",
     "text": [
      "['YN', 'ON']\n",
      "['ON', 'OF']\n",
      "# in common [85, 70]\n",
      "# unique in 1 [491, 503]\n",
      "# in group1 [577, 574]\n"
     ]
    },
    {
     "data": {
      "image/png": "[encoded data removed]",
      "text/plain": [
       "<matplotlib.figure.Figure at 0x10c1d5790>"
      ]
     },
     "metadata": {},
     "output_type": "display_data"
    }
   ],
   "source": [
    "d_graph_age0 = common_stats_graph([['YN','ON'],['ON','OF']])"
   ]
  },
  {
   "cell_type": "code",
   "execution_count": 47,
   "metadata": {
    "collapsed": false
   },
   "outputs": [],
   "source": [
    "def uniq_ratio(lst):\n",
    "    return [lst[i][1]/lst[i][0] for i in range(len(lst))]"
   ]
  },
  {
   "cell_type": "code",
   "execution_count": 48,
   "metadata": {
    "collapsed": false
   },
   "outputs": [
    {
     "name": "stdout",
     "output_type": "stream",
     "text": [
      "['YN', 'YF']\n",
      "['ON', 'OF']\n",
      "# in common [681, 463]\n",
      "# unique in 1 [459, 459]\n",
      "# in group1 [1140, 923]\n"
     ]
    },
    {
     "data": {
      "image/png": "[encoded data removed]",
      "text/plain": [
       "<matplotlib.figure.Figure at 0x10c149090>"
      ]
     },
     "metadata": {},
     "output_type": "display_data"
    }
   ],
   "source": [
    "d_graph_flu = common_stats_graph([['YN','YF'],['ON','OF']])"
   ]
  },
  {
   "cell_type": "code",
   "execution_count": null,
   "metadata": {
    "collapsed": false
   },
   "outputs": [],
   "source": [
    "pd.DataFrame(d_graph_flu).plot(kind='bar',stacked=True)"
   ]
  },
  {
   "cell_type": "code",
   "execution_count": null,
   "metadata": {
    "collapsed": false
   },
   "outputs": [],
   "source": [
    "pd.DataFrame(uniq_ratio(d_graph)).plot(kind='bar',stacked=True)"
   ]
  },
  {
   "cell_type": "code",
   "execution_count": null,
   "metadata": {
    "collapsed": false
   },
   "outputs": [],
   "source": [
    "dfY_up = dfsuniq[0][0].ix[:,[0,10,11]]\n",
    "dfY_dn = dfsuniq[0][1].ix[:,[0,10,11]]\n",
    "dfO_up = dfsuniq[1][0].ix[:,[0,10,11]]\n",
    "dfO_dn = dfsuniq[1][1].ix[:,[0,10,11]]"
   ]
  },
  {
   "cell_type": "code",
   "execution_count": null,
   "metadata": {
    "collapsed": false
   },
   "outputs": [],
   "source": [
    "df2 = pd.DataFrame(np.random.rand(4, 2), columns=['a', 'b'])"
   ]
  },
  {
   "cell_type": "code",
   "execution_count": null,
   "metadata": {
    "collapsed": false
   },
   "outputs": [],
   "source": [
    "dfY_up_comm = dfs_comm[0][0].ix[:,[0,10,11]]\n",
    "dfY_dn_comm = dfs_comm[0][1].ix[:,[0,10,11]]\n",
    "dfO_up_comm = dfs_comm[1][0].ix[:,[0,10,11]]\n",
    "dfO_dn_comm = dfs_comm[1][1].ix[:,[0,10,11]]"
   ]
  },
  {
   "cell_type": "code",
   "execution_count": null,
   "metadata": {
    "collapsed": false
   },
   "outputs": [],
   "source": [
    "dfY_up_comm.to_csv('dfY_up_comm.txt',sep='\\t', index=False)\n",
    "dfY_dn_comm.to_csv('dfY_dn_comm.txt',sep='\\t', index=False)\n",
    "dfO_up_comm.to_csv('dfO_up_comm.txt',sep='\\t', index=False)\n",
    "dfO_dn_comm.to_csv('dfO_dn_comm.txt',sep='\\t', index=False)"
   ]
  },
  {
   "cell_type": "code",
   "execution_count": null,
   "metadata": {
    "collapsed": false
   },
   "outputs": [],
   "source": [
    "dfY_up.to_csv('dfY_up.txt',sep='\\t', index=False)\n",
    "dfY_dn.to_csv('dfY_dn.txt',sep='\\t', index=False)\n",
    "dfO_up.to_csv('dfO_up.txt',sep='\\t', index=False)\n",
    "dfO_dn.to_csv('dfO_dn.txt',sep='\\t', index=False)"
   ]
  },
  {
   "cell_type": "code",
   "execution_count": 56,
   "metadata": {
    "collapsed": false
   },
   "outputs": [
    {
     "name": "stdout",
     "output_type": "stream",
     "text": [
      "['YN', 'YF']\n",
      "['ON', 'OF']\n",
      "# in common [681, 463]\n",
      "# unique in 1 [460, 459]\n",
      "# in group1 [1141, 923]\n",
      "UPREG\n",
      "FIRST GROUP\n",
      "Total\n",
      "[1141, 9.21, 75.761259, 7.73]\n",
      "Common\n",
      "[681, 14.35, 68.205555, 10.32]\n",
      "Unique\n",
      "[460, 1.58, 7.55596, 3.9]\n",
      "Second Group\n",
      "Total\n",
      "[1202, 10.73, 84.148414, 10.37]\n",
      "Common\n",
      "[681, 15.96, 73.165959, 11.37]\n",
      "Unique\n",
      "[521, 3.9, 10.982159, 9.06]\n",
      "\n",
      "\n",
      "DOWN REG\n",
      "FIRST GROUP\n",
      "Total\n",
      "[923, -9.7, -46.144462, 43.3]\n",
      "Common\n",
      "[463, -17.63, -37.402066, 79.33]\n",
      "Unique\n",
      "[459, -1.73, -8.718246, 7.03]\n",
      "Second Group\n",
      "Total\n",
      "[1373, -7.79, -56.887509, 32.06]\n",
      "Common\n",
      "[463, -16.5, -34.020314, 76.35]\n",
      "Unique\n",
      "[909, -3.37, -22.862259, 9.54]\n",
      "\n",
      "\n"
     ]
    }
   ],
   "source": [
    "dfs_comm, dfs_uniq, dfsgrps = common_stats([['YN','YF'],['ON','OF']])\n",
    "## Commonly regulated genes used in aging and old flu are 50% higher in flu.\n",
    "## CRGs comprise 20% in upreg, but only 5% in ON_OF downerg\n",
    "## Much more downreg URGs "
   ]
  },
  {
   "cell_type": "code",
   "execution_count": 60,
   "metadata": {
    "collapsed": false
   },
   "outputs": [
    {
     "data": {
      "text/plain": [
       "[               gene   width        YN.1        YN.2        YN.3        YN.4  \\\n",
       " 0           Gm20536    6355  128.859799  157.366727  136.554340  134.476444   \n",
       " 1              Nub1   24741    2.994678    2.776934    2.644356    2.828954   \n",
       " 2             Cmpk2   10632    2.228858    1.120961    0.879071    1.493637   \n",
       " 3             Nampt   33035    1.861444    1.220254    1.556064    1.477746   \n",
       " 4               Ehf   39846    3.176860    3.492468    3.107923    3.173583   \n",
       " 5     3010026O09Rik   25672    0.128530    0.177505    0.291252    0.332204   \n",
       " 6              Tbl3    9712    3.459232    3.717537    3.753143    3.028011   \n",
       " 7           Gm13571   33047    0.099846    0.116678    0.084845    0.071191   \n",
       " 8           Gm26522    4743   18.277428   20.915103   14.483495   16.120792   \n",
       " 9              Bak1    9200    2.021502    1.409745    1.473056    1.438437   \n",
       " 10            H2-M3    4265    0.843981    1.232818    0.766987    1.034281   \n",
       " 11              Sp5    2807    7.907873    8.616549    8.490571    7.647978   \n",
       " 12              B2m    5398   48.734562   45.456067   52.462490   44.891125   \n",
       " 13             Mlkl   26381    0.045482    0.053149    0.053142    0.055737   \n",
       " 14          Slc39a1    5441   14.664703   13.980017   13.398465   14.539173   \n",
       " 15          Slc39a4    4468   47.062524   40.639026   31.795787   32.777992   \n",
       " 16            Rbm38   14237    0.337110    0.344696    0.689303    0.702306   \n",
       " 17             Bcl3   14309    1.635143    1.739305    2.318773    1.849692   \n",
       " 18             Snx7   87440    1.149225    1.443175    1.325411    1.156950   \n",
       " 19    A930024N18Rik    4476    0.469114    0.234940    0.522022    0.262806   \n",
       " 20             Med1   41140    1.144737    1.082097    0.954166    1.043650   \n",
       " 21            Trpm6  142528    0.406188    0.440230    0.403287    0.458056   \n",
       " 22          Hsd11b2    5239    0.400793    0.735988    0.445996    0.898127   \n",
       " 23            Surf4   13889   15.485261   16.859014   15.107219   15.901391   \n",
       " 24           Picalm   79216    1.870615    1.792127    2.135526    1.841344   \n",
       " 25            Cxadr   58290    2.835489    2.736176    2.549425    2.573015   \n",
       " 26            Ddx58   36056    0.831942    0.768027    0.777648    0.840090   \n",
       " 27          Il18rap   36344    0.140309    0.115738    0.141439    0.169923   \n",
       " 28             Arg2   25525    0.975400    1.016232    0.915405    0.944744   \n",
       " 29          Gm15418   16749    5.534010    6.487831    5.301196    6.531610   \n",
       " ..              ...     ...         ...         ...         ...         ...   \n",
       " 651            Pgm2   57881    2.404652    2.870576    3.059936    2.601358   \n",
       " 652            Ctsz   11547   18.158433   18.517714   17.119078   17.140049   \n",
       " 653          Polr3b  104741    0.337937    0.334665    0.294467    0.345346   \n",
       " 654            Lcp1   99742    2.204430    2.368692    2.562822    2.249638   \n",
       " 655          Plxnb2   15572   39.142600   34.103184   28.299350   29.196531   \n",
       " 656            Dpp9   32208    5.476258    5.463446    4.947659    6.108415   \n",
       " 657          Nfkbib    9262    2.850022    2.724924    1.967746    2.794114   \n",
       " 658           Trim5   24709    0.060700    0.099305    0.018913    0.059509   \n",
       " 659            Lcn2    3165  160.929006  175.542487  141.301699  210.362764   \n",
       " 660          Nfkbie    7454    0.281695    0.423233    0.564238    0.276169   \n",
       " 661          Nfkbiz   27525    0.893628    1.107946    2.003382    1.356883   \n",
       " 662          Shisa5   19160    8.814207    8.379086    7.634103    7.812471   \n",
       " 663          Map2k1   67862    1.246502    1.435968    1.088027    1.395389   \n",
       " 664             Mal   23470    6.876058    8.065056    6.052986    6.365269   \n",
       " 665         Gm17120    1938    2.631271    1.446981    0.964529    2.579653   \n",
       " 666          Plxna2  197041    0.360796    0.314879    0.275113    0.349241   \n",
       " 667           H2-Aa    5084  110.746265  125.967845  110.486212  101.632447   \n",
       " 668         Gm26637   10459    0.200760    0.201089    0.402125    0.168705   \n",
       " 669           Prkcd   30855    1.779082    1.863138    1.923478    1.734651   \n",
       " 670           Gmppb    3533    4.330090    5.655329    5.026308    3.496003   \n",
       " 671           Usp33   47135    2.450121    2.892896    2.924743    2.533079   \n",
       " 672           Malt1   47861    0.369778    0.424789    0.458908    0.393246   \n",
       " 673  9930111J21Rik2   35369    0.101772    0.039643    0.066063    0.074832   \n",
       " 674           Fnbp4   35652    0.344961    0.285129    0.340799    0.412432   \n",
       " 675         Gm15821    3148    5.812534    6.012924    6.680161    5.605091   \n",
       " 676          Myo18a  102735    1.059885    1.119134    1.009819    1.196531   \n",
       " 677            Jak3   14280    1.764499    2.160136    1.472629    2.079981   \n",
       " 678         Tmem140   11801    1.093000    1.128734    1.346385    1.594877   \n",
       " 679          Mvb12a    5095    7.830289   10.044663    7.612776    7.849841   \n",
       " 680              Hp    4043  206.184096  232.184662  167.021841  212.831909   \n",
       " \n",
       "            YF.1        YF.2        YF.3         YF.4      pval     logfc  \\\n",
       " 0    210.174832  208.942979  192.931155   206.082636  0.003060  0.553989   \n",
       " 1      3.605496    3.431264    3.687275     3.365784  0.006407  0.325379   \n",
       " 2     15.912263   18.478782   15.504465    21.735532  0.001509  3.645860   \n",
       " 3      3.652095    4.446138    3.626682     4.643481  0.003228  1.420369   \n",
       " 4      5.558172    4.842717    3.992110     4.519714  0.021760  0.546311   \n",
       " 5      0.572467    0.923812    0.674726     0.527687  0.021785  1.537748   \n",
       " 6      6.193636    7.048323    6.212598     6.481950  0.001407  0.893900   \n",
       " 7      0.258553    0.195722    0.148509     0.204962  0.021448  1.116430   \n",
       " 8     25.869202   24.603424   27.451057    29.065662  0.011925  0.616234   \n",
       " 9      3.343462    2.460664    2.541750     2.468563  0.022914  0.769781   \n",
       " 10     3.445808    4.802367    2.572173     3.736786  0.010914  1.908317   \n",
       " 11    12.541126   10.753167   11.107517    11.071576  0.006128  0.477366   \n",
       " 12   321.831788  395.864278  287.569494   419.840141  0.002166  2.895319   \n",
       " 13     0.608903    0.592512    0.317353     0.649433  0.007526  3.385244   \n",
       " 14    18.718854   20.555599   19.525616    19.551937  0.001426  0.469618   \n",
       " 15    55.381806   57.483144   50.139987    62.690165  0.025576  0.567693   \n",
       " 16     1.056272    1.135778    0.831383     1.371307  0.031288  1.083769   \n",
       " 17     4.156059    4.294240    3.450027     3.926152  0.003227  1.069147   \n",
       " 18     2.032520    2.305432    1.931441     2.191756  0.004463  0.737514   \n",
       " 19     0.839932    0.842944    0.515983     0.979174  0.040635  1.093904   \n",
       " 20     1.470451    1.238107    1.438551     1.336510  0.017566  0.376297   \n",
       " 21     0.786530    0.663694    0.607655     0.651348  0.008580  0.665774   \n",
       " 22     3.327082    3.806660    2.865435     3.878636  0.001699  2.483842   \n",
       " 23    17.939001   18.860624   18.748702    21.056313  0.022826  0.274021   \n",
       " 24     2.778527    2.384876    2.376131     2.514863  0.015603  0.396255   \n",
       " 25     3.078272    2.954388    3.105340     3.280986  0.020450  0.215732   \n",
       " 26     5.109200    5.620838    4.451772     5.492070  0.000477  2.683705   \n",
       " 27     0.357349    0.385595    0.301847     0.449478  0.005751  1.396978   \n",
       " 28     1.405935    1.509840    1.391153     1.701445  0.005481  0.641449   \n",
       " 29     9.488680    9.396903   10.100535    10.038777  0.001939  0.710124   \n",
       " ..          ...         ...         ...          ...       ...       ...   \n",
       " 651    3.401169    3.804055    3.396618     4.013191  0.022233  0.418299   \n",
       " 652   18.351190   21.565701   20.476249    21.393398  0.045428  0.205360   \n",
       " 653    0.495985    0.483729    0.520932     0.410832  0.010699  0.542465   \n",
       " 654    3.035969    3.112685    3.247510     3.295590  0.003702  0.435373   \n",
       " 655   56.428615   52.128034   49.518234    53.552788  0.005976  0.694809   \n",
       " 656    9.635268    8.216910    8.380762     7.805898  0.007261  0.629955   \n",
       " 657    3.837693    3.317117    3.865027     4.000695  0.019583  0.539146   \n",
       " 658    0.248977    0.207233    0.257041     0.193501  0.005121  1.927169   \n",
       " 659  685.387994  852.015626  675.440357  1260.136567  0.014881  2.335409   \n",
       " 660    2.109163    0.903881    0.968247     1.443217  0.042974  1.811573   \n",
       " 661    4.010670    3.377945    3.104560     2.648994  0.013668  1.293403   \n",
       " 662   20.121266   21.984888   18.683655    22.375565  0.000781  1.349348   \n",
       " 663    1.797973    1.791062    1.965400     1.919899  0.007785  0.532929   \n",
       " 664    8.475232   10.093379    8.265932     9.336989  0.036438  0.402820   \n",
       " 665    3.703456    4.449969    3.575141     6.784493  0.049578  1.280220   \n",
       " 666    0.412821    0.388439    0.452728     0.414529  0.029228  0.360023   \n",
       " 667  157.510117  188.555454  157.236392   198.668802  0.012686  0.645233   \n",
       " 668    1.307108    1.262603    1.324911     1.257132  0.000337  2.405028   \n",
       " 669    2.425829    2.698943    2.264256     2.363104  0.009296  0.417752   \n",
       " 670    8.803178    9.230017    9.642153    10.262543  0.003199  1.035511   \n",
       " 671    4.263591    3.527788    3.564636     3.161443  0.037602  0.426645   \n",
       " 672    2.185151    1.548502    1.182252     1.523444  0.010689  1.967319   \n",
       " 673    1.488126    1.036279    0.710121     1.126508  0.007885  3.949322   \n",
       " 674    1.140788    0.884429    0.736874     0.737594  0.012694  1.339089   \n",
       " 675   22.582412   26.624805   18.799868    29.743385  0.004573  2.019429   \n",
       " 676    2.225612    1.584453    1.652322     1.508650  0.031211  0.668675   \n",
       " 677    3.135341    3.548056    3.032485     3.962027  0.009892  0.871269   \n",
       " 678    2.143160    3.859479    2.666511     3.882722  0.026424  1.281622   \n",
       " 679   13.483219   11.954324   10.652445    16.500440  0.040017  0.657651   \n",
       " 680  235.853416  281.566475  258.702276   278.106103  0.041826  0.365622   \n",
       " \n",
       "                diff        mean   diff_only  \n",
       " 0     414464.030166  139.314328   65.218573  \n",
       " 1      17596.398487    2.811230    0.711224  \n",
       " 2     175184.830514    1.430632   16.477129  \n",
       " 3      84676.037415    1.528877    2.563222  \n",
       " 4      59389.249225    3.237709    1.490470  \n",
       " 5      11354.734739    0.232373    0.442300  \n",
       " 6      29084.004355    3.489481    2.994646  \n",
       " 7       3595.402946    0.093140    0.108797  \n",
       " 8      44101.039480   17.449204    9.298132  \n",
       " 9      10284.906405    1.585685    1.117925  \n",
       " 10     11386.556031    0.969517    2.669767  \n",
       " 11      8989.708617    8.165743    3.202604  \n",
       " 12   1664691.183576   47.886061  308.390364  \n",
       " 13     12931.250332    0.051878    0.490173  \n",
       " 14     29612.163973   14.145589    5.442412  \n",
       " 15     82009.885968   38.068832   18.354943  \n",
       " 16      8262.178223    0.518354    0.580331  \n",
       " 17     29632.382824    1.885728    2.070891  \n",
       " 18     74026.427889    1.268690    0.846597  \n",
       " 19      1890.159213    0.372221    0.422288  \n",
       " 20     12948.498016    1.056162    0.314742  \n",
       " 21     35684.188980    0.426940    0.250366  \n",
       " 22     14927.101772    0.620226    2.849227  \n",
       " 23     46013.408216   15.838221    3.312939  \n",
       " 24     47822.417936    1.909903    0.603696  \n",
       " 25     25135.844086    2.673526    0.431221  \n",
       " 26    157349.959708    0.804426    4.364044  \n",
       " 27      8421.444393    0.141852    0.231715  \n",
       " 28     13761.760860    0.962945    0.539148  \n",
       " 29     63521.622487    5.963662    3.792562  \n",
       " ..              ...         ...         ...  \n",
       " 651    53228.968244    2.734131    0.919628  \n",
       " 652    31324.887961   17.733818    2.712816  \n",
       " 653    15686.610966    0.328104    0.149766  \n",
       " 654    82441.061129    2.346395    0.826543  \n",
       " 655   314889.222401   32.685416   20.221502  \n",
       " 656    96970.710174    5.498945    3.010765  \n",
       " 657    10845.170259    2.584201    1.170932  \n",
       " 658     4128.422271    0.059606    0.167082  \n",
       " 659  2203508.279637  172.033989  696.211147  \n",
       " 660     7228.839806    0.386334    0.969793  \n",
       " 661    53538.385608    1.340460    1.945082  \n",
       " 662   242017.176135    8.159967   12.631377  \n",
       " 663    39163.987297    1.291471    0.577112  \n",
       " 664    51705.367094    6.839842    2.203041  \n",
       " 665     5276.507850    1.905609    2.722656  \n",
       " 666    18151.806533    0.325007    0.092122  \n",
       " 667   321738.393457  112.208192   63.284499  \n",
       " 668    10927.236279    0.243170    1.044769  \n",
       " 669    18912.443477    1.825087    0.612946  \n",
       " 670    17161.689446    4.626933    4.857540  \n",
       " 671    43795.702984    2.700210    0.929155  \n",
       " 672    57344.997071    0.411680    1.198157  \n",
       " 673    36065.106828    0.070577    1.019681  \n",
       " 674    18863.141376    0.345830    0.529091  \n",
       " 675    57954.490517    6.027678   18.409940  \n",
       " 676    66409.613615    1.096342    0.646417  \n",
       " 677    22136.367072    1.869311    1.550166  \n",
       " 678    21799.031114    1.290749    1.847219  \n",
       " 679    24523.328090    8.334392    4.813215  \n",
       " 680   238542.823635  204.555627   59.001440  \n",
       " \n",
       " [681 rows x 15 columns],\n",
       "               gene   width        YN.1        YN.2        YN.3        YN.4  \\\n",
       " 0          Sult1d1   14383    1.501597    0.682394    0.812269    0.981427   \n",
       " 1             Lgi3    7503  169.312424  173.934120  160.878726  160.464532   \n",
       " 2          Slc52a3   12748    5.694344    5.636876    5.352048    5.398088   \n",
       " 3            Tmcc3  279008    0.141915    0.130660    0.132318    0.140185   \n",
       " 4           Tspan2   37764    5.655518    5.606420    5.209707    5.030610   \n",
       " 5             Maob  108085    0.985220    1.037794    0.903629    1.063843   \n",
       " 6              Tst    6304   16.701723   15.624884   11.712512   13.295198   \n",
       " 7             Ccni   24563   10.160434    9.761159    8.979864    8.811758   \n",
       " 8            Scn3b   22403    0.696254    0.563278    0.730081    0.446312   \n",
       " 9             Iscu    5541   11.368456   10.185079   10.710870   10.933148   \n",
       " 10          Supt4a    6072    5.681152    5.022433    5.772164    4.504197   \n",
       " 11         Plekhg5   42903    0.776079    0.866054    0.849603    0.836254   \n",
       " 12            Wbp2    8423   27.279244   26.009974   23.745763   23.287625   \n",
       " 13            Hes2    3603    8.075656    7.685808    4.928656    7.019406   \n",
       " 14           Prkd3   71412    1.192937    1.236961    1.086291    1.091292   \n",
       " 15          Cnppd1    7815    9.250355    8.925875    8.550986    9.332304   \n",
       " 16          Kctd10   16949   17.556500   16.648630   17.949240   17.697921   \n",
       " 17          Bri3bp   19305    0.854601    0.835247    0.702000    0.822603   \n",
       " 18           Ube3b   40541    2.848634    3.216438    2.651200    2.843530   \n",
       " 19          Gnb2l1    6103   91.173978   94.022545   84.764384   85.916017   \n",
       " 20           Uqcrh    8107    8.473165    8.950285    7.263058    6.565753   \n",
       " 21        Slc25a16   25866    2.238197    2.629052    2.475144    2.455787   \n",
       " 22         Fam101b    8589    8.451681    9.345867    8.650948    9.039148   \n",
       " 23         Gm17275    6916   24.332024   25.899573   22.230543   24.535052   \n",
       " 24            Fgf1   90732    2.132404    2.171213    2.065347    1.922031   \n",
       " 25           Cebpa    2634  274.227542  309.675828  289.543316  287.939822   \n",
       " 26          Rabac1    2979  113.279775  106.018336   94.121731   94.769129   \n",
       " 27           Msrb3  118006    0.648196    0.588150    0.621734    0.687814   \n",
       " 28       Fam120aos    3745    6.247599    5.709587    6.738312    5.025674   \n",
       " 29            Bcan   12826    2.385499    2.159049    2.076791    1.948919   \n",
       " ..             ...     ...         ...         ...         ...         ...   \n",
       " 433         Rmnd5a   52004    2.220723    1.988438    2.084781    1.815242   \n",
       " 434           Tpt1    3433  330.808884  328.680447  316.488776  318.580021   \n",
       " 435        Slc38a4   61134    0.785068    0.791267    0.886716    0.808151   \n",
       " 436  4933411K20Rik   43820    1.396459    1.383886    1.343716    1.463020   \n",
       " 437         Map2k3   20779    5.182510    4.082418    3.755787    3.792943   \n",
       " 438           Rnd2    6855    2.931823    2.914702    2.590510    2.359508   \n",
       " 439        Ldlrad3  236183    0.123195    0.118732    0.152353    0.117043   \n",
       " 440           Maf1    3087   27.013355   26.797981   23.009973   26.483436   \n",
       " 441         Eef1a1   10703  398.224841  393.303684  385.011524  384.752743   \n",
       " 442          Wdr38    8693   13.664567   15.000300   15.697205   14.073101   \n",
       " 443           Pomk   13518    1.619872    1.944803    1.659350    1.936171   \n",
       " 444          Degs1    7033   24.822912   25.518553   24.717895   26.426681   \n",
       " 445          Pex26   15171    1.047929    1.016635    1.078110    0.949835   \n",
       " 446            Ids   22016    8.474661    7.244354    6.049446    7.146305   \n",
       " 447          Glud1   34418    3.268255    3.269235    3.285783    3.349397   \n",
       " 448        Slc48a1    8338   15.325620   16.017317   16.813902   13.508373   \n",
       " 449         Insig1    7300   37.269605   43.552303   43.466640   53.901322   \n",
       " 450         Gpr157   18563    0.436301    0.490967    0.604188    0.506953   \n",
       " 451         Cyb5r3   19099   15.909963   16.316155   15.341438   16.506322   \n",
       " 452          Rpl28    1689  132.133715  123.900020  131.976890  126.059354   \n",
       " 453          Gsta4   17383    5.729065    5.101789    4.166929    4.550862   \n",
       " 454          Rpl26    5407   30.567899   35.461545   29.471834   31.056027   \n",
       " 455          Rpl21    4143  136.044881  139.518699  138.062472  136.996205   \n",
       " 456          Rpl23    4911   64.928249   68.164795   68.037017   61.259276   \n",
       " 457          Rpl22    8330   23.910763   24.953783   21.654665   22.735632   \n",
       " 458           Pccb   52867    1.764599    2.161522    1.750208    1.885737   \n",
       " 459        Rapgef1  121259    0.388379    0.390253    0.273624    0.392887   \n",
       " 460          Ppdpf    1525   27.341058   28.732067   26.966339   25.647672   \n",
       " 461         Btf3l4   19320    4.704418    3.918983    3.652405    3.774946   \n",
       " 462          Setd7   45560    1.441885    1.431054    1.251369    1.458784   \n",
       " \n",
       "            YF.1        YF.2        YF.3        YF.4      pval     logfc  \\\n",
       " 0      0.356438    0.224850    0.381364    0.193913  0.032085 -1.782084   \n",
       " 1    135.699193  142.491195  149.790791  127.076429  0.018515 -0.259827   \n",
       " 2      3.378082    3.509351    3.827193    2.562885  0.004395 -0.733844   \n",
       " 3      0.104122    0.089831    0.095193    0.069974  0.009293 -0.601993   \n",
       " 4      3.638227    2.733264    3.073150    2.236738  0.005094 -0.880277   \n",
       " 5      0.803175    0.748026    0.884094    0.781498  0.024110 -0.310942   \n",
       " 6     11.114230    9.105927    9.708571    9.670134  0.034752 -0.533940   \n",
       " 7      6.330991    7.405990    7.639547    7.234536  0.013102 -0.398497   \n",
       " 8      0.427163    0.240594    0.244840    0.213419  0.027676 -1.113243   \n",
       " 9      9.437240    9.046604    9.013503   10.282652  0.038834 -0.193327   \n",
       " 10     3.771245    4.260889    4.231496    4.330813  0.043046 -0.338311   \n",
       " 11     0.756794    0.546503    0.578691    0.510778  0.027530 -0.475972   \n",
       " 12    20.491148   18.749582   22.826698   21.712165  0.048745 -0.259976   \n",
       " 13     2.561187    2.842367    4.326783    1.990515  0.018777 -1.241305   \n",
       " 14     1.043343    0.841578    1.010659    0.875963  0.043618 -0.288823   \n",
       " 15     7.128536    7.172906    7.683693    6.627834  0.006902 -0.333711   \n",
       " 16    14.901914   14.024432   13.796744   13.164404  0.004678 -0.321782   \n",
       " 17     0.619641    0.711969    0.702852    0.619168  0.046810 -0.276605   \n",
       " 18     2.394228    2.087353    1.815856    2.073697  0.017522 -0.465622   \n",
       " 19    57.457364   64.162757   70.292841   65.285071  0.005536 -0.468499   \n",
       " 20     5.354085    5.884016    6.587903    5.651906  0.049193 -0.412657   \n",
       " 21     1.955574    1.875444    1.785773    1.355535  0.020166 -0.490874   \n",
       " 22     5.093415    5.522438    6.554320    6.123343  0.004020 -0.607388   \n",
       " 23    17.691708   18.782475   18.825964   19.990872  0.008898 -0.365465   \n",
       " 24     1.382443    1.342576    1.361818    1.247140  0.001295 -0.636334   \n",
       " 25   169.850013  175.472527  189.173665  186.511046  0.001032 -0.687763   \n",
       " 26    70.443281   76.987432   89.737949   79.446212  0.033417 -0.366508   \n",
       " 27     0.474987    0.488732    0.587142    0.496330  0.032681 -0.314528   \n",
       " 28     4.380575    4.173851    4.239811    3.298125  0.022919 -0.559799   \n",
       " 29     1.812005    1.302750    1.260470    1.522166  0.023440 -0.539262   \n",
       " ..          ...         ...         ...         ...       ...       ...   \n",
       " 433    1.656172    1.254121    1.687612    1.241182  0.032019 -0.473814   \n",
       " 434  193.537072  223.341404  246.057255  238.387724  0.003935 -0.522343   \n",
       " 435    0.531108    0.520188    0.486396    0.606118  0.003831 -0.609644   \n",
       " 436    1.279126    1.242338    1.337394    1.209307  0.039248 -0.140631   \n",
       " 437    2.730393    3.060893    2.723122    2.895407  0.029358 -0.559358   \n",
       " 438    1.296306    1.218751    1.600338    1.918067  0.010972 -0.839511   \n",
       " 439    0.079589    0.095850    0.111232    0.079288  0.048302 -0.482554   \n",
       " 440   20.482210   20.690572   17.862095   16.391713  0.015821 -0.453761   \n",
       " 441  234.194714  267.436487  287.020274  273.316661  0.001753 -0.556001   \n",
       " 442    7.823933    9.548646   11.490583   11.962669  0.025065 -0.517355   \n",
       " 443    1.592831    1.196188    1.217301    0.913706  0.042258 -0.541333   \n",
       " 444   21.042096   19.428001   22.781799   20.168176  0.011884 -0.282815   \n",
       " 445    0.743432    0.746098    0.913404    0.840414  0.023069 -0.335502   \n",
       " 446    5.029772    4.186475    4.694402    3.547112  0.016817 -0.727938   \n",
       " 447    2.770514    2.497847    2.726047    2.998274  0.013645 -0.261004   \n",
       " 448   10.165564   12.540955   11.495076   10.273864  0.017527 -0.471447   \n",
       " 449   30.759850   30.752676   32.388937   25.816391  0.029544 -0.573777   \n",
       " 450    0.257764    0.304882    0.279937    0.214639  0.008639 -0.947165   \n",
       " 451   12.598062   12.389240   12.183163   13.580871  0.003703 -0.336291   \n",
       " 452   76.894567   95.418440   98.452895   97.662524  0.007100 -0.480580   \n",
       " 453    3.519411    3.503842    3.985861    3.300616  0.038254 -0.450072   \n",
       " 454   17.382732   23.974496   25.307989   25.275223  0.033043 -0.461019   \n",
       " 455   81.834880   99.331016  104.383664  107.711070  0.006567 -0.485577   \n",
       " 456   44.679345   52.188085   49.202954   52.005029  0.006718 -0.405659   \n",
       " 457   13.744898   16.532429   15.872895   16.071319  0.003790 -0.583765   \n",
       " 458    1.053767    1.213258    1.425251    1.424408  0.018655 -0.563571   \n",
       " 459    0.304405    0.204472    0.161894    0.177434  0.041174 -0.768727   \n",
       " 460   15.912199   17.142046   16.280370   19.333885  0.002096 -0.662461   \n",
       " 461    3.131179    3.417588    3.182791    2.845963  0.046288 -0.351793   \n",
       " 462    1.065237    0.905041    0.950480    0.839547  0.006747 -0.570214   \n",
       " \n",
       "                diff        mean   diff_only  \n",
       " 0     -10144.051196    0.994422   -0.705281  \n",
       " 1    -205455.011073  166.147450  -27.383048  \n",
       " 2     -28057.854793    5.520339   -2.200961  \n",
       " 3     -12970.883381    0.136270   -0.046489  \n",
       " 4     -92718.894694    5.375564   -2.455219  \n",
       " 5     -20906.185116    0.997621   -0.193424  \n",
       " 6     -27951.077933   14.333579   -4.433864  \n",
       " 7     -55894.032080    9.428304   -2.275538  \n",
       " 8      -7336.475450    0.608981   -0.327477  \n",
       " 9      -7504.668010   10.799388   -1.354389  \n",
       " 10     -6657.194383    5.244987   -1.096376  \n",
       " 11    -10030.982010    0.831997   -0.233806  \n",
       " 12    -34835.448361   25.080651   -4.135753  \n",
       " 13    -14401.798149    6.927381   -3.997169  \n",
       " 14    -14924.002013    1.151870   -0.208985  \n",
       " 15    -14548.700075    9.014880   -1.861638  \n",
       " 16    -59172.337306   17.463073   -3.491199  \n",
       " 17     -2706.660171    0.803613   -0.140205  \n",
       " 18    -32317.940847    2.889950   -0.797167  \n",
       " 19   -150559.316723   88.969231  -24.669723  \n",
       " 20    -15756.666782    7.813065   -1.943588  \n",
       " 21    -18273.388369    2.449545   -0.706464  \n",
       " 22    -26183.839310    8.871911   -3.048532  \n",
       " 23    -37529.975136   24.249298   -5.426544  \n",
       " 24    -67074.084233    2.072749   -0.739255  \n",
       " 25   -289989.741137  290.346627 -110.094814  \n",
       " 26    -68199.809138  102.047243  -22.893524  \n",
       " 27    -14712.523215    0.636474   -0.124676  \n",
       " 28     -7142.472725    5.930293   -1.907202  \n",
       " 29     -8570.548910    2.142565   -0.668217  \n",
       " ..              ...         ...         ...  \n",
       " 433   -29513.517230    2.027296   -0.567524  \n",
       " 434  -337493.657550  323.639532  -98.308668  \n",
       " 435   -17230.504329    0.817801   -0.281848  \n",
       " 436    -5684.730297    1.396770   -0.129729  \n",
       " 437   -28071.616527    4.203414   -1.350961  \n",
       " 438    -8162.727790    2.699136   -1.190770  \n",
       " 439    -8583.151298    0.127831   -0.036341  \n",
       " 440   -21514.966398   25.826186   -6.969539  \n",
       " 441 -1336067.946343  390.323198 -124.831164  \n",
       " 442   -38269.502742   14.608793   -4.402336  \n",
       " 443    -7570.649806    1.790049   -0.560042  \n",
       " 444   -31764.488474   25.371510   -4.516492  \n",
       " 445    -3220.658481    1.023127   -0.212290  \n",
       " 446   -63059.355764    7.228691   -2.864251  \n",
       " 447   -18757.704523    3.293168   -0.544997  \n",
       " 448   -35832.041223   15.416303   -4.297438  \n",
       " 449  -106711.426092   44.547467  -14.618004  \n",
       " 450    -4553.443964    0.509602   -0.245297  \n",
       " 451   -63611.811144   16.018470   -3.330636  \n",
       " 452   -61497.145859  128.517495  -36.410388  \n",
       " 453   -22767.014570    4.887161   -1.309729  \n",
       " 454   -46793.348455   31.639326   -8.654216  \n",
       " 455  -162987.304672  137.655564  -39.340407  \n",
       " 456   -78961.419192   65.597334  -16.078481  \n",
       " 457   -64626.849727   23.313711   -7.758325  \n",
       " 458   -32320.004656    1.890517   -0.611346  \n",
       " 459   -18096.009845    0.361286   -0.149234  \n",
       " 460   -15257.104747   27.171784  -10.004659  \n",
       " 461   -16775.703355    4.012688   -0.868308  \n",
       " 462   -20761.529090    1.395773   -0.455696  \n",
       " \n",
       " [463 rows x 15 columns]]"
      ]
     },
     "execution_count": 60,
     "metadata": {},
     "output_type": "execute_result"
    }
   ],
   "source": [
    "dfs_uniq[0]"
   ]
  },
  {
   "cell_type": "code",
   "execution_count": null,
   "metadata": {
    "collapsed": false,
    "scrolled": true
   },
   "outputs": [],
   "source": [
    "n_grps = 2\n",
    "#for p1 in range(1,2):#len(pairs_rel)):\n",
    "\n",
    "def common_stats3():\n",
    "    \n",
    "    pairs = [['YN', 'ON'], ['ON','OF'],['YN','YF']]\n",
    "    n_pairs = len(pairs)\n",
    "    dfs = [names_to_df(pair) for pair in pairs]\n",
    "    dfgrps = [filter_grps(dft) for dft in dfs]\n",
    "    dfgenes = [[group['gene'] for group in grps] for grps in dfgrps]\n",
    "    \n",
    "    ## returns 1 set per group\n",
    "    common_genes = [pd.DataFrame(intersect3(dfgenes[0][i], dfgenes[1][i], dfgenes[2][i])) for i in range(n_groups)]\n",
    "    \n",
    "    ## returns list of 3 sets per group\n",
    "    unique_genes = [[pd.DataFrame(unique3(list(dfgenes[0][i]), list(dfgenes[1][i]), list(dfgenes[2][i]), j)) \\\n",
    "                    for j in range(n_pairs)] for i in range(n_grps)]\n",
    "                    #for i in range(n_groups)]\n",
    "    #print len(unique_genes)\n",
    "    for i in range(n_grps):\n",
    "        common_genes[i].columns = ['gene']\n",
    "        for j in range(n_pairs):\n",
    "            unique_genes[i][j].columns = ['gene']\n",
    "    \n",
    "    dfs_comm = [[pd.merge(common_genes[i], dfgrps[j][i], how='left') for i in range(n_grps)] for j in range(n_pairs)]\n",
    "    dfs_uniq = [[pd.merge(unique_genes[i][j], dfgrps[j][i], how='left') for i in range(n_grps)] for j in range(n_pairs)]\n",
    "\n",
    "    for i in range(n_grps):\n",
    "        \n",
    "        print '\\n'\n",
    "        if i==0: print \"UPREG\"\n",
    "        else: print \"DOWN REG\"\n",
    "        print '\\n'\n",
    "        \n",
    "        for j in range(n_pairs):\n",
    "            \n",
    "            print '\\n'\n",
    "            print \"PAIR\", pairs[j]\n",
    "        \n",
    "            print \"Total\"\n",
    "            print grp_stats(dfgrps[j][i])\n",
    "            print \"Common\"\n",
    "            print grp_stats(dfs_comm[j][i])\n",
    "            print \"Unique\"\n",
    "            print grp_stats(dfs_uniq[j][i])\n",
    "\n",
    "    return dfs_comm, dfs_uniq, dfsgrps\n"
   ]
  },
  {
   "cell_type": "code",
   "execution_count": null,
   "metadata": {
    "collapsed": false
   },
   "outputs": [],
   "source": [
    "dfs_comm[0][0][]"
   ]
  },
  {
   "cell_type": "code",
   "execution_count": null,
   "metadata": {
    "collapsed": false,
    "scrolled": true
   },
   "outputs": [],
   "source": [
    "dfs_comm, dfs_uniq, dfsgrps = common_stats3()\n",
    "### common genes upgregulated used same amount by Old illness and Young illness"
   ]
  },
  {
   "cell_type": "code",
   "execution_count": null,
   "metadata": {
    "collapsed": false
   },
   "outputs": [],
   "source": [
    "dfs_comm[2][1].sort('diff')"
   ]
  },
  {
   "cell_type": "code",
   "execution_count": null,
   "metadata": {
    "collapsed": false
   },
   "outputs": [],
   "source": [
    "upcomm = common_stats([['YN','ON'],['ON','OF']]);\n",
    "### Common are general purpose upreg/downreg??? between aging and flu"
   ]
  },
  {
   "cell_type": "code",
   "execution_count": null,
   "metadata": {
    "collapsed": false
   },
   "outputs": [],
   "source": [
    "### Needs dataframe with cols ('gene', 'logfc', 'pval')\n",
    "\n",
    "def filter_genes(df, pcut = 0.05, fcut = 1.4):\n",
    "    \n",
    "    df_pcut = df[df['pval'] < pcut]\n",
    "    \n",
    "    df_fc_up = df_pcut[df_pcut['logfc'] > fcut]\n",
    "    \n",
    "    df_fc_dn = df_pcut[df_pcut['logfc'] < -fcut]\n",
    "    \n",
    "    df_pv_up = df_pcut[df_pcut['logfc'] < fcut]\n",
    "    df_pv_up = df_pv_up[df_pv_up['logfc'] > 0]\n",
    "    \n",
    "    df_pv_dn = df_pcut[df_pcut['logfc'] < 0]\n",
    "    df_pv_dn = df_pv_dn[df_pv_dn['logfc'] > -fcut]\n",
    "\n",
    "    fc_up_genes = df_fc_up['gene']\n",
    "    fc_dn_genes = df_fc_dn['gene']\n",
    "    pv_up_genes = df_pv_up['gene']\n",
    "    pv_dn_genes = df_pv_dn['gene']\n",
    "    \n",
    "    #n_up_fc = sum(df_fc_up.ix[:,'up'])\n",
    "    #n_dn_fc = sum(df_fc_dn.ix[:,'dn'])\n",
    "    #n_up_pv = sum(df_pv_up.ix[:,'up'])\n",
    "    #n_dn_pv = sum(df_pv_dn.ix[:,'dn'])\n",
    "\n",
    "    return [fc_up_genes, fc_dn_genes, pv_up_genes, pv_dn_genes]\n"
   ]
  },
  {
   "cell_type": "code",
   "execution_count": null,
   "metadata": {
    "collapsed": true
   },
   "outputs": [],
   "source": [
    "def get_counts(names):\n",
    "    \n",
    "    dft = names_to_df(names)\n",
    "    dft_genes = filter_genes(dft)\n",
    "    dft_counts = [len(genes) for genes in dft_genes]\n",
    "    return dft_counts\n",
    "    "
   ]
  },
  {
   "cell_type": "code",
   "execution_count": null,
   "metadata": {
    "collapsed": true
   },
   "outputs": [],
   "source": [
    "def pair_pair_counts(name_pairs):\n",
    "    \n",
    "    dft1 = names_to_df(name_pairs[0])\n",
    "    dft2 = names_to_df(name_pairs[1])\n",
    "    \n",
    "    dft1_genes = filter_genes(dft1)\n",
    "    dft2_genes = filter_genes(dft2)\n",
    "    \n",
    "    common_genes = [intersect(dft1_genes[i], dft2_genes[i]) for i in range(len(dft1_genes))]\n",
    "    common_counts = [len(genes) for genes in common_genes]\n",
    "    return common_counts\n",
    "    "
   ]
  },
  {
   "cell_type": "code",
   "execution_count": null,
   "metadata": {
    "collapsed": true
   },
   "outputs": [],
   "source": [
    "def all_counts(pairs):\n",
    "    \n",
    "    pairs = reset_pairs(df)\n",
    "    pairs2 = list(pairs)\n",
    "    \n",
    "    for p in range(len(pairs)):\n",
    "        #pair in pairs:\n",
    "        counts = get_counts(pairs2[p])\n",
    "        pairs2[p].append(counts)\n",
    "        \n",
    "    return pairs2"
   ]
  },
  {
   "cell_type": "code",
   "execution_count": null,
   "metadata": {
    "collapsed": false
   },
   "outputs": [],
   "source": [
    "def common_counts(pairs):\n",
    "    \n",
    "    pairs = reset_pairs(df)\n",
    "    pairs_temp = list(pairs)\n",
    "    data = []\n",
    "    \n",
    "    for p in range(len(pairs)):\n",
    "        pair1 = pairs[p]\n",
    "        \n",
    "        for p2 in range(p+1,len(pairs)): \n",
    "            pair2 = pairs[p2]\n",
    "            #if pair1 != pair2:\n",
    "            counts = pair_pair_counts([pair1, pair2])\n",
    "            data12 = [[pair1, pair2],[counts]]\n",
    "            data.append(data12)\n",
    "            \n",
    "        \n",
    "    return data"
   ]
  },
  {
   "cell_type": "code",
   "execution_count": null,
   "metadata": {
    "collapsed": false
   },
   "outputs": [],
   "source": [
    "def common_ratio(pairs):\n",
    "    \n",
    "    pairs = reset_pairs(df)\n",
    "    pairs_temp = list(pairs)\n",
    "    data = []\n",
    "    \n",
    "    for p in range(len(pairs)):\n",
    "        pair1 = pairs[p]\n",
    "        \n",
    "        for p2 in range(p+1,len(pairs)): \n",
    "            pair2 = pairs[p2]\n",
    "            #if pair1 != pair2:\n",
    "            counts = pair_pair_counts([pair1, pair2])\n",
    "            data12 = [[pair1, pair2],float(counts[0])/float(counts[1])]\n",
    "            data.append(data12)\n",
    "            \n",
    "        \n",
    "    return data"
   ]
  },
  {
   "cell_type": "code",
   "execution_count": null,
   "metadata": {
    "collapsed": false
   },
   "outputs": [],
   "source": [
    "def uncommon_counts(pairs):\n",
    "    \n",
    "    pairs = reset_pairs(df)\n",
    "    pairs_temp = list(pairs)\n",
    "    data = []\n",
    "    \n",
    "    for p in range(len(pairs)):\n",
    "        pair1 = pairs[p]\n",
    "        counts1 = get_counts(pair1)\n",
    "        for p2 in range(p+1,len(pairs)): \n",
    "            pair2 = pairs[p2]\n",
    "            #if pair1 != pair2:\n",
    "            counts2 = get_counts(pair2)\n",
    "            counts_pair = pair_pair_counts([pair1, pair2])\n",
    "            data12 = [[pair1, counts1, pair2, counts2],[counts_pair]]\n",
    "            data.append(data12)\n",
    "            \n",
    "    return data"
   ]
  }
 ],
 "metadata": {
  "kernelspec": {
   "display_name": "Python 2",
   "language": "python",
   "name": "python2"
  },
  "language_info": {
   "codemirror_mode": {
    "name": "ipython",
    "version": 2
   },
   "file_extension": ".py",
   "mimetype": "text/x-python",
   "name": "python",
   "nbconvert_exporter": "python",
   "pygments_lexer": "ipython2",
   "version": "2.7.11"
  }
 },
 "nbformat": 4,
 "nbformat_minor": 0
}
