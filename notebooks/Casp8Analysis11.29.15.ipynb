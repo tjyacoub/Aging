{
 "cells": [
  {
   "cell_type": "code",
   "execution_count": 1,
   "metadata": {
    "collapsed": true
   },
   "outputs": [],
   "source": [
    "%matplotlib inline"
   ]
  },
  {
   "cell_type": "code",
   "execution_count": 2,
   "metadata": {
    "collapsed": true
   },
   "outputs": [],
   "source": [
    "import pandas as pd"
   ]
  },
  {
   "cell_type": "code",
   "execution_count": 3,
   "metadata": {
    "collapsed": true
   },
   "outputs": [],
   "source": [
    "import csv\n",
    "import matplotlib.pyplot as plt"
   ]
  },
  {
   "cell_type": "code",
   "execution_count": 4,
   "metadata": {
    "collapsed": true
   },
   "outputs": [],
   "source": [
    "from scipy import stats"
   ]
  },
  {
   "cell_type": "code",
   "execution_count": 5,
   "metadata": {
    "collapsed": true
   },
   "outputs": [],
   "source": [
    "import math\n",
    "import numpy as np"
   ]
  },
  {
   "cell_type": "code",
   "execution_count": 6,
   "metadata": {
    "collapsed": false
   },
   "outputs": [
    {
     "name": "stderr",
     "output_type": "stream",
     "text": [
      "/Users/tjyacoub/anaconda2/lib/python2.7/site-packages/IPython/core/interactiveshell.py:2902: DtypeWarning: Columns (1,2,3,4,5,6,7,8,9,10,11,12,13,14,15,16,17,18,19,20,21,22,23,24,25,26,27,28,29,30,31,32,33,34,35,36,37,38,39,40,41,42,43,44,45,46,47,48,49,50,51,52,53,54,55,56,57,58,59,60,61,62,63,64,65,66,67,68,69,70,71,72,73,74,75,76,77,78,79,80,81,82,83,84,85,86,87,88,89,90,91,92,93,94,95,96,97,98,99,100,101,102,103,104,105,106,107,108,109,110,111,112,113,114,115,116,117,118,119,120,121,122,123,124,125,126,127,128,129,130,131,132,133,134,135,136,137,138,139,140,141,142,143,144,145,146,147,148,149,150,151,152,153,154,155) have mixed types. Specify dtype option on import or set low_memory=False.\n",
      "  interactivity=interactivity, compiler=compiler, result=result)\n"
     ]
    }
   ],
   "source": [
    "df_Casp = pd.read_csv(\"Casp8.txt\",sep='\\t');"
   ]
  },
  {
   "cell_type": "code",
   "execution_count": 19,
   "metadata": {
    "collapsed": false
   },
   "outputs": [],
   "source": [
    "def unique(a, b):\n",
    "    return list(set(a) != set(b))\n",
    "def intersect(a, b):\n",
    "    return list(set(a) & set(b))\n",
    "def union(a, b):\n",
    "    return list(set(a) | set(b))"
   ]
  },
  {
   "cell_type": "code",
   "execution_count": 20,
   "metadata": {
    "collapsed": true
   },
   "outputs": [],
   "source": [
    "def t_stat(df):\n",
    "    \n",
    "    names = df_to_names(df)\n",
    "    n_samples1 = len(names.values()[0])\n",
    "    n_samples2 = len(names.values()[1])\n",
    "    \n",
    "    index1 = 1\n",
    "    index2 = index1 + n_samples1\n",
    "    \n",
    "    indices1 = [index1 + i for i in range(n_samples1)]\n",
    "    indices2 = [index2 + i for i in range(n_samples2)]\n",
    "    \n",
    "    values1 = [df[df.columns[i]] for i in indices1]\n",
    "    print sum(values1)\n",
    "    values2 = [df[df.columns[i]] for i in indices2]\n",
    "    \n",
    "    mean1 = sum(values1)/n_samples1\n",
    "    mean2 = sum(values2)/n_samples2\n",
    "    \n",
    "    var1_num = [(values1[i] - mean1)**2 for i in range(n_samples1)]\n",
    "    var2_num = [(values2[i] - mean2)**2 for i in range(n_samples2)]\n",
    "    \n",
    "    var1 = sum(var1_num)/(n_samples1 - 1)\n",
    "    var2 = sum(var2_num)/(n_samples2 - 1)\n",
    "    \n",
    "    t_stat = (mean1 - mean2) / (var1/n_samples1 + var2/n_samples2)**0.5\n",
    "    pval = stats.t.sf(np.abs(t_stat), n_samples1-1)*2 \n",
    "    \n",
    "    logfc = np.log2(mean2/mean1)\n",
    "    \n",
    "    return [pval, logfc]"
   ]
  },
  {
   "cell_type": "code",
   "execution_count": 7,
   "metadata": {
    "collapsed": false
   },
   "outputs": [],
   "source": [
    "def df_to_names(df):\n",
    "    \n",
    "    name_dict = {}\n",
    "        \n",
    "    for i in range(1,len(df.columns)):\n",
    "        name = df.columns[i][:-2]\n",
    "        if name in name_dict:\n",
    "            name_dict[name].append(i)\n",
    "        else:\n",
    "            name_dict[name] = [i]\n",
    "            \n",
    "    return name_dict"
   ]
  },
  {
   "cell_type": "code",
   "execution_count": 8,
   "metadata": {
    "collapsed": true
   },
   "outputs": [],
   "source": [
    "name_dict = df_to_names(df_Casp)"
   ]
  },
  {
   "cell_type": "code",
   "execution_count": 9,
   "metadata": {
    "collapsed": false
   },
   "outputs": [],
   "source": [
    "test_names = [name_dict.keys()[0], name_dict.keys()[1]]\n",
    "test_names2 = [name_dict.keys()[2], name_dict.keys()[3]]"
   ]
  },
  {
   "cell_type": "code",
   "execution_count": 10,
   "metadata": {
    "collapsed": false
   },
   "outputs": [],
   "source": [
    "### Create new temp dataframe with cols ['samp1a','samp1b','samp2a','samp2b','gene']\n",
    "### Add cols for logfc, pval\n",
    "def names_to_df(names):\n",
    "       \n",
    "    # For first name    \n",
    "    #print names\n",
    "    indices = list(name_dict[names[0]])\n",
    "    indices.insert(0,0)\n",
    "    df_temp1 = df_Casp.ix[:,indices]\n",
    "    \n",
    "    # For second name\n",
    "    indices = list(name_dict[names[1]])\n",
    "    indices.insert(0,0)\n",
    "    df_temp2 = df_Casp.ix[:,indices]\n",
    "    \n",
    "    dft = pd.merge(df_temp1, df_temp2, how='outer', on='Symbol')\n",
    "    \n",
    "    print \"check\"\n",
    "    dft = dft.ix[1:];\n",
    "    dft_float = dft.ix[:,1:].astype('float');\n",
    "    dft_float = dft_float[dft_float > 0];\n",
    "    dft['pval'] = t_stat(dft_float)[0];\n",
    "    dft['logfc'] = t_stat(dft_float)[1];\n",
    "    \n",
    "    \n",
    "    return dft\n",
    "    #dft = merge(dft)"
   ]
  },
  {
   "cell_type": "code",
   "execution_count": 11,
   "metadata": {
    "collapsed": false
   },
   "outputs": [],
   "source": [
    "### Needs dataframe with cols ('gene', 'logfc', 'pval')\n",
    "\n",
    "def filter_genes(df, pcut = 0.05, fcut = 1.4):\n",
    "    \n",
    "    df_pcut = df[df['pval'] < pcut]\n",
    "    \n",
    "    df_fc_up = df_pcut[df_pcut['logfc'] > fcut]\n",
    "    \n",
    "    df_fc_dn = df_pcut[df_pcut['logfc'] < -fcut]\n",
    "    \n",
    "    df_pv_up = df_pcut[df_pcut['logfc'] < fcut]\n",
    "    df_pv_up = df_pv_up[df_pv_up['logfc'] > 0]\n",
    "    \n",
    "    df_pv_dn = df_pcut[df_pcut['logfc'] < 0]\n",
    "    df_pv_dn = df_pv_dn[df_pv_dn['logfc'] > -fcut]\n",
    "\n",
    "    fc_up_genes = df_fc_up['Symbol']\n",
    "    fc_dn_genes = df_fc_dn['Symbol']\n",
    "    pv_up_genes = df_pv_up['Symbol']\n",
    "    pv_dn_genes = df_pv_dn['Symbol']\n",
    "    \n",
    "    #n_up_fc = sum(df_fc_up.ix[:,'up'])\n",
    "    #n_dn_fc = sum(df_fc_dn.ix[:,'dn'])\n",
    "    #n_up_pv = sum(df_pv_up.ix[:,'up'])\n",
    "    #n_dn_pv = sum(df_pv_dn.ix[:,'dn'])\n",
    "\n",
    "    return [fc_up_genes, fc_dn_genes, pv_up_genes, pv_dn_genes]\n"
   ]
  },
  {
   "cell_type": "code",
   "execution_count": 12,
   "metadata": {
    "collapsed": false
   },
   "outputs": [],
   "source": [
    "\n",
    "#### [state1, state2, state3, ..., stateN]\n",
    "### [state1, state2, state3, ..., stateN]\n",
    "\n",
    "### N-1 combinations for each state\n",
    "### [state1-state2, state1-state3, state1-stateN ]\n",
    "\n",
    "### N/2 * N combinations, *2 for reverse\n",
    "\n",
    "### input dfs = [df1, df2]\n",
    "def compare_edges(dfs):\n",
    "    \n",
    "    df1_genes = filter_genes(dfs[0])\n",
    "    df2_genes = filter_genes(dfs[1])\n",
    "    \n",
    "    gene_totals = [[df1_genes[i], df2_genes[i]] for i in range(len(df1_genes))]\n",
    "    gene_intersect = [intersect(i,j) for i,j in gene_totals]\n",
    "    gene_percent = [float(len(gene_intersect[i]))/float(len(df1_genes[i])) for i in range(len(df1_genes))]\n",
    "    ### What do we want?\n",
    "    ### [[% up FC_1, % up FC_2],[% dn FC_1, %dn FC_1], [% up PV1, % up PV2], [% dn PV1, % dn PV2]]\n",
    "    \n",
    "    return gene_percent\n",
    "    \n",
    "    #n0 = len(dfres[k][0])\n",
    "    #n1 = len(dfres[k][1])\n",
    "    #ns = len(inter)\n",
    "    \n",
    "    #genes_shared_ct[k] = [n0, round(float(ns)/n0,3), n1, round(float(ns)/n1,3), ns]\n",
    "    #gene_totals[k] = [len(dfres[k][0]),len(dfres[k][1])] \n",
    "                      #genes_unique[k] = unique(dfres[k][0],dfres[k][1])\n",
    "    #gene_ratios[k] = len(genes_union"
   ]
  },
  {
   "cell_type": "code",
   "execution_count": 13,
   "metadata": {
    "collapsed": true
   },
   "outputs": [],
   "source": [
    "def combos(name_dict):\n",
    "    names = name_dict.keys()\n",
    "    n_names = len(names)\n",
    "    stat_dict = {}\n",
    "    \n",
    "    #for i in range(len(names)):\n",
    "    for i in range(n_names):\n",
    "        name1 = names[i]\n",
    "        stat_dict[name1] = {}\n",
    "        #name_dict[names[i]]\n",
    "        for j in range(i+1, 10): # n_names): #n_names):\n",
    "            name2 = names[j]\n",
    "            stat_dict[name1][name2] = {}\n",
    "            dft1 = names_to_df([name1,name2])\n",
    "            for k in range(j+1, 5): # n_names):\n",
    "                name3 = names[k]\n",
    "                stat_dict[name1][name2][name3] = {}\n",
    "                \n",
    "                for l in range(k+1, 6):#n_names):\n",
    "                    name4 = names[l]\n",
    "                    \n",
    "                    print name1, name2, name3, name4\n",
    "                    dft2 = names_to_df([name3, name4])\n",
    "                    gene_perc = compare_edges([dft1,dft2])\n",
    "                    if gene_perc[0] > 0:\n",
    "                        stat_dict[name1][name2][name3][name4] = gene_perc\n",
    "                    else:\n",
    "                        stat_dict[name1][name2][name3][name4] = gene_perc\n",
    "    return stat_dict\n",
    "                        \n",
    "                        \n",
    "#        for j in range(i + 1, len(names)):"
   ]
  },
  {
   "cell_type": "code",
   "execution_count": 34,
   "metadata": {
    "collapsed": true
   },
   "outputs": [],
   "source": [
    "def combos2(name_dict):\n",
    "    names = name_dict.keys()\n",
    "    n_names = len(names)\n",
    "    stat_dict = {}\n",
    "    \n",
    "    pairs = [[i, j] for i in range(n_names)]\n",
    "    \n",
    "    #for i in range(len(names)):\n",
    "    for i in range(n_names):\n",
    "        name1 = names[i]\n",
    "        stat_dict[name1] = {}\n",
    "        #name_dict[names[i]]\n",
    "        \n",
    "        for j in range(i+1, 8): # n_names): #n_names):\n",
    "            name2 = names[j]\n",
    "            stat_dict[name1][name2] = {}\n",
    "            dft1 = names_to_df([name1,name2])\n",
    "            \n",
    "            for k in range(8, 15): # n_names):\n",
    "                name3 = names[k]\n",
    "                stat_dict[name1][name2][name3] = {}\n",
    "                \n",
    "                for l in range(15, 20):#n_names):\n",
    "                    name4 = names[l]\n",
    "                    \n",
    "                    print name1, name2, name3, name4\n",
    "                    dft2 = names_to_df([name3, name4])\n",
    "                    gene_perc = compare_edges([dft1,dft2])\n",
    "                    if gene_perc[0] > 0:\n",
    "                        stat_dict[name1][name2][name3][name4] = gene_perc\n",
    "                    else:\n",
    "                        stat_dict[name1][name2][name3][name4] = gene_perc\n",
    "    return stat_dict\n",
    "                       "
   ]
  },
  {
   "cell_type": "code",
   "execution_count": 37,
   "metadata": {
    "collapsed": true
   },
   "outputs": [],
   "source": [
    "names = name_dict.keys()\n",
    "n_names = len(names)"
   ]
  },
  {
   "cell_type": "code",
   "execution_count": 40,
   "metadata": {
    "collapsed": false
   },
   "outputs": [],
   "source": [
    "pairs = [[[names[i], names[j]] for i in range(n_names)] for j in range(n_names)]"
   ]
  },
  {
   "cell_type": "code",
   "execution_count": 42,
   "metadata": {
    "collapsed": false
   },
   "outputs": [
    {
     "name": "stdout",
     "output_type": "stream",
     "text": [
      "[['LysMC8flx.Sfhi.D20', 'LysMC8flx.Sfhi.D20'], ['LysMC8flx.IM.D20', 'LysMC8flx.Sfhi.D20'], ['LysMC8flx.mono.D14', 'LysMC8flx.Sfhi.D20'], ['CD11cC8flxRIPK3.Sfhi.D14', 'LysMC8flx.Sfhi.D20'], ['CD11cC8flxRIPK3.mono.D21', 'LysMC8flx.Sfhi.D20'], ['LysMC8flxRIPK3.Sflow.D14', 'LysMC8flx.Sfhi.D20'], ['CD11cC8flx.Sflow.D20', 'LysMC8flx.Sfhi.D20'], ['LysMC8flxRIPK3.mono.D14', 'LysMC8flx.Sfhi.D20'], ['CD11cC8flx.Sfhi.D0', 'LysMC8flx.Sfhi.D20'], ['LysMC8flxRIPK3C8flx.IM.D20', 'LysMC8flx.Sfhi.D20'], ['CD11cC8flxRIPK3.Sfhi.D21', 'LysMC8flx.Sfhi.D20'], ['CD11cC8flx.IM.D20', 'LysMC8flx.Sfhi.D20'], ['CD11cC8flx.mono.D14', 'LysMC8flx.Sfhi.D20'], ['LysMC8flx.Sflow.D14', 'LysMC8flx.Sfhi.D20'], ['LysMC8flxRIPK3.IM.D14', 'LysMC8flx.Sfhi.D20'], ['CD11cC8flx.Sfhi.D14', 'LysMC8flx.Sfhi.D20'], ['C8flx.mono.D14', 'LysMC8flx.Sfhi.D20'], ['CD11cC8flxRIPK3.mono.D14', 'LysMC8flx.Sfhi.D20'], ['LysMC8flx.Sfhi.D14', 'LysMC8flx.Sfhi.D20'], ['C8flx.Sflow.D14', 'LysMC8flx.Sfhi.D20'], ['LysMC8flx.IM.D14', 'LysMC8flx.Sfhi.D20'], ['LysMC8flxRIPK3C8flx.mono.D20', 'LysMC8flx.Sfhi.D20'], ['C8flx.Sflow.D19', 'LysMC8flx.Sfhi.D20'], ['LysMC8flxRIPK3C8flx.Sfhi.D20', 'LysMC8flx.Sfhi.D20'], ['C8flx.mono.D19', 'LysMC8flx.Sfhi.D20'], ['C8flx.Sfhi.D14', 'LysMC8flx.Sfhi.D20'], ['LysMC8flxRIPK3.Sfhi.D14', 'LysMC8flx.Sfhi.D20'], ['CD11cC8flxRIPK3.Sflow.D21', 'LysMC8flx.Sfhi.D20'], ['C8flx.Sfhi.D19', 'LysMC8flx.Sfhi.D20'], ['CD11cC8flx.Sflow.D14', 'LysMC8flx.Sfhi.D20'], ['CD11cC8flxRIPK3.IM.D14', 'LysMC8flx.Sfhi.D20'], ['LysMC8flx.mono.D20', 'LysMC8flx.Sfhi.D20'], ['CD11cC8flx.IM.D14', 'LysMC8flx.Sfhi.D20'], ['CD11cC8flxRIPK3.IM.D21', 'LysMC8flx.Sfhi.D20'], ['LysMC8flxRIPK3C8flx.Sflow.D20', 'LysMC8flx.Sfhi.D20'], ['CD11cC8flxRIPK3.Sflow.D14', 'LysMC8flx.Sfhi.D20'], ['LysMC8flx.Sflow.D20', 'LysMC8flx.Sfhi.D20'], ['LysMC8flx.Sfhi.D0', 'LysMC8flx.Sfhi.D20'], ['C8flx.IM.D14', 'LysMC8flx.Sfhi.D20'], ['C8flx.Sfhi.D0', 'LysMC8flx.Sfhi.D20'], ['CD11cC8flx.mono.D20', 'LysMC8flx.Sfhi.D20'], ['CD11cC8flx.Sfhi.D20', 'LysMC8flx.Sfhi.D20'], ['C8flx.IM.D19', 'LysMC8flx.Sfhi.D20']]\n",
      "[['LysMC8flx.Sfhi.D20', 'LysMC8flx.IM.D20'], ['LysMC8flx.IM.D20', 'LysMC8flx.IM.D20'], ['LysMC8flx.mono.D14', 'LysMC8flx.IM.D20'], ['CD11cC8flxRIPK3.Sfhi.D14', 'LysMC8flx.IM.D20'], ['CD11cC8flxRIPK3.mono.D21', 'LysMC8flx.IM.D20'], ['LysMC8flxRIPK3.Sflow.D14', 'LysMC8flx.IM.D20'], ['CD11cC8flx.Sflow.D20', 'LysMC8flx.IM.D20'], ['LysMC8flxRIPK3.mono.D14', 'LysMC8flx.IM.D20'], ['CD11cC8flx.Sfhi.D0', 'LysMC8flx.IM.D20'], ['LysMC8flxRIPK3C8flx.IM.D20', 'LysMC8flx.IM.D20'], ['CD11cC8flxRIPK3.Sfhi.D21', 'LysMC8flx.IM.D20'], ['CD11cC8flx.IM.D20', 'LysMC8flx.IM.D20'], ['CD11cC8flx.mono.D14', 'LysMC8flx.IM.D20'], ['LysMC8flx.Sflow.D14', 'LysMC8flx.IM.D20'], ['LysMC8flxRIPK3.IM.D14', 'LysMC8flx.IM.D20'], ['CD11cC8flx.Sfhi.D14', 'LysMC8flx.IM.D20'], ['C8flx.mono.D14', 'LysMC8flx.IM.D20'], ['CD11cC8flxRIPK3.mono.D14', 'LysMC8flx.IM.D20'], ['LysMC8flx.Sfhi.D14', 'LysMC8flx.IM.D20'], ['C8flx.Sflow.D14', 'LysMC8flx.IM.D20'], ['LysMC8flx.IM.D14', 'LysMC8flx.IM.D20'], ['LysMC8flxRIPK3C8flx.mono.D20', 'LysMC8flx.IM.D20'], ['C8flx.Sflow.D19', 'LysMC8flx.IM.D20'], ['LysMC8flxRIPK3C8flx.Sfhi.D20', 'LysMC8flx.IM.D20'], ['C8flx.mono.D19', 'LysMC8flx.IM.D20'], ['C8flx.Sfhi.D14', 'LysMC8flx.IM.D20'], ['LysMC8flxRIPK3.Sfhi.D14', 'LysMC8flx.IM.D20'], ['CD11cC8flxRIPK3.Sflow.D21', 'LysMC8flx.IM.D20'], ['C8flx.Sfhi.D19', 'LysMC8flx.IM.D20'], ['CD11cC8flx.Sflow.D14', 'LysMC8flx.IM.D20'], ['CD11cC8flxRIPK3.IM.D14', 'LysMC8flx.IM.D20'], ['LysMC8flx.mono.D20', 'LysMC8flx.IM.D20'], ['CD11cC8flx.IM.D14', 'LysMC8flx.IM.D20'], ['CD11cC8flxRIPK3.IM.D21', 'LysMC8flx.IM.D20'], ['LysMC8flxRIPK3C8flx.Sflow.D20', 'LysMC8flx.IM.D20'], ['CD11cC8flxRIPK3.Sflow.D14', 'LysMC8flx.IM.D20'], ['LysMC8flx.Sflow.D20', 'LysMC8flx.IM.D20'], ['LysMC8flx.Sfhi.D0', 'LysMC8flx.IM.D20'], ['C8flx.IM.D14', 'LysMC8flx.IM.D20'], ['C8flx.Sfhi.D0', 'LysMC8flx.IM.D20'], ['CD11cC8flx.mono.D20', 'LysMC8flx.IM.D20'], ['CD11cC8flx.Sfhi.D20', 'LysMC8flx.IM.D20'], ['C8flx.IM.D19', 'LysMC8flx.IM.D20']]\n",
      "[['LysMC8flx.Sfhi.D20', 'LysMC8flx.mono.D14'], ['LysMC8flx.IM.D20', 'LysMC8flx.mono.D14'], ['LysMC8flx.mono.D14', 'LysMC8flx.mono.D14'], ['CD11cC8flxRIPK3.Sfhi.D14', 'LysMC8flx.mono.D14'], ['CD11cC8flxRIPK3.mono.D21', 'LysMC8flx.mono.D14'], ['LysMC8flxRIPK3.Sflow.D14', 'LysMC8flx.mono.D14'], ['CD11cC8flx.Sflow.D20', 'LysMC8flx.mono.D14'], ['LysMC8flxRIPK3.mono.D14', 'LysMC8flx.mono.D14'], ['CD11cC8flx.Sfhi.D0', 'LysMC8flx.mono.D14'], ['LysMC8flxRIPK3C8flx.IM.D20', 'LysMC8flx.mono.D14'], ['CD11cC8flxRIPK3.Sfhi.D21', 'LysMC8flx.mono.D14'], ['CD11cC8flx.IM.D20', 'LysMC8flx.mono.D14'], ['CD11cC8flx.mono.D14', 'LysMC8flx.mono.D14'], ['LysMC8flx.Sflow.D14', 'LysMC8flx.mono.D14'], ['LysMC8flxRIPK3.IM.D14', 'LysMC8flx.mono.D14'], ['CD11cC8flx.Sfhi.D14', 'LysMC8flx.mono.D14'], ['C8flx.mono.D14', 'LysMC8flx.mono.D14'], ['CD11cC8flxRIPK3.mono.D14', 'LysMC8flx.mono.D14'], ['LysMC8flx.Sfhi.D14', 'LysMC8flx.mono.D14'], ['C8flx.Sflow.D14', 'LysMC8flx.mono.D14'], ['LysMC8flx.IM.D14', 'LysMC8flx.mono.D14'], ['LysMC8flxRIPK3C8flx.mono.D20', 'LysMC8flx.mono.D14'], ['C8flx.Sflow.D19', 'LysMC8flx.mono.D14'], ['LysMC8flxRIPK3C8flx.Sfhi.D20', 'LysMC8flx.mono.D14'], ['C8flx.mono.D19', 'LysMC8flx.mono.D14'], ['C8flx.Sfhi.D14', 'LysMC8flx.mono.D14'], ['LysMC8flxRIPK3.Sfhi.D14', 'LysMC8flx.mono.D14'], ['CD11cC8flxRIPK3.Sflow.D21', 'LysMC8flx.mono.D14'], ['C8flx.Sfhi.D19', 'LysMC8flx.mono.D14'], ['CD11cC8flx.Sflow.D14', 'LysMC8flx.mono.D14'], ['CD11cC8flxRIPK3.IM.D14', 'LysMC8flx.mono.D14'], ['LysMC8flx.mono.D20', 'LysMC8flx.mono.D14'], ['CD11cC8flx.IM.D14', 'LysMC8flx.mono.D14'], ['CD11cC8flxRIPK3.IM.D21', 'LysMC8flx.mono.D14'], ['LysMC8flxRIPK3C8flx.Sflow.D20', 'LysMC8flx.mono.D14'], ['CD11cC8flxRIPK3.Sflow.D14', 'LysMC8flx.mono.D14'], ['LysMC8flx.Sflow.D20', 'LysMC8flx.mono.D14'], ['LysMC8flx.Sfhi.D0', 'LysMC8flx.mono.D14'], ['C8flx.IM.D14', 'LysMC8flx.mono.D14'], ['C8flx.Sfhi.D0', 'LysMC8flx.mono.D14'], ['CD11cC8flx.mono.D20', 'LysMC8flx.mono.D14'], ['CD11cC8flx.Sfhi.D20', 'LysMC8flx.mono.D14'], ['C8flx.IM.D19', 'LysMC8flx.mono.D14']]\n",
      "[['LysMC8flx.Sfhi.D20', 'CD11cC8flxRIPK3.Sfhi.D14'], ['LysMC8flx.IM.D20', 'CD11cC8flxRIPK3.Sfhi.D14'], ['LysMC8flx.mono.D14', 'CD11cC8flxRIPK3.Sfhi.D14'], ['CD11cC8flxRIPK3.Sfhi.D14', 'CD11cC8flxRIPK3.Sfhi.D14'], ['CD11cC8flxRIPK3.mono.D21', 'CD11cC8flxRIPK3.Sfhi.D14'], ['LysMC8flxRIPK3.Sflow.D14', 'CD11cC8flxRIPK3.Sfhi.D14'], ['CD11cC8flx.Sflow.D20', 'CD11cC8flxRIPK3.Sfhi.D14'], ['LysMC8flxRIPK3.mono.D14', 'CD11cC8flxRIPK3.Sfhi.D14'], ['CD11cC8flx.Sfhi.D0', 'CD11cC8flxRIPK3.Sfhi.D14'], ['LysMC8flxRIPK3C8flx.IM.D20', 'CD11cC8flxRIPK3.Sfhi.D14'], ['CD11cC8flxRIPK3.Sfhi.D21', 'CD11cC8flxRIPK3.Sfhi.D14'], ['CD11cC8flx.IM.D20', 'CD11cC8flxRIPK3.Sfhi.D14'], ['CD11cC8flx.mono.D14', 'CD11cC8flxRIPK3.Sfhi.D14'], ['LysMC8flx.Sflow.D14', 'CD11cC8flxRIPK3.Sfhi.D14'], ['LysMC8flxRIPK3.IM.D14', 'CD11cC8flxRIPK3.Sfhi.D14'], ['CD11cC8flx.Sfhi.D14', 'CD11cC8flxRIPK3.Sfhi.D14'], ['C8flx.mono.D14', 'CD11cC8flxRIPK3.Sfhi.D14'], ['CD11cC8flxRIPK3.mono.D14', 'CD11cC8flxRIPK3.Sfhi.D14'], ['LysMC8flx.Sfhi.D14', 'CD11cC8flxRIPK3.Sfhi.D14'], ['C8flx.Sflow.D14', 'CD11cC8flxRIPK3.Sfhi.D14'], ['LysMC8flx.IM.D14', 'CD11cC8flxRIPK3.Sfhi.D14'], ['LysMC8flxRIPK3C8flx.mono.D20', 'CD11cC8flxRIPK3.Sfhi.D14'], ['C8flx.Sflow.D19', 'CD11cC8flxRIPK3.Sfhi.D14'], ['LysMC8flxRIPK3C8flx.Sfhi.D20', 'CD11cC8flxRIPK3.Sfhi.D14'], ['C8flx.mono.D19', 'CD11cC8flxRIPK3.Sfhi.D14'], ['C8flx.Sfhi.D14', 'CD11cC8flxRIPK3.Sfhi.D14'], ['LysMC8flxRIPK3.Sfhi.D14', 'CD11cC8flxRIPK3.Sfhi.D14'], ['CD11cC8flxRIPK3.Sflow.D21', 'CD11cC8flxRIPK3.Sfhi.D14'], ['C8flx.Sfhi.D19', 'CD11cC8flxRIPK3.Sfhi.D14'], ['CD11cC8flx.Sflow.D14', 'CD11cC8flxRIPK3.Sfhi.D14'], ['CD11cC8flxRIPK3.IM.D14', 'CD11cC8flxRIPK3.Sfhi.D14'], ['LysMC8flx.mono.D20', 'CD11cC8flxRIPK3.Sfhi.D14'], ['CD11cC8flx.IM.D14', 'CD11cC8flxRIPK3.Sfhi.D14'], ['CD11cC8flxRIPK3.IM.D21', 'CD11cC8flxRIPK3.Sfhi.D14'], ['LysMC8flxRIPK3C8flx.Sflow.D20', 'CD11cC8flxRIPK3.Sfhi.D14'], ['CD11cC8flxRIPK3.Sflow.D14', 'CD11cC8flxRIPK3.Sfhi.D14'], ['LysMC8flx.Sflow.D20', 'CD11cC8flxRIPK3.Sfhi.D14'], ['LysMC8flx.Sfhi.D0', 'CD11cC8flxRIPK3.Sfhi.D14'], ['C8flx.IM.D14', 'CD11cC8flxRIPK3.Sfhi.D14'], ['C8flx.Sfhi.D0', 'CD11cC8flxRIPK3.Sfhi.D14'], ['CD11cC8flx.mono.D20', 'CD11cC8flxRIPK3.Sfhi.D14'], ['CD11cC8flx.Sfhi.D20', 'CD11cC8flxRIPK3.Sfhi.D14'], ['C8flx.IM.D19', 'CD11cC8flxRIPK3.Sfhi.D14']]\n",
      "[['LysMC8flx.Sfhi.D20', 'CD11cC8flxRIPK3.mono.D21'], ['LysMC8flx.IM.D20', 'CD11cC8flxRIPK3.mono.D21'], ['LysMC8flx.mono.D14', 'CD11cC8flxRIPK3.mono.D21'], ['CD11cC8flxRIPK3.Sfhi.D14', 'CD11cC8flxRIPK3.mono.D21'], ['CD11cC8flxRIPK3.mono.D21', 'CD11cC8flxRIPK3.mono.D21'], ['LysMC8flxRIPK3.Sflow.D14', 'CD11cC8flxRIPK3.mono.D21'], ['CD11cC8flx.Sflow.D20', 'CD11cC8flxRIPK3.mono.D21'], ['LysMC8flxRIPK3.mono.D14', 'CD11cC8flxRIPK3.mono.D21'], ['CD11cC8flx.Sfhi.D0', 'CD11cC8flxRIPK3.mono.D21'], ['LysMC8flxRIPK3C8flx.IM.D20', 'CD11cC8flxRIPK3.mono.D21'], ['CD11cC8flxRIPK3.Sfhi.D21', 'CD11cC8flxRIPK3.mono.D21'], ['CD11cC8flx.IM.D20', 'CD11cC8flxRIPK3.mono.D21'], ['CD11cC8flx.mono.D14', 'CD11cC8flxRIPK3.mono.D21'], ['LysMC8flx.Sflow.D14', 'CD11cC8flxRIPK3.mono.D21'], ['LysMC8flxRIPK3.IM.D14', 'CD11cC8flxRIPK3.mono.D21'], ['CD11cC8flx.Sfhi.D14', 'CD11cC8flxRIPK3.mono.D21'], ['C8flx.mono.D14', 'CD11cC8flxRIPK3.mono.D21'], ['CD11cC8flxRIPK3.mono.D14', 'CD11cC8flxRIPK3.mono.D21'], ['LysMC8flx.Sfhi.D14', 'CD11cC8flxRIPK3.mono.D21'], ['C8flx.Sflow.D14', 'CD11cC8flxRIPK3.mono.D21'], ['LysMC8flx.IM.D14', 'CD11cC8flxRIPK3.mono.D21'], ['LysMC8flxRIPK3C8flx.mono.D20', 'CD11cC8flxRIPK3.mono.D21'], ['C8flx.Sflow.D19', 'CD11cC8flxRIPK3.mono.D21'], ['LysMC8flxRIPK3C8flx.Sfhi.D20', 'CD11cC8flxRIPK3.mono.D21'], ['C8flx.mono.D19', 'CD11cC8flxRIPK3.mono.D21'], ['C8flx.Sfhi.D14', 'CD11cC8flxRIPK3.mono.D21'], ['LysMC8flxRIPK3.Sfhi.D14', 'CD11cC8flxRIPK3.mono.D21'], ['CD11cC8flxRIPK3.Sflow.D21', 'CD11cC8flxRIPK3.mono.D21'], ['C8flx.Sfhi.D19', 'CD11cC8flxRIPK3.mono.D21'], ['CD11cC8flx.Sflow.D14', 'CD11cC8flxRIPK3.mono.D21'], ['CD11cC8flxRIPK3.IM.D14', 'CD11cC8flxRIPK3.mono.D21'], ['LysMC8flx.mono.D20', 'CD11cC8flxRIPK3.mono.D21'], ['CD11cC8flx.IM.D14', 'CD11cC8flxRIPK3.mono.D21'], ['CD11cC8flxRIPK3.IM.D21', 'CD11cC8flxRIPK3.mono.D21'], ['LysMC8flxRIPK3C8flx.Sflow.D20', 'CD11cC8flxRIPK3.mono.D21'], ['CD11cC8flxRIPK3.Sflow.D14', 'CD11cC8flxRIPK3.mono.D21'], ['LysMC8flx.Sflow.D20', 'CD11cC8flxRIPK3.mono.D21'], ['LysMC8flx.Sfhi.D0', 'CD11cC8flxRIPK3.mono.D21'], ['C8flx.IM.D14', 'CD11cC8flxRIPK3.mono.D21'], ['C8flx.Sfhi.D0', 'CD11cC8flxRIPK3.mono.D21'], ['CD11cC8flx.mono.D20', 'CD11cC8flxRIPK3.mono.D21'], ['CD11cC8flx.Sfhi.D20', 'CD11cC8flxRIPK3.mono.D21'], ['C8flx.IM.D19', 'CD11cC8flxRIPK3.mono.D21']]\n",
      "[['LysMC8flx.Sfhi.D20', 'LysMC8flxRIPK3.Sflow.D14'], ['LysMC8flx.IM.D20', 'LysMC8flxRIPK3.Sflow.D14'], ['LysMC8flx.mono.D14', 'LysMC8flxRIPK3.Sflow.D14'], ['CD11cC8flxRIPK3.Sfhi.D14', 'LysMC8flxRIPK3.Sflow.D14'], ['CD11cC8flxRIPK3.mono.D21', 'LysMC8flxRIPK3.Sflow.D14'], ['LysMC8flxRIPK3.Sflow.D14', 'LysMC8flxRIPK3.Sflow.D14'], ['CD11cC8flx.Sflow.D20', 'LysMC8flxRIPK3.Sflow.D14'], ['LysMC8flxRIPK3.mono.D14', 'LysMC8flxRIPK3.Sflow.D14'], ['CD11cC8flx.Sfhi.D0', 'LysMC8flxRIPK3.Sflow.D14'], ['LysMC8flxRIPK3C8flx.IM.D20', 'LysMC8flxRIPK3.Sflow.D14'], ['CD11cC8flxRIPK3.Sfhi.D21', 'LysMC8flxRIPK3.Sflow.D14'], ['CD11cC8flx.IM.D20', 'LysMC8flxRIPK3.Sflow.D14'], ['CD11cC8flx.mono.D14', 'LysMC8flxRIPK3.Sflow.D14'], ['LysMC8flx.Sflow.D14', 'LysMC8flxRIPK3.Sflow.D14'], ['LysMC8flxRIPK3.IM.D14', 'LysMC8flxRIPK3.Sflow.D14'], ['CD11cC8flx.Sfhi.D14', 'LysMC8flxRIPK3.Sflow.D14'], ['C8flx.mono.D14', 'LysMC8flxRIPK3.Sflow.D14'], ['CD11cC8flxRIPK3.mono.D14', 'LysMC8flxRIPK3.Sflow.D14'], ['LysMC8flx.Sfhi.D14', 'LysMC8flxRIPK3.Sflow.D14'], ['C8flx.Sflow.D14', 'LysMC8flxRIPK3.Sflow.D14'], ['LysMC8flx.IM.D14', 'LysMC8flxRIPK3.Sflow.D14'], ['LysMC8flxRIPK3C8flx.mono.D20', 'LysMC8flxRIPK3.Sflow.D14'], ['C8flx.Sflow.D19', 'LysMC8flxRIPK3.Sflow.D14'], ['LysMC8flxRIPK3C8flx.Sfhi.D20', 'LysMC8flxRIPK3.Sflow.D14'], ['C8flx.mono.D19', 'LysMC8flxRIPK3.Sflow.D14'], ['C8flx.Sfhi.D14', 'LysMC8flxRIPK3.Sflow.D14'], ['LysMC8flxRIPK3.Sfhi.D14', 'LysMC8flxRIPK3.Sflow.D14'], ['CD11cC8flxRIPK3.Sflow.D21', 'LysMC8flxRIPK3.Sflow.D14'], ['C8flx.Sfhi.D19', 'LysMC8flxRIPK3.Sflow.D14'], ['CD11cC8flx.Sflow.D14', 'LysMC8flxRIPK3.Sflow.D14'], ['CD11cC8flxRIPK3.IM.D14', 'LysMC8flxRIPK3.Sflow.D14'], ['LysMC8flx.mono.D20', 'LysMC8flxRIPK3.Sflow.D14'], ['CD11cC8flx.IM.D14', 'LysMC8flxRIPK3.Sflow.D14'], ['CD11cC8flxRIPK3.IM.D21', 'LysMC8flxRIPK3.Sflow.D14'], ['LysMC8flxRIPK3C8flx.Sflow.D20', 'LysMC8flxRIPK3.Sflow.D14'], ['CD11cC8flxRIPK3.Sflow.D14', 'LysMC8flxRIPK3.Sflow.D14'], ['LysMC8flx.Sflow.D20', 'LysMC8flxRIPK3.Sflow.D14'], ['LysMC8flx.Sfhi.D0', 'LysMC8flxRIPK3.Sflow.D14'], ['C8flx.IM.D14', 'LysMC8flxRIPK3.Sflow.D14'], ['C8flx.Sfhi.D0', 'LysMC8flxRIPK3.Sflow.D14'], ['CD11cC8flx.mono.D20', 'LysMC8flxRIPK3.Sflow.D14'], ['CD11cC8flx.Sfhi.D20', 'LysMC8flxRIPK3.Sflow.D14'], ['C8flx.IM.D19', 'LysMC8flxRIPK3.Sflow.D14']]\n",
      "[['LysMC8flx.Sfhi.D20', 'CD11cC8flx.Sflow.D20'], ['LysMC8flx.IM.D20', 'CD11cC8flx.Sflow.D20'], ['LysMC8flx.mono.D14', 'CD11cC8flx.Sflow.D20'], ['CD11cC8flxRIPK3.Sfhi.D14', 'CD11cC8flx.Sflow.D20'], ['CD11cC8flxRIPK3.mono.D21', 'CD11cC8flx.Sflow.D20'], ['LysMC8flxRIPK3.Sflow.D14', 'CD11cC8flx.Sflow.D20'], ['CD11cC8flx.Sflow.D20', 'CD11cC8flx.Sflow.D20'], ['LysMC8flxRIPK3.mono.D14', 'CD11cC8flx.Sflow.D20'], ['CD11cC8flx.Sfhi.D0', 'CD11cC8flx.Sflow.D20'], ['LysMC8flxRIPK3C8flx.IM.D20', 'CD11cC8flx.Sflow.D20'], ['CD11cC8flxRIPK3.Sfhi.D21', 'CD11cC8flx.Sflow.D20'], ['CD11cC8flx.IM.D20', 'CD11cC8flx.Sflow.D20'], ['CD11cC8flx.mono.D14', 'CD11cC8flx.Sflow.D20'], ['LysMC8flx.Sflow.D14', 'CD11cC8flx.Sflow.D20'], ['LysMC8flxRIPK3.IM.D14', 'CD11cC8flx.Sflow.D20'], ['CD11cC8flx.Sfhi.D14', 'CD11cC8flx.Sflow.D20'], ['C8flx.mono.D14', 'CD11cC8flx.Sflow.D20'], ['CD11cC8flxRIPK3.mono.D14', 'CD11cC8flx.Sflow.D20'], ['LysMC8flx.Sfhi.D14', 'CD11cC8flx.Sflow.D20'], ['C8flx.Sflow.D14', 'CD11cC8flx.Sflow.D20'], ['LysMC8flx.IM.D14', 'CD11cC8flx.Sflow.D20'], ['LysMC8flxRIPK3C8flx.mono.D20', 'CD11cC8flx.Sflow.D20'], ['C8flx.Sflow.D19', 'CD11cC8flx.Sflow.D20'], ['LysMC8flxRIPK3C8flx.Sfhi.D20', 'CD11cC8flx.Sflow.D20'], ['C8flx.mono.D19', 'CD11cC8flx.Sflow.D20'], ['C8flx.Sfhi.D14', 'CD11cC8flx.Sflow.D20'], ['LysMC8flxRIPK3.Sfhi.D14', 'CD11cC8flx.Sflow.D20'], ['CD11cC8flxRIPK3.Sflow.D21', 'CD11cC8flx.Sflow.D20'], ['C8flx.Sfhi.D19', 'CD11cC8flx.Sflow.D20'], ['CD11cC8flx.Sflow.D14', 'CD11cC8flx.Sflow.D20'], ['CD11cC8flxRIPK3.IM.D14', 'CD11cC8flx.Sflow.D20'], ['LysMC8flx.mono.D20', 'CD11cC8flx.Sflow.D20'], ['CD11cC8flx.IM.D14', 'CD11cC8flx.Sflow.D20'], ['CD11cC8flxRIPK3.IM.D21', 'CD11cC8flx.Sflow.D20'], ['LysMC8flxRIPK3C8flx.Sflow.D20', 'CD11cC8flx.Sflow.D20'], ['CD11cC8flxRIPK3.Sflow.D14', 'CD11cC8flx.Sflow.D20'], ['LysMC8flx.Sflow.D20', 'CD11cC8flx.Sflow.D20'], ['LysMC8flx.Sfhi.D0', 'CD11cC8flx.Sflow.D20'], ['C8flx.IM.D14', 'CD11cC8flx.Sflow.D20'], ['C8flx.Sfhi.D0', 'CD11cC8flx.Sflow.D20'], ['CD11cC8flx.mono.D20', 'CD11cC8flx.Sflow.D20'], ['CD11cC8flx.Sfhi.D20', 'CD11cC8flx.Sflow.D20'], ['C8flx.IM.D19', 'CD11cC8flx.Sflow.D20']]\n",
      "[['LysMC8flx.Sfhi.D20', 'LysMC8flxRIPK3.mono.D14'], ['LysMC8flx.IM.D20', 'LysMC8flxRIPK3.mono.D14'], ['LysMC8flx.mono.D14', 'LysMC8flxRIPK3.mono.D14'], ['CD11cC8flxRIPK3.Sfhi.D14', 'LysMC8flxRIPK3.mono.D14'], ['CD11cC8flxRIPK3.mono.D21', 'LysMC8flxRIPK3.mono.D14'], ['LysMC8flxRIPK3.Sflow.D14', 'LysMC8flxRIPK3.mono.D14'], ['CD11cC8flx.Sflow.D20', 'LysMC8flxRIPK3.mono.D14'], ['LysMC8flxRIPK3.mono.D14', 'LysMC8flxRIPK3.mono.D14'], ['CD11cC8flx.Sfhi.D0', 'LysMC8flxRIPK3.mono.D14'], ['LysMC8flxRIPK3C8flx.IM.D20', 'LysMC8flxRIPK3.mono.D14'], ['CD11cC8flxRIPK3.Sfhi.D21', 'LysMC8flxRIPK3.mono.D14'], ['CD11cC8flx.IM.D20', 'LysMC8flxRIPK3.mono.D14'], ['CD11cC8flx.mono.D14', 'LysMC8flxRIPK3.mono.D14'], ['LysMC8flx.Sflow.D14', 'LysMC8flxRIPK3.mono.D14'], ['LysMC8flxRIPK3.IM.D14', 'LysMC8flxRIPK3.mono.D14'], ['CD11cC8flx.Sfhi.D14', 'LysMC8flxRIPK3.mono.D14'], ['C8flx.mono.D14', 'LysMC8flxRIPK3.mono.D14'], ['CD11cC8flxRIPK3.mono.D14', 'LysMC8flxRIPK3.mono.D14'], ['LysMC8flx.Sfhi.D14', 'LysMC8flxRIPK3.mono.D14'], ['C8flx.Sflow.D14', 'LysMC8flxRIPK3.mono.D14'], ['LysMC8flx.IM.D14', 'LysMC8flxRIPK3.mono.D14'], ['LysMC8flxRIPK3C8flx.mono.D20', 'LysMC8flxRIPK3.mono.D14'], ['C8flx.Sflow.D19', 'LysMC8flxRIPK3.mono.D14'], ['LysMC8flxRIPK3C8flx.Sfhi.D20', 'LysMC8flxRIPK3.mono.D14'], ['C8flx.mono.D19', 'LysMC8flxRIPK3.mono.D14'], ['C8flx.Sfhi.D14', 'LysMC8flxRIPK3.mono.D14'], ['LysMC8flxRIPK3.Sfhi.D14', 'LysMC8flxRIPK3.mono.D14'], ['CD11cC8flxRIPK3.Sflow.D21', 'LysMC8flxRIPK3.mono.D14'], ['C8flx.Sfhi.D19', 'LysMC8flxRIPK3.mono.D14'], ['CD11cC8flx.Sflow.D14', 'LysMC8flxRIPK3.mono.D14'], ['CD11cC8flxRIPK3.IM.D14', 'LysMC8flxRIPK3.mono.D14'], ['LysMC8flx.mono.D20', 'LysMC8flxRIPK3.mono.D14'], ['CD11cC8flx.IM.D14', 'LysMC8flxRIPK3.mono.D14'], ['CD11cC8flxRIPK3.IM.D21', 'LysMC8flxRIPK3.mono.D14'], ['LysMC8flxRIPK3C8flx.Sflow.D20', 'LysMC8flxRIPK3.mono.D14'], ['CD11cC8flxRIPK3.Sflow.D14', 'LysMC8flxRIPK3.mono.D14'], ['LysMC8flx.Sflow.D20', 'LysMC8flxRIPK3.mono.D14'], ['LysMC8flx.Sfhi.D0', 'LysMC8flxRIPK3.mono.D14'], ['C8flx.IM.D14', 'LysMC8flxRIPK3.mono.D14'], ['C8flx.Sfhi.D0', 'LysMC8flxRIPK3.mono.D14'], ['CD11cC8flx.mono.D20', 'LysMC8flxRIPK3.mono.D14'], ['CD11cC8flx.Sfhi.D20', 'LysMC8flxRIPK3.mono.D14'], ['C8flx.IM.D19', 'LysMC8flxRIPK3.mono.D14']]\n",
      "[['LysMC8flx.Sfhi.D20', 'CD11cC8flx.Sfhi.D0'], ['LysMC8flx.IM.D20', 'CD11cC8flx.Sfhi.D0'], ['LysMC8flx.mono.D14', 'CD11cC8flx.Sfhi.D0'], ['CD11cC8flxRIPK3.Sfhi.D14', 'CD11cC8flx.Sfhi.D0'], ['CD11cC8flxRIPK3.mono.D21', 'CD11cC8flx.Sfhi.D0'], ['LysMC8flxRIPK3.Sflow.D14', 'CD11cC8flx.Sfhi.D0'], ['CD11cC8flx.Sflow.D20', 'CD11cC8flx.Sfhi.D0'], ['LysMC8flxRIPK3.mono.D14', 'CD11cC8flx.Sfhi.D0'], ['CD11cC8flx.Sfhi.D0', 'CD11cC8flx.Sfhi.D0'], ['LysMC8flxRIPK3C8flx.IM.D20', 'CD11cC8flx.Sfhi.D0'], ['CD11cC8flxRIPK3.Sfhi.D21', 'CD11cC8flx.Sfhi.D0'], ['CD11cC8flx.IM.D20', 'CD11cC8flx.Sfhi.D0'], ['CD11cC8flx.mono.D14', 'CD11cC8flx.Sfhi.D0'], ['LysMC8flx.Sflow.D14', 'CD11cC8flx.Sfhi.D0'], ['LysMC8flxRIPK3.IM.D14', 'CD11cC8flx.Sfhi.D0'], ['CD11cC8flx.Sfhi.D14', 'CD11cC8flx.Sfhi.D0'], ['C8flx.mono.D14', 'CD11cC8flx.Sfhi.D0'], ['CD11cC8flxRIPK3.mono.D14', 'CD11cC8flx.Sfhi.D0'], ['LysMC8flx.Sfhi.D14', 'CD11cC8flx.Sfhi.D0'], ['C8flx.Sflow.D14', 'CD11cC8flx.Sfhi.D0'], ['LysMC8flx.IM.D14', 'CD11cC8flx.Sfhi.D0'], ['LysMC8flxRIPK3C8flx.mono.D20', 'CD11cC8flx.Sfhi.D0'], ['C8flx.Sflow.D19', 'CD11cC8flx.Sfhi.D0'], ['LysMC8flxRIPK3C8flx.Sfhi.D20', 'CD11cC8flx.Sfhi.D0'], ['C8flx.mono.D19', 'CD11cC8flx.Sfhi.D0'], ['C8flx.Sfhi.D14', 'CD11cC8flx.Sfhi.D0'], ['LysMC8flxRIPK3.Sfhi.D14', 'CD11cC8flx.Sfhi.D0'], ['CD11cC8flxRIPK3.Sflow.D21', 'CD11cC8flx.Sfhi.D0'], ['C8flx.Sfhi.D19', 'CD11cC8flx.Sfhi.D0'], ['CD11cC8flx.Sflow.D14', 'CD11cC8flx.Sfhi.D0'], ['CD11cC8flxRIPK3.IM.D14', 'CD11cC8flx.Sfhi.D0'], ['LysMC8flx.mono.D20', 'CD11cC8flx.Sfhi.D0'], ['CD11cC8flx.IM.D14', 'CD11cC8flx.Sfhi.D0'], ['CD11cC8flxRIPK3.IM.D21', 'CD11cC8flx.Sfhi.D0'], ['LysMC8flxRIPK3C8flx.Sflow.D20', 'CD11cC8flx.Sfhi.D0'], ['CD11cC8flxRIPK3.Sflow.D14', 'CD11cC8flx.Sfhi.D0'], ['LysMC8flx.Sflow.D20', 'CD11cC8flx.Sfhi.D0'], ['LysMC8flx.Sfhi.D0', 'CD11cC8flx.Sfhi.D0'], ['C8flx.IM.D14', 'CD11cC8flx.Sfhi.D0'], ['C8flx.Sfhi.D0', 'CD11cC8flx.Sfhi.D0'], ['CD11cC8flx.mono.D20', 'CD11cC8flx.Sfhi.D0'], ['CD11cC8flx.Sfhi.D20', 'CD11cC8flx.Sfhi.D0'], ['C8flx.IM.D19', 'CD11cC8flx.Sfhi.D0']]\n",
      "[['LysMC8flx.Sfhi.D20', 'LysMC8flxRIPK3C8flx.IM.D20'], ['LysMC8flx.IM.D20', 'LysMC8flxRIPK3C8flx.IM.D20'], ['LysMC8flx.mono.D14', 'LysMC8flxRIPK3C8flx.IM.D20'], ['CD11cC8flxRIPK3.Sfhi.D14', 'LysMC8flxRIPK3C8flx.IM.D20'], ['CD11cC8flxRIPK3.mono.D21', 'LysMC8flxRIPK3C8flx.IM.D20'], ['LysMC8flxRIPK3.Sflow.D14', 'LysMC8flxRIPK3C8flx.IM.D20'], ['CD11cC8flx.Sflow.D20', 'LysMC8flxRIPK3C8flx.IM.D20'], ['LysMC8flxRIPK3.mono.D14', 'LysMC8flxRIPK3C8flx.IM.D20'], ['CD11cC8flx.Sfhi.D0', 'LysMC8flxRIPK3C8flx.IM.D20'], ['LysMC8flxRIPK3C8flx.IM.D20', 'LysMC8flxRIPK3C8flx.IM.D20'], ['CD11cC8flxRIPK3.Sfhi.D21', 'LysMC8flxRIPK3C8flx.IM.D20'], ['CD11cC8flx.IM.D20', 'LysMC8flxRIPK3C8flx.IM.D20'], ['CD11cC8flx.mono.D14', 'LysMC8flxRIPK3C8flx.IM.D20'], ['LysMC8flx.Sflow.D14', 'LysMC8flxRIPK3C8flx.IM.D20'], ['LysMC8flxRIPK3.IM.D14', 'LysMC8flxRIPK3C8flx.IM.D20'], ['CD11cC8flx.Sfhi.D14', 'LysMC8flxRIPK3C8flx.IM.D20'], ['C8flx.mono.D14', 'LysMC8flxRIPK3C8flx.IM.D20'], ['CD11cC8flxRIPK3.mono.D14', 'LysMC8flxRIPK3C8flx.IM.D20'], ['LysMC8flx.Sfhi.D14', 'LysMC8flxRIPK3C8flx.IM.D20'], ['C8flx.Sflow.D14', 'LysMC8flxRIPK3C8flx.IM.D20'], ['LysMC8flx.IM.D14', 'LysMC8flxRIPK3C8flx.IM.D20'], ['LysMC8flxRIPK3C8flx.mono.D20', 'LysMC8flxRIPK3C8flx.IM.D20'], ['C8flx.Sflow.D19', 'LysMC8flxRIPK3C8flx.IM.D20'], ['LysMC8flxRIPK3C8flx.Sfhi.D20', 'LysMC8flxRIPK3C8flx.IM.D20'], ['C8flx.mono.D19', 'LysMC8flxRIPK3C8flx.IM.D20'], ['C8flx.Sfhi.D14', 'LysMC8flxRIPK3C8flx.IM.D20'], ['LysMC8flxRIPK3.Sfhi.D14', 'LysMC8flxRIPK3C8flx.IM.D20'], ['CD11cC8flxRIPK3.Sflow.D21', 'LysMC8flxRIPK3C8flx.IM.D20'], ['C8flx.Sfhi.D19', 'LysMC8flxRIPK3C8flx.IM.D20'], ['CD11cC8flx.Sflow.D14', 'LysMC8flxRIPK3C8flx.IM.D20'], ['CD11cC8flxRIPK3.IM.D14', 'LysMC8flxRIPK3C8flx.IM.D20'], ['LysMC8flx.mono.D20', 'LysMC8flxRIPK3C8flx.IM.D20'], ['CD11cC8flx.IM.D14', 'LysMC8flxRIPK3C8flx.IM.D20'], ['CD11cC8flxRIPK3.IM.D21', 'LysMC8flxRIPK3C8flx.IM.D20'], ['LysMC8flxRIPK3C8flx.Sflow.D20', 'LysMC8flxRIPK3C8flx.IM.D20'], ['CD11cC8flxRIPK3.Sflow.D14', 'LysMC8flxRIPK3C8flx.IM.D20'], ['LysMC8flx.Sflow.D20', 'LysMC8flxRIPK3C8flx.IM.D20'], ['LysMC8flx.Sfhi.D0', 'LysMC8flxRIPK3C8flx.IM.D20'], ['C8flx.IM.D14', 'LysMC8flxRIPK3C8flx.IM.D20'], ['C8flx.Sfhi.D0', 'LysMC8flxRIPK3C8flx.IM.D20'], ['CD11cC8flx.mono.D20', 'LysMC8flxRIPK3C8flx.IM.D20'], ['CD11cC8flx.Sfhi.D20', 'LysMC8flxRIPK3C8flx.IM.D20'], ['C8flx.IM.D19', 'LysMC8flxRIPK3C8flx.IM.D20']]\n",
      "[['LysMC8flx.Sfhi.D20', 'CD11cC8flxRIPK3.Sfhi.D21'], ['LysMC8flx.IM.D20', 'CD11cC8flxRIPK3.Sfhi.D21'], ['LysMC8flx.mono.D14', 'CD11cC8flxRIPK3.Sfhi.D21'], ['CD11cC8flxRIPK3.Sfhi.D14', 'CD11cC8flxRIPK3.Sfhi.D21'], ['CD11cC8flxRIPK3.mono.D21', 'CD11cC8flxRIPK3.Sfhi.D21'], ['LysMC8flxRIPK3.Sflow.D14', 'CD11cC8flxRIPK3.Sfhi.D21'], ['CD11cC8flx.Sflow.D20', 'CD11cC8flxRIPK3.Sfhi.D21'], ['LysMC8flxRIPK3.mono.D14', 'CD11cC8flxRIPK3.Sfhi.D21'], ['CD11cC8flx.Sfhi.D0', 'CD11cC8flxRIPK3.Sfhi.D21'], ['LysMC8flxRIPK3C8flx.IM.D20', 'CD11cC8flxRIPK3.Sfhi.D21'], ['CD11cC8flxRIPK3.Sfhi.D21', 'CD11cC8flxRIPK3.Sfhi.D21'], ['CD11cC8flx.IM.D20', 'CD11cC8flxRIPK3.Sfhi.D21'], ['CD11cC8flx.mono.D14', 'CD11cC8flxRIPK3.Sfhi.D21'], ['LysMC8flx.Sflow.D14', 'CD11cC8flxRIPK3.Sfhi.D21'], ['LysMC8flxRIPK3.IM.D14', 'CD11cC8flxRIPK3.Sfhi.D21'], ['CD11cC8flx.Sfhi.D14', 'CD11cC8flxRIPK3.Sfhi.D21'], ['C8flx.mono.D14', 'CD11cC8flxRIPK3.Sfhi.D21'], ['CD11cC8flxRIPK3.mono.D14', 'CD11cC8flxRIPK3.Sfhi.D21'], ['LysMC8flx.Sfhi.D14', 'CD11cC8flxRIPK3.Sfhi.D21'], ['C8flx.Sflow.D14', 'CD11cC8flxRIPK3.Sfhi.D21'], ['LysMC8flx.IM.D14', 'CD11cC8flxRIPK3.Sfhi.D21'], ['LysMC8flxRIPK3C8flx.mono.D20', 'CD11cC8flxRIPK3.Sfhi.D21'], ['C8flx.Sflow.D19', 'CD11cC8flxRIPK3.Sfhi.D21'], ['LysMC8flxRIPK3C8flx.Sfhi.D20', 'CD11cC8flxRIPK3.Sfhi.D21'], ['C8flx.mono.D19', 'CD11cC8flxRIPK3.Sfhi.D21'], ['C8flx.Sfhi.D14', 'CD11cC8flxRIPK3.Sfhi.D21'], ['LysMC8flxRIPK3.Sfhi.D14', 'CD11cC8flxRIPK3.Sfhi.D21'], ['CD11cC8flxRIPK3.Sflow.D21', 'CD11cC8flxRIPK3.Sfhi.D21'], ['C8flx.Sfhi.D19', 'CD11cC8flxRIPK3.Sfhi.D21'], ['CD11cC8flx.Sflow.D14', 'CD11cC8flxRIPK3.Sfhi.D21'], ['CD11cC8flxRIPK3.IM.D14', 'CD11cC8flxRIPK3.Sfhi.D21'], ['LysMC8flx.mono.D20', 'CD11cC8flxRIPK3.Sfhi.D21'], ['CD11cC8flx.IM.D14', 'CD11cC8flxRIPK3.Sfhi.D21'], ['CD11cC8flxRIPK3.IM.D21', 'CD11cC8flxRIPK3.Sfhi.D21'], ['LysMC8flxRIPK3C8flx.Sflow.D20', 'CD11cC8flxRIPK3.Sfhi.D21'], ['CD11cC8flxRIPK3.Sflow.D14', 'CD11cC8flxRIPK3.Sfhi.D21'], ['LysMC8flx.Sflow.D20', 'CD11cC8flxRIPK3.Sfhi.D21'], ['LysMC8flx.Sfhi.D0', 'CD11cC8flxRIPK3.Sfhi.D21'], ['C8flx.IM.D14', 'CD11cC8flxRIPK3.Sfhi.D21'], ['C8flx.Sfhi.D0', 'CD11cC8flxRIPK3.Sfhi.D21'], ['CD11cC8flx.mono.D20', 'CD11cC8flxRIPK3.Sfhi.D21'], ['CD11cC8flx.Sfhi.D20', 'CD11cC8flxRIPK3.Sfhi.D21'], ['C8flx.IM.D19', 'CD11cC8flxRIPK3.Sfhi.D21']]\n",
      "[['LysMC8flx.Sfhi.D20', 'CD11cC8flx.IM.D20'], ['LysMC8flx.IM.D20', 'CD11cC8flx.IM.D20'], ['LysMC8flx.mono.D14', 'CD11cC8flx.IM.D20'], ['CD11cC8flxRIPK3.Sfhi.D14', 'CD11cC8flx.IM.D20'], ['CD11cC8flxRIPK3.mono.D21', 'CD11cC8flx.IM.D20'], ['LysMC8flxRIPK3.Sflow.D14', 'CD11cC8flx.IM.D20'], ['CD11cC8flx.Sflow.D20', 'CD11cC8flx.IM.D20'], ['LysMC8flxRIPK3.mono.D14', 'CD11cC8flx.IM.D20'], ['CD11cC8flx.Sfhi.D0', 'CD11cC8flx.IM.D20'], ['LysMC8flxRIPK3C8flx.IM.D20', 'CD11cC8flx.IM.D20'], ['CD11cC8flxRIPK3.Sfhi.D21', 'CD11cC8flx.IM.D20'], ['CD11cC8flx.IM.D20', 'CD11cC8flx.IM.D20'], ['CD11cC8flx.mono.D14', 'CD11cC8flx.IM.D20'], ['LysMC8flx.Sflow.D14', 'CD11cC8flx.IM.D20'], ['LysMC8flxRIPK3.IM.D14', 'CD11cC8flx.IM.D20'], ['CD11cC8flx.Sfhi.D14', 'CD11cC8flx.IM.D20'], ['C8flx.mono.D14', 'CD11cC8flx.IM.D20'], ['CD11cC8flxRIPK3.mono.D14', 'CD11cC8flx.IM.D20'], ['LysMC8flx.Sfhi.D14', 'CD11cC8flx.IM.D20'], ['C8flx.Sflow.D14', 'CD11cC8flx.IM.D20'], ['LysMC8flx.IM.D14', 'CD11cC8flx.IM.D20'], ['LysMC8flxRIPK3C8flx.mono.D20', 'CD11cC8flx.IM.D20'], ['C8flx.Sflow.D19', 'CD11cC8flx.IM.D20'], ['LysMC8flxRIPK3C8flx.Sfhi.D20', 'CD11cC8flx.IM.D20'], ['C8flx.mono.D19', 'CD11cC8flx.IM.D20'], ['C8flx.Sfhi.D14', 'CD11cC8flx.IM.D20'], ['LysMC8flxRIPK3.Sfhi.D14', 'CD11cC8flx.IM.D20'], ['CD11cC8flxRIPK3.Sflow.D21', 'CD11cC8flx.IM.D20'], ['C8flx.Sfhi.D19', 'CD11cC8flx.IM.D20'], ['CD11cC8flx.Sflow.D14', 'CD11cC8flx.IM.D20'], ['CD11cC8flxRIPK3.IM.D14', 'CD11cC8flx.IM.D20'], ['LysMC8flx.mono.D20', 'CD11cC8flx.IM.D20'], ['CD11cC8flx.IM.D14', 'CD11cC8flx.IM.D20'], ['CD11cC8flxRIPK3.IM.D21', 'CD11cC8flx.IM.D20'], ['LysMC8flxRIPK3C8flx.Sflow.D20', 'CD11cC8flx.IM.D20'], ['CD11cC8flxRIPK3.Sflow.D14', 'CD11cC8flx.IM.D20'], ['LysMC8flx.Sflow.D20', 'CD11cC8flx.IM.D20'], ['LysMC8flx.Sfhi.D0', 'CD11cC8flx.IM.D20'], ['C8flx.IM.D14', 'CD11cC8flx.IM.D20'], ['C8flx.Sfhi.D0', 'CD11cC8flx.IM.D20'], ['CD11cC8flx.mono.D20', 'CD11cC8flx.IM.D20'], ['CD11cC8flx.Sfhi.D20', 'CD11cC8flx.IM.D20'], ['C8flx.IM.D19', 'CD11cC8flx.IM.D20']]\n",
      "[['LysMC8flx.Sfhi.D20', 'CD11cC8flx.mono.D14'], ['LysMC8flx.IM.D20', 'CD11cC8flx.mono.D14'], ['LysMC8flx.mono.D14', 'CD11cC8flx.mono.D14'], ['CD11cC8flxRIPK3.Sfhi.D14', 'CD11cC8flx.mono.D14'], ['CD11cC8flxRIPK3.mono.D21', 'CD11cC8flx.mono.D14'], ['LysMC8flxRIPK3.Sflow.D14', 'CD11cC8flx.mono.D14'], ['CD11cC8flx.Sflow.D20', 'CD11cC8flx.mono.D14'], ['LysMC8flxRIPK3.mono.D14', 'CD11cC8flx.mono.D14'], ['CD11cC8flx.Sfhi.D0', 'CD11cC8flx.mono.D14'], ['LysMC8flxRIPK3C8flx.IM.D20', 'CD11cC8flx.mono.D14'], ['CD11cC8flxRIPK3.Sfhi.D21', 'CD11cC8flx.mono.D14'], ['CD11cC8flx.IM.D20', 'CD11cC8flx.mono.D14'], ['CD11cC8flx.mono.D14', 'CD11cC8flx.mono.D14'], ['LysMC8flx.Sflow.D14', 'CD11cC8flx.mono.D14'], ['LysMC8flxRIPK3.IM.D14', 'CD11cC8flx.mono.D14'], ['CD11cC8flx.Sfhi.D14', 'CD11cC8flx.mono.D14'], ['C8flx.mono.D14', 'CD11cC8flx.mono.D14'], ['CD11cC8flxRIPK3.mono.D14', 'CD11cC8flx.mono.D14'], ['LysMC8flx.Sfhi.D14', 'CD11cC8flx.mono.D14'], ['C8flx.Sflow.D14', 'CD11cC8flx.mono.D14'], ['LysMC8flx.IM.D14', 'CD11cC8flx.mono.D14'], ['LysMC8flxRIPK3C8flx.mono.D20', 'CD11cC8flx.mono.D14'], ['C8flx.Sflow.D19', 'CD11cC8flx.mono.D14'], ['LysMC8flxRIPK3C8flx.Sfhi.D20', 'CD11cC8flx.mono.D14'], ['C8flx.mono.D19', 'CD11cC8flx.mono.D14'], ['C8flx.Sfhi.D14', 'CD11cC8flx.mono.D14'], ['LysMC8flxRIPK3.Sfhi.D14', 'CD11cC8flx.mono.D14'], ['CD11cC8flxRIPK3.Sflow.D21', 'CD11cC8flx.mono.D14'], ['C8flx.Sfhi.D19', 'CD11cC8flx.mono.D14'], ['CD11cC8flx.Sflow.D14', 'CD11cC8flx.mono.D14'], ['CD11cC8flxRIPK3.IM.D14', 'CD11cC8flx.mono.D14'], ['LysMC8flx.mono.D20', 'CD11cC8flx.mono.D14'], ['CD11cC8flx.IM.D14', 'CD11cC8flx.mono.D14'], ['CD11cC8flxRIPK3.IM.D21', 'CD11cC8flx.mono.D14'], ['LysMC8flxRIPK3C8flx.Sflow.D20', 'CD11cC8flx.mono.D14'], ['CD11cC8flxRIPK3.Sflow.D14', 'CD11cC8flx.mono.D14'], ['LysMC8flx.Sflow.D20', 'CD11cC8flx.mono.D14'], ['LysMC8flx.Sfhi.D0', 'CD11cC8flx.mono.D14'], ['C8flx.IM.D14', 'CD11cC8flx.mono.D14'], ['C8flx.Sfhi.D0', 'CD11cC8flx.mono.D14'], ['CD11cC8flx.mono.D20', 'CD11cC8flx.mono.D14'], ['CD11cC8flx.Sfhi.D20', 'CD11cC8flx.mono.D14'], ['C8flx.IM.D19', 'CD11cC8flx.mono.D14']]\n",
      "[['LysMC8flx.Sfhi.D20', 'LysMC8flx.Sflow.D14'], ['LysMC8flx.IM.D20', 'LysMC8flx.Sflow.D14'], ['LysMC8flx.mono.D14', 'LysMC8flx.Sflow.D14'], ['CD11cC8flxRIPK3.Sfhi.D14', 'LysMC8flx.Sflow.D14'], ['CD11cC8flxRIPK3.mono.D21', 'LysMC8flx.Sflow.D14'], ['LysMC8flxRIPK3.Sflow.D14', 'LysMC8flx.Sflow.D14'], ['CD11cC8flx.Sflow.D20', 'LysMC8flx.Sflow.D14'], ['LysMC8flxRIPK3.mono.D14', 'LysMC8flx.Sflow.D14'], ['CD11cC8flx.Sfhi.D0', 'LysMC8flx.Sflow.D14'], ['LysMC8flxRIPK3C8flx.IM.D20', 'LysMC8flx.Sflow.D14'], ['CD11cC8flxRIPK3.Sfhi.D21', 'LysMC8flx.Sflow.D14'], ['CD11cC8flx.IM.D20', 'LysMC8flx.Sflow.D14'], ['CD11cC8flx.mono.D14', 'LysMC8flx.Sflow.D14'], ['LysMC8flx.Sflow.D14', 'LysMC8flx.Sflow.D14'], ['LysMC8flxRIPK3.IM.D14', 'LysMC8flx.Sflow.D14'], ['CD11cC8flx.Sfhi.D14', 'LysMC8flx.Sflow.D14'], ['C8flx.mono.D14', 'LysMC8flx.Sflow.D14'], ['CD11cC8flxRIPK3.mono.D14', 'LysMC8flx.Sflow.D14'], ['LysMC8flx.Sfhi.D14', 'LysMC8flx.Sflow.D14'], ['C8flx.Sflow.D14', 'LysMC8flx.Sflow.D14'], ['LysMC8flx.IM.D14', 'LysMC8flx.Sflow.D14'], ['LysMC8flxRIPK3C8flx.mono.D20', 'LysMC8flx.Sflow.D14'], ['C8flx.Sflow.D19', 'LysMC8flx.Sflow.D14'], ['LysMC8flxRIPK3C8flx.Sfhi.D20', 'LysMC8flx.Sflow.D14'], ['C8flx.mono.D19', 'LysMC8flx.Sflow.D14'], ['C8flx.Sfhi.D14', 'LysMC8flx.Sflow.D14'], ['LysMC8flxRIPK3.Sfhi.D14', 'LysMC8flx.Sflow.D14'], ['CD11cC8flxRIPK3.Sflow.D21', 'LysMC8flx.Sflow.D14'], ['C8flx.Sfhi.D19', 'LysMC8flx.Sflow.D14'], ['CD11cC8flx.Sflow.D14', 'LysMC8flx.Sflow.D14'], ['CD11cC8flxRIPK3.IM.D14', 'LysMC8flx.Sflow.D14'], ['LysMC8flx.mono.D20', 'LysMC8flx.Sflow.D14'], ['CD11cC8flx.IM.D14', 'LysMC8flx.Sflow.D14'], ['CD11cC8flxRIPK3.IM.D21', 'LysMC8flx.Sflow.D14'], ['LysMC8flxRIPK3C8flx.Sflow.D20', 'LysMC8flx.Sflow.D14'], ['CD11cC8flxRIPK3.Sflow.D14', 'LysMC8flx.Sflow.D14'], ['LysMC8flx.Sflow.D20', 'LysMC8flx.Sflow.D14'], ['LysMC8flx.Sfhi.D0', 'LysMC8flx.Sflow.D14'], ['C8flx.IM.D14', 'LysMC8flx.Sflow.D14'], ['C8flx.Sfhi.D0', 'LysMC8flx.Sflow.D14'], ['CD11cC8flx.mono.D20', 'LysMC8flx.Sflow.D14'], ['CD11cC8flx.Sfhi.D20', 'LysMC8flx.Sflow.D14'], ['C8flx.IM.D19', 'LysMC8flx.Sflow.D14']]\n",
      "[['LysMC8flx.Sfhi.D20', 'LysMC8flxRIPK3.IM.D14'], ['LysMC8flx.IM.D20', 'LysMC8flxRIPK3.IM.D14'], ['LysMC8flx.mono.D14', 'LysMC8flxRIPK3.IM.D14'], ['CD11cC8flxRIPK3.Sfhi.D14', 'LysMC8flxRIPK3.IM.D14'], ['CD11cC8flxRIPK3.mono.D21', 'LysMC8flxRIPK3.IM.D14'], ['LysMC8flxRIPK3.Sflow.D14', 'LysMC8flxRIPK3.IM.D14'], ['CD11cC8flx.Sflow.D20', 'LysMC8flxRIPK3.IM.D14'], ['LysMC8flxRIPK3.mono.D14', 'LysMC8flxRIPK3.IM.D14'], ['CD11cC8flx.Sfhi.D0', 'LysMC8flxRIPK3.IM.D14'], ['LysMC8flxRIPK3C8flx.IM.D20', 'LysMC8flxRIPK3.IM.D14'], ['CD11cC8flxRIPK3.Sfhi.D21', 'LysMC8flxRIPK3.IM.D14'], ['CD11cC8flx.IM.D20', 'LysMC8flxRIPK3.IM.D14'], ['CD11cC8flx.mono.D14', 'LysMC8flxRIPK3.IM.D14'], ['LysMC8flx.Sflow.D14', 'LysMC8flxRIPK3.IM.D14'], ['LysMC8flxRIPK3.IM.D14', 'LysMC8flxRIPK3.IM.D14'], ['CD11cC8flx.Sfhi.D14', 'LysMC8flxRIPK3.IM.D14'], ['C8flx.mono.D14', 'LysMC8flxRIPK3.IM.D14'], ['CD11cC8flxRIPK3.mono.D14', 'LysMC8flxRIPK3.IM.D14'], ['LysMC8flx.Sfhi.D14', 'LysMC8flxRIPK3.IM.D14'], ['C8flx.Sflow.D14', 'LysMC8flxRIPK3.IM.D14'], ['LysMC8flx.IM.D14', 'LysMC8flxRIPK3.IM.D14'], ['LysMC8flxRIPK3C8flx.mono.D20', 'LysMC8flxRIPK3.IM.D14'], ['C8flx.Sflow.D19', 'LysMC8flxRIPK3.IM.D14'], ['LysMC8flxRIPK3C8flx.Sfhi.D20', 'LysMC8flxRIPK3.IM.D14'], ['C8flx.mono.D19', 'LysMC8flxRIPK3.IM.D14'], ['C8flx.Sfhi.D14', 'LysMC8flxRIPK3.IM.D14'], ['LysMC8flxRIPK3.Sfhi.D14', 'LysMC8flxRIPK3.IM.D14'], ['CD11cC8flxRIPK3.Sflow.D21', 'LysMC8flxRIPK3.IM.D14'], ['C8flx.Sfhi.D19', 'LysMC8flxRIPK3.IM.D14'], ['CD11cC8flx.Sflow.D14', 'LysMC8flxRIPK3.IM.D14'], ['CD11cC8flxRIPK3.IM.D14', 'LysMC8flxRIPK3.IM.D14'], ['LysMC8flx.mono.D20', 'LysMC8flxRIPK3.IM.D14'], ['CD11cC8flx.IM.D14', 'LysMC8flxRIPK3.IM.D14'], ['CD11cC8flxRIPK3.IM.D21', 'LysMC8flxRIPK3.IM.D14'], ['LysMC8flxRIPK3C8flx.Sflow.D20', 'LysMC8flxRIPK3.IM.D14'], ['CD11cC8flxRIPK3.Sflow.D14', 'LysMC8flxRIPK3.IM.D14'], ['LysMC8flx.Sflow.D20', 'LysMC8flxRIPK3.IM.D14'], ['LysMC8flx.Sfhi.D0', 'LysMC8flxRIPK3.IM.D14'], ['C8flx.IM.D14', 'LysMC8flxRIPK3.IM.D14'], ['C8flx.Sfhi.D0', 'LysMC8flxRIPK3.IM.D14'], ['CD11cC8flx.mono.D20', 'LysMC8flxRIPK3.IM.D14'], ['CD11cC8flx.Sfhi.D20', 'LysMC8flxRIPK3.IM.D14'], ['C8flx.IM.D19', 'LysMC8flxRIPK3.IM.D14']]\n",
      "[['LysMC8flx.Sfhi.D20', 'CD11cC8flx.Sfhi.D14'], ['LysMC8flx.IM.D20', 'CD11cC8flx.Sfhi.D14'], ['LysMC8flx.mono.D14', 'CD11cC8flx.Sfhi.D14'], ['CD11cC8flxRIPK3.Sfhi.D14', 'CD11cC8flx.Sfhi.D14'], ['CD11cC8flxRIPK3.mono.D21', 'CD11cC8flx.Sfhi.D14'], ['LysMC8flxRIPK3.Sflow.D14', 'CD11cC8flx.Sfhi.D14'], ['CD11cC8flx.Sflow.D20', 'CD11cC8flx.Sfhi.D14'], ['LysMC8flxRIPK3.mono.D14', 'CD11cC8flx.Sfhi.D14'], ['CD11cC8flx.Sfhi.D0', 'CD11cC8flx.Sfhi.D14'], ['LysMC8flxRIPK3C8flx.IM.D20', 'CD11cC8flx.Sfhi.D14'], ['CD11cC8flxRIPK3.Sfhi.D21', 'CD11cC8flx.Sfhi.D14'], ['CD11cC8flx.IM.D20', 'CD11cC8flx.Sfhi.D14'], ['CD11cC8flx.mono.D14', 'CD11cC8flx.Sfhi.D14'], ['LysMC8flx.Sflow.D14', 'CD11cC8flx.Sfhi.D14'], ['LysMC8flxRIPK3.IM.D14', 'CD11cC8flx.Sfhi.D14'], ['CD11cC8flx.Sfhi.D14', 'CD11cC8flx.Sfhi.D14'], ['C8flx.mono.D14', 'CD11cC8flx.Sfhi.D14'], ['CD11cC8flxRIPK3.mono.D14', 'CD11cC8flx.Sfhi.D14'], ['LysMC8flx.Sfhi.D14', 'CD11cC8flx.Sfhi.D14'], ['C8flx.Sflow.D14', 'CD11cC8flx.Sfhi.D14'], ['LysMC8flx.IM.D14', 'CD11cC8flx.Sfhi.D14'], ['LysMC8flxRIPK3C8flx.mono.D20', 'CD11cC8flx.Sfhi.D14'], ['C8flx.Sflow.D19', 'CD11cC8flx.Sfhi.D14'], ['LysMC8flxRIPK3C8flx.Sfhi.D20', 'CD11cC8flx.Sfhi.D14'], ['C8flx.mono.D19', 'CD11cC8flx.Sfhi.D14'], ['C8flx.Sfhi.D14', 'CD11cC8flx.Sfhi.D14'], ['LysMC8flxRIPK3.Sfhi.D14', 'CD11cC8flx.Sfhi.D14'], ['CD11cC8flxRIPK3.Sflow.D21', 'CD11cC8flx.Sfhi.D14'], ['C8flx.Sfhi.D19', 'CD11cC8flx.Sfhi.D14'], ['CD11cC8flx.Sflow.D14', 'CD11cC8flx.Sfhi.D14'], ['CD11cC8flxRIPK3.IM.D14', 'CD11cC8flx.Sfhi.D14'], ['LysMC8flx.mono.D20', 'CD11cC8flx.Sfhi.D14'], ['CD11cC8flx.IM.D14', 'CD11cC8flx.Sfhi.D14'], ['CD11cC8flxRIPK3.IM.D21', 'CD11cC8flx.Sfhi.D14'], ['LysMC8flxRIPK3C8flx.Sflow.D20', 'CD11cC8flx.Sfhi.D14'], ['CD11cC8flxRIPK3.Sflow.D14', 'CD11cC8flx.Sfhi.D14'], ['LysMC8flx.Sflow.D20', 'CD11cC8flx.Sfhi.D14'], ['LysMC8flx.Sfhi.D0', 'CD11cC8flx.Sfhi.D14'], ['C8flx.IM.D14', 'CD11cC8flx.Sfhi.D14'], ['C8flx.Sfhi.D0', 'CD11cC8flx.Sfhi.D14'], ['CD11cC8flx.mono.D20', 'CD11cC8flx.Sfhi.D14'], ['CD11cC8flx.Sfhi.D20', 'CD11cC8flx.Sfhi.D14'], ['C8flx.IM.D19', 'CD11cC8flx.Sfhi.D14']]\n",
      "[['LysMC8flx.Sfhi.D20', 'C8flx.mono.D14'], ['LysMC8flx.IM.D20', 'C8flx.mono.D14'], ['LysMC8flx.mono.D14', 'C8flx.mono.D14'], ['CD11cC8flxRIPK3.Sfhi.D14', 'C8flx.mono.D14'], ['CD11cC8flxRIPK3.mono.D21', 'C8flx.mono.D14'], ['LysMC8flxRIPK3.Sflow.D14', 'C8flx.mono.D14'], ['CD11cC8flx.Sflow.D20', 'C8flx.mono.D14'], ['LysMC8flxRIPK3.mono.D14', 'C8flx.mono.D14'], ['CD11cC8flx.Sfhi.D0', 'C8flx.mono.D14'], ['LysMC8flxRIPK3C8flx.IM.D20', 'C8flx.mono.D14'], ['CD11cC8flxRIPK3.Sfhi.D21', 'C8flx.mono.D14'], ['CD11cC8flx.IM.D20', 'C8flx.mono.D14'], ['CD11cC8flx.mono.D14', 'C8flx.mono.D14'], ['LysMC8flx.Sflow.D14', 'C8flx.mono.D14'], ['LysMC8flxRIPK3.IM.D14', 'C8flx.mono.D14'], ['CD11cC8flx.Sfhi.D14', 'C8flx.mono.D14'], ['C8flx.mono.D14', 'C8flx.mono.D14'], ['CD11cC8flxRIPK3.mono.D14', 'C8flx.mono.D14'], ['LysMC8flx.Sfhi.D14', 'C8flx.mono.D14'], ['C8flx.Sflow.D14', 'C8flx.mono.D14'], ['LysMC8flx.IM.D14', 'C8flx.mono.D14'], ['LysMC8flxRIPK3C8flx.mono.D20', 'C8flx.mono.D14'], ['C8flx.Sflow.D19', 'C8flx.mono.D14'], ['LysMC8flxRIPK3C8flx.Sfhi.D20', 'C8flx.mono.D14'], ['C8flx.mono.D19', 'C8flx.mono.D14'], ['C8flx.Sfhi.D14', 'C8flx.mono.D14'], ['LysMC8flxRIPK3.Sfhi.D14', 'C8flx.mono.D14'], ['CD11cC8flxRIPK3.Sflow.D21', 'C8flx.mono.D14'], ['C8flx.Sfhi.D19', 'C8flx.mono.D14'], ['CD11cC8flx.Sflow.D14', 'C8flx.mono.D14'], ['CD11cC8flxRIPK3.IM.D14', 'C8flx.mono.D14'], ['LysMC8flx.mono.D20', 'C8flx.mono.D14'], ['CD11cC8flx.IM.D14', 'C8flx.mono.D14'], ['CD11cC8flxRIPK3.IM.D21', 'C8flx.mono.D14'], ['LysMC8flxRIPK3C8flx.Sflow.D20', 'C8flx.mono.D14'], ['CD11cC8flxRIPK3.Sflow.D14', 'C8flx.mono.D14'], ['LysMC8flx.Sflow.D20', 'C8flx.mono.D14'], ['LysMC8flx.Sfhi.D0', 'C8flx.mono.D14'], ['C8flx.IM.D14', 'C8flx.mono.D14'], ['C8flx.Sfhi.D0', 'C8flx.mono.D14'], ['CD11cC8flx.mono.D20', 'C8flx.mono.D14'], ['CD11cC8flx.Sfhi.D20', 'C8flx.mono.D14'], ['C8flx.IM.D19', 'C8flx.mono.D14']]\n",
      "[['LysMC8flx.Sfhi.D20', 'CD11cC8flxRIPK3.mono.D14'], ['LysMC8flx.IM.D20', 'CD11cC8flxRIPK3.mono.D14'], ['LysMC8flx.mono.D14', 'CD11cC8flxRIPK3.mono.D14'], ['CD11cC8flxRIPK3.Sfhi.D14', 'CD11cC8flxRIPK3.mono.D14'], ['CD11cC8flxRIPK3.mono.D21', 'CD11cC8flxRIPK3.mono.D14'], ['LysMC8flxRIPK3.Sflow.D14', 'CD11cC8flxRIPK3.mono.D14'], ['CD11cC8flx.Sflow.D20', 'CD11cC8flxRIPK3.mono.D14'], ['LysMC8flxRIPK3.mono.D14', 'CD11cC8flxRIPK3.mono.D14'], ['CD11cC8flx.Sfhi.D0', 'CD11cC8flxRIPK3.mono.D14'], ['LysMC8flxRIPK3C8flx.IM.D20', 'CD11cC8flxRIPK3.mono.D14'], ['CD11cC8flxRIPK3.Sfhi.D21', 'CD11cC8flxRIPK3.mono.D14'], ['CD11cC8flx.IM.D20', 'CD11cC8flxRIPK3.mono.D14'], ['CD11cC8flx.mono.D14', 'CD11cC8flxRIPK3.mono.D14'], ['LysMC8flx.Sflow.D14', 'CD11cC8flxRIPK3.mono.D14'], ['LysMC8flxRIPK3.IM.D14', 'CD11cC8flxRIPK3.mono.D14'], ['CD11cC8flx.Sfhi.D14', 'CD11cC8flxRIPK3.mono.D14'], ['C8flx.mono.D14', 'CD11cC8flxRIPK3.mono.D14'], ['CD11cC8flxRIPK3.mono.D14', 'CD11cC8flxRIPK3.mono.D14'], ['LysMC8flx.Sfhi.D14', 'CD11cC8flxRIPK3.mono.D14'], ['C8flx.Sflow.D14', 'CD11cC8flxRIPK3.mono.D14'], ['LysMC8flx.IM.D14', 'CD11cC8flxRIPK3.mono.D14'], ['LysMC8flxRIPK3C8flx.mono.D20', 'CD11cC8flxRIPK3.mono.D14'], ['C8flx.Sflow.D19', 'CD11cC8flxRIPK3.mono.D14'], ['LysMC8flxRIPK3C8flx.Sfhi.D20', 'CD11cC8flxRIPK3.mono.D14'], ['C8flx.mono.D19', 'CD11cC8flxRIPK3.mono.D14'], ['C8flx.Sfhi.D14', 'CD11cC8flxRIPK3.mono.D14'], ['LysMC8flxRIPK3.Sfhi.D14', 'CD11cC8flxRIPK3.mono.D14'], ['CD11cC8flxRIPK3.Sflow.D21', 'CD11cC8flxRIPK3.mono.D14'], ['C8flx.Sfhi.D19', 'CD11cC8flxRIPK3.mono.D14'], ['CD11cC8flx.Sflow.D14', 'CD11cC8flxRIPK3.mono.D14'], ['CD11cC8flxRIPK3.IM.D14', 'CD11cC8flxRIPK3.mono.D14'], ['LysMC8flx.mono.D20', 'CD11cC8flxRIPK3.mono.D14'], ['CD11cC8flx.IM.D14', 'CD11cC8flxRIPK3.mono.D14'], ['CD11cC8flxRIPK3.IM.D21', 'CD11cC8flxRIPK3.mono.D14'], ['LysMC8flxRIPK3C8flx.Sflow.D20', 'CD11cC8flxRIPK3.mono.D14'], ['CD11cC8flxRIPK3.Sflow.D14', 'CD11cC8flxRIPK3.mono.D14'], ['LysMC8flx.Sflow.D20', 'CD11cC8flxRIPK3.mono.D14'], ['LysMC8flx.Sfhi.D0', 'CD11cC8flxRIPK3.mono.D14'], ['C8flx.IM.D14', 'CD11cC8flxRIPK3.mono.D14'], ['C8flx.Sfhi.D0', 'CD11cC8flxRIPK3.mono.D14'], ['CD11cC8flx.mono.D20', 'CD11cC8flxRIPK3.mono.D14'], ['CD11cC8flx.Sfhi.D20', 'CD11cC8flxRIPK3.mono.D14'], ['C8flx.IM.D19', 'CD11cC8flxRIPK3.mono.D14']]\n",
      "[['LysMC8flx.Sfhi.D20', 'LysMC8flx.Sfhi.D14'], ['LysMC8flx.IM.D20', 'LysMC8flx.Sfhi.D14'], ['LysMC8flx.mono.D14', 'LysMC8flx.Sfhi.D14'], ['CD11cC8flxRIPK3.Sfhi.D14', 'LysMC8flx.Sfhi.D14'], ['CD11cC8flxRIPK3.mono.D21', 'LysMC8flx.Sfhi.D14'], ['LysMC8flxRIPK3.Sflow.D14', 'LysMC8flx.Sfhi.D14'], ['CD11cC8flx.Sflow.D20', 'LysMC8flx.Sfhi.D14'], ['LysMC8flxRIPK3.mono.D14', 'LysMC8flx.Sfhi.D14'], ['CD11cC8flx.Sfhi.D0', 'LysMC8flx.Sfhi.D14'], ['LysMC8flxRIPK3C8flx.IM.D20', 'LysMC8flx.Sfhi.D14'], ['CD11cC8flxRIPK3.Sfhi.D21', 'LysMC8flx.Sfhi.D14'], ['CD11cC8flx.IM.D20', 'LysMC8flx.Sfhi.D14'], ['CD11cC8flx.mono.D14', 'LysMC8flx.Sfhi.D14'], ['LysMC8flx.Sflow.D14', 'LysMC8flx.Sfhi.D14'], ['LysMC8flxRIPK3.IM.D14', 'LysMC8flx.Sfhi.D14'], ['CD11cC8flx.Sfhi.D14', 'LysMC8flx.Sfhi.D14'], ['C8flx.mono.D14', 'LysMC8flx.Sfhi.D14'], ['CD11cC8flxRIPK3.mono.D14', 'LysMC8flx.Sfhi.D14'], ['LysMC8flx.Sfhi.D14', 'LysMC8flx.Sfhi.D14'], ['C8flx.Sflow.D14', 'LysMC8flx.Sfhi.D14'], ['LysMC8flx.IM.D14', 'LysMC8flx.Sfhi.D14'], ['LysMC8flxRIPK3C8flx.mono.D20', 'LysMC8flx.Sfhi.D14'], ['C8flx.Sflow.D19', 'LysMC8flx.Sfhi.D14'], ['LysMC8flxRIPK3C8flx.Sfhi.D20', 'LysMC8flx.Sfhi.D14'], ['C8flx.mono.D19', 'LysMC8flx.Sfhi.D14'], ['C8flx.Sfhi.D14', 'LysMC8flx.Sfhi.D14'], ['LysMC8flxRIPK3.Sfhi.D14', 'LysMC8flx.Sfhi.D14'], ['CD11cC8flxRIPK3.Sflow.D21', 'LysMC8flx.Sfhi.D14'], ['C8flx.Sfhi.D19', 'LysMC8flx.Sfhi.D14'], ['CD11cC8flx.Sflow.D14', 'LysMC8flx.Sfhi.D14'], ['CD11cC8flxRIPK3.IM.D14', 'LysMC8flx.Sfhi.D14'], ['LysMC8flx.mono.D20', 'LysMC8flx.Sfhi.D14'], ['CD11cC8flx.IM.D14', 'LysMC8flx.Sfhi.D14'], ['CD11cC8flxRIPK3.IM.D21', 'LysMC8flx.Sfhi.D14'], ['LysMC8flxRIPK3C8flx.Sflow.D20', 'LysMC8flx.Sfhi.D14'], ['CD11cC8flxRIPK3.Sflow.D14', 'LysMC8flx.Sfhi.D14'], ['LysMC8flx.Sflow.D20', 'LysMC8flx.Sfhi.D14'], ['LysMC8flx.Sfhi.D0', 'LysMC8flx.Sfhi.D14'], ['C8flx.IM.D14', 'LysMC8flx.Sfhi.D14'], ['C8flx.Sfhi.D0', 'LysMC8flx.Sfhi.D14'], ['CD11cC8flx.mono.D20', 'LysMC8flx.Sfhi.D14'], ['CD11cC8flx.Sfhi.D20', 'LysMC8flx.Sfhi.D14'], ['C8flx.IM.D19', 'LysMC8flx.Sfhi.D14']]\n",
      "[['LysMC8flx.Sfhi.D20', 'C8flx.Sflow.D14'], ['LysMC8flx.IM.D20', 'C8flx.Sflow.D14'], ['LysMC8flx.mono.D14', 'C8flx.Sflow.D14'], ['CD11cC8flxRIPK3.Sfhi.D14', 'C8flx.Sflow.D14'], ['CD11cC8flxRIPK3.mono.D21', 'C8flx.Sflow.D14'], ['LysMC8flxRIPK3.Sflow.D14', 'C8flx.Sflow.D14'], ['CD11cC8flx.Sflow.D20', 'C8flx.Sflow.D14'], ['LysMC8flxRIPK3.mono.D14', 'C8flx.Sflow.D14'], ['CD11cC8flx.Sfhi.D0', 'C8flx.Sflow.D14'], ['LysMC8flxRIPK3C8flx.IM.D20', 'C8flx.Sflow.D14'], ['CD11cC8flxRIPK3.Sfhi.D21', 'C8flx.Sflow.D14'], ['CD11cC8flx.IM.D20', 'C8flx.Sflow.D14'], ['CD11cC8flx.mono.D14', 'C8flx.Sflow.D14'], ['LysMC8flx.Sflow.D14', 'C8flx.Sflow.D14'], ['LysMC8flxRIPK3.IM.D14', 'C8flx.Sflow.D14'], ['CD11cC8flx.Sfhi.D14', 'C8flx.Sflow.D14'], ['C8flx.mono.D14', 'C8flx.Sflow.D14'], ['CD11cC8flxRIPK3.mono.D14', 'C8flx.Sflow.D14'], ['LysMC8flx.Sfhi.D14', 'C8flx.Sflow.D14'], ['C8flx.Sflow.D14', 'C8flx.Sflow.D14'], ['LysMC8flx.IM.D14', 'C8flx.Sflow.D14'], ['LysMC8flxRIPK3C8flx.mono.D20', 'C8flx.Sflow.D14'], ['C8flx.Sflow.D19', 'C8flx.Sflow.D14'], ['LysMC8flxRIPK3C8flx.Sfhi.D20', 'C8flx.Sflow.D14'], ['C8flx.mono.D19', 'C8flx.Sflow.D14'], ['C8flx.Sfhi.D14', 'C8flx.Sflow.D14'], ['LysMC8flxRIPK3.Sfhi.D14', 'C8flx.Sflow.D14'], ['CD11cC8flxRIPK3.Sflow.D21', 'C8flx.Sflow.D14'], ['C8flx.Sfhi.D19', 'C8flx.Sflow.D14'], ['CD11cC8flx.Sflow.D14', 'C8flx.Sflow.D14'], ['CD11cC8flxRIPK3.IM.D14', 'C8flx.Sflow.D14'], ['LysMC8flx.mono.D20', 'C8flx.Sflow.D14'], ['CD11cC8flx.IM.D14', 'C8flx.Sflow.D14'], ['CD11cC8flxRIPK3.IM.D21', 'C8flx.Sflow.D14'], ['LysMC8flxRIPK3C8flx.Sflow.D20', 'C8flx.Sflow.D14'], ['CD11cC8flxRIPK3.Sflow.D14', 'C8flx.Sflow.D14'], ['LysMC8flx.Sflow.D20', 'C8flx.Sflow.D14'], ['LysMC8flx.Sfhi.D0', 'C8flx.Sflow.D14'], ['C8flx.IM.D14', 'C8flx.Sflow.D14'], ['C8flx.Sfhi.D0', 'C8flx.Sflow.D14'], ['CD11cC8flx.mono.D20', 'C8flx.Sflow.D14'], ['CD11cC8flx.Sfhi.D20', 'C8flx.Sflow.D14'], ['C8flx.IM.D19', 'C8flx.Sflow.D14']]\n",
      "[['LysMC8flx.Sfhi.D20', 'LysMC8flx.IM.D14'], ['LysMC8flx.IM.D20', 'LysMC8flx.IM.D14'], ['LysMC8flx.mono.D14', 'LysMC8flx.IM.D14'], ['CD11cC8flxRIPK3.Sfhi.D14', 'LysMC8flx.IM.D14'], ['CD11cC8flxRIPK3.mono.D21', 'LysMC8flx.IM.D14'], ['LysMC8flxRIPK3.Sflow.D14', 'LysMC8flx.IM.D14'], ['CD11cC8flx.Sflow.D20', 'LysMC8flx.IM.D14'], ['LysMC8flxRIPK3.mono.D14', 'LysMC8flx.IM.D14'], ['CD11cC8flx.Sfhi.D0', 'LysMC8flx.IM.D14'], ['LysMC8flxRIPK3C8flx.IM.D20', 'LysMC8flx.IM.D14'], ['CD11cC8flxRIPK3.Sfhi.D21', 'LysMC8flx.IM.D14'], ['CD11cC8flx.IM.D20', 'LysMC8flx.IM.D14'], ['CD11cC8flx.mono.D14', 'LysMC8flx.IM.D14'], ['LysMC8flx.Sflow.D14', 'LysMC8flx.IM.D14'], ['LysMC8flxRIPK3.IM.D14', 'LysMC8flx.IM.D14'], ['CD11cC8flx.Sfhi.D14', 'LysMC8flx.IM.D14'], ['C8flx.mono.D14', 'LysMC8flx.IM.D14'], ['CD11cC8flxRIPK3.mono.D14', 'LysMC8flx.IM.D14'], ['LysMC8flx.Sfhi.D14', 'LysMC8flx.IM.D14'], ['C8flx.Sflow.D14', 'LysMC8flx.IM.D14'], ['LysMC8flx.IM.D14', 'LysMC8flx.IM.D14'], ['LysMC8flxRIPK3C8flx.mono.D20', 'LysMC8flx.IM.D14'], ['C8flx.Sflow.D19', 'LysMC8flx.IM.D14'], ['LysMC8flxRIPK3C8flx.Sfhi.D20', 'LysMC8flx.IM.D14'], ['C8flx.mono.D19', 'LysMC8flx.IM.D14'], ['C8flx.Sfhi.D14', 'LysMC8flx.IM.D14'], ['LysMC8flxRIPK3.Sfhi.D14', 'LysMC8flx.IM.D14'], ['CD11cC8flxRIPK3.Sflow.D21', 'LysMC8flx.IM.D14'], ['C8flx.Sfhi.D19', 'LysMC8flx.IM.D14'], ['CD11cC8flx.Sflow.D14', 'LysMC8flx.IM.D14'], ['CD11cC8flxRIPK3.IM.D14', 'LysMC8flx.IM.D14'], ['LysMC8flx.mono.D20', 'LysMC8flx.IM.D14'], ['CD11cC8flx.IM.D14', 'LysMC8flx.IM.D14'], ['CD11cC8flxRIPK3.IM.D21', 'LysMC8flx.IM.D14'], ['LysMC8flxRIPK3C8flx.Sflow.D20', 'LysMC8flx.IM.D14'], ['CD11cC8flxRIPK3.Sflow.D14', 'LysMC8flx.IM.D14'], ['LysMC8flx.Sflow.D20', 'LysMC8flx.IM.D14'], ['LysMC8flx.Sfhi.D0', 'LysMC8flx.IM.D14'], ['C8flx.IM.D14', 'LysMC8flx.IM.D14'], ['C8flx.Sfhi.D0', 'LysMC8flx.IM.D14'], ['CD11cC8flx.mono.D20', 'LysMC8flx.IM.D14'], ['CD11cC8flx.Sfhi.D20', 'LysMC8flx.IM.D14'], ['C8flx.IM.D19', 'LysMC8flx.IM.D14']]\n",
      "[['LysMC8flx.Sfhi.D20', 'LysMC8flxRIPK3C8flx.mono.D20'], ['LysMC8flx.IM.D20', 'LysMC8flxRIPK3C8flx.mono.D20'], ['LysMC8flx.mono.D14', 'LysMC8flxRIPK3C8flx.mono.D20'], ['CD11cC8flxRIPK3.Sfhi.D14', 'LysMC8flxRIPK3C8flx.mono.D20'], ['CD11cC8flxRIPK3.mono.D21', 'LysMC8flxRIPK3C8flx.mono.D20'], ['LysMC8flxRIPK3.Sflow.D14', 'LysMC8flxRIPK3C8flx.mono.D20'], ['CD11cC8flx.Sflow.D20', 'LysMC8flxRIPK3C8flx.mono.D20'], ['LysMC8flxRIPK3.mono.D14', 'LysMC8flxRIPK3C8flx.mono.D20'], ['CD11cC8flx.Sfhi.D0', 'LysMC8flxRIPK3C8flx.mono.D20'], ['LysMC8flxRIPK3C8flx.IM.D20', 'LysMC8flxRIPK3C8flx.mono.D20'], ['CD11cC8flxRIPK3.Sfhi.D21', 'LysMC8flxRIPK3C8flx.mono.D20'], ['CD11cC8flx.IM.D20', 'LysMC8flxRIPK3C8flx.mono.D20'], ['CD11cC8flx.mono.D14', 'LysMC8flxRIPK3C8flx.mono.D20'], ['LysMC8flx.Sflow.D14', 'LysMC8flxRIPK3C8flx.mono.D20'], ['LysMC8flxRIPK3.IM.D14', 'LysMC8flxRIPK3C8flx.mono.D20'], ['CD11cC8flx.Sfhi.D14', 'LysMC8flxRIPK3C8flx.mono.D20'], ['C8flx.mono.D14', 'LysMC8flxRIPK3C8flx.mono.D20'], ['CD11cC8flxRIPK3.mono.D14', 'LysMC8flxRIPK3C8flx.mono.D20'], ['LysMC8flx.Sfhi.D14', 'LysMC8flxRIPK3C8flx.mono.D20'], ['C8flx.Sflow.D14', 'LysMC8flxRIPK3C8flx.mono.D20'], ['LysMC8flx.IM.D14', 'LysMC8flxRIPK3C8flx.mono.D20'], ['LysMC8flxRIPK3C8flx.mono.D20', 'LysMC8flxRIPK3C8flx.mono.D20'], ['C8flx.Sflow.D19', 'LysMC8flxRIPK3C8flx.mono.D20'], ['LysMC8flxRIPK3C8flx.Sfhi.D20', 'LysMC8flxRIPK3C8flx.mono.D20'], ['C8flx.mono.D19', 'LysMC8flxRIPK3C8flx.mono.D20'], ['C8flx.Sfhi.D14', 'LysMC8flxRIPK3C8flx.mono.D20'], ['LysMC8flxRIPK3.Sfhi.D14', 'LysMC8flxRIPK3C8flx.mono.D20'], ['CD11cC8flxRIPK3.Sflow.D21', 'LysMC8flxRIPK3C8flx.mono.D20'], ['C8flx.Sfhi.D19', 'LysMC8flxRIPK3C8flx.mono.D20'], ['CD11cC8flx.Sflow.D14', 'LysMC8flxRIPK3C8flx.mono.D20'], ['CD11cC8flxRIPK3.IM.D14', 'LysMC8flxRIPK3C8flx.mono.D20'], ['LysMC8flx.mono.D20', 'LysMC8flxRIPK3C8flx.mono.D20'], ['CD11cC8flx.IM.D14', 'LysMC8flxRIPK3C8flx.mono.D20'], ['CD11cC8flxRIPK3.IM.D21', 'LysMC8flxRIPK3C8flx.mono.D20'], ['LysMC8flxRIPK3C8flx.Sflow.D20', 'LysMC8flxRIPK3C8flx.mono.D20'], ['CD11cC8flxRIPK3.Sflow.D14', 'LysMC8flxRIPK3C8flx.mono.D20'], ['LysMC8flx.Sflow.D20', 'LysMC8flxRIPK3C8flx.mono.D20'], ['LysMC8flx.Sfhi.D0', 'LysMC8flxRIPK3C8flx.mono.D20'], ['C8flx.IM.D14', 'LysMC8flxRIPK3C8flx.mono.D20'], ['C8flx.Sfhi.D0', 'LysMC8flxRIPK3C8flx.mono.D20'], ['CD11cC8flx.mono.D20', 'LysMC8flxRIPK3C8flx.mono.D20'], ['CD11cC8flx.Sfhi.D20', 'LysMC8flxRIPK3C8flx.mono.D20'], ['C8flx.IM.D19', 'LysMC8flxRIPK3C8flx.mono.D20']]\n",
      "[['LysMC8flx.Sfhi.D20', 'C8flx.Sflow.D19'], ['LysMC8flx.IM.D20', 'C8flx.Sflow.D19'], ['LysMC8flx.mono.D14', 'C8flx.Sflow.D19'], ['CD11cC8flxRIPK3.Sfhi.D14', 'C8flx.Sflow.D19'], ['CD11cC8flxRIPK3.mono.D21', 'C8flx.Sflow.D19'], ['LysMC8flxRIPK3.Sflow.D14', 'C8flx.Sflow.D19'], ['CD11cC8flx.Sflow.D20', 'C8flx.Sflow.D19'], ['LysMC8flxRIPK3.mono.D14', 'C8flx.Sflow.D19'], ['CD11cC8flx.Sfhi.D0', 'C8flx.Sflow.D19'], ['LysMC8flxRIPK3C8flx.IM.D20', 'C8flx.Sflow.D19'], ['CD11cC8flxRIPK3.Sfhi.D21', 'C8flx.Sflow.D19'], ['CD11cC8flx.IM.D20', 'C8flx.Sflow.D19'], ['CD11cC8flx.mono.D14', 'C8flx.Sflow.D19'], ['LysMC8flx.Sflow.D14', 'C8flx.Sflow.D19'], ['LysMC8flxRIPK3.IM.D14', 'C8flx.Sflow.D19'], ['CD11cC8flx.Sfhi.D14', 'C8flx.Sflow.D19'], ['C8flx.mono.D14', 'C8flx.Sflow.D19'], ['CD11cC8flxRIPK3.mono.D14', 'C8flx.Sflow.D19'], ['LysMC8flx.Sfhi.D14', 'C8flx.Sflow.D19'], ['C8flx.Sflow.D14', 'C8flx.Sflow.D19'], ['LysMC8flx.IM.D14', 'C8flx.Sflow.D19'], ['LysMC8flxRIPK3C8flx.mono.D20', 'C8flx.Sflow.D19'], ['C8flx.Sflow.D19', 'C8flx.Sflow.D19'], ['LysMC8flxRIPK3C8flx.Sfhi.D20', 'C8flx.Sflow.D19'], ['C8flx.mono.D19', 'C8flx.Sflow.D19'], ['C8flx.Sfhi.D14', 'C8flx.Sflow.D19'], ['LysMC8flxRIPK3.Sfhi.D14', 'C8flx.Sflow.D19'], ['CD11cC8flxRIPK3.Sflow.D21', 'C8flx.Sflow.D19'], ['C8flx.Sfhi.D19', 'C8flx.Sflow.D19'], ['CD11cC8flx.Sflow.D14', 'C8flx.Sflow.D19'], ['CD11cC8flxRIPK3.IM.D14', 'C8flx.Sflow.D19'], ['LysMC8flx.mono.D20', 'C8flx.Sflow.D19'], ['CD11cC8flx.IM.D14', 'C8flx.Sflow.D19'], ['CD11cC8flxRIPK3.IM.D21', 'C8flx.Sflow.D19'], ['LysMC8flxRIPK3C8flx.Sflow.D20', 'C8flx.Sflow.D19'], ['CD11cC8flxRIPK3.Sflow.D14', 'C8flx.Sflow.D19'], ['LysMC8flx.Sflow.D20', 'C8flx.Sflow.D19'], ['LysMC8flx.Sfhi.D0', 'C8flx.Sflow.D19'], ['C8flx.IM.D14', 'C8flx.Sflow.D19'], ['C8flx.Sfhi.D0', 'C8flx.Sflow.D19'], ['CD11cC8flx.mono.D20', 'C8flx.Sflow.D19'], ['CD11cC8flx.Sfhi.D20', 'C8flx.Sflow.D19'], ['C8flx.IM.D19', 'C8flx.Sflow.D19']]\n",
      "[['LysMC8flx.Sfhi.D20', 'LysMC8flxRIPK3C8flx.Sfhi.D20'], ['LysMC8flx.IM.D20', 'LysMC8flxRIPK3C8flx.Sfhi.D20'], ['LysMC8flx.mono.D14', 'LysMC8flxRIPK3C8flx.Sfhi.D20'], ['CD11cC8flxRIPK3.Sfhi.D14', 'LysMC8flxRIPK3C8flx.Sfhi.D20'], ['CD11cC8flxRIPK3.mono.D21', 'LysMC8flxRIPK3C8flx.Sfhi.D20'], ['LysMC8flxRIPK3.Sflow.D14', 'LysMC8flxRIPK3C8flx.Sfhi.D20'], ['CD11cC8flx.Sflow.D20', 'LysMC8flxRIPK3C8flx.Sfhi.D20'], ['LysMC8flxRIPK3.mono.D14', 'LysMC8flxRIPK3C8flx.Sfhi.D20'], ['CD11cC8flx.Sfhi.D0', 'LysMC8flxRIPK3C8flx.Sfhi.D20'], ['LysMC8flxRIPK3C8flx.IM.D20', 'LysMC8flxRIPK3C8flx.Sfhi.D20'], ['CD11cC8flxRIPK3.Sfhi.D21', 'LysMC8flxRIPK3C8flx.Sfhi.D20'], ['CD11cC8flx.IM.D20', 'LysMC8flxRIPK3C8flx.Sfhi.D20'], ['CD11cC8flx.mono.D14', 'LysMC8flxRIPK3C8flx.Sfhi.D20'], ['LysMC8flx.Sflow.D14', 'LysMC8flxRIPK3C8flx.Sfhi.D20'], ['LysMC8flxRIPK3.IM.D14', 'LysMC8flxRIPK3C8flx.Sfhi.D20'], ['CD11cC8flx.Sfhi.D14', 'LysMC8flxRIPK3C8flx.Sfhi.D20'], ['C8flx.mono.D14', 'LysMC8flxRIPK3C8flx.Sfhi.D20'], ['CD11cC8flxRIPK3.mono.D14', 'LysMC8flxRIPK3C8flx.Sfhi.D20'], ['LysMC8flx.Sfhi.D14', 'LysMC8flxRIPK3C8flx.Sfhi.D20'], ['C8flx.Sflow.D14', 'LysMC8flxRIPK3C8flx.Sfhi.D20'], ['LysMC8flx.IM.D14', 'LysMC8flxRIPK3C8flx.Sfhi.D20'], ['LysMC8flxRIPK3C8flx.mono.D20', 'LysMC8flxRIPK3C8flx.Sfhi.D20'], ['C8flx.Sflow.D19', 'LysMC8flxRIPK3C8flx.Sfhi.D20'], ['LysMC8flxRIPK3C8flx.Sfhi.D20', 'LysMC8flxRIPK3C8flx.Sfhi.D20'], ['C8flx.mono.D19', 'LysMC8flxRIPK3C8flx.Sfhi.D20'], ['C8flx.Sfhi.D14', 'LysMC8flxRIPK3C8flx.Sfhi.D20'], ['LysMC8flxRIPK3.Sfhi.D14', 'LysMC8flxRIPK3C8flx.Sfhi.D20'], ['CD11cC8flxRIPK3.Sflow.D21', 'LysMC8flxRIPK3C8flx.Sfhi.D20'], ['C8flx.Sfhi.D19', 'LysMC8flxRIPK3C8flx.Sfhi.D20'], ['CD11cC8flx.Sflow.D14', 'LysMC8flxRIPK3C8flx.Sfhi.D20'], ['CD11cC8flxRIPK3.IM.D14', 'LysMC8flxRIPK3C8flx.Sfhi.D20'], ['LysMC8flx.mono.D20', 'LysMC8flxRIPK3C8flx.Sfhi.D20'], ['CD11cC8flx.IM.D14', 'LysMC8flxRIPK3C8flx.Sfhi.D20'], ['CD11cC8flxRIPK3.IM.D21', 'LysMC8flxRIPK3C8flx.Sfhi.D20'], ['LysMC8flxRIPK3C8flx.Sflow.D20', 'LysMC8flxRIPK3C8flx.Sfhi.D20'], ['CD11cC8flxRIPK3.Sflow.D14', 'LysMC8flxRIPK3C8flx.Sfhi.D20'], ['LysMC8flx.Sflow.D20', 'LysMC8flxRIPK3C8flx.Sfhi.D20'], ['LysMC8flx.Sfhi.D0', 'LysMC8flxRIPK3C8flx.Sfhi.D20'], ['C8flx.IM.D14', 'LysMC8flxRIPK3C8flx.Sfhi.D20'], ['C8flx.Sfhi.D0', 'LysMC8flxRIPK3C8flx.Sfhi.D20'], ['CD11cC8flx.mono.D20', 'LysMC8flxRIPK3C8flx.Sfhi.D20'], ['CD11cC8flx.Sfhi.D20', 'LysMC8flxRIPK3C8flx.Sfhi.D20'], ['C8flx.IM.D19', 'LysMC8flxRIPK3C8flx.Sfhi.D20']]\n",
      "[['LysMC8flx.Sfhi.D20', 'C8flx.mono.D19'], ['LysMC8flx.IM.D20', 'C8flx.mono.D19'], ['LysMC8flx.mono.D14', 'C8flx.mono.D19'], ['CD11cC8flxRIPK3.Sfhi.D14', 'C8flx.mono.D19'], ['CD11cC8flxRIPK3.mono.D21', 'C8flx.mono.D19'], ['LysMC8flxRIPK3.Sflow.D14', 'C8flx.mono.D19'], ['CD11cC8flx.Sflow.D20', 'C8flx.mono.D19'], ['LysMC8flxRIPK3.mono.D14', 'C8flx.mono.D19'], ['CD11cC8flx.Sfhi.D0', 'C8flx.mono.D19'], ['LysMC8flxRIPK3C8flx.IM.D20', 'C8flx.mono.D19'], ['CD11cC8flxRIPK3.Sfhi.D21', 'C8flx.mono.D19'], ['CD11cC8flx.IM.D20', 'C8flx.mono.D19'], ['CD11cC8flx.mono.D14', 'C8flx.mono.D19'], ['LysMC8flx.Sflow.D14', 'C8flx.mono.D19'], ['LysMC8flxRIPK3.IM.D14', 'C8flx.mono.D19'], ['CD11cC8flx.Sfhi.D14', 'C8flx.mono.D19'], ['C8flx.mono.D14', 'C8flx.mono.D19'], ['CD11cC8flxRIPK3.mono.D14', 'C8flx.mono.D19'], ['LysMC8flx.Sfhi.D14', 'C8flx.mono.D19'], ['C8flx.Sflow.D14', 'C8flx.mono.D19'], ['LysMC8flx.IM.D14', 'C8flx.mono.D19'], ['LysMC8flxRIPK3C8flx.mono.D20', 'C8flx.mono.D19'], ['C8flx.Sflow.D19', 'C8flx.mono.D19'], ['LysMC8flxRIPK3C8flx.Sfhi.D20', 'C8flx.mono.D19'], ['C8flx.mono.D19', 'C8flx.mono.D19'], ['C8flx.Sfhi.D14', 'C8flx.mono.D19'], ['LysMC8flxRIPK3.Sfhi.D14', 'C8flx.mono.D19'], ['CD11cC8flxRIPK3.Sflow.D21', 'C8flx.mono.D19'], ['C8flx.Sfhi.D19', 'C8flx.mono.D19'], ['CD11cC8flx.Sflow.D14', 'C8flx.mono.D19'], ['CD11cC8flxRIPK3.IM.D14', 'C8flx.mono.D19'], ['LysMC8flx.mono.D20', 'C8flx.mono.D19'], ['CD11cC8flx.IM.D14', 'C8flx.mono.D19'], ['CD11cC8flxRIPK3.IM.D21', 'C8flx.mono.D19'], ['LysMC8flxRIPK3C8flx.Sflow.D20', 'C8flx.mono.D19'], ['CD11cC8flxRIPK3.Sflow.D14', 'C8flx.mono.D19'], ['LysMC8flx.Sflow.D20', 'C8flx.mono.D19'], ['LysMC8flx.Sfhi.D0', 'C8flx.mono.D19'], ['C8flx.IM.D14', 'C8flx.mono.D19'], ['C8flx.Sfhi.D0', 'C8flx.mono.D19'], ['CD11cC8flx.mono.D20', 'C8flx.mono.D19'], ['CD11cC8flx.Sfhi.D20', 'C8flx.mono.D19'], ['C8flx.IM.D19', 'C8flx.mono.D19']]\n",
      "[['LysMC8flx.Sfhi.D20', 'C8flx.Sfhi.D14'], ['LysMC8flx.IM.D20', 'C8flx.Sfhi.D14'], ['LysMC8flx.mono.D14', 'C8flx.Sfhi.D14'], ['CD11cC8flxRIPK3.Sfhi.D14', 'C8flx.Sfhi.D14'], ['CD11cC8flxRIPK3.mono.D21', 'C8flx.Sfhi.D14'], ['LysMC8flxRIPK3.Sflow.D14', 'C8flx.Sfhi.D14'], ['CD11cC8flx.Sflow.D20', 'C8flx.Sfhi.D14'], ['LysMC8flxRIPK3.mono.D14', 'C8flx.Sfhi.D14'], ['CD11cC8flx.Sfhi.D0', 'C8flx.Sfhi.D14'], ['LysMC8flxRIPK3C8flx.IM.D20', 'C8flx.Sfhi.D14'], ['CD11cC8flxRIPK3.Sfhi.D21', 'C8flx.Sfhi.D14'], ['CD11cC8flx.IM.D20', 'C8flx.Sfhi.D14'], ['CD11cC8flx.mono.D14', 'C8flx.Sfhi.D14'], ['LysMC8flx.Sflow.D14', 'C8flx.Sfhi.D14'], ['LysMC8flxRIPK3.IM.D14', 'C8flx.Sfhi.D14'], ['CD11cC8flx.Sfhi.D14', 'C8flx.Sfhi.D14'], ['C8flx.mono.D14', 'C8flx.Sfhi.D14'], ['CD11cC8flxRIPK3.mono.D14', 'C8flx.Sfhi.D14'], ['LysMC8flx.Sfhi.D14', 'C8flx.Sfhi.D14'], ['C8flx.Sflow.D14', 'C8flx.Sfhi.D14'], ['LysMC8flx.IM.D14', 'C8flx.Sfhi.D14'], ['LysMC8flxRIPK3C8flx.mono.D20', 'C8flx.Sfhi.D14'], ['C8flx.Sflow.D19', 'C8flx.Sfhi.D14'], ['LysMC8flxRIPK3C8flx.Sfhi.D20', 'C8flx.Sfhi.D14'], ['C8flx.mono.D19', 'C8flx.Sfhi.D14'], ['C8flx.Sfhi.D14', 'C8flx.Sfhi.D14'], ['LysMC8flxRIPK3.Sfhi.D14', 'C8flx.Sfhi.D14'], ['CD11cC8flxRIPK3.Sflow.D21', 'C8flx.Sfhi.D14'], ['C8flx.Sfhi.D19', 'C8flx.Sfhi.D14'], ['CD11cC8flx.Sflow.D14', 'C8flx.Sfhi.D14'], ['CD11cC8flxRIPK3.IM.D14', 'C8flx.Sfhi.D14'], ['LysMC8flx.mono.D20', 'C8flx.Sfhi.D14'], ['CD11cC8flx.IM.D14', 'C8flx.Sfhi.D14'], ['CD11cC8flxRIPK3.IM.D21', 'C8flx.Sfhi.D14'], ['LysMC8flxRIPK3C8flx.Sflow.D20', 'C8flx.Sfhi.D14'], ['CD11cC8flxRIPK3.Sflow.D14', 'C8flx.Sfhi.D14'], ['LysMC8flx.Sflow.D20', 'C8flx.Sfhi.D14'], ['LysMC8flx.Sfhi.D0', 'C8flx.Sfhi.D14'], ['C8flx.IM.D14', 'C8flx.Sfhi.D14'], ['C8flx.Sfhi.D0', 'C8flx.Sfhi.D14'], ['CD11cC8flx.mono.D20', 'C8flx.Sfhi.D14'], ['CD11cC8flx.Sfhi.D20', 'C8flx.Sfhi.D14'], ['C8flx.IM.D19', 'C8flx.Sfhi.D14']]\n",
      "[['LysMC8flx.Sfhi.D20', 'LysMC8flxRIPK3.Sfhi.D14'], ['LysMC8flx.IM.D20', 'LysMC8flxRIPK3.Sfhi.D14'], ['LysMC8flx.mono.D14', 'LysMC8flxRIPK3.Sfhi.D14'], ['CD11cC8flxRIPK3.Sfhi.D14', 'LysMC8flxRIPK3.Sfhi.D14'], ['CD11cC8flxRIPK3.mono.D21', 'LysMC8flxRIPK3.Sfhi.D14'], ['LysMC8flxRIPK3.Sflow.D14', 'LysMC8flxRIPK3.Sfhi.D14'], ['CD11cC8flx.Sflow.D20', 'LysMC8flxRIPK3.Sfhi.D14'], ['LysMC8flxRIPK3.mono.D14', 'LysMC8flxRIPK3.Sfhi.D14'], ['CD11cC8flx.Sfhi.D0', 'LysMC8flxRIPK3.Sfhi.D14'], ['LysMC8flxRIPK3C8flx.IM.D20', 'LysMC8flxRIPK3.Sfhi.D14'], ['CD11cC8flxRIPK3.Sfhi.D21', 'LysMC8flxRIPK3.Sfhi.D14'], ['CD11cC8flx.IM.D20', 'LysMC8flxRIPK3.Sfhi.D14'], ['CD11cC8flx.mono.D14', 'LysMC8flxRIPK3.Sfhi.D14'], ['LysMC8flx.Sflow.D14', 'LysMC8flxRIPK3.Sfhi.D14'], ['LysMC8flxRIPK3.IM.D14', 'LysMC8flxRIPK3.Sfhi.D14'], ['CD11cC8flx.Sfhi.D14', 'LysMC8flxRIPK3.Sfhi.D14'], ['C8flx.mono.D14', 'LysMC8flxRIPK3.Sfhi.D14'], ['CD11cC8flxRIPK3.mono.D14', 'LysMC8flxRIPK3.Sfhi.D14'], ['LysMC8flx.Sfhi.D14', 'LysMC8flxRIPK3.Sfhi.D14'], ['C8flx.Sflow.D14', 'LysMC8flxRIPK3.Sfhi.D14'], ['LysMC8flx.IM.D14', 'LysMC8flxRIPK3.Sfhi.D14'], ['LysMC8flxRIPK3C8flx.mono.D20', 'LysMC8flxRIPK3.Sfhi.D14'], ['C8flx.Sflow.D19', 'LysMC8flxRIPK3.Sfhi.D14'], ['LysMC8flxRIPK3C8flx.Sfhi.D20', 'LysMC8flxRIPK3.Sfhi.D14'], ['C8flx.mono.D19', 'LysMC8flxRIPK3.Sfhi.D14'], ['C8flx.Sfhi.D14', 'LysMC8flxRIPK3.Sfhi.D14'], ['LysMC8flxRIPK3.Sfhi.D14', 'LysMC8flxRIPK3.Sfhi.D14'], ['CD11cC8flxRIPK3.Sflow.D21', 'LysMC8flxRIPK3.Sfhi.D14'], ['C8flx.Sfhi.D19', 'LysMC8flxRIPK3.Sfhi.D14'], ['CD11cC8flx.Sflow.D14', 'LysMC8flxRIPK3.Sfhi.D14'], ['CD11cC8flxRIPK3.IM.D14', 'LysMC8flxRIPK3.Sfhi.D14'], ['LysMC8flx.mono.D20', 'LysMC8flxRIPK3.Sfhi.D14'], ['CD11cC8flx.IM.D14', 'LysMC8flxRIPK3.Sfhi.D14'], ['CD11cC8flxRIPK3.IM.D21', 'LysMC8flxRIPK3.Sfhi.D14'], ['LysMC8flxRIPK3C8flx.Sflow.D20', 'LysMC8flxRIPK3.Sfhi.D14'], ['CD11cC8flxRIPK3.Sflow.D14', 'LysMC8flxRIPK3.Sfhi.D14'], ['LysMC8flx.Sflow.D20', 'LysMC8flxRIPK3.Sfhi.D14'], ['LysMC8flx.Sfhi.D0', 'LysMC8flxRIPK3.Sfhi.D14'], ['C8flx.IM.D14', 'LysMC8flxRIPK3.Sfhi.D14'], ['C8flx.Sfhi.D0', 'LysMC8flxRIPK3.Sfhi.D14'], ['CD11cC8flx.mono.D20', 'LysMC8flxRIPK3.Sfhi.D14'], ['CD11cC8flx.Sfhi.D20', 'LysMC8flxRIPK3.Sfhi.D14'], ['C8flx.IM.D19', 'LysMC8flxRIPK3.Sfhi.D14']]\n",
      "[['LysMC8flx.Sfhi.D20', 'CD11cC8flxRIPK3.Sflow.D21'], ['LysMC8flx.IM.D20', 'CD11cC8flxRIPK3.Sflow.D21'], ['LysMC8flx.mono.D14', 'CD11cC8flxRIPK3.Sflow.D21'], ['CD11cC8flxRIPK3.Sfhi.D14', 'CD11cC8flxRIPK3.Sflow.D21'], ['CD11cC8flxRIPK3.mono.D21', 'CD11cC8flxRIPK3.Sflow.D21'], ['LysMC8flxRIPK3.Sflow.D14', 'CD11cC8flxRIPK3.Sflow.D21'], ['CD11cC8flx.Sflow.D20', 'CD11cC8flxRIPK3.Sflow.D21'], ['LysMC8flxRIPK3.mono.D14', 'CD11cC8flxRIPK3.Sflow.D21'], ['CD11cC8flx.Sfhi.D0', 'CD11cC8flxRIPK3.Sflow.D21'], ['LysMC8flxRIPK3C8flx.IM.D20', 'CD11cC8flxRIPK3.Sflow.D21'], ['CD11cC8flxRIPK3.Sfhi.D21', 'CD11cC8flxRIPK3.Sflow.D21'], ['CD11cC8flx.IM.D20', 'CD11cC8flxRIPK3.Sflow.D21'], ['CD11cC8flx.mono.D14', 'CD11cC8flxRIPK3.Sflow.D21'], ['LysMC8flx.Sflow.D14', 'CD11cC8flxRIPK3.Sflow.D21'], ['LysMC8flxRIPK3.IM.D14', 'CD11cC8flxRIPK3.Sflow.D21'], ['CD11cC8flx.Sfhi.D14', 'CD11cC8flxRIPK3.Sflow.D21'], ['C8flx.mono.D14', 'CD11cC8flxRIPK3.Sflow.D21'], ['CD11cC8flxRIPK3.mono.D14', 'CD11cC8flxRIPK3.Sflow.D21'], ['LysMC8flx.Sfhi.D14', 'CD11cC8flxRIPK3.Sflow.D21'], ['C8flx.Sflow.D14', 'CD11cC8flxRIPK3.Sflow.D21'], ['LysMC8flx.IM.D14', 'CD11cC8flxRIPK3.Sflow.D21'], ['LysMC8flxRIPK3C8flx.mono.D20', 'CD11cC8flxRIPK3.Sflow.D21'], ['C8flx.Sflow.D19', 'CD11cC8flxRIPK3.Sflow.D21'], ['LysMC8flxRIPK3C8flx.Sfhi.D20', 'CD11cC8flxRIPK3.Sflow.D21'], ['C8flx.mono.D19', 'CD11cC8flxRIPK3.Sflow.D21'], ['C8flx.Sfhi.D14', 'CD11cC8flxRIPK3.Sflow.D21'], ['LysMC8flxRIPK3.Sfhi.D14', 'CD11cC8flxRIPK3.Sflow.D21'], ['CD11cC8flxRIPK3.Sflow.D21', 'CD11cC8flxRIPK3.Sflow.D21'], ['C8flx.Sfhi.D19', 'CD11cC8flxRIPK3.Sflow.D21'], ['CD11cC8flx.Sflow.D14', 'CD11cC8flxRIPK3.Sflow.D21'], ['CD11cC8flxRIPK3.IM.D14', 'CD11cC8flxRIPK3.Sflow.D21'], ['LysMC8flx.mono.D20', 'CD11cC8flxRIPK3.Sflow.D21'], ['CD11cC8flx.IM.D14', 'CD11cC8flxRIPK3.Sflow.D21'], ['CD11cC8flxRIPK3.IM.D21', 'CD11cC8flxRIPK3.Sflow.D21'], ['LysMC8flxRIPK3C8flx.Sflow.D20', 'CD11cC8flxRIPK3.Sflow.D21'], ['CD11cC8flxRIPK3.Sflow.D14', 'CD11cC8flxRIPK3.Sflow.D21'], ['LysMC8flx.Sflow.D20', 'CD11cC8flxRIPK3.Sflow.D21'], ['LysMC8flx.Sfhi.D0', 'CD11cC8flxRIPK3.Sflow.D21'], ['C8flx.IM.D14', 'CD11cC8flxRIPK3.Sflow.D21'], ['C8flx.Sfhi.D0', 'CD11cC8flxRIPK3.Sflow.D21'], ['CD11cC8flx.mono.D20', 'CD11cC8flxRIPK3.Sflow.D21'], ['CD11cC8flx.Sfhi.D20', 'CD11cC8flxRIPK3.Sflow.D21'], ['C8flx.IM.D19', 'CD11cC8flxRIPK3.Sflow.D21']]\n",
      "[['LysMC8flx.Sfhi.D20', 'C8flx.Sfhi.D19'], ['LysMC8flx.IM.D20', 'C8flx.Sfhi.D19'], ['LysMC8flx.mono.D14', 'C8flx.Sfhi.D19'], ['CD11cC8flxRIPK3.Sfhi.D14', 'C8flx.Sfhi.D19'], ['CD11cC8flxRIPK3.mono.D21', 'C8flx.Sfhi.D19'], ['LysMC8flxRIPK3.Sflow.D14', 'C8flx.Sfhi.D19'], ['CD11cC8flx.Sflow.D20', 'C8flx.Sfhi.D19'], ['LysMC8flxRIPK3.mono.D14', 'C8flx.Sfhi.D19'], ['CD11cC8flx.Sfhi.D0', 'C8flx.Sfhi.D19'], ['LysMC8flxRIPK3C8flx.IM.D20', 'C8flx.Sfhi.D19'], ['CD11cC8flxRIPK3.Sfhi.D21', 'C8flx.Sfhi.D19'], ['CD11cC8flx.IM.D20', 'C8flx.Sfhi.D19'], ['CD11cC8flx.mono.D14', 'C8flx.Sfhi.D19'], ['LysMC8flx.Sflow.D14', 'C8flx.Sfhi.D19'], ['LysMC8flxRIPK3.IM.D14', 'C8flx.Sfhi.D19'], ['CD11cC8flx.Sfhi.D14', 'C8flx.Sfhi.D19'], ['C8flx.mono.D14', 'C8flx.Sfhi.D19'], ['CD11cC8flxRIPK3.mono.D14', 'C8flx.Sfhi.D19'], ['LysMC8flx.Sfhi.D14', 'C8flx.Sfhi.D19'], ['C8flx.Sflow.D14', 'C8flx.Sfhi.D19'], ['LysMC8flx.IM.D14', 'C8flx.Sfhi.D19'], ['LysMC8flxRIPK3C8flx.mono.D20', 'C8flx.Sfhi.D19'], ['C8flx.Sflow.D19', 'C8flx.Sfhi.D19'], ['LysMC8flxRIPK3C8flx.Sfhi.D20', 'C8flx.Sfhi.D19'], ['C8flx.mono.D19', 'C8flx.Sfhi.D19'], ['C8flx.Sfhi.D14', 'C8flx.Sfhi.D19'], ['LysMC8flxRIPK3.Sfhi.D14', 'C8flx.Sfhi.D19'], ['CD11cC8flxRIPK3.Sflow.D21', 'C8flx.Sfhi.D19'], ['C8flx.Sfhi.D19', 'C8flx.Sfhi.D19'], ['CD11cC8flx.Sflow.D14', 'C8flx.Sfhi.D19'], ['CD11cC8flxRIPK3.IM.D14', 'C8flx.Sfhi.D19'], ['LysMC8flx.mono.D20', 'C8flx.Sfhi.D19'], ['CD11cC8flx.IM.D14', 'C8flx.Sfhi.D19'], ['CD11cC8flxRIPK3.IM.D21', 'C8flx.Sfhi.D19'], ['LysMC8flxRIPK3C8flx.Sflow.D20', 'C8flx.Sfhi.D19'], ['CD11cC8flxRIPK3.Sflow.D14', 'C8flx.Sfhi.D19'], ['LysMC8flx.Sflow.D20', 'C8flx.Sfhi.D19'], ['LysMC8flx.Sfhi.D0', 'C8flx.Sfhi.D19'], ['C8flx.IM.D14', 'C8flx.Sfhi.D19'], ['C8flx.Sfhi.D0', 'C8flx.Sfhi.D19'], ['CD11cC8flx.mono.D20', 'C8flx.Sfhi.D19'], ['CD11cC8flx.Sfhi.D20', 'C8flx.Sfhi.D19'], ['C8flx.IM.D19', 'C8flx.Sfhi.D19']]\n",
      "[['LysMC8flx.Sfhi.D20', 'CD11cC8flx.Sflow.D14'], ['LysMC8flx.IM.D20', 'CD11cC8flx.Sflow.D14'], ['LysMC8flx.mono.D14', 'CD11cC8flx.Sflow.D14'], ['CD11cC8flxRIPK3.Sfhi.D14', 'CD11cC8flx.Sflow.D14'], ['CD11cC8flxRIPK3.mono.D21', 'CD11cC8flx.Sflow.D14'], ['LysMC8flxRIPK3.Sflow.D14', 'CD11cC8flx.Sflow.D14'], ['CD11cC8flx.Sflow.D20', 'CD11cC8flx.Sflow.D14'], ['LysMC8flxRIPK3.mono.D14', 'CD11cC8flx.Sflow.D14'], ['CD11cC8flx.Sfhi.D0', 'CD11cC8flx.Sflow.D14'], ['LysMC8flxRIPK3C8flx.IM.D20', 'CD11cC8flx.Sflow.D14'], ['CD11cC8flxRIPK3.Sfhi.D21', 'CD11cC8flx.Sflow.D14'], ['CD11cC8flx.IM.D20', 'CD11cC8flx.Sflow.D14'], ['CD11cC8flx.mono.D14', 'CD11cC8flx.Sflow.D14'], ['LysMC8flx.Sflow.D14', 'CD11cC8flx.Sflow.D14'], ['LysMC8flxRIPK3.IM.D14', 'CD11cC8flx.Sflow.D14'], ['CD11cC8flx.Sfhi.D14', 'CD11cC8flx.Sflow.D14'], ['C8flx.mono.D14', 'CD11cC8flx.Sflow.D14'], ['CD11cC8flxRIPK3.mono.D14', 'CD11cC8flx.Sflow.D14'], ['LysMC8flx.Sfhi.D14', 'CD11cC8flx.Sflow.D14'], ['C8flx.Sflow.D14', 'CD11cC8flx.Sflow.D14'], ['LysMC8flx.IM.D14', 'CD11cC8flx.Sflow.D14'], ['LysMC8flxRIPK3C8flx.mono.D20', 'CD11cC8flx.Sflow.D14'], ['C8flx.Sflow.D19', 'CD11cC8flx.Sflow.D14'], ['LysMC8flxRIPK3C8flx.Sfhi.D20', 'CD11cC8flx.Sflow.D14'], ['C8flx.mono.D19', 'CD11cC8flx.Sflow.D14'], ['C8flx.Sfhi.D14', 'CD11cC8flx.Sflow.D14'], ['LysMC8flxRIPK3.Sfhi.D14', 'CD11cC8flx.Sflow.D14'], ['CD11cC8flxRIPK3.Sflow.D21', 'CD11cC8flx.Sflow.D14'], ['C8flx.Sfhi.D19', 'CD11cC8flx.Sflow.D14'], ['CD11cC8flx.Sflow.D14', 'CD11cC8flx.Sflow.D14'], ['CD11cC8flxRIPK3.IM.D14', 'CD11cC8flx.Sflow.D14'], ['LysMC8flx.mono.D20', 'CD11cC8flx.Sflow.D14'], ['CD11cC8flx.IM.D14', 'CD11cC8flx.Sflow.D14'], ['CD11cC8flxRIPK3.IM.D21', 'CD11cC8flx.Sflow.D14'], ['LysMC8flxRIPK3C8flx.Sflow.D20', 'CD11cC8flx.Sflow.D14'], ['CD11cC8flxRIPK3.Sflow.D14', 'CD11cC8flx.Sflow.D14'], ['LysMC8flx.Sflow.D20', 'CD11cC8flx.Sflow.D14'], ['LysMC8flx.Sfhi.D0', 'CD11cC8flx.Sflow.D14'], ['C8flx.IM.D14', 'CD11cC8flx.Sflow.D14'], ['C8flx.Sfhi.D0', 'CD11cC8flx.Sflow.D14'], ['CD11cC8flx.mono.D20', 'CD11cC8flx.Sflow.D14'], ['CD11cC8flx.Sfhi.D20', 'CD11cC8flx.Sflow.D14'], ['C8flx.IM.D19', 'CD11cC8flx.Sflow.D14']]\n",
      "[['LysMC8flx.Sfhi.D20', 'CD11cC8flxRIPK3.IM.D14'], ['LysMC8flx.IM.D20', 'CD11cC8flxRIPK3.IM.D14'], ['LysMC8flx.mono.D14', 'CD11cC8flxRIPK3.IM.D14'], ['CD11cC8flxRIPK3.Sfhi.D14', 'CD11cC8flxRIPK3.IM.D14'], ['CD11cC8flxRIPK3.mono.D21', 'CD11cC8flxRIPK3.IM.D14'], ['LysMC8flxRIPK3.Sflow.D14', 'CD11cC8flxRIPK3.IM.D14'], ['CD11cC8flx.Sflow.D20', 'CD11cC8flxRIPK3.IM.D14'], ['LysMC8flxRIPK3.mono.D14', 'CD11cC8flxRIPK3.IM.D14'], ['CD11cC8flx.Sfhi.D0', 'CD11cC8flxRIPK3.IM.D14'], ['LysMC8flxRIPK3C8flx.IM.D20', 'CD11cC8flxRIPK3.IM.D14'], ['CD11cC8flxRIPK3.Sfhi.D21', 'CD11cC8flxRIPK3.IM.D14'], ['CD11cC8flx.IM.D20', 'CD11cC8flxRIPK3.IM.D14'], ['CD11cC8flx.mono.D14', 'CD11cC8flxRIPK3.IM.D14'], ['LysMC8flx.Sflow.D14', 'CD11cC8flxRIPK3.IM.D14'], ['LysMC8flxRIPK3.IM.D14', 'CD11cC8flxRIPK3.IM.D14'], ['CD11cC8flx.Sfhi.D14', 'CD11cC8flxRIPK3.IM.D14'], ['C8flx.mono.D14', 'CD11cC8flxRIPK3.IM.D14'], ['CD11cC8flxRIPK3.mono.D14', 'CD11cC8flxRIPK3.IM.D14'], ['LysMC8flx.Sfhi.D14', 'CD11cC8flxRIPK3.IM.D14'], ['C8flx.Sflow.D14', 'CD11cC8flxRIPK3.IM.D14'], ['LysMC8flx.IM.D14', 'CD11cC8flxRIPK3.IM.D14'], ['LysMC8flxRIPK3C8flx.mono.D20', 'CD11cC8flxRIPK3.IM.D14'], ['C8flx.Sflow.D19', 'CD11cC8flxRIPK3.IM.D14'], ['LysMC8flxRIPK3C8flx.Sfhi.D20', 'CD11cC8flxRIPK3.IM.D14'], ['C8flx.mono.D19', 'CD11cC8flxRIPK3.IM.D14'], ['C8flx.Sfhi.D14', 'CD11cC8flxRIPK3.IM.D14'], ['LysMC8flxRIPK3.Sfhi.D14', 'CD11cC8flxRIPK3.IM.D14'], ['CD11cC8flxRIPK3.Sflow.D21', 'CD11cC8flxRIPK3.IM.D14'], ['C8flx.Sfhi.D19', 'CD11cC8flxRIPK3.IM.D14'], ['CD11cC8flx.Sflow.D14', 'CD11cC8flxRIPK3.IM.D14'], ['CD11cC8flxRIPK3.IM.D14', 'CD11cC8flxRIPK3.IM.D14'], ['LysMC8flx.mono.D20', 'CD11cC8flxRIPK3.IM.D14'], ['CD11cC8flx.IM.D14', 'CD11cC8flxRIPK3.IM.D14'], ['CD11cC8flxRIPK3.IM.D21', 'CD11cC8flxRIPK3.IM.D14'], ['LysMC8flxRIPK3C8flx.Sflow.D20', 'CD11cC8flxRIPK3.IM.D14'], ['CD11cC8flxRIPK3.Sflow.D14', 'CD11cC8flxRIPK3.IM.D14'], ['LysMC8flx.Sflow.D20', 'CD11cC8flxRIPK3.IM.D14'], ['LysMC8flx.Sfhi.D0', 'CD11cC8flxRIPK3.IM.D14'], ['C8flx.IM.D14', 'CD11cC8flxRIPK3.IM.D14'], ['C8flx.Sfhi.D0', 'CD11cC8flxRIPK3.IM.D14'], ['CD11cC8flx.mono.D20', 'CD11cC8flxRIPK3.IM.D14'], ['CD11cC8flx.Sfhi.D20', 'CD11cC8flxRIPK3.IM.D14'], ['C8flx.IM.D19', 'CD11cC8flxRIPK3.IM.D14']]\n",
      "[['LysMC8flx.Sfhi.D20', 'LysMC8flx.mono.D20'], ['LysMC8flx.IM.D20', 'LysMC8flx.mono.D20'], ['LysMC8flx.mono.D14', 'LysMC8flx.mono.D20'], ['CD11cC8flxRIPK3.Sfhi.D14', 'LysMC8flx.mono.D20'], ['CD11cC8flxRIPK3.mono.D21', 'LysMC8flx.mono.D20'], ['LysMC8flxRIPK3.Sflow.D14', 'LysMC8flx.mono.D20'], ['CD11cC8flx.Sflow.D20', 'LysMC8flx.mono.D20'], ['LysMC8flxRIPK3.mono.D14', 'LysMC8flx.mono.D20'], ['CD11cC8flx.Sfhi.D0', 'LysMC8flx.mono.D20'], ['LysMC8flxRIPK3C8flx.IM.D20', 'LysMC8flx.mono.D20'], ['CD11cC8flxRIPK3.Sfhi.D21', 'LysMC8flx.mono.D20'], ['CD11cC8flx.IM.D20', 'LysMC8flx.mono.D20'], ['CD11cC8flx.mono.D14', 'LysMC8flx.mono.D20'], ['LysMC8flx.Sflow.D14', 'LysMC8flx.mono.D20'], ['LysMC8flxRIPK3.IM.D14', 'LysMC8flx.mono.D20'], ['CD11cC8flx.Sfhi.D14', 'LysMC8flx.mono.D20'], ['C8flx.mono.D14', 'LysMC8flx.mono.D20'], ['CD11cC8flxRIPK3.mono.D14', 'LysMC8flx.mono.D20'], ['LysMC8flx.Sfhi.D14', 'LysMC8flx.mono.D20'], ['C8flx.Sflow.D14', 'LysMC8flx.mono.D20'], ['LysMC8flx.IM.D14', 'LysMC8flx.mono.D20'], ['LysMC8flxRIPK3C8flx.mono.D20', 'LysMC8flx.mono.D20'], ['C8flx.Sflow.D19', 'LysMC8flx.mono.D20'], ['LysMC8flxRIPK3C8flx.Sfhi.D20', 'LysMC8flx.mono.D20'], ['C8flx.mono.D19', 'LysMC8flx.mono.D20'], ['C8flx.Sfhi.D14', 'LysMC8flx.mono.D20'], ['LysMC8flxRIPK3.Sfhi.D14', 'LysMC8flx.mono.D20'], ['CD11cC8flxRIPK3.Sflow.D21', 'LysMC8flx.mono.D20'], ['C8flx.Sfhi.D19', 'LysMC8flx.mono.D20'], ['CD11cC8flx.Sflow.D14', 'LysMC8flx.mono.D20'], ['CD11cC8flxRIPK3.IM.D14', 'LysMC8flx.mono.D20'], ['LysMC8flx.mono.D20', 'LysMC8flx.mono.D20'], ['CD11cC8flx.IM.D14', 'LysMC8flx.mono.D20'], ['CD11cC8flxRIPK3.IM.D21', 'LysMC8flx.mono.D20'], ['LysMC8flxRIPK3C8flx.Sflow.D20', 'LysMC8flx.mono.D20'], ['CD11cC8flxRIPK3.Sflow.D14', 'LysMC8flx.mono.D20'], ['LysMC8flx.Sflow.D20', 'LysMC8flx.mono.D20'], ['LysMC8flx.Sfhi.D0', 'LysMC8flx.mono.D20'], ['C8flx.IM.D14', 'LysMC8flx.mono.D20'], ['C8flx.Sfhi.D0', 'LysMC8flx.mono.D20'], ['CD11cC8flx.mono.D20', 'LysMC8flx.mono.D20'], ['CD11cC8flx.Sfhi.D20', 'LysMC8flx.mono.D20'], ['C8flx.IM.D19', 'LysMC8flx.mono.D20']]\n",
      "[['LysMC8flx.Sfhi.D20', 'CD11cC8flx.IM.D14'], ['LysMC8flx.IM.D20', 'CD11cC8flx.IM.D14'], ['LysMC8flx.mono.D14', 'CD11cC8flx.IM.D14'], ['CD11cC8flxRIPK3.Sfhi.D14', 'CD11cC8flx.IM.D14'], ['CD11cC8flxRIPK3.mono.D21', 'CD11cC8flx.IM.D14'], ['LysMC8flxRIPK3.Sflow.D14', 'CD11cC8flx.IM.D14'], ['CD11cC8flx.Sflow.D20', 'CD11cC8flx.IM.D14'], ['LysMC8flxRIPK3.mono.D14', 'CD11cC8flx.IM.D14'], ['CD11cC8flx.Sfhi.D0', 'CD11cC8flx.IM.D14'], ['LysMC8flxRIPK3C8flx.IM.D20', 'CD11cC8flx.IM.D14'], ['CD11cC8flxRIPK3.Sfhi.D21', 'CD11cC8flx.IM.D14'], ['CD11cC8flx.IM.D20', 'CD11cC8flx.IM.D14'], ['CD11cC8flx.mono.D14', 'CD11cC8flx.IM.D14'], ['LysMC8flx.Sflow.D14', 'CD11cC8flx.IM.D14'], ['LysMC8flxRIPK3.IM.D14', 'CD11cC8flx.IM.D14'], ['CD11cC8flx.Sfhi.D14', 'CD11cC8flx.IM.D14'], ['C8flx.mono.D14', 'CD11cC8flx.IM.D14'], ['CD11cC8flxRIPK3.mono.D14', 'CD11cC8flx.IM.D14'], ['LysMC8flx.Sfhi.D14', 'CD11cC8flx.IM.D14'], ['C8flx.Sflow.D14', 'CD11cC8flx.IM.D14'], ['LysMC8flx.IM.D14', 'CD11cC8flx.IM.D14'], ['LysMC8flxRIPK3C8flx.mono.D20', 'CD11cC8flx.IM.D14'], ['C8flx.Sflow.D19', 'CD11cC8flx.IM.D14'], ['LysMC8flxRIPK3C8flx.Sfhi.D20', 'CD11cC8flx.IM.D14'], ['C8flx.mono.D19', 'CD11cC8flx.IM.D14'], ['C8flx.Sfhi.D14', 'CD11cC8flx.IM.D14'], ['LysMC8flxRIPK3.Sfhi.D14', 'CD11cC8flx.IM.D14'], ['CD11cC8flxRIPK3.Sflow.D21', 'CD11cC8flx.IM.D14'], ['C8flx.Sfhi.D19', 'CD11cC8flx.IM.D14'], ['CD11cC8flx.Sflow.D14', 'CD11cC8flx.IM.D14'], ['CD11cC8flxRIPK3.IM.D14', 'CD11cC8flx.IM.D14'], ['LysMC8flx.mono.D20', 'CD11cC8flx.IM.D14'], ['CD11cC8flx.IM.D14', 'CD11cC8flx.IM.D14'], ['CD11cC8flxRIPK3.IM.D21', 'CD11cC8flx.IM.D14'], ['LysMC8flxRIPK3C8flx.Sflow.D20', 'CD11cC8flx.IM.D14'], ['CD11cC8flxRIPK3.Sflow.D14', 'CD11cC8flx.IM.D14'], ['LysMC8flx.Sflow.D20', 'CD11cC8flx.IM.D14'], ['LysMC8flx.Sfhi.D0', 'CD11cC8flx.IM.D14'], ['C8flx.IM.D14', 'CD11cC8flx.IM.D14'], ['C8flx.Sfhi.D0', 'CD11cC8flx.IM.D14'], ['CD11cC8flx.mono.D20', 'CD11cC8flx.IM.D14'], ['CD11cC8flx.Sfhi.D20', 'CD11cC8flx.IM.D14'], ['C8flx.IM.D19', 'CD11cC8flx.IM.D14']]\n",
      "[['LysMC8flx.Sfhi.D20', 'CD11cC8flxRIPK3.IM.D21'], ['LysMC8flx.IM.D20', 'CD11cC8flxRIPK3.IM.D21'], ['LysMC8flx.mono.D14', 'CD11cC8flxRIPK3.IM.D21'], ['CD11cC8flxRIPK3.Sfhi.D14', 'CD11cC8flxRIPK3.IM.D21'], ['CD11cC8flxRIPK3.mono.D21', 'CD11cC8flxRIPK3.IM.D21'], ['LysMC8flxRIPK3.Sflow.D14', 'CD11cC8flxRIPK3.IM.D21'], ['CD11cC8flx.Sflow.D20', 'CD11cC8flxRIPK3.IM.D21'], ['LysMC8flxRIPK3.mono.D14', 'CD11cC8flxRIPK3.IM.D21'], ['CD11cC8flx.Sfhi.D0', 'CD11cC8flxRIPK3.IM.D21'], ['LysMC8flxRIPK3C8flx.IM.D20', 'CD11cC8flxRIPK3.IM.D21'], ['CD11cC8flxRIPK3.Sfhi.D21', 'CD11cC8flxRIPK3.IM.D21'], ['CD11cC8flx.IM.D20', 'CD11cC8flxRIPK3.IM.D21'], ['CD11cC8flx.mono.D14', 'CD11cC8flxRIPK3.IM.D21'], ['LysMC8flx.Sflow.D14', 'CD11cC8flxRIPK3.IM.D21'], ['LysMC8flxRIPK3.IM.D14', 'CD11cC8flxRIPK3.IM.D21'], ['CD11cC8flx.Sfhi.D14', 'CD11cC8flxRIPK3.IM.D21'], ['C8flx.mono.D14', 'CD11cC8flxRIPK3.IM.D21'], ['CD11cC8flxRIPK3.mono.D14', 'CD11cC8flxRIPK3.IM.D21'], ['LysMC8flx.Sfhi.D14', 'CD11cC8flxRIPK3.IM.D21'], ['C8flx.Sflow.D14', 'CD11cC8flxRIPK3.IM.D21'], ['LysMC8flx.IM.D14', 'CD11cC8flxRIPK3.IM.D21'], ['LysMC8flxRIPK3C8flx.mono.D20', 'CD11cC8flxRIPK3.IM.D21'], ['C8flx.Sflow.D19', 'CD11cC8flxRIPK3.IM.D21'], ['LysMC8flxRIPK3C8flx.Sfhi.D20', 'CD11cC8flxRIPK3.IM.D21'], ['C8flx.mono.D19', 'CD11cC8flxRIPK3.IM.D21'], ['C8flx.Sfhi.D14', 'CD11cC8flxRIPK3.IM.D21'], ['LysMC8flxRIPK3.Sfhi.D14', 'CD11cC8flxRIPK3.IM.D21'], ['CD11cC8flxRIPK3.Sflow.D21', 'CD11cC8flxRIPK3.IM.D21'], ['C8flx.Sfhi.D19', 'CD11cC8flxRIPK3.IM.D21'], ['CD11cC8flx.Sflow.D14', 'CD11cC8flxRIPK3.IM.D21'], ['CD11cC8flxRIPK3.IM.D14', 'CD11cC8flxRIPK3.IM.D21'], ['LysMC8flx.mono.D20', 'CD11cC8flxRIPK3.IM.D21'], ['CD11cC8flx.IM.D14', 'CD11cC8flxRIPK3.IM.D21'], ['CD11cC8flxRIPK3.IM.D21', 'CD11cC8flxRIPK3.IM.D21'], ['LysMC8flxRIPK3C8flx.Sflow.D20', 'CD11cC8flxRIPK3.IM.D21'], ['CD11cC8flxRIPK3.Sflow.D14', 'CD11cC8flxRIPK3.IM.D21'], ['LysMC8flx.Sflow.D20', 'CD11cC8flxRIPK3.IM.D21'], ['LysMC8flx.Sfhi.D0', 'CD11cC8flxRIPK3.IM.D21'], ['C8flx.IM.D14', 'CD11cC8flxRIPK3.IM.D21'], ['C8flx.Sfhi.D0', 'CD11cC8flxRIPK3.IM.D21'], ['CD11cC8flx.mono.D20', 'CD11cC8flxRIPK3.IM.D21'], ['CD11cC8flx.Sfhi.D20', 'CD11cC8flxRIPK3.IM.D21'], ['C8flx.IM.D19', 'CD11cC8flxRIPK3.IM.D21']]\n",
      "[['LysMC8flx.Sfhi.D20', 'LysMC8flxRIPK3C8flx.Sflow.D20'], ['LysMC8flx.IM.D20', 'LysMC8flxRIPK3C8flx.Sflow.D20'], ['LysMC8flx.mono.D14', 'LysMC8flxRIPK3C8flx.Sflow.D20'], ['CD11cC8flxRIPK3.Sfhi.D14', 'LysMC8flxRIPK3C8flx.Sflow.D20'], ['CD11cC8flxRIPK3.mono.D21', 'LysMC8flxRIPK3C8flx.Sflow.D20'], ['LysMC8flxRIPK3.Sflow.D14', 'LysMC8flxRIPK3C8flx.Sflow.D20'], ['CD11cC8flx.Sflow.D20', 'LysMC8flxRIPK3C8flx.Sflow.D20'], ['LysMC8flxRIPK3.mono.D14', 'LysMC8flxRIPK3C8flx.Sflow.D20'], ['CD11cC8flx.Sfhi.D0', 'LysMC8flxRIPK3C8flx.Sflow.D20'], ['LysMC8flxRIPK3C8flx.IM.D20', 'LysMC8flxRIPK3C8flx.Sflow.D20'], ['CD11cC8flxRIPK3.Sfhi.D21', 'LysMC8flxRIPK3C8flx.Sflow.D20'], ['CD11cC8flx.IM.D20', 'LysMC8flxRIPK3C8flx.Sflow.D20'], ['CD11cC8flx.mono.D14', 'LysMC8flxRIPK3C8flx.Sflow.D20'], ['LysMC8flx.Sflow.D14', 'LysMC8flxRIPK3C8flx.Sflow.D20'], ['LysMC8flxRIPK3.IM.D14', 'LysMC8flxRIPK3C8flx.Sflow.D20'], ['CD11cC8flx.Sfhi.D14', 'LysMC8flxRIPK3C8flx.Sflow.D20'], ['C8flx.mono.D14', 'LysMC8flxRIPK3C8flx.Sflow.D20'], ['CD11cC8flxRIPK3.mono.D14', 'LysMC8flxRIPK3C8flx.Sflow.D20'], ['LysMC8flx.Sfhi.D14', 'LysMC8flxRIPK3C8flx.Sflow.D20'], ['C8flx.Sflow.D14', 'LysMC8flxRIPK3C8flx.Sflow.D20'], ['LysMC8flx.IM.D14', 'LysMC8flxRIPK3C8flx.Sflow.D20'], ['LysMC8flxRIPK3C8flx.mono.D20', 'LysMC8flxRIPK3C8flx.Sflow.D20'], ['C8flx.Sflow.D19', 'LysMC8flxRIPK3C8flx.Sflow.D20'], ['LysMC8flxRIPK3C8flx.Sfhi.D20', 'LysMC8flxRIPK3C8flx.Sflow.D20'], ['C8flx.mono.D19', 'LysMC8flxRIPK3C8flx.Sflow.D20'], ['C8flx.Sfhi.D14', 'LysMC8flxRIPK3C8flx.Sflow.D20'], ['LysMC8flxRIPK3.Sfhi.D14', 'LysMC8flxRIPK3C8flx.Sflow.D20'], ['CD11cC8flxRIPK3.Sflow.D21', 'LysMC8flxRIPK3C8flx.Sflow.D20'], ['C8flx.Sfhi.D19', 'LysMC8flxRIPK3C8flx.Sflow.D20'], ['CD11cC8flx.Sflow.D14', 'LysMC8flxRIPK3C8flx.Sflow.D20'], ['CD11cC8flxRIPK3.IM.D14', 'LysMC8flxRIPK3C8flx.Sflow.D20'], ['LysMC8flx.mono.D20', 'LysMC8flxRIPK3C8flx.Sflow.D20'], ['CD11cC8flx.IM.D14', 'LysMC8flxRIPK3C8flx.Sflow.D20'], ['CD11cC8flxRIPK3.IM.D21', 'LysMC8flxRIPK3C8flx.Sflow.D20'], ['LysMC8flxRIPK3C8flx.Sflow.D20', 'LysMC8flxRIPK3C8flx.Sflow.D20'], ['CD11cC8flxRIPK3.Sflow.D14', 'LysMC8flxRIPK3C8flx.Sflow.D20'], ['LysMC8flx.Sflow.D20', 'LysMC8flxRIPK3C8flx.Sflow.D20'], ['LysMC8flx.Sfhi.D0', 'LysMC8flxRIPK3C8flx.Sflow.D20'], ['C8flx.IM.D14', 'LysMC8flxRIPK3C8flx.Sflow.D20'], ['C8flx.Sfhi.D0', 'LysMC8flxRIPK3C8flx.Sflow.D20'], ['CD11cC8flx.mono.D20', 'LysMC8flxRIPK3C8flx.Sflow.D20'], ['CD11cC8flx.Sfhi.D20', 'LysMC8flxRIPK3C8flx.Sflow.D20'], ['C8flx.IM.D19', 'LysMC8flxRIPK3C8flx.Sflow.D20']]\n",
      "[['LysMC8flx.Sfhi.D20', 'CD11cC8flxRIPK3.Sflow.D14'], ['LysMC8flx.IM.D20', 'CD11cC8flxRIPK3.Sflow.D14'], ['LysMC8flx.mono.D14', 'CD11cC8flxRIPK3.Sflow.D14'], ['CD11cC8flxRIPK3.Sfhi.D14', 'CD11cC8flxRIPK3.Sflow.D14'], ['CD11cC8flxRIPK3.mono.D21', 'CD11cC8flxRIPK3.Sflow.D14'], ['LysMC8flxRIPK3.Sflow.D14', 'CD11cC8flxRIPK3.Sflow.D14'], ['CD11cC8flx.Sflow.D20', 'CD11cC8flxRIPK3.Sflow.D14'], ['LysMC8flxRIPK3.mono.D14', 'CD11cC8flxRIPK3.Sflow.D14'], ['CD11cC8flx.Sfhi.D0', 'CD11cC8flxRIPK3.Sflow.D14'], ['LysMC8flxRIPK3C8flx.IM.D20', 'CD11cC8flxRIPK3.Sflow.D14'], ['CD11cC8flxRIPK3.Sfhi.D21', 'CD11cC8flxRIPK3.Sflow.D14'], ['CD11cC8flx.IM.D20', 'CD11cC8flxRIPK3.Sflow.D14'], ['CD11cC8flx.mono.D14', 'CD11cC8flxRIPK3.Sflow.D14'], ['LysMC8flx.Sflow.D14', 'CD11cC8flxRIPK3.Sflow.D14'], ['LysMC8flxRIPK3.IM.D14', 'CD11cC8flxRIPK3.Sflow.D14'], ['CD11cC8flx.Sfhi.D14', 'CD11cC8flxRIPK3.Sflow.D14'], ['C8flx.mono.D14', 'CD11cC8flxRIPK3.Sflow.D14'], ['CD11cC8flxRIPK3.mono.D14', 'CD11cC8flxRIPK3.Sflow.D14'], ['LysMC8flx.Sfhi.D14', 'CD11cC8flxRIPK3.Sflow.D14'], ['C8flx.Sflow.D14', 'CD11cC8flxRIPK3.Sflow.D14'], ['LysMC8flx.IM.D14', 'CD11cC8flxRIPK3.Sflow.D14'], ['LysMC8flxRIPK3C8flx.mono.D20', 'CD11cC8flxRIPK3.Sflow.D14'], ['C8flx.Sflow.D19', 'CD11cC8flxRIPK3.Sflow.D14'], ['LysMC8flxRIPK3C8flx.Sfhi.D20', 'CD11cC8flxRIPK3.Sflow.D14'], ['C8flx.mono.D19', 'CD11cC8flxRIPK3.Sflow.D14'], ['C8flx.Sfhi.D14', 'CD11cC8flxRIPK3.Sflow.D14'], ['LysMC8flxRIPK3.Sfhi.D14', 'CD11cC8flxRIPK3.Sflow.D14'], ['CD11cC8flxRIPK3.Sflow.D21', 'CD11cC8flxRIPK3.Sflow.D14'], ['C8flx.Sfhi.D19', 'CD11cC8flxRIPK3.Sflow.D14'], ['CD11cC8flx.Sflow.D14', 'CD11cC8flxRIPK3.Sflow.D14'], ['CD11cC8flxRIPK3.IM.D14', 'CD11cC8flxRIPK3.Sflow.D14'], ['LysMC8flx.mono.D20', 'CD11cC8flxRIPK3.Sflow.D14'], ['CD11cC8flx.IM.D14', 'CD11cC8flxRIPK3.Sflow.D14'], ['CD11cC8flxRIPK3.IM.D21', 'CD11cC8flxRIPK3.Sflow.D14'], ['LysMC8flxRIPK3C8flx.Sflow.D20', 'CD11cC8flxRIPK3.Sflow.D14'], ['CD11cC8flxRIPK3.Sflow.D14', 'CD11cC8flxRIPK3.Sflow.D14'], ['LysMC8flx.Sflow.D20', 'CD11cC8flxRIPK3.Sflow.D14'], ['LysMC8flx.Sfhi.D0', 'CD11cC8flxRIPK3.Sflow.D14'], ['C8flx.IM.D14', 'CD11cC8flxRIPK3.Sflow.D14'], ['C8flx.Sfhi.D0', 'CD11cC8flxRIPK3.Sflow.D14'], ['CD11cC8flx.mono.D20', 'CD11cC8flxRIPK3.Sflow.D14'], ['CD11cC8flx.Sfhi.D20', 'CD11cC8flxRIPK3.Sflow.D14'], ['C8flx.IM.D19', 'CD11cC8flxRIPK3.Sflow.D14']]\n",
      "[['LysMC8flx.Sfhi.D20', 'LysMC8flx.Sflow.D20'], ['LysMC8flx.IM.D20', 'LysMC8flx.Sflow.D20'], ['LysMC8flx.mono.D14', 'LysMC8flx.Sflow.D20'], ['CD11cC8flxRIPK3.Sfhi.D14', 'LysMC8flx.Sflow.D20'], ['CD11cC8flxRIPK3.mono.D21', 'LysMC8flx.Sflow.D20'], ['LysMC8flxRIPK3.Sflow.D14', 'LysMC8flx.Sflow.D20'], ['CD11cC8flx.Sflow.D20', 'LysMC8flx.Sflow.D20'], ['LysMC8flxRIPK3.mono.D14', 'LysMC8flx.Sflow.D20'], ['CD11cC8flx.Sfhi.D0', 'LysMC8flx.Sflow.D20'], ['LysMC8flxRIPK3C8flx.IM.D20', 'LysMC8flx.Sflow.D20'], ['CD11cC8flxRIPK3.Sfhi.D21', 'LysMC8flx.Sflow.D20'], ['CD11cC8flx.IM.D20', 'LysMC8flx.Sflow.D20'], ['CD11cC8flx.mono.D14', 'LysMC8flx.Sflow.D20'], ['LysMC8flx.Sflow.D14', 'LysMC8flx.Sflow.D20'], ['LysMC8flxRIPK3.IM.D14', 'LysMC8flx.Sflow.D20'], ['CD11cC8flx.Sfhi.D14', 'LysMC8flx.Sflow.D20'], ['C8flx.mono.D14', 'LysMC8flx.Sflow.D20'], ['CD11cC8flxRIPK3.mono.D14', 'LysMC8flx.Sflow.D20'], ['LysMC8flx.Sfhi.D14', 'LysMC8flx.Sflow.D20'], ['C8flx.Sflow.D14', 'LysMC8flx.Sflow.D20'], ['LysMC8flx.IM.D14', 'LysMC8flx.Sflow.D20'], ['LysMC8flxRIPK3C8flx.mono.D20', 'LysMC8flx.Sflow.D20'], ['C8flx.Sflow.D19', 'LysMC8flx.Sflow.D20'], ['LysMC8flxRIPK3C8flx.Sfhi.D20', 'LysMC8flx.Sflow.D20'], ['C8flx.mono.D19', 'LysMC8flx.Sflow.D20'], ['C8flx.Sfhi.D14', 'LysMC8flx.Sflow.D20'], ['LysMC8flxRIPK3.Sfhi.D14', 'LysMC8flx.Sflow.D20'], ['CD11cC8flxRIPK3.Sflow.D21', 'LysMC8flx.Sflow.D20'], ['C8flx.Sfhi.D19', 'LysMC8flx.Sflow.D20'], ['CD11cC8flx.Sflow.D14', 'LysMC8flx.Sflow.D20'], ['CD11cC8flxRIPK3.IM.D14', 'LysMC8flx.Sflow.D20'], ['LysMC8flx.mono.D20', 'LysMC8flx.Sflow.D20'], ['CD11cC8flx.IM.D14', 'LysMC8flx.Sflow.D20'], ['CD11cC8flxRIPK3.IM.D21', 'LysMC8flx.Sflow.D20'], ['LysMC8flxRIPK3C8flx.Sflow.D20', 'LysMC8flx.Sflow.D20'], ['CD11cC8flxRIPK3.Sflow.D14', 'LysMC8flx.Sflow.D20'], ['LysMC8flx.Sflow.D20', 'LysMC8flx.Sflow.D20'], ['LysMC8flx.Sfhi.D0', 'LysMC8flx.Sflow.D20'], ['C8flx.IM.D14', 'LysMC8flx.Sflow.D20'], ['C8flx.Sfhi.D0', 'LysMC8flx.Sflow.D20'], ['CD11cC8flx.mono.D20', 'LysMC8flx.Sflow.D20'], ['CD11cC8flx.Sfhi.D20', 'LysMC8flx.Sflow.D20'], ['C8flx.IM.D19', 'LysMC8flx.Sflow.D20']]\n",
      "[['LysMC8flx.Sfhi.D20', 'LysMC8flx.Sfhi.D0'], ['LysMC8flx.IM.D20', 'LysMC8flx.Sfhi.D0'], ['LysMC8flx.mono.D14', 'LysMC8flx.Sfhi.D0'], ['CD11cC8flxRIPK3.Sfhi.D14', 'LysMC8flx.Sfhi.D0'], ['CD11cC8flxRIPK3.mono.D21', 'LysMC8flx.Sfhi.D0'], ['LysMC8flxRIPK3.Sflow.D14', 'LysMC8flx.Sfhi.D0'], ['CD11cC8flx.Sflow.D20', 'LysMC8flx.Sfhi.D0'], ['LysMC8flxRIPK3.mono.D14', 'LysMC8flx.Sfhi.D0'], ['CD11cC8flx.Sfhi.D0', 'LysMC8flx.Sfhi.D0'], ['LysMC8flxRIPK3C8flx.IM.D20', 'LysMC8flx.Sfhi.D0'], ['CD11cC8flxRIPK3.Sfhi.D21', 'LysMC8flx.Sfhi.D0'], ['CD11cC8flx.IM.D20', 'LysMC8flx.Sfhi.D0'], ['CD11cC8flx.mono.D14', 'LysMC8flx.Sfhi.D0'], ['LysMC8flx.Sflow.D14', 'LysMC8flx.Sfhi.D0'], ['LysMC8flxRIPK3.IM.D14', 'LysMC8flx.Sfhi.D0'], ['CD11cC8flx.Sfhi.D14', 'LysMC8flx.Sfhi.D0'], ['C8flx.mono.D14', 'LysMC8flx.Sfhi.D0'], ['CD11cC8flxRIPK3.mono.D14', 'LysMC8flx.Sfhi.D0'], ['LysMC8flx.Sfhi.D14', 'LysMC8flx.Sfhi.D0'], ['C8flx.Sflow.D14', 'LysMC8flx.Sfhi.D0'], ['LysMC8flx.IM.D14', 'LysMC8flx.Sfhi.D0'], ['LysMC8flxRIPK3C8flx.mono.D20', 'LysMC8flx.Sfhi.D0'], ['C8flx.Sflow.D19', 'LysMC8flx.Sfhi.D0'], ['LysMC8flxRIPK3C8flx.Sfhi.D20', 'LysMC8flx.Sfhi.D0'], ['C8flx.mono.D19', 'LysMC8flx.Sfhi.D0'], ['C8flx.Sfhi.D14', 'LysMC8flx.Sfhi.D0'], ['LysMC8flxRIPK3.Sfhi.D14', 'LysMC8flx.Sfhi.D0'], ['CD11cC8flxRIPK3.Sflow.D21', 'LysMC8flx.Sfhi.D0'], ['C8flx.Sfhi.D19', 'LysMC8flx.Sfhi.D0'], ['CD11cC8flx.Sflow.D14', 'LysMC8flx.Sfhi.D0'], ['CD11cC8flxRIPK3.IM.D14', 'LysMC8flx.Sfhi.D0'], ['LysMC8flx.mono.D20', 'LysMC8flx.Sfhi.D0'], ['CD11cC8flx.IM.D14', 'LysMC8flx.Sfhi.D0'], ['CD11cC8flxRIPK3.IM.D21', 'LysMC8flx.Sfhi.D0'], ['LysMC8flxRIPK3C8flx.Sflow.D20', 'LysMC8flx.Sfhi.D0'], ['CD11cC8flxRIPK3.Sflow.D14', 'LysMC8flx.Sfhi.D0'], ['LysMC8flx.Sflow.D20', 'LysMC8flx.Sfhi.D0'], ['LysMC8flx.Sfhi.D0', 'LysMC8flx.Sfhi.D0'], ['C8flx.IM.D14', 'LysMC8flx.Sfhi.D0'], ['C8flx.Sfhi.D0', 'LysMC8flx.Sfhi.D0'], ['CD11cC8flx.mono.D20', 'LysMC8flx.Sfhi.D0'], ['CD11cC8flx.Sfhi.D20', 'LysMC8flx.Sfhi.D0'], ['C8flx.IM.D19', 'LysMC8flx.Sfhi.D0']]\n",
      "[['LysMC8flx.Sfhi.D20', 'C8flx.IM.D14'], ['LysMC8flx.IM.D20', 'C8flx.IM.D14'], ['LysMC8flx.mono.D14', 'C8flx.IM.D14'], ['CD11cC8flxRIPK3.Sfhi.D14', 'C8flx.IM.D14'], ['CD11cC8flxRIPK3.mono.D21', 'C8flx.IM.D14'], ['LysMC8flxRIPK3.Sflow.D14', 'C8flx.IM.D14'], ['CD11cC8flx.Sflow.D20', 'C8flx.IM.D14'], ['LysMC8flxRIPK3.mono.D14', 'C8flx.IM.D14'], ['CD11cC8flx.Sfhi.D0', 'C8flx.IM.D14'], ['LysMC8flxRIPK3C8flx.IM.D20', 'C8flx.IM.D14'], ['CD11cC8flxRIPK3.Sfhi.D21', 'C8flx.IM.D14'], ['CD11cC8flx.IM.D20', 'C8flx.IM.D14'], ['CD11cC8flx.mono.D14', 'C8flx.IM.D14'], ['LysMC8flx.Sflow.D14', 'C8flx.IM.D14'], ['LysMC8flxRIPK3.IM.D14', 'C8flx.IM.D14'], ['CD11cC8flx.Sfhi.D14', 'C8flx.IM.D14'], ['C8flx.mono.D14', 'C8flx.IM.D14'], ['CD11cC8flxRIPK3.mono.D14', 'C8flx.IM.D14'], ['LysMC8flx.Sfhi.D14', 'C8flx.IM.D14'], ['C8flx.Sflow.D14', 'C8flx.IM.D14'], ['LysMC8flx.IM.D14', 'C8flx.IM.D14'], ['LysMC8flxRIPK3C8flx.mono.D20', 'C8flx.IM.D14'], ['C8flx.Sflow.D19', 'C8flx.IM.D14'], ['LysMC8flxRIPK3C8flx.Sfhi.D20', 'C8flx.IM.D14'], ['C8flx.mono.D19', 'C8flx.IM.D14'], ['C8flx.Sfhi.D14', 'C8flx.IM.D14'], ['LysMC8flxRIPK3.Sfhi.D14', 'C8flx.IM.D14'], ['CD11cC8flxRIPK3.Sflow.D21', 'C8flx.IM.D14'], ['C8flx.Sfhi.D19', 'C8flx.IM.D14'], ['CD11cC8flx.Sflow.D14', 'C8flx.IM.D14'], ['CD11cC8flxRIPK3.IM.D14', 'C8flx.IM.D14'], ['LysMC8flx.mono.D20', 'C8flx.IM.D14'], ['CD11cC8flx.IM.D14', 'C8flx.IM.D14'], ['CD11cC8flxRIPK3.IM.D21', 'C8flx.IM.D14'], ['LysMC8flxRIPK3C8flx.Sflow.D20', 'C8flx.IM.D14'], ['CD11cC8flxRIPK3.Sflow.D14', 'C8flx.IM.D14'], ['LysMC8flx.Sflow.D20', 'C8flx.IM.D14'], ['LysMC8flx.Sfhi.D0', 'C8flx.IM.D14'], ['C8flx.IM.D14', 'C8flx.IM.D14'], ['C8flx.Sfhi.D0', 'C8flx.IM.D14'], ['CD11cC8flx.mono.D20', 'C8flx.IM.D14'], ['CD11cC8flx.Sfhi.D20', 'C8flx.IM.D14'], ['C8flx.IM.D19', 'C8flx.IM.D14']]\n",
      "[['LysMC8flx.Sfhi.D20', 'C8flx.Sfhi.D0'], ['LysMC8flx.IM.D20', 'C8flx.Sfhi.D0'], ['LysMC8flx.mono.D14', 'C8flx.Sfhi.D0'], ['CD11cC8flxRIPK3.Sfhi.D14', 'C8flx.Sfhi.D0'], ['CD11cC8flxRIPK3.mono.D21', 'C8flx.Sfhi.D0'], ['LysMC8flxRIPK3.Sflow.D14', 'C8flx.Sfhi.D0'], ['CD11cC8flx.Sflow.D20', 'C8flx.Sfhi.D0'], ['LysMC8flxRIPK3.mono.D14', 'C8flx.Sfhi.D0'], ['CD11cC8flx.Sfhi.D0', 'C8flx.Sfhi.D0'], ['LysMC8flxRIPK3C8flx.IM.D20', 'C8flx.Sfhi.D0'], ['CD11cC8flxRIPK3.Sfhi.D21', 'C8flx.Sfhi.D0'], ['CD11cC8flx.IM.D20', 'C8flx.Sfhi.D0'], ['CD11cC8flx.mono.D14', 'C8flx.Sfhi.D0'], ['LysMC8flx.Sflow.D14', 'C8flx.Sfhi.D0'], ['LysMC8flxRIPK3.IM.D14', 'C8flx.Sfhi.D0'], ['CD11cC8flx.Sfhi.D14', 'C8flx.Sfhi.D0'], ['C8flx.mono.D14', 'C8flx.Sfhi.D0'], ['CD11cC8flxRIPK3.mono.D14', 'C8flx.Sfhi.D0'], ['LysMC8flx.Sfhi.D14', 'C8flx.Sfhi.D0'], ['C8flx.Sflow.D14', 'C8flx.Sfhi.D0'], ['LysMC8flx.IM.D14', 'C8flx.Sfhi.D0'], ['LysMC8flxRIPK3C8flx.mono.D20', 'C8flx.Sfhi.D0'], ['C8flx.Sflow.D19', 'C8flx.Sfhi.D0'], ['LysMC8flxRIPK3C8flx.Sfhi.D20', 'C8flx.Sfhi.D0'], ['C8flx.mono.D19', 'C8flx.Sfhi.D0'], ['C8flx.Sfhi.D14', 'C8flx.Sfhi.D0'], ['LysMC8flxRIPK3.Sfhi.D14', 'C8flx.Sfhi.D0'], ['CD11cC8flxRIPK3.Sflow.D21', 'C8flx.Sfhi.D0'], ['C8flx.Sfhi.D19', 'C8flx.Sfhi.D0'], ['CD11cC8flx.Sflow.D14', 'C8flx.Sfhi.D0'], ['CD11cC8flxRIPK3.IM.D14', 'C8flx.Sfhi.D0'], ['LysMC8flx.mono.D20', 'C8flx.Sfhi.D0'], ['CD11cC8flx.IM.D14', 'C8flx.Sfhi.D0'], ['CD11cC8flxRIPK3.IM.D21', 'C8flx.Sfhi.D0'], ['LysMC8flxRIPK3C8flx.Sflow.D20', 'C8flx.Sfhi.D0'], ['CD11cC8flxRIPK3.Sflow.D14', 'C8flx.Sfhi.D0'], ['LysMC8flx.Sflow.D20', 'C8flx.Sfhi.D0'], ['LysMC8flx.Sfhi.D0', 'C8flx.Sfhi.D0'], ['C8flx.IM.D14', 'C8flx.Sfhi.D0'], ['C8flx.Sfhi.D0', 'C8flx.Sfhi.D0'], ['CD11cC8flx.mono.D20', 'C8flx.Sfhi.D0'], ['CD11cC8flx.Sfhi.D20', 'C8flx.Sfhi.D0'], ['C8flx.IM.D19', 'C8flx.Sfhi.D0']]\n",
      "[['LysMC8flx.Sfhi.D20', 'CD11cC8flx.mono.D20'], ['LysMC8flx.IM.D20', 'CD11cC8flx.mono.D20'], ['LysMC8flx.mono.D14', 'CD11cC8flx.mono.D20'], ['CD11cC8flxRIPK3.Sfhi.D14', 'CD11cC8flx.mono.D20'], ['CD11cC8flxRIPK3.mono.D21', 'CD11cC8flx.mono.D20'], ['LysMC8flxRIPK3.Sflow.D14', 'CD11cC8flx.mono.D20'], ['CD11cC8flx.Sflow.D20', 'CD11cC8flx.mono.D20'], ['LysMC8flxRIPK3.mono.D14', 'CD11cC8flx.mono.D20'], ['CD11cC8flx.Sfhi.D0', 'CD11cC8flx.mono.D20'], ['LysMC8flxRIPK3C8flx.IM.D20', 'CD11cC8flx.mono.D20'], ['CD11cC8flxRIPK3.Sfhi.D21', 'CD11cC8flx.mono.D20'], ['CD11cC8flx.IM.D20', 'CD11cC8flx.mono.D20'], ['CD11cC8flx.mono.D14', 'CD11cC8flx.mono.D20'], ['LysMC8flx.Sflow.D14', 'CD11cC8flx.mono.D20'], ['LysMC8flxRIPK3.IM.D14', 'CD11cC8flx.mono.D20'], ['CD11cC8flx.Sfhi.D14', 'CD11cC8flx.mono.D20'], ['C8flx.mono.D14', 'CD11cC8flx.mono.D20'], ['CD11cC8flxRIPK3.mono.D14', 'CD11cC8flx.mono.D20'], ['LysMC8flx.Sfhi.D14', 'CD11cC8flx.mono.D20'], ['C8flx.Sflow.D14', 'CD11cC8flx.mono.D20'], ['LysMC8flx.IM.D14', 'CD11cC8flx.mono.D20'], ['LysMC8flxRIPK3C8flx.mono.D20', 'CD11cC8flx.mono.D20'], ['C8flx.Sflow.D19', 'CD11cC8flx.mono.D20'], ['LysMC8flxRIPK3C8flx.Sfhi.D20', 'CD11cC8flx.mono.D20'], ['C8flx.mono.D19', 'CD11cC8flx.mono.D20'], ['C8flx.Sfhi.D14', 'CD11cC8flx.mono.D20'], ['LysMC8flxRIPK3.Sfhi.D14', 'CD11cC8flx.mono.D20'], ['CD11cC8flxRIPK3.Sflow.D21', 'CD11cC8flx.mono.D20'], ['C8flx.Sfhi.D19', 'CD11cC8flx.mono.D20'], ['CD11cC8flx.Sflow.D14', 'CD11cC8flx.mono.D20'], ['CD11cC8flxRIPK3.IM.D14', 'CD11cC8flx.mono.D20'], ['LysMC8flx.mono.D20', 'CD11cC8flx.mono.D20'], ['CD11cC8flx.IM.D14', 'CD11cC8flx.mono.D20'], ['CD11cC8flxRIPK3.IM.D21', 'CD11cC8flx.mono.D20'], ['LysMC8flxRIPK3C8flx.Sflow.D20', 'CD11cC8flx.mono.D20'], ['CD11cC8flxRIPK3.Sflow.D14', 'CD11cC8flx.mono.D20'], ['LysMC8flx.Sflow.D20', 'CD11cC8flx.mono.D20'], ['LysMC8flx.Sfhi.D0', 'CD11cC8flx.mono.D20'], ['C8flx.IM.D14', 'CD11cC8flx.mono.D20'], ['C8flx.Sfhi.D0', 'CD11cC8flx.mono.D20'], ['CD11cC8flx.mono.D20', 'CD11cC8flx.mono.D20'], ['CD11cC8flx.Sfhi.D20', 'CD11cC8flx.mono.D20'], ['C8flx.IM.D19', 'CD11cC8flx.mono.D20']]\n",
      "[['LysMC8flx.Sfhi.D20', 'CD11cC8flx.Sfhi.D20'], ['LysMC8flx.IM.D20', 'CD11cC8flx.Sfhi.D20'], ['LysMC8flx.mono.D14', 'CD11cC8flx.Sfhi.D20'], ['CD11cC8flxRIPK3.Sfhi.D14', 'CD11cC8flx.Sfhi.D20'], ['CD11cC8flxRIPK3.mono.D21', 'CD11cC8flx.Sfhi.D20'], ['LysMC8flxRIPK3.Sflow.D14', 'CD11cC8flx.Sfhi.D20'], ['CD11cC8flx.Sflow.D20', 'CD11cC8flx.Sfhi.D20'], ['LysMC8flxRIPK3.mono.D14', 'CD11cC8flx.Sfhi.D20'], ['CD11cC8flx.Sfhi.D0', 'CD11cC8flx.Sfhi.D20'], ['LysMC8flxRIPK3C8flx.IM.D20', 'CD11cC8flx.Sfhi.D20'], ['CD11cC8flxRIPK3.Sfhi.D21', 'CD11cC8flx.Sfhi.D20'], ['CD11cC8flx.IM.D20', 'CD11cC8flx.Sfhi.D20'], ['CD11cC8flx.mono.D14', 'CD11cC8flx.Sfhi.D20'], ['LysMC8flx.Sflow.D14', 'CD11cC8flx.Sfhi.D20'], ['LysMC8flxRIPK3.IM.D14', 'CD11cC8flx.Sfhi.D20'], ['CD11cC8flx.Sfhi.D14', 'CD11cC8flx.Sfhi.D20'], ['C8flx.mono.D14', 'CD11cC8flx.Sfhi.D20'], ['CD11cC8flxRIPK3.mono.D14', 'CD11cC8flx.Sfhi.D20'], ['LysMC8flx.Sfhi.D14', 'CD11cC8flx.Sfhi.D20'], ['C8flx.Sflow.D14', 'CD11cC8flx.Sfhi.D20'], ['LysMC8flx.IM.D14', 'CD11cC8flx.Sfhi.D20'], ['LysMC8flxRIPK3C8flx.mono.D20', 'CD11cC8flx.Sfhi.D20'], ['C8flx.Sflow.D19', 'CD11cC8flx.Sfhi.D20'], ['LysMC8flxRIPK3C8flx.Sfhi.D20', 'CD11cC8flx.Sfhi.D20'], ['C8flx.mono.D19', 'CD11cC8flx.Sfhi.D20'], ['C8flx.Sfhi.D14', 'CD11cC8flx.Sfhi.D20'], ['LysMC8flxRIPK3.Sfhi.D14', 'CD11cC8flx.Sfhi.D20'], ['CD11cC8flxRIPK3.Sflow.D21', 'CD11cC8flx.Sfhi.D20'], ['C8flx.Sfhi.D19', 'CD11cC8flx.Sfhi.D20'], ['CD11cC8flx.Sflow.D14', 'CD11cC8flx.Sfhi.D20'], ['CD11cC8flxRIPK3.IM.D14', 'CD11cC8flx.Sfhi.D20'], ['LysMC8flx.mono.D20', 'CD11cC8flx.Sfhi.D20'], ['CD11cC8flx.IM.D14', 'CD11cC8flx.Sfhi.D20'], ['CD11cC8flxRIPK3.IM.D21', 'CD11cC8flx.Sfhi.D20'], ['LysMC8flxRIPK3C8flx.Sflow.D20', 'CD11cC8flx.Sfhi.D20'], ['CD11cC8flxRIPK3.Sflow.D14', 'CD11cC8flx.Sfhi.D20'], ['LysMC8flx.Sflow.D20', 'CD11cC8flx.Sfhi.D20'], ['LysMC8flx.Sfhi.D0', 'CD11cC8flx.Sfhi.D20'], ['C8flx.IM.D14', 'CD11cC8flx.Sfhi.D20'], ['C8flx.Sfhi.D0', 'CD11cC8flx.Sfhi.D20'], ['CD11cC8flx.mono.D20', 'CD11cC8flx.Sfhi.D20'], ['CD11cC8flx.Sfhi.D20', 'CD11cC8flx.Sfhi.D20'], ['C8flx.IM.D19', 'CD11cC8flx.Sfhi.D20']]\n",
      "[['LysMC8flx.Sfhi.D20', 'C8flx.IM.D19'], ['LysMC8flx.IM.D20', 'C8flx.IM.D19'], ['LysMC8flx.mono.D14', 'C8flx.IM.D19'], ['CD11cC8flxRIPK3.Sfhi.D14', 'C8flx.IM.D19'], ['CD11cC8flxRIPK3.mono.D21', 'C8flx.IM.D19'], ['LysMC8flxRIPK3.Sflow.D14', 'C8flx.IM.D19'], ['CD11cC8flx.Sflow.D20', 'C8flx.IM.D19'], ['LysMC8flxRIPK3.mono.D14', 'C8flx.IM.D19'], ['CD11cC8flx.Sfhi.D0', 'C8flx.IM.D19'], ['LysMC8flxRIPK3C8flx.IM.D20', 'C8flx.IM.D19'], ['CD11cC8flxRIPK3.Sfhi.D21', 'C8flx.IM.D19'], ['CD11cC8flx.IM.D20', 'C8flx.IM.D19'], ['CD11cC8flx.mono.D14', 'C8flx.IM.D19'], ['LysMC8flx.Sflow.D14', 'C8flx.IM.D19'], ['LysMC8flxRIPK3.IM.D14', 'C8flx.IM.D19'], ['CD11cC8flx.Sfhi.D14', 'C8flx.IM.D19'], ['C8flx.mono.D14', 'C8flx.IM.D19'], ['CD11cC8flxRIPK3.mono.D14', 'C8flx.IM.D19'], ['LysMC8flx.Sfhi.D14', 'C8flx.IM.D19'], ['C8flx.Sflow.D14', 'C8flx.IM.D19'], ['LysMC8flx.IM.D14', 'C8flx.IM.D19'], ['LysMC8flxRIPK3C8flx.mono.D20', 'C8flx.IM.D19'], ['C8flx.Sflow.D19', 'C8flx.IM.D19'], ['LysMC8flxRIPK3C8flx.Sfhi.D20', 'C8flx.IM.D19'], ['C8flx.mono.D19', 'C8flx.IM.D19'], ['C8flx.Sfhi.D14', 'C8flx.IM.D19'], ['LysMC8flxRIPK3.Sfhi.D14', 'C8flx.IM.D19'], ['CD11cC8flxRIPK3.Sflow.D21', 'C8flx.IM.D19'], ['C8flx.Sfhi.D19', 'C8flx.IM.D19'], ['CD11cC8flx.Sflow.D14', 'C8flx.IM.D19'], ['CD11cC8flxRIPK3.IM.D14', 'C8flx.IM.D19'], ['LysMC8flx.mono.D20', 'C8flx.IM.D19'], ['CD11cC8flx.IM.D14', 'C8flx.IM.D19'], ['CD11cC8flxRIPK3.IM.D21', 'C8flx.IM.D19'], ['LysMC8flxRIPK3C8flx.Sflow.D20', 'C8flx.IM.D19'], ['CD11cC8flxRIPK3.Sflow.D14', 'C8flx.IM.D19'], ['LysMC8flx.Sflow.D20', 'C8flx.IM.D19'], ['LysMC8flx.Sfhi.D0', 'C8flx.IM.D19'], ['C8flx.IM.D14', 'C8flx.IM.D19'], ['C8flx.Sfhi.D0', 'C8flx.IM.D19'], ['CD11cC8flx.mono.D20', 'C8flx.IM.D19'], ['CD11cC8flx.Sfhi.D20', 'C8flx.IM.D19'], ['C8flx.IM.D19', 'C8flx.IM.D19']]\n"
     ]
    }
   ],
   "source": [
    "for pair in pairs: \n",
    "    print pair"
   ]
  },
  {
   "cell_type": "code",
   "execution_count": 35,
   "metadata": {
    "collapsed": false
   },
   "outputs": [
    {
     "ename": "ZeroDivisionError",
     "evalue": "float division by zero",
     "output_type": "error",
     "traceback": [
      "\u001b[0;31m---------------------------------------------------------------------------\u001b[0m",
      "\u001b[0;31mZeroDivisionError\u001b[0m                         Traceback (most recent call last)",
      "\u001b[0;32m<ipython-input-35-04df3936ff2d>\u001b[0m in \u001b[0;36m<module>\u001b[0;34m()\u001b[0m\n\u001b[0;32m----> 1\u001b[0;31m \u001b[0mstat_dict\u001b[0m \u001b[0;34m=\u001b[0m \u001b[0mcombos2\u001b[0m\u001b[0;34m(\u001b[0m\u001b[0mname_dict\u001b[0m\u001b[0;34m)\u001b[0m\u001b[0;34m;\u001b[0m\u001b[0;34m\u001b[0m\u001b[0m\n\u001b[0m",
      "\u001b[0;32m<ipython-input-34-65aff2559ad7>\u001b[0m in \u001b[0;36mcombos2\u001b[0;34m(name_dict)\u001b[0m\n\u001b[1;32m     24\u001b[0m                     \u001b[0;32mprint\u001b[0m \u001b[0mname1\u001b[0m\u001b[0;34m,\u001b[0m \u001b[0mname2\u001b[0m\u001b[0;34m,\u001b[0m \u001b[0mname3\u001b[0m\u001b[0;34m,\u001b[0m \u001b[0mname4\u001b[0m\u001b[0;34m\u001b[0m\u001b[0m\n\u001b[1;32m     25\u001b[0m                     \u001b[0mdft2\u001b[0m \u001b[0;34m=\u001b[0m \u001b[0mnames_to_df\u001b[0m\u001b[0;34m(\u001b[0m\u001b[0;34m[\u001b[0m\u001b[0mname3\u001b[0m\u001b[0;34m,\u001b[0m \u001b[0mname4\u001b[0m\u001b[0;34m]\u001b[0m\u001b[0;34m)\u001b[0m\u001b[0;34m\u001b[0m\u001b[0m\n\u001b[0;32m---> 26\u001b[0;31m                     \u001b[0mgene_perc\u001b[0m \u001b[0;34m=\u001b[0m \u001b[0mcompare_edges\u001b[0m\u001b[0;34m(\u001b[0m\u001b[0;34m[\u001b[0m\u001b[0mdft1\u001b[0m\u001b[0;34m,\u001b[0m\u001b[0mdft2\u001b[0m\u001b[0;34m]\u001b[0m\u001b[0;34m)\u001b[0m\u001b[0;34m\u001b[0m\u001b[0m\n\u001b[0m\u001b[1;32m     27\u001b[0m                     \u001b[0;32mif\u001b[0m \u001b[0mgene_perc\u001b[0m\u001b[0;34m[\u001b[0m\u001b[0;36m0\u001b[0m\u001b[0;34m]\u001b[0m \u001b[0;34m>\u001b[0m \u001b[0;36m0\u001b[0m\u001b[0;34m:\u001b[0m\u001b[0;34m\u001b[0m\u001b[0m\n\u001b[1;32m     28\u001b[0m                         \u001b[0mstat_dict\u001b[0m\u001b[0;34m[\u001b[0m\u001b[0mname1\u001b[0m\u001b[0;34m]\u001b[0m\u001b[0;34m[\u001b[0m\u001b[0mname2\u001b[0m\u001b[0;34m]\u001b[0m\u001b[0;34m[\u001b[0m\u001b[0mname3\u001b[0m\u001b[0;34m]\u001b[0m\u001b[0;34m[\u001b[0m\u001b[0mname4\u001b[0m\u001b[0;34m]\u001b[0m \u001b[0;34m=\u001b[0m \u001b[0mgene_perc\u001b[0m\u001b[0;34m\u001b[0m\u001b[0m\n",
      "\u001b[0;32m<ipython-input-12-4645e0a6bc3e>\u001b[0m in \u001b[0;36mcompare_edges\u001b[0;34m(dfs)\u001b[0m\n\u001b[1;32m     16\u001b[0m     \u001b[0mgene_totals\u001b[0m \u001b[0;34m=\u001b[0m \u001b[0;34m[\u001b[0m\u001b[0;34m[\u001b[0m\u001b[0mdf1_genes\u001b[0m\u001b[0;34m[\u001b[0m\u001b[0mi\u001b[0m\u001b[0;34m]\u001b[0m\u001b[0;34m,\u001b[0m \u001b[0mdf2_genes\u001b[0m\u001b[0;34m[\u001b[0m\u001b[0mi\u001b[0m\u001b[0;34m]\u001b[0m\u001b[0;34m]\u001b[0m \u001b[0;32mfor\u001b[0m \u001b[0mi\u001b[0m \u001b[0;32min\u001b[0m \u001b[0mrange\u001b[0m\u001b[0;34m(\u001b[0m\u001b[0mlen\u001b[0m\u001b[0;34m(\u001b[0m\u001b[0mdf1_genes\u001b[0m\u001b[0;34m)\u001b[0m\u001b[0;34m)\u001b[0m\u001b[0;34m]\u001b[0m\u001b[0;34m\u001b[0m\u001b[0m\n\u001b[1;32m     17\u001b[0m     \u001b[0mgene_intersect\u001b[0m \u001b[0;34m=\u001b[0m \u001b[0;34m[\u001b[0m\u001b[0mintersect\u001b[0m\u001b[0;34m(\u001b[0m\u001b[0mi\u001b[0m\u001b[0;34m,\u001b[0m\u001b[0mj\u001b[0m\u001b[0;34m)\u001b[0m \u001b[0;32mfor\u001b[0m \u001b[0mi\u001b[0m\u001b[0;34m,\u001b[0m\u001b[0mj\u001b[0m \u001b[0;32min\u001b[0m \u001b[0mgene_totals\u001b[0m\u001b[0;34m]\u001b[0m\u001b[0;34m\u001b[0m\u001b[0m\n\u001b[0;32m---> 18\u001b[0;31m     \u001b[0mgene_percent\u001b[0m \u001b[0;34m=\u001b[0m \u001b[0;34m[\u001b[0m\u001b[0mfloat\u001b[0m\u001b[0;34m(\u001b[0m\u001b[0mlen\u001b[0m\u001b[0;34m(\u001b[0m\u001b[0mgene_intersect\u001b[0m\u001b[0;34m[\u001b[0m\u001b[0mi\u001b[0m\u001b[0;34m]\u001b[0m\u001b[0;34m)\u001b[0m\u001b[0;34m)\u001b[0m\u001b[0;34m/\u001b[0m\u001b[0mfloat\u001b[0m\u001b[0;34m(\u001b[0m\u001b[0mlen\u001b[0m\u001b[0;34m(\u001b[0m\u001b[0mdf1_genes\u001b[0m\u001b[0;34m[\u001b[0m\u001b[0mi\u001b[0m\u001b[0;34m]\u001b[0m\u001b[0;34m)\u001b[0m\u001b[0;34m)\u001b[0m \u001b[0;32mfor\u001b[0m \u001b[0mi\u001b[0m \u001b[0;32min\u001b[0m \u001b[0mrange\u001b[0m\u001b[0;34m(\u001b[0m\u001b[0mlen\u001b[0m\u001b[0;34m(\u001b[0m\u001b[0mdf1_genes\u001b[0m\u001b[0;34m)\u001b[0m\u001b[0;34m)\u001b[0m\u001b[0;34m]\u001b[0m\u001b[0;34m\u001b[0m\u001b[0m\n\u001b[0m\u001b[1;32m     19\u001b[0m     \u001b[0;31m### What do we want?\u001b[0m\u001b[0;34m\u001b[0m\u001b[0;34m\u001b[0m\u001b[0m\n\u001b[1;32m     20\u001b[0m     \u001b[0;31m### [[% up FC_1, % up FC_2],[% dn FC_1, %dn FC_1], [% up PV1, % up PV2], [% dn PV1, % dn PV2]]\u001b[0m\u001b[0;34m\u001b[0m\u001b[0;34m\u001b[0m\u001b[0m\n",
      "\u001b[0;31mZeroDivisionError\u001b[0m: float division by zero"
     ]
    }
   ],
   "source": [
    "%%capture\n",
    "stat_dict = combos2(name_dict);"
   ]
  },
  {
   "cell_type": "code",
   "execution_count": 33,
   "metadata": {
    "collapsed": false
   },
   "outputs": [
    {
     "name": "stdout",
     "output_type": "stream",
     "text": [
      "LysMC8flx.Sfhi.D20 {'LysMC8flxRIPK3.mono.D14': {}, 'LysMC8flx.IM.D20': {'CD11cC8flxRIPK3.mono.D21': {'LysMC8flxRIPK3.Sflow.D14': [0.0, 0.0, 0.0, 0.0]}, 'LysMC8flx.mono.D14': {'CD11cC8flxRIPK3.mono.D21': [0.0, 0.0, 0.0011441647597254005, 0.0008361204013377926], 'LysMC8flxRIPK3.Sflow.D14': [0.027127003699136867, 0.0034542314335060447, 0.03318077803203661, 0.048494983277591976], 'CD11cC8flxRIPK3.Sfhi.D14': [0.02219482120838471, 0.03626943005181347, 0.03546910755148741, 0.08695652173913043]}, 'CD11cC8flxRIPK3.Sfhi.D14': {'CD11cC8flxRIPK3.mono.D21': [0.0, 0.0, 0.0, 0.0008361204013377926], 'LysMC8flxRIPK3.Sflow.D14': [0.0, 0.0, 0.043478260869565216, 0.01839464882943144]}}, 'LysMC8flx.mono.D14': {'CD11cC8flxRIPK3.mono.D21': {'LysMC8flxRIPK3.Sflow.D14': [0.0, 0.0, 0.0, 0.0]}, 'CD11cC8flxRIPK3.Sfhi.D14': {'CD11cC8flxRIPK3.mono.D21': [0.0, 0.0, 0.0, 0.0], 'LysMC8flxRIPK3.Sflow.D14': [0.003278688524590164, 0.0, 0.006261180679785331, 0.006896551724137931]}}, 'CD11cC8flxRIPK3.Sfhi.D14': {'CD11cC8flxRIPK3.mono.D21': {'LysMC8flxRIPK3.Sflow.D14': [0.0, 0.0, 0.0, 0.0]}}, 'CD11cC8flxRIPK3.mono.D21': {}, 'LysMC8flxRIPK3.Sflow.D14': {}, 'CD11cC8flx.Sflow.D20': {}} \n",
      "\n",
      "LysMC8flx.IM.D20 {'LysMC8flxRIPK3.mono.D14': {}, 'LysMC8flx.mono.D14': {'CD11cC8flxRIPK3.mono.D21': {'LysMC8flxRIPK3.Sflow.D14': [0.0, 0.0, 0.0, 0.0]}, 'CD11cC8flxRIPK3.Sfhi.D14': {'CD11cC8flxRIPK3.mono.D21': [0.0, 0.0, 0.0, 0.0], 'LysMC8flxRIPK3.Sflow.D14': [0.009852216748768473, 0.0, 0.005190311418685121, 0.002824858757062147]}}, 'CD11cC8flxRIPK3.Sfhi.D14': {'CD11cC8flxRIPK3.mono.D21': {'LysMC8flxRIPK3.Sflow.D14': [0.0, 0.0, 0.0, 0.0]}}, 'CD11cC8flxRIPK3.mono.D21': {}, 'LysMC8flxRIPK3.Sflow.D14': {}, 'CD11cC8flx.Sflow.D20': {}} \n",
      "\n",
      "LysMC8flx.mono.D14 {'CD11cC8flxRIPK3.mono.D21': {}, 'LysMC8flxRIPK3.Sflow.D14': {}, 'CD11cC8flx.Sflow.D20': {}, 'CD11cC8flxRIPK3.Sfhi.D14': {'CD11cC8flxRIPK3.mono.D21': {'LysMC8flxRIPK3.Sflow.D14': [0.0, 0.0, 0.0, 0.0]}}, 'LysMC8flxRIPK3.mono.D14': {}} \n",
      "\n",
      "CD11cC8flxRIPK3.Sfhi.D14 {'CD11cC8flxRIPK3.mono.D21': {}, 'LysMC8flxRIPK3.Sflow.D14': {}, 'CD11cC8flx.Sflow.D20': {}, 'LysMC8flxRIPK3.mono.D14': {}} \n",
      "\n",
      "CD11cC8flxRIPK3.mono.D21 {'LysMC8flxRIPK3.Sflow.D14': {}, 'CD11cC8flx.Sflow.D20': {}, 'LysMC8flxRIPK3.mono.D14': {}} \n",
      "\n",
      "LysMC8flxRIPK3.Sflow.D14 {'CD11cC8flx.Sflow.D20': {}, 'LysMC8flxRIPK3.mono.D14': {}} \n",
      "\n",
      "CD11cC8flx.Sflow.D20 {'LysMC8flxRIPK3.mono.D14': {}} \n",
      "\n"
     ]
    }
   ],
   "source": [
    "for name in stat_dict:\n",
    "    if len(stat_dict[name]) > 0:\n",
    "        print name, stat_dict[name], '\\n'"
   ]
  },
  {
   "cell_type": "code",
   "execution_count": null,
   "metadata": {
    "collapsed": false
   },
   "outputs": [],
   "source": [
    "names = [\"FC up\", \"FC down\", \"PV up\", \"PV down\"]\n",
    "for i in range(4):\n",
    "    print names[i]\n",
    "    print x[i]\n",
    "    #print genes_shared_ct[i] #\".2f\"% genes_shared_ct[i][1] "
   ]
  },
  {
   "cell_type": "code",
   "execution_count": null,
   "metadata": {
    "collapsed": false
   },
   "outputs": [],
   "source": [
    "plt.plot([0.6, 0.2, 0.6, 0.5])"
   ]
  },
  {
   "cell_type": "code",
   "execution_count": null,
   "metadata": {
    "collapsed": false
   },
   "outputs": [],
   "source": [
    "dft = dft[pd.notnull(dft).all(axis=1)]"
   ]
  },
  {
   "cell_type": "code",
   "execution_count": null,
   "metadata": {
    "collapsed": false
   },
   "outputs": [],
   "source": [
    "ncols = len(dft.columns)\n",
    "gene_names = dft.ix[:,0]\n",
    "for i in range(1, ncols, 4):   #ncols):\n",
    "    sample1_name = dft.columns[i]\n",
    "    sample_list = []\n",
    "    sample1 = dft.ix[:,i]\n",
    "    for j in range(1, ncols):\n",
    "        \n",
    "        sample2_name = dft.columns[j]\n",
    "        \n",
    "        sample2 = dft.ix[:,j]\n",
    "        #print sample1[0], sample2[0]\n",
    "        logfc = np.log(sample2/sample1)\n",
    "        logfc = logfc[logfc < 100]\n",
    "        upreg = len(logfc[logfc > 1.4])\n",
    "        downreg = len(logfc[logfc < -1.4])\n",
    "        #print sample1_name, sample2_name, upreg, downreg\n",
    "        dist = upreg + downreg\n",
    "        regratio = upreg - downreg\n",
    "        sample_list.append([sample2_name, dist, upreg, downreg])\n",
    "        \n",
    "    print sample1_name\n",
    "    for n in sample_list:\n",
    "        print n\n",
    "    #print sample_list\n",
    "#        print sample1/sample2"
   ]
  },
  {
   "cell_type": "code",
   "execution_count": null,
   "metadata": {
    "collapsed": false
   },
   "outputs": [],
   "source": [
    "def make_tree(dfs):\n",
    "    ndf = len(dfs)\n",
    "    mat\n",
    "    for df1_ind in range(ndf):\n",
    "        for df2_ind in range(df1_ind+1,ndf):\n",
    "            merged_df = pd.merge(dfs[df1_ind], dfs[df2_ind], how = 'outer', on='gene')\n",
    "            \n",
    "            #merged_df['ratio'] = float(merged_df[[1]]) #sum(float(merged_df[[1,2,3,4]]))\n",
    "            #for gene_ind in range(len(merged_df)):\n",
    "        ### GET ratios\n",
    "                \n",
    "        ### GET SIMILARITY\n",
    "        ### [ YN [1, 0.4, 0.8. 0.7],\n",
    "        ###   ON [0.6, 1, 0.9, 0.2],\n",
    "        ###   YF [0.4, 0.3, 1, 0.6],\n",
    "        ###   OF [0.3, 0.9, 0.1, 1]]\n",
    "        \n",
    "        ### TREE FIGURE\n",
    "        ###      YF (2)\n",
    "        ###     /\n",
    "        ###  YN(1)- ON(3)- OF(4)\n",
    "        \n",
    "        ###  [[1,2],[1,3],[3,4]]\n",
    "        \n",
    "        ### START WITH\n",
    "        ### [[1,2],[1,3],[1,4]]\n",
    "        ### [1-2] 0.3\n",
    "        ### [1-3] 0.8\n",
    "        ### [1-4] 0.5\n",
    "        ### Then go to 2\n",
    "        ### [2-1] 0.3 (ok)\n",
    "        ### [2-3] 0.9 (>[1-3], change)\n",
    "                    ### [[1,2],[2,3],[1,4]]\n",
    "        ### [2-4] 0.2 (<[1-4], no change)\n",
    "        ### On to 3...\n",
    "        ### [3-1] 0.3 (ok)\n",
    "        ### [3-2] 0.1 (<[1-3], no change)\n",
    "        ### [3-4] 0.9 (>[1-4], change\n",
    "                    ### [[1,2],[1,3],[3,4]])\n",
    "        \n",
    "        ### [1-3] ok\n",
    "        sim = [[random.random() for i in range(ndf)] for j in range(ndf)]\n",
    "        for i in range(ndf):\n",
    "            ## Initialize tree starting with i\n",
    "            tree = []\n",
    "            for j in range(ndf):\n",
    "                tree[j] = [i,j]\n",
    "                #similarity_matrix sim\n",
    "                \n",
    "                \n",
    "            for j in range(ndf):\n",
    "                sim_ij = sim[i,j]\n",
    "                for k in range(ndf):\n",
    "                    sim_ik = sim[i,k]\n",
    "                    if sim_ik > sim_ij:\n",
    "                        tree[j] = [i,k]\n",
    "                    \n",
    "                \n",
    "                \n",
    "    \n",
    "    #return merged_df\n",
    "        \n",
    "            \n",
    "make_tree(dfs);"
   ]
  },
  {
   "cell_type": "code",
   "execution_count": null,
   "metadata": {
    "collapsed": false
   },
   "outputs": [],
   "source": [
    "import random\n",
    "ndf = 4\n",
    "sim = [[random.random() for i in range(ndf)] for j in range(ndf)]"
   ]
  },
  {
   "cell_type": "code",
   "execution_count": null,
   "metadata": {
    "collapsed": false
   },
   "outputs": [],
   "source": [
    "sim[2][3]"
   ]
  },
  {
   "cell_type": "code",
   "execution_count": null,
   "metadata": {
    "collapsed": false
   },
   "outputs": [],
   "source": [
    "def make_tree2():\n",
    "    ndf = 10\n",
    "    sim = [[random.random() for i in range(ndf)] for j in range(ndf)]\n",
    "    nodes = [i for i in range(ndf)]\n",
    "    for i in range(ndf):\n",
    "        #print \"begin\", i\n",
    "            ## Initialize tree starting with i\n",
    "        tree = []# [0 for x in range(ndf-1)]\n",
    "        \n",
    "        j_nodes = [z for z in range(ndf)]\n",
    "        j_nodes.remove(i)\n",
    "        for j in j_nodes: \n",
    "            tree.append([i,j])\n",
    "                #similarity_matrix sim\n",
    "                \n",
    "        n_iters = 1\n",
    "        for iteration in range(n_iters):\n",
    "            \n",
    "            #print tree\n",
    "        #print \"j_nodes\",j_nodes\n",
    "            for j in j_nodes:\n",
    "            #print tree\n",
    "                sim_ij = sim[i][j]\n",
    "            \n",
    "                k_nodes = [z for z in range(ndf)]\n",
    "                k_nodes.remove(j)\n",
    "                k_nodes.remove(i)\n",
    "                #print \"k_nodes\", k_nodes\n",
    "                for k in k_nodes:\n",
    "                #print \"j = \", j, \"k=\", k\n",
    "                    sim_ik = sim[i][k]\n",
    "                    sim_jk = sim[j][k]\n",
    "                    if sim_ik > sim_jk:\n",
    "                        #print j,k, \"> \", i, k\n",
    "                        tree[k-1] = [j,k]\n",
    "                        #print tree\n",
    "            #print \"end iteration\", iteration, tree\n",
    "            #for i in range(len(tree)):\n",
    "            print sum([sim[ii][jj] for ii,jj in tree])\n",
    "        printsorted(tree)\n",
    "make_tree2()"
   ]
  },
  {
   "cell_type": "code",
   "execution_count": null,
   "metadata": {
    "collapsed": false
   },
   "outputs": [],
   "source": [
    "def make_tree_rand():\n",
    "    ndf = 10\n",
    "    sim = [[random.random() for i in range(ndf)] for j in range(ndf)]\n",
    "    seq = [i for i in range(ndf)]\n",
    "\n",
    "    nodes = [random.choice() for i in range(ndf)]\n",
    "    n_iter = 10\n",
    "    \n",
    "    ### Initialize tree\n",
    "    tree = []# [0 for x in range(ndf-1)]\n",
    "    \n",
    "    j_nodes = [z for z in range(ndf)]\n",
    "    j_nodes.remove(i)\n",
    "    for j in j_nodes: \n",
    "        tree.append([i,j])\n",
    "                #similarity_matrix sim\n",
    "    for i in range(n_iter):\n",
    "        #print \"begin\", i\n",
    "            ## Initialize tree starting with i\n",
    "\n",
    "                \n",
    "        n_iters = 1\n",
    "        for iteration in range(n_iters):\n",
    "            \n",
    "            #print tree\n",
    "        #print \"j_nodes\",j_nodes\n",
    "            for j in j_nodes:\n",
    "            #print tree\n",
    "                sim_ij = sim[i][j]\n",
    "            \n",
    "                k_nodes = [z for z in range(ndf)]\n",
    "                k_nodes.remove(j)\n",
    "                k_nodes.remove(i)\n",
    "                #print \"k_nodes\", k_nodes\n",
    "                for k in k_nodes:\n",
    "                #print \"j = \", j, \"k=\", k\n",
    "                    sim_ik = sim[i][k]\n",
    "                    sim_jk = sim[j][k]\n",
    "                    if sim_ik > sim_jk:\n",
    "                        #print j,k, \"> \", i, k\n",
    "                        tree[k-1] = [j,k]\n",
    "                        #print tree\n",
    "            #print \"end iteration\", iteration, tree\n",
    "            #for i in range(len(tree)):\n",
    "            error = sum([sim[ii][jj] for ii,jj in tree])\n",
    "        printsorted(tree)\n",
    "make_tree_rand()"
   ]
  },
  {
   "cell_type": "code",
   "execution_count": null,
   "metadata": {
    "collapsed": false
   },
   "outputs": [],
   "source": [
    "def make_tree_easy():\n",
    "    ndf = 10\n",
    "    sim = [[random.random() for i in range(ndf)] for j in range(ndf)]\n",
    "    seq = [i for i in range(ndf)]\n",
    "\n",
    "    nodes = [random.choice() for i in range(ndf)]\n",
    "    n_iter = 10\n",
    "    \n",
    "    ### Initialize tree\n",
    "    tree = []# [0 for x in range(ndf-1)]\n",
    "    \n",
    "    j_nodes = [z for z in range(ndf)]\n",
    "    j_nodes.remove(i)\n",
    "    for j in j_nodes: \n",
    "        tree.append([i,j])\n",
    "                #similarity_matrix sim\n",
    "    for i in range(n_iter):\n",
    "        #print \"begin\", i\n",
    "            ## Initialize tree starting with i\n",
    "\n",
    "                \n",
    "        n_iters = 1\n",
    "        for iteration in range(n_iters):\n",
    "            \n",
    "            #print tree\n",
    "        #print \"j_nodes\",j_nodes\n",
    "            for j in j_nodes:\n",
    "            #print tree\n",
    "                sim_ij = sim[i][j]\n",
    "            \n",
    "                k_nodes = [z for z in range(ndf)]\n",
    "                k_nodes.remove(j)\n",
    "                k_nodes.remove(i)\n",
    "                #print \"k_nodes\", k_nodes\n",
    "                for k in k_nodes:\n",
    "                #print \"j = \", j, \"k=\", k\n",
    "                    sim_ik = sim[i][k]\n",
    "                    sim_jk = sim[j][k]\n",
    "                    if sim_ik > sim_jk:\n",
    "                        #print j,k, \"> \", i, k\n",
    "                        tree[k-1] = [j,k]\n",
    "                        #print tree\n",
    "            #print \"end iteration\", iteration, tree\n",
    "            #for i in range(len(tree)):\n",
    "            error = sum([sim[ii][jj] for ii,jj in tree])\n",
    "        printsorted(tree)\n",
    "make_tree_easy()"
   ]
  },
  {
   "cell_type": "code",
   "execution_count": null,
   "metadata": {
    "collapsed": true
   },
   "outputs": [],
   "source": [
    "tree = [[0, 1], [0, 2], [0, 3], [0, 4], [0, 5]]"
   ]
  },
  {
   "cell_type": "code",
   "execution_count": null,
   "metadata": {
    "collapsed": true
   },
   "outputs": [],
   "source": [
    "def printsorted(tree):\n",
    "    tree.sort()\n",
    "    tree_dict = {}\n",
    "    for i in range(len(tree)):\n",
    "        if tree[i][0] not in tree_dict:\n",
    "            tree_dict[tree[i][0]] = [tree[i][1]]\n",
    "        else:\n",
    "            tree_dict[tree[i][0]].append(tree[i][1])\n",
    "        \n",
    "    print tree_dict\n",
    "            "
   ]
  }
 ],
 "metadata": {
  "kernelspec": {
   "display_name": "Python 2",
   "language": "python",
   "name": "python2"
  },
  "language_info": {
   "codemirror_mode": {
    "name": "ipython",
    "version": 2
   },
   "file_extension": ".py",
   "mimetype": "text/x-python",
   "name": "python",
   "nbconvert_exporter": "python",
   "pygments_lexer": "ipython2",
   "version": "2.7.10"
  }
 },
 "nbformat": 4,
 "nbformat_minor": 0
}
