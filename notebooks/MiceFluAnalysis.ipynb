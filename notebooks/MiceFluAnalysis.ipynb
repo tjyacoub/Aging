{
 "cells": [
  {
   "cell_type": "code",
   "execution_count": 347,
   "metadata": {
    "collapsed": true
   },
   "outputs": [],
   "source": [
    "%matplotlib inline"
   ]
  },
  {
   "cell_type": "code",
   "execution_count": 348,
   "metadata": {
    "collapsed": true
   },
   "outputs": [],
   "source": [
    "import pandas as pd"
   ]
  },
  {
   "cell_type": "code",
   "execution_count": 349,
   "metadata": {
    "collapsed": true
   },
   "outputs": [],
   "source": [
    "import csv\n",
    "import matplotlib.pyplot as plt"
   ]
  },
  {
   "cell_type": "code",
   "execution_count": 350,
   "metadata": {
    "collapsed": false
   },
   "outputs": [],
   "source": [
    "df_ON_OF = pd.read_csv(\"ON_OF.txt\", sep='\\t')"
   ]
  },
  {
   "cell_type": "code",
   "execution_count": 351,
   "metadata": {
    "collapsed": true
   },
   "outputs": [],
   "source": [
    "df_YN_ON = pd.read_csv(\"YN_ON.txt\", sep='\\t')"
   ]
  },
  {
   "cell_type": "code",
   "execution_count": 352,
   "metadata": {
    "collapsed": true
   },
   "outputs": [],
   "source": [
    "df_YF_OF = pd.read_csv(\"YF_OF.txt\", sep='\\t')"
   ]
  },
  {
   "cell_type": "code",
   "execution_count": 353,
   "metadata": {
    "collapsed": true
   },
   "outputs": [],
   "source": [
    "df_YN_YF = pd.read_csv(\"YN_YF.txt\", sep='\\t')"
   ]
  },
  {
   "cell_type": "code",
   "execution_count": 354,
   "metadata": {
    "collapsed": false
   },
   "outputs": [
    {
     "name": "stdout",
     "output_type": "stream",
     "text": [
      "1203\n"
     ]
    },
    {
     "data": {
      "text/plain": [
       "845"
      ]
     },
     "execution_count": 354,
     "metadata": {},
     "output_type": "execute_result"
    }
   ],
   "source": [
    "print sum(df_ON_OF['up'])\n",
    "sum(df_ON_OF['dn'])"
   ]
  },
  {
   "cell_type": "code",
   "execution_count": 458,
   "metadata": {
    "collapsed": true
   },
   "outputs": [],
   "source": [
    "from scipy import stats"
   ]
  },
  {
   "cell_type": "code",
   "execution_count": 464,
   "metadata": {
    "collapsed": true
   },
   "outputs": [],
   "source": [
    "def t_test(df):\n",
    "    \n",
    "    n_samples1 = 4\n",
    "    n_samples2 = 4\n",
    "    \n",
    "    index1 = 6\n",
    "    index2 = index1 + n_samples1\n",
    "    \n",
    "    indices1 = [index1 + i for i in range(n_samples1)]\n",
    "    indices2 = [index2 + i for i in range(n_samples2)]\n",
    "    \n",
    "    values1 = [df[df.columns[i]] for i in indices1]\n",
    "    values2 = [df[df.columns[i]] for i in indices2]\n",
    "    \n",
    "    mean1 = sum(values1)/n_samples1\n",
    "    mean2 = sum(values2)/n_samples2\n",
    "    \n",
    "    var1_num = [(values1[i] - mean1)**2 for i in range(n_samples1)]\n",
    "    var2_num = [(values2[i] - mean2)**2 for i in range(n_samples2)]\n",
    "    \n",
    "    var1 = sum(var1_num)/(n_samples1 - 1)\n",
    "    var2 = sum(var2_num)/(n_samples2 - 1)\n",
    "    \n",
    "    t_stat = (mean1 - mean2) / (var1/n_samples1 + var2/n_samples2)**0.5\n",
    "    pval = stats.t.sf(np.abs(t_stat), n_samples1-1)*2 \n",
    "    \n",
    "    return pval"
   ]
  },
  {
   "cell_type": "code",
   "execution_count": 376,
   "metadata": {
    "collapsed": false
   },
   "outputs": [],
   "source": [
    "def fc_vs_P(df):\n",
    "    \n",
    "    df_fc_up = df[df['up'] == 1]\n",
    "    df_fc_up = df_fc_up[df_fc_up['logFC']>1.4]\n",
    "    \n",
    "    df_fc_dn = df[df['dn'] == 1]\n",
    "    df_fc_dn = df_fc_dn[df_fc_dn['logFC']<-1.4]\n",
    "    \n",
    "    df_pv_up = df[df['up'] == 1]\n",
    "    df_pv_up = df_pv_up[df_pv_up['logFC'] < 1.4]\n",
    "    #df_pv_up = df_pv_up[df_pv_up['logFC'] > -1.4]\n",
    "    \n",
    "    df_pv_dn = df[df['dn'] == 1]\n",
    "    #df_pv_dn = df_pv_dn[df_pv_dn['logFC'] < 1.4]\n",
    "    df_pv_dn = df_pv_dn[df_pv_dn['logFC'] > -1.4]\n",
    "\n",
    "    fc_up_genes = df_fc_up['gene']\n",
    "    fc_dn_genes = df_fc_dn['gene']\n",
    "    pv_up_genes = df_pv_up['gene']\n",
    "    pv_dn_genes = df_pv_dn['gene']\n",
    "    \n",
    "    n_up_fc = sum(df_fc_up.ix[:,'up'])\n",
    "    n_dn_fc = sum(df_fc_dn.ix[:,'dn'])\n",
    "    n_up_pv = sum(df_pv_up.ix[:,'up'])\n",
    "    n_dn_pv = sum(df_pv_dn.ix[:,'dn'])\n",
    "\n",
    "    return [fc_up_genes, fc_dn_genes, pv_up_genes, pv_dn_genes]\n"
   ]
  },
  {
   "cell_type": "code",
   "execution_count": 377,
   "metadata": {
    "collapsed": false
   },
   "outputs": [],
   "source": [
    "dfs = [df_YN_YF, df_ON_OF] \n",
    "dfres = [[] for i in range(4)]\n",
    "for i in range(len(dfs)): #df in dfs:\n",
    "    df_genes = fc_vs_P(dfs[i])\n",
    "    for j in range(4):\n",
    "        dfres[j].append(df_genes[j])\n",
    "\n",
    "temp = [[] for i in range(4)]\n",
    "genes_shared_ct = temp\n",
    "\n",
    "for k in range(len(dfres)):\n",
    "\n",
    "    inter = intersect(dfres[k][0],dfres[k][1])\n",
    "    n0 = len(dfres[k][0])\n",
    "    n1 = len(dfres[k][1])\n",
    "    ns = len(inter)\n",
    "    \n",
    "    genes_shared_ct[k] = [n0, round(float(ns)/n0,3), n1, round(float(ns)/n1,3), ns]\n",
    "    #gene_totals[k] = [len(dfres[k][0]),len(dfres[k][1])] \n",
    "                      #genes_unique[k] = unique(dfres[k][0],dfres[k][1])\n",
    "    #gene_ratios[k] = len(genes_union"
   ]
  },
  {
   "cell_type": "code",
   "execution_count": 475,
   "metadata": {
    "collapsed": false
   },
   "outputs": [
    {
     "name": "stdout",
     "output_type": "stream",
     "text": [
      "FC up\n",
      "[316, 0.782, 326, 0.758, 247]\n",
      "FC down\n",
      "[44, 0.136, 58, 0.103, 6]\n",
      "PV up\n",
      "[618, 0.684, 877, 0.482, 423]\n",
      "PV down\n",
      "[577, 0.56, 787, 0.41, 323]\n"
     ]
    }
   ],
   "source": [
    "names = [\"FC up\", \"FC down\", \"PV up\", \"PV down\"]\n",
    "for i in range(4):\n",
    "    print names[i]\n",
    "    print genes_shared_ct[i] #\".2f\"% genes_shared_ct[i][1] "
   ]
  },
  {
   "cell_type": "code",
   "execution_count": 372,
   "metadata": {
    "collapsed": false
   },
   "outputs": [
    {
     "data": {
      "text/plain": [
       "[<matplotlib.lines.Line2D at 0x11756da50>]"
      ]
     },
     "execution_count": 372,
     "metadata": {},
     "output_type": "execute_result"
    },
    {
     "data": {
      "image/png": "[encoded data removed]",
      "text/plain": [
       "<matplotlib.figure.Figure at 0x11ccca590>"
      ]
     },
     "metadata": {},
     "output_type": "display_data"
    }
   ],
   "source": [
    "plt.plot([0.6, 0.2, 0.6, 0.5])"
   ]
  },
  {
   "cell_type": "code",
   "execution_count": 261,
   "metadata": {
    "collapsed": false
   },
   "outputs": [],
   "source": [
    "def unique(a, b):\n",
    "    return list(set(a) != set(b))\n",
    "def intersect(a, b):\n",
    "    return list(set(a) & set(b))\n",
    "def union(a, b):\n",
    "    return list(set(a) | set(b))"
   ]
  },
  {
   "cell_type": "code",
   "execution_count": 98,
   "metadata": {
    "collapsed": false
   },
   "outputs": [],
   "source": [
    "df_ON = df_ON_OF[[19,6,7,8,9]];"
   ]
  },
  {
   "cell_type": "code",
   "execution_count": 99,
   "metadata": {
    "collapsed": true
   },
   "outputs": [],
   "source": [
    "df_OF = df_ON_OF[[19,10,11,12,13]]"
   ]
  },
  {
   "cell_type": "code",
   "execution_count": 100,
   "metadata": {
    "collapsed": false
   },
   "outputs": [],
   "source": [
    "df_YN = df_YN_ON[[19,6,7,8,9]]"
   ]
  },
  {
   "cell_type": "code",
   "execution_count": 101,
   "metadata": {
    "collapsed": true
   },
   "outputs": [],
   "source": [
    "df_YF = df_YN_YF[[19,10,11,12,13]]"
   ]
  },
  {
   "cell_type": "code",
   "execution_count": 102,
   "metadata": {
    "collapsed": false
   },
   "outputs": [],
   "source": [
    "dft = pd.merge(df_ON, df_OF, how='outer', on='gene')"
   ]
  },
  {
   "cell_type": "code",
   "execution_count": 103,
   "metadata": {
    "collapsed": false
   },
   "outputs": [],
   "source": [
    "dft = pd.merge(dft, df_YN, how='outer', on='gene')"
   ]
  },
  {
   "cell_type": "code",
   "execution_count": 104,
   "metadata": {
    "collapsed": true
   },
   "outputs": [],
   "source": [
    "dft = pd.merge(dft, df_YF, how='outer', on='gene')"
   ]
  },
  {
   "cell_type": "code",
   "execution_count": 107,
   "metadata": {
    "collapsed": false
   },
   "outputs": [],
   "source": [
    "dft.dropna(thresh=(2), axis=0);"
   ]
  },
  {
   "cell_type": "code",
   "execution_count": 108,
   "metadata": {
    "collapsed": false
   },
   "outputs": [],
   "source": [
    "dft = dft[pd.notnull(dft).all(axis=1)]"
   ]
  },
  {
   "cell_type": "code",
   "execution_count": 109,
   "metadata": {
    "collapsed": true
   },
   "outputs": [],
   "source": [
    "import math\n",
    "import numpy as np"
   ]
  },
  {
   "cell_type": "code",
   "execution_count": 144,
   "metadata": {
    "collapsed": false
   },
   "outputs": [
    {
     "data": {
      "text/plain": [
       "190820.36254290395"
      ]
     },
     "execution_count": 144,
     "metadata": {},
     "output_type": "execute_result"
    }
   ],
   "source": [
    "sum(dft.ix[:,1])"
   ]
  },
  {
   "cell_type": "code",
   "execution_count": 142,
   "metadata": {
    "collapsed": false
   },
   "outputs": [
    {
     "data": {
      "text/plain": [
       "'Gnai3'"
      ]
     },
     "execution_count": 142,
     "metadata": {},
     "output_type": "execute_result"
    }
   ],
   "source": [
    "dft.ix[:,0][0]"
   ]
  },
  {
   "cell_type": "code",
   "execution_count": 143,
   "metadata": {
    "collapsed": false
   },
   "outputs": [
    {
     "data": {
      "text/plain": [
       "14514"
      ]
     },
     "execution_count": 143,
     "metadata": {},
     "output_type": "execute_result"
    }
   ],
   "source": [
    "len(dft.ix[:,1])"
   ]
  },
  {
   "cell_type": "code",
   "execution_count": 138,
   "metadata": {
    "collapsed": false
   },
   "outputs": [
    {
     "name": "stdout",
     "output_type": "stream",
     "text": [
      "AT2.old.naive.20150416.1\n",
      "['AT2.old.naive.20150416.1', 0, 0, 0]\n",
      "['AT2.old.naive.20150416.2', 341, 136, 205]\n",
      "['AT2.old.naive.20150416.3', 205, 122, 83]\n",
      "['AT2.old.naive.20150416.4', 220, 103, 117]\n",
      "['AT2.old.flu.20150416.1', 512, 261, 251]\n",
      "['AT2.old.flu.20150416.2', 540, 309, 231]\n",
      "['AT2.old.flu.20150416.3', 569, 354, 215]\n",
      "['AT2.old.flu.20150416.4', 551, 273, 278]\n",
      "['AT2.young.naive.20150416.1', 480, 251, 229]\n",
      "['AT2.young.naive.20150416.2', 454, 151, 303]\n",
      "['AT2.young.naive.20150416.3', 683, 242, 441]\n",
      "['AT2.young.naive.20150416.4', 527, 237, 290]\n",
      "['AT2.young.flu.20150416.1', 648, 427, 221]\n",
      "['AT2.young.flu.20150416.2', 706, 349, 357]\n",
      "['AT2.young.flu.20150416.3', 613, 293, 320]\n",
      "['AT2.young.flu.20150416.4', 928, 360, 568]\n",
      "AT2.old.flu.20150416.1\n",
      "['AT2.old.naive.20150416.1', 499, 160, 339]\n",
      "['AT2.old.naive.20150416.2', 499, 181, 318]\n",
      "['AT2.old.naive.20150416.3', 414, 191, 223]\n",
      "['AT2.old.naive.20150416.4', 394, 131, 263]\n",
      "['AT2.old.flu.20150416.1', 0, 0, 0]\n",
      "['AT2.old.flu.20150416.2', 192, 71, 121]\n",
      "['AT2.old.flu.20150416.3', 216, 106, 110]\n",
      "['AT2.old.flu.20150416.4', 298, 68, 230]\n",
      "['AT2.young.naive.20150416.1', 579, 245, 334]\n",
      "['AT2.young.naive.20150416.2', 548, 154, 394]\n",
      "['AT2.young.naive.20150416.3', 730, 221, 509]\n",
      "['AT2.young.naive.20150416.4', 537, 173, 364]\n",
      "['AT2.young.flu.20150416.1', 422, 261, 161]\n",
      "['AT2.young.flu.20150416.2', 350, 135, 215]\n",
      "['AT2.young.flu.20150416.3', 359, 115, 244]\n",
      "['AT2.young.flu.20150416.4', 538, 140, 398]\n",
      "AT2.young.naive.20150416.1\n",
      "['AT2.old.naive.20150416.1', 497, 171, 326]\n",
      "['AT2.old.naive.20150416.2', 446, 174, 272]\n",
      "['AT2.old.naive.20150416.3', 337, 176, 161]\n",
      "['AT2.old.naive.20150416.4', 400, 154, 246]\n",
      "['AT2.old.flu.20150416.1', 609, 281, 328]\n",
      "['AT2.old.flu.20150416.2', 618, 316, 302]\n",
      "['AT2.old.flu.20150416.3', 666, 379, 287]\n",
      "['AT2.old.flu.20150416.4', 720, 306, 414]\n",
      "['AT2.young.naive.20150416.1', 0, 0, 0]\n",
      "['AT2.young.naive.20150416.2', 302, 46, 256]\n",
      "['AT2.young.naive.20150416.3', 490, 87, 403]\n",
      "['AT2.young.naive.20150416.4', 291, 66, 225]\n",
      "['AT2.young.flu.20150416.1', 509, 318, 191]\n",
      "['AT2.young.flu.20150416.2', 679, 283, 396]\n",
      "['AT2.young.flu.20150416.3', 568, 247, 321]\n",
      "['AT2.young.flu.20150416.4', 855, 268, 587]\n",
      "AT2.young.flu.20150416.1\n",
      "['AT2.old.naive.20150416.1', 672, 165, 507]\n",
      "['AT2.old.naive.20150416.2', 600, 156, 444]\n",
      "['AT2.old.naive.20150416.3', 546, 215, 331]\n",
      "['AT2.old.naive.20150416.4', 605, 157, 448]\n",
      "['AT2.old.flu.20150416.1', 459, 108, 351]\n",
      "['AT2.old.flu.20150416.2', 400, 115, 285]\n",
      "['AT2.old.flu.20150416.3', 345, 118, 227]\n",
      "['AT2.old.flu.20150416.4', 457, 95, 362]\n",
      "['AT2.young.naive.20150416.1', 516, 138, 378]\n",
      "['AT2.young.naive.20150416.2', 603, 127, 476]\n",
      "['AT2.young.naive.20150416.3', 782, 184, 598]\n",
      "['AT2.young.naive.20150416.4', 597, 160, 437]\n",
      "['AT2.young.flu.20150416.1', 0, 0, 0]\n",
      "['AT2.young.flu.20150416.2', 263, 46, 217]\n",
      "['AT2.young.flu.20150416.3', 254, 36, 218]\n",
      "['AT2.young.flu.20150416.4', 484, 54, 430]\n"
     ]
    }
   ],
   "source": [
    "ncols = len(dft.columns)\n",
    "gene_names = dft.ix[:,0]\n",
    "for i in range(1, ncols, 4):   #ncols):\n",
    "    sample1_name = dft.columns[i]\n",
    "    sample_list = []\n",
    "    sample1 = dft.ix[:,i]\n",
    "    for j in range(1, ncols):\n",
    "        \n",
    "        sample2_name = dft.columns[j]\n",
    "        \n",
    "        sample2 = dft.ix[:,j]\n",
    "        #print sample1[0], sample2[0]\n",
    "        logfc = np.log(sample2/sample1)\n",
    "        logfc = logfc[logfc < 100]\n",
    "        upreg = len(logfc[logfc > 1.4])\n",
    "        downreg = len(logfc[logfc < -1.4])\n",
    "        #print sample1_name, sample2_name, upreg, downreg\n",
    "        dist = upreg + downreg\n",
    "        regratio = upreg - downreg\n",
    "        sample_list.append([sample2_name, dist, upreg, downreg])\n",
    "        \n",
    "    print sample1_name\n",
    "    for n in sample_list:\n",
    "        print n\n",
    "    #print sample_list\n",
    "#        print sample1/sample2"
   ]
  },
  {
   "cell_type": "code",
   "execution_count": 125,
   "metadata": {
    "collapsed": false
   },
   "outputs": [
    {
     "data": {
      "text/plain": [
       "[5, 1, 2, 3]"
      ]
     },
     "execution_count": 125,
     "metadata": {},
     "output_type": "execute_result"
    }
   ],
   "source": [
    "l = [1,2,3]\n",
    "l.insert(0, 5)\n",
    "l"
   ]
  },
  {
   "cell_type": "code",
   "execution_count": 114,
   "metadata": {
    "collapsed": false
   },
   "outputs": [
    {
     "data": {
      "text/plain": [
       "91"
      ]
     },
     "execution_count": 114,
     "metadata": {},
     "output_type": "execute_result"
    }
   ],
   "source": [
    "\n",
    "logfc = np.log(fc) \n",
    "logfc = logfc[logfc < 100]\n",
    "logfc = logfc[logfc > 1.4]\n",
    "len(logfc)\n",
    "#np.log(fc)[100 > np.log(fc) > 1]"
   ]
  },
  {
   "cell_type": "code",
   "execution_count": 60,
   "metadata": {
    "collapsed": false
   },
   "outputs": [
    {
     "data": {
      "text/html": [
       "<div>\n",
       "<table border=\"1\" class=\"dataframe\">\n",
       "  <thead>\n",
       "    <tr style=\"text-align: right;\">\n",
       "      <th></th>\n",
       "      <th>AT2.old.naive.20150416.1</th>\n",
       "      <th>AT2.old.naive.20150416.4</th>\n",
       "    </tr>\n",
       "  </thead>\n",
       "  <tbody>\n",
       "    <tr>\n",
       "      <th>0</th>\n",
       "      <td>3.416110</td>\n",
       "      <td>3.308861</td>\n",
       "    </tr>\n",
       "    <tr>\n",
       "      <th>1</th>\n",
       "      <td>0.097670</td>\n",
       "      <td>0.074135</td>\n",
       "    </tr>\n",
       "    <tr>\n",
       "      <th>3</th>\n",
       "      <td>0.894176</td>\n",
       "      <td>0.843899</td>\n",
       "    </tr>\n",
       "    <tr>\n",
       "      <th>4</th>\n",
       "      <td>10.409801</td>\n",
       "      <td>10.361103</td>\n",
       "    </tr>\n",
       "    <tr>\n",
       "      <th>5</th>\n",
       "      <td>47.013339</td>\n",
       "      <td>45.876615</td>\n",
       "    </tr>\n",
       "    <tr>\n",
       "      <th>6</th>\n",
       "      <td>0.268831</td>\n",
       "      <td>0.288828</td>\n",
       "    </tr>\n",
       "    <tr>\n",
       "      <th>7</th>\n",
       "      <td>4.265999</td>\n",
       "      <td>3.849834</td>\n",
       "    </tr>\n",
       "    <tr>\n",
       "      <th>8</th>\n",
       "      <td>0.983380</td>\n",
       "      <td>1.244032</td>\n",
       "    </tr>\n",
       "    <tr>\n",
       "      <th>9</th>\n",
       "      <td>0.114189</td>\n",
       "      <td>0.090050</td>\n",
       "    </tr>\n",
       "    <tr>\n",
       "      <th>10</th>\n",
       "      <td>0.032568</td>\n",
       "      <td>0.070629</td>\n",
       "    </tr>\n",
       "    <tr>\n",
       "      <th>11</th>\n",
       "      <td>0.138844</td>\n",
       "      <td>0.188192</td>\n",
       "    </tr>\n",
       "    <tr>\n",
       "      <th>12</th>\n",
       "      <td>0.043019</td>\n",
       "      <td>0.057622</td>\n",
       "    </tr>\n",
       "    <tr>\n",
       "      <th>13</th>\n",
       "      <td>0.445935</td>\n",
       "      <td>0.581604</td>\n",
       "    </tr>\n",
       "    <tr>\n",
       "      <th>14</th>\n",
       "      <td>2.460973</td>\n",
       "      <td>2.694939</td>\n",
       "    </tr>\n",
       "    <tr>\n",
       "      <th>15</th>\n",
       "      <td>0.495973</td>\n",
       "      <td>0.526825</td>\n",
       "    </tr>\n",
       "    <tr>\n",
       "      <th>16</th>\n",
       "      <td>0.707494</td>\n",
       "      <td>1.301848</td>\n",
       "    </tr>\n",
       "    <tr>\n",
       "      <th>17</th>\n",
       "      <td>0.838329</td>\n",
       "      <td>1.252234</td>\n",
       "    </tr>\n",
       "    <tr>\n",
       "      <th>18</th>\n",
       "      <td>1.046351</td>\n",
       "      <td>0.912892</td>\n",
       "    </tr>\n",
       "    <tr>\n",
       "      <th>19</th>\n",
       "      <td>0.231060</td>\n",
       "      <td>0.109614</td>\n",
       "    </tr>\n",
       "    <tr>\n",
       "      <th>20</th>\n",
       "      <td>0.276274</td>\n",
       "      <td>0.326066</td>\n",
       "    </tr>\n",
       "    <tr>\n",
       "      <th>21</th>\n",
       "      <td>1.484144</td>\n",
       "      <td>1.565814</td>\n",
       "    </tr>\n",
       "    <tr>\n",
       "      <th>22</th>\n",
       "      <td>2.033481</td>\n",
       "      <td>2.271389</td>\n",
       "    </tr>\n",
       "    <tr>\n",
       "      <th>23</th>\n",
       "      <td>9.801169</td>\n",
       "      <td>8.182030</td>\n",
       "    </tr>\n",
       "    <tr>\n",
       "      <th>24</th>\n",
       "      <td>2.279670</td>\n",
       "      <td>2.300079</td>\n",
       "    </tr>\n",
       "    <tr>\n",
       "      <th>25</th>\n",
       "      <td>0.971380</td>\n",
       "      <td>0.973806</td>\n",
       "    </tr>\n",
       "    <tr>\n",
       "      <th>27</th>\n",
       "      <td>1.332025</td>\n",
       "      <td>1.434535</td>\n",
       "    </tr>\n",
       "    <tr>\n",
       "      <th>28</th>\n",
       "      <td>0.316454</td>\n",
       "      <td>0.308828</td>\n",
       "    </tr>\n",
       "    <tr>\n",
       "      <th>29</th>\n",
       "      <td>0.250948</td>\n",
       "      <td>0.278591</td>\n",
       "    </tr>\n",
       "    <tr>\n",
       "      <th>30</th>\n",
       "      <td>4.462292</td>\n",
       "      <td>3.880476</td>\n",
       "    </tr>\n",
       "    <tr>\n",
       "      <th>31</th>\n",
       "      <td>0.534962</td>\n",
       "      <td>0.506249</td>\n",
       "    </tr>\n",
       "    <tr>\n",
       "      <th>...</th>\n",
       "      <td>...</td>\n",
       "      <td>...</td>\n",
       "    </tr>\n",
       "    <tr>\n",
       "      <th>15070</th>\n",
       "      <td>4749.779853</td>\n",
       "      <td>4910.264321</td>\n",
       "    </tr>\n",
       "    <tr>\n",
       "      <th>15071</th>\n",
       "      <td>1.267737</td>\n",
       "      <td>0.687326</td>\n",
       "    </tr>\n",
       "    <tr>\n",
       "      <th>15072</th>\n",
       "      <td>2.703530</td>\n",
       "      <td>0.771456</td>\n",
       "    </tr>\n",
       "    <tr>\n",
       "      <th>15074</th>\n",
       "      <td>0.011546</td>\n",
       "      <td>0.050081</td>\n",
       "    </tr>\n",
       "    <tr>\n",
       "      <th>15075</th>\n",
       "      <td>0.713102</td>\n",
       "      <td>0.927890</td>\n",
       "    </tr>\n",
       "    <tr>\n",
       "      <th>15076</th>\n",
       "      <td>0.005785</td>\n",
       "      <td>0.007840</td>\n",
       "    </tr>\n",
       "    <tr>\n",
       "      <th>15077</th>\n",
       "      <td>18.784157</td>\n",
       "      <td>12.220986</td>\n",
       "    </tr>\n",
       "    <tr>\n",
       "      <th>15078</th>\n",
       "      <td>0.085697</td>\n",
       "      <td>0.232311</td>\n",
       "    </tr>\n",
       "    <tr>\n",
       "      <th>15079</th>\n",
       "      <td>1.990696</td>\n",
       "      <td>3.777515</td>\n",
       "    </tr>\n",
       "    <tr>\n",
       "      <th>15080</th>\n",
       "      <td>0.245780</td>\n",
       "      <td>0.586316</td>\n",
       "    </tr>\n",
       "    <tr>\n",
       "      <th>15081</th>\n",
       "      <td>0.430738</td>\n",
       "      <td>0.269460</td>\n",
       "    </tr>\n",
       "    <tr>\n",
       "      <th>15082</th>\n",
       "      <td>0.508602</td>\n",
       "      <td>0.661794</td>\n",
       "    </tr>\n",
       "    <tr>\n",
       "      <th>15083</th>\n",
       "      <td>12.573885</td>\n",
       "      <td>10.225723</td>\n",
       "    </tr>\n",
       "    <tr>\n",
       "      <th>15084</th>\n",
       "      <td>7.069014</td>\n",
       "      <td>6.051454</td>\n",
       "    </tr>\n",
       "    <tr>\n",
       "      <th>15085</th>\n",
       "      <td>25.887410</td>\n",
       "      <td>25.263550</td>\n",
       "    </tr>\n",
       "    <tr>\n",
       "      <th>15086</th>\n",
       "      <td>1.986748</td>\n",
       "      <td>2.476207</td>\n",
       "    </tr>\n",
       "    <tr>\n",
       "      <th>15087</th>\n",
       "      <td>4.267836</td>\n",
       "      <td>4.978350</td>\n",
       "    </tr>\n",
       "    <tr>\n",
       "      <th>15088</th>\n",
       "      <td>1.214651</td>\n",
       "      <td>1.016992</td>\n",
       "    </tr>\n",
       "    <tr>\n",
       "      <th>15090</th>\n",
       "      <td>1.359089</td>\n",
       "      <td>0.000000</td>\n",
       "    </tr>\n",
       "    <tr>\n",
       "      <th>15091</th>\n",
       "      <td>0.192948</td>\n",
       "      <td>0.418440</td>\n",
       "    </tr>\n",
       "    <tr>\n",
       "      <th>15092</th>\n",
       "      <td>0.279462</td>\n",
       "      <td>0.255892</td>\n",
       "    </tr>\n",
       "    <tr>\n",
       "      <th>15093</th>\n",
       "      <td>0.806440</td>\n",
       "      <td>0.874451</td>\n",
       "    </tr>\n",
       "    <tr>\n",
       "      <th>15094</th>\n",
       "      <td>235.428104</td>\n",
       "      <td>260.714360</td>\n",
       "    </tr>\n",
       "    <tr>\n",
       "      <th>15095</th>\n",
       "      <td>1.005325</td>\n",
       "      <td>0.622919</td>\n",
       "    </tr>\n",
       "    <tr>\n",
       "      <th>15096</th>\n",
       "      <td>0.277532</td>\n",
       "      <td>0.085982</td>\n",
       "    </tr>\n",
       "    <tr>\n",
       "      <th>15097</th>\n",
       "      <td>0.133765</td>\n",
       "      <td>0.058018</td>\n",
       "    </tr>\n",
       "    <tr>\n",
       "      <th>15098</th>\n",
       "      <td>1.038193</td>\n",
       "      <td>0.716385</td>\n",
       "    </tr>\n",
       "    <tr>\n",
       "      <th>15100</th>\n",
       "      <td>33.914882</td>\n",
       "      <td>33.710486</td>\n",
       "    </tr>\n",
       "    <tr>\n",
       "      <th>15101</th>\n",
       "      <td>0.504118</td>\n",
       "      <td>0.404033</td>\n",
       "    </tr>\n",
       "    <tr>\n",
       "      <th>15102</th>\n",
       "      <td>0.394284</td>\n",
       "      <td>0.438786</td>\n",
       "    </tr>\n",
       "  </tbody>\n",
       "</table>\n",
       "<p>14514 rows × 2 columns</p>\n",
       "</div>"
      ],
      "text/plain": [
       "       AT2.old.naive.20150416.1  AT2.old.naive.20150416.4\n",
       "0                      3.416110                  3.308861\n",
       "1                      0.097670                  0.074135\n",
       "3                      0.894176                  0.843899\n",
       "4                     10.409801                 10.361103\n",
       "5                     47.013339                 45.876615\n",
       "6                      0.268831                  0.288828\n",
       "7                      4.265999                  3.849834\n",
       "8                      0.983380                  1.244032\n",
       "9                      0.114189                  0.090050\n",
       "10                     0.032568                  0.070629\n",
       "11                     0.138844                  0.188192\n",
       "12                     0.043019                  0.057622\n",
       "13                     0.445935                  0.581604\n",
       "14                     2.460973                  2.694939\n",
       "15                     0.495973                  0.526825\n",
       "16                     0.707494                  1.301848\n",
       "17                     0.838329                  1.252234\n",
       "18                     1.046351                  0.912892\n",
       "19                     0.231060                  0.109614\n",
       "20                     0.276274                  0.326066\n",
       "21                     1.484144                  1.565814\n",
       "22                     2.033481                  2.271389\n",
       "23                     9.801169                  8.182030\n",
       "24                     2.279670                  2.300079\n",
       "25                     0.971380                  0.973806\n",
       "27                     1.332025                  1.434535\n",
       "28                     0.316454                  0.308828\n",
       "29                     0.250948                  0.278591\n",
       "30                     4.462292                  3.880476\n",
       "31                     0.534962                  0.506249\n",
       "...                         ...                       ...\n",
       "15070               4749.779853               4910.264321\n",
       "15071                  1.267737                  0.687326\n",
       "15072                  2.703530                  0.771456\n",
       "15074                  0.011546                  0.050081\n",
       "15075                  0.713102                  0.927890\n",
       "15076                  0.005785                  0.007840\n",
       "15077                 18.784157                 12.220986\n",
       "15078                  0.085697                  0.232311\n",
       "15079                  1.990696                  3.777515\n",
       "15080                  0.245780                  0.586316\n",
       "15081                  0.430738                  0.269460\n",
       "15082                  0.508602                  0.661794\n",
       "15083                 12.573885                 10.225723\n",
       "15084                  7.069014                  6.051454\n",
       "15085                 25.887410                 25.263550\n",
       "15086                  1.986748                  2.476207\n",
       "15087                  4.267836                  4.978350\n",
       "15088                  1.214651                  1.016992\n",
       "15090                  1.359089                  0.000000\n",
       "15091                  0.192948                  0.418440\n",
       "15092                  0.279462                  0.255892\n",
       "15093                  0.806440                  0.874451\n",
       "15094                235.428104                260.714360\n",
       "15095                  1.005325                  0.622919\n",
       "15096                  0.277532                  0.085982\n",
       "15097                  0.133765                  0.058018\n",
       "15098                  1.038193                  0.716385\n",
       "15100                 33.914882                 33.710486\n",
       "15101                  0.504118                  0.404033\n",
       "15102                  0.394284                  0.438786\n",
       "\n",
       "[14514 rows x 2 columns]"
      ]
     },
     "execution_count": 60,
     "metadata": {},
     "output_type": "execute_result"
    }
   ],
   "source": [
    "dft.ix[:,(1,4)]"
   ]
  },
  {
   "cell_type": "code",
   "execution_count": null,
   "metadata": {
    "collapsed": true
   },
   "outputs": [],
   "source": [
    "dfs = [df_ON, df_OF, df_YN, df_YF]"
   ]
  },
  {
   "cell_type": "code",
   "execution_count": null,
   "metadata": {
    "collapsed": false
   },
   "outputs": [],
   "source": [
    "len(df_ON)"
   ]
  },
  {
   "cell_type": "code",
   "execution_count": null,
   "metadata": {
    "collapsed": false
   },
   "outputs": [],
   "source": [
    "def make_tree(dfs):\n",
    "    ndf = len(dfs)\n",
    "    mat\n",
    "    for df1_ind in range(ndf):\n",
    "        for df2_ind in range(df1_ind+1,ndf):\n",
    "            merged_df = pd.merge(dfs[df1_ind], dfs[df2_ind], how = 'outer', on='gene')\n",
    "            \n",
    "            #merged_df['ratio'] = float(merged_df[[1]]) #sum(float(merged_df[[1,2,3,4]]))\n",
    "            #for gene_ind in range(len(merged_df)):\n",
    "        ### GET ratios\n",
    "                \n",
    "        ### GET SIMILARITY\n",
    "        ### [ YN [1, 0.4, 0.8. 0.7],\n",
    "        ###   ON [0.6, 1, 0.9, 0.2],\n",
    "        ###   YF [0.4, 0.3, 1, 0.6],\n",
    "        ###   OF [0.3, 0.9, 0.1, 1]]\n",
    "        \n",
    "        ### TREE FIGURE\n",
    "        ###      YF (2)\n",
    "        ###     /\n",
    "        ###  YN(1)- ON(3)- OF(4)\n",
    "        \n",
    "        ###  [[1,2],[1,3],[3,4]]\n",
    "        \n",
    "        ### START WITH\n",
    "        ### [[1,2],[1,3],[1,4]]\n",
    "        ### [1-2] 0.3\n",
    "        ### [1-3] 0.8\n",
    "        ### [1-4] 0.5\n",
    "        ### Then go to 2\n",
    "        ### [2-1] 0.3 (ok)\n",
    "        ### [2-3] 0.9 (>[1-3], change)\n",
    "                    ### [[1,2],[2,3],[1,4]]\n",
    "        ### [2-4] 0.2 (<[1-4], no change)\n",
    "        ### On to 3...\n",
    "        ### [3-1] 0.3 (ok)\n",
    "        ### [3-2] 0.1 (<[1-3], no change)\n",
    "        ### [3-4] 0.9 (>[1-4], change\n",
    "                    ### [[1,2],[1,3],[3,4]])\n",
    "        \n",
    "        ### [1-3] ok\n",
    "        sim = [[random.random() for i in range(ndf)] for j in range(ndf)]\n",
    "        for i in range(ndf):\n",
    "            ## Initialize tree starting with i\n",
    "            tree = []\n",
    "            for j in range(ndf):\n",
    "                tree[j] = [i,j]\n",
    "                #similarity_matrix sim\n",
    "                \n",
    "                \n",
    "            for j in range(ndf):\n",
    "                sim_ij = sim[i,j]\n",
    "                for k in range(ndf):\n",
    "                    sim_ik = sim[i,k]\n",
    "                    if sim_ik > sim_ij:\n",
    "                        tree[j] = [i,k]\n",
    "                    \n",
    "                \n",
    "                \n",
    "    \n",
    "    #return merged_df\n",
    "        \n",
    "            \n",
    "make_tree(dfs);"
   ]
  },
  {
   "cell_type": "code",
   "execution_count": 1,
   "metadata": {
    "collapsed": false
   },
   "outputs": [],
   "source": [
    "import random\n",
    "ndf = 4\n",
    "sim = [[random.random() for i in range(ndf)] for j in range(ndf)]"
   ]
  },
  {
   "cell_type": "code",
   "execution_count": null,
   "metadata": {
    "collapsed": false
   },
   "outputs": [],
   "source": [
    "sim[2][3]"
   ]
  },
  {
   "cell_type": "code",
   "execution_count": 16,
   "metadata": {
    "collapsed": false
   },
   "outputs": [
    {
     "name": "stdout",
     "output_type": "stream",
     "text": [
      "2.43375728697\n",
      "{0: [9], 8: [3, 4], 5: [1], 6: [2], 9: [5, 6, 7, 8]}\n",
      "3.05063194328\n",
      "{8: [2, 9], 1: [0], 3: [7], 9: [3, 5, 6, 8], 7: [4]}\n",
      "2.55725908136\n",
      "{8: [3, 5], 9: [0, 6, 7, 8], 2: [0, 1, 4]}\n",
      "2.77380068303\n",
      "{8: [4, 9], 9: [1, 5, 6, 8], 3: [2, 7], 6: [2]}\n",
      "2.08813976117\n",
      "{8: [3, 5, 9], 9: [6, 8], 3: [7], 4: [1, 3], 5: [1]}\n",
      "2.28974163779\n",
      "{8: [2, 3, 9], 9: [6, 7, 8], 2: [1, 4], 5: [4]}\n",
      "3.59076686783\n",
      "{8: [3, 4], 9: [0, 5, 7, 8], 4: [2], 5: [1], 6: [5]}\n",
      "3.33739106913\n",
      "{8: [9], 9: [3, 5, 8], 5: [4], 6: [1, 2], 7: [5, 6]}\n",
      "3.8889433135\n",
      "{8: [2, 4, 7], 9: [1, 6, 7], 5: [0], 7: [2, 4]}\n",
      "3.10973953185\n",
      "{8: [0, 2, 3, 4, 5], 9: [7], 4: [7], 7: [1, 6]}\n"
     ]
    }
   ],
   "source": [
    "def make_tree2():\n",
    "    ndf = 10\n",
    "    sim = [[random.random() for i in range(ndf)] for j in range(ndf)]\n",
    "    nodes = [i for i in range(ndf)]\n",
    "    for i in range(ndf):\n",
    "        #print \"begin\", i\n",
    "            ## Initialize tree starting with i\n",
    "        tree = []# [0 for x in range(ndf-1)]\n",
    "        \n",
    "        j_nodes = [z for z in range(ndf)]\n",
    "        j_nodes.remove(i)\n",
    "        for j in j_nodes: \n",
    "            tree.append([i,j])\n",
    "                #similarity_matrix sim\n",
    "                \n",
    "        n_iters = 1\n",
    "        for iteration in range(n_iters):\n",
    "            \n",
    "            #print tree\n",
    "        #print \"j_nodes\",j_nodes\n",
    "            for j in j_nodes:\n",
    "            #print tree\n",
    "                sim_ij = sim[i][j]\n",
    "            \n",
    "                k_nodes = [z for z in range(ndf)]\n",
    "                k_nodes.remove(j)\n",
    "                k_nodes.remove(i)\n",
    "                #print \"k_nodes\", k_nodes\n",
    "                for k in k_nodes:\n",
    "                #print \"j = \", j, \"k=\", k\n",
    "                    sim_ik = sim[i][k]\n",
    "                    sim_jk = sim[j][k]\n",
    "                    if sim_ik > sim_jk:\n",
    "                        #print j,k, \"> \", i, k\n",
    "                        tree[k-1] = [j,k]\n",
    "                        #print tree\n",
    "            #print \"end iteration\", iteration, tree\n",
    "            #for i in range(len(tree)):\n",
    "            print sum([sim[ii][jj] for ii,jj in tree])\n",
    "        printsorted(tree)\n",
    "make_tree2()"
   ]
  },
  {
   "cell_type": "code",
   "execution_count": 16,
   "metadata": {
    "collapsed": false
   },
   "outputs": [
    {
     "name": "stdout",
     "output_type": "stream",
     "text": [
      "2.43375728697\n",
      "{0: [9], 8: [3, 4], 5: [1], 6: [2], 9: [5, 6, 7, 8]}\n",
      "3.05063194328\n",
      "{8: [2, 9], 1: [0], 3: [7], 9: [3, 5, 6, 8], 7: [4]}\n",
      "2.55725908136\n",
      "{8: [3, 5], 9: [0, 6, 7, 8], 2: [0, 1, 4]}\n",
      "2.77380068303\n",
      "{8: [4, 9], 9: [1, 5, 6, 8], 3: [2, 7], 6: [2]}\n",
      "2.08813976117\n",
      "{8: [3, 5, 9], 9: [6, 8], 3: [7], 4: [1, 3], 5: [1]}\n",
      "2.28974163779\n",
      "{8: [2, 3, 9], 9: [6, 7, 8], 2: [1, 4], 5: [4]}\n",
      "3.59076686783\n",
      "{8: [3, 4], 9: [0, 5, 7, 8], 4: [2], 5: [1], 6: [5]}\n",
      "3.33739106913\n",
      "{8: [9], 9: [3, 5, 8], 5: [4], 6: [1, 2], 7: [5, 6]}\n",
      "3.8889433135\n",
      "{8: [2, 4, 7], 9: [1, 6, 7], 5: [0], 7: [2, 4]}\n",
      "3.10973953185\n",
      "{8: [0, 2, 3, 4, 5], 9: [7], 4: [7], 7: [1, 6]}\n"
     ]
    }
   ],
   "source": [
    "def make_tree_rand():\n",
    "    ndf = 10\n",
    "    sim = [[random.random() for i in range(ndf)] for j in range(ndf)]\n",
    "    seq = [i for i in range(ndf)]\n",
    "\n",
    "    nodes = [random.choice() for i in range(ndf)]\n",
    "    n_iter = 10\n",
    "    \n",
    "    ### Initialize tree\n",
    "    tree = []# [0 for x in range(ndf-1)]\n",
    "    \n",
    "    j_nodes = [z for z in range(ndf)]\n",
    "    j_nodes.remove(i)\n",
    "    for j in j_nodes: \n",
    "        tree.append([i,j])\n",
    "                #similarity_matrix sim\n",
    "    for i in range(n_iter):\n",
    "        #print \"begin\", i\n",
    "            ## Initialize tree starting with i\n",
    "\n",
    "                \n",
    "        n_iters = 1\n",
    "        for iteration in range(n_iters):\n",
    "            \n",
    "            #print tree\n",
    "        #print \"j_nodes\",j_nodes\n",
    "            for j in j_nodes:\n",
    "            #print tree\n",
    "                sim_ij = sim[i][j]\n",
    "            \n",
    "                k_nodes = [z for z in range(ndf)]\n",
    "                k_nodes.remove(j)\n",
    "                k_nodes.remove(i)\n",
    "                #print \"k_nodes\", k_nodes\n",
    "                for k in k_nodes:\n",
    "                #print \"j = \", j, \"k=\", k\n",
    "                    sim_ik = sim[i][k]\n",
    "                    sim_jk = sim[j][k]\n",
    "                    if sim_ik > sim_jk:\n",
    "                        #print j,k, \"> \", i, k\n",
    "                        tree[k-1] = [j,k]\n",
    "                        #print tree\n",
    "            #print \"end iteration\", iteration, tree\n",
    "            #for i in range(len(tree)):\n",
    "            error = sum([sim[ii][jj] for ii,jj in tree])\n",
    "        printsorted(tree)\n",
    "make_tree_rand()"
   ]
  },
  {
   "cell_type": "code",
   "execution_count": 16,
   "metadata": {
    "collapsed": false
   },
   "outputs": [
    {
     "name": "stdout",
     "output_type": "stream",
     "text": [
      "2.43375728697\n",
      "{0: [9], 8: [3, 4], 5: [1], 6: [2], 9: [5, 6, 7, 8]}\n",
      "3.05063194328\n",
      "{8: [2, 9], 1: [0], 3: [7], 9: [3, 5, 6, 8], 7: [4]}\n",
      "2.55725908136\n",
      "{8: [3, 5], 9: [0, 6, 7, 8], 2: [0, 1, 4]}\n",
      "2.77380068303\n",
      "{8: [4, 9], 9: [1, 5, 6, 8], 3: [2, 7], 6: [2]}\n",
      "2.08813976117\n",
      "{8: [3, 5, 9], 9: [6, 8], 3: [7], 4: [1, 3], 5: [1]}\n",
      "2.28974163779\n",
      "{8: [2, 3, 9], 9: [6, 7, 8], 2: [1, 4], 5: [4]}\n",
      "3.59076686783\n",
      "{8: [3, 4], 9: [0, 5, 7, 8], 4: [2], 5: [1], 6: [5]}\n",
      "3.33739106913\n",
      "{8: [9], 9: [3, 5, 8], 5: [4], 6: [1, 2], 7: [5, 6]}\n",
      "3.8889433135\n",
      "{8: [2, 4, 7], 9: [1, 6, 7], 5: [0], 7: [2, 4]}\n",
      "3.10973953185\n",
      "{8: [0, 2, 3, 4, 5], 9: [7], 4: [7], 7: [1, 6]}\n"
     ]
    }
   ],
   "source": [
    "def make_tree_easy():\n",
    "    ndf = 10\n",
    "    sim = [[random.random() for i in range(ndf)] for j in range(ndf)]\n",
    "    seq = [i for i in range(ndf)]\n",
    "\n",
    "    nodes = [random.choice() for i in range(ndf)]\n",
    "    n_iter = 10\n",
    "    \n",
    "    ### Initialize tree\n",
    "    tree = []# [0 for x in range(ndf-1)]\n",
    "    \n",
    "    j_nodes = [z for z in range(ndf)]\n",
    "    j_nodes.remove(i)\n",
    "    for j in j_nodes: \n",
    "        tree.append([i,j])\n",
    "                #similarity_matrix sim\n",
    "    for i in range(n_iter):\n",
    "        #print \"begin\", i\n",
    "            ## Initialize tree starting with i\n",
    "\n",
    "                \n",
    "        n_iters = 1\n",
    "        for iteration in range(n_iters):\n",
    "            \n",
    "            #print tree\n",
    "        #print \"j_nodes\",j_nodes\n",
    "            for j in j_nodes:\n",
    "            #print tree\n",
    "                sim_ij = sim[i][j]\n",
    "            \n",
    "                k_nodes = [z for z in range(ndf)]\n",
    "                k_nodes.remove(j)\n",
    "                k_nodes.remove(i)\n",
    "                #print \"k_nodes\", k_nodes\n",
    "                for k in k_nodes:\n",
    "                #print \"j = \", j, \"k=\", k\n",
    "                    sim_ik = sim[i][k]\n",
    "                    sim_jk = sim[j][k]\n",
    "                    if sim_ik > sim_jk:\n",
    "                        #print j,k, \"> \", i, k\n",
    "                        tree[k-1] = [j,k]\n",
    "                        #print tree\n",
    "            #print \"end iteration\", iteration, tree\n",
    "            #for i in range(len(tree)):\n",
    "            error = sum([sim[ii][jj] for ii,jj in tree])\n",
    "        printsorted(tree)\n",
    "make_tree_easy()"
   ]
  },
  {
   "cell_type": "code",
   "execution_count": null,
   "metadata": {
    "collapsed": true
   },
   "outputs": [],
   "source": [
    "tree = [[0, 1], [0, 2], [0, 3], [0, 4], [0, 5]]"
   ]
  },
  {
   "cell_type": "code",
   "execution_count": null,
   "metadata": {
    "collapsed": false
   },
   "outputs": [],
   "source": [
    "[i+j for i,j in tree]"
   ]
  },
  {
   "cell_type": "code",
   "execution_count": 3,
   "metadata": {
    "collapsed": true
   },
   "outputs": [],
   "source": [
    "def printsorted(tree):\n",
    "    tree.sort()\n",
    "    tree_dict = {}\n",
    "    for i in range(len(tree)):\n",
    "        if tree[i][0] not in tree_dict:\n",
    "            tree_dict[tree[i][0]] = [tree[i][1]]\n",
    "        else:\n",
    "            tree_dict[tree[i][0]].append(tree[i][1])\n",
    "        \n",
    "    print tree_dict\n",
    "            "
   ]
  },
  {
   "cell_type": "code",
   "execution_count": null,
   "metadata": {
    "collapsed": false
   },
   "outputs": [],
   "source": [
    "t = [[3, 1], [1, 2], [0, 3], [0, 4], [3, 5]]"
   ]
  },
  {
   "cell_type": "code",
   "execution_count": null,
   "metadata": {
    "collapsed": false
   },
   "outputs": [],
   "source": [
    "t.sort"
   ]
  },
  {
   "cell_type": "code",
   "execution_count": null,
   "metadata": {
    "collapsed": false
   },
   "outputs": [],
   "source": [
    "t"
   ]
  },
  {
   "cell_type": "code",
   "execution_count": null,
   "metadata": {
    "collapsed": false
   },
   "outputs": [],
   "source": [
    "for i in t.remove(1):\n",
    "    print t"
   ]
  },
  {
   "cell_type": "code",
   "execution_count": null,
   "metadata": {
    "collapsed": false
   },
   "outputs": [],
   "source": [
    "sim"
   ]
  },
  {
   "cell_type": "code",
   "execution_count": null,
   "metadata": {
    "collapsed": false
   },
   "outputs": [],
   "source": [
    "tdf = df_OF"
   ]
  },
  {
   "cell_type": "code",
   "execution_count": null,
   "metadata": {
    "collapsed": false
   },
   "outputs": [],
   "source": [
    "tdf[1:2]"
   ]
  },
  {
   "cell_type": "code",
   "execution_count": null,
   "metadata": {
    "collapsed": false
   },
   "outputs": [],
   "source": [
    "tdf[1:2][[1,2,3,4]]"
   ]
  },
  {
   "cell_type": "code",
   "execution_count": null,
   "metadata": {
    "collapsed": false
   },
   "outputs": [],
   "source": [
    "col.apply("
   ]
  },
  {
   "cell_type": "code",
   "execution_count": null,
   "metadata": {
    "collapsed": false
   },
   "outputs": [],
   "source": [
    "float(tdf[[1]][0])"
   ]
  },
  {
   "cell_type": "code",
   "execution_count": null,
   "metadata": {
    "collapsed": false
   },
   "outputs": [],
   "source": [
    "tdf.append(tdf[[1]])"
   ]
  },
  {
   "cell_type": "code",
   "execution_count": null,
   "metadata": {
    "collapsed": true
   },
   "outputs": [],
   "source": []
  },
  {
   "cell_type": "code",
   "execution_count": null,
   "metadata": {
    "collapsed": true
   },
   "outputs": [],
   "source": []
  },
  {
   "cell_type": "code",
   "execution_count": null,
   "metadata": {
    "collapsed": true
   },
   "outputs": [],
   "source": []
  },
  {
   "cell_type": "code",
   "execution_count": null,
   "metadata": {
    "collapsed": true
   },
   "outputs": [],
   "source": []
  },
  {
   "cell_type": "code",
   "execution_count": null,
   "metadata": {
    "collapsed": true
   },
   "outputs": [],
   "source": []
  },
  {
   "cell_type": "code",
   "execution_count": null,
   "metadata": {
    "collapsed": true
   },
   "outputs": [],
   "source": []
  },
  {
   "cell_type": "code",
   "execution_count": null,
   "metadata": {
    "collapsed": true
   },
   "outputs": [],
   "source": []
  },
  {
   "cell_type": "code",
   "execution_count": null,
   "metadata": {
    "collapsed": true
   },
   "outputs": [],
   "source": []
  }
 ],
 "metadata": {
  "kernelspec": {
   "display_name": "Python 2",
   "language": "python",
   "name": "python2"
  },
  "language_info": {
   "codemirror_mode": {
    "name": "ipython",
    "version": 2
   },
   "file_extension": ".py",
   "mimetype": "text/x-python",
   "name": "python",
   "nbconvert_exporter": "python",
   "pygments_lexer": "ipython2",
   "version": "2.7.10"
  }
 },
 "nbformat": 4,
 "nbformat_minor": 0
}
