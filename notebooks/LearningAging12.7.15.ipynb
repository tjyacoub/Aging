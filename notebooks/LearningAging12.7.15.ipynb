{
 "cells": [
  {
   "cell_type": "code",
   "execution_count": 3,
   "metadata": {
    "collapsed": true
   },
   "outputs": [],
   "source": [
    "%matplotlib inline"
   ]
  },
  {
   "cell_type": "code",
   "execution_count": 4,
   "metadata": {
    "collapsed": true
   },
   "outputs": [],
   "source": [
    "import pandas as pd\n",
    "import sklearn\n",
    "from sklearn import datasets\n",
    "from sklearn.decomposition import PCA\n",
    "from sklearn.discriminant_analysis import LinearDiscriminantAnalysis\n",
    "from sklearn.ensemble import RandomForestClassifier"
   ]
  },
  {
   "cell_type": "code",
   "execution_count": 5,
   "metadata": {
    "collapsed": true
   },
   "outputs": [],
   "source": [
    "import csv\n",
    "import matplotlib.pyplot as plt"
   ]
  },
  {
   "cell_type": "code",
   "execution_count": 6,
   "metadata": {
    "collapsed": true
   },
   "outputs": [],
   "source": [
    "from scipy import stats\n",
    "from GENIE3 import genie3"
   ]
  },
  {
   "cell_type": "code",
   "execution_count": 7,
   "metadata": {
    "collapsed": true
   },
   "outputs": [],
   "source": [
    "import math\n",
    "import numpy as np"
   ]
  },
  {
   "cell_type": "code",
   "execution_count": 8,
   "metadata": {
    "collapsed": false
   },
   "outputs": [],
   "source": [
    "data = pd.read_csv(\"data.txt\", sep='\\t')"
   ]
  },
  {
   "cell_type": "code",
   "execution_count": 63,
   "metadata": {
    "collapsed": false
   },
   "outputs": [
    {
     "data": {
      "text/plain": [
       "array([[ 0.60468,  0.12317,  0.32879, ...,  0.64963,  0.61408,  0.74818],\n",
       "       [ 0.     ,  0.37268,  0.26433, ...,  0.77452,  0.62115,  0.7197 ],\n",
       "       [ 0.73311,  0.     ,  0.37716, ...,  0.67872,  0.73501,  0.79226],\n",
       "       ..., \n",
       "       [ 0.56031,  0.13884,  0.24338, ...,  0.64677,  0.81392,  0.71953],\n",
       "       [ 0.609  ,  0.09411,  0.30785, ...,  0.57984,  0.7055 ,  0.67859],\n",
       "       [ 0.64678,  0.11538,  0.39315, ...,  0.74542,  0.63727,  0.74057]])"
      ]
     },
     "execution_count": 63,
     "metadata": {},
     "output_type": "execute_result"
    }
   ],
   "source": [
    "np.array(data)"
   ]
  },
  {
   "cell_type": "code",
   "execution_count": 11,
   "metadata": {
    "collapsed": false
   },
   "outputs": [
    {
     "name": "stdout",
     "output_type": "stream",
     "text": [
      "Gene 1...\n",
      "Tree method = Random Forests, K = 3, 1000 trees\n",
      "Gene 2...\n",
      "Tree method = Random Forests, K = 3, 1000 trees\n",
      "Gene 3...\n",
      "Tree method = Random Forests, K = 3, 1000 trees\n",
      "Gene 4...\n",
      "Tree method = Random Forests, K = 3, 1000 trees\n",
      "Gene 5...\n",
      "Tree method = Random Forests, K = 3, 1000 trees\n",
      "Gene 6...\n",
      "Tree method = Random Forests, K = 3, 1000 trees\n",
      "Gene 7...\n",
      "Tree method = Random Forests, K = 3, 1000 trees\n",
      "Gene 8...\n",
      "Tree method = Random Forests, K = 3, 1000 trees\n",
      "Gene 9...\n",
      "Tree method = Random Forests, K = 3, 1000 trees\n",
      "Gene 10...\n",
      "Tree method = Random Forests, K = 3, 1000 trees\n",
      "Elapsed time: 21.92 seconds\n"
     ]
    },
    {
     "data": {
      "text/plain": [
       "array([[ 0.        ,  0.13520584,  0.10148614,  0.10991175,  0.52727673,\n",
       "         0.064757  ,  0.08615774,  0.06791289,  0.05626558,  0.07371522],\n",
       "       [ 0.13424927,  0.        ,  0.0926412 ,  0.0466063 ,  0.10628035,\n",
       "         0.19659059,  0.09325545,  0.25235984,  0.0733239 ,  0.05080055],\n",
       "       [ 0.04963206,  0.07592162,  0.        ,  0.18576697,  0.03343877,\n",
       "         0.05520043,  0.1624665 ,  0.02680755,  0.08031882,  0.09233655],\n",
       "       [ 0.05190897,  0.03962404,  0.18764729,  0.        ,  0.06607186,\n",
       "         0.05681209,  0.1292282 ,  0.02865352,  0.06101971,  0.14943411],\n",
       "       [ 0.51169093,  0.09559578,  0.08480445,  0.13184565,  0.        ,\n",
       "         0.08372588,  0.08387151,  0.05696533,  0.20274577,  0.12433897],\n",
       "       [ 0.03711675,  0.18975081,  0.08006628,  0.0604105 ,  0.05396546,\n",
       "         0.        ,  0.06617852,  0.38941144,  0.05120523,  0.05499035],\n",
       "       [ 0.04905031,  0.17698247,  0.14949862,  0.21056942,  0.05188963,\n",
       "         0.0742986 ,  0.        ,  0.08970875,  0.2129028 ,  0.08025974],\n",
       "       [ 0.06981416,  0.17067241,  0.08698311,  0.05884001,  0.07500406,\n",
       "         0.37163313,  0.0659498 ,  0.        ,  0.06478706,  0.055262  ],\n",
       "       [ 0.04246138,  0.05711876,  0.1299412 ,  0.09388022,  0.04115937,\n",
       "         0.0450894 ,  0.2401966 ,  0.04936522,  0.        ,  0.32293372],\n",
       "       [ 0.04860309,  0.05329734,  0.07731077,  0.09552825,  0.03646334,\n",
       "         0.04599381,  0.06229666,  0.03409759,  0.19260364,  0.        ]])"
      ]
     },
     "execution_count": 11,
     "metadata": {},
     "output_type": "execute_result"
    }
   ],
   "source": [
    "genie3(np.array(data))"
   ]
  },
  {
   "cell_type": "code",
   "execution_count": 14,
   "metadata": {
    "collapsed": false
   },
   "outputs": [],
   "source": [
    "vim = np.array([[ 0.        ,  0.13520584,  0.10148614,  0.10991175,  0.52727673,\n",
    "         0.064757  ,  0.08615774,  0.06791289,  0.05626558,  0.07371522],\n",
    "       [ 0.13424927,  0.        ,  0.0926412 ,  0.0466063 ,  0.10628035,\n",
    "         0.19659059,  0.09325545,  0.25235984,  0.0733239 ,  0.05080055],\n",
    "       [ 0.04963206,  0.07592162,  0.        ,  0.18576697,  0.03343877,\n",
    "         0.05520043,  0.1624665 ,  0.02680755,  0.08031882,  0.09233655],\n",
    "       [ 0.05190897,  0.03962404,  0.18764729,  0.        ,  0.06607186,\n",
    "         0.05681209,  0.1292282 ,  0.02865352,  0.06101971,  0.14943411],\n",
    "       [ 0.51169093,  0.09559578,  0.08480445,  0.13184565,  0.        ,\n",
    "         0.08372588,  0.08387151,  0.05696533,  0.20274577,  0.12433897],\n",
    "       [ 0.03711675,  0.18975081,  0.08006628,  0.0604105 ,  0.05396546,\n",
    "         0.        ,  0.06617852,  0.38941144,  0.05120523,  0.05499035],\n",
    "       [ 0.04905031,  0.17698247,  0.14949862,  0.21056942,  0.05188963,\n",
    "         0.0742986 ,  0.        ,  0.08970875,  0.2129028 ,  0.08025974],\n",
    "       [ 0.06981416,  0.17067241,  0.08698311,  0.05884001,  0.07500406,\n",
    "         0.37163313,  0.0659498 ,  0.        ,  0.06478706,  0.055262  ],\n",
    "       [ 0.04246138,  0.05711876,  0.1299412 ,  0.09388022,  0.04115937,\n",
    "         0.0450894 ,  0.2401966 ,  0.04936522,  0.        ,  0.32293372],\n",
    "       [ 0.04860309,  0.05329734,  0.07731077,  0.09552825,  0.03646334,\n",
    "         0.04599381,  0.06229666,  0.03409759,  0.19260364,  0.        ]])"
   ]
  },
  {
   "cell_type": "code",
   "execution_count": 57,
   "metadata": {
    "collapsed": false
   },
   "outputs": [],
   "source": [
    "sums = sorted([sum(x)/len(x) for x in vim])"
   ]
  },
  {
   "cell_type": "code",
   "execution_count": 60,
   "metadata": {
    "collapsed": false
   },
   "outputs": [],
   "source": [
    "s = sorted([len(x) for x in vim])"
   ]
  },
  {
   "cell_type": "code",
   "execution_count": 61,
   "metadata": {
    "collapsed": false
   },
   "outputs": [
    {
     "data": {
      "text/plain": [
       "[10, 10, 10, 10, 10, 10, 10, 10, 10, 10]"
      ]
     },
     "execution_count": 61,
     "metadata": {},
     "output_type": "execute_result"
    }
   ],
   "source": [
    "s"
   ]
  },
  {
   "cell_type": "code",
   "execution_count": 58,
   "metadata": {
    "collapsed": false
   },
   "outputs": [
    {
     "data": {
      "text/plain": [
       "[0.064619449000000009,\n",
       " 0.07618892699999999,\n",
       " 0.077039978999999995,\n",
       " 0.098309534000000004,\n",
       " 0.10189457399999999,\n",
       " 0.10221458700000001,\n",
       " 0.104610745,\n",
       " 0.10951603400000001,\n",
       " 0.12226888899999999,\n",
       " 0.13755842700000001]"
      ]
     },
     "execution_count": 58,
     "metadata": {},
     "output_type": "execute_result"
    }
   ],
   "source": [
    "sums"
   ]
  },
  {
   "cell_type": "code",
   "execution_count": 59,
   "metadata": {
    "collapsed": false
   },
   "outputs": [
    {
     "data": {
      "image/png": "[encoded data removed]",
      "text/plain": [
       "<matplotlib.figure.Figure at 0x10a59d710>"
      ]
     },
     "metadata": {},
     "output_type": "display_data"
    }
   ],
   "source": [
    "fit = stats.norm.pdf(sums, np.mean(sums), np.std(sums))  #this is a fitting indeed\n",
    "\n",
    "plt.plot(sums,fit,'-o')\n",
    "\n",
    "plt.hist(sums,normed=True)      #use this to draw histogram of your data\n",
    "\n",
    "plt.show()"
   ]
  },
  {
   "cell_type": "code",
   "execution_count": 12,
   "metadata": {
    "collapsed": false
   },
   "outputs": [
    {
     "data": {
      "text/plain": [
       "Index([u'TBX3', u'GATA5', u'ZNF394', u'CDH17', u'XRCC2', u'CD93', u'OSR2',\n",
       "       u'CREB5', u'CD19', u'RAD51'],\n",
       "      dtype='object')"
      ]
     },
     "execution_count": 12,
     "metadata": {},
     "output_type": "execute_result"
    }
   ],
   "source": [
    "data.columns"
   ]
  },
  {
   "cell_type": "code",
   "execution_count": 21,
   "metadata": {
    "collapsed": false
   },
   "outputs": [],
   "source": [
    "df_ON_OF = pd.read_csv(\"ON_OF.txt\", sep='\\t')"
   ]
  },
  {
   "cell_type": "code",
   "execution_count": 22,
   "metadata": {
    "collapsed": true
   },
   "outputs": [],
   "source": [
    "df_YN_ON = pd.read_csv(\"YN_ON.txt\", sep='\\t')"
   ]
  },
  {
   "cell_type": "code",
   "execution_count": 23,
   "metadata": {
    "collapsed": true
   },
   "outputs": [],
   "source": [
    "df_YF_OF = pd.read_csv(\"YF_OF.txt\", sep='\\t')"
   ]
  },
  {
   "cell_type": "code",
   "execution_count": 24,
   "metadata": {
    "collapsed": true
   },
   "outputs": [],
   "source": [
    "df_YN_YF = pd.read_csv(\"YN_YF.txt\", sep='\\t')"
   ]
  },
  {
   "cell_type": "code",
   "execution_count": 25,
   "metadata": {
    "collapsed": true
   },
   "outputs": [],
   "source": [
    "df_ON = df_ON_OF[[19,4,6,7,8,9]];"
   ]
  },
  {
   "cell_type": "code",
   "execution_count": 26,
   "metadata": {
    "collapsed": true
   },
   "outputs": [],
   "source": [
    "df_OF = df_ON_OF[[19,4,10,11,12,13]]"
   ]
  },
  {
   "cell_type": "code",
   "execution_count": 27,
   "metadata": {
    "collapsed": true
   },
   "outputs": [],
   "source": [
    "df_YN = df_YN_ON[[19,4,6,7,8,9]]"
   ]
  },
  {
   "cell_type": "code",
   "execution_count": 28,
   "metadata": {
    "collapsed": true
   },
   "outputs": [],
   "source": [
    "df_YF = df_YN_YF[[19,4,10,11,12,13]]"
   ]
  },
  {
   "cell_type": "code",
   "execution_count": 29,
   "metadata": {
    "collapsed": false
   },
   "outputs": [
    {
     "data": {
      "text/plain": [
       "array([['Gnai3', 38867, 3.4161097363591004, 3.00989349608415,\n",
       "        2.9853047376093196, 3.30886112772713],\n",
       "       ['Cdc45', 31541, 0.0976697564883281, 0.0406094756907656,\n",
       "        0.0699040154343686, 0.0741346792206221],\n",
       "       ['Apoh', 71043, 0.0, 0.0180294113813105, 0.0155176621962433,\n",
       "        0.0235097246667274],\n",
       "       ..., \n",
       "       ['RP23-138F21.1', 29690, 0.394283826194468, 0.5752165590041259,\n",
       "        0.43628999616169, 0.438786483061194],\n",
       "       ['AC110903.1', 96, 6.41792039457991, 8.89488522751693,\n",
       "        2.8708887380409105, 13.9183447458193],\n",
       "       ['ZNRD1-AS1_2', 76, 8.1068468142062, 16.853466746874197, 0.0,\n",
       "        4.395266761837671]], dtype=object)"
      ]
     },
     "execution_count": 29,
     "metadata": {},
     "output_type": "execute_result"
    }
   ],
   "source": [
    "np.array(df_ON)"
   ]
  },
  {
   "cell_type": "code",
   "execution_count": 68,
   "metadata": {
    "collapsed": false
   },
   "outputs": [
    {
     "data": {
      "text/html": [
       "<div>\n",
       "<table border=\"1\" class=\"dataframe\">\n",
       "  <thead>\n",
       "    <tr style=\"text-align: right;\">\n",
       "      <th></th>\n",
       "      <th>gene</th>\n",
       "      <th>width</th>\n",
       "      <th>AT2.old.naive.20150416.1</th>\n",
       "      <th>AT2.old.naive.20150416.2</th>\n",
       "      <th>AT2.old.naive.20150416.3</th>\n",
       "      <th>AT2.old.naive.20150416.4</th>\n",
       "    </tr>\n",
       "  </thead>\n",
       "  <tbody>\n",
       "    <tr>\n",
       "      <th>0</th>\n",
       "      <td>Gnai3</td>\n",
       "      <td>38867</td>\n",
       "      <td>3.416110</td>\n",
       "      <td>3.009893</td>\n",
       "      <td>2.985305</td>\n",
       "      <td>3.308861</td>\n",
       "    </tr>\n",
       "    <tr>\n",
       "      <th>1</th>\n",
       "      <td>Cdc45</td>\n",
       "      <td>31541</td>\n",
       "      <td>0.097670</td>\n",
       "      <td>0.040609</td>\n",
       "      <td>0.069904</td>\n",
       "      <td>0.074135</td>\n",
       "    </tr>\n",
       "    <tr>\n",
       "      <th>2</th>\n",
       "      <td>Apoh</td>\n",
       "      <td>71043</td>\n",
       "      <td>0.000000</td>\n",
       "      <td>0.018029</td>\n",
       "      <td>0.015518</td>\n",
       "      <td>0.023510</td>\n",
       "    </tr>\n",
       "    <tr>\n",
       "      <th>3</th>\n",
       "      <td>Narf</td>\n",
       "      <td>18604</td>\n",
       "      <td>0.894176</td>\n",
       "      <td>0.757337</td>\n",
       "      <td>0.607386</td>\n",
       "      <td>0.843899</td>\n",
       "    </tr>\n",
       "    <tr>\n",
       "      <th>4</th>\n",
       "      <td>Cav2</td>\n",
       "      <td>7931</td>\n",
       "      <td>10.409801</td>\n",
       "      <td>10.497557</td>\n",
       "      <td>11.710880</td>\n",
       "      <td>10.361103</td>\n",
       "    </tr>\n",
       "    <tr>\n",
       "      <th>5</th>\n",
       "      <td>Klf6</td>\n",
       "      <td>8905</td>\n",
       "      <td>47.013339</td>\n",
       "      <td>41.137221</td>\n",
       "      <td>44.567283</td>\n",
       "      <td>45.876615</td>\n",
       "    </tr>\n",
       "    <tr>\n",
       "      <th>6</th>\n",
       "      <td>Scmh1</td>\n",
       "      <td>124906</td>\n",
       "      <td>0.268831</td>\n",
       "      <td>0.266620</td>\n",
       "      <td>0.266987</td>\n",
       "      <td>0.288828</td>\n",
       "    </tr>\n",
       "    <tr>\n",
       "      <th>7</th>\n",
       "      <td>Cox5a</td>\n",
       "      <td>11193</td>\n",
       "      <td>4.265999</td>\n",
       "      <td>3.509320</td>\n",
       "      <td>3.594959</td>\n",
       "      <td>3.849834</td>\n",
       "    </tr>\n",
       "    <tr>\n",
       "      <th>8</th>\n",
       "      <td>Tbx2</td>\n",
       "      <td>9398</td>\n",
       "      <td>0.983380</td>\n",
       "      <td>1.362911</td>\n",
       "      <td>1.700905</td>\n",
       "      <td>1.244032</td>\n",
       "    </tr>\n",
       "    <tr>\n",
       "      <th>9</th>\n",
       "      <td>Tbx4</td>\n",
       "      <td>29676</td>\n",
       "      <td>0.114189</td>\n",
       "      <td>0.215808</td>\n",
       "      <td>0.204317</td>\n",
       "      <td>0.090050</td>\n",
       "    </tr>\n",
       "    <tr>\n",
       "      <th>10</th>\n",
       "      <td>Ngfr</td>\n",
       "      <td>18918</td>\n",
       "      <td>0.032568</td>\n",
       "      <td>0.090275</td>\n",
       "      <td>0.058274</td>\n",
       "      <td>0.070629</td>\n",
       "    </tr>\n",
       "    <tr>\n",
       "      <th>11</th>\n",
       "      <td>Wnt9a</td>\n",
       "      <td>26625</td>\n",
       "      <td>0.138844</td>\n",
       "      <td>0.176394</td>\n",
       "      <td>0.186325</td>\n",
       "      <td>0.188192</td>\n",
       "    </tr>\n",
       "    <tr>\n",
       "      <th>12</th>\n",
       "      <td>Fer</td>\n",
       "      <td>243477</td>\n",
       "      <td>0.043019</td>\n",
       "      <td>0.054361</td>\n",
       "      <td>0.044146</td>\n",
       "      <td>0.057622</td>\n",
       "    </tr>\n",
       "    <tr>\n",
       "      <th>13</th>\n",
       "      <td>Xpo6</td>\n",
       "      <td>98787</td>\n",
       "      <td>0.445935</td>\n",
       "      <td>0.514314</td>\n",
       "      <td>0.418484</td>\n",
       "      <td>0.581604</td>\n",
       "    </tr>\n",
       "    <tr>\n",
       "      <th>14</th>\n",
       "      <td>Tfe3</td>\n",
       "      <td>12643</td>\n",
       "      <td>2.460973</td>\n",
       "      <td>3.073073</td>\n",
       "      <td>2.288900</td>\n",
       "      <td>2.694939</td>\n",
       "    </tr>\n",
       "    <tr>\n",
       "      <th>15</th>\n",
       "      <td>Axin2</td>\n",
       "      <td>30435</td>\n",
       "      <td>0.495973</td>\n",
       "      <td>0.687392</td>\n",
       "      <td>0.507110</td>\n",
       "      <td>0.526825</td>\n",
       "    </tr>\n",
       "    <tr>\n",
       "      <th>16</th>\n",
       "      <td>Brat1</td>\n",
       "      <td>14369</td>\n",
       "      <td>0.707494</td>\n",
       "      <td>1.366825</td>\n",
       "      <td>0.901486</td>\n",
       "      <td>1.301848</td>\n",
       "    </tr>\n",
       "    <tr>\n",
       "      <th>17</th>\n",
       "      <td>Gna12</td>\n",
       "      <td>72024</td>\n",
       "      <td>0.838329</td>\n",
       "      <td>1.037391</td>\n",
       "      <td>0.872459</td>\n",
       "      <td>1.252234</td>\n",
       "    </tr>\n",
       "    <tr>\n",
       "      <th>18</th>\n",
       "      <td>Slc22a18</td>\n",
       "      <td>25614</td>\n",
       "      <td>1.046351</td>\n",
       "      <td>0.783433</td>\n",
       "      <td>0.882316</td>\n",
       "      <td>0.912892</td>\n",
       "    </tr>\n",
       "    <tr>\n",
       "      <th>19</th>\n",
       "      <td>Itgb2l</td>\n",
       "      <td>21332</td>\n",
       "      <td>0.231060</td>\n",
       "      <td>0.140103</td>\n",
       "      <td>0.155038</td>\n",
       "      <td>0.109614</td>\n",
       "    </tr>\n",
       "    <tr>\n",
       "      <th>20</th>\n",
       "      <td>Igsf5</td>\n",
       "      <td>163913</td>\n",
       "      <td>0.276274</td>\n",
       "      <td>0.294338</td>\n",
       "      <td>0.277433</td>\n",
       "      <td>0.326066</td>\n",
       "    </tr>\n",
       "    <tr>\n",
       "      <th>21</th>\n",
       "      <td>Pih1d2</td>\n",
       "      <td>7680</td>\n",
       "      <td>1.484144</td>\n",
       "      <td>1.223047</td>\n",
       "      <td>1.578989</td>\n",
       "      <td>1.565814</td>\n",
       "    </tr>\n",
       "    <tr>\n",
       "      <th>22</th>\n",
       "      <td>Dlat</td>\n",
       "      <td>25148</td>\n",
       "      <td>2.033481</td>\n",
       "      <td>1.799633</td>\n",
       "      <td>1.983639</td>\n",
       "      <td>2.271389</td>\n",
       "    </tr>\n",
       "    <tr>\n",
       "      <th>23</th>\n",
       "      <td>Sdhd</td>\n",
       "      <td>7512</td>\n",
       "      <td>9.801169</td>\n",
       "      <td>9.377994</td>\n",
       "      <td>8.475084</td>\n",
       "      <td>8.182030</td>\n",
       "    </tr>\n",
       "    <tr>\n",
       "      <th>24</th>\n",
       "      <td>Ccnd2</td>\n",
       "      <td>25270</td>\n",
       "      <td>2.279670</td>\n",
       "      <td>1.317865</td>\n",
       "      <td>2.224910</td>\n",
       "      <td>2.300079</td>\n",
       "    </tr>\n",
       "    <tr>\n",
       "      <th>25</th>\n",
       "      <td>Gpr107</td>\n",
       "      <td>67233</td>\n",
       "      <td>0.971380</td>\n",
       "      <td>1.016059</td>\n",
       "      <td>0.959226</td>\n",
       "      <td>0.973806</td>\n",
       "    </tr>\n",
       "    <tr>\n",
       "      <th>26</th>\n",
       "      <td>Btbd17</td>\n",
       "      <td>4729</td>\n",
       "      <td>0.130286</td>\n",
       "      <td>0.180569</td>\n",
       "      <td>0.174839</td>\n",
       "      <td>0.141273</td>\n",
       "    </tr>\n",
       "    <tr>\n",
       "      <th>27</th>\n",
       "      <td>Scnn1g</td>\n",
       "      <td>33997</td>\n",
       "      <td>1.332025</td>\n",
       "      <td>1.419121</td>\n",
       "      <td>1.386255</td>\n",
       "      <td>1.434535</td>\n",
       "    </tr>\n",
       "    <tr>\n",
       "      <th>28</th>\n",
       "      <td>Gmpr</td>\n",
       "      <td>38939</td>\n",
       "      <td>0.316454</td>\n",
       "      <td>0.405694</td>\n",
       "      <td>0.346816</td>\n",
       "      <td>0.308828</td>\n",
       "    </tr>\n",
       "    <tr>\n",
       "      <th>29</th>\n",
       "      <td>Mid2</td>\n",
       "      <td>103117</td>\n",
       "      <td>0.250948</td>\n",
       "      <td>0.236008</td>\n",
       "      <td>0.304693</td>\n",
       "      <td>0.278591</td>\n",
       "    </tr>\n",
       "    <tr>\n",
       "      <th>...</th>\n",
       "      <td>...</td>\n",
       "      <td>...</td>\n",
       "      <td>...</td>\n",
       "      <td>...</td>\n",
       "      <td>...</td>\n",
       "      <td>...</td>\n",
       "    </tr>\n",
       "    <tr>\n",
       "      <th>14861</th>\n",
       "      <td>Snhg6</td>\n",
       "      <td>2160</td>\n",
       "      <td>0.713102</td>\n",
       "      <td>0.988321</td>\n",
       "      <td>1.020760</td>\n",
       "      <td>0.927890</td>\n",
       "    </tr>\n",
       "    <tr>\n",
       "      <th>14862</th>\n",
       "      <td>RP23-304I16.1</td>\n",
       "      <td>213023</td>\n",
       "      <td>0.005785</td>\n",
       "      <td>0.004009</td>\n",
       "      <td>0.007763</td>\n",
       "      <td>0.007840</td>\n",
       "    </tr>\n",
       "    <tr>\n",
       "      <th>14863</th>\n",
       "      <td>mmu-mir-130c</td>\n",
       "      <td>82</td>\n",
       "      <td>18.784157</td>\n",
       "      <td>15.620286</td>\n",
       "      <td>13.444162</td>\n",
       "      <td>12.220986</td>\n",
       "    </tr>\n",
       "    <tr>\n",
       "      <th>14864</th>\n",
       "      <td>RP24-288C12.6</td>\n",
       "      <td>14379</td>\n",
       "      <td>0.085697</td>\n",
       "      <td>0.148465</td>\n",
       "      <td>0.210839</td>\n",
       "      <td>0.232311</td>\n",
       "    </tr>\n",
       "    <tr>\n",
       "      <th>14865</th>\n",
       "      <td>RP23-360O1.5</td>\n",
       "      <td>619</td>\n",
       "      <td>1.990696</td>\n",
       "      <td>2.758995</td>\n",
       "      <td>3.116700</td>\n",
       "      <td>3.777515</td>\n",
       "    </tr>\n",
       "    <tr>\n",
       "      <th>14866</th>\n",
       "      <td>RP23-386K20.2</td>\n",
       "      <td>6267</td>\n",
       "      <td>0.245780</td>\n",
       "      <td>0.136255</td>\n",
       "      <td>0.439772</td>\n",
       "      <td>0.586316</td>\n",
       "    </tr>\n",
       "    <tr>\n",
       "      <th>14867</th>\n",
       "      <td>RP23-32A8.1</td>\n",
       "      <td>18595</td>\n",
       "      <td>0.430738</td>\n",
       "      <td>0.206646</td>\n",
       "      <td>0.370537</td>\n",
       "      <td>0.269460</td>\n",
       "    </tr>\n",
       "    <tr>\n",
       "      <th>14868</th>\n",
       "      <td>KCTD12</td>\n",
       "      <td>6057</td>\n",
       "      <td>0.508602</td>\n",
       "      <td>0.775384</td>\n",
       "      <td>1.137549</td>\n",
       "      <td>0.661794</td>\n",
       "    </tr>\n",
       "    <tr>\n",
       "      <th>14869</th>\n",
       "      <td>AC124170.1</td>\n",
       "      <td>98</td>\n",
       "      <td>12.573885</td>\n",
       "      <td>17.426714</td>\n",
       "      <td>28.122992</td>\n",
       "      <td>10.225723</td>\n",
       "    </tr>\n",
       "    <tr>\n",
       "      <th>14870</th>\n",
       "      <td>RP23-296I6.12</td>\n",
       "      <td>828</td>\n",
       "      <td>7.069014</td>\n",
       "      <td>1.031291</td>\n",
       "      <td>3.661423</td>\n",
       "      <td>6.051454</td>\n",
       "    </tr>\n",
       "    <tr>\n",
       "      <th>14871</th>\n",
       "      <td>mmu-mir-6340</td>\n",
       "      <td>119</td>\n",
       "      <td>25.887410</td>\n",
       "      <td>28.702823</td>\n",
       "      <td>27.792133</td>\n",
       "      <td>25.263550</td>\n",
       "    </tr>\n",
       "    <tr>\n",
       "      <th>14872</th>\n",
       "      <td>RP24-530J21.3</td>\n",
       "      <td>13490</td>\n",
       "      <td>1.986748</td>\n",
       "      <td>1.930632</td>\n",
       "      <td>1.940883</td>\n",
       "      <td>2.476207</td>\n",
       "    </tr>\n",
       "    <tr>\n",
       "      <th>14873</th>\n",
       "      <td>RP24-390G17.1</td>\n",
       "      <td>9528</td>\n",
       "      <td>4.267836</td>\n",
       "      <td>3.002304</td>\n",
       "      <td>4.772762</td>\n",
       "      <td>4.978350</td>\n",
       "    </tr>\n",
       "    <tr>\n",
       "      <th>14874</th>\n",
       "      <td>RP23-395P6.9</td>\n",
       "      <td>20036</td>\n",
       "      <td>1.214651</td>\n",
       "      <td>0.916303</td>\n",
       "      <td>0.880352</td>\n",
       "      <td>1.016992</td>\n",
       "    </tr>\n",
       "    <tr>\n",
       "      <th>14875</th>\n",
       "      <td>mmu-mir-6381</td>\n",
       "      <td>87</td>\n",
       "      <td>0.000000</td>\n",
       "      <td>9.815046</td>\n",
       "      <td>3.167877</td>\n",
       "      <td>3.839543</td>\n",
       "    </tr>\n",
       "    <tr>\n",
       "      <th>14876</th>\n",
       "      <td>RP23-103I12.13</td>\n",
       "      <td>1360</td>\n",
       "      <td>1.359089</td>\n",
       "      <td>0.000000</td>\n",
       "      <td>1.013255</td>\n",
       "      <td>0.000000</td>\n",
       "    </tr>\n",
       "    <tr>\n",
       "      <th>14877</th>\n",
       "      <td>RP23-393F23.11</td>\n",
       "      <td>7983</td>\n",
       "      <td>0.192948</td>\n",
       "      <td>0.374381</td>\n",
       "      <td>0.517860</td>\n",
       "      <td>0.418440</td>\n",
       "    </tr>\n",
       "    <tr>\n",
       "      <th>14878</th>\n",
       "      <td>RP23-199B2.4</td>\n",
       "      <td>49605</td>\n",
       "      <td>0.279462</td>\n",
       "      <td>0.258213</td>\n",
       "      <td>0.250020</td>\n",
       "      <td>0.255892</td>\n",
       "    </tr>\n",
       "    <tr>\n",
       "      <th>14879</th>\n",
       "      <td>RP24-176F12.14</td>\n",
       "      <td>3056</td>\n",
       "      <td>0.806440</td>\n",
       "      <td>0.838261</td>\n",
       "      <td>1.442960</td>\n",
       "      <td>0.874451</td>\n",
       "    </tr>\n",
       "    <tr>\n",
       "      <th>14880</th>\n",
       "      <td>mmu-mir-6236</td>\n",
       "      <td>123</td>\n",
       "      <td>235.428104</td>\n",
       "      <td>315.876900</td>\n",
       "      <td>203.903122</td>\n",
       "      <td>260.714360</td>\n",
       "    </tr>\n",
       "    <tr>\n",
       "      <th>14881</th>\n",
       "      <td>RP24-300P2.1</td>\n",
       "      <td>2145</td>\n",
       "      <td>1.005325</td>\n",
       "      <td>0.398093</td>\n",
       "      <td>0.642437</td>\n",
       "      <td>0.622919</td>\n",
       "    </tr>\n",
       "    <tr>\n",
       "      <th>14882</th>\n",
       "      <td>Tcf24</td>\n",
       "      <td>7770</td>\n",
       "      <td>0.277532</td>\n",
       "      <td>0.109898</td>\n",
       "      <td>0.283764</td>\n",
       "      <td>0.085982</td>\n",
       "    </tr>\n",
       "    <tr>\n",
       "      <th>14883</th>\n",
       "      <td>RP24-289J12.1</td>\n",
       "      <td>11515</td>\n",
       "      <td>0.133765</td>\n",
       "      <td>0.111234</td>\n",
       "      <td>0.239345</td>\n",
       "      <td>0.058018</td>\n",
       "    </tr>\n",
       "    <tr>\n",
       "      <th>14884</th>\n",
       "      <td>RP23-296I6.3</td>\n",
       "      <td>3264</td>\n",
       "      <td>1.038193</td>\n",
       "      <td>0.261614</td>\n",
       "      <td>0.675503</td>\n",
       "      <td>0.716385</td>\n",
       "    </tr>\n",
       "    <tr>\n",
       "      <th>14885</th>\n",
       "      <td>Gm19980</td>\n",
       "      <td>4403</td>\n",
       "      <td>0.000000</td>\n",
       "      <td>0.290907</td>\n",
       "      <td>0.000000</td>\n",
       "      <td>0.227600</td>\n",
       "    </tr>\n",
       "    <tr>\n",
       "      <th>14886</th>\n",
       "      <td>AC124584.1</td>\n",
       "      <td>109</td>\n",
       "      <td>33.914882</td>\n",
       "      <td>31.336109</td>\n",
       "      <td>35.398848</td>\n",
       "      <td>33.710486</td>\n",
       "    </tr>\n",
       "    <tr>\n",
       "      <th>14887</th>\n",
       "      <td>RP23-308M1.2</td>\n",
       "      <td>28110</td>\n",
       "      <td>0.504118</td>\n",
       "      <td>0.531605</td>\n",
       "      <td>0.509836</td>\n",
       "      <td>0.404033</td>\n",
       "    </tr>\n",
       "    <tr>\n",
       "      <th>14888</th>\n",
       "      <td>RP23-138F21.1</td>\n",
       "      <td>29690</td>\n",
       "      <td>0.394284</td>\n",
       "      <td>0.575217</td>\n",
       "      <td>0.436290</td>\n",
       "      <td>0.438786</td>\n",
       "    </tr>\n",
       "    <tr>\n",
       "      <th>14889</th>\n",
       "      <td>AC110903.1</td>\n",
       "      <td>96</td>\n",
       "      <td>6.417920</td>\n",
       "      <td>8.894885</td>\n",
       "      <td>2.870889</td>\n",
       "      <td>13.918345</td>\n",
       "    </tr>\n",
       "    <tr>\n",
       "      <th>14890</th>\n",
       "      <td>ZNRD1-AS1_2</td>\n",
       "      <td>76</td>\n",
       "      <td>8.106847</td>\n",
       "      <td>16.853467</td>\n",
       "      <td>0.000000</td>\n",
       "      <td>4.395267</td>\n",
       "    </tr>\n",
       "  </tbody>\n",
       "</table>\n",
       "<p>14891 rows × 6 columns</p>\n",
       "</div>"
      ],
      "text/plain": [
       "                 gene   width  AT2.old.naive.20150416.1  \\\n",
       "0               Gnai3   38867                  3.416110   \n",
       "1               Cdc45   31541                  0.097670   \n",
       "2                Apoh   71043                  0.000000   \n",
       "3                Narf   18604                  0.894176   \n",
       "4                Cav2    7931                 10.409801   \n",
       "5                Klf6    8905                 47.013339   \n",
       "6               Scmh1  124906                  0.268831   \n",
       "7               Cox5a   11193                  4.265999   \n",
       "8                Tbx2    9398                  0.983380   \n",
       "9                Tbx4   29676                  0.114189   \n",
       "10               Ngfr   18918                  0.032568   \n",
       "11              Wnt9a   26625                  0.138844   \n",
       "12                Fer  243477                  0.043019   \n",
       "13               Xpo6   98787                  0.445935   \n",
       "14               Tfe3   12643                  2.460973   \n",
       "15              Axin2   30435                  0.495973   \n",
       "16              Brat1   14369                  0.707494   \n",
       "17              Gna12   72024                  0.838329   \n",
       "18           Slc22a18   25614                  1.046351   \n",
       "19             Itgb2l   21332                  0.231060   \n",
       "20              Igsf5  163913                  0.276274   \n",
       "21             Pih1d2    7680                  1.484144   \n",
       "22               Dlat   25148                  2.033481   \n",
       "23               Sdhd    7512                  9.801169   \n",
       "24              Ccnd2   25270                  2.279670   \n",
       "25             Gpr107   67233                  0.971380   \n",
       "26             Btbd17    4729                  0.130286   \n",
       "27             Scnn1g   33997                  1.332025   \n",
       "28               Gmpr   38939                  0.316454   \n",
       "29               Mid2  103117                  0.250948   \n",
       "...               ...     ...                       ...   \n",
       "14861           Snhg6    2160                  0.713102   \n",
       "14862   RP23-304I16.1  213023                  0.005785   \n",
       "14863    mmu-mir-130c      82                 18.784157   \n",
       "14864   RP24-288C12.6   14379                  0.085697   \n",
       "14865    RP23-360O1.5     619                  1.990696   \n",
       "14866   RP23-386K20.2    6267                  0.245780   \n",
       "14867     RP23-32A8.1   18595                  0.430738   \n",
       "14868          KCTD12    6057                  0.508602   \n",
       "14869      AC124170.1      98                 12.573885   \n",
       "14870   RP23-296I6.12     828                  7.069014   \n",
       "14871    mmu-mir-6340     119                 25.887410   \n",
       "14872   RP24-530J21.3   13490                  1.986748   \n",
       "14873   RP24-390G17.1    9528                  4.267836   \n",
       "14874    RP23-395P6.9   20036                  1.214651   \n",
       "14875    mmu-mir-6381      87                  0.000000   \n",
       "14876  RP23-103I12.13    1360                  1.359089   \n",
       "14877  RP23-393F23.11    7983                  0.192948   \n",
       "14878    RP23-199B2.4   49605                  0.279462   \n",
       "14879  RP24-176F12.14    3056                  0.806440   \n",
       "14880    mmu-mir-6236     123                235.428104   \n",
       "14881    RP24-300P2.1    2145                  1.005325   \n",
       "14882           Tcf24    7770                  0.277532   \n",
       "14883   RP24-289J12.1   11515                  0.133765   \n",
       "14884    RP23-296I6.3    3264                  1.038193   \n",
       "14885         Gm19980    4403                  0.000000   \n",
       "14886      AC124584.1     109                 33.914882   \n",
       "14887    RP23-308M1.2   28110                  0.504118   \n",
       "14888   RP23-138F21.1   29690                  0.394284   \n",
       "14889      AC110903.1      96                  6.417920   \n",
       "14890     ZNRD1-AS1_2      76                  8.106847   \n",
       "\n",
       "       AT2.old.naive.20150416.2  AT2.old.naive.20150416.3  \\\n",
       "0                      3.009893                  2.985305   \n",
       "1                      0.040609                  0.069904   \n",
       "2                      0.018029                  0.015518   \n",
       "3                      0.757337                  0.607386   \n",
       "4                     10.497557                 11.710880   \n",
       "5                     41.137221                 44.567283   \n",
       "6                      0.266620                  0.266987   \n",
       "7                      3.509320                  3.594959   \n",
       "8                      1.362911                  1.700905   \n",
       "9                      0.215808                  0.204317   \n",
       "10                     0.090275                  0.058274   \n",
       "11                     0.176394                  0.186325   \n",
       "12                     0.054361                  0.044146   \n",
       "13                     0.514314                  0.418484   \n",
       "14                     3.073073                  2.288900   \n",
       "15                     0.687392                  0.507110   \n",
       "16                     1.366825                  0.901486   \n",
       "17                     1.037391                  0.872459   \n",
       "18                     0.783433                  0.882316   \n",
       "19                     0.140103                  0.155038   \n",
       "20                     0.294338                  0.277433   \n",
       "21                     1.223047                  1.578989   \n",
       "22                     1.799633                  1.983639   \n",
       "23                     9.377994                  8.475084   \n",
       "24                     1.317865                  2.224910   \n",
       "25                     1.016059                  0.959226   \n",
       "26                     0.180569                  0.174839   \n",
       "27                     1.419121                  1.386255   \n",
       "28                     0.405694                  0.346816   \n",
       "29                     0.236008                  0.304693   \n",
       "...                         ...                       ...   \n",
       "14861                  0.988321                  1.020760   \n",
       "14862                  0.004009                  0.007763   \n",
       "14863                 15.620286                 13.444162   \n",
       "14864                  0.148465                  0.210839   \n",
       "14865                  2.758995                  3.116700   \n",
       "14866                  0.136255                  0.439772   \n",
       "14867                  0.206646                  0.370537   \n",
       "14868                  0.775384                  1.137549   \n",
       "14869                 17.426714                 28.122992   \n",
       "14870                  1.031291                  3.661423   \n",
       "14871                 28.702823                 27.792133   \n",
       "14872                  1.930632                  1.940883   \n",
       "14873                  3.002304                  4.772762   \n",
       "14874                  0.916303                  0.880352   \n",
       "14875                  9.815046                  3.167877   \n",
       "14876                  0.000000                  1.013255   \n",
       "14877                  0.374381                  0.517860   \n",
       "14878                  0.258213                  0.250020   \n",
       "14879                  0.838261                  1.442960   \n",
       "14880                315.876900                203.903122   \n",
       "14881                  0.398093                  0.642437   \n",
       "14882                  0.109898                  0.283764   \n",
       "14883                  0.111234                  0.239345   \n",
       "14884                  0.261614                  0.675503   \n",
       "14885                  0.290907                  0.000000   \n",
       "14886                 31.336109                 35.398848   \n",
       "14887                  0.531605                  0.509836   \n",
       "14888                  0.575217                  0.436290   \n",
       "14889                  8.894885                  2.870889   \n",
       "14890                 16.853467                  0.000000   \n",
       "\n",
       "       AT2.old.naive.20150416.4  \n",
       "0                      3.308861  \n",
       "1                      0.074135  \n",
       "2                      0.023510  \n",
       "3                      0.843899  \n",
       "4                     10.361103  \n",
       "5                     45.876615  \n",
       "6                      0.288828  \n",
       "7                      3.849834  \n",
       "8                      1.244032  \n",
       "9                      0.090050  \n",
       "10                     0.070629  \n",
       "11                     0.188192  \n",
       "12                     0.057622  \n",
       "13                     0.581604  \n",
       "14                     2.694939  \n",
       "15                     0.526825  \n",
       "16                     1.301848  \n",
       "17                     1.252234  \n",
       "18                     0.912892  \n",
       "19                     0.109614  \n",
       "20                     0.326066  \n",
       "21                     1.565814  \n",
       "22                     2.271389  \n",
       "23                     8.182030  \n",
       "24                     2.300079  \n",
       "25                     0.973806  \n",
       "26                     0.141273  \n",
       "27                     1.434535  \n",
       "28                     0.308828  \n",
       "29                     0.278591  \n",
       "...                         ...  \n",
       "14861                  0.927890  \n",
       "14862                  0.007840  \n",
       "14863                 12.220986  \n",
       "14864                  0.232311  \n",
       "14865                  3.777515  \n",
       "14866                  0.586316  \n",
       "14867                  0.269460  \n",
       "14868                  0.661794  \n",
       "14869                 10.225723  \n",
       "14870                  6.051454  \n",
       "14871                 25.263550  \n",
       "14872                  2.476207  \n",
       "14873                  4.978350  \n",
       "14874                  1.016992  \n",
       "14875                  3.839543  \n",
       "14876                  0.000000  \n",
       "14877                  0.418440  \n",
       "14878                  0.255892  \n",
       "14879                  0.874451  \n",
       "14880                260.714360  \n",
       "14881                  0.622919  \n",
       "14882                  0.085982  \n",
       "14883                  0.058018  \n",
       "14884                  0.716385  \n",
       "14885                  0.227600  \n",
       "14886                 33.710486  \n",
       "14887                  0.404033  \n",
       "14888                  0.438786  \n",
       "14889                 13.918345  \n",
       "14890                  4.395267  \n",
       "\n",
       "[14891 rows x 6 columns]"
      ]
     },
     "execution_count": 68,
     "metadata": {},
     "output_type": "execute_result"
    }
   ],
   "source": [
    "df_ON"
   ]
  },
  {
   "cell_type": "code",
   "execution_count": 80,
   "metadata": {
    "collapsed": false
   },
   "outputs": [],
   "source": [
    "tdf = df_ON.ix[:,[2,3,4,5]]\n",
    "test_arr = np.array(tdf)[1:100].transpose()"
   ]
  },
  {
   "cell_type": "code",
   "execution_count": 81,
   "metadata": {
    "collapsed": false
   },
   "outputs": [
    {
     "data": {
      "text/plain": [
       "4"
      ]
     },
     "execution_count": 81,
     "metadata": {},
     "output_type": "execute_result"
    }
   ],
   "source": [
    "len(test_arr)"
   ]
  },
  {
   "cell_type": "code",
   "execution_count": 82,
   "metadata": {
    "collapsed": false
   },
   "outputs": [
    {
     "name": "stdout",
     "output_type": "stream",
     "text": [
      "Gene 1...\n",
      "Tree method = Random Forests, K = 10, 1000 trees\n",
      "Gene 2...\n",
      "Tree method = Random Forests, K = 10, 1000 trees\n",
      "Gene 3...\n",
      "Tree method = Random Forests, K = 10, 1000 trees\n",
      "Gene 4...\n",
      "Tree method = Random Forests, K = 10, 1000 trees\n",
      "Gene 5...\n",
      "Tree method = Random Forests, K = 10, 1000 trees\n",
      "Gene 6...\n",
      "Tree method = Random Forests, K = 10, 1000 trees\n",
      "Gene 7...\n",
      "Tree method = Random Forests, K = 10, 1000 trees\n",
      "Gene 8...\n",
      "Tree method = Random Forests, K = 10, 1000 trees\n",
      "Gene 9...\n",
      "Tree method = Random Forests, K = 10, 1000 trees\n",
      "Gene 10...\n",
      "Tree method = Random Forests, K = 10, 1000 trees\n",
      "Gene 11...\n",
      "Tree method = Random Forests, K = 10, 1000 trees\n",
      "Gene 12...\n",
      "Tree method = Random Forests, K = 10, 1000 trees\n",
      "Gene 13...\n",
      "Tree method = Random Forests, K = 10, 1000 trees\n",
      "Gene 14...\n",
      "Tree method = Random Forests, K = 10, 1000 trees\n",
      "Gene 15...\n",
      "Tree method = Random Forests, K = 10, 1000 trees\n",
      "Gene 16...\n",
      "Tree method = Random Forests, K = 10, 1000 trees\n",
      "Gene 17...\n",
      "Tree method = Random Forests, K = 10, 1000 trees\n",
      "Gene 18...\n",
      "Tree method = Random Forests, K = 10, 1000 trees\n",
      "Gene 19...\n",
      "Tree method = Random Forests, K = 10, 1000 trees\n",
      "Gene 20...\n",
      "Tree method = Random Forests, K = 10, 1000 trees\n",
      "Gene 21...\n",
      "Tree method = Random Forests, K = 10, 1000 trees\n",
      "Gene 22...\n",
      "Tree method = Random Forests, K = 10, 1000 trees\n",
      "Gene 23...\n",
      "Tree method = Random Forests, K = 10, 1000 trees\n",
      "Gene 24...\n",
      "Tree method = Random Forests, K = 10, 1000 trees\n",
      "Gene 25...\n",
      "Tree method = Random Forests, K = 10, 1000 trees\n",
      "Gene 26...\n",
      "Tree method = Random Forests, K = 10, 1000 trees\n",
      "Gene 27...\n",
      "Tree method = Random Forests, K = 10, 1000 trees\n",
      "Gene 28...\n",
      "Tree method = Random Forests, K = 10, 1000 trees\n",
      "Gene 29...\n",
      "Tree method = Random Forests, K = 10, 1000 trees\n",
      "Gene 30...\n",
      "Tree method = Random Forests, K = 10, 1000 trees\n",
      "Gene 31...\n",
      "Tree method = Random Forests, K = 10, 1000 trees\n",
      "Gene 32...\n",
      "Tree method = Random Forests, K = 10, 1000 trees\n",
      "Gene 33...\n",
      "Tree method = Random Forests, K = 10, 1000 trees\n",
      "Gene 34...\n",
      "Tree method = Random Forests, K = 10, 1000 trees\n",
      "Gene 35...\n",
      "Tree method = Random Forests, K = 10, 1000 trees\n",
      "Gene 36...\n",
      "Tree method = Random Forests, K = 10, 1000 trees\n",
      "Gene 37...\n",
      "Tree method = Random Forests, K = 10, 1000 trees\n",
      "Gene 38...\n",
      "Tree method = Random Forests, K = 10, 1000 trees\n",
      "Gene 39...\n",
      "Tree method = Random Forests, K = 10, 1000 trees\n",
      "Gene 40...\n",
      "Tree method = Random Forests, K = 10, 1000 trees\n",
      "Gene 41...\n",
      "Tree method = Random Forests, K = 10, 1000 trees\n",
      "Gene 42...\n",
      "Tree method = Random Forests, K = 10, 1000 trees\n",
      "Gene 43...\n",
      "Tree method = Random Forests, K = 10, 1000 trees\n",
      "Gene 44...\n",
      "Tree method = Random Forests, K = 10, 1000 trees\n",
      "Gene 45...\n",
      "Tree method = Random Forests, K = 10, 1000 trees\n",
      "Gene 46...\n",
      "Tree method = Random Forests, K = 10, 1000 trees\n",
      "Gene 47...\n",
      "Tree method = Random Forests, K = 10, 1000 trees\n",
      "Gene 48...\n",
      "Tree method = Random Forests, K = 10, 1000 trees\n",
      "Gene 49...\n",
      "Tree method = Random Forests, K = 10, 1000 trees\n",
      "Gene 50...\n",
      "Tree method = Random Forests, K = 10, 1000 trees\n",
      "Gene 51...\n",
      "Tree method = Random Forests, K = 10, 1000 trees\n",
      "Gene 52...\n",
      "Tree method = Random Forests, K = 10, 1000 trees\n",
      "Gene 53...\n",
      "Tree method = Random Forests, K = 10, 1000 trees\n",
      "Gene 54...\n",
      "Tree method = Random Forests, K = 10, 1000 trees\n",
      "Gene 55...\n",
      "Tree method = Random Forests, K = 10, 1000 trees\n",
      "Gene 56...\n",
      "Tree method = Random Forests, K = 10, 1000 trees\n",
      "Gene 57...\n",
      "Tree method = Random Forests, K = 10, 1000 trees\n",
      "Gene 58...\n",
      "Tree method = Random Forests, K = 10, 1000 trees\n",
      "Gene 59...\n",
      "Tree method = Random Forests, K = 10, 1000 trees\n",
      "Gene 60...\n",
      "Tree method = Random Forests, K = 10, 1000 trees\n",
      "Gene 61...\n",
      "Tree method = Random Forests, K = 10, 1000 trees\n",
      "Gene 62...\n",
      "Tree method = Random Forests, K = 10, 1000 trees\n",
      "Gene 63...\n",
      "Tree method = Random Forests, K = 10, 1000 trees\n",
      "Gene 64...\n",
      "Tree method = Random Forests, K = 10, 1000 trees\n",
      "Gene 65...\n",
      "Tree method = Random Forests, K = 10, 1000 trees\n",
      "Gene 66...\n",
      "Tree method = Random Forests, K = 10, 1000 trees\n",
      "Gene 67...\n",
      "Tree method = Random Forests, K = 10, 1000 trees\n",
      "Gene 68...\n",
      "Tree method = Random Forests, K = 10, 1000 trees\n",
      "Gene 69...\n",
      "Tree method = Random Forests, K = 10, 1000 trees\n",
      "Gene 70...\n",
      "Tree method = Random Forests, K = 10, 1000 trees\n",
      "Gene 71...\n",
      "Tree method = Random Forests, K = 10, 1000 trees\n",
      "Gene 72...\n",
      "Tree method = Random Forests, K = 10, 1000 trees\n",
      "Gene 73...\n",
      "Tree method = Random Forests, K = 10, 1000 trees\n",
      "Gene 74...\n",
      "Tree method = Random Forests, K = 10, 1000 trees\n",
      "Gene 75...\n",
      "Tree method = Random Forests, K = 10, 1000 trees\n",
      "Gene 76...\n",
      "Tree method = Random Forests, K = 10, 1000 trees\n",
      "Gene 77...\n",
      "Tree method = Random Forests, K = 10, 1000 trees\n",
      "Gene 78...\n",
      "Tree method = Random Forests, K = 10, 1000 trees\n",
      "Gene 79...\n",
      "Tree method = Random Forests, K = 10, 1000 trees\n",
      "Gene 80...\n",
      "Tree method = Random Forests, K = 10, 1000 trees\n",
      "Gene 81...\n",
      "Tree method = Random Forests, K = 10, 1000 trees\n",
      "Gene 82...\n",
      "Tree method = Random Forests, K = 10, 1000 trees\n",
      "Gene 83...\n",
      "Tree method = Random Forests, K = 10, 1000 trees\n",
      "Gene 84...\n",
      "Tree method = Random Forests, K = 10, 1000 trees\n",
      "Gene 85...\n",
      "Tree method = Random Forests, K = 10, 1000 trees\n",
      "Gene 86...\n",
      "Tree method = Random Forests, K = 10, 1000 trees\n",
      "Gene 87...\n",
      "Tree method = Random Forests, K = 10, 1000 trees\n",
      "Gene 88...\n",
      "Tree method = Random Forests, K = 10, 1000 trees\n",
      "Gene 89...\n",
      "Tree method = Random Forests, K = 10, 1000 trees\n",
      "Gene 90...\n",
      "Tree method = Random Forests, K = 10, 1000 trees\n",
      "Gene 91...\n",
      "Tree method = Random Forests, K = 10, 1000 trees\n",
      "Gene 92...\n",
      "Tree method = Random Forests, K = 10, 1000 trees\n",
      "Gene 93...\n",
      "Tree method = Random Forests, K = 10, 1000 trees\n",
      "Gene 94...\n",
      "Tree method = Random Forests, K = 10, 1000 trees\n",
      "Gene 95...\n",
      "Tree method = Random Forests, K = 10, 1000 trees\n",
      "Gene 96...\n",
      "Tree method = Random Forests, K = 10, 1000 trees\n",
      "Gene 97...\n",
      "Tree method = Random Forests, K = 10, 1000 trees\n",
      "Gene 98...\n",
      "Tree method = Random Forests, K = 10, 1000 trees\n",
      "Gene 99...\n",
      "Tree method = Random Forests, K = 10, 1000 trees\n",
      "Elapsed time: 183.53 seconds\n"
     ]
    }
   ],
   "source": [
    "vim2 = genie3(test_arr)"
   ]
  },
  {
   "cell_type": "code",
   "execution_count": 106,
   "metadata": {
    "collapsed": false
   },
   "outputs": [
    {
     "name": "stdout",
     "output_type": "stream",
     "text": [
      "43 0.021595551204\n",
      "19 0.0277920927174\n",
      "43 0.0214472954836\n",
      "5 0.0211049802575\n",
      "32 0.0194103880943\n",
      "42 0.0178051002464\n",
      "27 0.0190416288637\n",
      "2 0.0212176509454\n",
      "23 0.0250594376853\n",
      "76 0.0221768068041\n",
      "42 0.0224746849446\n",
      "96 0.0244789961692\n",
      "19 0.0242510865994\n",
      "30 0.0304147035114\n",
      "98 0.0205253241805\n",
      "36 0.0200180450256\n",
      "69 0.0167058872138\n",
      "6 0.0226671365746\n",
      "5 0.0292100000437\n",
      "69 0.022916929269\n",
      "27 0.0211751268594\n",
      "58 0.0173300411854\n",
      "5 0.0186837651687\n",
      "19 0.023705473921\n",
      "81 0.0211812611188\n",
      "61 0.0230995605612\n",
      "1 0.0234542598795\n",
      "68 0.0393716077702\n",
      "22 0.021764805941\n",
      "57 0.016547654688\n",
      "3 0.0190616452334\n",
      "66 0.0168270733358\n",
      "6 0.0177679224747\n",
      "69 0.0179461049495\n",
      "62 0.0249034039465\n",
      "83 0.0199648775149\n",
      "12 0.0206763941211\n",
      "78 0.0168761765415\n",
      "22 0.0218152360858\n",
      "37 0.0148911187259\n",
      "41 0.0196662721958\n",
      "28 0.0222470629657\n",
      "5 0.0239392746949\n",
      "5 0.0238452561384\n",
      "89 0.0217087846921\n",
      "30 0.0245222996878\n",
      "42 0.0197710405333\n",
      "2 0.0181623489514\n",
      "84 0.0201022139215\n",
      "19 0.0224808700743\n",
      "23 0.0248580807456\n",
      "90 0.0255116816526\n",
      "32 0.0196616777478\n",
      "18 0.016356552731\n",
      "23 0.0321283552855\n",
      "30 0.0223107195626\n",
      "84 0.0165769496923\n",
      "6 0.0201072014238\n",
      "68 0.026019270689\n",
      "68 0.0239937326529\n",
      "22 0.0222987292459\n",
      "55 0.0184045811788\n",
      "96 0.0216558972874\n",
      "7 0.0190465685209\n",
      "47 0.0164002531992\n",
      "97 0.0202329377599\n",
      "38 0.0210022054882\n",
      "42 0.0233325068619\n",
      "39 0.0281686180235\n",
      "92 0.0203125697324\n",
      "5 0.0220618025549\n",
      "23 0.0246357853514\n",
      "5 0.0206390261796\n",
      "28 0.0172372574691\n",
      "32 0.0252076851392\n",
      "45 0.0209429055012\n",
      "95 0.0252699864759\n",
      "19 0.0221759452246\n",
      "58 0.0190560472494\n",
      "87 0.0228569707594\n",
      "96 0.0236765839713\n",
      "60 0.0244820146138\n",
      "19 0.0217929369256\n",
      "5 0.0252429036629\n",
      "22 0.0212229278851\n",
      "77 0.025449845441\n",
      "5 0.0175014379293\n",
      "15 0.0181897241765\n",
      "5 0.0222408424741\n",
      "68 0.0271409522967\n",
      "10 0.0187302118768\n",
      "32 0.0218221522767\n",
      "65 0.0192993974256\n",
      "41 0.0176933796593\n",
      "42 0.0249574425161\n",
      "69 0.0247580028134\n",
      "5 0.0264546725027\n",
      "30 0.0223672037984\n",
      "21 0.0180520632551\n"
     ]
    }
   ],
   "source": [
    "for i in range(len(vim2)):\n",
    "    m = 0\n",
    "    for ind in range(len(vim2)):\n",
    "        val = vim2[i][ind]\n",
    "        if val > m:\n",
    "            m = val\n",
    "            mi = ind\n",
    "    print mi, m"
   ]
  },
  {
   "cell_type": "code",
   "execution_count": 30,
   "metadata": {
    "collapsed": true
   },
   "outputs": [],
   "source": [
    "def drop_dup(d):\n",
    "    d = d.drop_duplicates(subset='gene', keep='first')\n",
    "    return d\n",
    "\n",
    "def merge(d1, d2):\n",
    "    return pd.merge(d1, d2, how='outer', on=['gene','width'])\n",
    "\n",
    "def merge2(d1, d2):\n",
    "    return pd.merge(d1, d2, how='outer', on='gene')"
   ]
  },
  {
   "cell_type": "code",
   "execution_count": 31,
   "metadata": {
    "collapsed": false
   },
   "outputs": [],
   "source": [
    "dft = merge(df_ON, df_OF)"
   ]
  },
  {
   "cell_type": "code",
   "execution_count": 34,
   "metadata": {
    "collapsed": false
   },
   "outputs": [
    {
     "data": {
      "text/plain": [
       "15117"
      ]
     },
     "execution_count": 34,
     "metadata": {},
     "output_type": "execute_result"
    }
   ],
   "source": [
    "dft = merge(dft, df_YN)\n",
    "len(dft)"
   ]
  },
  {
   "cell_type": "code",
   "execution_count": 35,
   "metadata": {
    "collapsed": false
   },
   "outputs": [
    {
     "data": {
      "text/plain": [
       "14764"
      ]
     },
     "execution_count": 35,
     "metadata": {},
     "output_type": "execute_result"
    }
   ],
   "source": [
    "len(df_YN)"
   ]
  },
  {
   "cell_type": "code",
   "execution_count": 36,
   "metadata": {
    "collapsed": false
   },
   "outputs": [],
   "source": [
    "dft = merge(dft, df_YF)"
   ]
  },
  {
   "cell_type": "code",
   "execution_count": 37,
   "metadata": {
    "collapsed": false
   },
   "outputs": [
    {
     "data": {
      "text/plain": [
       "15266"
      ]
     },
     "execution_count": 37,
     "metadata": {},
     "output_type": "execute_result"
    }
   ],
   "source": [
    "len(dft)"
   ]
  },
  {
   "cell_type": "code",
   "execution_count": 38,
   "metadata": {
    "collapsed": false
   },
   "outputs": [
    {
     "data": {
      "text/plain": [
       "15249"
      ]
     },
     "execution_count": 38,
     "metadata": {},
     "output_type": "execute_result"
    }
   ],
   "source": [
    "dft = drop_dup(dft)\n",
    "len(dft)"
   ]
  },
  {
   "cell_type": "code",
   "execution_count": 39,
   "metadata": {
    "collapsed": false
   },
   "outputs": [
    {
     "name": "stdout",
     "output_type": "stream",
     "text": [
      "Object `df.dropna` not found.\n"
     ]
    }
   ],
   "source": [
    "?df.dropna"
   ]
  },
  {
   "cell_type": "code",
   "execution_count": 40,
   "metadata": {
    "collapsed": true
   },
   "outputs": [],
   "source": [
    "dft.dropna(thresh=(2), axis=0);"
   ]
  },
  {
   "cell_type": "code",
   "execution_count": 41,
   "metadata": {
    "collapsed": true
   },
   "outputs": [],
   "source": [
    "dft = dft[pd.notnull(dft).all(axis=1)]"
   ]
  },
  {
   "cell_type": "code",
   "execution_count": 43,
   "metadata": {
    "collapsed": true
   },
   "outputs": [],
   "source": [
    "df = dft"
   ]
  },
  {
   "cell_type": "code",
   "execution_count": 44,
   "metadata": {
    "collapsed": true
   },
   "outputs": [],
   "source": [
    "state_dict = {'AT2.young.flu.20150416': 'YF', 'AT2.old.naive.20150416': 'ON', \n",
    "                 'AT2.old.flu.20150416': 'OF', 'AT2.young.naive.20150416': 'YN'}"
   ]
  },
  {
   "cell_type": "code",
   "execution_count": 45,
   "metadata": {
    "collapsed": false
   },
   "outputs": [],
   "source": [
    "def rename_cols(df, state_dict):\n",
    "    cols = df.columns\n",
    "    temp_cols = list(cols)\n",
    "    #print temp_cols\n",
    "    for c in range(len(cols)):\n",
    "        state_name = cols[c][:-2]\n",
    "        #sample_num = cols[c][-2:]\n",
    "        total_name = cols[c]\n",
    "        #print state_name\n",
    "        if state_name in state_dict:\n",
    "            new_state_name = state_dict[state_name]\n",
    "            new_col = new_state_name #total_name.replace(state_name, new_state_name)\n",
    "            temp_cols[c] = new_col\n",
    "            #print abb_pair_dict[state_name]\n",
    "    df.columns = temp_cols\n",
    "    #print temp_cols\n",
    "    return df\n",
    "        \n",
    "    "
   ]
  },
  {
   "cell_type": "code",
   "execution_count": 46,
   "metadata": {
    "collapsed": false
   },
   "outputs": [],
   "source": [
    "df = rename_cols(df, state_dict)"
   ]
  },
  {
   "cell_type": "code",
   "execution_count": 47,
   "metadata": {
    "collapsed": false
   },
   "outputs": [],
   "source": [
    "df = df.ix[:,2:]"
   ]
  },
  {
   "cell_type": "code",
   "execution_count": 48,
   "metadata": {
    "collapsed": true
   },
   "outputs": [],
   "source": [
    "y = np.array(df.columns)"
   ]
  },
  {
   "cell_type": "code",
   "execution_count": 110,
   "metadata": {
    "collapsed": false,
    "scrolled": true
   },
   "outputs": [
    {
     "name": "stdout",
     "output_type": "stream",
     "text": [
      "explained variance ratio (first two components): [ 0.83026202  0.08590496  0.05078903]\n",
      "--------------------------------\n",
      "Principal Components 1 and 3\n"
     ]
    },
    {
     "data": {
      "text/plain": [
       "<matplotlib.text.Text at 0x10c2cee10>"
      ]
     },
     "execution_count": 110,
     "metadata": {},
     "output_type": "execute_result"
    },
    {
     "data": {
      "image/png": "[encoded data removed]",
      "text/plain": [
       "<matplotlib.figure.Figure at 0x1038a57d0>"
      ]
     },
     "metadata": {},
     "output_type": "display_data"
    },
    {
     "data": {
      "image/png": "[encoded data removed]",
      "text/plain": [
       "<matplotlib.figure.Figure at 0x10f599f50>"
      ]
     },
     "metadata": {},
     "output_type": "display_data"
    }
   ],
   "source": [
    "X = np.array(df)\n",
    "X = X.transpose()\n",
    "\n",
    "pca = PCA(n_components=3)\n",
    "X_r = pca.fit(X).transform(X)\n",
    "\n",
    "lda = LinearDiscriminantAnalysis(n_components=3)\n",
    "X_r2 = lda.fit(X,y).transform(X)\n",
    "\n",
    "print('explained variance ratio (first two components): %s'\n",
    "      % str(pca.explained_variance_ratio_))\n",
    "\n",
    "pcs_to_graph = [0,2]\n",
    "print \"--------------------------------\"\n",
    "print \"Principal Components %s and %s\"%(pcs_to_graph[0]+1,pcs_to_graph[1]+1)\n",
    "#print \"################################\"\n",
    "\n",
    "target_names = ['ON','OF','YN','YF']\n",
    "plt.figure()\n",
    "for c, marker, target_name in zip(\"rgby\", \"+^*o\", target_names):\n",
    "    plt.scatter(X_r[y == target_name, pcs_to_graph[0]], X_r[y == target_name, pcs_to_graph[1]], s=75, c=c, marker=marker, label=target_name)\n",
    "plt.legend()\n",
    "plt.title('PCA of Aging Dataset')\n",
    "plt.legend(loc='upper center', bbox_to_anchor=(1.1,0.8))\n",
    "\n",
    "\n",
    "target_names = ['ON','OF','YN','YF']\n",
    "plt.figure()\n",
    "for c, marker, target_name in zip(\"rgby\", \"+^*o\", target_names):\n",
    "    plt.scatter(X_r2[y == target_name, pcs_to_graph[0]], X_r2[y == target_name, pcs_to_graph[1]], s=75, c=c, marker=marker, label=target_name)\n",
    "#plt.legend()\n",
    "plt.title('LDA of Aging dataset')"
   ]
  },
  {
   "cell_type": "code",
   "execution_count": null,
   "metadata": {
    "collapsed": false
   },
   "outputs": [],
   "source": [
    "dftest = df.ix[:,[2,3,4,5]]"
   ]
  },
  {
   "cell_type": "code",
   "execution_count": null,
   "metadata": {
    "collapsed": false
   },
   "outputs": [],
   "source": [
    "dftest"
   ]
  },
  {
   "cell_type": "code",
   "execution_count": null,
   "metadata": {
    "collapsed": false
   },
   "outputs": [],
   "source": [
    "def df_to_names(df):\n",
    "    \n",
    "    name_dict = {}\n",
    "        \n",
    "    for i in range(2,len(df.columns)):\n",
    "        name = df.columns[i][:-2]\n",
    "        if name in name_dict:\n",
    "            name_dict[name].append(i)\n",
    "        else:\n",
    "            name_dict[name] = [i]\n",
    "            \n",
    "    return name_dict"
   ]
  },
  {
   "cell_type": "code",
   "execution_count": null,
   "metadata": {
    "collapsed": false
   },
   "outputs": [],
   "source": [
    "name_dict = df_to_names(df)"
   ]
  },
  {
   "cell_type": "code",
   "execution_count": null,
   "metadata": {
    "collapsed": false
   },
   "outputs": [],
   "source": [
    "def unique(a, b):\n",
    "    return list([a[i] for i in range(1,len(a)) if a[i] not in b])\n",
    "def intersect(a, b):\n",
    "    return list(set(a) & set(b))\n",
    "def union(a, b):\n",
    "    return list(set(a) | set(b))\n",
    "def intersect3(a, b, c):\n",
    "    return list(set(a) & set(b) & set(c))\n",
    "\n",
    "def unique3(a, b, c, index):\n",
    "    uniques = [0 for i in range(3)]\n",
    "    uniques[0] = list([a[i] for i in range(1,len(a)) if a[i] not in b and a[i] not in c])\n",
    "    uniques[1] = list([b[i] for i in range(1,len(b)) if b[i] not in a and b[i] not in c])\n",
    "    uniques[2] = list([c[i] for i in range(1,len(c)) if c[i] not in a and c[i] not in b])\n",
    "    return uniques[index]\n"
   ]
  },
  {
   "cell_type": "code",
   "execution_count": null,
   "metadata": {
    "collapsed": false
   },
   "outputs": [],
   "source": [
    "unique3([1,2,3],[4,5,6],[4,6,7])"
   ]
  },
  {
   "cell_type": "code",
   "execution_count": null,
   "metadata": {
    "collapsed": true
   },
   "outputs": [],
   "source": [
    "def t_stat(df, names):\n",
    "    \n",
    "    ### Df has samples only, no gene\n",
    "    #print df\n",
    "    #names = df_to_names(df)\n",
    "    #print \"t-stat names\", names #names[0], name_dict[names[0]]\n",
    "    n_samples1 = len(name_dict[names[0]])\n",
    "    n_samples2 = len(name_dict[names[1]])\n",
    "    \n",
    "    index1 = 1\n",
    "    index2 = index1 + n_samples1\n",
    "    \n",
    "    width = df['width']\n",
    "    #print \"nsamps\", n_samples1, n_samples2\n",
    "    indices1 = [index1 + i for i in range(n_samples1)]\n",
    "    indices2 = [index2 + i for i in range(n_samples2)]\n",
    "    \n",
    "    values1 = [df[df.columns[i]] for i in indices1]\n",
    "    values2 = [df[df.columns[i]] for i in indices2]\n",
    "    \n",
    "    mean1 = sum(values1)/n_samples1\n",
    "    mean2 = sum(values2)/n_samples2\n",
    "    \n",
    "    var1_num = [(values1[i] - mean1)**2 for i in range(n_samples1)]\n",
    "    var2_num = [(values2[i] - mean2)**2 for i in range(n_samples2)]\n",
    "    \n",
    "    var1 = sum(var1_num)/(n_samples1 - 1)\n",
    "    var2 = sum(var2_num)/(n_samples2 - 1)\n",
    "    \n",
    "    t_stat = (mean1 - mean2) / (var1/n_samples1 + var2/n_samples2)**0.5\n",
    "    pval = stats.t.sf(np.abs(t_stat), n_samples1-1)*2 \n",
    "    \n",
    "    logfc = np.log2(mean2/mean1)\n",
    "    \n",
    "    diff = (mean2 - mean1) * width\n",
    "    diff2 = (mean2 - mean1)/mean1\n",
    "    \n",
    "    return [pval, logfc, diff, mean1, diff2]"
   ]
  },
  {
   "cell_type": "code",
   "execution_count": null,
   "metadata": {
    "collapsed": false
   },
   "outputs": [],
   "source": [
    "### Create new temp dataframe with cols ['samp1a','samp1b','samp2a','samp2b','gene']\n",
    "### Add cols for logfc, pval\n",
    "def names_to_df(names):\n",
    "       \n",
    "    # For first name    \n",
    "    #print \"names to df\", names\n",
    "    indices = list(name_dict[names[0]])\n",
    "    l = len(indices)\n",
    "    indices.insert(0,1)\n",
    "    indices.insert(0,0)\n",
    "    #print indices\n",
    "    df_temp1 = df.ix[:,indices]\n",
    "    #print df_temp1\n",
    "    \n",
    "    # For second name\n",
    "    indices = list(name_dict[names[1]])\n",
    "    l = len(indices)\n",
    "    indices.insert(0,1)\n",
    "    indices.insert(0,0)\n",
    "    df_temp2 = df.ix[:,indices]\n",
    "    \n",
    "    dft = pd.merge(df_temp1, df_temp2, how='outer', on=['gene','width']);\n",
    "    \n",
    "    dft = dft.ix[1:];\n",
    "    dft_float = dft.ix[:,1:].astype('float');\n",
    "    dft_float = dft_float[dft_float > 0];\n",
    "\n",
    "    #print dft_float\n",
    "    dft['pval'], dft['logfc'], dft['diff'], dft['mean'], dft['diff_low'] = t_stat(dft_float, names)\n",
    "\n",
    "    return dft\n",
    "    #dft = merge(dft)"
   ]
  },
  {
   "cell_type": "code",
   "execution_count": null,
   "metadata": {
    "collapsed": false
   },
   "outputs": [],
   "source": [
    "pairs_rel = [['YN','ON'],['YN','YF'],['ON','OF']]"
   ]
  },
  {
   "cell_type": "code",
   "execution_count": null,
   "metadata": {
    "collapsed": false
   },
   "outputs": [],
   "source": [
    "tdf = names_to_df(pairs[0])"
   ]
  },
  {
   "cell_type": "code",
   "execution_count": null,
   "metadata": {
    "collapsed": false
   },
   "outputs": [],
   "source": [
    "tdf = tdf[tdf['pval'] < 0.05];"
   ]
  },
  {
   "cell_type": "code",
   "execution_count": null,
   "metadata": {
    "collapsed": true
   },
   "outputs": [],
   "source": [
    "tdfup = tdf[tdf['diff'] > 0]\n",
    "tdfdn = tdf[tdf['diff'] < 0]"
   ]
  },
  {
   "cell_type": "code",
   "execution_count": null,
   "metadata": {
    "collapsed": false
   },
   "outputs": [],
   "source": [
    "nup = np.sum(tdfup['diff'])\n",
    "ndn = np.sum(tdfdn['diff'])"
   ]
  },
  {
   "cell_type": "code",
   "execution_count": null,
   "metadata": {
    "collapsed": false
   },
   "outputs": [],
   "source": [
    "def reset_pairs(df):\n",
    "    \n",
    "    name_dict = df_to_names(df)\n",
    "    names = name_dict.keys()\n",
    "    n_names = len(names)\n",
    "    pairs = [[[names[i], names[j]] for i in range(n_names) if i != j] for j in range(n_names)]\n",
    "    pairs = [pair for sublist in pairs for pair in sublist]\n",
    "    return pairs\n",
    "\n",
    "pairs = reset_pairs(df)"
   ]
  },
  {
   "cell_type": "code",
   "execution_count": null,
   "metadata": {
    "collapsed": false
   },
   "outputs": [],
   "source": [
    "name_dict"
   ]
  },
  {
   "cell_type": "code",
   "execution_count": null,
   "metadata": {
    "collapsed": true
   },
   "outputs": [],
   "source": [
    "def filter_df(df, pcut = 0.05, fcut = 0.15, dcut = 25, mcut = 5):\n",
    "    \n",
    "    ### Filter all by pvalue\n",
    "    df = df[df['pval'] < pcut]\n",
    "    \n",
    "    ## Highly upregulated\n",
    "    df1 = df[df['diff'] > dcut]\n",
    "    \n",
    "    ## Highly downregulated\n",
    "    df2 = df[df['diff'] < -dcut]\n",
    "    \n",
    "    ## Weakly upregulated\n",
    "    df3 = df[df['diff'] < dcut]\n",
    "    df3 = df3[df3['diff'] > 0]\n",
    "    \n",
    "    ## Weakly downregulated\n",
    "    df4 = df[df['diff'] > -fcut]\n",
    "    df4 = df4[df4['diff'] < 0]\n",
    "    \n",
    "    return [df1, df2, df3, df4]\n",
    "        "
   ]
  },
  {
   "cell_type": "code",
   "execution_count": null,
   "metadata": {
    "collapsed": true
   },
   "outputs": [],
   "source": [
    "def filter_grps(df, pcut = 0.05, fcut = 0, dcut = 0, mcut = 0):\n",
    "    \n",
    "    ### Filter all by pvalue\n",
    "    df = df[df['pval'] < pcut]\n",
    "    \n",
    "    ## Highly upregulated\n",
    "    df1 = df[df['diff'] > dcut]\n",
    "    df1 = df1[df1['mean'] > mcut]\n",
    "    df1 = df1[df1['logfc'] > fcut]\n",
    "    \n",
    "    ## Highly downregulated\n",
    "    df2 = df[df['diff'] < dcut]\n",
    "    df2 = df2[df2['mean'] > mcut]\n",
    "    df2 = df2[df2['logfc'] < -fcut]\n",
    "\n",
    "    return [df1, df2]\n",
    "        "
   ]
  },
  {
   "cell_type": "code",
   "execution_count": null,
   "metadata": {
    "collapsed": true
   },
   "outputs": [],
   "source": [
    "def grp_stats(group):\n",
    "    \n",
    "    mean_diff = round(np.mean(group['diff']),0)\n",
    "    diff_low = round(np.mean(group['logfc']),2)\n",
    "    mean_val = round(np.mean(group['mean']),2)\n",
    "    tot = mean_diff*len(group)\n",
    "    return [len(group), diff_low, tot/1000000, mean_val]\n"
   ]
  },
  {
   "cell_type": "code",
   "execution_count": null,
   "metadata": {
    "collapsed": false,
    "scrolled": true
   },
   "outputs": [],
   "source": [
    "#n_groups = 2\n",
    "#for p1 in range(1,2):#len(pairs_rel)):\n",
    "\n",
    "out1 = open('YN_YF_unique_up','w')\n",
    "\n",
    "def common_stats(pairs):\n",
    "    \n",
    "    pair1 = pairs[0]\n",
    "    print pair1\n",
    "    df1 = names_to_df(pair1)\n",
    "    df1_groups = filter_grps(df1)\n",
    "    df1_genes = [group['gene'] for group in df1_groups]\n",
    "    \n",
    "    pair2 = pairs[1]\n",
    "    print pair2\n",
    "    df2 = names_to_df(pair2)\n",
    "    df2_groups = filter_grps(df2)\n",
    "    df2_genes = [group['gene'] for group in df2_groups]\n",
    "        \n",
    "    common_genes = [pd.DataFrame(intersect(df1_genes[i], df2_genes[i])) for i in range(n_groups)]\n",
    "    #return df1_genes[0], df2_genes[0]\n",
    "    #break\n",
    "    unique_genes1 = [pd.DataFrame(unique(list(df1_genes[i]), list(df2_genes[i]))) for i in range(n_groups)]\n",
    "    unique_genes2 = [pd.DataFrame(unique(list(df2_genes[i]), list(df1_genes[i]))) for i in range(n_groups)]\n",
    "    \n",
    "    for i in range(n_groups):\n",
    "        common_genes[i].columns = ['gene']\n",
    "        unique_genes1[i].columns = ['gene']\n",
    "        unique_genes2[i].columns = ['gene']\n",
    "    \n",
    "    upgenes1 = unique(list(df1_genes[0]), list(df2_genes[0]))\n",
    "    upgenes2 = unique(list(df2_genes[0]), list(df1_genes[0]))\n",
    "    print \"# in common\", [len(common_genes[i]) for i in range(n_groups)]\n",
    "    print \"# unique in 1\", [len(unique_genes1[i]) for i in range(n_groups)]\n",
    "    print \"# in group1\", [len(genes) for genes in df1_genes]\n",
    "        #print common_genes[0]\n",
    "        ## Of the common genes, which are in first pair\n",
    "        #print df1_groups[0]\n",
    "    df1_common = [pd.merge(common_genes[i], df1_groups[i], how='left') for i in range(n_groups)]\n",
    "    df2_common = [pd.merge(common_genes[i], df2_groups[i], how='left') for i in range(n_groups)]\n",
    "    \n",
    "    #@df1[~ (df1_groups[0].gene.isin(df1_common.id1) & df1.id2.isin(df2.id2))]\n",
    "    \n",
    "    df1_unique = [pd.merge(unique_genes1[i], df1_groups[i], how='left') for i in range(n_groups)]\n",
    "    df2_unique = [pd.merge(unique_genes2[i], df2_groups[i], how='left') for i in range(n_groups)]\n",
    "    \n",
    "    dfs_uniq = [df1_unique, df2_unique]\n",
    "    dfs_comm = [df1_common, df2_common]\n",
    "    dfs_tots = [df1_groups, df2_groups]\n",
    "    #dfup_comm = df1_common[0]\n",
    "    #ne = (df1 != df2).any(1)\n",
    "        #print \"In common with pair 1\"\n",
    "        \n",
    "        ## In\n",
    "    \n",
    "    for i in range(len(df1_groups)):\n",
    "        \n",
    "        if i==0: print \"UPREG\"\n",
    "        else: print \"DOWN REG\"\n",
    "        \n",
    "        print \"FIRST GROUP\"\n",
    "        print \"Total\"\n",
    "        print grp_stats(df1_groups[i])\n",
    "        print \"Common\"\n",
    "        print grp_stats(df1_common[i])\n",
    "        print \"Unique\"\n",
    "        print grp_stats(df1_unique[i])\n",
    "\n",
    "\n",
    "        print \"Second Group\"\n",
    "        print \"Total\"\n",
    "        print grp_stats(df2_groups[i])\n",
    "        print \"Common\"\n",
    "        print grp_stats(df2_common[i])\n",
    "        print \"Unique\"\n",
    "        print grp_stats(df2_unique[i])\n",
    "        print '\\n'\n",
    "    return dfs_uniq, dfs_comm, dfs_tots\n",
    "\n",
    "  "
   ]
  },
  {
   "cell_type": "code",
   "execution_count": null,
   "metadata": {
    "collapsed": true
   },
   "outputs": [],
   "source": [
    "res.to_csv('res.csv', sep='\\t')"
   ]
  },
  {
   "cell_type": "code",
   "execution_count": null,
   "metadata": {
    "collapsed": false
   },
   "outputs": [],
   "source": [
    "dfY_up = dfsuniq[0][0].ix[:,[0,10,11]]\n",
    "dfY_dn = dfsuniq[0][1].ix[:,[0,10,11]]\n",
    "dfO_up = dfsuniq[1][0].ix[:,[0,10,11]]\n",
    "dfO_dn = dfsuniq[1][1].ix[:,[0,10,11]]"
   ]
  },
  {
   "cell_type": "code",
   "execution_count": null,
   "metadata": {
    "collapsed": false
   },
   "outputs": [],
   "source": [
    "dfY_up_comm = dfs_comm[0][0].ix[:,[0,10,11]]\n",
    "dfY_dn_comm = dfs_comm[0][1].ix[:,[0,10,11]]\n",
    "dfO_up_comm = dfs_comm[1][0].ix[:,[0,10,11]]\n",
    "dfO_dn_comm = dfs_comm[1][1].ix[:,[0,10,11]]"
   ]
  },
  {
   "cell_type": "code",
   "execution_count": null,
   "metadata": {
    "collapsed": false
   },
   "outputs": [],
   "source": [
    "dfY_up_comm.to_csv('dfY_up_comm.txt',sep='\\t', index=False)\n",
    "dfY_dn_comm.to_csv('dfY_dn_comm.txt',sep='\\t', index=False)\n",
    "dfO_up_comm.to_csv('dfO_up_comm.txt',sep='\\t', index=False)\n",
    "dfO_dn_comm.to_csv('dfO_dn_comm.txt',sep='\\t', index=False)"
   ]
  },
  {
   "cell_type": "code",
   "execution_count": null,
   "metadata": {
    "collapsed": false
   },
   "outputs": [],
   "source": [
    "dfY_up.to_csv('dfY_up.txt',sep='\\t', index=False)\n",
    "dfY_dn.to_csv('dfY_dn.txt',sep='\\t', index=False)\n",
    "dfO_up.to_csv('dfO_up.txt',sep='\\t', index=False)\n",
    "dfO_dn.to_csv('dfO_dn.txt',sep='\\t', index=False)"
   ]
  },
  {
   "cell_type": "code",
   "execution_count": null,
   "metadata": {
    "collapsed": false
   },
   "outputs": [],
   "source": [
    "dfs_comm, dfs_uniq, dfsgrps = common_stats([['YN','ON'],['ON','OF']])"
   ]
  },
  {
   "cell_type": "code",
   "execution_count": null,
   "metadata": {
    "collapsed": false
   },
   "outputs": [],
   "source": [
    "dfsuniq[0].sort('diff', ascending=False)"
   ]
  },
  {
   "cell_type": "code",
   "execution_count": null,
   "metadata": {
    "collapsed": false,
    "scrolled": true
   },
   "outputs": [],
   "source": [
    "n_grps = 2\n",
    "#for p1 in range(1,2):#len(pairs_rel)):\n",
    "\n",
    "def common_stats3():\n",
    "    \n",
    "    pairs = [['YN', 'ON'], ['ON','OF'],['YN','YF']]\n",
    "    n_pairs = len(pairs)\n",
    "    dfs = [names_to_df(pair) for pair in pairs]\n",
    "    dfgrps = [filter_grps(dft, fcut = 0.1) for dft in dfs]\n",
    "    dfgenes = [[group['gene'] for group in grps] for grps in dfgrps]\n",
    "    \n",
    "    ## returns 1 set per group\n",
    "    common_genes = [pd.DataFrame(intersect3(dfgenes[0][i], dfgenes[1][i], dfgenes[2][i])) for i in range(n_groups)]\n",
    "    \n",
    "    ## returns list of 3 sets per group\n",
    "    unique_genes = [[pd.DataFrame(unique3(list(dfgenes[0][i]), list(dfgenes[1][i]), list(dfgenes[2][i]), j)) \\\n",
    "                    for j in range(n_pairs)] for i in range(n_grps)]\n",
    "                    #for i in range(n_groups)]\n",
    "    #print len(unique_genes)\n",
    "    for i in range(n_grps):\n",
    "        common_genes[i].columns = ['gene']\n",
    "        for j in range(n_pairs):\n",
    "            unique_genes[i][j].columns = ['gene']\n",
    "    \n",
    "    dfs_comm = [[pd.merge(common_genes[i], dfgrps[j][i], how='left') for i in range(n_grps)] for j in range(n_pairs)]\n",
    "    dfs_uniq = [[pd.merge(unique_genes[i][j], dfgrps[j][i], how='left') for i in range(n_grps)] for j in range(n_pairs)]\n",
    "\n",
    "    for i in range(n_grps):\n",
    "        \n",
    "        print '\\n'\n",
    "        if i==0: print \"UPREG\"\n",
    "        else: print \"DOWN REG\"\n",
    "        print '\\n'\n",
    "        \n",
    "        for j in range(n_pairs):\n",
    "            \n",
    "            print '\\n'\n",
    "            print \"PAIR\", pairs[j]\n",
    "        \n",
    "            print \"Total\"\n",
    "            print grp_stats(dfgrps[j][i])\n",
    "            print \"Common\"\n",
    "            print grp_stats(dfs_comm[j][i])\n",
    "            print \"Unique\"\n",
    "            print grp_stats(dfs_uniq[j][i])\n",
    "\n",
    "    return dfs_comm, dfs_uniq, dfsgrps\n"
   ]
  },
  {
   "cell_type": "code",
   "execution_count": null,
   "metadata": {
    "collapsed": false,
    "scrolled": true
   },
   "outputs": [],
   "source": [
    "dfs_comm, dfs_uniq, dfsgrps = common_stats3()"
   ]
  },
  {
   "cell_type": "code",
   "execution_count": null,
   "metadata": {
    "collapsed": false
   },
   "outputs": [],
   "source": [
    "dfs_comm[2][1].sort('diff')"
   ]
  },
  {
   "cell_type": "code",
   "execution_count": null,
   "metadata": {
    "collapsed": false
   },
   "outputs": [],
   "source": [
    "upcomm = common_stats([['YN','ON'],['ON','OF']]);\n",
    "### Common are general purpose upreg/downreg??? between aging and flu"
   ]
  },
  {
   "cell_type": "code",
   "execution_count": null,
   "metadata": {
    "collapsed": false
   },
   "outputs": [],
   "source": [
    "upcomm.sort(['diff'])"
   ]
  },
  {
   "cell_type": "code",
   "execution_count": null,
   "metadata": {
    "collapsed": false
   },
   "outputs": [],
   "source": [
    "### Needs dataframe with cols ('gene', 'logfc', 'pval')\n",
    "\n",
    "def filter_genes(df, pcut = 0.05, fcut = 1.4):\n",
    "    \n",
    "    df_pcut = df[df['pval'] < pcut]\n",
    "    \n",
    "    df_fc_up = df_pcut[df_pcut['logfc'] > fcut]\n",
    "    \n",
    "    df_fc_dn = df_pcut[df_pcut['logfc'] < -fcut]\n",
    "    \n",
    "    df_pv_up = df_pcut[df_pcut['logfc'] < fcut]\n",
    "    df_pv_up = df_pv_up[df_pv_up['logfc'] > 0]\n",
    "    \n",
    "    df_pv_dn = df_pcut[df_pcut['logfc'] < 0]\n",
    "    df_pv_dn = df_pv_dn[df_pv_dn['logfc'] > -fcut]\n",
    "\n",
    "    fc_up_genes = df_fc_up['gene']\n",
    "    fc_dn_genes = df_fc_dn['gene']\n",
    "    pv_up_genes = df_pv_up['gene']\n",
    "    pv_dn_genes = df_pv_dn['gene']\n",
    "    \n",
    "    #n_up_fc = sum(df_fc_up.ix[:,'up'])\n",
    "    #n_dn_fc = sum(df_fc_dn.ix[:,'dn'])\n",
    "    #n_up_pv = sum(df_pv_up.ix[:,'up'])\n",
    "    #n_dn_pv = sum(df_pv_dn.ix[:,'dn'])\n",
    "\n",
    "    return [fc_up_genes, fc_dn_genes, pv_up_genes, pv_dn_genes]\n"
   ]
  },
  {
   "cell_type": "code",
   "execution_count": null,
   "metadata": {
    "collapsed": true
   },
   "outputs": [],
   "source": [
    "def sum()"
   ]
  },
  {
   "cell_type": "code",
   "execution_count": null,
   "metadata": {
    "collapsed": true
   },
   "outputs": [],
   "source": [
    "def get_counts(names):\n",
    "    \n",
    "    dft = names_to_df(names)\n",
    "    dft_genes = filter_genes(dft)\n",
    "    dft_counts = [len(genes) for genes in dft_genes]\n",
    "    return dft_counts\n",
    "    "
   ]
  },
  {
   "cell_type": "code",
   "execution_count": null,
   "metadata": {
    "collapsed": true
   },
   "outputs": [],
   "source": [
    "def pair_pair_counts(name_pairs):\n",
    "    \n",
    "    dft1 = names_to_df(name_pairs[0])\n",
    "    dft2 = names_to_df(name_pairs[1])\n",
    "    \n",
    "    dft1_genes = filter_genes(dft1)\n",
    "    dft2_genes = filter_genes(dft2)\n",
    "    \n",
    "    common_genes = [intersect(dft1_genes[i], dft2_genes[i]) for i in range(len(dft1_genes))]\n",
    "    common_counts = [len(genes) for genes in common_genes]\n",
    "    return common_counts\n",
    "    "
   ]
  },
  {
   "cell_type": "code",
   "execution_count": null,
   "metadata": {
    "collapsed": true
   },
   "outputs": [],
   "source": [
    "def all_counts(pairs):\n",
    "    \n",
    "    pairs = reset_pairs(df)\n",
    "    pairs2 = list(pairs)\n",
    "    \n",
    "    for p in range(len(pairs)):\n",
    "        #pair in pairs:\n",
    "        counts = get_counts(pairs2[p])\n",
    "        pairs2[p].append(counts)\n",
    "        \n",
    "    return pairs2"
   ]
  },
  {
   "cell_type": "code",
   "execution_count": null,
   "metadata": {
    "collapsed": false
   },
   "outputs": [],
   "source": [
    "def common_counts(pairs):\n",
    "    \n",
    "    pairs = reset_pairs(df)\n",
    "    pairs_temp = list(pairs)\n",
    "    data = []\n",
    "    \n",
    "    for p in range(len(pairs)):\n",
    "        pair1 = pairs[p]\n",
    "        \n",
    "        for p2 in range(p+1,len(pairs)): \n",
    "            pair2 = pairs[p2]\n",
    "            #if pair1 != pair2:\n",
    "            counts = pair_pair_counts([pair1, pair2])\n",
    "            data12 = [[pair1, pair2],[counts]]\n",
    "            data.append(data12)\n",
    "            \n",
    "        \n",
    "    return data"
   ]
  },
  {
   "cell_type": "code",
   "execution_count": null,
   "metadata": {
    "collapsed": false
   },
   "outputs": [],
   "source": [
    "def common_ratio(pairs):\n",
    "    \n",
    "    pairs = reset_pairs(df)\n",
    "    pairs_temp = list(pairs)\n",
    "    data = []\n",
    "    \n",
    "    for p in range(len(pairs)):\n",
    "        pair1 = pairs[p]\n",
    "        \n",
    "        for p2 in range(p+1,len(pairs)): \n",
    "            pair2 = pairs[p2]\n",
    "            #if pair1 != pair2:\n",
    "            counts = pair_pair_counts([pair1, pair2])\n",
    "            data12 = [[pair1, pair2],float(counts[0])/float(counts[1])]\n",
    "            data.append(data12)\n",
    "            \n",
    "        \n",
    "    return data"
   ]
  },
  {
   "cell_type": "code",
   "execution_count": null,
   "metadata": {
    "collapsed": false
   },
   "outputs": [],
   "source": [
    "def uncommon_counts(pairs):\n",
    "    \n",
    "    pairs = reset_pairs(df)\n",
    "    pairs_temp = list(pairs)\n",
    "    data = []\n",
    "    \n",
    "    for p in range(len(pairs)):\n",
    "        pair1 = pairs[p]\n",
    "        counts1 = get_counts(pair1)\n",
    "        for p2 in range(p+1,len(pairs)): \n",
    "            pair2 = pairs[p2]\n",
    "            #if pair1 != pair2:\n",
    "            counts2 = get_counts(pair2)\n",
    "            counts_pair = pair_pair_counts([pair1, pair2])\n",
    "            data12 = [[pair1, counts1, pair2, counts2],[counts_pair]]\n",
    "            data.append(data12)\n",
    "            \n",
    "    return data"
   ]
  },
  {
   "cell_type": "code",
   "execution_count": null,
   "metadata": {
    "collapsed": false
   },
   "outputs": [],
   "source": [
    "count_data = common_ratio(pairs)"
   ]
  },
  {
   "cell_type": "code",
   "execution_count": null,
   "metadata": {
    "collapsed": true
   },
   "outputs": [],
   "source": [
    "from operator import itemgetter"
   ]
  },
  {
   "cell_type": "code",
   "execution_count": null,
   "metadata": {
    "collapsed": false
   },
   "outputs": [],
   "source": [
    "count_data.sort(key=itemgetter(1), reverse=True) #, keyfor pairs in count_data:\n"
   ]
  },
  {
   "cell_type": "code",
   "execution_count": null,
   "metadata": {
    "collapsed": false
   },
   "outputs": [],
   "source": [
    "for data in count_data:\n",
    "    if data[0][0][0] == data[0][1][0]:\n",
    "        print data"
   ]
  },
  {
   "cell_type": "code",
   "execution_count": null,
   "metadata": {
    "collapsed": false
   },
   "outputs": [],
   "source": [
    "count_data"
   ]
  },
  {
   "cell_type": "code",
   "execution_count": null,
   "metadata": {
    "collapsed": false
   },
   "outputs": [],
   "source": [
    "c2 = count_data\n",
    "for c in range(len(count_data)): #count_data:\n",
    "    c2[c][1][0] = count_data[c][1][0][0]/count_data[c][1][0][0]\n",
    "    \n",
    "print count_data"
   ]
  },
  {
   "cell_type": "code",
   "execution_count": null,
   "metadata": {
    "collapsed": false
   },
   "outputs": [],
   "source": [
    "\n",
    "for data in count_data:\n",
    "    if data[0][0][0] == 'ON' and 'YN' in data[0][0]:\n",
    "        print data"
   ]
  },
  {
   "cell_type": "code",
   "execution_count": null,
   "metadata": {
    "collapsed": false
   },
   "outputs": [],
   "source": [
    "\n",
    "#### [state1, state2, state3, ..., stateN]\n",
    "### [state1, state2, state3, ..., stateN]\n",
    "\n",
    "### N-1 combinations for each state\n",
    "### [state1-state2, state1-state3, state1-stateN ]\n",
    "\n",
    "### N/2 * N combinations, *2 for reverse\n",
    "\n",
    "### input dfs = [df1, df2]\n",
    "def compare_edges(dfs):\n",
    "    \n",
    "    df1_genes = filter_genes(dfs[0])\n",
    "    df2_genes = filter_genes(dfs[1])\n",
    "    \n",
    "    gene_totals = [[df1_genes[i], df2_genes[i]] for i in range(len(df1_genes))]\n",
    "    gene_intersect = [intersect(i,j) for i,j in gene_totals]\n",
    "    gene_percent = [float(len(gene_intersect[i]))/float(len(df1_genes[i])) for i in range(len(df1_genes))]\n",
    "    ### What do we want?\n",
    "    ### [[% up FC_1, % up FC_2],[% dn FC_1, %dn FC_1], [% up PV1, % up PV2], [% dn PV1, % dn PV2]]\n",
    "    \n",
    "    return gene_percent\n",
    "    \n",
    "    #n0 = len(dfres[k][0])\n",
    "    #n1 = len(dfres[k][1])\n",
    "    #ns = len(inter)\n",
    "    \n",
    "    #genes_shared_ct[k] = [n0, round(float(ns)/n0,3), n1, round(float(ns)/n1,3), ns]\n",
    "    #gene_totals[k] = [len(dfres[k][0]),len(dfres[k][1])] \n",
    "                      #genes_unique[k] = unique(dfres[k][0],dfres[k][1])\n",
    "    #gene_ratios[k] = len(genes_union"
   ]
  },
  {
   "cell_type": "code",
   "execution_count": null,
   "metadata": {
    "collapsed": false
   },
   "outputs": [],
   "source": [
    "#%%capture\n",
    "p1 = names_to_df(pairs[0])['pval'][:10]\n",
    "p2 = names_to_df(pairs[3])['pval'][:10]"
   ]
  },
  {
   "cell_type": "code",
   "execution_count": null,
   "metadata": {
    "collapsed": false
   },
   "outputs": [],
   "source": [
    "%%capture\n",
    "al_counts(pairs)"
   ]
  },
  {
   "cell_type": "code",
   "execution_count": null,
   "metadata": {
    "collapsed": false
   },
   "outputs": [],
   "source": [
    "names = [\"FC up\", \"FC down\", \"PV up\", \"PV down\"]\n",
    "for i in range(4):\n",
    "    print names[i]\n",
    "    print x[i]\n",
    "    #print genes_shared_ct[i] #\".2f\"% genes_shared_ct[i][1] "
   ]
  },
  {
   "cell_type": "code",
   "execution_count": null,
   "metadata": {
    "collapsed": false
   },
   "outputs": [],
   "source": [
    "plt.plot([0.6, 0.2, 0.6, 0.5])"
   ]
  },
  {
   "cell_type": "code",
   "execution_count": null,
   "metadata": {
    "collapsed": false
   },
   "outputs": [],
   "source": [
    "dft = dft[pd.notnull(dft).all(axis=1)]"
   ]
  },
  {
   "cell_type": "code",
   "execution_count": null,
   "metadata": {
    "collapsed": false
   },
   "outputs": [],
   "source": [
    "ncols = len(dft.columns)\n",
    "gene_names = dft.ix[:,0]\n",
    "for i in range(1, ncols, 4):   #ncols):\n",
    "    sample1_name = dft.columns[i]\n",
    "    sample_list = []\n",
    "    sample1 = dft.ix[:,i]\n",
    "    for j in range(1, ncols):\n",
    "        \n",
    "        sample2_name = dft.columns[j]\n",
    "        \n",
    "        sample2 = dft.ix[:,j]\n",
    "        #print sample1[0], sample2[0]\n",
    "        logfc = np.log(sample2/sample1)\n",
    "        logfc = logfc[logfc < 100]\n",
    "        upreg = len(logfc[logfc > 1.4])\n",
    "        downreg = len(logfc[logfc < -1.4])\n",
    "        #print sample1_name, sample2_name, upreg, downreg\n",
    "        dist = upreg + downreg\n",
    "        regratio = upreg - downreg\n",
    "        sample_list.append([sample2_name, dist, upreg, downreg])\n",
    "        \n",
    "    print sample1_name\n",
    "    for n in sample_list:\n",
    "        print n\n",
    "    #print sample_list\n",
    "#        print sample1/sample2"
   ]
  },
  {
   "cell_type": "code",
   "execution_count": null,
   "metadata": {
    "collapsed": false
   },
   "outputs": [],
   "source": [
    "def make_tree(dfs):\n",
    "    ndf = len(dfs)\n",
    "    mat\n",
    "    for df1_ind in range(ndf):\n",
    "        for df2_ind in range(df1_ind+1,ndf):\n",
    "            merged_df = pd.merge(dfs[df1_ind], dfs[df2_ind], how = 'outer', on='gene')\n",
    "            \n",
    "            #merged_df['ratio'] = float(merged_df[[1]]) #sum(float(merged_df[[1,2,3,4]]))\n",
    "            #for gene_ind in range(len(merged_df)):\n",
    "        ### GET ratios\n",
    "                \n",
    "        ### GET SIMILARITY\n",
    "        ### [ YN [1, 0.4, 0.8. 0.7],\n",
    "        ###   ON [0.6, 1, 0.9, 0.2],\n",
    "        ###   YF [0.4, 0.3, 1, 0.6],\n",
    "        ###   OF [0.3, 0.9, 0.1, 1]]\n",
    "        \n",
    "        ### TREE FIGURE\n",
    "        ###      YF (2)\n",
    "        ###     /\n",
    "        ###  YN(1)- ON(3)- OF(4)\n",
    "        \n",
    "        ###  [[1,2],[1,3],[3,4]]\n",
    "        \n",
    "        ### START WITH\n",
    "        ### [[1,2],[1,3],[1,4]]\n",
    "        ### [1-2] 0.3\n",
    "        ### [1-3] 0.8\n",
    "        ### [1-4] 0.5\n",
    "        ### Then go to 2\n",
    "        ### [2-1] 0.3 (ok)\n",
    "        ### [2-3] 0.9 (>[1-3], change)\n",
    "                    ### [[1,2],[2,3],[1,4]]\n",
    "        ### [2-4] 0.2 (<[1-4], no change)\n",
    "        ### On to 3...\n",
    "        ### [3-1] 0.3 (ok)\n",
    "        ### [3-2] 0.1 (<[1-3], no change)\n",
    "        ### [3-4] 0.9 (>[1-4], change\n",
    "                    ### [[1,2],[1,3],[3,4]])\n",
    "        \n",
    "        ### [1-3] ok\n",
    "        sim = [[random.random() for i in range(ndf)] for j in range(ndf)]\n",
    "        for i in range(ndf):\n",
    "            ## Initialize tree starting with i\n",
    "            tree = []\n",
    "            for j in range(ndf):\n",
    "                tree[j] = [i,j]\n",
    "                #similarity_matrix sim\n",
    "                \n",
    "                \n",
    "            for j in range(ndf):\n",
    "                sim_ij = sim[i,j]\n",
    "                for k in range(ndf):\n",
    "                    sim_ik = sim[i,k]\n",
    "                    if sim_ik > sim_ij:\n",
    "                        tree[j] = [i,k]\n",
    "                    \n",
    "                \n",
    "                \n",
    "    \n",
    "    #return merged_df\n",
    "        \n",
    "            \n",
    "make_tree(dfs);"
   ]
  },
  {
   "cell_type": "code",
   "execution_count": null,
   "metadata": {
    "collapsed": false
   },
   "outputs": [],
   "source": [
    "import random\n",
    "ndf = 4\n",
    "sim = [[random.random() for i in range(ndf)] for j in range(ndf)]"
   ]
  },
  {
   "cell_type": "code",
   "execution_count": null,
   "metadata": {
    "collapsed": false
   },
   "outputs": [],
   "source": [
    "sim[2][3]"
   ]
  },
  {
   "cell_type": "code",
   "execution_count": null,
   "metadata": {
    "collapsed": false
   },
   "outputs": [],
   "source": [
    "def make_tree2():\n",
    "    ndf = 10\n",
    "    sim = [[random.random() for i in range(ndf)] for j in range(ndf)]\n",
    "    nodes = [i for i in range(ndf)]\n",
    "    for i in range(ndf):\n",
    "        #print \"begin\", i\n",
    "            ## Initialize tree starting with i\n",
    "        tree = []# [0 for x in range(ndf-1)]\n",
    "        \n",
    "        j_nodes = [z for z in range(ndf)]\n",
    "        j_nodes.remove(i)\n",
    "        for j in j_nodes: \n",
    "            tree.append([i,j])\n",
    "                #similarity_matrix sim\n",
    "                \n",
    "        n_iters = 1\n",
    "        for iteration in range(n_iters):\n",
    "            \n",
    "            #print tree\n",
    "        #print \"j_nodes\",j_nodes\n",
    "            for j in j_nodes:\n",
    "            #print tree\n",
    "                sim_ij = sim[i][j]\n",
    "            \n",
    "                k_nodes = [z for z in range(ndf)]\n",
    "                k_nodes.remove(j)\n",
    "                k_nodes.remove(i)\n",
    "                #print \"k_nodes\", k_nodes\n",
    "                for k in k_nodes:\n",
    "                #print \"j = \", j, \"k=\", k\n",
    "                    sim_ik = sim[i][k]\n",
    "                    sim_jk = sim[j][k]\n",
    "                    if sim_ik > sim_jk:\n",
    "                        #print j,k, \"> \", i, k\n",
    "                        tree[k-1] = [j,k]\n",
    "                        #print tree\n",
    "            #print \"end iteration\", iteration, tree\n",
    "            #for i in range(len(tree)):\n",
    "            print sum([sim[ii][jj] for ii,jj in tree])\n",
    "        printsorted(tree)\n",
    "make_tree2()"
   ]
  },
  {
   "cell_type": "code",
   "execution_count": null,
   "metadata": {
    "collapsed": false
   },
   "outputs": [],
   "source": [
    "def make_tree_rand():\n",
    "    ndf = 10\n",
    "    sim = [[random.random() for i in range(ndf)] for j in range(ndf)]\n",
    "    seq = [i for i in range(ndf)]\n",
    "\n",
    "    nodes = [random.choice() for i in range(ndf)]\n",
    "    n_iter = 10\n",
    "    \n",
    "    ### Initialize tree\n",
    "    tree = []# [0 for x in range(ndf-1)]\n",
    "    \n",
    "    j_nodes = [z for z in range(ndf)]\n",
    "    j_nodes.remove(i)\n",
    "    for j in j_nodes: \n",
    "        tree.append([i,j])\n",
    "                #similarity_matrix sim\n",
    "    for i in range(n_iter):\n",
    "        #print \"begin\", i\n",
    "            ## Initialize tree starting with i\n",
    "\n",
    "                \n",
    "        n_iters = 1\n",
    "        for iteration in range(n_iters):\n",
    "            \n",
    "            #print tree\n",
    "        #print \"j_nodes\",j_nodes\n",
    "            for j in j_nodes:\n",
    "            #print tree\n",
    "                sim_ij = sim[i][j]\n",
    "            \n",
    "                k_nodes = [z for z in range(ndf)]\n",
    "                k_nodes.remove(j)\n",
    "                k_nodes.remove(i)\n",
    "                #print \"k_nodes\", k_nodes\n",
    "                for k in k_nodes:\n",
    "                #print \"j = \", j, \"k=\", k\n",
    "                    sim_ik = sim[i][k]\n",
    "                    sim_jk = sim[j][k]\n",
    "                    if sim_ik > sim_jk:\n",
    "                        #print j,k, \"> \", i, k\n",
    "                        tree[k-1] = [j,k]\n",
    "                        #print tree\n",
    "            #print \"end iteration\", iteration, tree\n",
    "            #for i in range(len(tree)):\n",
    "            error = sum([sim[ii][jj] for ii,jj in tree])\n",
    "        printsorted(tree)\n",
    "make_tree_rand()"
   ]
  },
  {
   "cell_type": "code",
   "execution_count": null,
   "metadata": {
    "collapsed": false
   },
   "outputs": [],
   "source": [
    "def make_tree_easy():\n",
    "    ndf = 10\n",
    "    sim = [[random.random() for i in range(ndf)] for j in range(ndf)]\n",
    "    seq = [i for i in range(ndf)]\n",
    "\n",
    "    nodes = [random.choice() for i in range(ndf)]\n",
    "    n_iter = 10\n",
    "    \n",
    "    ### Initialize tree\n",
    "    tree = []# [0 for x in range(ndf-1)]\n",
    "    \n",
    "    j_nodes = [z for z in range(ndf)]\n",
    "    j_nodes.remove(i)\n",
    "    for j in j_nodes: \n",
    "        tree.append([i,j])\n",
    "                #similarity_matrix sim\n",
    "    for i in range(n_iter):\n",
    "        #print \"begin\", i\n",
    "            ## Initialize tree starting with i\n",
    "\n",
    "                \n",
    "        n_iters = 1\n",
    "        for iteration in range(n_iters):\n",
    "            \n",
    "            #print tree\n",
    "        #print \"j_nodes\",j_nodes\n",
    "            for j in j_nodes:\n",
    "            #print tree\n",
    "                sim_ij = sim[i][j]\n",
    "            \n",
    "                k_nodes = [z for z in range(ndf)]\n",
    "                k_nodes.remove(j)\n",
    "                k_nodes.remove(i)\n",
    "                #print \"k_nodes\", k_nodes\n",
    "                for k in k_nodes:\n",
    "                #print \"j = \", j, \"k=\", k\n",
    "                    sim_ik = sim[i][k]\n",
    "                    sim_jk = sim[j][k]\n",
    "                    if sim_ik > sim_jk:\n",
    "                        #print j,k, \"> \", i, k\n",
    "                        tree[k-1] = [j,k]\n",
    "                        #print tree\n",
    "            #print \"end iteration\", iteration, tree\n",
    "            #for i in range(len(tree)):\n",
    "            error = sum([sim[ii][jj] for ii,jj in tree])\n",
    "        printsorted(tree)\n",
    "make_tree_easy()"
   ]
  },
  {
   "cell_type": "code",
   "execution_count": null,
   "metadata": {
    "collapsed": true
   },
   "outputs": [],
   "source": [
    "tree = [[0, 1], [0, 2], [0, 3], [0, 4], [0, 5]]"
   ]
  },
  {
   "cell_type": "code",
   "execution_count": null,
   "metadata": {
    "collapsed": true
   },
   "outputs": [],
   "source": [
    "def printsorted(tree):\n",
    "    tree.sort()\n",
    "    tree_dict = {}\n",
    "    for i in range(len(tree)):\n",
    "        if tree[i][0] not in tree_dict:\n",
    "            tree_dict[tree[i][0]] = [tree[i][1]]\n",
    "        else:\n",
    "            tree_dict[tree[i][0]].append(tree[i][1])\n",
    "        \n",
    "    print tree_dict\n",
    "            "
   ]
  }
 ],
 "metadata": {
  "kernelspec": {
   "display_name": "Python 2",
   "language": "python",
   "name": "python2"
  },
  "language_info": {
   "codemirror_mode": {
    "name": "ipython",
    "version": 2
   },
   "file_extension": ".py",
   "mimetype": "text/x-python",
   "name": "python",
   "nbconvert_exporter": "python",
   "pygments_lexer": "ipython2",
   "version": "2.7.11"
  }
 },
 "nbformat": 4,
 "nbformat_minor": 0
}
