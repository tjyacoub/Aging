{
 "cells": [
  {
   "cell_type": "code",
   "execution_count": 1,
   "metadata": {
    "collapsed": true
   },
   "outputs": [],
   "source": [
    "%matplotlib inline"
   ]
  },
  {
   "cell_type": "code",
   "execution_count": 2,
   "metadata": {
    "collapsed": true
   },
   "outputs": [],
   "source": [
    "import pandas as pd\n",
    "from sklearn.cross_decomposition import PLSRegression"
   ]
  },
  {
   "cell_type": "code",
   "execution_count": 261,
   "metadata": {
    "collapsed": true
   },
   "outputs": [],
   "source": [
    "import csv\n",
    "import matplotlib.pyplot as plt"
   ]
  },
  {
   "cell_type": "code",
   "execution_count": 262,
   "metadata": {
    "collapsed": true
   },
   "outputs": [],
   "source": [
    "from scipy import stats\n",
    "\n",
    "import sklearn\n",
    "from sklearn import linear_model\n",
    "from sklearn import datasets\n",
    "from sklearn.decomposition import PCA\n",
    "from sklearn.discriminant_analysis import LinearDiscriminantAnalysis as LDA\n",
    "\n",
    "import random\n",
    "from random import shuffle"
   ]
  },
  {
   "cell_type": "code",
   "execution_count": 263,
   "metadata": {
    "collapsed": true
   },
   "outputs": [],
   "source": [
    "import math\n",
    "import numpy as np"
   ]
  },
  {
   "cell_type": "code",
   "execution_count": 264,
   "metadata": {
    "collapsed": false
   },
   "outputs": [],
   "source": [
    "df_ON_OF = pd.read_csv(\"ON_OF.txt\", sep='\\t')"
   ]
  },
  {
   "cell_type": "code",
   "execution_count": 265,
   "metadata": {
    "collapsed": false
   },
   "outputs": [],
   "source": [
    "df_YN_ON = pd.read_csv(\"YN_ON.txt\", sep='\\t')"
   ]
  },
  {
   "cell_type": "code",
   "execution_count": 266,
   "metadata": {
    "collapsed": false
   },
   "outputs": [],
   "source": [
    "df_YF_OF = pd.read_csv(\"YF_OF.txt\", sep='\\t')"
   ]
  },
  {
   "cell_type": "code",
   "execution_count": 267,
   "metadata": {
    "collapsed": true
   },
   "outputs": [],
   "source": [
    "df_YN_YF = pd.read_csv(\"YN_YF.txt\", sep='\\t')"
   ]
  },
  {
   "cell_type": "code",
   "execution_count": 268,
   "metadata": {
    "collapsed": true
   },
   "outputs": [],
   "source": [
    "df_ON = df_ON_OF[[19,4,6,7,8,9]];"
   ]
  },
  {
   "cell_type": "code",
   "execution_count": 269,
   "metadata": {
    "collapsed": true
   },
   "outputs": [],
   "source": [
    "df_OF = df_ON_OF[[19,4,10,11,12,13]]"
   ]
  },
  {
   "cell_type": "code",
   "execution_count": 270,
   "metadata": {
    "collapsed": true
   },
   "outputs": [],
   "source": [
    "df_YN = df_YN_ON[[19,4,6,7,8,9]]"
   ]
  },
  {
   "cell_type": "code",
   "execution_count": 271,
   "metadata": {
    "collapsed": true
   },
   "outputs": [],
   "source": [
    "df_YF = df_YN_YF[[19,4,10,11,12,13]]"
   ]
  },
  {
   "cell_type": "code",
   "execution_count": 272,
   "metadata": {
    "collapsed": true
   },
   "outputs": [],
   "source": [
    "def drop_dup(d):\n",
    "    d = d.drop_duplicates(subset='gene', keep='first')\n",
    "    return d\n",
    "\n",
    "def merge(d1, d2):\n",
    "    return pd.merge(d1, d2, how='outer', on=['gene','width'])\n",
    "\n",
    "def merge2(d1, d2):\n",
    "    return pd.merge(d1, d2, how='outer', on='gene')"
   ]
  },
  {
   "cell_type": "code",
   "execution_count": 273,
   "metadata": {
    "collapsed": false
   },
   "outputs": [],
   "source": [
    "dft = merge(df_ON, df_OF)"
   ]
  },
  {
   "cell_type": "code",
   "execution_count": 274,
   "metadata": {
    "collapsed": false
   },
   "outputs": [],
   "source": [
    "dft = merge(dft, df_YN)"
   ]
  },
  {
   "cell_type": "code",
   "execution_count": 275,
   "metadata": {
    "collapsed": false
   },
   "outputs": [],
   "source": [
    "dft = merge(dft, df_YF)"
   ]
  },
  {
   "cell_type": "code",
   "execution_count": 276,
   "metadata": {
    "collapsed": false
   },
   "outputs": [],
   "source": [
    "dft = drop_dup(dft)"
   ]
  },
  {
   "cell_type": "code",
   "execution_count": 277,
   "metadata": {
    "collapsed": true
   },
   "outputs": [],
   "source": [
    "dft.dropna(thresh=(2), axis=0);"
   ]
  },
  {
   "cell_type": "code",
   "execution_count": 278,
   "metadata": {
    "collapsed": true
   },
   "outputs": [],
   "source": [
    "dft = dft[pd.notnull(dft).all(axis=1)]"
   ]
  },
  {
   "cell_type": "code",
   "execution_count": 279,
   "metadata": {
    "collapsed": true
   },
   "outputs": [],
   "source": [
    "df = dft"
   ]
  },
  {
   "cell_type": "code",
   "execution_count": 280,
   "metadata": {
    "collapsed": true
   },
   "outputs": [],
   "source": [
    "state_dict = {'AT2.young.flu.20150416': 'YF', 'AT2.old.naive.20150416': 'ON', \n",
    "                 'AT2.old.flu.20150416': 'OF', 'AT2.young.naive.20150416': 'YN'}"
   ]
  },
  {
   "cell_type": "code",
   "execution_count": 281,
   "metadata": {
    "collapsed": false
   },
   "outputs": [
    {
     "ename": "IndentationError",
     "evalue": "expected an indented block (<ipython-input-281-2335aad1c2bf>, line 2)",
     "output_type": "error",
     "traceback": [
      "\u001b[0;36m  File \u001b[0;32m\"<ipython-input-281-2335aad1c2bf>\"\u001b[0;36m, line \u001b[0;32m2\u001b[0m\n\u001b[0;31m    \u001b[0m\n\u001b[0m    ^\u001b[0m\n\u001b[0;31mIndentationError\u001b[0m\u001b[0;31m:\u001b[0m expected an indented block\n"
     ]
    }
   ],
   "source": [
    "def t_stat(df, names):\n",
    "    "
   ]
  },
  {
   "cell_type": "code",
   "execution_count": 282,
   "metadata": {
    "collapsed": false
   },
   "outputs": [],
   "source": [
    "def rename_cols(df, state_dict):\n",
    "    cols = df.columns\n",
    "    temp_cols = list(cols)\n",
    "    #print temp_cols\n",
    "    for c in range(len(cols)):\n",
    "        state_name = cols[c][:-2]\n",
    "        #sample_num = cols[c][-2:]\n",
    "        total_name = cols[c]\n",
    "        #print state_name\n",
    "        if state_name in state_dict:\n",
    "            new_state_name = state_dict[state_name]\n",
    "            new_col = total_name.replace(state_name, new_state_name)\n",
    "            temp_cols[c] = new_col\n",
    "            #print abb_pair_dict[state_name]\n",
    "    df.columns = temp_cols\n",
    "    #print temp_cols\n",
    "    return df"
   ]
  },
  {
   "cell_type": "code",
   "execution_count": 283,
   "metadata": {
    "collapsed": false
   },
   "outputs": [],
   "source": [
    "def log_trans(X):\n",
    "    for row in range(len(X)):\n",
    "        for v in range(len(X[row])):\n",
    "            X[row][v] = np.log(X[row][v] + 1)\n",
    "    return X"
   ]
  },
  {
   "cell_type": "code",
   "execution_count": 284,
   "metadata": {
    "collapsed": false
   },
   "outputs": [],
   "source": [
    "df = rename_cols(df, state_dict)"
   ]
  },
  {
   "cell_type": "code",
   "execution_count": 289,
   "metadata": {
    "collapsed": false
   },
   "outputs": [
    {
     "ename": "ValueError",
     "evalue": "Input contains NaN, infinity or a value too large for dtype('float64').",
     "output_type": "error",
     "traceback": [
      "\u001b[0;31m---------------------------------------------------------------------------\u001b[0m",
      "\u001b[0;31mValueError\u001b[0m                                Traceback (most recent call last)",
      "\u001b[0;32m<ipython-input-289-378f597d6e96>\u001b[0m in \u001b[0;36m<module>\u001b[0;34m()\u001b[0m\n\u001b[1;32m      6\u001b[0m \u001b[0;34m\u001b[0m\u001b[0m\n\u001b[1;32m      7\u001b[0m \u001b[0mpca\u001b[0m \u001b[0;34m=\u001b[0m \u001b[0mPCA\u001b[0m\u001b[0;34m(\u001b[0m\u001b[0mn_components\u001b[0m\u001b[0;34m=\u001b[0m\u001b[0;36m3\u001b[0m\u001b[0;34m)\u001b[0m\u001b[0;34m\u001b[0m\u001b[0m\n\u001b[0;32m----> 8\u001b[0;31m \u001b[0mX_r\u001b[0m \u001b[0;34m=\u001b[0m \u001b[0mpca\u001b[0m\u001b[0;34m.\u001b[0m\u001b[0mfit\u001b[0m\u001b[0;34m(\u001b[0m\u001b[0mX\u001b[0m\u001b[0;34m)\u001b[0m\u001b[0;34m.\u001b[0m\u001b[0mtransform\u001b[0m\u001b[0;34m(\u001b[0m\u001b[0mX\u001b[0m\u001b[0;34m)\u001b[0m\u001b[0;34m\u001b[0m\u001b[0m\n\u001b[0m\u001b[1;32m      9\u001b[0m \u001b[0;34m\u001b[0m\u001b[0m\n\u001b[1;32m     10\u001b[0m \u001b[0;31m# Percentage of variance explained for each components\u001b[0m\u001b[0;34m\u001b[0m\u001b[0;34m\u001b[0m\u001b[0m\n",
      "\u001b[0;32m/Users/tjyacoub/anaconda2/lib/python2.7/site-packages/sklearn/decomposition/pca.pyc\u001b[0m in \u001b[0;36mfit\u001b[0;34m(self, X, y)\u001b[0m\n\u001b[1;32m    222\u001b[0m             \u001b[0mReturns\u001b[0m \u001b[0mthe\u001b[0m \u001b[0minstance\u001b[0m \u001b[0mitself\u001b[0m\u001b[0;34m.\u001b[0m\u001b[0;34m\u001b[0m\u001b[0m\n\u001b[1;32m    223\u001b[0m         \"\"\"\n\u001b[0;32m--> 224\u001b[0;31m         \u001b[0mself\u001b[0m\u001b[0;34m.\u001b[0m\u001b[0m_fit\u001b[0m\u001b[0;34m(\u001b[0m\u001b[0mX\u001b[0m\u001b[0;34m)\u001b[0m\u001b[0;34m\u001b[0m\u001b[0m\n\u001b[0m\u001b[1;32m    225\u001b[0m         \u001b[0;32mreturn\u001b[0m \u001b[0mself\u001b[0m\u001b[0;34m\u001b[0m\u001b[0m\n\u001b[1;32m    226\u001b[0m \u001b[0;34m\u001b[0m\u001b[0m\n",
      "\u001b[0;32m/Users/tjyacoub/anaconda2/lib/python2.7/site-packages/sklearn/decomposition/pca.pyc\u001b[0m in \u001b[0;36m_fit\u001b[0;34m(self, X)\u001b[0m\n\u001b[1;32m    266\u001b[0m             \u001b[0mrequested\u001b[0m\u001b[0;34m.\u001b[0m\u001b[0;34m\u001b[0m\u001b[0m\n\u001b[1;32m    267\u001b[0m         \"\"\"\n\u001b[0;32m--> 268\u001b[0;31m         \u001b[0mX\u001b[0m \u001b[0;34m=\u001b[0m \u001b[0mcheck_array\u001b[0m\u001b[0;34m(\u001b[0m\u001b[0mX\u001b[0m\u001b[0;34m)\u001b[0m\u001b[0;34m\u001b[0m\u001b[0m\n\u001b[0m\u001b[1;32m    269\u001b[0m         \u001b[0mn_samples\u001b[0m\u001b[0;34m,\u001b[0m \u001b[0mn_features\u001b[0m \u001b[0;34m=\u001b[0m \u001b[0mX\u001b[0m\u001b[0;34m.\u001b[0m\u001b[0mshape\u001b[0m\u001b[0;34m\u001b[0m\u001b[0m\n\u001b[1;32m    270\u001b[0m         \u001b[0mX\u001b[0m \u001b[0;34m=\u001b[0m \u001b[0mas_float_array\u001b[0m\u001b[0;34m(\u001b[0m\u001b[0mX\u001b[0m\u001b[0;34m,\u001b[0m \u001b[0mcopy\u001b[0m\u001b[0;34m=\u001b[0m\u001b[0mself\u001b[0m\u001b[0;34m.\u001b[0m\u001b[0mcopy\u001b[0m\u001b[0;34m)\u001b[0m\u001b[0;34m\u001b[0m\u001b[0m\n",
      "\u001b[0;32m/Users/tjyacoub/anaconda2/lib/python2.7/site-packages/sklearn/utils/validation.pyc\u001b[0m in \u001b[0;36mcheck_array\u001b[0;34m(array, accept_sparse, dtype, order, copy, force_all_finite, ensure_2d, allow_nd, ensure_min_samples, ensure_min_features, warn_on_dtype, estimator)\u001b[0m\n\u001b[1;32m    396\u001b[0m                              % (array.ndim, estimator_name))\n\u001b[1;32m    397\u001b[0m         \u001b[0;32mif\u001b[0m \u001b[0mforce_all_finite\u001b[0m\u001b[0;34m:\u001b[0m\u001b[0;34m\u001b[0m\u001b[0m\n\u001b[0;32m--> 398\u001b[0;31m             \u001b[0m_assert_all_finite\u001b[0m\u001b[0;34m(\u001b[0m\u001b[0marray\u001b[0m\u001b[0;34m)\u001b[0m\u001b[0;34m\u001b[0m\u001b[0m\n\u001b[0m\u001b[1;32m    399\u001b[0m \u001b[0;34m\u001b[0m\u001b[0m\n\u001b[1;32m    400\u001b[0m     \u001b[0mshape_repr\u001b[0m \u001b[0;34m=\u001b[0m \u001b[0m_shape_repr\u001b[0m\u001b[0;34m(\u001b[0m\u001b[0marray\u001b[0m\u001b[0;34m.\u001b[0m\u001b[0mshape\u001b[0m\u001b[0;34m)\u001b[0m\u001b[0;34m\u001b[0m\u001b[0m\n",
      "\u001b[0;32m/Users/tjyacoub/anaconda2/lib/python2.7/site-packages/sklearn/utils/validation.pyc\u001b[0m in \u001b[0;36m_assert_all_finite\u001b[0;34m(X)\u001b[0m\n\u001b[1;32m     52\u001b[0m             and not np.isfinite(X).all()):\n\u001b[1;32m     53\u001b[0m         raise ValueError(\"Input contains NaN, infinity\"\n\u001b[0;32m---> 54\u001b[0;31m                          \" or a value too large for %r.\" % X.dtype)\n\u001b[0m\u001b[1;32m     55\u001b[0m \u001b[0;34m\u001b[0m\u001b[0m\n\u001b[1;32m     56\u001b[0m \u001b[0;34m\u001b[0m\u001b[0m\n",
      "\u001b[0;31mValueError\u001b[0m: Input contains NaN, infinity or a value too large for dtype('float64')."
     ]
    }
   ],
   "source": [
    "y = np.array([0,0,0,0,1,1,1,1,2,2,2,2,3,3,3,3])\n",
    "\n",
    "y = y[:len(X)]\n",
    "n = int(len(X)/4)\n",
    "target_names = ['Old N','Old F','Yng N','Yng F'][:n]\n",
    "\n",
    "pca = PCA(n_components=3)\n",
    "X_r = pca.fit(X).transform(X)\n",
    "\n",
    "# Percentage of variance explained for each components\n",
    "print('explained variance ratio (first two components): %s'\n",
    "      % str(pca.explained_variance_ratio_))\n",
    "\n",
    "colors = \"bryg\"[:n]\n",
    "symbols = \"o^o^\"[:n]\n",
    "\n",
    "plt.figure()\n",
    "plt.axes(ylabel='PC2', xlabel = 'PC1')\n",
    "for c, i, target_name, mark in zip(colors, [0, 1, 2, 3][:n], target_names, symbols):\n",
    "    plt.scatter(X_r[y == i, 0], X_r[y == i, 1], c=c, marker=mark, s=100, label=target_name)\n",
    "\n",
    "plt.legend(bbox_to_anchor=(1.3,0.5))\n",
    "\n",
    "plt.title('PCA of Aging dataset')\n",
    "\n",
    "\n",
    "plt.show()"
   ]
  },
  {
   "cell_type": "code",
   "execution_count": 167,
   "metadata": {
    "collapsed": false
   },
   "outputs": [
    {
     "ename": "AttributeError",
     "evalue": "'PCA' object has no attribute 'components_'",
     "output_type": "error",
     "traceback": [
      "\u001b[0;31m---------------------------------------------------------------------------\u001b[0m",
      "\u001b[0;31mAttributeError\u001b[0m                            Traceback (most recent call last)",
      "\u001b[0;32m<ipython-input-167-0440653d05d1>\u001b[0m in \u001b[0;36m<module>\u001b[0;34m()\u001b[0m\n\u001b[1;32m      2\u001b[0m \u001b[0;31m#X_r = pca.fit(X).transform(X)\u001b[0m\u001b[0;34m\u001b[0m\u001b[0;34m\u001b[0m\u001b[0m\n\u001b[1;32m      3\u001b[0m \u001b[0;34m\u001b[0m\u001b[0m\n\u001b[0;32m----> 4\u001b[0;31m \u001b[0mpc1\u001b[0m \u001b[0;34m=\u001b[0m \u001b[0mabs\u001b[0m\u001b[0;34m(\u001b[0m\u001b[0mpca\u001b[0m\u001b[0;34m.\u001b[0m\u001b[0mcomponents_\u001b[0m\u001b[0;34m[\u001b[0m\u001b[0;36m0\u001b[0m\u001b[0;34m]\u001b[0m\u001b[0;34m)\u001b[0m\u001b[0;34m\u001b[0m\u001b[0m\n\u001b[0m\u001b[1;32m      5\u001b[0m \u001b[0mpc1_ind\u001b[0m \u001b[0;34m=\u001b[0m \u001b[0mnp\u001b[0m\u001b[0;34m.\u001b[0m\u001b[0margsort\u001b[0m\u001b[0;34m(\u001b[0m\u001b[0mpc1\u001b[0m\u001b[0;34m)\u001b[0m\u001b[0;34m\u001b[0m\u001b[0m\n\u001b[1;32m      6\u001b[0m \u001b[0;34m\u001b[0m\u001b[0m\n",
      "\u001b[0;31mAttributeError\u001b[0m: 'PCA' object has no attribute 'components_'"
     ]
    }
   ],
   "source": [
    "#pca = PCA(n_components=3)\n",
    "#X_r = pca.fit(X).transform(X)\n",
    "\n",
    "pc1 = abs(pca.components_[0])\n",
    "pc1_ind = np.argsort(pc1)\n",
    "\n",
    "pc2 = abs(pca.components_[1])\n",
    "pc2_ind = np.argsort(pc2)"
   ]
  },
  {
   "cell_type": "code",
   "execution_count": 149,
   "metadata": {
    "collapsed": true
   },
   "outputs": [],
   "source": [
    "sel_ind = list(set(pc1_ind[:100]) | set(pc2_ind[:100]))"
   ]
  },
  {
   "cell_type": "code",
   "execution_count": 231,
   "metadata": {
    "collapsed": true
   },
   "outputs": [],
   "source": [
    "sel_ind = list(sel_ind)"
   ]
  },
  {
   "cell_type": "code",
   "execution_count": 302,
   "metadata": {
    "collapsed": false
   },
   "outputs": [],
   "source": [
    "dft = df.ix[sel_ind,range(2,10)]\n",
    "dft = dft[pd.notnull(dft).all(axis=1)]\n",
    "X = log_trans(np.array(dft)).transpose()\n"
   ]
  },
  {
   "cell_type": "code",
   "execution_count": 303,
   "metadata": {
    "collapsed": false
   },
   "outputs": [
    {
     "data": {
      "text/plain": [
       "8"
      ]
     },
     "execution_count": 303,
     "metadata": {},
     "output_type": "execute_result"
    }
   ],
   "source": [
    "len(X)"
   ]
  },
  {
   "cell_type": "code",
   "execution_count": null,
   "metadata": {
    "collapsed": true
   },
   "outputs": [],
   "source": [
    "for i in range(2):\n",
    "    "
   ]
  },
  {
   "cell_type": "code",
   "execution_count": null,
   "metadata": {
    "collapsed": true
   },
   "outputs": [],
   "source": [
    "def iter_pca(df, selects):\n",
    "    \n",
    "    dft = df.ix[selects, range(2,10)]\n",
    "    dft = dft[pd.notnull(dft).all(axis=1)]\n",
    "    X = log_trans(np.array(dft)).transpose()\n",
    "    y = np.array([0,0,0,0,1,1,1,1,2,2,2,2,3,3,3,3])\n",
    "\n",
    "    y = y[:len(X)]\n",
    "    n = int(len(X)/4)\n",
    "    \n",
    "    pca = PCA(n_components=3)\n",
    "    X_r = pca.fit(X).transform(X)\n",
    "    \n",
    "    pc1 = abs(pca.components_[0])\n",
    "    pc1_ind = np.argsort(pc1)\n",
    "\n",
    "    pc2 = abs(pca.components_[1])\n",
    "    pc2_ind = np.argsort(pc2)\n",
    "    \n",
    "    sel_ind = list(set(pc1_ind[:100]) | set(pc2_ind[:100]))"
   ]
  },
  {
   "cell_type": "code",
   "execution_count": 304,
   "metadata": {
    "collapsed": false
   },
   "outputs": [
    {
     "data": {
      "image/png": "[encoded data removed]",
      "text/plain": [
       "<matplotlib.figure.Figure at 0x10a764290>"
      ]
     },
     "metadata": {},
     "output_type": "display_data"
    }
   ],
   "source": [
    "\n",
    "#X = stats.zscore(X, axis=1)\n",
    "\n",
    "def plot_pca(X_r, n)\n",
    "\n",
    "    target_names = ['Old N','Old F','Yng N','Yng F'][:n]\n",
    "\n",
    "\n",
    "    colors = \"bryg\"[:n]\n",
    "    symbols = \"o^o^\"[:n]\n",
    "\n",
    "    plt.figure()\n",
    "    plt.axes(ylabel='PC2', xlabel = 'PC1')\n",
    "    for c, i, target_name, mark in zip(colors, [0, 1, 2, 3][:n], target_names, symbols):\n",
    "        plt.scatter(X_r[y == i, 0], X_r[y == i, 1], c=c, marker=mark, s=100, label=target_name)\n",
    "\n",
    "    plt.legend(bbox_to_anchor=(1.3,0.5))\n",
    "\n",
    "    plt.title('PCA of Aging dataset')\n",
    "\n",
    "\n",
    "    plt.show()\n",
    "\n",
    "\n",
    "\n",
    "sel_ind = list(set(pc1_ind[:100]) | set(pc2_ind[:100]))"
   ]
  },
  {
   "cell_type": "code",
   "execution_count": 305,
   "metadata": {
    "collapsed": false
   },
   "outputs": [
    {
     "data": {
      "text/plain": [
       "array([[ -1.72762686e-02,  -5.25586197e-02,   2.03460711e-02,\n",
       "          2.04753169e-03,  -1.85801674e-02,   2.17266773e-02,\n",
       "          1.04644419e-02,   8.03784884e-03,  -4.63863795e-02,\n",
       "         -1.05713258e-02,   3.01712534e-02,   1.94177741e-02,\n",
       "         -4.57609086e-02,   5.26771972e-04,  -5.54332200e-03,\n",
       "         -1.89359371e-02,  -2.04157094e-01,  -4.63458889e-02,\n",
       "          7.56341771e-02,  -4.29590211e-02,  -4.76475606e-02,\n",
       "         -1.01532523e-02,  -4.92287931e-02,   2.38163895e-04,\n",
       "         -1.99760486e-03,   5.89137146e-02,   8.81659327e-03,\n",
       "         -4.00439189e-02,   4.20006621e-02,  -1.73310136e-02,\n",
       "          3.55819972e-02,   1.13763593e-02,   2.21557721e-02,\n",
       "         -1.12356901e-02,  -6.05826038e-02,  -1.37758080e-01,\n",
       "         -3.83847829e-02,   3.91757079e-02,   3.52380687e-02,\n",
       "          5.70772387e-02,   4.90291668e-02,   3.91944936e-01,\n",
       "         -1.12076140e-02,  -1.73802543e-02,  -1.99326710e-02,\n",
       "          5.51057959e-03,  -5.09187063e-03,  -1.17059064e-03,\n",
       "          5.13367412e-02,   1.01807524e-02,   8.55166674e-05,\n",
       "         -4.25083677e-02,  -7.11172370e-02,   5.25420871e-02,\n",
       "         -2.57133899e-02,   8.75596114e-03,  -1.32779693e-01,\n",
       "         -1.97485368e-02,  -1.40656843e-02,   1.97942141e-02,\n",
       "          5.11065670e-03,   1.42491402e-02,   2.08076374e-02,\n",
       "         -1.64114327e-02,  -6.59284845e-02,  -1.16010276e-01,\n",
       "         -1.10076914e-02,  -2.81485412e-02,  -4.50359499e-03,\n",
       "          5.18611464e-01,  -4.95345104e-02,   2.93188792e-02,\n",
       "          3.30233002e-03,  -9.99404219e-04,   6.79783924e-03,\n",
       "         -1.85757238e-03,   5.11394481e-03,   3.34141306e-02,\n",
       "          1.78841406e-02,   9.89586151e-02,  -1.07017913e-02,\n",
       "         -3.61873640e-02,   1.82534035e-03,  -6.62499356e-02,\n",
       "          1.34193481e-02,   6.13578265e-02,  -4.34712978e-03,\n",
       "          1.99588978e-02,   3.42847357e-02,   1.27752148e-02,\n",
       "          2.54572569e-02,   4.74026818e-03,  -9.72180016e-03,\n",
       "          1.60839111e-02,  -2.44358896e-02,   2.74760278e-02,\n",
       "         -8.09461919e-03,  -6.64199487e-02,   6.19593875e-02,\n",
       "          2.66343457e-02,   4.79576310e-02,  -4.81420983e-02,\n",
       "         -4.40307652e-02,  -8.37169840e-02,  -8.02550582e-02,\n",
       "          1.03465825e-02,   1.89055474e-01,   1.97797295e-02,\n",
       "         -3.44317576e-02,   1.15323982e-02,   1.26823552e-01,\n",
       "         -6.15965216e-02,   2.50785336e-02,   8.91175833e-04,\n",
       "         -1.26594926e-01,  -3.51419189e-02,   8.11461737e-04,\n",
       "          3.27831399e-02,  -7.94420722e-03,   9.67213491e-02,\n",
       "         -7.06667194e-02,  -2.71520791e-02,  -1.15322084e-02,\n",
       "         -4.18461099e-04,   1.00683339e-02,   5.83523419e-03,\n",
       "          2.03718411e-01,  -2.93347351e-02,  -6.03086442e-02,\n",
       "          1.64963163e-02,   3.66078381e-02,  -1.08447356e-02,\n",
       "          3.22859444e-02,  -4.32291720e-03,   1.67783959e-02,\n",
       "          4.59573856e-02,   1.56545260e-02,  -3.26225118e-03,\n",
       "          1.55198976e-02,   7.78019704e-03,  -2.44652552e-02,\n",
       "         -9.28928957e-02,   1.37688812e-02,   4.18576421e-04,\n",
       "         -9.82904567e-02,   1.83605972e-02,   4.23227922e-02,\n",
       "          6.82404542e-02,  -3.31649367e-03,  -2.28073449e-02,\n",
       "          9.24217920e-02,   4.97467921e-02,  -1.22617565e-01,\n",
       "         -1.35108450e-02,   3.24771387e-02,  -1.21049491e-03,\n",
       "          5.70960079e-02,  -5.43344982e-03,   8.52781559e-03,\n",
       "         -6.10304755e-02,   2.45042169e-02,  -9.12919309e-02,\n",
       "         -6.13868813e-03,  -9.47186349e-02,   1.52793091e-02,\n",
       "         -4.75830816e-02,   4.80938388e-03,   1.40848984e-03,\n",
       "         -3.58413715e-01,   1.64271996e-02,  -1.71448171e-02,\n",
       "          6.55653658e-03,   6.05997485e-02,  -3.96623582e-02,\n",
       "         -8.82760805e-04],\n",
       "       [ -7.02730907e-02,   9.57783753e-02,  -3.77520021e-02,\n",
       "          2.73700098e-03,   1.05291992e-03,   2.83027879e-02,\n",
       "         -3.35520968e-03,  -5.24281670e-02,   2.98978341e-01,\n",
       "         -3.96065470e-02,  -4.60136235e-03,   5.92033770e-03,\n",
       "         -6.08760335e-03,  -1.11545880e-03,   3.36977358e-04,\n",
       "         -6.90114163e-02,   1.37205989e-02,   1.17130434e-02,\n",
       "         -2.29446666e-01,   4.78457402e-02,   3.49887055e-02,\n",
       "          8.27696604e-03,   6.46567210e-02,   7.38737528e-02,\n",
       "          1.81079497e-03,  -1.80371801e-02,  -1.58325845e-02,\n",
       "          5.92537220e-02,   7.96009335e-03,  -3.36843197e-02,\n",
       "         -7.52055884e-02,  -4.26815554e-02,   1.68343662e-02,\n",
       "         -5.21848145e-02,   9.93317397e-02,   4.45929631e-02,\n",
       "          8.65813962e-02,  -6.26350616e-02,   1.72720984e-01,\n",
       "          2.63082188e-02,  -9.19819378e-02,  -1.78947429e-02,\n",
       "         -8.95581744e-02,  -3.86146952e-02,   7.87205816e-03,\n",
       "          2.14823620e-03,  -7.17793253e-03,   2.64769774e-03,\n",
       "          6.58003976e-02,  -6.92680603e-03,  -1.34798220e-03,\n",
       "         -9.57431606e-02,   5.22368242e-02,  -2.27669019e-02,\n",
       "          1.29277703e-02,   5.63359734e-03,   2.24617656e-03,\n",
       "          5.92353592e-02,  -7.39801742e-02,  -3.00592708e-02,\n",
       "         -4.21668834e-02,  -8.65643905e-02,   5.26883278e-01,\n",
       "          1.71670498e-02,   4.76778302e-02,   5.22291248e-02,\n",
       "          9.23169639e-03,   5.31426499e-02,  -7.21848152e-03,\n",
       "          1.90309310e-01,  -1.53464011e-01,  -8.50273503e-02,\n",
       "          3.34108127e-03,   5.52573352e-04,  -9.62042805e-04,\n",
       "          1.29805824e-01,   3.64723960e-02,  -1.17798871e-02,\n",
       "          3.83318132e-02,   4.65478657e-03,   5.91452274e-02,\n",
       "          6.04292649e-02,  -1.02048578e-02,  -1.14444439e-01,\n",
       "          7.36552050e-03,  -2.99416940e-02,   6.31709244e-03,\n",
       "          2.00251925e-02,  -3.68446245e-02,   6.58760009e-03,\n",
       "          5.96290213e-03,   1.11418071e-02,   1.82193611e-02,\n",
       "          1.93075423e-02,  -1.75717712e-02,   6.65670920e-02,\n",
       "          1.47960601e-02,   1.86576174e-02,   5.00762400e-02,\n",
       "         -4.25672978e-02,  -3.51470337e-02,   1.82737145e-02,\n",
       "         -3.23440410e-02,   4.67456536e-02,   6.84033100e-02,\n",
       "          3.05150202e-02,  -1.13548179e-01,  -7.80381674e-03,\n",
       "         -1.70768246e-02,   2.08010544e-02,  -2.67150800e-02,\n",
       "          4.90336435e-02,  -3.56236896e-02,  -3.21190901e-03,\n",
       "         -1.01641983e-02,   9.36137160e-03,  -6.53750442e-03,\n",
       "          3.03577508e-02,   1.09877140e-02,   2.22256102e-02,\n",
       "         -8.92581488e-02,   6.20089512e-02,  -3.54795685e-02,\n",
       "         -1.03929962e-02,  -1.89658839e-02,   1.53116146e-01,\n",
       "         -1.00779199e-01,  -5.23397934e-02,   3.31051327e-02,\n",
       "         -1.17860279e-01,  -3.70656107e-02,  -1.29641877e-02,\n",
       "          6.51078876e-03,  -1.62259651e-03,  -5.02175246e-02,\n",
       "          3.56673912e-02,   5.01242938e-02,   1.28137180e-03,\n",
       "         -4.30406882e-02,  -3.60122865e-03,  -1.07850953e-02,\n",
       "          5.19348617e-02,   1.25836435e-02,  -7.21903718e-02,\n",
       "          7.65297124e-02,   4.95175046e-02,  -2.52006151e-02,\n",
       "          2.10581387e-02,  -7.38004764e-02,   2.91672236e-02,\n",
       "         -1.15874978e-01,  -2.37857165e-03,   8.36436716e-02,\n",
       "         -5.68900981e-02,   7.38172733e-03,   2.83886643e-02,\n",
       "          2.07406694e-02,  -5.57783373e-03,  -4.09806228e-02,\n",
       "         -4.58462737e-02,  -3.53136458e-02,  -1.93425524e-02,\n",
       "          2.38940442e-02,   6.08386351e-02,  -4.47018949e-02,\n",
       "         -4.91978238e-02,  -9.02262183e-02,  -2.76523770e-02,\n",
       "         -9.72908840e-02,  -3.64057540e-03,  -3.06988266e-01,\n",
       "         -5.87755899e-03,   7.43334670e-02,   4.85365670e-02,\n",
       "         -7.25156377e-03],\n",
       "       [  4.76445134e-03,  -7.81448953e-02,   1.47561312e-02,\n",
       "         -5.17199155e-03,  -1.35243220e-02,   3.50695585e-02,\n",
       "          5.49159854e-02,   6.19657633e-02,  -1.29798469e-02,\n",
       "          8.06070784e-03,   1.21016280e-02,  -2.28031389e-02,\n",
       "         -1.42274352e-02,   8.80734885e-04,  -5.58003158e-03,\n",
       "          1.01475741e-01,   3.92159653e-03,   1.09477872e-02,\n",
       "         -2.24241379e-02,  -1.00781398e-01,   4.84838119e-02,\n",
       "          3.06405357e-03,  -3.32599234e-02,   7.06783637e-02,\n",
       "          1.73472715e-03,   6.06527888e-02,   2.14426086e-03,\n",
       "         -1.36622182e-02,  -1.14389211e-01,   8.52407752e-02,\n",
       "         -1.38545362e-02,   3.90835567e-02,  -1.79262134e-03,\n",
       "         -2.84617544e-02,   5.55647804e-02,  -1.49278892e-02,\n",
       "          3.36560319e-03,   1.06220283e-01,   2.01683800e-01,\n",
       "          1.70215050e-01,  -1.20450914e-02,   4.63599528e-02,\n",
       "          1.50532364e-01,  -2.55612276e-02,   7.15271475e-02,\n",
       "         -3.29619513e-02,   6.07838886e-03,  -3.68169474e-04,\n",
       "         -1.40692224e-02,  -2.84731979e-02,  -1.10820781e-03,\n",
       "          1.48651552e-01,  -1.11646006e-01,   9.26910151e-02,\n",
       "         -4.35738132e-02,  -1.56632480e-02,  -6.80597978e-02,\n",
       "          3.28887349e-02,   3.65740770e-02,   5.84211045e-02,\n",
       "         -4.26406732e-03,   4.39091373e-03,   4.32620410e-02,\n",
       "          1.92223952e-02,  -1.63118230e-02,   1.17060423e-02,\n",
       "          1.47400261e-02,  -1.10351983e-02,   1.88335705e-02,\n",
       "         -1.05766180e-01,  -1.32829458e-02,  -3.16494580e-02,\n",
       "          7.05991269e-03,  -3.92870446e-04,  -6.05437264e-02,\n",
       "          5.16603381e-02,   5.31630426e-01,   4.22139298e-02,\n",
       "         -1.32821632e-01,  -3.83047166e-02,  -5.34368479e-02,\n",
       "         -8.60088010e-03,   4.00604883e-02,  -1.12023657e-01,\n",
       "         -3.80920399e-03,   2.09448371e-02,   1.04475446e-02,\n",
       "         -3.17576900e-02,  -1.31049303e-03,   8.16053934e-03,\n",
       "         -6.93742384e-02,  -4.26475077e-02,  -1.92489579e-02,\n",
       "          3.28070463e-02,   4.52569479e-02,   6.78961306e-02,\n",
       "          2.97040478e-02,   2.32645387e-01,  -5.81153087e-02,\n",
       "         -2.88607877e-03,  -3.13828270e-02,   3.24976115e-02,\n",
       "         -1.00846759e-01,  -4.26043331e-02,   9.03192794e-03,\n",
       "         -9.49012431e-03,   2.52528442e-01,   9.43422917e-03,\n",
       "          1.92033039e-02,   2.29387092e-02,   5.34864163e-02,\n",
       "          7.34992274e-02,  -5.75077400e-02,  -4.29125293e-03,\n",
       "          7.88120340e-02,   2.72563898e-02,  -9.10646758e-03,\n",
       "         -1.30655213e-02,   1.15871522e-02,   5.51648530e-02,\n",
       "          2.31372119e-02,   7.58455987e-02,  -3.37339440e-02,\n",
       "          2.05448261e-02,   4.28546643e-02,  -7.10342018e-02,\n",
       "          1.94301976e-02,   1.68686755e-02,   6.25258988e-02,\n",
       "         -6.60871907e-02,   8.13980039e-03,  -3.98088768e-02,\n",
       "          3.01617922e-02,   5.54209707e-03,   6.27171807e-02,\n",
       "         -5.41716707e-03,  -3.58691162e-02,  -1.73099071e-02,\n",
       "         -7.89558444e-02,  -1.74656396e-02,  -3.37842576e-02,\n",
       "         -2.67101922e-02,   1.10357949e-02,  -2.92139108e-03,\n",
       "         -2.16272727e-01,  -4.88733536e-02,   4.22505828e-02,\n",
       "         -2.67438643e-01,   8.18582360e-03,   8.86048788e-02,\n",
       "         -6.19982330e-02,   5.76969798e-02,   2.48915797e-02,\n",
       "          7.42774976e-02,   1.36382301e-02,   8.38424325e-03,\n",
       "         -5.23147675e-02,  -5.73550697e-03,  -3.36245474e-02,\n",
       "         -2.94115302e-02,  -6.17545441e-02,  -7.19293091e-02,\n",
       "          5.95795787e-02,  -2.68637714e-02,   2.61782600e-02,\n",
       "          3.25930173e-02,   3.36721882e-02,  -3.32337571e-02,\n",
       "          9.51421571e-02,   7.50788104e-02,  -1.07827388e-01,\n",
       "          5.91636514e-02,  -4.61850056e-03,   2.18981816e-02,\n",
       "         -6.04454674e-04]])"
      ]
     },
     "execution_count": 305,
     "metadata": {},
     "output_type": "execute_result"
    }
   ],
   "source": [
    "pca.components_"
   ]
  },
  {
   "cell_type": "code",
   "execution_count": null,
   "metadata": {
    "collapsed": true
   },
   "outputs": [],
   "source": []
  }
 ],
 "metadata": {
  "kernelspec": {
   "display_name": "Python 2",
   "language": "python",
   "name": "python2"
  },
  "language_info": {
   "codemirror_mode": {
    "name": "ipython",
    "version": 2
   },
   "file_extension": ".py",
   "mimetype": "text/x-python",
   "name": "python",
   "nbconvert_exporter": "python",
   "pygments_lexer": "ipython2",
   "version": "2.7.11"
  }
 },
 "nbformat": 4,
 "nbformat_minor": 0
}
