{
 "cells": [
  {
   "cell_type": "code",
   "execution_count": 1,
   "metadata": {
    "collapsed": true
   },
   "outputs": [],
   "source": [
    "%matplotlib inline"
   ]
  },
  {
   "cell_type": "code",
   "execution_count": 2,
   "metadata": {
    "collapsed": true
   },
   "outputs": [],
   "source": [
    "import pandas as pd"
   ]
  },
  {
   "cell_type": "code",
   "execution_count": 3,
   "metadata": {
    "collapsed": true
   },
   "outputs": [],
   "source": [
    "import csv\n",
    "import matplotlib.pyplot as plt"
   ]
  },
  {
   "cell_type": "code",
   "execution_count": 4,
   "metadata": {
    "collapsed": true
   },
   "outputs": [],
   "source": [
    "import math\n",
    "import numpy as np"
   ]
  },
  {
   "cell_type": "code",
   "execution_count": 5,
   "metadata": {
    "collapsed": false
   },
   "outputs": [],
   "source": [
    "from scipy import stats\n",
    "\n",
    "import sklearn\n",
    "from sklearn import linear_model\n",
    "from sklearn import datasets\n",
    "from sklearn.decomposition import PCA\n",
    "#from sklearn.discriminant_analysis import LinearDiscriminantAnalysis as LDA\n"
   ]
  },
  {
   "cell_type": "code",
   "execution_count": 6,
   "metadata": {
    "collapsed": false,
    "scrolled": false
   },
   "outputs": [
    {
     "name": "stderr",
     "output_type": "stream",
     "text": [
      "/home/tjyacoub/anaconda2/lib/python2.7/site-packages/IPython/core/interactiveshell.py:2902: DtypeWarning: Columns (1,2,3,4,5,6,7,8,9,10,11,12,13,14,15,16,17,18,19,20,21,22,23,24,25,26,27,28,29,30,31,32,33,34,35,36,37,38,39,40,41,42,43,44,45,46,47,48,49,50,51,52,53,54,55,56,57,58,59,60,61,62,63,64,65,66,67,68,69,70,71,72,73,74,75,76,77,78,79,80,81,82,83,84,85,86,87,88,89,90,91,92,93,94,95,96,97,98,99,100,101,102,103,104,105,106,107,108,109,110,111,112,113,114,115,116,117,118,119,120,121,122,123,124,125,126,127,128,129,130,131,132,133,134,135,136,137,138,139,140,141,142,143,144,145,146,147,148,149,150,151,152,153,154,155) have mixed types. Specify dtype option on import or set low_memory=False.\n",
      "  interactivity=interactivity, compiler=compiler, result=result)\n"
     ]
    }
   ],
   "source": [
    "df_Casp = pd.read_csv(\"Casp8.txt\",sep='\\t');"
   ]
  },
  {
   "cell_type": "code",
   "execution_count": 7,
   "metadata": {
    "collapsed": false
   },
   "outputs": [],
   "source": [
    "def unique(a, b):\n",
    "    return list(set(a) != set(b))\n",
    "def intersect(a, b):\n",
    "    return list(set(a) & set(b))\n",
    "def union(a, b):\n",
    "    return list(set(a) | set(b))"
   ]
  },
  {
   "cell_type": "code",
   "execution_count": 8,
   "metadata": {
    "collapsed": false
   },
   "outputs": [],
   "source": [
    "def df_to_names(df):\n",
    "    \n",
    "    name_dict = {}\n",
    "        \n",
    "    for i in range(1,len(df.columns)):\n",
    "        name = df.columns[i][:-2]\n",
    "        if name in name_dict:\n",
    "            name_dict[name].append(i)\n",
    "        else:\n",
    "            name_dict[name] = [i]\n",
    "            \n",
    "    return name_dict"
   ]
  },
  {
   "cell_type": "code",
   "execution_count": 20,
   "metadata": {
    "collapsed": false
   },
   "outputs": [],
   "source": [
    "def df_to_knock(df):\n",
    "    \n",
    "    knock_dict = {}\n",
    "        \n",
    "    for i in range(1,len(df.columns)):\n",
    "        name = df.columns[i].split('.')[0]\n",
    "        if name in knock_dict:\n",
    "            knock_dict[name].append(i)\n",
    "        else:\n",
    "            knock_dict[name] = [i]\n",
    "            \n",
    "    return knock_dict"
   ]
  },
  {
   "cell_type": "code",
   "execution_count": 117,
   "metadata": {
    "collapsed": false
   },
   "outputs": [],
   "source": [
    "def col_to_cell(cols):\n",
    "    cell_dict = {}\n",
    "    for c in range(len(cols)):\n",
    "        sp = cols[c].split('.')\n",
    "        cell = sp[1] + '.' + sp[2]\n",
    "        #cell = col.split('.')[1]\n",
    "        if cell not in cell_dict:\n",
    "            cell_dict[cell] = [c]\n",
    "        else:\n",
    "            cell_dict[cell].append(c)\n",
    "    \n",
    "    cell_dict = OrderedDict(sorted(cell_dict.items(), key=lambda t: t[0]))\n",
    "    return cell_dict\n",
    "\n",
    "def cell_to_color(cell_dict):\n",
    "    color_dict = {}\n",
    "    #colors = ['#000080','#40e0d0', '#3cb371', 'g', 'r', 'c', '#8a2be2', 'k', 'v', 'm']\n",
    "    colors = [\"#FF2FD1\",\n",
    "\"#0FB18D\",\n",
    "\"#F35F0E\",\n",
    "\"#F5A6B0\",\n",
    "\"#304EB1\",\n",
    "\"#423642\",\n",
    "\"#55C0F9\",\n",
    "\"#844F0F\",\n",
    "\"#6F1467\",\n",
    "\"#0C4E2D\",\n",
    "\"#D677FC\",\n",
    "\"#9094F5\",\n",
    "\"#004668\",\n",
    "\"#B1BAE0\",\n",
    "\"#F58B40\"]\n",
    "    \n",
    "    for i, c in enumerate(cell_dict):\n",
    "        #print i, c, colors[i]\n",
    "        color_dict[c] = colors[i]\n",
    "\n",
    "    return color_dict\n"
   ]
  },
  {
   "cell_type": "code",
   "execution_count": 105,
   "metadata": {
    "collapsed": true
   },
   "outputs": [],
   "source": [
    "import collections\n",
    "from collections import OrderedDict"
   ]
  },
  {
   "cell_type": "code",
   "execution_count": 106,
   "metadata": {
    "collapsed": false
   },
   "outputs": [],
   "source": [
    "knock_dict = df_to_knock(df_Casp)"
   ]
  },
  {
   "cell_type": "code",
   "execution_count": 238,
   "metadata": {
    "collapsed": false
   },
   "outputs": [],
   "source": [
    "def PCA_groups(df):\n",
    "    knock_dict = df_to_knock(df)\n",
    "    #for name in knock_dict.keys()[0]:\n",
    "    X_rs = []\n",
    "    cell_dicts = []\n",
    "    pcexps = []\n",
    "    for name in knock_dict.keys()[:4]: \n",
    "        #print name\n",
    "        \n",
    "        Xm = df_Casp.ix[1:,knock_dict[name]]\n",
    "        #print Xm.columns\n",
    "        X = np.array(Xm).astype(float)\n",
    "        for row in range(len(X)):\n",
    "            X[row] = np.log(X[row]+1)\n",
    "        X = X.transpose()\n",
    "        \n",
    "        n_components=20\n",
    "        pca = PCA(n_components)\n",
    "        X_r = pca.fit(X).transform(X)\n",
    "        X_rs.append(X_r)\n",
    "        \n",
    "        plt.figure()\n",
    "        PCx = 'PC1'\n",
    "        PCxi = 0\n",
    "        PCy = 'PC3'\n",
    "        PCyi = 2\n",
    "        \n",
    "        print len(pca.explained_variance_ratio_)\n",
    "        pca1 = pca.explained_variance_ratio_[PCxi]\n",
    "        pca2 = pca.explained_variance_ratio_[PCyi]\n",
    "        \n",
    "        var = 0\n",
    "        pcexp = []\n",
    "        for i in range(n_components):\n",
    "            var = pca.explained_variance_ratio_[i]\n",
    "            pcexp.append(var)\n",
    "        pcexps.append(pcexp)\n",
    "        \n",
    "        \n",
    "        plt.axes(ylabel=PCy +'\\n'+ (str(round(pca2*100,0))+'%'), xlabel=PCx+'\\n'+(str(round(pca1*100,0))+'%'))\n",
    "        \n",
    "        cell_dict = col_to_cell(Xm.columns)\n",
    "        cell_dicts.append(cell_dict)\n",
    "        cell_colors = cell_to_color(cell_dict)\n",
    "        for ci in cell_dict:\n",
    "            #print ci\n",
    "            ind = cell_dict[ci]\n",
    "            plt.scatter(X_r[ind,PCxi], X_r[ind,PCyi], s=150, c=cell_colors[ci], label = ci)\n",
    "        plt.plot()\n",
    "        plt.legend(bbox_to_anchor=(1.3,0.5))\n",
    "        plt.title(name)\n",
    "        #print X.columns\n",
    "    return X_rs, cell_dicts, pcexps\n",
    "        "
   ]
  },
  {
   "cell_type": "code",
   "execution_count": 239,
   "metadata": {
    "collapsed": false,
    "scrolled": false
   },
   "outputs": [
    {
     "name": "stdout",
     "output_type": "stream",
     "text": [
      "20\n",
      "20\n",
      "20\n",
      "20\n"
     ]
    },
    {
     "data": {
      "image/png": "[encoded data removed]",
      "text/plain": [
       "<matplotlib.figure.Figure at 0x7f2233f2a450>"
      ]
     },
     "metadata": {},
     "output_type": "display_data"
    },
    {
     "data": {
      "image/png": "[encoded data removed]",
      "text/plain": [
       "<matplotlib.figure.Figure at 0x7f2233f32710>"
      ]
     },
     "metadata": {},
     "output_type": "display_data"
    },
    {
     "data": {
      "image/png": "[encoded data removed]",
      "text/plain": [
       "<matplotlib.figure.Figure at 0x7f2233f32f50>"
      ]
     },
     "metadata": {},
     "output_type": "display_data"
    },
    {
     "data": {
      "image/png": "[encoded data removed]",
      "text/plain": [
       "<matplotlib.figure.Figure at 0x7f2234077c10>"
      ]
     },
     "metadata": {},
     "output_type": "display_data"
    }
   ],
   "source": [
    "X_rs, cell_dicts, pcexps = PCA_groups(df_Casp)"
   ]
  },
  {
   "cell_type": "code",
   "execution_count": 193,
   "metadata": {
    "collapsed": true
   },
   "outputs": [],
   "source": [
    "pcexp = pcexps[0]"
   ]
  },
  {
   "cell_type": "code",
   "execution_count": 211,
   "metadata": {
    "collapsed": false
   },
   "outputs": [
    {
     "data": {
      "text/plain": [
       "[0.38359500794366036,\n",
       " 0.18704096654323832,\n",
       " 0.068110338867325398,\n",
       " 0.039631952308686068,\n",
       " 0.022060239128084178,\n",
       " 0.017203068316116787,\n",
       " 0.015922341233285255,\n",
       " 0.014474017377115634,\n",
       " 0.013700670850150132,\n",
       " 0.013048601888762378,\n",
       " 0.012909225686358926,\n",
       " 0.011834839723127171,\n",
       " 0.01153127923390028,\n",
       " 0.011395075753568564,\n",
       " 0.010921290678134106,\n",
       " 0.010423486363109188,\n",
       " 0.0098455103133223837,\n",
       " 0.0095849316981871779,\n",
       " 0.0094792656809129759,\n",
       " 0.0092977689849048119]"
      ]
     },
     "execution_count": 211,
     "metadata": {},
     "output_type": "execute_result"
    }
   ],
   "source": [
    "pcexp"
   ]
  },
  {
   "cell_type": "code",
   "execution_count": 186,
   "metadata": {
    "collapsed": false
   },
   "outputs": [],
   "source": [
    "tx = X_rs[0]"
   ]
  },
  {
   "cell_type": "code",
   "execution_count": 203,
   "metadata": {
    "collapsed": false
   },
   "outputs": [
    {
     "data": {
      "text/plain": [
       "array([-24.98224469, -30.38136602,  14.32949807,  19.98545901,\n",
       "         6.46596731,  -4.05834713,   7.86135886,  -9.81738438,\n",
       "         5.59106971,  -6.4240556 ,  16.76443252,  30.63452739,\n",
       "        -3.12560523, -16.19228879,   1.7563054 ,  12.45814697,\n",
       "        -1.06721298,  -0.96519612,  -0.56084229,  -3.51331709])"
      ]
     },
     "execution_count": 203,
     "metadata": {},
     "output_type": "execute_result"
    }
   ],
   "source": [
    "pc1"
   ]
  },
  {
   "cell_type": "code",
   "execution_count": 209,
   "metadata": {
    "collapsed": false
   },
   "outputs": [],
   "source": [
    "mouse1 = tx[[0,1,2,3]]"
   ]
  },
  {
   "cell_type": "code",
   "execution_count": 217,
   "metadata": {
    "collapsed": false,
    "scrolled": true
   },
   "outputs": [
    {
     "name": "stdout",
     "output_type": "stream",
     "text": [
      "-23.1858738958 3.61761089455\n",
      "-29.4227068128 1.8385974361\n",
      "18.6855115187 3.60829571773\n",
      "17.9834972956 2.87025802428\n",
      "4.57694644971 1.09918623881\n",
      "1.54967261336 3.44544442015\n",
      "4.71931225715 4.70346616329\n",
      "-5.91111943685 2.40286463029\n",
      "5.86891531264 3.64894988468\n",
      "-1.60154092174 2.79367084846\n",
      "9.60234923205 4.41528257377\n",
      "0.620677468376 18.3989563796\n",
      "-2.66956917688 11.9609307585\n",
      "-3.20885790306 10.875626625\n",
      "-3.11214229858 10.4139562313\n",
      "-4.78529415144 10.9269475228\n",
      "1.32541065583 8.31826223473\n",
      "1.21615462183 6.86697500088\n",
      "-0.251558804237 6.30626025175\n",
      "1.66965024227 6.446288017\n"
     ]
    }
   ],
   "source": [
    "for pc in range(len(mouse1.transpose())):\n",
    "    avg = np.mean(mouse1.transpose()[pc])\n",
    "    std = np.std(mouse1.transpose()[pc])\n",
    "    print avg, std"
   ]
  },
  {
   "cell_type": "code",
   "execution_count": 213,
   "metadata": {
    "collapsed": false,
    "scrolled": true
   },
   "outputs": [
    {
     "data": {
      "text/plain": [
       "array([[-24.98224469, -21.00050737, -28.08515659, -18.67558693],\n",
       "       [-30.38136602, -28.60438931, -31.79417918, -26.91089274],\n",
       "       [ 14.32949807,  21.94645701,  15.92615977,  22.53993122],\n",
       "       [ 19.98545901,  16.67246617,  21.31146219,  13.96460182],\n",
       "       [  6.46596731,   3.92482576,   3.7658577 ,   4.15113503],\n",
       "       [ -4.05834713,   1.93554062,   3.1000565 ,   5.22144047],\n",
       "       [  7.86135886,   3.31426904,   9.98005123,  -2.27843009],\n",
       "       [ -9.81738438,  -4.01811361,  -5.95949004,  -3.84948972],\n",
       "       [  5.59106971,   6.62229163,  10.75469864,   0.50760127],\n",
       "       [ -6.4240556 ,  -0.04763984,   0.35308868,  -0.28755692],\n",
       "       [ 16.76443252,   4.81686439,   7.72178254,   9.10631748],\n",
       "       [ 30.63452739,  -4.28467958,  -4.38458023, -19.4825577 ],\n",
       "       [ -3.12560523,   6.83574075,   7.65085862, -22.03927085],\n",
       "       [-16.19228879,   5.81309291,   9.1474612 , -11.60369693],\n",
       "       [  1.7563054 ,   4.29981408,   2.57471986, -21.07940853],\n",
       "       [ 12.45814697,  -7.78209189, -17.81590991,  -6.00132179],\n",
       "       [ -1.06721298,  -2.92918067,  15.39273765,  -6.09470137],\n",
       "       [ -0.96519612,  -6.11398466,  12.4871866 ,  -0.54338733],\n",
       "       [ -0.56084229,   8.26846391,  -9.48923349,   0.77537666],\n",
       "       [ -3.51331709,   8.92627991,  -5.86897508,   7.13461323]])"
      ]
     },
     "execution_count": 213,
     "metadata": {},
     "output_type": "execute_result"
    }
   ],
   "source": [
    "mouse1.transpose()"
   ]
  },
  {
   "cell_type": "code",
   "execution_count": 212,
   "metadata": {
    "collapsed": false
   },
   "outputs": [
    {
     "name": "stdout",
     "output_type": "stream",
     "text": [
      "[-24.98224469 -30.38136602  14.32949807  19.98545901   6.46596731\n",
      "  -4.05834713   7.86135886  -9.81738438   5.59106971  -6.4240556\n",
      "  16.76443252  30.63452739  -3.12560523 -16.19228879   1.7563054\n",
      "  12.45814697  -1.06721298  -0.96519612  -0.56084229  -3.51331709]\n",
      "[-21.00050737 -28.60438931  21.94645701  16.67246617   3.92482576\n",
      "   1.93554062   3.31426904  -4.01811361   6.62229163  -0.04763984\n",
      "   4.81686439  -4.28467958   6.83574075   5.81309291   4.29981408\n",
      "  -7.78209189  -2.92918067  -6.11398466   8.26846391   8.92627991]\n",
      "[-28.08515659 -31.79417918  15.92615977  21.31146219   3.7658577\n",
      "   3.1000565    9.98005123  -5.95949004  10.75469864   0.35308868\n",
      "   7.72178254  -4.38458023   7.65085862   9.1474612    2.57471986\n",
      " -17.81590991  15.39273765  12.4871866   -9.48923349  -5.86897508]\n",
      "[-18.67558693 -26.91089274  22.53993122  13.96460182   4.15113503\n",
      "   5.22144047  -2.27843009  -3.84948972   0.50760127  -0.28755692\n",
      "   9.10631748 -19.4825577  -22.03927085 -11.60369693 -21.07940853\n",
      "  -6.00132179  -6.09470137  -0.54338733   0.77537666   7.13461323]\n"
     ]
    }
   ],
   "source": [
    "for mouse in mouse1: \n",
    "    print mouse"
   ]
  },
  {
   "cell_type": "code",
   "execution_count": 202,
   "metadata": {
    "collapsed": false
   },
   "outputs": [
    {
     "data": {
      "text/plain": [
       "array([[ -2.49822447e+01,  -3.03813660e+01,   1.43294981e+01,\n",
       "          1.99854590e+01,   6.46596731e+00,  -4.05834713e+00,\n",
       "          7.86135886e+00,  -9.81738438e+00,   5.59106971e+00,\n",
       "         -6.42405560e+00,   1.67644325e+01,   3.06345274e+01,\n",
       "         -3.12560523e+00,  -1.61922888e+01,   1.75630540e+00,\n",
       "          1.24581470e+01,  -1.06721298e+00,  -9.65196125e-01,\n",
       "         -5.60842294e-01,  -3.51331709e+00],\n",
       "       [ -2.10005074e+01,  -2.86043893e+01,   2.19464570e+01,\n",
       "          1.66724662e+01,   3.92482576e+00,   1.93554062e+00,\n",
       "          3.31426904e+00,  -4.01811361e+00,   6.62229163e+00,\n",
       "         -4.76398439e-02,   4.81686439e+00,  -4.28467958e+00,\n",
       "          6.83574075e+00,   5.81309291e+00,   4.29981408e+00,\n",
       "         -7.78209189e+00,  -2.92918067e+00,  -6.11398466e+00,\n",
       "          8.26846391e+00,   8.92627991e+00],\n",
       "       [ -2.80851566e+01,  -3.17941792e+01,   1.59261598e+01,\n",
       "          2.13114622e+01,   3.76585770e+00,   3.10005650e+00,\n",
       "          9.98005123e+00,  -5.95949004e+00,   1.07546986e+01,\n",
       "          3.53088681e-01,   7.72178254e+00,  -4.38458023e+00,\n",
       "          7.65085862e+00,   9.14746120e+00,   2.57471986e+00,\n",
       "         -1.78159099e+01,   1.53927376e+01,   1.24871866e+01,\n",
       "         -9.48923349e+00,  -5.86897508e+00],\n",
       "       [ -1.86755869e+01,  -2.69108927e+01,   2.25399312e+01,\n",
       "          1.39646018e+01,   4.15113503e+00,   5.22144047e+00,\n",
       "         -2.27843009e+00,  -3.84948972e+00,   5.07601270e-01,\n",
       "         -2.87556922e-01,   9.10631748e+00,  -1.94825577e+01,\n",
       "         -2.20392708e+01,  -1.16036969e+01,  -2.10794085e+01,\n",
       "         -6.00132179e+00,  -6.09470137e+00,  -5.43387332e-01,\n",
       "          7.75376659e-01,   7.13461323e+00],\n",
       "       [ -2.57859615e+01,  -5.75220223e+01,  -3.71625920e+01,\n",
       "          6.83485276e+00,  -6.78434487e+00,  -2.07285329e+00,\n",
       "          4.74273949e+00,   4.42498430e+00,   1.14962691e+01,\n",
       "          1.44343387e+00,  -6.16416454e+00,   4.56303649e-01,\n",
       "          6.13475230e+00,   7.85669469e+00,   5.51241769e-01,\n",
       "          2.03686015e+00,  -3.22566517e+00,   4.76690066e+00,\n",
       "          1.10310397e+00,   5.73651190e+00],\n",
       "       [ -1.83914069e+01,  -4.68965302e+01,  -2.39226532e+01,\n",
       "          4.75828213e+00,  -1.32032070e+00,  -1.20245538e+01,\n",
       "         -7.54372944e-01,  -9.21526219e+00,  -4.00519973e+01,\n",
       "         -8.85791755e+00,   1.18235565e+01,  -6.11111544e+00,\n",
       "          8.65919873e+00,   2.92993468e+00,   2.79792276e+00,\n",
       "         -8.65467324e-01,  -4.57296869e-01,   2.22140321e-01,\n",
       "         -1.16309440e-01,   1.06241624e+00],\n",
       "       [ -1.94394586e+01,  -5.63498537e+01,  -3.06184979e+01,\n",
       "          9.77185022e+00,  -5.39214331e+00,  -4.86044912e+00,\n",
       "         -6.08153978e-01,   3.43724130e+00,   4.89759216e+00,\n",
       "          4.81528977e-01,  -1.15755857e+01,  -1.67967104e+00,\n",
       "         -7.00880563e+00,  -2.11138626e+00,   1.98188911e+00,\n",
       "          8.87953964e+00,  -7.93951418e+00,  -4.27970764e+00,\n",
       "          4.99410283e+00,   7.68837129e+00],\n",
       "       [ -2.23283717e+01,  -5.93342512e+01,  -3.51499658e+01,\n",
       "          5.97224967e+00,  -4.16752931e+00,  -1.27126429e+00,\n",
       "         -3.18277249e-01,  -1.39418204e+00,   8.87859216e+00,\n",
       "          2.40586863e+00,  -1.12802120e+01,  -4.70360894e+00,\n",
       "         -5.67047044e+00,   7.59616400e-01,   8.95804343e-02,\n",
       "          3.95474214e+00,   5.97431193e+00,  -3.74010521e+00,\n",
       "         -4.05869868e+00,  -1.38092732e+01],\n",
       "       [  5.39492593e+01,   3.36908321e+01,  -1.31849146e+01,\n",
       "          2.36435134e+01,   8.49688069e+00,   4.60875763e+00,\n",
       "         -4.58155234e+00,   3.60101633e+00,  -4.23743573e+00,\n",
       "          1.02662632e+00,  -5.13685588e+00,   2.53930625e+00,\n",
       "         -8.90288730e-01,  -1.53314611e+00,  -3.66664809e-02,\n",
       "          2.31280703e+00,   1.00156038e+01,  -1.14844605e+01,\n",
       "         -2.56549064e+01,   8.49819375e+00],\n",
       "       [  5.78485768e+01,   3.48021698e+01,  -1.54031748e+01,\n",
       "          2.44328953e+01,   7.46820444e+00,   4.94754329e+00,\n",
       "         -3.05543066e+00,   3.76171993e+00,  -4.37924122e-01,\n",
       "         -1.49835627e-01,  -6.05034704e-01,   9.12317862e-01,\n",
       "          2.89857375e+00,   2.30386907e+00,   4.64513322e-02,\n",
       "          9.63319453e-01,  -2.36537164e+00,   1.02146623e+00,\n",
       "          3.83615284e+00,   2.54112644e+00],\n",
       "       [  5.71924529e+01,   3.55671981e+01,  -1.59789465e+01,\n",
       "          2.55431664e+01,   7.16756891e+00,   5.74177584e+00,\n",
       "         -7.50063391e+00,   2.77197526e+00,  -3.57714208e+00,\n",
       "          2.38075524e+00,   6.05211032e-02,   1.01235928e+00,\n",
       "          2.76677151e+00,   1.78039053e+00,  -2.26692511e+00,\n",
       "         -4.32896935e+00,  -5.69982316e+00,   7.11703739e+00,\n",
       "          4.44085374e+00,  -1.43578459e+01],\n",
       "       [  5.46513081e+01,   3.46902353e+01,  -1.46536215e+01,\n",
       "          2.38239282e+01,   9.72082422e+00,   6.21657268e+00,\n",
       "         -5.40879138e+00,   1.75128256e-01,  -1.32222738e+00,\n",
       "          7.21405283e-01,  -3.87797469e+00,   1.67478886e+00,\n",
       "         -1.40101175e+00,  -2.31325255e+00,  -1.67488638e-01,\n",
       "         -2.92311497e+00,  -4.95411553e+00,   1.22280884e-02,\n",
       "          1.59922212e+01,  -5.15001827e-01],\n",
       "       [  4.38773327e+01,   1.20105239e+01,   1.40207033e+01,\n",
       "         -6.72988861e+00,  -4.90904798e+00,  -1.32849624e+01,\n",
       "          1.36397164e+01,  -9.56019671e+00,  -1.47172372e+00,\n",
       "         -6.89402867e+00,  -1.14513949e+01,   2.08620508e+00,\n",
       "         -1.57356406e+01,   1.88075403e+00,   1.64285859e+01,\n",
       "         -1.62259641e+01,  -1.80403078e+01,  -5.16701176e+00,\n",
       "         -8.71550621e+00,  -7.49089892e+00],\n",
       "       [  4.06511042e+01,   7.19474080e+00,   1.65556463e+01,\n",
       "         -8.04392130e+00,   9.94785086e-02,  -4.79143384e+00,\n",
       "          6.45422633e+00,  -2.99841570e+00,   1.33976389e+00,\n",
       "         -3.07979373e+00,  -7.02918972e+00,   1.23575195e+00,\n",
       "          4.17019283e+00,  -1.41901889e+00,   4.95637928e+00,\n",
       "         -9.46976375e-01,   9.73284607e-01,  -2.22069280e-01,\n",
       "          5.65869926e+00,   8.94647893e+00],\n",
       "       [  3.54285295e+01,   7.52382219e+00,   1.53898233e+01,\n",
       "         -7.55080999e+00,  -2.70602470e+00,  -1.46993886e+01,\n",
       "          1.11478278e+01,  -9.28671287e+00,  -1.80394478e+00,\n",
       "         -5.05521395e+00,  -1.94708561e+01,   4.27778734e+00,\n",
       "          1.40417795e+01,  -2.06246394e+00,  -3.02519158e+01,\n",
       "          3.03007678e+00,  -3.16651626e-02,   3.02197775e+00,\n",
       "         -3.02188790e+00,  -3.16287490e+00],\n",
       "       [  4.64420495e+01,   1.59656550e+01,   7.35718486e+00,\n",
       "         -3.31392154e+00,  -3.29118054e+00,  -7.17858164e+00,\n",
       "          5.76475275e+00,  -5.63058332e+00,  -2.83509247e+00,\n",
       "         -4.71006418e+00,  -9.28509809e+00,  -7.07798072e+00,\n",
       "         -1.01664998e+01,  -1.00281295e+01,   1.27599058e+01,\n",
       "          7.75684453e+00,   2.37826553e+01,   1.15666644e+01,\n",
       "          1.08236307e+01,   7.46810011e+00],\n",
       "       [  5.30573930e+01,   1.89084615e+01,  -6.31681135e+00,\n",
       "         -7.55471404e+00,  -6.42282064e+00,  -2.11001889e+00,\n",
       "          5.44197703e+00,  -2.52886406e-01,   5.68737458e+00,\n",
       "          2.70761508e+00,   9.62454076e+00,  -7.67329617e-01,\n",
       "          3.27240651e+00,   3.36161465e+00,  -4.34559632e-02,\n",
       "          1.68405401e-02,  -2.26137561e+00,   4.56204110e+00,\n",
       "         -1.52491617e-01,   5.34218447e+00],\n",
       "       [  5.20350109e+01,   1.79370566e+01,  -1.07651680e+01,\n",
       "         -1.11107654e+01,  -7.41259895e+00,  -1.17702085e+00,\n",
       "          3.77871290e+00,  -1.58600479e+00,   6.15234697e+00,\n",
       "         -8.15605462e-01,   7.42236958e+00,  -1.54082109e+00,\n",
       "          2.10648053e+00,   2.90143811e+00,  -5.92453804e-01,\n",
       "          1.03302358e+00,  -2.31424112e+00,  -3.13788452e-01,\n",
       "         -1.74893605e+00,   1.89899711e+00],\n",
       "       [  5.04595385e+01,   1.59750823e+01,  -1.07416075e+01,\n",
       "         -1.28176519e+01,  -1.06815110e+01,  -1.92658168e+00,\n",
       "          9.43630152e-01,  -1.87669354e+00,   6.63033608e+00,\n",
       "          2.16180769e+00,   1.60483134e+01,  -5.87343279e+00,\n",
       "         -4.01388841e-01,   4.78906759e+00,  -7.55222750e-01,\n",
       "          8.62867741e+00,  -1.09447770e+00,  -6.40064290e+00,\n",
       "         -1.01066158e+01,   1.08990603e+01],\n",
       "       [  4.92696167e+01,   1.36783729e+01,  -8.98808387e+00,\n",
       "         -1.55634000e+01,  -1.13452177e+01,  -6.91981486e-01,\n",
       "          5.59801014e+00,  -6.41629919e+00,   6.07212378e+00,\n",
       "          3.96700675e-01,   1.70116518e+01,  -7.50120873e+00,\n",
       "         -2.55961833e+00,   5.27023163e+00,  -3.60074220e+00,\n",
       "          7.27986640e+00,   3.16883490e+00,  -4.51942523e+00,\n",
       "          8.72222774e+00,  -1.80108164e+01],\n",
       "       [  2.85450271e+00,  -2.20605900e+01,   3.35442056e+01,\n",
       "         -1.23868418e+00,   4.48893163e+00,   3.97137136e+00,\n",
       "         -5.90579134e+00,   4.86909948e+00,  -2.45270745e+00,\n",
       "          1.36026452e+00,  -1.28775130e+00,   9.52927921e-01,\n",
       "         -1.58577892e+00,   5.08174863e+00,   2.09255507e+00,\n",
       "          6.79628193e+00,  -3.25024345e+00,  -9.19410370e-02,\n",
       "         -1.95750838e+00,  -4.20347633e-01],\n",
       "       [  6.27018295e+00,  -1.73502500e+01,   3.14420497e+01,\n",
       "         -3.25884804e+00,   4.62324452e+00,   4.42826394e+00,\n",
       "         -3.16134957e+00,   1.96690995e+00,  -4.91512698e-01,\n",
       "          1.20906639e+00,  -5.57687710e+00,  -9.32244271e-01,\n",
       "          7.71635983e+00,   1.10816658e+01,   3.91519368e+00,\n",
       "          7.51191118e+00,  -1.60121014e+00,  -9.90997695e+00,\n",
       "          5.38466542e+00,   7.75111440e-01],\n",
       "       [  2.79664718e+00,  -2.16385412e+01,   3.48830111e+01,\n",
       "         -1.11838429e+00,   3.45184095e+00,   5.46175125e+00,\n",
       "         -4.17924857e+00,   2.63397947e+00,   1.93593155e-01,\n",
       "         -2.26075047e-01,  -9.37541938e-01,  -1.13999857e+00,\n",
       "          5.36094269e+00,   1.03158367e+01,   2.90623300e+00,\n",
       "          5.87673481e+00,  -3.63169316e+00,   1.76769949e+00,\n",
       "          9.46265682e-01,   1.22649020e+00],\n",
       "       [  1.02228570e+01,  -1.70210391e+01,   2.99801401e+01,\n",
       "         -5.70804578e+00,   5.36869083e+00,   7.45110496e+00,\n",
       "         -1.13574401e+01,   2.99572927e+00,  -6.57425840e+00,\n",
       "          1.95556278e+00,  -5.55167703e+00,  -5.46740689e+00,\n",
       "         -4.43364742e+00,   2.58678628e+00,   3.07789354e+00,\n",
       "          1.32683666e+01,   2.64047291e+00,  -8.60265508e-01,\n",
       "         -5.70704328e+00,  -1.19266959e+01],\n",
       "       [  2.29892677e+01,  -2.22854312e+01,   7.08863511e-01,\n",
       "         -1.57461436e+01,   4.70854039e-01,   2.90532255e+00,\n",
       "         -3.81446774e+00,   8.99776640e+00,  -1.94051080e+00,\n",
       "          2.69817174e+00,   4.53560841e-02,   6.60494704e+00,\n",
       "          4.50993128e+00,  -4.10549441e+00,  -1.37796470e+00,\n",
       "         -1.07200584e+01,  -5.02093647e-01,   7.29242186e+00,\n",
       "          1.55115780e-01,   5.96292424e+00],\n",
       "       [  2.67581893e+01,  -2.04841021e+01,  -2.70887276e+00,\n",
       "         -2.20116452e+01,   6.07698544e-02,   5.10232125e+00,\n",
       "         -5.54014640e+00,   1.02383887e+01,  -1.19277793e+00,\n",
       "          2.60507342e+00,   2.78149641e+00,   8.17375938e+00,\n",
       "          3.63493732e+00,  -7.22067627e+00,  -1.24844522e+00,\n",
       "         -7.86396544e+00,  -3.63595329e+00,   2.75222808e+00,\n",
       "          2.52128231e+00,   5.62539570e+00],\n",
       "       [  2.46332784e+01,  -2.46087909e+01,  -6.06905705e+00,\n",
       "         -2.03568430e+01,  -5.01839134e+00,   5.30896399e+00,\n",
       "         -8.06167568e+00,   8.08977701e+00,  -2.29447834e+00,\n",
       "          3.59657541e+00,   2.58021836e+00,   3.97138122e+00,\n",
       "         -3.47868665e+00,  -8.14860472e+00,   2.18917212e-01,\n",
       "         -5.74112402e+00,   2.64151414e+00,  -3.47772047e-01,\n",
       "         -3.45516228e+00,  -3.01315440e+00],\n",
       "       [  2.02804547e+01,  -3.03851097e+01,  -2.42238175e+00,\n",
       "         -1.85767894e+01,  -1.47522038e-01,   5.69114090e+00,\n",
       "         -8.70432116e+00,   7.94199565e+00,  -2.50787901e+00,\n",
       "          5.07639621e+00,  -1.67898504e+00,   5.40971195e+00,\n",
       "         -1.67060444e+00,  -8.72172807e+00,  -7.84257357e-01,\n",
       "         -8.65471865e+00,   5.55756923e+00,   1.56162320e+00,\n",
       "         -4.62736865e-01,  -6.79951666e+00],\n",
       "       [ -6.62337584e+01,   3.60781568e+01,   4.27730902e+00,\n",
       "          4.71955583e+00,  -1.87877441e+01,  -1.16069759e+01,\n",
       "         -1.04416529e+01,   2.90367283e+00,  -5.78514852e+00,\n",
       "          7.16880363e+00,  -1.40093334e-01,   1.77231083e+01,\n",
       "         -1.64909290e+01,   2.08722629e+01,  -8.91008443e+00,\n",
       "         -7.42089191e+00,   1.10429931e+01,  -6.33819499e+00,\n",
       "          6.88921642e+00,   3.29292949e+00],\n",
       "       [ -6.49729465e+01,   3.27016568e+01,   1.01545830e+01,\n",
       "          9.04071453e+00,  -1.85620819e+01,  -4.30190165e+00,\n",
       "         -8.99693946e-01,   3.64756527e+00,   1.99685351e+00,\n",
       "          6.92139183e+00,  -9.60158922e-01,  -7.77519190e+00,\n",
       "          1.71464416e+01,  -1.92064676e+01,   4.78165582e+00,\n",
       "         -6.75812670e+00,   3.73646105e+00,  -2.09699241e+01,\n",
       "          4.22090364e+00,  -4.79506510e+00],\n",
       "       [ -7.31914999e+01,   4.38424632e+01,   5.95168754e+00,\n",
       "          6.63669443e+00,  -2.00611829e+01,  -4.23968312e+00,\n",
       "         -5.58135473e+00,   8.32708645e+00,  -4.41506403e-01,\n",
       "          1.80672534e+00,   1.75101770e+00,  -2.18555139e+00,\n",
       "          3.40911868e+00,  -1.06268968e+00,   3.46023923e+00,\n",
       "          8.17807875e+00,  -1.20090842e+01,   1.83201019e+01,\n",
       "         -7.28970332e+00,  -1.75541838e+00],\n",
       "       [ -7.05874854e+01,   3.84062343e+01,   8.13153682e+00,\n",
       "          6.96867226e+00,  -1.02820744e+01,  -1.44120248e+00,\n",
       "         -8.50141998e-01,   4.36296715e+00,  -5.83258460e-01,\n",
       "         -7.49235407e-01,  -3.15344978e+00,  -4.90212948e+00,\n",
       "         -1.83166093e+00,  -7.88494508e+00,   2.74967420e+00,\n",
       "          3.44236608e+00,  -1.90729856e+00,   1.04007527e+01,\n",
       "         -3.11132786e+00,   1.41603715e+00],\n",
       "       [ -6.53514831e+01,   2.82711731e+01,  -9.35733151e+00,\n",
       "         -1.03670171e+01,   1.99178703e+01,   8.49866532e+00,\n",
       "          3.74948424e+01,   2.20509647e+01,  -9.65520019e+00,\n",
       "          7.58281513e+00,   1.22239353e+00,  -4.89739287e-01,\n",
       "         -4.92416986e+00,   2.59441398e+00,  -2.11589681e+00,\n",
       "          3.28375873e+00,   9.23652384e-01,  -3.01693598e+00,\n",
       "          1.60066348e+00,  -1.96051592e+00],\n",
       "       [ -5.83923324e+01,   2.80417354e+01,  -1.17213690e+01,\n",
       "         -1.85503863e+01,   3.94158460e+01,  -3.18896438e+01,\n",
       "         -1.60033825e+01,  -5.33828057e-01,   1.05869960e+01,\n",
       "          1.59181522e+00,   4.51000085e+00,  -5.13937073e+00,\n",
       "          1.58613791e+00,  -2.14791588e-01,   1.83305862e+00,\n",
       "         -6.12643658e-01,  -5.19423401e-02,   9.49769092e-02,\n",
       "         -4.95279855e-01,  -9.03862620e-01],\n",
       "       [ -6.75582386e+01,   3.11534529e+01,  -1.52061887e+01,\n",
       "         -1.55292878e+01,   1.52019794e+00,   1.98453501e+01,\n",
       "         -5.78586868e+00,  -3.62279972e-01,   5.34120294e+00,\n",
       "         -3.99345976e+01,  -1.90921266e+00,   6.51802204e-01,\n",
       "          4.48601117e-01,   2.92313303e+00,  -1.83397738e+00,\n",
       "         -2.71065504e+00,   2.09363732e+00,  -3.83371071e+00,\n",
       "          6.55136954e-01,   5.13163427e-02],\n",
       "       [ -6.66911134e+01,   2.71883158e+01,  -1.67675523e+01,\n",
       "         -1.89332169e+01,   6.71274795e+00,   2.31909013e+01,\n",
       "         -1.36993667e+00,  -3.44401452e+01,  -3.09197987e+00,\n",
       "          1.95801276e+01,  -6.21871969e+00,   3.12163273e+00,\n",
       "          1.06485194e+00,  -4.21232403e-01,   1.78668908e+00,\n",
       "          6.63756729e-01,  -2.87926067e+00,   2.15105370e+00,\n",
       "         -8.83892830e-01,   3.81104163e+00]])"
      ]
     },
     "execution_count": 202,
     "metadata": {},
     "output_type": "execute_result"
    }
   ],
   "source": [
    "tx"
   ]
  },
  {
   "cell_type": "code",
   "execution_count": 205,
   "metadata": {
    "collapsed": false
   },
   "outputs": [],
   "source": [
    "pc1 = tx.transpose()[0]"
   ]
  },
  {
   "cell_type": "code",
   "execution_count": 206,
   "metadata": {
    "collapsed": false
   },
   "outputs": [
    {
     "data": {
      "text/plain": [
       "array([-24.98224469, -21.00050737, -28.08515659, -18.67558693,\n",
       "       -25.78596155, -18.39140695, -19.43945859, -22.32837172,\n",
       "        53.94925925,  57.84857684,  57.19245291,  54.65130814,\n",
       "        43.87733271,  40.65110421,  35.42852953,  46.44204951,\n",
       "        53.05739296,  52.03501091,  50.45953852,  49.26961666,\n",
       "         2.85450271,   6.27018295,   2.79664718,  10.222857  ,\n",
       "        22.98926772,  26.75818933,  24.63327838,  20.28045475,\n",
       "       -66.23375844, -64.97294647, -73.19149988, -70.58748544,\n",
       "       -65.3514831 , -58.39233238, -67.55823864, -66.69111343])"
      ]
     },
     "execution_count": 206,
     "metadata": {},
     "output_type": "execute_result"
    }
   ],
   "source": [
    "pc1"
   ]
  },
  {
   "cell_type": "code",
   "execution_count": 207,
   "metadata": {
    "collapsed": true
   },
   "outputs": [],
   "source": [
    "tdict = cell_dicts[0]"
   ]
  },
  {
   "cell_type": "code",
   "execution_count": 208,
   "metadata": {
    "collapsed": false
   },
   "outputs": [
    {
     "data": {
      "text/plain": [
       "OrderedDict([('IM.D14', [0, 1, 2, 3]),\n",
       "             ('IM.D20', [4, 5, 6, 7]),\n",
       "             ('Sfhi.D0', [8, 9, 10, 11]),\n",
       "             ('Sfhi.D14', [12, 13, 14, 15]),\n",
       "             ('Sfhi.D20', [16, 17, 18, 19]),\n",
       "             ('Sflow.D14', [20, 21, 22, 23]),\n",
       "             ('Sflow.D20', [24, 25, 26, 27]),\n",
       "             ('mono.D14', [28, 29, 30, 31]),\n",
       "             ('mono.D20', [32, 33, 34, 35])])"
      ]
     },
     "execution_count": 208,
     "metadata": {},
     "output_type": "execute_result"
    }
   ],
   "source": [
    "tdict"
   ]
  },
  {
   "cell_type": "code",
   "execution_count": 182,
   "metadata": {
    "collapsed": false
   },
   "outputs": [
    {
     "data": {
      "text/plain": [
       "OrderedDict([('IM.D14', [0, 1, 2, 3]),\n",
       "             ('IM.D20', [4, 5, 6, 7]),\n",
       "             ('Sfhi.D0', [8, 9, 10, 11]),\n",
       "             ('Sfhi.D14', [12, 13, 14, 15]),\n",
       "             ('Sfhi.D20', [16, 17, 18, 19]),\n",
       "             ('Sflow.D14', [20, 21, 22, 23]),\n",
       "             ('Sflow.D20', [24, 25, 26, 27]),\n",
       "             ('mono.D14', [28, 29, 30, 31]),\n",
       "             ('mono.D20', [32, 33, 34, 35])])"
      ]
     },
     "execution_count": 182,
     "metadata": {},
     "output_type": "execute_result"
    }
   ],
   "source": [
    "tdict = cell_dicts[0]\n",
    "for name in tdict:\n",
    "    ind = tdict[name]\n",
    "    "
   ]
  },
  {
   "cell_type": "code",
   "execution_count": null,
   "metadata": {
    "collapsed": true
   },
   "outputs": [],
   "source": []
  },
  {
   "cell_type": "code",
   "execution_count": 156,
   "metadata": {
    "collapsed": false
   },
   "outputs": [
    {
     "ename": "NameError",
     "evalue": "name 'X_r' is not defined",
     "output_type": "error",
     "traceback": [
      "\u001b[1;31m---------------------------------------------------------------------------\u001b[0m",
      "\u001b[1;31mNameError\u001b[0m                                 Traceback (most recent call last)",
      "\u001b[1;32m<ipython-input-156-5f7b689919db>\u001b[0m in \u001b[0;36m<module>\u001b[1;34m()\u001b[0m\n\u001b[1;32m----> 1\u001b[1;33m \u001b[0mX_r\u001b[0m\u001b[1;33m\u001b[0m\u001b[0m\n\u001b[0m",
      "\u001b[1;31mNameError\u001b[0m: name 'X_r' is not defined"
     ]
    }
   ],
   "source": [
    "X_r"
   ]
  },
  {
   "cell_type": "code",
   "execution_count": null,
   "metadata": {
    "collapsed": false
   },
   "outputs": [],
   "source": [
    "PCA_groups(df_Casp, knock_dict)"
   ]
  },
  {
   "cell_type": "code",
   "execution_count": null,
   "metadata": {
    "collapsed": false
   },
   "outputs": [],
   "source": [
    "X = df_Casp.ix[1:,1:].transpose()"
   ]
  },
  {
   "cell_type": "code",
   "execution_count": null,
   "metadata": {
    "collapsed": false
   },
   "outputs": [],
   "source": [
    "X = df_Casp.ix[1:,1:]"
   ]
  },
  {
   "cell_type": "code",
   "execution_count": null,
   "metadata": {
    "collapsed": false,
    "scrolled": false
   },
   "outputs": [],
   "source": [
    "X.columns[:45]"
   ]
  },
  {
   "cell_type": "code",
   "execution_count": null,
   "metadata": {
    "collapsed": false
   },
   "outputs": [],
   "source": [
    "pca = PCA(n_components=3)\n",
    "X_r = pca.fit(X).transform(X)"
   ]
  },
  {
   "cell_type": "code",
   "execution_count": null,
   "metadata": {
    "collapsed": false
   },
   "outputs": [],
   "source": [
    "X_r"
   ]
  },
  {
   "cell_type": "code",
   "execution_count": null,
   "metadata": {
    "collapsed": true
   },
   "outputs": [],
   "source": [
    "for c, i, name in zip(colors, )"
   ]
  },
  {
   "cell_type": "code",
   "execution_count": null,
   "metadata": {
    "collapsed": true
   },
   "outputs": [],
   "source": [
    "name_dict = df_to_names(df_Casp)"
   ]
  },
  {
   "cell_type": "code",
   "execution_count": null,
   "metadata": {
    "collapsed": false
   },
   "outputs": [],
   "source": [
    "test_names = [name_dict.keys()[0], name_dict.keys()[1]]\n",
    "test_names2 = [name_dict.keys()[2], name_dict.keys()[3]]"
   ]
  },
  {
   "cell_type": "code",
   "execution_count": null,
   "metadata": {
    "collapsed": false
   },
   "outputs": [],
   "source": [
    "name_dict"
   ]
  },
  {
   "cell_type": "code",
   "execution_count": null,
   "metadata": {
    "collapsed": false
   },
   "outputs": [],
   "source": [
    "len(name_dict)"
   ]
  },
  {
   "cell_type": "code",
   "execution_count": null,
   "metadata": {
    "collapsed": false
   },
   "outputs": [],
   "source": [
    "pairs = [[[names[i], names[j]] for i in range(n_names) if names[i]!=names[j] and '14' in names[i] and '14' in names[j]] for j in range(n_names)]"
   ]
  },
  {
   "cell_type": "code",
   "execution_count": null,
   "metadata": {
    "collapsed": false
   },
   "outputs": [],
   "source": [
    "pairs"
   ]
  },
  {
   "cell_type": "code",
   "execution_count": null,
   "metadata": {
    "collapsed": false
   },
   "outputs": [],
   "source": [
    "names = name_dict.keys()\n",
    "n_names = len(names)"
   ]
  },
  {
   "cell_type": "code",
   "execution_count": null,
   "metadata": {
    "collapsed": false
   },
   "outputs": [],
   "source": [
    "### Create new temp dataframe with cols ['samp1a','samp1b','samp2a','samp2b','gene']\n",
    "### Add cols for logfc, pval\n",
    "def names_to_df(names):\n",
    "       \n",
    "    # For first name    \n",
    "    #print names\n",
    "    indices = list(name_dict[names[0]])\n",
    "    indices.insert(0,0)\n",
    "    df_temp1 = df_Casp.ix[:,indices]\n",
    "    \n",
    "    # For second name\n",
    "    indices = list(name_dict[names[1]])\n",
    "    indices.insert(0,0)\n",
    "    df_temp2 = df_Casp.ix[:,indices]\n",
    "    \n",
    "    dft = pd.merge(df_temp1, df_temp2, how='outer', on='Symbol')\n",
    "    \n",
    "    print \"check\"\n",
    "    dft = dft.ix[2:]\n",
    "    \n",
    "    \n",
    "    return dft\n",
    "    #dft = merge(dft)"
   ]
  },
  {
   "cell_type": "code",
   "execution_count": null,
   "metadata": {
    "collapsed": false
   },
   "outputs": [],
   "source": [
    "### Create new temp dataframe with cols ['samp1a','samp1b','samp2a','samp2b','gene']\n",
    "### Add cols for logfc, pval\n",
    "def names_to_df(names):\n",
    "       \n",
    "    # For first name    \n",
    "    #print names\n",
    "    indices = name_dict[names[0]]\n",
    "    y1 = [0 for x in range(len(indices))]\n",
    "    df_temp1 = df_Casp.ix[1:,indices].transpose()\n",
    "    #df_temp1 = df_Casp.ix[:,indices]#.transpose()\n",
    "    #df_temp1 = df_temp1.ix[1:].transpose()\n",
    "    \n",
    "    # For second name\n",
    "    indices = name_dict[names[1]]\n",
    "    y2 = [1 for x in range(len(indices))]\n",
    "    df_temp2 = df_Casp.ix[1:,indices].transpose()\n",
    "    #df_temp2 = df_temp2.ix[1:].transpose()\n",
    "    \n",
    "    #dft = pd.merge(df_temp1, df_temp2, how='outer', on='Symbol')\n",
    "    X = pd.concat([df_temp1, df_temp2])\n",
    "    #dft = dft.ix[1:]\n",
    "    for i in range(1,2):\n",
    "        t = np.array(X[i])\n",
    "        print t.average()\n",
    "        print i,t, type(X[i]), type(t.mean())\n",
    "        X[i] = X[i].apply(lambda x: (x - t.mean())/ (t.max() - t.min()))\n",
    "    #new_data.append(dft.transpose())\n",
    "    \n",
    "    y = y1 + y2\n",
    "    \n",
    "    return X, y\n",
    "    #dft = merge(dft)"
   ]
  },
  {
   "cell_type": "code",
   "execution_count": null,
   "metadata": {
    "collapsed": false
   },
   "outputs": [],
   "source": [
    "X, y = names_to_df(pairs[2][2])"
   ]
  },
  {
   "cell_type": "code",
   "execution_count": null,
   "metadata": {
    "collapsed": false
   },
   "outputs": [],
   "source": [
    "X[2]"
   ]
  },
  {
   "cell_type": "code",
   "execution_count": null,
   "metadata": {
    "collapsed": false
   },
   "outputs": [],
   "source": [
    "y"
   ]
  },
  {
   "cell_type": "code",
   "execution_count": null,
   "metadata": {
    "collapsed": false
   },
   "outputs": [],
   "source": [
    "dft.transpose()"
   ]
  },
  {
   "cell_type": "code",
   "execution_count": null,
   "metadata": {
    "collapsed": false
   },
   "outputs": [],
   "source": [
    "for "
   ]
  },
  {
   "cell_type": "code",
   "execution_count": null,
   "metadata": {
    "collapsed": false
   },
   "outputs": [],
   "source": [
    "pairs"
   ]
  },
  {
   "cell_type": "code",
   "execution_count": null,
   "metadata": {
    "collapsed": false
   },
   "outputs": [],
   "source": [
    "for pair in pairs: \n",
    "    #print pair\n",
    "    print len(pair)"
   ]
  },
  {
   "cell_type": "code",
   "execution_count": null,
   "metadata": {
    "collapsed": false
   },
   "outputs": [],
   "source": [
    "%%capture\n",
    "stat_dict = combos2(name_dict);"
   ]
  },
  {
   "cell_type": "code",
   "execution_count": null,
   "metadata": {
    "collapsed": false
   },
   "outputs": [],
   "source": [
    "for name in stat_dict:\n",
    "    if len(stat_dict[name]) > 0:\n",
    "        print name, stat_dict[name], '\\n'"
   ]
  },
  {
   "cell_type": "code",
   "execution_count": null,
   "metadata": {
    "collapsed": false
   },
   "outputs": [],
   "source": [
    "names = [\"FC up\", \"FC down\", \"PV up\", \"PV down\"]\n",
    "for i in range(4):\n",
    "    print names[i]\n",
    "    print x[i]\n",
    "    #print genes_shared_ct[i] #\".2f\"% genes_shared_ct[i][1] "
   ]
  },
  {
   "cell_type": "code",
   "execution_count": null,
   "metadata": {
    "collapsed": false
   },
   "outputs": [],
   "source": [
    "plt.plot([0.6, 0.2, 0.6, 0.5])"
   ]
  },
  {
   "cell_type": "code",
   "execution_count": null,
   "metadata": {
    "collapsed": false
   },
   "outputs": [],
   "source": [
    "dft = dft[pd.notnull(dft).all(axis=1)]"
   ]
  },
  {
   "cell_type": "code",
   "execution_count": null,
   "metadata": {
    "collapsed": false
   },
   "outputs": [],
   "source": [
    "ncols = len(dft.columns)\n",
    "gene_names = dft.ix[:,0]\n",
    "for i in range(1, ncols, 4):   #ncols):\n",
    "    sample1_name = dft.columns[i]\n",
    "    sample_list = []\n",
    "    sample1 = dft.ix[:,i]\n",
    "    for j in range(1, ncols):\n",
    "        \n",
    "        sample2_name = dft.columns[j]\n",
    "        \n",
    "        sample2 = dft.ix[:,j]\n",
    "        #print sample1[0], sample2[0]\n",
    "        logfc = np.log(sample2/sample1)\n",
    "        logfc = logfc[logfc < 100]\n",
    "        upreg = len(logfc[logfc > 1.4])\n",
    "        downreg = len(logfc[logfc < -1.4])\n",
    "        #print sample1_name, sample2_name, upreg, downreg\n",
    "        dist = upreg + downreg\n",
    "        regratio = upreg - downreg\n",
    "        sample_list.append([sample2_name, dist, upreg, downreg])\n",
    "        \n",
    "    print sample1_name\n",
    "    for n in sample_list:\n",
    "        print n\n",
    "    #print sample_list\n",
    "#        print sample1/sample2"
   ]
  },
  {
   "cell_type": "code",
   "execution_count": null,
   "metadata": {
    "collapsed": false
   },
   "outputs": [],
   "source": [
    "def make_tree(dfs):\n",
    "    ndf = len(dfs)\n",
    "    mat\n",
    "    for df1_ind in range(ndf):\n",
    "        for df2_ind in range(df1_ind+1,ndf):\n",
    "            merged_df = pd.merge(dfs[df1_ind], dfs[df2_ind], how = 'outer', on='gene')\n",
    "            \n",
    "            #merged_df['ratio'] = float(merged_df[[1]]) #sum(float(merged_df[[1,2,3,4]]))\n",
    "            #for gene_ind in range(len(merged_df)):\n",
    "        ### GET ratios\n",
    "                \n",
    "        ### GET SIMILARITY\n",
    "        ### [ YN [1, 0.4, 0.8. 0.7],\n",
    "        ###   ON [0.6, 1, 0.9, 0.2],\n",
    "        ###   YF [0.4, 0.3, 1, 0.6],\n",
    "        ###   OF [0.3, 0.9, 0.1, 1]]\n",
    "        \n",
    "        ### TREE FIGURE\n",
    "        ###      YF (2)\n",
    "        ###     /\n",
    "        ###  YN(1)- ON(3)- OF(4)\n",
    "        \n",
    "        ###  [[1,2],[1,3],[3,4]]\n",
    "        \n",
    "        ### START WITH\n",
    "        ### [[1,2],[1,3],[1,4]]\n",
    "        ### [1-2] 0.3\n",
    "        ### [1-3] 0.8\n",
    "        ### [1-4] 0.5\n",
    "        ### Then go to 2\n",
    "        ### [2-1] 0.3 (ok)\n",
    "        ### [2-3] 0.9 (>[1-3], change)\n",
    "                    ### [[1,2],[2,3],[1,4]]\n",
    "        ### [2-4] 0.2 (<[1-4], no change)\n",
    "        ### On to 3...\n",
    "        ### [3-1] 0.3 (ok)\n",
    "        ### [3-2] 0.1 (<[1-3], no change)\n",
    "        ### [3-4] 0.9 (>[1-4], change\n",
    "                    ### [[1,2],[1,3],[3,4]])\n",
    "        \n",
    "        ### [1-3] ok\n",
    "        sim = [[random.random() for i in range(ndf)] for j in range(ndf)]\n",
    "        for i in range(ndf):\n",
    "            ## Initialize tree starting with i\n",
    "            tree = []\n",
    "            for j in range(ndf):\n",
    "                tree[j] = [i,j]\n",
    "                #similarity_matrix sim\n",
    "                \n",
    "                \n",
    "            for j in range(ndf):\n",
    "                sim_ij = sim[i,j]\n",
    "                for k in range(ndf):\n",
    "                    sim_ik = sim[i,k]\n",
    "                    if sim_ik > sim_ij:\n",
    "                        tree[j] = [i,k]\n",
    "                    \n",
    "                \n",
    "                \n",
    "    \n",
    "    #return merged_df\n",
    "        \n",
    "            \n",
    "make_tree(dfs);"
   ]
  },
  {
   "cell_type": "code",
   "execution_count": null,
   "metadata": {
    "collapsed": false
   },
   "outputs": [],
   "source": [
    "import random\n",
    "ndf = 4\n",
    "sim = [[random.random() for i in range(ndf)] for j in range(ndf)]"
   ]
  },
  {
   "cell_type": "code",
   "execution_count": null,
   "metadata": {
    "collapsed": false
   },
   "outputs": [],
   "source": [
    "sim[2][3]"
   ]
  },
  {
   "cell_type": "code",
   "execution_count": null,
   "metadata": {
    "collapsed": false
   },
   "outputs": [],
   "source": [
    "def make_tree2():\n",
    "    ndf = 10\n",
    "    sim = [[random.random() for i in range(ndf)] for j in range(ndf)]\n",
    "    nodes = [i for i in range(ndf)]\n",
    "    for i in range(ndf):\n",
    "        #print \"begin\", i\n",
    "            ## Initialize tree starting with i\n",
    "        tree = []# [0 for x in range(ndf-1)]\n",
    "        \n",
    "        j_nodes = [z for z in range(ndf)]\n",
    "        j_nodes.remove(i)\n",
    "        for j in j_nodes: \n",
    "            tree.append([i,j])\n",
    "                #similarity_matrix sim\n",
    "                \n",
    "        n_iters = 1\n",
    "        for iteration in range(n_iters):\n",
    "            \n",
    "            #print tree\n",
    "        #print \"j_nodes\",j_nodes\n",
    "            for j in j_nodes:\n",
    "            #print tree\n",
    "                sim_ij = sim[i][j]\n",
    "            \n",
    "                k_nodes = [z for z in range(ndf)]\n",
    "                k_nodes.remove(j)\n",
    "                k_nodes.remove(i)\n",
    "                #print \"k_nodes\", k_nodes\n",
    "                for k in k_nodes:\n",
    "                #print \"j = \", j, \"k=\", k\n",
    "                    sim_ik = sim[i][k]\n",
    "                    sim_jk = sim[j][k]\n",
    "                    if sim_ik > sim_jk:\n",
    "                        #print j,k, \"> \", i, k\n",
    "                        tree[k-1] = [j,k]\n",
    "                        #print tree\n",
    "            #print \"end iteration\", iteration, tree\n",
    "            #for i in range(len(tree)):\n",
    "            print sum([sim[ii][jj] for ii,jj in tree])\n",
    "        printsorted(tree)\n",
    "make_tree2()"
   ]
  },
  {
   "cell_type": "code",
   "execution_count": null,
   "metadata": {
    "collapsed": false
   },
   "outputs": [],
   "source": [
    "def make_tree_rand():\n",
    "    ndf = 10\n",
    "    sim = [[random.random() for i in range(ndf)] for j in range(ndf)]\n",
    "    seq = [i for i in range(ndf)]\n",
    "\n",
    "    nodes = [random.choice() for i in range(ndf)]\n",
    "    n_iter = 10\n",
    "    \n",
    "    ### Initialize tree\n",
    "    tree = []# [0 for x in range(ndf-1)]\n",
    "    \n",
    "    j_nodes = [z for z in range(ndf)]\n",
    "    j_nodes.remove(i)\n",
    "    for j in j_nodes: \n",
    "        tree.append([i,j])\n",
    "                #similarity_matrix sim\n",
    "    for i in range(n_iter):\n",
    "        #print \"begin\", i\n",
    "            ## Initialize tree starting with i\n",
    "\n",
    "                \n",
    "        n_iters = 1\n",
    "        for iteration in range(n_iters):\n",
    "            \n",
    "            #print tree\n",
    "        #print \"j_nodes\",j_nodes\n",
    "            for j in j_nodes:\n",
    "            #print tree\n",
    "                sim_ij = sim[i][j]\n",
    "            \n",
    "                k_nodes = [z for z in range(ndf)]\n",
    "                k_nodes.remove(j)\n",
    "                k_nodes.remove(i)\n",
    "                #print \"k_nodes\", k_nodes\n",
    "                for k in k_nodes:\n",
    "                #print \"j = \", j, \"k=\", k\n",
    "                    sim_ik = sim[i][k]\n",
    "                    sim_jk = sim[j][k]\n",
    "                    if sim_ik > sim_jk:\n",
    "                        #print j,k, \"> \", i, k\n",
    "                        tree[k-1] = [j,k]\n",
    "                        #print tree\n",
    "            #print \"end iteration\", iteration, tree\n",
    "            #for i in range(len(tree)):\n",
    "            error = sum([sim[ii][jj] for ii,jj in tree])\n",
    "        printsorted(tree)\n",
    "make_tree_rand()"
   ]
  },
  {
   "cell_type": "code",
   "execution_count": null,
   "metadata": {
    "collapsed": false
   },
   "outputs": [],
   "source": [
    "def make_tree_easy():\n",
    "    ndf = 10\n",
    "    sim = [[random.random() for i in range(ndf)] for j in range(ndf)]\n",
    "    seq = [i for i in range(ndf)]\n",
    "\n",
    "    nodes = [random.choice() for i in range(ndf)]\n",
    "    n_iter = 10\n",
    "    \n",
    "    ### Initialize tree\n",
    "    tree = []# [0 for x in range(ndf-1)]\n",
    "    \n",
    "    j_nodes = [z for z in range(ndf)]\n",
    "    j_nodes.remove(i)\n",
    "    for j in j_nodes: \n",
    "        tree.append([i,j])\n",
    "                #similarity_matrix sim\n",
    "    for i in range(n_iter):\n",
    "        #print \"begin\", i\n",
    "            ## Initialize tree starting with i\n",
    "\n",
    "                \n",
    "        n_iters = 1\n",
    "        for iteration in range(n_iters):\n",
    "            \n",
    "            #print tree\n",
    "        #print \"j_nodes\",j_nodes\n",
    "            for j in j_nodes:\n",
    "            #print tree\n",
    "                sim_ij = sim[i][j]\n",
    "            \n",
    "                k_nodes = [z for z in range(ndf)]\n",
    "                k_nodes.remove(j)\n",
    "                k_nodes.remove(i)\n",
    "                #print \"k_nodes\", k_nodes\n",
    "                for k in k_nodes:\n",
    "                #print \"j = \", j, \"k=\", k\n",
    "                    sim_ik = sim[i][k]\n",
    "                    sim_jk = sim[j][k]\n",
    "                    if sim_ik > sim_jk:\n",
    "                        #print j,k, \"> \", i, k\n",
    "                        tree[k-1] = [j,k]\n",
    "                        #print tree\n",
    "            #print \"end iteration\", iteration, tree\n",
    "            #for i in range(len(tree)):\n",
    "            error = sum([sim[ii][jj] for ii,jj in tree])\n",
    "        printsorted(tree)\n",
    "make_tree_easy()"
   ]
  },
  {
   "cell_type": "code",
   "execution_count": null,
   "metadata": {
    "collapsed": true
   },
   "outputs": [],
   "source": [
    "tree = [[0, 1], [0, 2], [0, 3], [0, 4], [0, 5]]"
   ]
  },
  {
   "cell_type": "code",
   "execution_count": null,
   "metadata": {
    "collapsed": true
   },
   "outputs": [],
   "source": [
    "def printsorted(tree):\n",
    "    tree.sort()\n",
    "    tree_dict = {}\n",
    "    for i in range(len(tree)):\n",
    "        if tree[i][0] not in tree_dict:\n",
    "            tree_dict[tree[i][0]] = [tree[i][1]]\n",
    "        else:\n",
    "            tree_dict[tree[i][0]].append(tree[i][1])\n",
    "        \n",
    "    print tree_dict\n",
    "            "
   ]
  }
 ],
 "metadata": {
  "kernelspec": {
   "display_name": "Python 2",
   "language": "python",
   "name": "python2"
  },
  "language_info": {
   "codemirror_mode": {
    "name": "ipython",
    "version": 2
   },
   "file_extension": ".py",
   "mimetype": "text/x-python",
   "name": "python",
   "nbconvert_exporter": "python",
   "pygments_lexer": "ipython2",
   "version": "2.7.10"
  }
 },
 "nbformat": 4,
 "nbformat_minor": 0
}
