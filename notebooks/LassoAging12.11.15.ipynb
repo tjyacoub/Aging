{
 "cells": [
  {
   "cell_type": "code",
   "execution_count": 1,
   "metadata": {
    "collapsed": true
   },
   "outputs": [],
   "source": [
    "%matplotlib inline"
   ]
  },
  {
   "cell_type": "code",
   "execution_count": 2,
   "metadata": {
    "collapsed": true
   },
   "outputs": [],
   "source": [
    "import pandas as pd"
   ]
  },
  {
   "cell_type": "code",
   "execution_count": 3,
   "metadata": {
    "collapsed": true
   },
   "outputs": [],
   "source": [
    "import csv\n",
    "import matplotlib.pyplot as plt"
   ]
  },
  {
   "cell_type": "code",
   "execution_count": 4,
   "metadata": {
    "collapsed": true
   },
   "outputs": [],
   "source": [
    "from scipy import stats"
   ]
  },
  {
   "cell_type": "code",
   "execution_count": 27,
   "metadata": {
    "collapsed": true
   },
   "outputs": [],
   "source": [
    "import math\n",
    "import numpy as np\n",
    "from sklearn import linear_model\n",
    "import random\n",
    "from random import shuffle\n"
   ]
  },
  {
   "cell_type": "code",
   "execution_count": 6,
   "metadata": {
    "collapsed": false
   },
   "outputs": [],
   "source": [
    "df_ON_OF = pd.read_csv(\"ON_OF.txt\", sep='\\t')"
   ]
  },
  {
   "cell_type": "code",
   "execution_count": 7,
   "metadata": {
    "collapsed": true
   },
   "outputs": [],
   "source": [
    "df_YN_ON = pd.read_csv(\"YN_ON.txt\", sep='\\t')"
   ]
  },
  {
   "cell_type": "code",
   "execution_count": 8,
   "metadata": {
    "collapsed": true
   },
   "outputs": [],
   "source": [
    "df_YF_OF = pd.read_csv(\"YF_OF.txt\", sep='\\t')"
   ]
  },
  {
   "cell_type": "code",
   "execution_count": 9,
   "metadata": {
    "collapsed": true
   },
   "outputs": [],
   "source": [
    "df_YN_YF = pd.read_csv(\"YN_YF.txt\", sep='\\t')"
   ]
  },
  {
   "cell_type": "code",
   "execution_count": 10,
   "metadata": {
    "collapsed": true
   },
   "outputs": [],
   "source": [
    "df_ON = df_ON_OF[[19,4,6,7,8,9]];"
   ]
  },
  {
   "cell_type": "code",
   "execution_count": 11,
   "metadata": {
    "collapsed": true
   },
   "outputs": [],
   "source": [
    "df_OF = df_ON_OF[[19,4,10,11,12,13]]"
   ]
  },
  {
   "cell_type": "code",
   "execution_count": 12,
   "metadata": {
    "collapsed": true
   },
   "outputs": [],
   "source": [
    "df_YN = df_YN_ON[[19,4,6,7,8,9]]"
   ]
  },
  {
   "cell_type": "code",
   "execution_count": 13,
   "metadata": {
    "collapsed": true
   },
   "outputs": [],
   "source": [
    "df_YF = df_YN_YF[[19,4,10,11,12,13]]"
   ]
  },
  {
   "cell_type": "code",
   "execution_count": 14,
   "metadata": {
    "collapsed": true
   },
   "outputs": [],
   "source": [
    "def drop_dup(d):\n",
    "    d = d.drop_duplicates(subset='gene', keep='first')\n",
    "    return d\n",
    "\n",
    "def merge(d1, d2):\n",
    "    return pd.merge(d1, d2, how='outer', on=['gene','width'])\n",
    "\n",
    "def merge2(d1, d2):\n",
    "    return pd.merge(d1, d2, how='outer', on='gene')"
   ]
  },
  {
   "cell_type": "code",
   "execution_count": 15,
   "metadata": {
    "collapsed": false
   },
   "outputs": [],
   "source": [
    "dft = merge(df_ON, df_OF)"
   ]
  },
  {
   "cell_type": "code",
   "execution_count": 16,
   "metadata": {
    "collapsed": false
   },
   "outputs": [],
   "source": [
    "dft = merge(dft, df_YN)"
   ]
  },
  {
   "cell_type": "code",
   "execution_count": 17,
   "metadata": {
    "collapsed": false
   },
   "outputs": [],
   "source": [
    "dft = merge(dft, df_YF)"
   ]
  },
  {
   "cell_type": "code",
   "execution_count": 18,
   "metadata": {
    "collapsed": false
   },
   "outputs": [],
   "source": [
    "dft = drop_dup(dft)"
   ]
  },
  {
   "cell_type": "code",
   "execution_count": 19,
   "metadata": {
    "collapsed": true
   },
   "outputs": [],
   "source": [
    "dft.dropna(thresh=(2), axis=0);"
   ]
  },
  {
   "cell_type": "code",
   "execution_count": 20,
   "metadata": {
    "collapsed": true
   },
   "outputs": [],
   "source": [
    "dft = dft[pd.notnull(dft).all(axis=1)]"
   ]
  },
  {
   "cell_type": "code",
   "execution_count": 21,
   "metadata": {
    "collapsed": true
   },
   "outputs": [],
   "source": [
    "df = dft"
   ]
  },
  {
   "cell_type": "code",
   "execution_count": 24,
   "metadata": {
    "collapsed": false
   },
   "outputs": [],
   "source": []
  },
  {
   "cell_type": "code",
   "execution_count": 28,
   "metadata": {
    "collapsed": false
   },
   "outputs": [
    {
     "name": "stdout",
     "output_type": "stream",
     "text": [
      "[8469, 373, 12781, 7495, 9564, 7698, 13610, 12462, 12491, 9252]\n"
     ]
    }
   ],
   "source": [
    "\n",
    "def coshuffle(X, Xtest):\n",
    "    \n",
    "    new_X = [[] for i in range(len(X))]\n",
    "    new_Xtest = [[] for i in range(len(Xtest))]\n",
    "    index_shuf = range(len(X[0]))\n",
    "    shuffle(index_shuf)\n",
    "    print index_shuf[:10]\n",
    "    for i in range(len(X)):\n",
    "        origX = X[i]\n",
    "        for s in index_shuf:\n",
    "            new_X[i].append(X[i][s])\n",
    "            \n",
    "    for i in range(len(Xtest)):\n",
    "        origX = Xtest[i]\n",
    "        for s in index_shuf:\n",
    "            new_Xtest[i].append(Xtest[i][s])\n",
    "\n",
    "    return new_X, new_Xtest, index_shuf\n",
    "\n",
    "X, Xtest, index_shuf = coshuffle(X, Xtest)"
   ]
  },
  {
   "cell_type": "code",
   "execution_count": 143,
   "metadata": {
    "collapsed": true
   },
   "outputs": [],
   "source": [
    "?df.append"
   ]
  },
  {
   "cell_type": "code",
   "execution_count": 214,
   "metadata": {
    "collapsed": false
   },
   "outputs": [],
   "source": [
    "def init_input(df):\n",
    "    \n",
    "    n = 5 # number of genes \n",
    "    y = [0,0,0,1,1,1,2,2,2,3,3,3]\n",
    "    Xdf = df.ix[:n,[2,3,4,6,7,8,10,11,12,14,15,16]].transpose()\n",
    "    Xdf['e'] = pd.Series(y, index=Xdf.index)\n",
    "    X = np.array(Xdf)\n",
    "    X.transpose()\n",
    "    Xtest = np.array([df.ix[:n,i] for i in [5,9,13,17]])\n",
    "    return X, Xtest\n",
    "\n",
    "X, Xtest = init_input(df)"
   ]
  },
  {
   "cell_type": "code",
   "execution_count": 215,
   "metadata": {
    "collapsed": false
   },
   "outputs": [
    {
     "data": {
      "text/plain": [
       "array([[  3.30886113e+00,   7.41346792e-02,   8.43898778e-01,\n",
       "          1.03611029e+01,   4.58766148e+01],\n",
       "       [  3.24634501e+00,   6.09193505e-02,   5.33623363e-01,\n",
       "          7.38928831e+00,   5.73236539e+01],\n",
       "       [  3.60157193e+00,   2.79712553e-02,   7.58754129e-01,\n",
       "          1.22363573e+01,   3.92987918e+01],\n",
       "       [  3.60843506e+00,   1.01058251e-01,   4.71165629e-01,\n",
       "          9.29396494e+00,   4.33557900e+01]])"
      ]
     },
     "execution_count": 215,
     "metadata": {},
     "output_type": "execute_result"
    }
   ],
   "source": [
    "Xtest"
   ]
  },
  {
   "cell_type": "code",
   "execution_count": 216,
   "metadata": {
    "collapsed": false
   },
   "outputs": [
    {
     "data": {
      "text/html": [
       "<div>\n",
       "<table border=\"1\" class=\"dataframe\">\n",
       "  <thead>\n",
       "    <tr style=\"text-align: right;\">\n",
       "      <th></th>\n",
       "      <th>0</th>\n",
       "      <th>1</th>\n",
       "      <th>2</th>\n",
       "      <th>3</th>\n",
       "      <th>4</th>\n",
       "      <th>5</th>\n",
       "    </tr>\n",
       "  </thead>\n",
       "  <tbody>\n",
       "    <tr>\n",
       "      <th>0</th>\n",
       "      <td>3.416110</td>\n",
       "      <td>0.097670</td>\n",
       "      <td>0.894176</td>\n",
       "      <td>10.409801</td>\n",
       "      <td>47.013339</td>\n",
       "      <td>0</td>\n",
       "    </tr>\n",
       "    <tr>\n",
       "      <th>1</th>\n",
       "      <td>3.009893</td>\n",
       "      <td>0.040609</td>\n",
       "      <td>0.757337</td>\n",
       "      <td>10.497557</td>\n",
       "      <td>41.137221</td>\n",
       "      <td>0</td>\n",
       "    </tr>\n",
       "    <tr>\n",
       "      <th>2</th>\n",
       "      <td>2.985305</td>\n",
       "      <td>0.069904</td>\n",
       "      <td>0.607386</td>\n",
       "      <td>11.710880</td>\n",
       "      <td>44.567283</td>\n",
       "      <td>0</td>\n",
       "    </tr>\n",
       "    <tr>\n",
       "      <th>3</th>\n",
       "      <td>3.006839</td>\n",
       "      <td>0.073475</td>\n",
       "      <td>0.480479</td>\n",
       "      <td>9.809717</td>\n",
       "      <td>42.642833</td>\n",
       "      <td>1</td>\n",
       "    </tr>\n",
       "    <tr>\n",
       "      <th>4</th>\n",
       "      <td>3.288298</td>\n",
       "      <td>0.023836</td>\n",
       "      <td>0.444518</td>\n",
       "      <td>9.479280</td>\n",
       "      <td>48.403478</td>\n",
       "      <td>1</td>\n",
       "    </tr>\n",
       "    <tr>\n",
       "      <th>5</th>\n",
       "      <td>3.362613</td>\n",
       "      <td>0.033416</td>\n",
       "      <td>0.439068</td>\n",
       "      <td>9.501984</td>\n",
       "      <td>62.760002</td>\n",
       "      <td>1</td>\n",
       "    </tr>\n",
       "    <tr>\n",
       "      <th>6</th>\n",
       "      <td>4.314209</td>\n",
       "      <td>0.076083</td>\n",
       "      <td>1.160905</td>\n",
       "      <td>13.010706</td>\n",
       "      <td>32.573386</td>\n",
       "      <td>2</td>\n",
       "    </tr>\n",
       "    <tr>\n",
       "      <th>7</th>\n",
       "      <td>3.823944</td>\n",
       "      <td>0.077795</td>\n",
       "      <td>1.262395</td>\n",
       "      <td>12.463725</td>\n",
       "      <td>35.545164</td>\n",
       "      <td>2</td>\n",
       "    </tr>\n",
       "    <tr>\n",
       "      <th>8</th>\n",
       "      <td>3.258348</td>\n",
       "      <td>0.014816</td>\n",
       "      <td>0.627976</td>\n",
       "      <td>12.373726</td>\n",
       "      <td>48.489444</td>\n",
       "      <td>2</td>\n",
       "    </tr>\n",
       "    <tr>\n",
       "      <th>9</th>\n",
       "      <td>3.543772</td>\n",
       "      <td>0.119195</td>\n",
       "      <td>0.716473</td>\n",
       "      <td>9.609895</td>\n",
       "      <td>60.372131</td>\n",
       "      <td>3</td>\n",
       "    </tr>\n",
       "    <tr>\n",
       "      <th>10</th>\n",
       "      <td>3.432298</td>\n",
       "      <td>0.051267</td>\n",
       "      <td>0.709824</td>\n",
       "      <td>9.650530</td>\n",
       "      <td>51.358070</td>\n",
       "      <td>3</td>\n",
       "    </tr>\n",
       "    <tr>\n",
       "      <th>11</th>\n",
       "      <td>4.055527</td>\n",
       "      <td>0.045765</td>\n",
       "      <td>0.403462</td>\n",
       "      <td>9.464138</td>\n",
       "      <td>61.563981</td>\n",
       "      <td>3</td>\n",
       "    </tr>\n",
       "  </tbody>\n",
       "</table>\n",
       "</div>"
      ],
      "text/plain": [
       "           0         1         2          3          4  5\n",
       "0   3.416110  0.097670  0.894176  10.409801  47.013339  0\n",
       "1   3.009893  0.040609  0.757337  10.497557  41.137221  0\n",
       "2   2.985305  0.069904  0.607386  11.710880  44.567283  0\n",
       "3   3.006839  0.073475  0.480479   9.809717  42.642833  1\n",
       "4   3.288298  0.023836  0.444518   9.479280  48.403478  1\n",
       "5   3.362613  0.033416  0.439068   9.501984  62.760002  1\n",
       "6   4.314209  0.076083  1.160905  13.010706  32.573386  2\n",
       "7   3.823944  0.077795  1.262395  12.463725  35.545164  2\n",
       "8   3.258348  0.014816  0.627976  12.373726  48.489444  2\n",
       "9   3.543772  0.119195  0.716473   9.609895  60.372131  3\n",
       "10  3.432298  0.051267  0.709824   9.650530  51.358070  3\n",
       "11  4.055527  0.045765  0.403462   9.464138  61.563981  3"
      ]
     },
     "execution_count": 216,
     "metadata": {},
     "output_type": "execute_result"
    }
   ],
   "source": [
    "pd.DataFrame(X)"
   ]
  },
  {
   "cell_type": "code",
   "execution_count": 196,
   "metadata": {
    "collapsed": false
   },
   "outputs": [
    {
     "data": {
      "text/plain": [
       "array([ 0.89417597,  0.75733704,  0.60738648,  0.48047854,  0.44451831,\n",
       "        0.43906778,  1.16090458,  1.26239471,  0.6279757 ,  0.71647326,\n",
       "        0.70982375,  0.40346203])"
      ]
     },
     "execution_count": 196,
     "metadata": {},
     "output_type": "execute_result"
    }
   ],
   "source": [
    "X.transpose()[2]"
   ]
  },
  {
   "cell_type": "code",
   "execution_count": 232,
   "metadata": {
    "collapsed": false
   },
   "outputs": [
    {
     "data": {
      "text/html": [
       "<div>\n",
       "<table border=\"1\" class=\"dataframe\">\n",
       "  <thead>\n",
       "    <tr style=\"text-align: right;\">\n",
       "      <th></th>\n",
       "      <th>0</th>\n",
       "      <th>1</th>\n",
       "      <th>2</th>\n",
       "      <th>3</th>\n",
       "      <th>4</th>\n",
       "      <th>5</th>\n",
       "    </tr>\n",
       "  </thead>\n",
       "  <tbody>\n",
       "    <tr>\n",
       "      <th>0</th>\n",
       "      <td>3.416110</td>\n",
       "      <td>0.097670</td>\n",
       "      <td>0.894176</td>\n",
       "      <td>10.409801</td>\n",
       "      <td>47.013339</td>\n",
       "      <td>0</td>\n",
       "    </tr>\n",
       "    <tr>\n",
       "      <th>1</th>\n",
       "      <td>3.009893</td>\n",
       "      <td>0.040609</td>\n",
       "      <td>0.757337</td>\n",
       "      <td>10.497557</td>\n",
       "      <td>41.137221</td>\n",
       "      <td>0</td>\n",
       "    </tr>\n",
       "    <tr>\n",
       "      <th>2</th>\n",
       "      <td>2.985305</td>\n",
       "      <td>0.069904</td>\n",
       "      <td>0.607386</td>\n",
       "      <td>11.710880</td>\n",
       "      <td>44.567283</td>\n",
       "      <td>0</td>\n",
       "    </tr>\n",
       "    <tr>\n",
       "      <th>3</th>\n",
       "      <td>3.006839</td>\n",
       "      <td>0.073475</td>\n",
       "      <td>0.480479</td>\n",
       "      <td>9.809717</td>\n",
       "      <td>42.642833</td>\n",
       "      <td>1</td>\n",
       "    </tr>\n",
       "    <tr>\n",
       "      <th>4</th>\n",
       "      <td>3.288298</td>\n",
       "      <td>0.023836</td>\n",
       "      <td>0.444518</td>\n",
       "      <td>9.479280</td>\n",
       "      <td>48.403478</td>\n",
       "      <td>1</td>\n",
       "    </tr>\n",
       "    <tr>\n",
       "      <th>5</th>\n",
       "      <td>3.362613</td>\n",
       "      <td>0.033416</td>\n",
       "      <td>0.439068</td>\n",
       "      <td>9.501984</td>\n",
       "      <td>62.760002</td>\n",
       "      <td>1</td>\n",
       "    </tr>\n",
       "    <tr>\n",
       "      <th>6</th>\n",
       "      <td>4.314209</td>\n",
       "      <td>0.076083</td>\n",
       "      <td>1.160905</td>\n",
       "      <td>13.010706</td>\n",
       "      <td>32.573386</td>\n",
       "      <td>2</td>\n",
       "    </tr>\n",
       "    <tr>\n",
       "      <th>7</th>\n",
       "      <td>3.823944</td>\n",
       "      <td>0.077795</td>\n",
       "      <td>1.262395</td>\n",
       "      <td>12.463725</td>\n",
       "      <td>35.545164</td>\n",
       "      <td>2</td>\n",
       "    </tr>\n",
       "    <tr>\n",
       "      <th>8</th>\n",
       "      <td>3.258348</td>\n",
       "      <td>0.014816</td>\n",
       "      <td>0.627976</td>\n",
       "      <td>12.373726</td>\n",
       "      <td>48.489444</td>\n",
       "      <td>2</td>\n",
       "    </tr>\n",
       "    <tr>\n",
       "      <th>9</th>\n",
       "      <td>3.543772</td>\n",
       "      <td>0.119195</td>\n",
       "      <td>0.716473</td>\n",
       "      <td>9.609895</td>\n",
       "      <td>60.372131</td>\n",
       "      <td>3</td>\n",
       "    </tr>\n",
       "    <tr>\n",
       "      <th>10</th>\n",
       "      <td>3.432298</td>\n",
       "      <td>0.051267</td>\n",
       "      <td>0.709824</td>\n",
       "      <td>9.650530</td>\n",
       "      <td>51.358070</td>\n",
       "      <td>3</td>\n",
       "    </tr>\n",
       "    <tr>\n",
       "      <th>11</th>\n",
       "      <td>4.055527</td>\n",
       "      <td>0.045765</td>\n",
       "      <td>0.403462</td>\n",
       "      <td>9.464138</td>\n",
       "      <td>61.563981</td>\n",
       "      <td>3</td>\n",
       "    </tr>\n",
       "  </tbody>\n",
       "</table>\n",
       "</div>"
      ],
      "text/plain": [
       "           0         1         2          3          4  5\n",
       "0   3.416110  0.097670  0.894176  10.409801  47.013339  0\n",
       "1   3.009893  0.040609  0.757337  10.497557  41.137221  0\n",
       "2   2.985305  0.069904  0.607386  11.710880  44.567283  0\n",
       "3   3.006839  0.073475  0.480479   9.809717  42.642833  1\n",
       "4   3.288298  0.023836  0.444518   9.479280  48.403478  1\n",
       "5   3.362613  0.033416  0.439068   9.501984  62.760002  1\n",
       "6   4.314209  0.076083  1.160905  13.010706  32.573386  2\n",
       "7   3.823944  0.077795  1.262395  12.463725  35.545164  2\n",
       "8   3.258348  0.014816  0.627976  12.373726  48.489444  2\n",
       "9   3.543772  0.119195  0.716473   9.609895  60.372131  3\n",
       "10  3.432298  0.051267  0.709824   9.650530  51.358070  3\n",
       "11  4.055527  0.045765  0.403462   9.464138  61.563981  3"
      ]
     },
     "execution_count": 232,
     "metadata": {},
     "output_type": "execute_result"
    }
   ],
   "source": [
    "pd.DataFrame(X)"
   ]
  },
  {
   "cell_type": "code",
   "execution_count": 236,
   "metadata": {
    "collapsed": false
   },
   "outputs": [
    {
     "data": {
      "text/plain": [
       "array([[  3.41610974e+00,   9.76697565e-02,   8.94175966e-01,\n",
       "          1.04098005e+01,   4.70133389e+01,   0.00000000e+00],\n",
       "       [  3.00989350e+00,   4.06094757e-02,   7.57337035e-01,\n",
       "          1.04975571e+01,   4.11372210e+01,   0.00000000e+00],\n",
       "       [  2.98530474e+00,   6.99040154e-02,   6.07386480e-01,\n",
       "          1.17108804e+01,   4.45672835e+01,   0.00000000e+00],\n",
       "       [  3.00683948e+00,   7.34749232e-02,   4.80478537e-01,\n",
       "          9.80971684e+00,   4.26428333e+01,   1.00000000e+00],\n",
       "       [  3.28829824e+00,   2.38356962e-02,   4.44518309e-01,\n",
       "          9.47927995e+00,   4.84034779e+01,   1.00000000e+00],\n",
       "       [  3.36261279e+00,   3.34164828e-02,   4.39067778e-01,\n",
       "          9.50198383e+00,   6.27600020e+01,   1.00000000e+00],\n",
       "       [  4.31420866e+00,   7.60825197e-02,   1.16090458e+00,\n",
       "          1.30107056e+01,   3.25733862e+01,   2.00000000e+00],\n",
       "       [  3.82394407e+00,   7.77945686e-02,   1.26239471e+00,\n",
       "          1.24637249e+01,   3.55451639e+01,   2.00000000e+00],\n",
       "       [  3.25834773e+00,   1.48160932e-02,   6.27975698e-01,\n",
       "          1.23737263e+01,   4.84894443e+01,   2.00000000e+00],\n",
       "       [  3.54377169e+00,   1.19195246e-01,   7.16473257e-01,\n",
       "          9.60989454e+00,   6.03721312e+01,   3.00000000e+00],\n",
       "       [  3.43229774e+00,   5.12668422e-02,   7.09823747e-01,\n",
       "          9.65053001e+00,   5.13580699e+01,   3.00000000e+00],\n",
       "       [  4.05552684e+00,   4.57646561e-02,   4.03462035e-01,\n",
       "          9.46413780e+00,   6.15639814e+01,   3.00000000e+00]])"
      ]
     },
     "execution_count": 236,
     "metadata": {},
     "output_type": "execute_result"
    }
   ],
   "source": [
    "X"
   ]
  },
  {
   "cell_type": "code",
   "execution_count": 241,
   "metadata": {
    "collapsed": false
   },
   "outputs": [
    {
     "ename": "ValueError",
     "evalue": "all the input array dimensions except for the concatenation axis must match exactly",
     "output_type": "error",
     "traceback": [
      "\u001b[0;31m---------------------------------------------------------------------------\u001b[0m",
      "\u001b[0;31mValueError\u001b[0m                                Traceback (most recent call last)",
      "\u001b[0;32m<ipython-input-241-4fc00b33d31c>\u001b[0m in \u001b[0;36m<module>\u001b[0;34m()\u001b[0m\n\u001b[0;32m----> 1\u001b[0;31m \u001b[0mnp\u001b[0m\u001b[0;34m.\u001b[0m\u001b[0mappend\u001b[0m\u001b[0;34m(\u001b[0m\u001b[0mX\u001b[0m\u001b[0;34m[\u001b[0m\u001b[0;34m:\u001b[0m\u001b[0;34m,\u001b[0m\u001b[0;34m[\u001b[0m\u001b[0;36m0\u001b[0m\u001b[0;34m,\u001b[0m\u001b[0;36m1\u001b[0m\u001b[0;34m,\u001b[0m\u001b[0;36m2\u001b[0m\u001b[0;34m]\u001b[0m\u001b[0;34m]\u001b[0m\u001b[0;34m,\u001b[0m\u001b[0mX\u001b[0m\u001b[0;34m[\u001b[0m\u001b[0;34m:\u001b[0m\u001b[0;34m,\u001b[0m\u001b[0;34m[\u001b[0m\u001b[0;36m4\u001b[0m\u001b[0;34m,\u001b[0m\u001b[0;36m5\u001b[0m\u001b[0;34m]\u001b[0m\u001b[0;34m]\u001b[0m\u001b[0;34m,\u001b[0m \u001b[0maxis\u001b[0m \u001b[0;34m=\u001b[0m \u001b[0;36m0\u001b[0m\u001b[0;34m)\u001b[0m\u001b[0;34m\u001b[0m\u001b[0m\n\u001b[0m",
      "\u001b[0;32m/Users/tjyacoub/anaconda2/lib/python2.7/site-packages/numpy/lib/function_base.pyc\u001b[0m in \u001b[0;36mappend\u001b[0;34m(arr, values, axis)\u001b[0m\n\u001b[1;32m   4148\u001b[0m         \u001b[0mvalues\u001b[0m \u001b[0;34m=\u001b[0m \u001b[0mravel\u001b[0m\u001b[0;34m(\u001b[0m\u001b[0mvalues\u001b[0m\u001b[0;34m)\u001b[0m\u001b[0;34m\u001b[0m\u001b[0m\n\u001b[1;32m   4149\u001b[0m         \u001b[0maxis\u001b[0m \u001b[0;34m=\u001b[0m \u001b[0marr\u001b[0m\u001b[0;34m.\u001b[0m\u001b[0mndim\u001b[0m\u001b[0;34m-\u001b[0m\u001b[0;36m1\u001b[0m\u001b[0;34m\u001b[0m\u001b[0m\n\u001b[0;32m-> 4150\u001b[0;31m     \u001b[0;32mreturn\u001b[0m \u001b[0mconcatenate\u001b[0m\u001b[0;34m(\u001b[0m\u001b[0;34m(\u001b[0m\u001b[0marr\u001b[0m\u001b[0;34m,\u001b[0m \u001b[0mvalues\u001b[0m\u001b[0;34m)\u001b[0m\u001b[0;34m,\u001b[0m \u001b[0maxis\u001b[0m\u001b[0;34m=\u001b[0m\u001b[0maxis\u001b[0m\u001b[0;34m)\u001b[0m\u001b[0;34m\u001b[0m\u001b[0m\n\u001b[0m",
      "\u001b[0;31mValueError\u001b[0m: all the input array dimensions except for the concatenation axis must match exactly"
     ]
    }
   ],
   "source": [
    "np.append(X[:,[0,1,2]],X[:,[4,5]], axis = 0)"
   ]
  },
  {
   "cell_type": "code",
   "execution_count": 249,
   "metadata": {
    "collapsed": false
   },
   "outputs": [
    {
     "data": {
      "text/plain": [
       "array([[  3.41610974e+00,   9.76697565e-02,   8.94175966e-01,\n",
       "          1.04098005e+01,   4.70133389e+01,   0.00000000e+00],\n",
       "       [  3.00989350e+00,   4.06094757e-02,   7.57337035e-01,\n",
       "          1.04975571e+01,   4.11372210e+01,   0.00000000e+00],\n",
       "       [  2.98530474e+00,   6.99040154e-02,   6.07386480e-01,\n",
       "          1.17108804e+01,   4.45672835e+01,   0.00000000e+00],\n",
       "       [  3.00683948e+00,   7.34749232e-02,   4.80478537e-01,\n",
       "          9.80971684e+00,   4.26428333e+01,   1.00000000e+00],\n",
       "       [  3.28829824e+00,   2.38356962e-02,   4.44518309e-01,\n",
       "          9.47927995e+00,   4.84034779e+01,   1.00000000e+00],\n",
       "       [  3.36261279e+00,   3.34164828e-02,   4.39067778e-01,\n",
       "          9.50198383e+00,   6.27600020e+01,   1.00000000e+00],\n",
       "       [  4.31420866e+00,   7.60825197e-02,   1.16090458e+00,\n",
       "          1.30107056e+01,   3.25733862e+01,   2.00000000e+00],\n",
       "       [  3.82394407e+00,   7.77945686e-02,   1.26239471e+00,\n",
       "          1.24637249e+01,   3.55451639e+01,   2.00000000e+00],\n",
       "       [  3.25834773e+00,   1.48160932e-02,   6.27975698e-01,\n",
       "          1.23737263e+01,   4.84894443e+01,   2.00000000e+00],\n",
       "       [  3.54377169e+00,   1.19195246e-01,   7.16473257e-01,\n",
       "          9.60989454e+00,   6.03721312e+01,   3.00000000e+00],\n",
       "       [  3.43229774e+00,   5.12668422e-02,   7.09823747e-01,\n",
       "          9.65053001e+00,   5.13580699e+01,   3.00000000e+00],\n",
       "       [  4.05552684e+00,   4.57646561e-02,   4.03462035e-01,\n",
       "          9.46413780e+00,   6.15639814e+01,   3.00000000e+00]])"
      ]
     },
     "execution_count": 249,
     "metadata": {},
     "output_type": "execute_result"
    }
   ],
   "source": [
    "X"
   ]
  },
  {
   "cell_type": "code",
   "execution_count": 260,
   "metadata": {
    "collapsed": false
   },
   "outputs": [],
   "source": [
    "Xd = pd.DataFrame(X)\n",
    "\n",
    "Xd2 = Xd.ix[:,[0,1,2,3]]"
   ]
  },
  {
   "cell_type": "code",
   "execution_count": 259,
   "metadata": {
    "collapsed": false
   },
   "outputs": [
    {
     "data": {
      "text/html": [
       "<div>\n",
       "<table border=\"1\" class=\"dataframe\">\n",
       "  <thead>\n",
       "    <tr style=\"text-align: right;\">\n",
       "      <th></th>\n",
       "      <th>0</th>\n",
       "      <th>1</th>\n",
       "      <th>2</th>\n",
       "      <th>3</th>\n",
       "      <th>4</th>\n",
       "      <th>5</th>\n",
       "    </tr>\n",
       "  </thead>\n",
       "  <tbody>\n",
       "    <tr>\n",
       "      <th>0</th>\n",
       "      <td>3.416110</td>\n",
       "      <td>0.097670</td>\n",
       "      <td>0.894176</td>\n",
       "      <td>10.409801</td>\n",
       "      <td>47.013339</td>\n",
       "      <td>0</td>\n",
       "    </tr>\n",
       "    <tr>\n",
       "      <th>1</th>\n",
       "      <td>3.009893</td>\n",
       "      <td>0.040609</td>\n",
       "      <td>0.757337</td>\n",
       "      <td>10.497557</td>\n",
       "      <td>41.137221</td>\n",
       "      <td>0</td>\n",
       "    </tr>\n",
       "    <tr>\n",
       "      <th>2</th>\n",
       "      <td>2.985305</td>\n",
       "      <td>0.069904</td>\n",
       "      <td>0.607386</td>\n",
       "      <td>11.710880</td>\n",
       "      <td>44.567283</td>\n",
       "      <td>0</td>\n",
       "    </tr>\n",
       "    <tr>\n",
       "      <th>3</th>\n",
       "      <td>3.006839</td>\n",
       "      <td>0.073475</td>\n",
       "      <td>0.480479</td>\n",
       "      <td>9.809717</td>\n",
       "      <td>42.642833</td>\n",
       "      <td>1</td>\n",
       "    </tr>\n",
       "    <tr>\n",
       "      <th>4</th>\n",
       "      <td>3.288298</td>\n",
       "      <td>0.023836</td>\n",
       "      <td>0.444518</td>\n",
       "      <td>9.479280</td>\n",
       "      <td>48.403478</td>\n",
       "      <td>1</td>\n",
       "    </tr>\n",
       "    <tr>\n",
       "      <th>5</th>\n",
       "      <td>3.362613</td>\n",
       "      <td>0.033416</td>\n",
       "      <td>0.439068</td>\n",
       "      <td>9.501984</td>\n",
       "      <td>62.760002</td>\n",
       "      <td>1</td>\n",
       "    </tr>\n",
       "    <tr>\n",
       "      <th>6</th>\n",
       "      <td>4.314209</td>\n",
       "      <td>0.076083</td>\n",
       "      <td>1.160905</td>\n",
       "      <td>13.010706</td>\n",
       "      <td>32.573386</td>\n",
       "      <td>2</td>\n",
       "    </tr>\n",
       "    <tr>\n",
       "      <th>7</th>\n",
       "      <td>3.823944</td>\n",
       "      <td>0.077795</td>\n",
       "      <td>1.262395</td>\n",
       "      <td>12.463725</td>\n",
       "      <td>35.545164</td>\n",
       "      <td>2</td>\n",
       "    </tr>\n",
       "    <tr>\n",
       "      <th>8</th>\n",
       "      <td>3.258348</td>\n",
       "      <td>0.014816</td>\n",
       "      <td>0.627976</td>\n",
       "      <td>12.373726</td>\n",
       "      <td>48.489444</td>\n",
       "      <td>2</td>\n",
       "    </tr>\n",
       "    <tr>\n",
       "      <th>9</th>\n",
       "      <td>3.543772</td>\n",
       "      <td>0.119195</td>\n",
       "      <td>0.716473</td>\n",
       "      <td>9.609895</td>\n",
       "      <td>60.372131</td>\n",
       "      <td>3</td>\n",
       "    </tr>\n",
       "    <tr>\n",
       "      <th>10</th>\n",
       "      <td>3.432298</td>\n",
       "      <td>0.051267</td>\n",
       "      <td>0.709824</td>\n",
       "      <td>9.650530</td>\n",
       "      <td>51.358070</td>\n",
       "      <td>3</td>\n",
       "    </tr>\n",
       "    <tr>\n",
       "      <th>11</th>\n",
       "      <td>4.055527</td>\n",
       "      <td>0.045765</td>\n",
       "      <td>0.403462</td>\n",
       "      <td>9.464138</td>\n",
       "      <td>61.563981</td>\n",
       "      <td>3</td>\n",
       "    </tr>\n",
       "  </tbody>\n",
       "</table>\n",
       "</div>"
      ],
      "text/plain": [
       "           0         1         2          3          4  5\n",
       "0   3.416110  0.097670  0.894176  10.409801  47.013339  0\n",
       "1   3.009893  0.040609  0.757337  10.497557  41.137221  0\n",
       "2   2.985305  0.069904  0.607386  11.710880  44.567283  0\n",
       "3   3.006839  0.073475  0.480479   9.809717  42.642833  1\n",
       "4   3.288298  0.023836  0.444518   9.479280  48.403478  1\n",
       "5   3.362613  0.033416  0.439068   9.501984  62.760002  1\n",
       "6   4.314209  0.076083  1.160905  13.010706  32.573386  2\n",
       "7   3.823944  0.077795  1.262395  12.463725  35.545164  2\n",
       "8   3.258348  0.014816  0.627976  12.373726  48.489444  2\n",
       "9   3.543772  0.119195  0.716473   9.609895  60.372131  3\n",
       "10  3.432298  0.051267  0.709824   9.650530  51.358070  3\n",
       "11  4.055527  0.045765  0.403462   9.464138  61.563981  3"
      ]
     },
     "execution_count": 259,
     "metadata": {},
     "output_type": "execute_result"
    }
   ],
   "source": [
    "Xd"
   ]
  },
  {
   "cell_type": "code",
   "execution_count": 261,
   "metadata": {
    "collapsed": false
   },
   "outputs": [
    {
     "data": {
      "text/html": [
       "<div>\n",
       "<table border=\"1\" class=\"dataframe\">\n",
       "  <thead>\n",
       "    <tr style=\"text-align: right;\">\n",
       "      <th></th>\n",
       "      <th>0</th>\n",
       "      <th>1</th>\n",
       "      <th>2</th>\n",
       "      <th>3</th>\n",
       "    </tr>\n",
       "  </thead>\n",
       "  <tbody>\n",
       "    <tr>\n",
       "      <th>0</th>\n",
       "      <td>3.416110</td>\n",
       "      <td>0.097670</td>\n",
       "      <td>0.894176</td>\n",
       "      <td>10.409801</td>\n",
       "    </tr>\n",
       "    <tr>\n",
       "      <th>1</th>\n",
       "      <td>3.009893</td>\n",
       "      <td>0.040609</td>\n",
       "      <td>0.757337</td>\n",
       "      <td>10.497557</td>\n",
       "    </tr>\n",
       "    <tr>\n",
       "      <th>2</th>\n",
       "      <td>2.985305</td>\n",
       "      <td>0.069904</td>\n",
       "      <td>0.607386</td>\n",
       "      <td>11.710880</td>\n",
       "    </tr>\n",
       "    <tr>\n",
       "      <th>3</th>\n",
       "      <td>3.006839</td>\n",
       "      <td>0.073475</td>\n",
       "      <td>0.480479</td>\n",
       "      <td>9.809717</td>\n",
       "    </tr>\n",
       "    <tr>\n",
       "      <th>4</th>\n",
       "      <td>3.288298</td>\n",
       "      <td>0.023836</td>\n",
       "      <td>0.444518</td>\n",
       "      <td>9.479280</td>\n",
       "    </tr>\n",
       "    <tr>\n",
       "      <th>5</th>\n",
       "      <td>3.362613</td>\n",
       "      <td>0.033416</td>\n",
       "      <td>0.439068</td>\n",
       "      <td>9.501984</td>\n",
       "    </tr>\n",
       "    <tr>\n",
       "      <th>6</th>\n",
       "      <td>4.314209</td>\n",
       "      <td>0.076083</td>\n",
       "      <td>1.160905</td>\n",
       "      <td>13.010706</td>\n",
       "    </tr>\n",
       "    <tr>\n",
       "      <th>7</th>\n",
       "      <td>3.823944</td>\n",
       "      <td>0.077795</td>\n",
       "      <td>1.262395</td>\n",
       "      <td>12.463725</td>\n",
       "    </tr>\n",
       "    <tr>\n",
       "      <th>8</th>\n",
       "      <td>3.258348</td>\n",
       "      <td>0.014816</td>\n",
       "      <td>0.627976</td>\n",
       "      <td>12.373726</td>\n",
       "    </tr>\n",
       "    <tr>\n",
       "      <th>9</th>\n",
       "      <td>3.543772</td>\n",
       "      <td>0.119195</td>\n",
       "      <td>0.716473</td>\n",
       "      <td>9.609895</td>\n",
       "    </tr>\n",
       "    <tr>\n",
       "      <th>10</th>\n",
       "      <td>3.432298</td>\n",
       "      <td>0.051267</td>\n",
       "      <td>0.709824</td>\n",
       "      <td>9.650530</td>\n",
       "    </tr>\n",
       "    <tr>\n",
       "      <th>11</th>\n",
       "      <td>4.055527</td>\n",
       "      <td>0.045765</td>\n",
       "      <td>0.403462</td>\n",
       "      <td>9.464138</td>\n",
       "    </tr>\n",
       "  </tbody>\n",
       "</table>\n",
       "</div>"
      ],
      "text/plain": [
       "           0         1         2          3\n",
       "0   3.416110  0.097670  0.894176  10.409801\n",
       "1   3.009893  0.040609  0.757337  10.497557\n",
       "2   2.985305  0.069904  0.607386  11.710880\n",
       "3   3.006839  0.073475  0.480479   9.809717\n",
       "4   3.288298  0.023836  0.444518   9.479280\n",
       "5   3.362613  0.033416  0.439068   9.501984\n",
       "6   4.314209  0.076083  1.160905  13.010706\n",
       "7   3.823944  0.077795  1.262395  12.463725\n",
       "8   3.258348  0.014816  0.627976  12.373726\n",
       "9   3.543772  0.119195  0.716473   9.609895\n",
       "10  3.432298  0.051267  0.709824   9.650530\n",
       "11  4.055527  0.045765  0.403462   9.464138"
      ]
     },
     "execution_count": 261,
     "metadata": {},
     "output_type": "execute_result"
    }
   ],
   "source": [
    "Xd2"
   ]
  },
  {
   "cell_type": "code",
   "execution_count": 243,
   "metadata": {
    "collapsed": false
   },
   "outputs": [
    {
     "data": {
      "text/html": [
       "<div>\n",
       "<table border=\"1\" class=\"dataframe\">\n",
       "  <thead>\n",
       "    <tr style=\"text-align: right;\">\n",
       "      <th></th>\n",
       "      <th>0</th>\n",
       "      <th>1</th>\n",
       "      <th>2</th>\n",
       "    </tr>\n",
       "  </thead>\n",
       "  <tbody>\n",
       "    <tr>\n",
       "      <th>0</th>\n",
       "      <td>3.416110</td>\n",
       "      <td>0.097670</td>\n",
       "      <td>0.894176</td>\n",
       "    </tr>\n",
       "    <tr>\n",
       "      <th>1</th>\n",
       "      <td>3.009893</td>\n",
       "      <td>0.040609</td>\n",
       "      <td>0.757337</td>\n",
       "    </tr>\n",
       "    <tr>\n",
       "      <th>2</th>\n",
       "      <td>2.985305</td>\n",
       "      <td>0.069904</td>\n",
       "      <td>0.607386</td>\n",
       "    </tr>\n",
       "    <tr>\n",
       "      <th>3</th>\n",
       "      <td>3.006839</td>\n",
       "      <td>0.073475</td>\n",
       "      <td>0.480479</td>\n",
       "    </tr>\n",
       "    <tr>\n",
       "      <th>4</th>\n",
       "      <td>3.288298</td>\n",
       "      <td>0.023836</td>\n",
       "      <td>0.444518</td>\n",
       "    </tr>\n",
       "    <tr>\n",
       "      <th>5</th>\n",
       "      <td>3.362613</td>\n",
       "      <td>0.033416</td>\n",
       "      <td>0.439068</td>\n",
       "    </tr>\n",
       "    <tr>\n",
       "      <th>6</th>\n",
       "      <td>4.314209</td>\n",
       "      <td>0.076083</td>\n",
       "      <td>1.160905</td>\n",
       "    </tr>\n",
       "    <tr>\n",
       "      <th>7</th>\n",
       "      <td>3.823944</td>\n",
       "      <td>0.077795</td>\n",
       "      <td>1.262395</td>\n",
       "    </tr>\n",
       "    <tr>\n",
       "      <th>8</th>\n",
       "      <td>3.258348</td>\n",
       "      <td>0.014816</td>\n",
       "      <td>0.627976</td>\n",
       "    </tr>\n",
       "    <tr>\n",
       "      <th>9</th>\n",
       "      <td>3.543772</td>\n",
       "      <td>0.119195</td>\n",
       "      <td>0.716473</td>\n",
       "    </tr>\n",
       "    <tr>\n",
       "      <th>10</th>\n",
       "      <td>3.432298</td>\n",
       "      <td>0.051267</td>\n",
       "      <td>0.709824</td>\n",
       "    </tr>\n",
       "    <tr>\n",
       "      <th>11</th>\n",
       "      <td>4.055527</td>\n",
       "      <td>0.045765</td>\n",
       "      <td>0.403462</td>\n",
       "    </tr>\n",
       "  </tbody>\n",
       "</table>\n",
       "</div>"
      ],
      "text/plain": [
       "           0         1         2\n",
       "0   3.416110  0.097670  0.894176\n",
       "1   3.009893  0.040609  0.757337\n",
       "2   2.985305  0.069904  0.607386\n",
       "3   3.006839  0.073475  0.480479\n",
       "4   3.288298  0.023836  0.444518\n",
       "5   3.362613  0.033416  0.439068\n",
       "6   4.314209  0.076083  1.160905\n",
       "7   3.823944  0.077795  1.262395\n",
       "8   3.258348  0.014816  0.627976\n",
       "9   3.543772  0.119195  0.716473\n",
       "10  3.432298  0.051267  0.709824\n",
       "11  4.055527  0.045765  0.403462"
      ]
     },
     "execution_count": 243,
     "metadata": {},
     "output_type": "execute_result"
    }
   ],
   "source": [
    "pd.DataFrame(X[:,[0,1,2]])"
   ]
  },
  {
   "cell_type": "code",
   "execution_count": 213,
   "metadata": {
    "collapsed": false
   },
   "outputs": [
    {
     "data": {
      "text/html": [
       "<div>\n",
       "<table border=\"1\" class=\"dataframe\">\n",
       "  <thead>\n",
       "    <tr style=\"text-align: right;\">\n",
       "      <th></th>\n",
       "      <th>0</th>\n",
       "      <th>1</th>\n",
       "      <th>2</th>\n",
       "      <th>3</th>\n",
       "    </tr>\n",
       "  </thead>\n",
       "  <tbody>\n",
       "    <tr>\n",
       "      <th>0</th>\n",
       "      <td>0.074135</td>\n",
       "      <td>0.843899</td>\n",
       "      <td>10.361103</td>\n",
       "      <td>45.876615</td>\n",
       "    </tr>\n",
       "    <tr>\n",
       "      <th>1</th>\n",
       "      <td>0.060919</td>\n",
       "      <td>0.533623</td>\n",
       "      <td>7.389288</td>\n",
       "      <td>57.323654</td>\n",
       "    </tr>\n",
       "    <tr>\n",
       "      <th>2</th>\n",
       "      <td>0.027971</td>\n",
       "      <td>0.758754</td>\n",
       "      <td>12.236357</td>\n",
       "      <td>39.298792</td>\n",
       "    </tr>\n",
       "    <tr>\n",
       "      <th>3</th>\n",
       "      <td>0.101058</td>\n",
       "      <td>0.471166</td>\n",
       "      <td>9.293965</td>\n",
       "      <td>43.355790</td>\n",
       "    </tr>\n",
       "  </tbody>\n",
       "</table>\n",
       "</div>"
      ],
      "text/plain": [
       "          0         1          2          3\n",
       "0  0.074135  0.843899  10.361103  45.876615\n",
       "1  0.060919  0.533623   7.389288  57.323654\n",
       "2  0.027971  0.758754  12.236357  39.298792\n",
       "3  0.101058  0.471166   9.293965  43.355790"
      ]
     },
     "execution_count": 213,
     "metadata": {},
     "output_type": "execute_result"
    }
   ],
   "source": [
    "pd.DataFrame(Xtest)"
   ]
  },
  {
   "cell_type": "code",
   "execution_count": 229,
   "metadata": {
    "collapsed": false
   },
   "outputs": [],
   "source": [
    "\n",
    "#for alpha in [0.01,0.04,0.05,0.06,0.1,0.15,0.2,0.8]:\n",
    "\n",
    "def cycle_lasso(X, y_ind, Xtest, alpha):\n",
    "    \n",
    "    SSE = []\n",
    "    n_gene = []\n",
    "    alphas = []\n",
    "    gene_ind = []\n",
    "    #print Xtest\n",
    "    X2 = np.append(X[:,y_ind], X[y_ind+1,:], axis=0) \n",
    "    print \"X2\", pd.DataFrame(X2)\n",
    "    Xtest2 = False #np.append(Xtest[:,y_ind], Xtest[y_ind+1,:], axis=0)\n",
    "    y = X.transpose()[y_ind]\n",
    "    \n",
    "    SSEt, n_coeft, alphat, genet = lasso(X2, y, Xtest2, alpha, y_ind)\n",
    "    \n",
    "    SSE.append(SSEt)\n",
    "    n_gene.append(n_coeft)\n",
    "    alphas.append(alphat)\n",
    "    gene_ind.append(genet)\n",
    "    \n",
    "    return SSE, n_gene, alphas, gene_ind"
   ]
  },
  {
   "cell_type": "code",
   "execution_count": 230,
   "metadata": {
    "collapsed": false
   },
   "outputs": [],
   "source": [
    "SSE = []\n",
    "def lasso(X, y, Xtest, alpha, y_ind):\n",
    "    \n",
    "    clf = linear_model.Lasso(alpha = alpha)\n",
    "    print \"X\", pd.DataFrame(X)\n",
    "    print \"y\", pd.DataFrame(y)\n",
    "    print X.shape, y.shape\n",
    "    clf.fit(X, y)\n",
    "    \n",
    "    pred = []\n",
    "    \n",
    "    #for Xt in Xtest:\n",
    "    #    pred.append(clf.predict(Xt));\n",
    "    #SSE = sum([(pred[i] - i)**2 for i in range(4)])\n",
    "    \n",
    "    coef = clf.coef_\n",
    "    n_coef = len(coef[coef > 0])\n",
    "    gene_index = [i for i, e in enumerate(coef) if e != 0]\n",
    "    for i in range(len(gene_index)):\n",
    "        if i > y_ind: gene_index[i] += 1\n",
    "    return SSE, n_coef, alpha, gene_index\n"
   ]
  },
  {
   "cell_type": "code",
   "execution_count": 231,
   "metadata": {
    "collapsed": false
   },
   "outputs": [
    {
     "name": "stdout",
     "output_type": "stream",
     "text": [
      "X2             0\n",
      "0   10.409801\n",
      "1   10.497557\n",
      "2   11.710880\n",
      "3    9.809717\n",
      "4    9.479280\n",
      "5    9.501984\n",
      "6   13.010706\n",
      "7   12.463725\n",
      "8   12.373726\n",
      "9    9.609895\n",
      "10   9.650530\n",
      "11   9.464138\n",
      "12   3.288298\n",
      "13   0.023836\n",
      "14   0.444518\n",
      "15   9.479280\n",
      "16  48.403478\n",
      "17   1.000000\n",
      "X             0\n",
      "0   10.409801\n",
      "1   10.497557\n",
      "2   11.710880\n",
      "3    9.809717\n",
      "4    9.479280\n",
      "5    9.501984\n",
      "6   13.010706\n",
      "7   12.463725\n",
      "8   12.373726\n",
      "9    9.609895\n",
      "10   9.650530\n",
      "11   9.464138\n",
      "12   3.288298\n",
      "13   0.023836\n",
      "14   0.444518\n",
      "15   9.479280\n",
      "16  48.403478\n",
      "17   1.000000\n",
      "y             0\n",
      "0   10.409801\n",
      "1   10.497557\n",
      "2   11.710880\n",
      "3    9.809717\n",
      "4    9.479280\n",
      "5    9.501984\n",
      "6   13.010706\n",
      "7   12.463725\n",
      "8   12.373726\n",
      "9    9.609895\n",
      "10   9.650530\n",
      "11   9.464138\n",
      "(18,) (12,)\n"
     ]
    },
    {
     "name": "stderr",
     "output_type": "stream",
     "text": [
      "/Users/tjyacoub/anaconda2/lib/python2.7/site-packages/sklearn/utils/validation.py:386: DeprecationWarning: Passing 1d arrays as data is deprecated in 0.17 and willraise ValueError in 0.19. Reshape your data either using X.reshape(-1, 1) if your data has a single feature or X.reshape(1, -1) if it contains a single sample.\n",
      "  DeprecationWarning)\n"
     ]
    },
    {
     "ename": "ValueError",
     "evalue": "Found arrays with inconsistent numbers of samples: [ 1 12]",
     "output_type": "error",
     "traceback": [
      "\u001b[0;31m---------------------------------------------------------------------------\u001b[0m",
      "\u001b[0;31mValueError\u001b[0m                                Traceback (most recent call last)",
      "\u001b[0;32m<ipython-input-231-256d10699e42>\u001b[0m in \u001b[0;36m<module>\u001b[0;34m()\u001b[0m\n\u001b[1;32m      6\u001b[0m \u001b[0;32mfor\u001b[0m \u001b[0my_ind\u001b[0m \u001b[0;32min\u001b[0m \u001b[0mrange\u001b[0m\u001b[0;34m(\u001b[0m\u001b[0;36m3\u001b[0m\u001b[0;34m,\u001b[0m\u001b[0mlen\u001b[0m\u001b[0;34m(\u001b[0m\u001b[0mX\u001b[0m\u001b[0;34m)\u001b[0m\u001b[0;34m)\u001b[0m\u001b[0;34m:\u001b[0m\u001b[0;34m\u001b[0m\u001b[0m\n\u001b[1;32m      7\u001b[0m \u001b[0;34m\u001b[0m\u001b[0m\n\u001b[0;32m----> 8\u001b[0;31m     \u001b[0mSSE\u001b[0m\u001b[0;34m,\u001b[0m \u001b[0mn_gene\u001b[0m\u001b[0;34m,\u001b[0m \u001b[0malphas\u001b[0m\u001b[0;34m,\u001b[0m \u001b[0mgene_ind\u001b[0m \u001b[0;34m=\u001b[0m \u001b[0mcycle_lasso\u001b[0m\u001b[0;34m(\u001b[0m\u001b[0mX\u001b[0m\u001b[0;34m,\u001b[0m \u001b[0my_ind\u001b[0m\u001b[0;34m,\u001b[0m \u001b[0mXtest\u001b[0m\u001b[0;34m,\u001b[0m \u001b[0malpha\u001b[0m\u001b[0;34m)\u001b[0m\u001b[0;34m\u001b[0m\u001b[0m\n\u001b[0m\u001b[1;32m      9\u001b[0m     \u001b[0mSSE_tot\u001b[0m\u001b[0;34m.\u001b[0m\u001b[0mappend\u001b[0m\u001b[0;34m(\u001b[0m\u001b[0mSSE\u001b[0m\u001b[0;34m)\u001b[0m\u001b[0;34m\u001b[0m\u001b[0m\n\u001b[1;32m     10\u001b[0m     \u001b[0mn_gene_tot\u001b[0m\u001b[0;34m.\u001b[0m\u001b[0mappend\u001b[0m\u001b[0;34m(\u001b[0m\u001b[0mn_gene\u001b[0m\u001b[0;34m)\u001b[0m\u001b[0;34m\u001b[0m\u001b[0m\n",
      "\u001b[0;32m<ipython-input-229-b5dff697f9a1>\u001b[0m in \u001b[0;36mcycle_lasso\u001b[0;34m(X, y_ind, Xtest, alpha)\u001b[0m\n\u001b[1;32m     14\u001b[0m     \u001b[0my\u001b[0m \u001b[0;34m=\u001b[0m \u001b[0mX\u001b[0m\u001b[0;34m.\u001b[0m\u001b[0mtranspose\u001b[0m\u001b[0;34m(\u001b[0m\u001b[0;34m)\u001b[0m\u001b[0;34m[\u001b[0m\u001b[0my_ind\u001b[0m\u001b[0;34m]\u001b[0m\u001b[0;34m\u001b[0m\u001b[0m\n\u001b[1;32m     15\u001b[0m \u001b[0;34m\u001b[0m\u001b[0m\n\u001b[0;32m---> 16\u001b[0;31m     \u001b[0mSSEt\u001b[0m\u001b[0;34m,\u001b[0m \u001b[0mn_coeft\u001b[0m\u001b[0;34m,\u001b[0m \u001b[0malphat\u001b[0m\u001b[0;34m,\u001b[0m \u001b[0mgenet\u001b[0m \u001b[0;34m=\u001b[0m \u001b[0mlasso\u001b[0m\u001b[0;34m(\u001b[0m\u001b[0mX2\u001b[0m\u001b[0;34m,\u001b[0m \u001b[0my\u001b[0m\u001b[0;34m,\u001b[0m \u001b[0mXtest2\u001b[0m\u001b[0;34m,\u001b[0m \u001b[0malpha\u001b[0m\u001b[0;34m,\u001b[0m \u001b[0my_ind\u001b[0m\u001b[0;34m)\u001b[0m\u001b[0;34m\u001b[0m\u001b[0m\n\u001b[0m\u001b[1;32m     17\u001b[0m \u001b[0;34m\u001b[0m\u001b[0m\n\u001b[1;32m     18\u001b[0m     \u001b[0mSSE\u001b[0m\u001b[0;34m.\u001b[0m\u001b[0mappend\u001b[0m\u001b[0;34m(\u001b[0m\u001b[0mSSEt\u001b[0m\u001b[0;34m)\u001b[0m\u001b[0;34m\u001b[0m\u001b[0m\n",
      "\u001b[0;32m<ipython-input-230-c5380f9580c8>\u001b[0m in \u001b[0;36mlasso\u001b[0;34m(X, y, Xtest, alpha, y_ind)\u001b[0m\n\u001b[1;32m      6\u001b[0m     \u001b[0;32mprint\u001b[0m \u001b[0;34m\"y\"\u001b[0m\u001b[0;34m,\u001b[0m \u001b[0mpd\u001b[0m\u001b[0;34m.\u001b[0m\u001b[0mDataFrame\u001b[0m\u001b[0;34m(\u001b[0m\u001b[0my\u001b[0m\u001b[0;34m)\u001b[0m\u001b[0;34m\u001b[0m\u001b[0m\n\u001b[1;32m      7\u001b[0m     \u001b[0;32mprint\u001b[0m \u001b[0mX\u001b[0m\u001b[0;34m.\u001b[0m\u001b[0mshape\u001b[0m\u001b[0;34m,\u001b[0m \u001b[0my\u001b[0m\u001b[0;34m.\u001b[0m\u001b[0mshape\u001b[0m\u001b[0;34m\u001b[0m\u001b[0m\n\u001b[0;32m----> 8\u001b[0;31m     \u001b[0mclf\u001b[0m\u001b[0;34m.\u001b[0m\u001b[0mfit\u001b[0m\u001b[0;34m(\u001b[0m\u001b[0mX\u001b[0m\u001b[0;34m,\u001b[0m \u001b[0my\u001b[0m\u001b[0;34m)\u001b[0m\u001b[0;34m\u001b[0m\u001b[0m\n\u001b[0m\u001b[1;32m      9\u001b[0m \u001b[0;34m\u001b[0m\u001b[0m\n\u001b[1;32m     10\u001b[0m     \u001b[0mpred\u001b[0m \u001b[0;34m=\u001b[0m \u001b[0;34m[\u001b[0m\u001b[0;34m]\u001b[0m\u001b[0;34m\u001b[0m\u001b[0m\n",
      "\u001b[0;32m/Users/tjyacoub/anaconda2/lib/python2.7/site-packages/sklearn/linear_model/coordinate_descent.pyc\u001b[0m in \u001b[0;36mfit\u001b[0;34m(self, X, y, check_input)\u001b[0m\n\u001b[1;32m    658\u001b[0m                              \u001b[0morder\u001b[0m\u001b[0;34m=\u001b[0m\u001b[0;34m'F'\u001b[0m\u001b[0;34m,\u001b[0m\u001b[0;34m\u001b[0m\u001b[0m\n\u001b[1;32m    659\u001b[0m                              \u001b[0mcopy\u001b[0m\u001b[0;34m=\u001b[0m\u001b[0mself\u001b[0m\u001b[0;34m.\u001b[0m\u001b[0mcopy_X\u001b[0m \u001b[0;32mand\u001b[0m \u001b[0mself\u001b[0m\u001b[0;34m.\u001b[0m\u001b[0mfit_intercept\u001b[0m\u001b[0;34m,\u001b[0m\u001b[0;34m\u001b[0m\u001b[0m\n\u001b[0;32m--> 660\u001b[0;31m                              multi_output=True, y_numeric=True)\n\u001b[0m\u001b[1;32m    661\u001b[0m             y = check_array(y, dtype=np.float64, order='F', copy=False,\n\u001b[1;32m    662\u001b[0m                             ensure_2d=False)\n",
      "\u001b[0;32m/Users/tjyacoub/anaconda2/lib/python2.7/site-packages/sklearn/utils/validation.pyc\u001b[0m in \u001b[0;36mcheck_X_y\u001b[0;34m(X, y, accept_sparse, dtype, order, copy, force_all_finite, ensure_2d, allow_nd, multi_output, ensure_min_samples, ensure_min_features, y_numeric, warn_on_dtype, estimator)\u001b[0m\n\u001b[1;32m    518\u001b[0m         \u001b[0my\u001b[0m \u001b[0;34m=\u001b[0m \u001b[0my\u001b[0m\u001b[0;34m.\u001b[0m\u001b[0mastype\u001b[0m\u001b[0;34m(\u001b[0m\u001b[0mnp\u001b[0m\u001b[0;34m.\u001b[0m\u001b[0mfloat64\u001b[0m\u001b[0;34m)\u001b[0m\u001b[0;34m\u001b[0m\u001b[0m\n\u001b[1;32m    519\u001b[0m \u001b[0;34m\u001b[0m\u001b[0m\n\u001b[0;32m--> 520\u001b[0;31m     \u001b[0mcheck_consistent_length\u001b[0m\u001b[0;34m(\u001b[0m\u001b[0mX\u001b[0m\u001b[0;34m,\u001b[0m \u001b[0my\u001b[0m\u001b[0;34m)\u001b[0m\u001b[0;34m\u001b[0m\u001b[0m\n\u001b[0m\u001b[1;32m    521\u001b[0m \u001b[0;34m\u001b[0m\u001b[0m\n\u001b[1;32m    522\u001b[0m     \u001b[0;32mreturn\u001b[0m \u001b[0mX\u001b[0m\u001b[0;34m,\u001b[0m \u001b[0my\u001b[0m\u001b[0;34m\u001b[0m\u001b[0m\n",
      "\u001b[0;32m/Users/tjyacoub/anaconda2/lib/python2.7/site-packages/sklearn/utils/validation.pyc\u001b[0m in \u001b[0;36mcheck_consistent_length\u001b[0;34m(*arrays)\u001b[0m\n\u001b[1;32m    174\u001b[0m     \u001b[0;32mif\u001b[0m \u001b[0mlen\u001b[0m\u001b[0;34m(\u001b[0m\u001b[0muniques\u001b[0m\u001b[0;34m)\u001b[0m \u001b[0;34m>\u001b[0m \u001b[0;36m1\u001b[0m\u001b[0;34m:\u001b[0m\u001b[0;34m\u001b[0m\u001b[0m\n\u001b[1;32m    175\u001b[0m         raise ValueError(\"Found arrays with inconsistent numbers of samples: \"\n\u001b[0;32m--> 176\u001b[0;31m                          \"%s\" % str(uniques))\n\u001b[0m\u001b[1;32m    177\u001b[0m \u001b[0;34m\u001b[0m\u001b[0m\n\u001b[1;32m    178\u001b[0m \u001b[0;34m\u001b[0m\u001b[0m\n",
      "\u001b[0;31mValueError\u001b[0m: Found arrays with inconsistent numbers of samples: [ 1 12]"
     ]
    }
   ],
   "source": [
    "SSE_tot = []\n",
    "n_gene_tot = []\n",
    "alphas_tot = []\n",
    "gene_ind_tot = []\n",
    "\n",
    "for y_ind in range(3,len(X)):\n",
    "\n",
    "    SSE, n_gene, alphas, gene_ind = cycle_lasso(X, y_ind, Xtest, alpha)\n",
    "    SSE_tot.append(SSE)\n",
    "    n_gene_tot.append(n_gene)\n",
    "    alphas_tot.append(alphas)\n",
    "    gene_ind_tot.append(gene_ind)"
   ]
  },
  {
   "cell_type": "code",
   "execution_count": 221,
   "metadata": {
    "collapsed": false
   },
   "outputs": [
    {
     "data": {
      "image/png": "[encoded data removed]",
      "text/plain": [
       "<matplotlib.figure.Figure at 0x11013af10>"
      ]
     },
     "metadata": {},
     "output_type": "display_data"
    },
    {
     "ename": "ValueError",
     "evalue": "x and y must have same first dimension",
     "output_type": "error",
     "traceback": [
      "\u001b[0;31m---------------------------------------------------------------------------\u001b[0m",
      "\u001b[0;31mValueError\u001b[0m                                Traceback (most recent call last)",
      "\u001b[0;32m<ipython-input-221-eeda0d5a4d6a>\u001b[0m in \u001b[0;36m<module>\u001b[0;34m()\u001b[0m\n\u001b[1;32m      4\u001b[0m     \u001b[0mplt\u001b[0m\u001b[0;34m.\u001b[0m\u001b[0mplot\u001b[0m\u001b[0;34m(\u001b[0m\u001b[0mgene_ind\u001b[0m\u001b[0;34m[\u001b[0m\u001b[0mg\u001b[0m\u001b[0;34m]\u001b[0m\u001b[0;34m,\u001b[0m \u001b[0mlabel\u001b[0m \u001b[0;34m=\u001b[0m \u001b[0malphas\u001b[0m\u001b[0;34m[\u001b[0m\u001b[0mg\u001b[0m\u001b[0;34m]\u001b[0m\u001b[0;34m)\u001b[0m\u001b[0;34m\u001b[0m\u001b[0m\n\u001b[1;32m      5\u001b[0m \u001b[0mplt\u001b[0m\u001b[0;34m.\u001b[0m\u001b[0mshow\u001b[0m\u001b[0;34m(\u001b[0m\u001b[0;34m)\u001b[0m\u001b[0;34m\u001b[0m\u001b[0m\n\u001b[0;32m----> 6\u001b[0;31m \u001b[0mplt\u001b[0m\u001b[0;34m.\u001b[0m\u001b[0mplot\u001b[0m\u001b[0;34m(\u001b[0m\u001b[0malphas\u001b[0m\u001b[0;34m,\u001b[0m \u001b[0mn_coef\u001b[0m\u001b[0;34m)\u001b[0m\u001b[0;34m\u001b[0m\u001b[0m\n\u001b[0m",
      "\u001b[0;32m/Users/tjyacoub/anaconda2/lib/python2.7/site-packages/matplotlib/pyplot.pyc\u001b[0m in \u001b[0;36mplot\u001b[0;34m(*args, **kwargs)\u001b[0m\n\u001b[1;32m   3097\u001b[0m         \u001b[0max\u001b[0m\u001b[0;34m.\u001b[0m\u001b[0mhold\u001b[0m\u001b[0;34m(\u001b[0m\u001b[0mhold\u001b[0m\u001b[0;34m)\u001b[0m\u001b[0;34m\u001b[0m\u001b[0m\n\u001b[1;32m   3098\u001b[0m     \u001b[0;32mtry\u001b[0m\u001b[0;34m:\u001b[0m\u001b[0;34m\u001b[0m\u001b[0m\n\u001b[0;32m-> 3099\u001b[0;31m         \u001b[0mret\u001b[0m \u001b[0;34m=\u001b[0m \u001b[0max\u001b[0m\u001b[0;34m.\u001b[0m\u001b[0mplot\u001b[0m\u001b[0;34m(\u001b[0m\u001b[0;34m*\u001b[0m\u001b[0margs\u001b[0m\u001b[0;34m,\u001b[0m \u001b[0;34m**\u001b[0m\u001b[0mkwargs\u001b[0m\u001b[0;34m)\u001b[0m\u001b[0;34m\u001b[0m\u001b[0m\n\u001b[0m\u001b[1;32m   3100\u001b[0m         \u001b[0mdraw_if_interactive\u001b[0m\u001b[0;34m(\u001b[0m\u001b[0;34m)\u001b[0m\u001b[0;34m\u001b[0m\u001b[0m\n\u001b[1;32m   3101\u001b[0m     \u001b[0;32mfinally\u001b[0m\u001b[0;34m:\u001b[0m\u001b[0;34m\u001b[0m\u001b[0m\n",
      "\u001b[0;32m/Users/tjyacoub/anaconda2/lib/python2.7/site-packages/matplotlib/axes/_axes.pyc\u001b[0m in \u001b[0;36mplot\u001b[0;34m(self, *args, **kwargs)\u001b[0m\n\u001b[1;32m   1371\u001b[0m         \u001b[0mlines\u001b[0m \u001b[0;34m=\u001b[0m \u001b[0;34m[\u001b[0m\u001b[0;34m]\u001b[0m\u001b[0;34m\u001b[0m\u001b[0m\n\u001b[1;32m   1372\u001b[0m \u001b[0;34m\u001b[0m\u001b[0m\n\u001b[0;32m-> 1373\u001b[0;31m         \u001b[0;32mfor\u001b[0m \u001b[0mline\u001b[0m \u001b[0;32min\u001b[0m \u001b[0mself\u001b[0m\u001b[0;34m.\u001b[0m\u001b[0m_get_lines\u001b[0m\u001b[0;34m(\u001b[0m\u001b[0;34m*\u001b[0m\u001b[0margs\u001b[0m\u001b[0;34m,\u001b[0m \u001b[0;34m**\u001b[0m\u001b[0mkwargs\u001b[0m\u001b[0;34m)\u001b[0m\u001b[0;34m:\u001b[0m\u001b[0;34m\u001b[0m\u001b[0m\n\u001b[0m\u001b[1;32m   1374\u001b[0m             \u001b[0mself\u001b[0m\u001b[0;34m.\u001b[0m\u001b[0madd_line\u001b[0m\u001b[0;34m(\u001b[0m\u001b[0mline\u001b[0m\u001b[0;34m)\u001b[0m\u001b[0;34m\u001b[0m\u001b[0m\n\u001b[1;32m   1375\u001b[0m             \u001b[0mlines\u001b[0m\u001b[0;34m.\u001b[0m\u001b[0mappend\u001b[0m\u001b[0;34m(\u001b[0m\u001b[0mline\u001b[0m\u001b[0;34m)\u001b[0m\u001b[0;34m\u001b[0m\u001b[0m\n",
      "\u001b[0;32m/Users/tjyacoub/anaconda2/lib/python2.7/site-packages/matplotlib/axes/_base.pyc\u001b[0m in \u001b[0;36m_grab_next_args\u001b[0;34m(self, *args, **kwargs)\u001b[0m\n\u001b[1;32m    302\u001b[0m                 \u001b[0;32mreturn\u001b[0m\u001b[0;34m\u001b[0m\u001b[0m\n\u001b[1;32m    303\u001b[0m             \u001b[0;32mif\u001b[0m \u001b[0mlen\u001b[0m\u001b[0;34m(\u001b[0m\u001b[0mremaining\u001b[0m\u001b[0;34m)\u001b[0m \u001b[0;34m<=\u001b[0m \u001b[0;36m3\u001b[0m\u001b[0;34m:\u001b[0m\u001b[0;34m\u001b[0m\u001b[0m\n\u001b[0;32m--> 304\u001b[0;31m                 \u001b[0;32mfor\u001b[0m \u001b[0mseg\u001b[0m \u001b[0;32min\u001b[0m \u001b[0mself\u001b[0m\u001b[0;34m.\u001b[0m\u001b[0m_plot_args\u001b[0m\u001b[0;34m(\u001b[0m\u001b[0mremaining\u001b[0m\u001b[0;34m,\u001b[0m \u001b[0mkwargs\u001b[0m\u001b[0;34m)\u001b[0m\u001b[0;34m:\u001b[0m\u001b[0;34m\u001b[0m\u001b[0m\n\u001b[0m\u001b[1;32m    305\u001b[0m                     \u001b[0;32myield\u001b[0m \u001b[0mseg\u001b[0m\u001b[0;34m\u001b[0m\u001b[0m\n\u001b[1;32m    306\u001b[0m                 \u001b[0;32mreturn\u001b[0m\u001b[0;34m\u001b[0m\u001b[0m\n",
      "\u001b[0;32m/Users/tjyacoub/anaconda2/lib/python2.7/site-packages/matplotlib/axes/_base.pyc\u001b[0m in \u001b[0;36m_plot_args\u001b[0;34m(self, tup, kwargs)\u001b[0m\n\u001b[1;32m    280\u001b[0m             \u001b[0mx\u001b[0m \u001b[0;34m=\u001b[0m \u001b[0mnp\u001b[0m\u001b[0;34m.\u001b[0m\u001b[0marange\u001b[0m\u001b[0;34m(\u001b[0m\u001b[0my\u001b[0m\u001b[0;34m.\u001b[0m\u001b[0mshape\u001b[0m\u001b[0;34m[\u001b[0m\u001b[0;36m0\u001b[0m\u001b[0;34m]\u001b[0m\u001b[0;34m,\u001b[0m \u001b[0mdtype\u001b[0m\u001b[0;34m=\u001b[0m\u001b[0mfloat\u001b[0m\u001b[0;34m)\u001b[0m\u001b[0;34m\u001b[0m\u001b[0m\n\u001b[1;32m    281\u001b[0m \u001b[0;34m\u001b[0m\u001b[0m\n\u001b[0;32m--> 282\u001b[0;31m         \u001b[0mx\u001b[0m\u001b[0;34m,\u001b[0m \u001b[0my\u001b[0m \u001b[0;34m=\u001b[0m \u001b[0mself\u001b[0m\u001b[0;34m.\u001b[0m\u001b[0m_xy_from_xy\u001b[0m\u001b[0;34m(\u001b[0m\u001b[0mx\u001b[0m\u001b[0;34m,\u001b[0m \u001b[0my\u001b[0m\u001b[0;34m)\u001b[0m\u001b[0;34m\u001b[0m\u001b[0m\n\u001b[0m\u001b[1;32m    283\u001b[0m \u001b[0;34m\u001b[0m\u001b[0m\n\u001b[1;32m    284\u001b[0m         \u001b[0;32mif\u001b[0m \u001b[0mself\u001b[0m\u001b[0;34m.\u001b[0m\u001b[0mcommand\u001b[0m \u001b[0;34m==\u001b[0m \u001b[0;34m'plot'\u001b[0m\u001b[0;34m:\u001b[0m\u001b[0;34m\u001b[0m\u001b[0m\n",
      "\u001b[0;32m/Users/tjyacoub/anaconda2/lib/python2.7/site-packages/matplotlib/axes/_base.pyc\u001b[0m in \u001b[0;36m_xy_from_xy\u001b[0;34m(self, x, y)\u001b[0m\n\u001b[1;32m    221\u001b[0m         \u001b[0my\u001b[0m \u001b[0;34m=\u001b[0m \u001b[0mnp\u001b[0m\u001b[0;34m.\u001b[0m\u001b[0matleast_1d\u001b[0m\u001b[0;34m(\u001b[0m\u001b[0my\u001b[0m\u001b[0;34m)\u001b[0m\u001b[0;34m\u001b[0m\u001b[0m\n\u001b[1;32m    222\u001b[0m         \u001b[0;32mif\u001b[0m \u001b[0mx\u001b[0m\u001b[0;34m.\u001b[0m\u001b[0mshape\u001b[0m\u001b[0;34m[\u001b[0m\u001b[0;36m0\u001b[0m\u001b[0;34m]\u001b[0m \u001b[0;34m!=\u001b[0m \u001b[0my\u001b[0m\u001b[0;34m.\u001b[0m\u001b[0mshape\u001b[0m\u001b[0;34m[\u001b[0m\u001b[0;36m0\u001b[0m\u001b[0;34m]\u001b[0m\u001b[0;34m:\u001b[0m\u001b[0;34m\u001b[0m\u001b[0m\n\u001b[0;32m--> 223\u001b[0;31m             \u001b[0;32mraise\u001b[0m \u001b[0mValueError\u001b[0m\u001b[0;34m(\u001b[0m\u001b[0;34m\"x and y must have same first dimension\"\u001b[0m\u001b[0;34m)\u001b[0m\u001b[0;34m\u001b[0m\u001b[0m\n\u001b[0m\u001b[1;32m    224\u001b[0m         \u001b[0;32mif\u001b[0m \u001b[0mx\u001b[0m\u001b[0;34m.\u001b[0m\u001b[0mndim\u001b[0m \u001b[0;34m>\u001b[0m \u001b[0;36m2\u001b[0m \u001b[0;32mor\u001b[0m \u001b[0my\u001b[0m\u001b[0;34m.\u001b[0m\u001b[0mndim\u001b[0m \u001b[0;34m>\u001b[0m \u001b[0;36m2\u001b[0m\u001b[0;34m:\u001b[0m\u001b[0;34m\u001b[0m\u001b[0m\n\u001b[1;32m    225\u001b[0m             \u001b[0;32mraise\u001b[0m \u001b[0mValueError\u001b[0m\u001b[0;34m(\u001b[0m\u001b[0;34m\"x and y can be no greater than 2-D\"\u001b[0m\u001b[0;34m)\u001b[0m\u001b[0;34m\u001b[0m\u001b[0m\n",
      "\u001b[0;31mValueError\u001b[0m: x and y must have same first dimension"
     ]
    },
    {
     "data": {
      "image/png": "[encoded data removed]",
      "text/plain": [
       "<matplotlib.figure.Figure at 0x110132d90>"
      ]
     },
     "metadata": {},
     "output_type": "display_data"
    }
   ],
   "source": [
    "plt.plot(alphas, SSE)\n",
    "plt.show()\n",
    "for g in range(len(gene_ind)):\n",
    "    plt.plot(gene_ind[g], label = alphas[g])\n",
    "plt.show()\n",
    "plt.plot(alphas, n_coef)"
   ]
  },
  {
   "cell_type": "code",
   "execution_count": 50,
   "metadata": {
    "collapsed": false
   },
   "outputs": [
    {
     "name": "stdout",
     "output_type": "stream",
     "text": [
      "2928 0.0003039\n",
      "3755 0.0005017\n",
      "3898 1.6e-06\n",
      "7987 0.0009066\n",
      "11942 2.11e-05\n",
      "11951 2.34e-05\n",
      "11953 0.0001054\n",
      "11959 6.8e-06\n",
      "11961 6.06e-05\n",
      "12167 0.0002877\n",
      "12882 0.0007937\n",
      "[array([ 0.09633461]), array([ 0.66293173]), array([ 2.11598438]), array([ 2.88949329])]\n",
      "1.35783667373 5\n"
     ]
    },
    {
     "name": "stderr",
     "output_type": "stream",
     "text": [
      "/Users/tjyacoub/anaconda2/lib/python2.7/site-packages/sklearn/utils/validation.py:386: DeprecationWarning: Passing 1d arrays as data is deprecated in 0.17 and willraise ValueError in 0.19. Reshape your data either using X.reshape(-1, 1) if your data has a single feature or X.reshape(1, -1) if it contains a single sample.\n",
      "  DeprecationWarning)\n",
      "/Users/tjyacoub/anaconda2/lib/python2.7/site-packages/sklearn/utils/validation.py:386: DeprecationWarning: Passing 1d arrays as data is deprecated in 0.17 and willraise ValueError in 0.19. Reshape your data either using X.reshape(-1, 1) if your data has a single feature or X.reshape(1, -1) if it contains a single sample.\n",
      "  DeprecationWarning)\n",
      "/Users/tjyacoub/anaconda2/lib/python2.7/site-packages/sklearn/utils/validation.py:386: DeprecationWarning: Passing 1d arrays as data is deprecated in 0.17 and willraise ValueError in 0.19. Reshape your data either using X.reshape(-1, 1) if your data has a single feature or X.reshape(1, -1) if it contains a single sample.\n",
      "  DeprecationWarning)\n",
      "/Users/tjyacoub/anaconda2/lib/python2.7/site-packages/sklearn/utils/validation.py:386: DeprecationWarning: Passing 1d arrays as data is deprecated in 0.17 and willraise ValueError in 0.19. Reshape your data either using X.reshape(-1, 1) if your data has a single feature or X.reshape(1, -1) if it contains a single sample.\n",
      "  DeprecationWarning)\n"
     ]
    },
    {
     "data": {
      "text/plain": [
       "[<matplotlib.lines.Line2D at 0x10b943250>]"
      ]
     },
     "execution_count": 50,
     "metadata": {},
     "output_type": "execute_result"
    },
    {
     "data": {
      "image/png": "[encoded data removed]",
      "text/plain": [
       "<matplotlib.figure.Figure at 0x10d33d110>"
      ]
     },
     "metadata": {},
     "output_type": "display_data"
    }
   ],
   "source": [
    "\n",
    "#print \"initial X\", X[0][0]\n",
    "#X, Xtest, index_shuf = coshuffle(X, Xtest)\n",
    "#print \"new X\", X[0][0]\n",
    "clf = linear_model.Lasso(alpha = 0.1)\n",
    "### [[one array of genes per sample], [response]]\n",
    "\n",
    "clf.fit(X, y)\n",
    "#Lasso(alpha=0.1, copy_X=True, fit_intercept=True, max_iter=1000,\n",
    "#   normalize=False, positive=False, precompute=False, random_state=None,\n",
    "#   selection='cyclic', tol=0.0001, warm_start=False)\n",
    "\n",
    "pred = []\n",
    "for Xt in Xtest:\n",
    "    pred.append(clf.predict(Xt));\n",
    "SSE = sum([(pred[i] - i)**2 for i in range(4)])\n",
    "\n",
    "tot = []\n",
    "coef = clf.coef_\n",
    "l = len(coef)\n",
    "l2 = 0\n",
    "check_same = []\n",
    "for i in range(l):\n",
    "    if coef[i] > 0:\n",
    "        tot.append(coef[i])\n",
    "        print i, round(coef[i],7)\n",
    "        check_same.append(i)\n",
    "        l2 += 0.5\n",
    "l2 = int(l2)\n",
    "print pred\n",
    "print sum(tot[:l2])/ sum(tot[l2:]), l2\n",
    "plt.plot(tot)"
   ]
  },
  {
   "cell_type": "code",
   "execution_count": 56,
   "metadata": {
    "collapsed": false
   },
   "outputs": [
    {
     "data": {
      "text/plain": [
       "array([ 0.14855949])"
      ]
     },
     "execution_count": 56,
     "metadata": {},
     "output_type": "execute_result"
    }
   ],
   "source": [
    "sum([(pred[i] - i)**2 for i in range(4)])"
   ]
  },
  {
   "cell_type": "code",
   "execution_count": null,
   "metadata": {
    "collapsed": false
   },
   "outputs": [],
   "source": [
    "print l2"
   ]
  },
  {
   "cell_type": "code",
   "execution_count": null,
   "metadata": {
    "collapsed": true
   },
   "outputs": [],
   "source": [
    "coef = clf.coef_"
   ]
  },
  {
   "cell_type": "code",
   "execution_count": null,
   "metadata": {
    "collapsed": false,
    "scrolled": true
   },
   "outputs": [],
   "source": [
    "\n"
   ]
  },
  {
   "cell_type": "code",
   "execution_count": null,
   "metadata": {
    "collapsed": false
   },
   "outputs": [],
   "source": [
    "len(clf.coef_[clf.coef_ > 0])"
   ]
  },
  {
   "cell_type": "code",
   "execution_count": null,
   "metadata": {
    "collapsed": true
   },
   "outputs": [],
   "source": [
    "x"
   ]
  },
  {
   "cell_type": "code",
   "execution_count": null,
   "metadata": {
    "collapsed": true
   },
   "outputs": [],
   "source": [
    "state_dict = {'AT2.young.flu.20150416': 'YF', 'AT2.old.naive.20150416': 'ON', \n",
    "                 'AT2.old.flu.20150416': 'OF', 'AT2.young.naive.20150416': 'YN'}"
   ]
  },
  {
   "cell_type": "code",
   "execution_count": null,
   "metadata": {
    "collapsed": false
   },
   "outputs": [],
   "source": [
    "def rename_cols(df, state_dict):\n",
    "    cols = df.columns\n",
    "    temp_cols = list(cols)\n",
    "    #print temp_cols\n",
    "    for c in range(len(cols)):\n",
    "        state_name = cols[c][:-2]\n",
    "        #sample_num = cols[c][-2:]\n",
    "        total_name = cols[c]\n",
    "        #print state_name\n",
    "        if state_name in state_dict:\n",
    "            new_state_name = state_dict[state_name]\n",
    "            new_col = total_name.replace(state_name, new_state_name)\n",
    "            temp_cols[c] = new_col\n",
    "            #print abb_pair_dict[state_name]\n",
    "    df.columns = temp_cols\n",
    "    #print temp_cols\n",
    "    return df\n",
    "        \n",
    "    "
   ]
  },
  {
   "cell_type": "code",
   "execution_count": null,
   "metadata": {
    "collapsed": false
   },
   "outputs": [],
   "source": [
    "df = rename_cols(df, state_dict)"
   ]
  },
  {
   "cell_type": "code",
   "execution_count": null,
   "metadata": {
    "collapsed": false
   },
   "outputs": [],
   "source": [
    "len(df)"
   ]
  },
  {
   "cell_type": "code",
   "execution_count": null,
   "metadata": {
    "collapsed": false
   },
   "outputs": [],
   "source": [
    "def df_to_names(df):\n",
    "    \n",
    "    name_dict = {}\n",
    "        \n",
    "    for i in range(2,len(df.columns)):\n",
    "        name = df.columns[i][:-2]\n",
    "        if name in name_dict:\n",
    "            name_dict[name].append(i)\n",
    "        else:\n",
    "            name_dict[name] = [i]\n",
    "            \n",
    "    return name_dict"
   ]
  },
  {
   "cell_type": "code",
   "execution_count": null,
   "metadata": {
    "collapsed": false
   },
   "outputs": [],
   "source": [
    "name_dict = df_to_names(df)"
   ]
  },
  {
   "cell_type": "code",
   "execution_count": null,
   "metadata": {
    "collapsed": false
   },
   "outputs": [],
   "source": [
    "def unique(a, b):\n",
    "    return list([a[i] for i in range(1,len(a)) if a[i] not in b])\n",
    "def intersect(a, b):\n",
    "    return list(set(a) & set(b))\n",
    "def union(a, b):\n",
    "    return list(set(a) | set(b))\n",
    "def intersect3(a, b, c):\n",
    "    return list(set(a) & set(b) & set(c))\n",
    "\n",
    "def unique3(a, b, c, index):\n",
    "    uniques = [0 for i in range(3)]\n",
    "    uniques[0] = list([a[i] for i in range(1,len(a)) if a[i] not in b and a[i] not in c])\n",
    "    uniques[1] = list([b[i] for i in range(1,len(b)) if b[i] not in a and b[i] not in c])\n",
    "    uniques[2] = list([c[i] for i in range(1,len(c)) if c[i] not in a and c[i] not in b])\n",
    "    return uniques[index]\n"
   ]
  },
  {
   "cell_type": "code",
   "execution_count": null,
   "metadata": {
    "collapsed": false
   },
   "outputs": [],
   "source": [
    "unique3([1,2,3],[4,5,6],[4,6,7])"
   ]
  },
  {
   "cell_type": "code",
   "execution_count": null,
   "metadata": {
    "collapsed": true
   },
   "outputs": [],
   "source": [
    "def t_stat(df, names):\n",
    "    \n",
    "    ### Df has samples only, no gene\n",
    "    #print df\n",
    "    #names = df_to_names(df)\n",
    "    #print \"t-stat names\", names #names[0], name_dict[names[0]]\n",
    "    n_samples1 = len(name_dict[names[0]])\n",
    "    n_samples2 = len(name_dict[names[1]])\n",
    "    \n",
    "    index1 = 1\n",
    "    index2 = index1 + n_samples1\n",
    "    \n",
    "    width = df['width']\n",
    "    #print \"nsamps\", n_samples1, n_samples2\n",
    "    indices1 = [index1 + i for i in range(n_samples1)]\n",
    "    indices2 = [index2 + i for i in range(n_samples2)]\n",
    "    \n",
    "    values1 = [df[df.columns[i]] for i in indices1]\n",
    "    values2 = [df[df.columns[i]] for i in indices2]\n",
    "    \n",
    "    mean1 = sum(values1)/n_samples1\n",
    "    mean2 = sum(values2)/n_samples2\n",
    "    \n",
    "    var1_num = [(values1[i] - mean1)**2 for i in range(n_samples1)]\n",
    "    var2_num = [(values2[i] - mean2)**2 for i in range(n_samples2)]\n",
    "    \n",
    "    var1 = sum(var1_num)/(n_samples1 - 1)\n",
    "    var2 = sum(var2_num)/(n_samples2 - 1)\n",
    "    \n",
    "    t_stat = (mean1 - mean2) / (var1/n_samples1 + var2/n_samples2)**0.5\n",
    "    pval = stats.t.sf(np.abs(t_stat), n_samples1-1)*2 \n",
    "    \n",
    "    logfc = np.log2(mean2/mean1)\n",
    "    \n",
    "    diff = (mean2 - mean1) * width\n",
    "    diff2 = (mean2 - mean1)\n",
    "    \n",
    "    return [pval, logfc, diff, mean1, diff2]"
   ]
  },
  {
   "cell_type": "code",
   "execution_count": null,
   "metadata": {
    "collapsed": false
   },
   "outputs": [],
   "source": [
    "### Create new temp dataframe with cols ['samp1a','samp1b','samp2a','samp2b','gene']\n",
    "### Add cols for logfc, pval\n",
    "def names_to_df(names):\n",
    "       \n",
    "    # For first name    \n",
    "    #print \"names to df\", names\n",
    "    indices = list(name_dict[names[0]])\n",
    "    l = len(indices)\n",
    "    indices.insert(0,1)\n",
    "    indices.insert(0,0)\n",
    "    #print indices\n",
    "    df_temp1 = df.ix[:,indices]\n",
    "    #print df_temp1\n",
    "    \n",
    "    # For second name\n",
    "    indices = list(name_dict[names[1]])\n",
    "    l = len(indices)\n",
    "    indices.insert(0,1)\n",
    "    indices.insert(0,0)\n",
    "    df_temp2 = df.ix[:,indices]\n",
    "    \n",
    "    dft = pd.merge(df_temp1, df_temp2, how='outer', on=['gene','width']);\n",
    "    \n",
    "    dft = dft.ix[1:];\n",
    "    dft_float = dft.ix[:,1:].astype('float');\n",
    "    dft_float = dft_float[dft_float > 0];\n",
    "\n",
    "    #print dft_float\n",
    "    dft['pval'], dft['logfc'], dft['diff'], dft['mean'], dft['diff_only'] = t_stat(dft_float, names)\n",
    "\n",
    "    return dft\n",
    "    #dft = merge(dft)"
   ]
  },
  {
   "cell_type": "code",
   "execution_count": null,
   "metadata": {
    "collapsed": false
   },
   "outputs": [],
   "source": [
    "pairs_rel = [['YN','ON'],['YN','YF'],['ON','OF']]"
   ]
  },
  {
   "cell_type": "code",
   "execution_count": null,
   "metadata": {
    "collapsed": false
   },
   "outputs": [],
   "source": [
    "tdf = names_to_df(pairs[0])"
   ]
  },
  {
   "cell_type": "code",
   "execution_count": null,
   "metadata": {
    "collapsed": false
   },
   "outputs": [],
   "source": [
    "tdf = tdf[tdf['pval'] < 0.05];"
   ]
  },
  {
   "cell_type": "code",
   "execution_count": null,
   "metadata": {
    "collapsed": true
   },
   "outputs": [],
   "source": [
    "tdfup = tdf[tdf['diff'] > 0]\n",
    "tdfdn = tdf[tdf['diff'] < 0]"
   ]
  },
  {
   "cell_type": "code",
   "execution_count": null,
   "metadata": {
    "collapsed": false
   },
   "outputs": [],
   "source": [
    "nup = np.sum(tdfup['diff'])\n",
    "ndn = np.sum(tdfdn['diff'])"
   ]
  },
  {
   "cell_type": "code",
   "execution_count": null,
   "metadata": {
    "collapsed": false
   },
   "outputs": [],
   "source": [
    "def reset_pairs(df):\n",
    "    \n",
    "    name_dict = df_to_names(df)\n",
    "    names = name_dict.keys()\n",
    "    n_names = len(names)\n",
    "    pairs = [[[names[i], names[j]] for i in range(n_names) if i != j] for j in range(n_names)]\n",
    "    pairs = [pair for sublist in pairs for pair in sublist]\n",
    "    return pairs\n",
    "\n",
    "pairs = reset_pairs(df)"
   ]
  },
  {
   "cell_type": "code",
   "execution_count": null,
   "metadata": {
    "collapsed": false
   },
   "outputs": [],
   "source": [
    "name_dict"
   ]
  },
  {
   "cell_type": "code",
   "execution_count": null,
   "metadata": {
    "collapsed": true
   },
   "outputs": [],
   "source": [
    "def filter_df(df, pcut = 0.05, fcut = 0.15, dcut = 25, mcut = 5):\n",
    "    \n",
    "    ### Filter all by pvalue\n",
    "    df = df[df['pval'] < pcut]\n",
    "    \n",
    "    ## Highly upregulated\n",
    "    df1 = df[df['diff'] > dcut]\n",
    "    \n",
    "    ## Highly downregulated\n",
    "    df2 = df[df['diff'] < -dcut]\n",
    "    \n",
    "    ## Weakly upregulated\n",
    "    df3 = df[df['diff'] < dcut]\n",
    "    df3 = df3[df3['diff'] > 0]\n",
    "    \n",
    "    ## Weakly downregulated\n",
    "    df4 = df[df['diff'] > -fcut]\n",
    "    df4 = df4[df4['diff'] < 0]\n",
    "    \n",
    "    return [df1, df2, df3, df4]\n",
    "        "
   ]
  },
  {
   "cell_type": "code",
   "execution_count": null,
   "metadata": {
    "collapsed": true
   },
   "outputs": [],
   "source": [
    "def filter_grps(df, pcut = 0.05, fcut = 0, dcut = 0, mcut = 0):\n",
    "    \n",
    "    ### Filter all by pvalue\n",
    "    df = df[df['pval'] < pcut]\n",
    "    \n",
    "    ## Highly upregulated\n",
    "    df1 = df[df['diff'] > dcut]\n",
    "    df1 = df1[df1['mean'] > mcut]\n",
    "    df1 = df1[df1['logfc'] > fcut]\n",
    "    \n",
    "    ## Highly downregulated\n",
    "    df2 = df[df['diff'] < dcut]\n",
    "    df2 = df2[df2['mean'] > mcut]\n",
    "    df2 = df2[df2['logfc'] < -fcut]\n",
    "\n",
    "    return [df1, df2]\n",
    "        "
   ]
  },
  {
   "cell_type": "code",
   "execution_count": null,
   "metadata": {
    "collapsed": true
   },
   "outputs": [],
   "source": [
    "def grp_stats(group):\n",
    "    \n",
    "    mean_diff = round(np.mean(group['diff']),0)\n",
    "    diff_low = round(np.mean(group['diff_only']),2)\n",
    "    mean_val = round(np.mean(group['mean']),2)\n",
    "    tot = mean_diff*len(group)\n",
    "    return [len(group), diff_low, tot/1000000, mean_val]\n"
   ]
  },
  {
   "cell_type": "code",
   "execution_count": null,
   "metadata": {
    "collapsed": false,
    "scrolled": true
   },
   "outputs": [],
   "source": [
    "#n_groups = 2\n",
    "#for p1 in range(1,2):#len(pairs_rel)):\n",
    "\n",
    "out1 = open('YN_YF_unique_up','w')\n",
    "\n",
    "def common_stats(pairs):\n",
    "    \n",
    "    pair1 = pairs[0]\n",
    "    print pair1\n",
    "    df1 = names_to_df(pair1)\n",
    "    df1_groups = filter_grps(df1)\n",
    "    df1_genes = [group['gene'] for group in df1_groups]\n",
    "    \n",
    "    pair2 = pairs[1]\n",
    "    print pair2\n",
    "    df2 = names_to_df(pair2)\n",
    "    df2_groups = filter_grps(df2)\n",
    "    df2_genes = [group['gene'] for group in df2_groups]\n",
    "        \n",
    "    common_genes = [pd.DataFrame(intersect(df1_genes[i], df2_genes[i])) for i in range(n_groups)]\n",
    "    #return df1_genes[0], df2_genes[0]\n",
    "    #break\n",
    "    unique_genes1 = [pd.DataFrame(unique(list(df1_genes[i]), list(df2_genes[i]))) for i in range(n_groups)]\n",
    "    unique_genes2 = [pd.DataFrame(unique(list(df2_genes[i]), list(df1_genes[i]))) for i in range(n_groups)]\n",
    "    \n",
    "    for i in range(n_groups):\n",
    "        common_genes[i].columns = ['gene']\n",
    "        unique_genes1[i].columns = ['gene']\n",
    "        unique_genes2[i].columns = ['gene']\n",
    "    \n",
    "    upgenes1 = unique(list(df1_genes[0]), list(df2_genes[0]))\n",
    "    upgenes2 = unique(list(df2_genes[0]), list(df1_genes[0]))\n",
    "    print \"# in common\", [len(common_genes[i]) for i in range(n_groups)]\n",
    "    print \"# unique in 1\", [len(unique_genes1[i]) for i in range(n_groups)]\n",
    "    print \"# in group1\", [len(genes) for genes in df1_genes]\n",
    "        #print common_genes[0]\n",
    "        ## Of the common genes, which are in first pair\n",
    "        #print df1_groups[0]\n",
    "    df1_common = [pd.merge(common_genes[i], df1_groups[i], how='left') for i in range(n_groups)]\n",
    "    df2_common = [pd.merge(common_genes[i], df2_groups[i], how='left') for i in range(n_groups)]\n",
    "    \n",
    "    #@df1[~ (df1_groups[0].gene.isin(df1_common.id1) & df1.id2.isin(df2.id2))]\n",
    "    \n",
    "    df1_unique = [pd.merge(unique_genes1[i], df1_groups[i], how='left') for i in range(n_groups)]\n",
    "    df2_unique = [pd.merge(unique_genes2[i], df2_groups[i], how='left') for i in range(n_groups)]\n",
    "    \n",
    "    dfs_uniq = [df1_unique, df2_unique]\n",
    "    dfs_comm = [df1_common, df2_common]\n",
    "    dfs_tots = [df1_groups, df2_groups]\n",
    "    #dfup_comm = df1_common[0]\n",
    "    #ne = (df1 != df2).any(1)\n",
    "        #print \"In common with pair 1\"\n",
    "        \n",
    "        ## In\n",
    "    d_graph = []\n",
    "    for i in range(len(df1_groups)):\n",
    "        \n",
    "        if i==0: print \"UPREG\"\n",
    "        else: print \"DOWN REG\"\n",
    "        \n",
    "        print \"FIRST GROUP\"\n",
    "        print \"Total\"\n",
    "        \n",
    "        print grp_stats(df1_groups[i])\n",
    "\n",
    "        print \"Common\"\n",
    "        print grp_stats(df1_common[i])\n",
    "        \n",
    "        comm_1 = grp_stats(df1_common[i])[2]\n",
    "        \n",
    "        print \"Unique\"\n",
    "        print grp_stats(df1_unique[i])\n",
    "        \n",
    "        uniq_1 = grp_stats(df1_unique[i])[2]\n",
    "\n",
    "        d1 = [comm_1, uniq_1]\n",
    "        d_graph.append(d1)\n",
    "        \n",
    "        print \"Second Group\"\n",
    "        print \"Total\"\n",
    "        print grp_stats(df2_groups[i])\n",
    "        \n",
    "        print \"Common\"\n",
    "        comm_2 = grp_stats(df2_common[i])[2]\n",
    "        print grp_stats(df2_common[i])\n",
    "        \n",
    "        print \"Unique\"\n",
    "        uniq_2 = grp_stats(df2_unique[i])[2]\n",
    "        print grp_stats(df2_unique[i])\n",
    "        \n",
    "        d2 = [comm_2, uniq_2]\n",
    "        d_graph.append(d2)\n",
    "        print '\\n'\n",
    "    \n",
    "    return d_graph #dfs_uniq, dfs_comm, dfs_tots\n",
    "\n",
    "  "
   ]
  },
  {
   "cell_type": "code",
   "execution_count": null,
   "metadata": {
    "collapsed": false,
    "scrolled": true
   },
   "outputs": [],
   "source": [
    "#n_groups = 2\n",
    "#for p1 in range(1,2):#len(pairs_rel)):\n",
    "\n",
    "out1 = open('YN_YF_unique_up','w')\n",
    "\n",
    "def common_stats_graph(pairs):\n",
    "    \n",
    "    pair1 = pairs[0]\n",
    "    print pair1\n",
    "    df1 = names_to_df(pair1)\n",
    "    df1_groups = filter_grps(df1, fcut=0.1)\n",
    "    df1_genes = [group['gene'] for group in df1_groups]\n",
    "    \n",
    "    pair2 = pairs[1]\n",
    "    print pair2\n",
    "    df2 = names_to_df(pair2)\n",
    "    df2_groups = filter_grps(df2, fcut=0.1)\n",
    "    df2_genes = [group['gene'] for group in df2_groups]\n",
    "    \n",
    "    common_genes = [pd.DataFrame(intersect(df1_genes[i], df2_genes[i])) for i in range(n_groups)]\n",
    "    #return df1_genes[0], df2_genes[0]\n",
    "    #break\n",
    "    unique_genes1 = [pd.DataFrame(unique(list(df1_genes[i]), list(df2_genes[i]))) for i in range(n_groups)]\n",
    "    unique_genes2 = [pd.DataFrame(unique(list(df2_genes[i]), list(df1_genes[i]))) for i in range(n_groups)]\n",
    "    \n",
    "    for i in range(n_groups):\n",
    "        common_genes[i].columns = ['gene']\n",
    "        unique_genes1[i].columns = ['gene']\n",
    "        unique_genes2[i].columns = ['gene']\n",
    "    \n",
    "    upgenes1 = unique(list(df1_genes[0]), list(df2_genes[0]))\n",
    "    upgenes2 = unique(list(df2_genes[0]), list(df1_genes[0]))\n",
    "    print \"# in common\", [len(common_genes[i]) for i in range(n_groups)]\n",
    "    print \"# unique in 1\", [len(unique_genes1[i]) for i in range(n_groups)]\n",
    "    print \"# in group1\", [len(genes) for genes in df1_genes]\n",
    "        #print common_genes[0]\n",
    "        ## Of the common genes, which are in first pair\n",
    "        #print df1_groups[0]\n",
    "    df1_common = [pd.merge(common_genes[i], df1_groups[i], how='left') for i in range(n_groups)]\n",
    "    df2_common = [pd.merge(common_genes[i], df2_groups[i], how='left') for i in range(n_groups)]\n",
    "    \n",
    "    #@df1[~ (df1_groups[0].gene.isin(df1_common.id1) & df1.id2.isin(df2.id2))]\n",
    "    \n",
    "    df1_unique = [pd.merge(unique_genes1[i], df1_groups[i], how='left') for i in range(n_groups)]\n",
    "    df2_unique = [pd.merge(unique_genes2[i], df2_groups[i], how='left') for i in range(n_groups)]\n",
    "    \n",
    "    dfs_uniq = [df1_unique, df2_unique]\n",
    "    dfs_comm = [df1_common, df2_common]\n",
    "    dfs_tots = [df1_groups, df2_groups]\n",
    "    #dfup_comm = df1_common[0]\n",
    "    #ne = (df1 != df2).any(1)\n",
    "        #print \"In common with pair 1\"\n",
    "        \n",
    "        ## In\n",
    "    p1_graph = []\n",
    "    p2_graph = []\n",
    "    p_graph = []\n",
    "    for i in range(len(df1_groups)):\n",
    "            \n",
    "        if i==0: card = 1\n",
    "        else: card = -1\n",
    "                \n",
    "        comm_1 = grp_stats(df1_common[i])[2]\n",
    " \n",
    "        uniq_1 = grp_stats(df1_unique[i])[2]\n",
    "\n",
    "        d1 = [card*comm_1, card*uniq_1]\n",
    "        p_graph.append(d1)\n",
    "        \n",
    "        comm_2 = grp_stats(df2_common[i])[2]\n",
    "  \n",
    "        uniq_2 = grp_stats(df2_unique[i])[2]\n",
    "\n",
    "        \n",
    "        d2 = [card*comm_2, card*uniq_2]\n",
    "        p_graph.append(d2)\n",
    "    \n",
    "    pd.DataFrame(p_graph, columns=['a', 'b']).plot(kind='bar',stacked=True, title = pairs)\n",
    "    #plt.axhline(0, color='k')\n",
    "    #return p_graph #dfs_uniq, dfs_comm, dfs_tots\n",
    "\n",
    "  "
   ]
  },
  {
   "cell_type": "code",
   "execution_count": null,
   "metadata": {
    "collapsed": false,
    "scrolled": true
   },
   "outputs": [],
   "source": [
    "d_graph_age0 = common_stats_graph([['YN','YF'],['ON','OF']])"
   ]
  },
  {
   "cell_type": "code",
   "execution_count": null,
   "metadata": {
    "collapsed": false
   },
   "outputs": [],
   "source": [
    "def uniq_ratio(lst):\n",
    "    return [lst[i][1]/lst[i][0] for i in range(len(lst))]"
   ]
  },
  {
   "cell_type": "code",
   "execution_count": null,
   "metadata": {
    "collapsed": false
   },
   "outputs": [],
   "source": [
    "d_graph_flu = common_stats_graph([['YN','YF'],['ON','OF']])"
   ]
  },
  {
   "cell_type": "code",
   "execution_count": null,
   "metadata": {
    "collapsed": false
   },
   "outputs": [],
   "source": [
    "pd.DataFrame(d_graph_flu).plot(kind='bar',stacked=True)"
   ]
  },
  {
   "cell_type": "code",
   "execution_count": null,
   "metadata": {
    "collapsed": false
   },
   "outputs": [],
   "source": [
    "pd.DataFrame(uniq_ratio(d_graph)).plot(kind='bar',stacked=True)"
   ]
  },
  {
   "cell_type": "code",
   "execution_count": null,
   "metadata": {
    "collapsed": false
   },
   "outputs": [],
   "source": [
    "dfY_up = dfsuniq[0][0].ix[:,[0,10,11]]\n",
    "dfY_dn = dfsuniq[0][1].ix[:,[0,10,11]]\n",
    "dfO_up = dfsuniq[1][0].ix[:,[0,10,11]]\n",
    "dfO_dn = dfsuniq[1][1].ix[:,[0,10,11]]"
   ]
  },
  {
   "cell_type": "code",
   "execution_count": null,
   "metadata": {
    "collapsed": false
   },
   "outputs": [],
   "source": [
    "df2 = pd.DataFrame(np.random.rand(4, 2), columns=['a', 'b'])"
   ]
  },
  {
   "cell_type": "code",
   "execution_count": null,
   "metadata": {
    "collapsed": false
   },
   "outputs": [],
   "source": [
    "dfY_up_comm = dfs_comm[0][0].ix[:,[0,10,11]]\n",
    "dfY_dn_comm = dfs_comm[0][1].ix[:,[0,10,11]]\n",
    "dfO_up_comm = dfs_comm[1][0].ix[:,[0,10,11]]\n",
    "dfO_dn_comm = dfs_comm[1][1].ix[:,[0,10,11]]"
   ]
  },
  {
   "cell_type": "code",
   "execution_count": null,
   "metadata": {
    "collapsed": false
   },
   "outputs": [],
   "source": [
    "dfY_up_comm.to_csv('dfY_up_comm.txt',sep='\\t', index=False)\n",
    "dfY_dn_comm.to_csv('dfY_dn_comm.txt',sep='\\t', index=False)\n",
    "dfO_up_comm.to_csv('dfO_up_comm.txt',sep='\\t', index=False)\n",
    "dfO_dn_comm.to_csv('dfO_dn_comm.txt',sep='\\t', index=False)"
   ]
  },
  {
   "cell_type": "code",
   "execution_count": null,
   "metadata": {
    "collapsed": false
   },
   "outputs": [],
   "source": [
    "dfY_up.to_csv('dfY_up.txt',sep='\\t', index=False)\n",
    "dfY_dn.to_csv('dfY_dn.txt',sep='\\t', index=False)\n",
    "dfO_up.to_csv('dfO_up.txt',sep='\\t', index=False)\n",
    "dfO_dn.to_csv('dfO_dn.txt',sep='\\t', index=False)"
   ]
  },
  {
   "cell_type": "code",
   "execution_count": null,
   "metadata": {
    "collapsed": false
   },
   "outputs": [],
   "source": [
    "dfs_comm, dfs_uniq, dfsgrps = common_stats([['YN','YF'],['ON','OF']])\n",
    "## Commonly regulated genes used in aging and old flu are 50% higher in flu.\n",
    "## CRGs comprise 20% in upreg, but only 5% in ON_OF downerg\n",
    "## Much more downreg URGs "
   ]
  },
  {
   "cell_type": "code",
   "execution_count": null,
   "metadata": {
    "collapsed": false
   },
   "outputs": [],
   "source": [
    "### Needs dataframe with cols ('gene', 'logfc', 'pval')\n",
    "\n",
    "def filter_genes(df, pcut = 0.05, fcut = 1.4):\n",
    "    \n",
    "    df_pcut = df[df['pval'] < pcut]\n",
    "    \n",
    "    df_fc_up = df_pcut[df_pcut['logfc'] > fcut]\n",
    "    \n",
    "    df_fc_dn = df_pcut[df_pcut['logfc'] < -fcut]\n",
    "    \n",
    "    df_pv_up = df_pcut[df_pcut['logfc'] < fcut]\n",
    "    df_pv_up = df_pv_up[df_pv_up['logfc'] > 0]\n",
    "    \n",
    "    df_pv_dn = df_pcut[df_pcut['logfc'] < 0]\n",
    "    df_pv_dn = df_pv_dn[df_pv_dn['logfc'] > -fcut]\n",
    "\n",
    "    fc_up_genes = df_fc_up['gene']\n",
    "    fc_dn_genes = df_fc_dn['gene']\n",
    "    pv_up_genes = df_pv_up['gene']\n",
    "    pv_dn_genes = df_pv_dn['gene']\n",
    "    \n",
    "    #n_up_fc = sum(df_fc_up.ix[:,'up'])\n",
    "    #n_dn_fc = sum(df_fc_dn.ix[:,'dn'])\n",
    "    #n_up_pv = sum(df_pv_up.ix[:,'up'])\n",
    "    #n_dn_pv = sum(df_pv_dn.ix[:,'dn'])\n",
    "\n",
    "    return [fc_up_genes, fc_dn_genes, pv_up_genes, pv_dn_genes]\n"
   ]
  },
  {
   "cell_type": "code",
   "execution_count": null,
   "metadata": {
    "collapsed": true
   },
   "outputs": [],
   "source": [
    "def sum()"
   ]
  },
  {
   "cell_type": "code",
   "execution_count": null,
   "metadata": {
    "collapsed": true
   },
   "outputs": [],
   "source": [
    "def get_counts(names):\n",
    "    \n",
    "    dft = names_to_df(names)\n",
    "    dft_genes = filter_genes(dft)\n",
    "    dft_counts = [len(genes) for genes in dft_genes]\n",
    "    return dft_counts\n",
    "    "
   ]
  },
  {
   "cell_type": "code",
   "execution_count": null,
   "metadata": {
    "collapsed": true
   },
   "outputs": [],
   "source": [
    "def pair_pair_counts(name_pairs):\n",
    "    \n",
    "    dft1 = names_to_df(name_pairs[0])\n",
    "    dft2 = names_to_df(name_pairs[1])\n",
    "    \n",
    "    dft1_genes = filter_genes(dft1)\n",
    "    dft2_genes = filter_genes(dft2)\n",
    "    \n",
    "    common_genes = [intersect(dft1_genes[i], dft2_genes[i]) for i in range(len(dft1_genes))]\n",
    "    common_counts = [len(genes) for genes in common_genes]\n",
    "    return common_counts\n",
    "    "
   ]
  },
  {
   "cell_type": "code",
   "execution_count": null,
   "metadata": {
    "collapsed": true
   },
   "outputs": [],
   "source": [
    "def all_counts(pairs):\n",
    "    \n",
    "    pairs = reset_pairs(df)\n",
    "    pairs2 = list(pairs)\n",
    "    \n",
    "    for p in range(len(pairs)):\n",
    "        #pair in pairs:\n",
    "        counts = get_counts(pairs2[p])\n",
    "        pairs2[p].append(counts)\n",
    "        \n",
    "    return pairs2"
   ]
  },
  {
   "cell_type": "code",
   "execution_count": null,
   "metadata": {
    "collapsed": false
   },
   "outputs": [],
   "source": [
    "def common_counts(pairs):\n",
    "    \n",
    "    pairs = reset_pairs(df)\n",
    "    pairs_temp = list(pairs)\n",
    "    data = []\n",
    "    \n",
    "    for p in range(len(pairs)):\n",
    "        pair1 = pairs[p]\n",
    "        \n",
    "        for p2 in range(p+1,len(pairs)): \n",
    "            pair2 = pairs[p2]\n",
    "            #if pair1 != pair2:\n",
    "            counts = pair_pair_counts([pair1, pair2])\n",
    "            data12 = [[pair1, pair2],[counts]]\n",
    "            data.append(data12)\n",
    "            \n",
    "        \n",
    "    return data"
   ]
  },
  {
   "cell_type": "code",
   "execution_count": null,
   "metadata": {
    "collapsed": false
   },
   "outputs": [],
   "source": [
    "def common_ratio(pairs):\n",
    "    \n",
    "    pairs = reset_pairs(df)\n",
    "    pairs_temp = list(pairs)\n",
    "    data = []\n",
    "    \n",
    "    for p in range(len(pairs)):\n",
    "        pair1 = pairs[p]\n",
    "        \n",
    "        for p2 in range(p+1,len(pairs)): \n",
    "            pair2 = pairs[p2]\n",
    "            #if pair1 != pair2:\n",
    "            counts = pair_pair_counts([pair1, pair2])\n",
    "            data12 = [[pair1, pair2],float(counts[0])/float(counts[1])]\n",
    "            data.append(data12)\n",
    "            \n",
    "        \n",
    "    return data"
   ]
  },
  {
   "cell_type": "code",
   "execution_count": null,
   "metadata": {
    "collapsed": false
   },
   "outputs": [],
   "source": [
    "def uncommon_counts(pairs):\n",
    "    \n",
    "    pairs = reset_pairs(df)\n",
    "    pairs_temp = list(pairs)\n",
    "    data = []\n",
    "    \n",
    "    for p in range(len(pairs)):\n",
    "        pair1 = pairs[p]\n",
    "        counts1 = get_counts(pair1)\n",
    "        for p2 in range(p+1,len(pairs)): \n",
    "            pair2 = pairs[p2]\n",
    "            #if pair1 != pair2:\n",
    "            counts2 = get_counts(pair2)\n",
    "            counts_pair = pair_pair_counts([pair1, pair2])\n",
    "            data12 = [[pair1, counts1, pair2, counts2],[counts_pair]]\n",
    "            data.append(data12)\n",
    "            \n",
    "    return data"
   ]
  },
  {
   "cell_type": "code",
   "execution_count": null,
   "metadata": {
    "collapsed": false
   },
   "outputs": [],
   "source": [
    "count_data = common_ratio(pairs)"
   ]
  },
  {
   "cell_type": "code",
   "execution_count": null,
   "metadata": {
    "collapsed": true
   },
   "outputs": [],
   "source": [
    "from operator import itemgetter"
   ]
  },
  {
   "cell_type": "code",
   "execution_count": null,
   "metadata": {
    "collapsed": false
   },
   "outputs": [],
   "source": [
    "count_data.sort(key=itemgetter(1), reverse=True) #, keyfor pairs in count_data:\n"
   ]
  },
  {
   "cell_type": "code",
   "execution_count": null,
   "metadata": {
    "collapsed": false
   },
   "outputs": [],
   "source": [
    "for data in count_data:\n",
    "    if data[0][0][0] == data[0][1][0]:\n",
    "        print data"
   ]
  },
  {
   "cell_type": "code",
   "execution_count": null,
   "metadata": {
    "collapsed": false
   },
   "outputs": [],
   "source": [
    "count_data"
   ]
  },
  {
   "cell_type": "code",
   "execution_count": null,
   "metadata": {
    "collapsed": false
   },
   "outputs": [],
   "source": [
    "c2 = count_data\n",
    "for c in range(len(count_data)): #count_data:\n",
    "    c2[c][1][0] = count_data[c][1][0][0]/count_data[c][1][0][0]\n",
    "    \n",
    "print count_data"
   ]
  },
  {
   "cell_type": "code",
   "execution_count": null,
   "metadata": {
    "collapsed": false
   },
   "outputs": [],
   "source": [
    "\n",
    "for data in count_data:\n",
    "    if data[0][0][0] == 'ON' and 'YN' in data[0][0]:\n",
    "        print data"
   ]
  },
  {
   "cell_type": "code",
   "execution_count": null,
   "metadata": {
    "collapsed": false
   },
   "outputs": [],
   "source": [
    "\n",
    "#### [state1, state2, state3, ..., stateN]\n",
    "### [state1, state2, state3, ..., stateN]\n",
    "\n",
    "### N-1 combinations for each state\n",
    "### [state1-state2, state1-state3, state1-stateN ]\n",
    "\n",
    "### N/2 * N combinations, *2 for reverse\n",
    "\n",
    "### input dfs = [df1, df2]\n",
    "def compare_edges(dfs):\n",
    "    \n",
    "    df1_genes = filter_genes(dfs[0])\n",
    "    df2_genes = filter_genes(dfs[1])\n",
    "    \n",
    "    gene_totals = [[df1_genes[i], df2_genes[i]] for i in range(len(df1_genes))]\n",
    "    gene_intersect = [intersect(i,j) for i,j in gene_totals]\n",
    "    gene_percent = [float(len(gene_intersect[i]))/float(len(df1_genes[i])) for i in range(len(df1_genes))]\n",
    "    ### What do we want?\n",
    "    ### [[% up FC_1, % up FC_2],[% dn FC_1, %dn FC_1], [% up PV1, % up PV2], [% dn PV1, % dn PV2]]\n",
    "    \n",
    "    return gene_percent\n",
    "    \n",
    "    #n0 = len(dfres[k][0])\n",
    "    #n1 = len(dfres[k][1])\n",
    "    #ns = len(inter)\n",
    "    \n",
    "    #genes_shared_ct[k] = [n0, round(float(ns)/n0,3), n1, round(float(ns)/n1,3), ns]\n",
    "    #gene_totals[k] = [len(dfres[k][0]),len(dfres[k][1])] \n",
    "                      #genes_unique[k] = unique(dfres[k][0],dfres[k][1])\n",
    "    #gene_ratios[k] = len(genes_union"
   ]
  },
  {
   "cell_type": "code",
   "execution_count": null,
   "metadata": {
    "collapsed": false
   },
   "outputs": [],
   "source": [
    "#%%capture\n",
    "p1 = names_to_df(pairs[0])['pval'][:10]\n",
    "p2 = names_to_df(pairs[3])['pval'][:10]"
   ]
  },
  {
   "cell_type": "code",
   "execution_count": null,
   "metadata": {
    "collapsed": false
   },
   "outputs": [],
   "source": [
    "%%capture\n",
    "al_counts(pairs)"
   ]
  },
  {
   "cell_type": "code",
   "execution_count": null,
   "metadata": {
    "collapsed": false
   },
   "outputs": [],
   "source": [
    "names = [\"FC up\", \"FC down\", \"PV up\", \"PV down\"]\n",
    "for i in range(4):\n",
    "    print names[i]\n",
    "    print x[i]\n",
    "    #print genes_shared_ct[i] #\".2f\"% genes_shared_ct[i][1] "
   ]
  },
  {
   "cell_type": "code",
   "execution_count": null,
   "metadata": {
    "collapsed": false
   },
   "outputs": [],
   "source": [
    "plt.plot([0.6, 0.2, 0.6, 0.5])"
   ]
  },
  {
   "cell_type": "code",
   "execution_count": null,
   "metadata": {
    "collapsed": false
   },
   "outputs": [],
   "source": [
    "dft = dft[pd.notnull(dft).all(axis=1)]"
   ]
  },
  {
   "cell_type": "code",
   "execution_count": null,
   "metadata": {
    "collapsed": false
   },
   "outputs": [],
   "source": [
    "ncols = len(dft.columns)\n",
    "gene_names = dft.ix[:,0]\n",
    "for i in range(1, ncols, 4):   #ncols):\n",
    "    sample1_name = dft.columns[i]\n",
    "    sample_list = []\n",
    "    sample1 = dft.ix[:,i]\n",
    "    for j in range(1, ncols):\n",
    "        \n",
    "        sample2_name = dft.columns[j]\n",
    "        \n",
    "        sample2 = dft.ix[:,j]\n",
    "        #print sample1[0], sample2[0]\n",
    "        logfc = np.log(sample2/sample1)\n",
    "        logfc = logfc[logfc < 100]\n",
    "        upreg = len(logfc[logfc > 1.4])\n",
    "        downreg = len(logfc[logfc < -1.4])\n",
    "        #print sample1_name, sample2_name, upreg, downreg\n",
    "        dist = upreg + downreg\n",
    "        regratio = upreg - downreg\n",
    "        sample_list.append([sample2_name, dist, upreg, downreg])\n",
    "        \n",
    "    print sample1_name\n",
    "    for n in sample_list:\n",
    "        print n\n",
    "    #print sample_list\n",
    "#        print sample1/sample2"
   ]
  },
  {
   "cell_type": "code",
   "execution_count": null,
   "metadata": {
    "collapsed": false
   },
   "outputs": [],
   "source": [
    "def make_tree(dfs):\n",
    "    ndf = len(dfs)\n",
    "    mat\n",
    "    for df1_ind in range(ndf):\n",
    "        for df2_ind in range(df1_ind+1,ndf):\n",
    "            merged_df = pd.merge(dfs[df1_ind], dfs[df2_ind], how = 'outer', on='gene')\n",
    "            \n",
    "            #merged_df['ratio'] = float(merged_df[[1]]) #sum(float(merged_df[[1,2,3,4]]))\n",
    "            #for gene_ind in range(len(merged_df)):\n",
    "        ### GET ratios\n",
    "                \n",
    "        ### GET SIMILARITY\n",
    "        ### [ YN [1, 0.4, 0.8. 0.7],\n",
    "        ###   ON [0.6, 1, 0.9, 0.2],\n",
    "        ###   YF [0.4, 0.3, 1, 0.6],\n",
    "        ###   OF [0.3, 0.9, 0.1, 1]]\n",
    "        \n",
    "        ### TREE FIGURE\n",
    "        ###      YF (2)\n",
    "        ###     /\n",
    "        ###  YN(1)- ON(3)- OF(4)\n",
    "        \n",
    "        ###  [[1,2],[1,3],[3,4]]\n",
    "        \n",
    "        ### START WITH\n",
    "        ### [[1,2],[1,3],[1,4]]\n",
    "        ### [1-2] 0.3\n",
    "        ### [1-3] 0.8\n",
    "        ### [1-4] 0.5\n",
    "        ### Then go to 2\n",
    "        ### [2-1] 0.3 (ok)\n",
    "        ### [2-3] 0.9 (>[1-3], change)\n",
    "                    ### [[1,2],[2,3],[1,4]]\n",
    "        ### [2-4] 0.2 (<[1-4], no change)\n",
    "        ### On to 3...\n",
    "        ### [3-1] 0.3 (ok)\n",
    "        ### [3-2] 0.1 (<[1-3], no change)\n",
    "        ### [3-4] 0.9 (>[1-4], change\n",
    "                    ### [[1,2],[1,3],[3,4]])\n",
    "        \n",
    "        ### [1-3] ok\n",
    "        sim = [[random.random() for i in range(ndf)] for j in range(ndf)]\n",
    "        for i in range(ndf):\n",
    "            ## Initialize tree starting with i\n",
    "            tree = []\n",
    "            for j in range(ndf):\n",
    "                tree[j] = [i,j]\n",
    "                #similarity_matrix sim\n",
    "                \n",
    "                \n",
    "            for j in range(ndf):\n",
    "                sim_ij = sim[i,j]\n",
    "                for k in range(ndf):\n",
    "                    sim_ik = sim[i,k]\n",
    "                    if sim_ik > sim_ij:\n",
    "                        tree[j] = [i,k]\n",
    "                    \n",
    "                \n",
    "                \n",
    "    \n",
    "    #return merged_df\n",
    "        \n",
    "            \n",
    "make_tree(dfs);"
   ]
  },
  {
   "cell_type": "code",
   "execution_count": null,
   "metadata": {
    "collapsed": false
   },
   "outputs": [],
   "source": [
    "import random\n",
    "ndf = 4\n",
    "sim = [[random.random() for i in range(ndf)] for j in range(ndf)]"
   ]
  },
  {
   "cell_type": "code",
   "execution_count": null,
   "metadata": {
    "collapsed": false
   },
   "outputs": [],
   "source": [
    "sim[2][3]"
   ]
  },
  {
   "cell_type": "code",
   "execution_count": null,
   "metadata": {
    "collapsed": false
   },
   "outputs": [],
   "source": [
    "def make_tree2():\n",
    "    ndf = 10\n",
    "    sim = [[random.random() for i in range(ndf)] for j in range(ndf)]\n",
    "    nodes = [i for i in range(ndf)]\n",
    "    for i in range(ndf):\n",
    "        #print \"begin\", i\n",
    "            ## Initialize tree starting with i\n",
    "        tree = []# [0 for x in range(ndf-1)]\n",
    "        \n",
    "        j_nodes = [z for z in range(ndf)]\n",
    "        j_nodes.remove(i)\n",
    "        for j in j_nodes: \n",
    "            tree.append([i,j])\n",
    "                #similarity_matrix sim\n",
    "                \n",
    "        n_iters = 1\n",
    "        for iteration in range(n_iters):\n",
    "            \n",
    "            #print tree\n",
    "        #print \"j_nodes\",j_nodes\n",
    "            for j in j_nodes:\n",
    "            #print tree\n",
    "                sim_ij = sim[i][j]\n",
    "            \n",
    "                k_nodes = [z for z in range(ndf)]\n",
    "                k_nodes.remove(j)\n",
    "                k_nodes.remove(i)\n",
    "                #print \"k_nodes\", k_nodes\n",
    "                for k in k_nodes:\n",
    "                #print \"j = \", j, \"k=\", k\n",
    "                    sim_ik = sim[i][k]\n",
    "                    sim_jk = sim[j][k]\n",
    "                    if sim_ik > sim_jk:\n",
    "                        #print j,k, \"> \", i, k\n",
    "                        tree[k-1] = [j,k]\n",
    "                        #print tree\n",
    "            #print \"end iteration\", iteration, tree\n",
    "            #for i in range(len(tree)):\n",
    "            print sum([sim[ii][jj] for ii,jj in tree])\n",
    "        printsorted(tree)\n",
    "make_tree2()"
   ]
  },
  {
   "cell_type": "code",
   "execution_count": null,
   "metadata": {
    "collapsed": false
   },
   "outputs": [],
   "source": [
    "def make_tree_rand():\n",
    "    ndf = 10\n",
    "    sim = [[random.random() for i in range(ndf)] for j in range(ndf)]\n",
    "    seq = [i for i in range(ndf)]\n",
    "\n",
    "    nodes = [random.choice() for i in range(ndf)]\n",
    "    n_iter = 10\n",
    "    \n",
    "    ### Initialize tree\n",
    "    tree = []# [0 for x in range(ndf-1)]\n",
    "    \n",
    "    j_nodes = [z for z in range(ndf)]\n",
    "    j_nodes.remove(i)\n",
    "    for j in j_nodes: \n",
    "        tree.append([i,j])\n",
    "                #similarity_matrix sim\n",
    "    for i in range(n_iter):\n",
    "        #print \"begin\", i\n",
    "            ## Initialize tree starting with i\n",
    "\n",
    "                \n",
    "        n_iters = 1\n",
    "        for iteration in range(n_iters):\n",
    "            \n",
    "            #print tree\n",
    "        #print \"j_nodes\",j_nodes\n",
    "            for j in j_nodes:\n",
    "            #print tree\n",
    "                sim_ij = sim[i][j]\n",
    "            \n",
    "                k_nodes = [z for z in range(ndf)]\n",
    "                k_nodes.remove(j)\n",
    "                k_nodes.remove(i)\n",
    "                #print \"k_nodes\", k_nodes\n",
    "                for k in k_nodes:\n",
    "                #print \"j = \", j, \"k=\", k\n",
    "                    sim_ik = sim[i][k]\n",
    "                    sim_jk = sim[j][k]\n",
    "                    if sim_ik > sim_jk:\n",
    "                        #print j,k, \"> \", i, k\n",
    "                        tree[k-1] = [j,k]\n",
    "                        #print tree\n",
    "            #print \"end iteration\", iteration, tree\n",
    "            #for i in range(len(tree)):\n",
    "            error = sum([sim[ii][jj] for ii,jj in tree])\n",
    "        printsorted(tree)\n",
    "make_tree_rand()"
   ]
  },
  {
   "cell_type": "code",
   "execution_count": null,
   "metadata": {
    "collapsed": false
   },
   "outputs": [],
   "source": [
    "def make_tree_easy():\n",
    "    ndf = 10\n",
    "    sim = [[random.random() for i in range(ndf)] for j in range(ndf)]\n",
    "    seq = [i for i in range(ndf)]\n",
    "\n",
    "    nodes = [random.choice() for i in range(ndf)]\n",
    "    n_iter = 10\n",
    "    \n",
    "    ### Initialize tree\n",
    "    tree = []# [0 for x in range(ndf-1)]\n",
    "    \n",
    "    j_nodes = [z for z in range(ndf)]\n",
    "    j_nodes.remove(i)\n",
    "    for j in j_nodes: \n",
    "        tree.append([i,j])\n",
    "                #similarity_matrix sim\n",
    "    for i in range(n_iter):\n",
    "        #print \"begin\", i\n",
    "            ## Initialize tree starting with i\n",
    "\n",
    "                \n",
    "        n_iters = 1\n",
    "        for iteration in range(n_iters):\n",
    "            \n",
    "            #print tree\n",
    "        #print \"j_nodes\",j_nodes\n",
    "            for j in j_nodes:\n",
    "            #print tree\n",
    "                sim_ij = sim[i][j]\n",
    "            \n",
    "                k_nodes = [z for z in range(ndf)]\n",
    "                k_nodes.remove(j)\n",
    "                k_nodes.remove(i)\n",
    "                #print \"k_nodes\", k_nodes\n",
    "                for k in k_nodes:\n",
    "                #print \"j = \", j, \"k=\", k\n",
    "                    sim_ik = sim[i][k]\n",
    "                    sim_jk = sim[j][k]\n",
    "                    if sim_ik > sim_jk:\n",
    "                        #print j,k, \"> \", i, k\n",
    "                        tree[k-1] = [j,k]\n",
    "                        #print tree\n",
    "            #print \"end iteration\", iteration, tree\n",
    "            #for i in range(len(tree)):\n",
    "            error = sum([sim[ii][jj] for ii,jj in tree])\n",
    "        printsorted(tree)\n",
    "make_tree_easy()"
   ]
  },
  {
   "cell_type": "code",
   "execution_count": null,
   "metadata": {
    "collapsed": true
   },
   "outputs": [],
   "source": [
    "tree = [[0, 1], [0, 2], [0, 3], [0, 4], [0, 5]]"
   ]
  },
  {
   "cell_type": "code",
   "execution_count": null,
   "metadata": {
    "collapsed": true
   },
   "outputs": [],
   "source": [
    "def printsorted(tree):\n",
    "    tree.sort()\n",
    "    tree_dict = {}\n",
    "    for i in range(len(tree)):\n",
    "        if tree[i][0] not in tree_dict:\n",
    "            tree_dict[tree[i][0]] = [tree[i][1]]\n",
    "        else:\n",
    "            tree_dict[tree[i][0]].append(tree[i][1])\n",
    "        \n",
    "    print tree_dict\n",
    "            "
   ]
  }
 ],
 "metadata": {
  "kernelspec": {
   "display_name": "Python 2",
   "language": "python",
   "name": "python2"
  },
  "language_info": {
   "codemirror_mode": {
    "name": "ipython",
    "version": 2
   },
   "file_extension": ".py",
   "mimetype": "text/x-python",
   "name": "python",
   "nbconvert_exporter": "python",
   "pygments_lexer": "ipython2",
   "version": "2.7.11"
  }
 },
 "nbformat": 4,
 "nbformat_minor": 0
}
