{
 "cells": [
  {
   "cell_type": "code",
   "execution_count": 9,
   "metadata": {
    "collapsed": false
   },
   "outputs": [],
   "source": [
    "import csv\n",
    "import pandas as pd\n",
    "import string"
   ]
  },
  {
   "cell_type": "code",
   "execution_count": 99,
   "metadata": {
    "collapsed": false
   },
   "outputs": [],
   "source": [
    "oldup_text = open(\"olduptext.txt\",'r').readlines()\n",
    "yngup_text = open(\"younguptext.txt\",'r').readlines()\n",
    "olddn_text = open(\"olddowntext.txt\",'r').readlines()\n",
    "yngdn_text = open(\"youngdowntext.txt\",'r').readlines()\n",
    "texts = [oldup_text, yngup_text, olddn_text, yngdn_text]"
   ]
  },
  {
   "cell_type": "code",
   "execution_count": 95,
   "metadata": {
    "collapsed": false
   },
   "outputs": [],
   "source": [
    "def get_text(text):\n",
    "    tot = [row for row in text if ' ' in row]\n",
    "    return tot"
   ]
  },
  {
   "cell_type": "code",
   "execution_count": 100,
   "metadata": {
    "collapsed": false
   },
   "outputs": [],
   "source": [
    "texts = [get_text(text) for text in texts]"
   ]
  },
  {
   "cell_type": "code",
   "execution_count": 98,
   "metadata": {
    "collapsed": false
   },
   "outputs": [],
   "source": [
    "replace_punctuation = string.maketrans(string.punctuation, ' '*len(string.punctuation))"
   ]
  },
  {
   "cell_type": "code",
   "execution_count": 67,
   "metadata": {
    "collapsed": false
   },
   "outputs": [],
   "source": [
    "oldup = [s.translate(replace_punctuation) for s in old]\n",
    "yngup = [s.translate(replace_punctuation) for s in yng]\n",
    "olddn = [s.translate(replace_punctuation) for s in old]\n",
    "yngdn = [s.translate(replace_punctuation) for s in yng]"
   ]
  },
  {
   "cell_type": "code",
   "execution_count": 102,
   "metadata": {
    "collapsed": false
   },
   "outputs": [],
   "source": [
    "texts2 = [[s.translate(replace_punctuation) for s in texts[text]] for text in range(len(texts))]"
   ]
  },
  {
   "cell_type": "code",
   "execution_count": 116,
   "metadata": {
    "collapsed": false
   },
   "outputs": [
    {
     "data": {
      "text/plain": [
       "['Colorectal cancer  general schema \\n',\n",
       " 'Development PIP3 signaling in cardiac myocytes\\n',\n",
       " 'Translation Non genomic  rapid  action of Androgen Receptor\\n',\n",
       " 'Transcription Androgen Receptor nuclear signaling\\n',\n",
       " 'Development Adiponectin signaling\\n',\n",
       " 'Cytoskeleton remodeling TGF  WNT and cytoskeletal remodeling\\n',\n",
       " 'Regulation of GSK3 beta in bipolar disorder\\n',\n",
       " 'Immune response IL 15 signaling\\n',\n",
       " 'Ovarian cancer  main signaling cascades \\n',\n",
       " 'Development Regulation of epithelial to mesenchymal transition  EMT \\n',\n",
       " 'Resolution of inflammation in healing myocardial infarction\\n',\n",
       " 'Development Ligand independent activation of ESR1 and ESR2\\n',\n",
       " 'Development Membrane bound ESR1  interaction with growth factors signaling\\n',\n",
       " 'Development HGF signaling pathway\\n',\n",
       " 'Apoptosis and survival NGF activation of NF kB\\n',\n",
       " 'Signal transduction IP3 signaling\\n',\n",
       " 'IL 6 signaling in multiple myeloma\\n',\n",
       " 'Development FGFR signaling pathway\\n',\n",
       " 'Development Role of HDAC and calcium calmodulin dependent kinase  CaMK  in control of skeletal myogenesis\\n',\n",
       " 'Neurophysiological process Dynein dynactin motor complex in axonal transport in neurons\\n',\n",
       " 'Normal and pathological TGF beta mediated regulation of cell proliferation\\n',\n",
       " 'Immune response HMGB1 TLR signaling pathway\\n',\n",
       " 'Role of tumor microenvironment in plexiform neurofibroma formation in neurofibromatosis type 1\\n',\n",
       " 'Cell cycle Regulation of G1 S transition  part 1 \\n',\n",
       " 'Cell adhesion PLAU signaling\\n',\n",
       " 'Transport Macropinocytosis regulation by growth factors\\n',\n",
       " 'Development Regulation of lung epithelial progenitor cell differentiation\\n',\n",
       " 'Development Role of HGF in hematopoietic stem cell mobilization\\n',\n",
       " 'Ligand independent activation of Androgen receptor in Prostate Cancer\\n',\n",
       " 'Development Growth factors in regulation of oligodendrocyte precursor cell proliferation\\n',\n",
       " 'Signal transduction AKT signaling\\n',\n",
       " 'Development A2A receptor signaling\\n',\n",
       " 'Immune response MIF JAB1 signaling\\n',\n",
       " 'Mechanism of action of DGAT1 inhibitors in obesity and diabetes mellitus  type II  Variant 1 \\n',\n",
       " 'Triacylglycerol biosynthesis in obesity and diabetes mellitus  type II\\n',\n",
       " 'FGF signaling in pancreatic cancer\\n',\n",
       " 'wtCFTR and deltaF508 traffic   Membrane expression  normal and CF \\n',\n",
       " 'Development TGF beta dependent induction of EMT via MAPK\\n',\n",
       " 'Immune response TLR5  TLR7  TLR8 and TLR9 signaling pathways\\n',\n",
       " 'Development Melanocyte development and pigmentation\\n',\n",
       " 'Transcription CREB pathway\\n',\n",
       " 'Cell cycle Regulation of G1 S transition  part 2 \\n',\n",
       " 'Development EDNRB signaling\\n',\n",
       " 'Development TGF beta receptor signaling\\n',\n",
       " 'Development A2B receptor  action via G protein alpha s\\n',\n",
       " 'Immune response Function of MEF2 in T lymphocytes\\n',\n",
       " 'Signal transduction PTMs in BAFF induced signaling\\n',\n",
       " 'Development IGF 1 receptor signaling\\n',\n",
       " 'Mitogenic action of Estradiol   ESR1  nuclear  in breast cancer\\n',\n",
       " 'Immune response HMGB1 RAGE signaling pathway\\n']"
      ]
     },
     "execution_count": 116,
     "metadata": {},
     "output_type": "execute_result"
    }
   ],
   "source": [
    "texts2[3]"
   ]
  },
  {
   "cell_type": "code",
   "execution_count": 104,
   "metadata": {
    "collapsed": false
   },
   "outputs": [],
   "source": [
    "word_dict = {}\n",
    "n_text = len(texts2)\n",
    "for i in range(n_text):\n",
    "    for row in texts2[i]:\n",
    "        for word in row.split():\n",
    "            word = word.lower()\n",
    "            if word not in word_dict:\n",
    "                word_dict[word] = [0 for j in range(n_text)]\n",
    "                word_dict[word][i] = 1\n",
    "            else:\n",
    "                word_dict[word][i] += 1\n"
   ]
  },
  {
   "cell_type": "code",
   "execution_count": 115,
   "metadata": {
    "collapsed": false
   },
   "outputs": [
    {
     "data": {
      "text/plain": [
       "['Colorectal cancer  general schema \\n',\n",
       " 'Development PIP3 signaling in cardiac myocytes\\n',\n",
       " 'Translation Non genomic  rapid  action of Androgen Receptor\\n',\n",
       " 'Transcription Androgen Receptor nuclear signaling\\n',\n",
       " 'Development Adiponectin signaling\\n',\n",
       " 'Cytoskeleton remodeling TGF  WNT and cytoskeletal remodeling\\n',\n",
       " 'Regulation of GSK3 beta in bipolar disorder\\n',\n",
       " 'Immune response IL 15 signaling\\n',\n",
       " 'Ovarian cancer  main signaling cascades \\n',\n",
       " 'Development Regulation of epithelial to mesenchymal transition  EMT \\n',\n",
       " 'Resolution of inflammation in healing myocardial infarction\\n',\n",
       " 'Development Ligand independent activation of ESR1 and ESR2\\n',\n",
       " 'Development Membrane bound ESR1  interaction with growth factors signaling\\n',\n",
       " 'Development HGF signaling pathway\\n',\n",
       " 'Apoptosis and survival NGF activation of NF kB\\n',\n",
       " 'Signal transduction IP3 signaling\\n',\n",
       " 'IL 6 signaling in multiple myeloma\\n',\n",
       " 'Development FGFR signaling pathway\\n',\n",
       " 'Development Role of HDAC and calcium calmodulin dependent kinase  CaMK  in control of skeletal myogenesis\\n',\n",
       " 'Neurophysiological process Dynein dynactin motor complex in axonal transport in neurons\\n',\n",
       " 'Normal and pathological TGF beta mediated regulation of cell proliferation\\n',\n",
       " 'Immune response HMGB1 TLR signaling pathway\\n',\n",
       " 'Role of tumor microenvironment in plexiform neurofibroma formation in neurofibromatosis type 1\\n',\n",
       " 'Cell cycle Regulation of G1 S transition  part 1 \\n',\n",
       " 'Cell adhesion PLAU signaling\\n',\n",
       " 'Transport Macropinocytosis regulation by growth factors\\n',\n",
       " 'Development Regulation of lung epithelial progenitor cell differentiation\\n',\n",
       " 'Development Role of HGF in hematopoietic stem cell mobilization\\n',\n",
       " 'Ligand independent activation of Androgen receptor in Prostate Cancer\\n',\n",
       " 'Development Growth factors in regulation of oligodendrocyte precursor cell proliferation\\n',\n",
       " 'Signal transduction AKT signaling\\n',\n",
       " 'Development A2A receptor signaling\\n',\n",
       " 'Immune response MIF JAB1 signaling\\n',\n",
       " 'Mechanism of action of DGAT1 inhibitors in obesity and diabetes mellitus  type II  Variant 1 \\n',\n",
       " 'Triacylglycerol biosynthesis in obesity and diabetes mellitus  type II\\n',\n",
       " 'FGF signaling in pancreatic cancer\\n',\n",
       " 'wtCFTR and deltaF508 traffic   Membrane expression  normal and CF \\n',\n",
       " 'Development TGF beta dependent induction of EMT via MAPK\\n',\n",
       " 'Immune response TLR5  TLR7  TLR8 and TLR9 signaling pathways\\n',\n",
       " 'Development Melanocyte development and pigmentation\\n',\n",
       " 'Transcription CREB pathway\\n',\n",
       " 'Cell cycle Regulation of G1 S transition  part 2 \\n',\n",
       " 'Development EDNRB signaling\\n',\n",
       " 'Development TGF beta receptor signaling\\n',\n",
       " 'Development A2B receptor  action via G protein alpha s\\n',\n",
       " 'Immune response Function of MEF2 in T lymphocytes\\n',\n",
       " 'Signal transduction PTMs in BAFF induced signaling\\n',\n",
       " 'Development IGF 1 receptor signaling\\n',\n",
       " 'Mitogenic action of Estradiol   ESR1  nuclear  in breast cancer\\n',\n",
       " 'Immune response HMGB1 RAGE signaling pathway\\n']"
      ]
     },
     "execution_count": 115,
     "metadata": {},
     "output_type": "execute_result"
    }
   ],
   "source": [
    "texts2[3]"
   ]
  },
  {
   "cell_type": "code",
   "execution_count": 113,
   "metadata": {
    "collapsed": false
   },
   "outputs": [
    {
     "name": "stdout",
     "output_type": "stream",
     "text": [
      "[3, 3, 3, 1] apoptosis\n",
      "[3, 3, 0, 3] activation\n",
      "[7, 2, 5, 7] cell\n",
      "[2, 1, 5, 4] action\n",
      "[5, 5, 1, 2] via\n",
      "[4, 3, 2, 3] transduction\n",
      "[3, 4, 2, 4] 1\n",
      "[4, 12, 3, 6] immune\n",
      "[3, 7, 6, 5] pathway\n",
      "[4, 11, 3, 6] response\n",
      "[1, 2, 2, 1] mediated\n",
      "[5, 5, 0, 1] induced\n",
      "[10, 11, 11, 8] regulation\n",
      "[1, 0, 4, 1] 2\n",
      "[19, 27, 19, 22] signaling\n",
      "[1, 5, 0, 1] translation\n",
      "[4, 1, 4, 2] transcription\n",
      "[3, 5, 3, 4] beta\n",
      "[4, 3, 0, 1] alpha\n",
      "[6, 1, 0, 2] dependent\n",
      "[16, 12, 11, 11] and\n",
      "[5, 2, 1, 5] cancer\n",
      "[0, 8, 0, 2] il\n",
      "[22, 19, 19, 18] in\n",
      "[8, 2, 0, 2] remodeling\n",
      "[15, 15, 14, 19] development\n",
      "[2, 0, 2, 2] cycle\n",
      "[3, 1, 2, 0] the\n",
      "[2, 2, 5, 1] differentiation\n",
      "[4, 2, 2, 1] survival\n",
      "[4, 3, 2, 3] signal\n",
      "[3, 2, 0, 4] tgf\n",
      "[3, 0, 1, 3] growth\n",
      "[2, 1, 1, 2] transport\n",
      "[3, 0, 2, 1] by\n",
      "[29, 19, 15, 21] of\n",
      "[3, 3, 5, 7] receptor\n",
      "[0, 0, 8, 0] metabolism\n",
      "[1, 3, 1, 1] wnt\n",
      "[8, 1, 0, 1] cytoskeleton\n",
      "[11, 4, 2, 3] role\n",
      "[1, 4, 1, 1] pathways\n"
     ]
    }
   ],
   "source": [
    "for word in word_dict:\n",
    "    \n",
    "    if outlier(word_dict[word]):\n",
    "        print word_dict[word], word"
   ]
  },
  {
   "cell_type": "code",
   "execution_count": 93,
   "metadata": {
    "collapsed": false
   },
   "outputs": [
    {
     "name": "stdout",
     "output_type": "stream",
     "text": [
      "yng jak 3 vs 0\n",
      "old factor 5 vs 0\n",
      "old dependent 6 vs 1\n",
      "yng degradation 3 vs 0\n",
      "yng pathway 7 vs 3\n",
      "old emt 3 vs 0\n",
      "old growth 3 vs 0\n",
      "old cell 7 vs 2\n",
      "old adhesion 4 vs 0\n",
      "old remodeling 8 vs 2\n",
      "old by 3 vs 0\n",
      "old of 29 vs 19\n",
      "old cancer 5 vs 2\n",
      "old family 3 vs 0\n",
      "yng 6 3 vs 0\n",
      "yng signaling 27 vs 19\n",
      "yng translation 5 vs 1\n",
      "yng vegf 3 vs 0\n",
      "old and 16 vs 12\n",
      "old tissue 4 vs 0\n",
      "yng il 8 vs 0\n",
      "old in 22 vs 19\n",
      "old cytoskeleton 8 vs 1\n",
      "old transcription 4 vs 1\n",
      "yng immune 12 vs 4\n",
      "old role 11 vs 4\n",
      "yng stat 3 vs 0\n",
      "yng pathways 4 vs 1\n",
      "yng response 11 vs 4\n"
     ]
    }
   ],
   "source": [
    "for word in word_dict:\n",
    "    n_old = word_dict[word][1]\n",
    "    n_yng = word_dict[word][0]\n",
    "    if n_old > n_yng + 2:\n",
    "        print \"old\", word, n_old, \"vs\", n_yng\n",
    "    elif n_yng > n_old + 2:\n",
    "        print \"yng\", word, n_yng, \"vs\", n_old"
   ]
  },
  {
   "cell_type": "code",
   "execution_count": null,
   "metadata": {
    "collapsed": true
   },
   "outputs": [],
   "source": [
    "OLD\n",
    "Cytoskeleton Remodeling\n",
    "Tissue Factor\n",
    "Cell Adhesion\n",
    "\n",
    "YOUNG\n",
    "Immune response IL signaling"
   ]
  },
  {
   "cell_type": "code",
   "execution_count": 87,
   "metadata": {
    "collapsed": false
   },
   "outputs": [
    {
     "data": {
      "text/plain": [
       "['Apoptosis and survival TNF alpha induced Caspase 8 signaling\\n',\n",
       " 'CFTR folding and maturation  normal and CF \\n',\n",
       " 'Regulation of degradation of deltaF508 CFTR in CF\\n',\n",
       " 'Translation Regulation of translation initiation\\n',\n",
       " 'Immune response IL 15 signaling\\n',\n",
       " 'Development G CSF signaling\\n',\n",
       " 'Development EGFR signaling pathway\\n',\n",
       " 'Apoptosis and survival Role of PKR in stress induced apoptosis\\n',\n",
       " 'Development Insulin  IGF 1 and TNF alpha in brown adipocyte differentiation\\n',\n",
       " 'Development Regulation of telomere length and cellular immortalization\\n',\n",
       " 'Immune response Oncostatin M signaling via JAK Stat in human cells\\n',\n",
       " 'Development Beta adrenergic receptors in brown adipocyte differentiation\\n',\n",
       " 'Development Cytokine mediated regulation of megakaryopoiesis\\n',\n",
       " 'Immune response IL 17 signaling pathways\\n',\n",
       " 'Development Glucocorticoid receptor signaling\\n',\n",
       " 'Development Notch Signaling Pathway\\n',\n",
       " 'Development Cross talk between VEGF and Angiopoietin 1 signaling pathways\\n',\n",
       " 'Transcription Role of Akt in hypoxia induced HIF1 activation\\n',\n",
       " 'Immune response IL 13 signaling via PI3K ERK\\n',\n",
       " 'IL 6 signaling in multiple myeloma\\n',\n",
       " 'Immune response IL 6 signaling pathway\\n',\n",
       " 'Signal transduction PTMs in IL 17 induced CIKS dependent MAPK signaling pathways\\n',\n",
       " 'Translation Regulation of EIF4F activity\\n',\n",
       " 'Normal and pathological TGF beta mediated regulation of cell proliferation\\n',\n",
       " 'Aberrant B Raf signaling in melanoma progression\\n',\n",
       " 'Signal transduction PTMs in BAFF induced non canonical NF kB signaling\\n',\n",
       " 'Immune response IL 22 signaling pathway\\n',\n",
       " 'Immune response Oncostatin M signaling via JAK Stat in mouse cells\\n',\n",
       " 'Transport RAN regulation pathway\\n',\n",
       " 'Multiple myeloma  general schema \\n',\n",
       " 'Cytoskeleton remodeling TGF  WNT and cytoskeletal remodeling\\n',\n",
       " 'Development VEGF signaling via VEGFR2   generic cascades\\n',\n",
       " 'Development WNT signaling pathway  Part 1  Degradation of beta catenin in the absence WNT signaling\\n',\n",
       " 'Role of tumor microenvironment in plexiform neurofibroma formation in neurofibromatosis type 1\\n',\n",
       " 'Development Neural stem cell lineage commitment  schema \\n',\n",
       " 'Signal transduction Soluble CXCL16 signaling\\n',\n",
       " 'Immune response TSLP signalling\\n',\n",
       " 'Regulation of degradation of wtCFTR\\n',\n",
       " 'Immune response CD40 signaling\\n',\n",
       " 'Translation Insulin regulation of translation\\n',\n",
       " 'Immune response IL 15 signaling via JAK STAT cascade\\n',\n",
       " 'LRRK2 and immune function in Parkinson s disease\\n',\n",
       " 'Ligand independent activation of Androgen receptor in Prostate Cancer\\n',\n",
       " 'Development VEGF signaling and activation\\n',\n",
       " 'Development A2A receptor signaling\\n',\n",
       " 'Action of GSK3 beta in bipolar disorder\\n',\n",
       " 'K RAS signaling in pancreatic cancer\\n',\n",
       " 'Development Positive regulation of STK3 4  Hippo  pathway and negative regulation of YAP TAZ function\\n',\n",
       " 'Immune response TNF R2 signaling pathways\\n',\n",
       " 'Role of alpha 6 beta 4 integrins in carcinoma progression\\n']"
      ]
     },
     "execution_count": 87,
     "metadata": {},
     "output_type": "execute_result"
    }
   ],
   "source": [
    "yng"
   ]
  },
  {
   "cell_type": "code",
   "execution_count": 88,
   "metadata": {
    "collapsed": false
   },
   "outputs": [
    {
     "data": {
      "text/plain": [
       "['Cytoskeleton remodeling TGF  WNT and cytoskeletal remodeling\\n',\n",
       " 'Cytoskeleton remodeling Regulation of actin cytoskeleton by Rho GTPases\\n',\n",
       " 'Development S1P2 and S1P3 receptors in cell proliferation and differentiation\\n',\n",
       " 'Transcription Role of Akt in hypoxia induced HIF1 activation\\n',\n",
       " 'Development TGF beta dependent induction of EMT via RhoA  PI3K and ILK \\n',\n",
       " 'Development Slit Robo signaling\\n',\n",
       " 'p53 signaling in Prostate Cancer\\n',\n",
       " 'Development Role of HDAC and calcium calmodulin dependent kinase  CaMK  in control of skeletal myogenesis\\n',\n",
       " 'Cell adhesion Chemokines and adhesion\\n',\n",
       " 'Immune response  CCR3 signaling in eosinophils\\n',\n",
       " 'Cell adhesion Role of tetraspanins in the integrin mediated cell adhesion\\n',\n",
       " 'Cytoskeleton remodeling Cytoskeleton remodeling\\n',\n",
       " 'Cell cycle Role of 14 3 3 proteins in cell cycle regulation\\n',\n",
       " 'Signal transduction PTMs  ubiquitination and phosphorylation  in TNF alpha induced NF kB signaling\\n',\n",
       " 'Immune response IFN alpha beta signaling pathway\\n',\n",
       " 'Regulation of Tissue factor signaling in cancer\\n',\n",
       " 'Transcription Sin3 and NuRD in transcription regulation\\n',\n",
       " 'Role of Tissue factor induced Thrombin signaling in cancerogenesis\\n',\n",
       " 'High shear stress induced platelet activation\\n',\n",
       " 'Immune response Inhibitory action of Lipoxins on pro inflammatory TNF alpha signaling\\n',\n",
       " 'Development Endothelin 1 EDNRA transactivation of EGFR\\n',\n",
       " 'Signal transduction PTEN pathway\\n',\n",
       " 'Development Positive regulation of STK3 4  Hippo  pathway and negative regulation of YAP TAZ function\\n',\n",
       " 'Tissue Factor signaling in cancer via PAR1 and PAR2\\n',\n",
       " 'Transport The role of AVP in regulation of Aquaporin 2 and renal water reabsorption\\n',\n",
       " 'Signal transduction PTMs in BAFF induced signaling\\n',\n",
       " 'Development IGF 1 receptor signaling\\n',\n",
       " 'Blood coagulation GPIb IX V dependent platelet activation\\n',\n",
       " 'Translation Regulation of EIF4F activity\\n',\n",
       " 'Development CNTF receptor signaling\\n',\n",
       " 'Apoptosis and survival Role of CDK5 in neuronal death and survival\\n',\n",
       " 'Development TGF beta dependent induction of EMT via SMADs\\n',\n",
       " 'Role of Tissue factor in cancer independent of coagulation protease signaling\\n',\n",
       " 'Role of growth factor receptors transactivation by Hyaluronic acid   CD44 signaling in tumor progression\\n',\n",
       " 'Development MAG dependent inhibition of neurite outgrowth\\n',\n",
       " 'Cytoskeleton remodeling Alpha 1A adrenergic receptor dependent inhibition of PI3K\\n',\n",
       " 'IGF family signaling in colorectal cancer\\n',\n",
       " 'Development Gastrin in differentiation of the gastric mucosa\\n',\n",
       " 'Signal transduction Soluble CXCL16 signaling\\n',\n",
       " 'Transport Macropinocytosis regulation by growth factors\\n',\n",
       " 'Transcription Role of heterochromatin protein 1  HP1  family in transcriptional silencing\\n',\n",
       " 'Development Role of HGF in hematopoietic stem cell mobilization\\n',\n",
       " 'Development Regulation of epithelial to mesenchymal transition  EMT \\n',\n",
       " 'Development Neurotrophin family signaling\\n',\n",
       " 'Cytoskeleton remodeling CDC42 in cellular processes\\n',\n",
       " 'Apoptosis and survival BAD phosphorylation\\n',\n",
       " 'Development Growth hormone signaling via PI3K AKT and MAPK cascades\\n',\n",
       " 'Immune response Substance P stimulated expression of proinflammatory cytokines via MAPKs\\n',\n",
       " 'Cytoskeleton remodeling Hyaluronic acid  CD44 signaling pathways\\n',\n",
       " 'Apoptosis and survival Anti apoptotic action of Gastrin\\n']"
      ]
     },
     "execution_count": 88,
     "metadata": {},
     "output_type": "execute_result"
    }
   ],
   "source": [
    "old"
   ]
  },
  {
   "cell_type": "code",
   "execution_count": 76,
   "metadata": {
    "collapsed": false
   },
   "outputs": [
    {
     "name": "stdout",
     "output_type": "stream",
     "text": [
      "2 OLD Development S1P2 and S1P3 receptors in cell proliferation and differentiation\n",
      "\n",
      "4 OLD Development TGF beta dependent induction of EMT via RhoA  PI3K and ILK \n",
      "\n",
      "5 OLD Development Slit Robo signaling\n",
      "\n",
      "5 YNG Development G CSF signaling\n",
      "\n",
      "6 YNG Development EGFR signaling pathway\n",
      "\n",
      "7 OLD Development Role of HDAC and calcium calmodulin dependent kinase  CaMK  in control of skeletal myogenesis\n",
      "\n",
      "8 YNG Development Insulin  IGF 1 and TNF alpha in brown adipocyte differentiation\n",
      "\n",
      "9 YNG Development Regulation of telomere length and cellular immortalization\n",
      "\n",
      "11 YNG Development Beta adrenergic receptors in brown adipocyte differentiation\n",
      "\n",
      "12 YNG Development Cytokine mediated regulation of megakaryopoiesis\n",
      "\n",
      "14 YNG Development Glucocorticoid receptor signaling\n",
      "\n",
      "15 YNG Development Notch Signaling Pathway\n",
      "\n",
      "16 YNG Development Cross talk between VEGF and Angiopoietin 1 signaling pathways\n",
      "\n",
      "20 OLD Development Endothelin 1 EDNRA transactivation of EGFR\n",
      "\n",
      "22 OLD Development Positive regulation of STK3 4  Hippo  pathway and negative regulation of YAP TAZ function\n",
      "\n",
      "26 OLD Development IGF 1 receptor signaling\n",
      "\n",
      "29 OLD Development CNTF receptor signaling\n",
      "\n",
      "31 OLD Development TGF beta dependent induction of EMT via SMADs\n",
      "\n",
      "31 YNG Development VEGF signaling via VEGFR2   generic cascades\n",
      "\n",
      "32 YNG Development WNT signaling pathway  Part 1  Degradation of beta catenin in the absence WNT signaling\n",
      "\n",
      "34 OLD Development MAG dependent inhibition of neurite outgrowth\n",
      "\n",
      "34 YNG Development Neural stem cell lineage commitment  schema \n",
      "\n",
      "37 OLD Development Gastrin in differentiation of the gastric mucosa\n",
      "\n",
      "41 OLD Development Role of HGF in hematopoietic stem cell mobilization\n",
      "\n",
      "42 OLD Development Regulation of epithelial to mesenchymal transition  EMT \n",
      "\n",
      "43 OLD Development Neurotrophin family signaling\n",
      "\n",
      "43 YNG Development VEGF signaling and activation\n",
      "\n",
      "44 YNG Development A2A receptor signaling\n",
      "\n",
      "46 OLD Development Growth hormone signaling via PI3K AKT and MAPK cascades\n",
      "\n",
      "47 YNG Development Positive regulation of STK3 4  Hippo  pathway and negative regulation of YAP TAZ function\n",
      "\n"
     ]
    }
   ],
   "source": [
    "for i in range(len(old)):\n",
    "    if \"Development\" in old[i]:\n",
    "        print i, \"OLD\", old[i]\n",
    "    if \"Development\" in yng[i]:\n",
    "        print i, \"YNG\", yng[i]"
   ]
  },
  {
   "cell_type": "code",
   "execution_count": 71,
   "metadata": {
    "collapsed": true
   },
   "outputs": [],
   "source": [
    "dev_old = [s for s in old if \"Development\" in s]\n",
    "dev_yng = [s for s in yng if \"Development\" in s]"
   ]
  },
  {
   "cell_type": "code",
   "execution_count": 72,
   "metadata": {
    "collapsed": false
   },
   "outputs": [
    {
     "data": {
      "text/plain": [
       "['Development S1P2 and S1P3 receptors in cell proliferation and differentiation\\n',\n",
       " 'Development TGF beta dependent induction of EMT via RhoA  PI3K and ILK \\n',\n",
       " 'Development Slit Robo signaling\\n',\n",
       " 'Development Role of HDAC and calcium calmodulin dependent kinase  CaMK  in control of skeletal myogenesis\\n',\n",
       " 'Development Endothelin 1 EDNRA transactivation of EGFR\\n',\n",
       " 'Development Positive regulation of STK3 4  Hippo  pathway and negative regulation of YAP TAZ function\\n',\n",
       " 'Development IGF 1 receptor signaling\\n',\n",
       " 'Development CNTF receptor signaling\\n',\n",
       " 'Development TGF beta dependent induction of EMT via SMADs\\n',\n",
       " 'Development MAG dependent inhibition of neurite outgrowth\\n',\n",
       " 'Development Gastrin in differentiation of the gastric mucosa\\n',\n",
       " 'Development Role of HGF in hematopoietic stem cell mobilization\\n',\n",
       " 'Development Regulation of epithelial to mesenchymal transition  EMT \\n',\n",
       " 'Development Neurotrophin family signaling\\n',\n",
       " 'Development Growth hormone signaling via PI3K AKT and MAPK cascades\\n']"
      ]
     },
     "execution_count": 72,
     "metadata": {},
     "output_type": "execute_result"
    }
   ],
   "source": [
    "dev_old"
   ]
  },
  {
   "cell_type": "code",
   "execution_count": 73,
   "metadata": {
    "collapsed": false
   },
   "outputs": [
    {
     "data": {
      "text/plain": [
       "['Development G CSF signaling\\n',\n",
       " 'Development EGFR signaling pathway\\n',\n",
       " 'Development Insulin  IGF 1 and TNF alpha in brown adipocyte differentiation\\n',\n",
       " 'Development Regulation of telomere length and cellular immortalization\\n',\n",
       " 'Development Beta adrenergic receptors in brown adipocyte differentiation\\n',\n",
       " 'Development Cytokine mediated regulation of megakaryopoiesis\\n',\n",
       " 'Development Glucocorticoid receptor signaling\\n',\n",
       " 'Development Notch Signaling Pathway\\n',\n",
       " 'Development Cross talk between VEGF and Angiopoietin 1 signaling pathways\\n',\n",
       " 'Development VEGF signaling via VEGFR2   generic cascades\\n',\n",
       " 'Development WNT signaling pathway  Part 1  Degradation of beta catenin in the absence WNT signaling\\n',\n",
       " 'Development Neural stem cell lineage commitment  schema \\n',\n",
       " 'Development VEGF signaling and activation\\n',\n",
       " 'Development A2A receptor signaling\\n',\n",
       " 'Development Positive regulation of STK3 4  Hippo  pathway and negative regulation of YAP TAZ function\\n']"
      ]
     },
     "execution_count": 73,
     "metadata": {},
     "output_type": "execute_result"
    }
   ],
   "source": [
    "dev_yng"
   ]
  },
  {
   "cell_type": "code",
   "execution_count": 40,
   "metadata": {
    "collapsed": false
   },
   "outputs": [
    {
     "name": "stdout",
     "output_type": "stream",
     "text": [
      "-14\n",
      "6\n",
      "-30\n",
      "3\n",
      "-25\n"
     ]
    }
   ],
   "source": [
    "for row in yng:\n",
    "    if row in old:\n",
    "        index1 = old.index(row)\n",
    "        index2 = yng.index(row)\n",
    "        print index1 - index2\n",
    "        #print \"x\""
   ]
  },
  {
   "cell_type": "code",
   "execution_count": 44,
   "metadata": {
    "collapsed": false
   },
   "outputs": [
    {
     "name": "stdout",
     "output_type": "stream",
     "text": [
      "Cytoskeleton remodeling_TGF, WNT and cytoskeletal remodeling\n",
      "\n",
      "Cytoskeleton remodeling_Regulation of actin cytoskeleton by Rho GTPases\n",
      "\n",
      "Development_S1P2 and S1P3 receptors in cell proliferation and differentiation\n",
      "\n",
      "Transcription_Role of Akt in hypoxia induced HIF1 activation\n",
      "\n",
      "Development_TGF-beta-dependent induction of EMT via RhoA, PI3K and ILK.\n",
      "\n",
      "Development_Slit-Robo signaling\n",
      "\n",
      "p53 signaling in Prostate Cancer\n",
      "\n",
      "Development_Role of HDAC and calcium/calmodulin-dependent kinase (CaMK) in control of skeletal myogenesis\n",
      "\n",
      "Cell adhesion_Chemokines and adhesion\n",
      "\n",
      "Immune response _CCR3 signaling in eosinophils\n",
      "\n",
      "Cell adhesion_Role of tetraspanins in the integrin-mediated cell adhesion\n",
      "\n",
      "Cytoskeleton remodeling_Cytoskeleton remodeling\n",
      "\n",
      "Cell cycle_Role of 14-3-3 proteins in cell cycle regulation\n",
      "\n",
      "Signal transduction_PTMs (ubiquitination and phosphorylation) in TNF-alpha-induced NF-kB signaling\n",
      "\n",
      "Immune response_IFN alpha/beta signaling pathway\n",
      "\n",
      "Regulation of Tissue factor signaling in cancer\n",
      "\n",
      "Transcription_Sin3 and NuRD in transcription regulation\n",
      "\n",
      "Role of Tissue factor-induced Thrombin signaling in cancerogenesis\n",
      "\n",
      "High shear stress-induced platelet activation\n",
      "\n",
      "Immune response_Inhibitory action of Lipoxins on pro-inflammatory TNF-alpha signaling\n",
      "\n",
      "Development_Endothelin-1/EDNRA transactivation of EGFR\n",
      "\n",
      "Signal transduction_PTEN pathway\n",
      "\n",
      "Development_Positive regulation of STK3/4 (Hippo) pathway and negative regulation of YAP/TAZ function\n",
      "\n",
      "Tissue Factor signaling in cancer via PAR1 and PAR2\n",
      "\n",
      "Transport_The role of AVP in regulation of Aquaporin 2 and renal water reabsorption\n",
      "\n",
      "Signal transduction_PTMs in BAFF-induced signaling\n",
      "\n",
      "Development_IGF-1 receptor signaling\n",
      "\n",
      "Blood coagulation_GPIb-IX-V-dependent platelet activation\n",
      "\n",
      "Translation_Regulation of EIF4F activity\n",
      "\n",
      "Development_CNTF receptor signaling\n",
      "\n",
      "Apoptosis and survival_Role of CDK5 in neuronal death and survival\n",
      "\n",
      "Development_TGF-beta-dependent induction of EMT via SMADs\n",
      "\n",
      "Role of Tissue factor in cancer independent of coagulation protease signaling\n",
      "\n",
      "Role of growth factor receptors transactivation by Hyaluronic acid / CD44 signaling in tumor progression\n",
      "\n",
      "Development_MAG-dependent inhibition of neurite outgrowth\n",
      "\n",
      "Cytoskeleton remodeling_Alpha-1A adrenergic receptor-dependent inhibition of PI3K\n",
      "\n",
      "IGF family signaling in colorectal cancer\n",
      "\n",
      "Development_Gastrin in differentiation of the gastric mucosa\n",
      "\n",
      "Signal transduction_Soluble CXCL16 signaling\n",
      "\n",
      "Transport_Macropinocytosis regulation by growth factors\n",
      "\n",
      "Transcription_Role of heterochromatin protein 1 (HP1) family in transcriptional silencing\n",
      "\n",
      "Development_Role of HGF in hematopoietic stem cell mobilization\n",
      "\n",
      "Development_Regulation of epithelial-to-mesenchymal transition (EMT)\n",
      "\n",
      "Development_Neurotrophin family signaling\n",
      "\n",
      "Cytoskeleton remodeling_CDC42 in cellular processes\n",
      "\n",
      "Apoptosis and survival_BAD phosphorylation\n",
      "\n",
      "Development_Growth hormone signaling via PI3K/AKT and MAPK cascades\n",
      "\n",
      "Immune response_Substance P-stimulated expression of proinflammatory cytokines via MAPKs\n",
      "\n",
      "Cytoskeleton remodeling_Hyaluronic acid/ CD44 signaling pathways\n",
      "\n",
      "Apoptosis and survival_Anti-apoptotic action of Gastrin\n",
      "\n"
     ]
    }
   ],
   "source": [
    "for row in old:\n",
    "    row.replace('_',' ')\n",
    "    print row"
   ]
  },
  {
   "cell_type": "code",
   "execution_count": 12,
   "metadata": {
    "collapsed": false
   },
   "outputs": [
    {
     "data": {
      "text/plain": [
       "['Cytoskeleton remodeling_TGF, WNT and cytoskeletal remodeling\\n',\n",
       " '4.490e-5\\t1.889e-2\\t\\n',\n",
       " '10/111\\n',\n",
       " '\\t2\\t\\n',\n",
       " 'Cytoskeleton remodeling_Regulation of actin cytoskeleton by Rho GTPases\\n',\n",
       " '5.831e-5\\t1.889e-2\\t\\n',\n",
       " '5/23\\n',\n",
       " '\\t3\\t\\n',\n",
       " 'Development_S1P2 and S1P3 receptors in cell proliferation and differentiation\\n',\n",
       " '1.089e-4\\t2.132e-2\\t\\n',\n",
       " '5/26\\n',\n",
       " '\\t4\\t\\n',\n",
       " 'Transcription_Role of Akt in hypoxia induced HIF1 activation\\n',\n",
       " '1.316e-4\\t2.132e-2\\t\\n',\n",
       " '5/27\\n',\n",
       " '\\t5\\t\\n',\n",
       " 'Development_TGF-beta-dependent induction of EMT via RhoA, PI3K and ILK.\\n',\n",
       " '2.100e-4\\t2.396e-2\\t\\n',\n",
       " '6/46\\n',\n",
       " '\\t6\\t\\n',\n",
       " 'Development_Slit-Robo signaling\\n',\n",
       " '2.218e-4\\t2.396e-2\\t\\n',\n",
       " '5/30\\n',\n",
       " '\\t7\\t\\n',\n",
       " 'p53 signaling in Prostate Cancer\\n',\n",
       " '3.529e-4\\t3.267e-2\\t\\n',\n",
       " '5/33\\n',\n",
       " '\\t8\\t\\n',\n",
       " 'Development_Role of HDAC and calcium/calmodulin-dependent kinase (CaMK) in control of skeletal myogenesis\\n',\n",
       " '5.110e-4\\t3.452e-2\\t\\n',\n",
       " '6/54\\n',\n",
       " '\\t9\\t\\n',\n",
       " 'Cell adhesion_Chemokines and adhesion\\n',\n",
       " '5.909e-4\\t3.452e-2\\t\\n',\n",
       " '8/100\\n',\n",
       " '\\t10\\t\\n',\n",
       " 'Immune response _CCR3 signaling in eosinophils\\n',\n",
       " '6.058e-4\\t3.452e-2\\t\\n',\n",
       " '7/77\\n',\n",
       " '\\t11\\t\\n',\n",
       " 'Cell adhesion_Role of tetraspanins in the integrin-mediated cell adhesion\\n',\n",
       " '6.098e-4\\t3.452e-2\\t\\n',\n",
       " '5/37\\n',\n",
       " '\\t12\\t\\n',\n",
       " 'Cytoskeleton remodeling_Cytoskeleton remodeling\\n',\n",
       " '6.744e-4\\t3.452e-2\\t\\n',\n",
       " '8/102\\n',\n",
       " '\\t13\\t\\n',\n",
       " 'Cell cycle_Role of 14-3-3 proteins in cell cycle regulation\\n',\n",
       " '6.926e-4\\t3.452e-2\\t\\n',\n",
       " '4/22\\n',\n",
       " '\\t14\\t\\n',\n",
       " 'Signal transduction_PTMs (ubiquitination and phosphorylation) in TNF-alpha-induced NF-kB signaling\\n',\n",
       " '7.812e-4\\t3.616e-2\\t\\n',\n",
       " '5/39\\n',\n",
       " '\\t15\\t\\n',\n",
       " 'Immune response_IFN alpha/beta signaling pathway\\n',\n",
       " '9.768e-4\\t4.220e-2\\t\\n',\n",
       " '4/24\\n',\n",
       " '\\t16\\t\\n',\n",
       " 'Regulation of Tissue factor signaling in cancer\\n',\n",
       " '1.229e-3\\t4.925e-2\\t\\n',\n",
       " '5/43\\n',\n",
       " '\\t17\\t\\n',\n",
       " 'Transcription_Sin3 and NuRD in transcription regulation\\n',\n",
       " '1.366e-3\\t4.925e-2\\t\\n',\n",
       " '5/44\\n',\n",
       " '\\t18\\t\\n',\n",
       " 'Role of Tissue factor-induced Thrombin signaling in cancerogenesis\\n',\n",
       " '1.491e-3\\t4.925e-2\\t\\n',\n",
       " '6/66\\n',\n",
       " '\\t19\\t\\n',\n",
       " 'High shear stress-induced platelet activation\\n',\n",
       " '1.672e-3\\t4.925e-2\\t\\n',\n",
       " '5/46\\n',\n",
       " '\\t20\\t\\n',\n",
       " 'Immune response_Inhibitory action of Lipoxins on pro-inflammatory TNF-alpha signaling\\n',\n",
       " '1.672e-3\\t4.925e-2\\t\\n',\n",
       " '5/46\\n',\n",
       " '\\t21\\t\\n',\n",
       " 'Development_Endothelin-1/EDNRA transactivation of EGFR\\n',\n",
       " '1.672e-3\\t4.925e-2\\t\\n',\n",
       " '5/46\\n',\n",
       " '\\t22\\t\\n',\n",
       " 'Signal transduction_PTEN pathway\\n',\n",
       " '1.672e-3\\t4.925e-2\\t\\n',\n",
       " '5/46\\n',\n",
       " '\\t23\\t\\n',\n",
       " 'Development_Positive regulation of STK3/4 (Hippo) pathway and negative regulation of YAP/TAZ function\\n',\n",
       " '2.023e-3\\t5.699e-2\\t\\n',\n",
       " '6/70\\n',\n",
       " '\\t24\\t\\n',\n",
       " 'Tissue Factor signaling in cancer via PAR1 and PAR2\\n',\n",
       " '2.222e-3\\t6.000e-2\\t\\n',\n",
       " '5/49\\n',\n",
       " '\\t25\\t\\n',\n",
       " 'Transport_The role of AVP in regulation of Aquaporin 2 and renal water reabsorption\\n',\n",
       " '2.432e-3\\t6.304e-2\\t\\n',\n",
       " '5/50\\n',\n",
       " '\\t26\\t\\n',\n",
       " 'Signal transduction_PTMs in BAFF-induced signaling\\n',\n",
       " '2.656e-3\\t6.619e-2\\t\\n',\n",
       " '5/51\\n',\n",
       " '\\t27\\t\\n',\n",
       " 'Development_IGF-1 receptor signaling\\n',\n",
       " '2.894e-3\\t6.946e-2\\t\\n',\n",
       " '5/52\\n',\n",
       " '\\t28\\t\\n',\n",
       " 'Blood coagulation_GPIb-IX-V-dependent platelet activation\\n',\n",
       " '3.073e-3\\t7.033e-2\\t\\n',\n",
       " '6/76\\n',\n",
       " '\\t29\\t\\n',\n",
       " 'Translation_Regulation of EIF4F activity\\n',\n",
       " '3.148e-3\\t7.033e-2\\t\\n',\n",
       " '5/53\\n',\n",
       " '\\t30\\t\\n',\n",
       " 'Development_CNTF receptor signaling\\n',\n",
       " '3.681e-3\\t7.694e-2\\t\\n',\n",
       " '4/34\\n',\n",
       " '\\t31\\t\\n',\n",
       " 'Apoptosis and survival_Role of CDK5 in neuronal death and survival\\n',\n",
       " '3.681e-3\\t7.694e-2\\t\\n',\n",
       " '4/34\\n',\n",
       " '\\t32\\t\\n',\n",
       " 'Development_TGF-beta-dependent induction of EMT via SMADs\\n',\n",
       " '4.095e-3\\t7.805e-2\\t\\n',\n",
       " '4/35\\n',\n",
       " '\\t33\\t\\n',\n",
       " 'Role of Tissue factor in cancer independent of coagulation protease signaling\\n',\n",
       " '4.095e-3\\t7.805e-2\\t\\n',\n",
       " '4/35\\n',\n",
       " '\\t34\\t\\n',\n",
       " 'Role of growth factor receptors transactivation by Hyaluronic acid / CD44 signaling in tumor progression\\n',\n",
       " '4.095e-3\\t7.805e-2\\t\\n',\n",
       " '4/35\\n',\n",
       " '\\t35\\t\\n',\n",
       " 'Development_MAG-dependent inhibition of neurite outgrowth\\n',\n",
       " '5.016e-3\\t9.180e-2\\t\\n',\n",
       " '4/37\\n',\n",
       " '\\t36\\t\\n',\n",
       " 'Cytoskeleton remodeling_Alpha-1A adrenergic receptor-dependent inhibition of PI3K\\n',\n",
       " '5.155e-3\\t9.180e-2\\t\\n',\n",
       " '3/19\\n',\n",
       " '\\t37\\t\\n',\n",
       " 'IGF family signaling in colorectal cancer\\n',\n",
       " '5.389e-3\\t9.180e-2\\t\\n',\n",
       " '5/60\\n',\n",
       " '\\t38\\t\\n',\n",
       " 'Development_Gastrin in differentiation of the gastric mucosa\\n',\n",
       " '5.525e-3\\t9.180e-2\\t\\n',\n",
       " '4/38\\n',\n",
       " '\\t39\\t\\n',\n",
       " 'Signal transduction_Soluble CXCL16 signaling\\n',\n",
       " '5.525e-3\\t9.180e-2\\t\\n',\n",
       " '4/38\\n',\n",
       " '\\t40\\t\\n',\n",
       " 'Transport_Macropinocytosis regulation by growth factors\\n',\n",
       " '6.628e-3\\t1.050e-1\\t\\n',\n",
       " '5/63\\n',\n",
       " '\\t41\\t\\n',\n",
       " 'Transcription_Role of heterochromatin protein 1 (HP1) family in transcriptional silencing\\n',\n",
       " '6.644e-3\\t1.050e-1\\t\\n',\n",
       " '4/40\\n',\n",
       " '\\t42\\t\\n',\n",
       " 'Development_Role of HGF in hematopoietic stem cell mobilization\\n',\n",
       " '6.882e-3\\t1.062e-1\\t\\n',\n",
       " '3/21\\n',\n",
       " '\\t43\\t\\n',\n",
       " 'Development_Regulation of epithelial-to-mesenchymal transition (EMT)\\n',\n",
       " '7.082e-3\\t1.067e-1\\t\\n',\n",
       " '5/64\\n',\n",
       " '\\t44\\t\\n',\n",
       " 'Development_Neurotrophin family signaling\\n',\n",
       " '7.255e-3\\t1.069e-1\\t\\n',\n",
       " '4/41\\n',\n",
       " '\\t45\\t\\n',\n",
       " 'Cytoskeleton remodeling_CDC42 in cellular processes\\n',\n",
       " '7.859e-3\\t1.090e-1\\t\\n',\n",
       " '3/22\\n',\n",
       " '\\t46\\t\\n',\n",
       " 'Apoptosis and survival_BAD phosphorylation\\n',\n",
       " '7.903e-3\\t1.090e-1\\t\\n',\n",
       " '4/42\\n',\n",
       " '\\t47\\t\\n',\n",
       " 'Development_Growth hormone signaling via PI3K/AKT and MAPK cascades\\n',\n",
       " '7.903e-3\\t1.090e-1\\t\\n',\n",
       " '4/42\\n',\n",
       " '\\t48\\t\\n',\n",
       " 'Immune response_Substance P-stimulated expression of proinflammatory cytokines via MAPKs\\n',\n",
       " '8.588e-3\\t1.113e-1\\t\\n',\n",
       " '4/43\\n',\n",
       " '\\t49\\t\\n',\n",
       " 'Cytoskeleton remodeling_Hyaluronic acid/ CD44 signaling pathways\\n',\n",
       " '8.588e-3\\t1.113e-1\\t\\n',\n",
       " '4/43\\n',\n",
       " '\\t50\\t\\n',\n",
       " 'Apoptosis and survival_Anti-apoptotic action of Gastrin\\n',\n",
       " '8.588e-3\\t1.113e-1\\t\\n',\n",
       " '4/43\"\\n']"
      ]
     },
     "execution_count": 12,
     "metadata": {},
     "output_type": "execute_result"
    }
   ],
   "source": [
    "text"
   ]
  },
  {
   "cell_type": "code",
   "execution_count": null,
   "metadata": {
    "collapsed": true
   },
   "outputs": [],
   "source": []
  }
 ],
 "metadata": {
  "kernelspec": {
   "display_name": "Python 2",
   "language": "python",
   "name": "python2"
  },
  "language_info": {
   "codemirror_mode": {
    "name": "ipython",
    "version": 2
   },
   "file_extension": ".py",
   "mimetype": "text/x-python",
   "name": "python",
   "nbconvert_exporter": "python",
   "pygments_lexer": "ipython2",
   "version": "2.7.11"
  }
 },
 "nbformat": 4,
 "nbformat_minor": 0
}
